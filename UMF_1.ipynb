{
 "cells": [
  {
   "cell_type": "markdown",
   "metadata": {
    "hidePrompt": false
   },
   "source": [
    "# Решение краевой задачи для волнового уравнения\n",
    "## Выполнил студент группы МП-30 Буканов Никита"
   ]
  },
  {
   "cell_type": "markdown",
   "metadata": {
    "hidePrompt": false
   },
   "source": [
    "## Задача:\n",
    "Струна конечной длины. Правый конец струны закреплен, левый движется по закону:\n",
    "$\\large a\\big [\\frac{(t-t_0)^2}{\\tau^2}+1\\big ]^{-1}-a\\big [\\frac{t_0^2}{\\tau^2}+1\\big ]^{-1}$\n",
    "\n"
   ]
  },
  {
   "cell_type": "markdown",
   "metadata": {
    "hidePrompt": false
   },
   "source": [
    "## Параметры:"
   ]
  },
  {
   "cell_type": "code",
   "execution_count": 1,
   "metadata": {
    "hidePrompt": false
   },
   "outputs": [
    {
     "data": {
      "application/vnd.jupyter.widget-view+json": {
       "model_id": "a53b5643cded41e8a58d719344612459",
       "version_major": 2,
       "version_minor": 0
      },
      "text/html": [
       "<p>Failed to display Jupyter Widget of type <code>VBox</code>.</p>\n",
       "<p>\n",
       "  If you're reading this message in the Jupyter Notebook or JupyterLab Notebook, it may mean\n",
       "  that the widgets JavaScript is still loading. If this message persists, it\n",
       "  likely means that the widgets JavaScript library is either not installed or\n",
       "  not enabled. See the <a href=\"https://ipywidgets.readthedocs.io/en/stable/user_install.html\">Jupyter\n",
       "  Widgets Documentation</a> for setup instructions.\n",
       "</p>\n",
       "<p>\n",
       "  If you're reading this message in another frontend (for example, a static\n",
       "  rendering on GitHub or <a href=\"https://nbviewer.jupyter.org/\">NBViewer</a>),\n",
       "  it may mean that your frontend doesn't currently support widgets.\n",
       "</p>\n"
      ],
      "text/plain": [
       "VBox(children=(HBox(children=(Label(value='$\\\\large p_l$ -линейная плотность'), BoundedFloatText(value=1.0, step=0.01))), HBox(children=(Label(value='$\\\\large T$ -сила натяжения струны'), BoundedFloatText(value=1.0, step=0.01))), HBox(children=(Label(value='$\\\\large l$ -длина струны'), BoundedFloatText(value=1.0, step=0.01))), HBox(children=(Label(value='$\\\\large a$ -амплитуда импульса'), BoundedFloatText(value=1.0, step=0.01))), HBox(children=(Label(value='$\\\\large t_0$ -время подачи импульса'), BoundedFloatText(value=1.0, step=0.01))), HBox(children=(Label(value='$\\\\large t$ -характерное время нарастания/спадания импульса'), BoundedFloatText(value=1.0, step=0.01)))))"
      ]
     },
     "metadata": {},
     "output_type": "display_data"
    }
   ],
   "source": [
    "import numpy as np\n",
    "import ipywidgets as widgets\n",
    "from ipywidgets import *\n",
    "import matplotlib.pyplot as plt\n",
    "import matplotlib\n",
    "from matplotlib import animation, rc\n",
    "from IPython.display import HTML\n",
    "import scipy.integrate as integrate\n",
    "%matplotlib inline \n",
    "\n",
    "default_value = 1;\n",
    "label0=Label(\"$\\large p_l$ -линейная плотность\")\n",
    "label1=Label(\"$\\large T$ -сила натяжения струны\")\n",
    "label2=Label(\"$\\large l$ -длина струны\")\n",
    "label3=Label(\"$\\large a$ -амплитуда импульса\")\n",
    "label4=Label(\"$\\large t_0$ -время подачи импульса\")\n",
    "label5=Label(\"$\\large t$ -характерное время нарастания/спадания импульса\")\n",
    "field0=widgets.BoundedFloatText(value=default_value,min=0,max=100.0,step=0.01,readout=True,readout_format='.2f')\n",
    "field1=widgets.BoundedFloatText(value=default_value,min=0,max=100.0,step=0.01,readout=True,readout_format='.2f')\n",
    "field2=widgets.BoundedFloatText(value=default_value,min=0,max=100.0,step=0.01,readout=True,readout_format='.2f')\n",
    "field3=widgets.BoundedFloatText(value=default_value,min=0,max=100.0,step=0.01,readout=True,readout_format='.2f')\n",
    "field4=widgets.BoundedFloatText(value=default_value,min=0,max=100.0,step=0.01,readout=True,readout_format='.2f')\n",
    "field5=widgets.BoundedFloatText(value=default_value,min=0,max=100.0,step=0.01,readout=True,readout_format='.2f')\n",
    "field6=widgets.BoundedIntText(value=100,min=50,max=1000,step=100,continuous_update=False,readout=True)\n",
    "field7=widgets.BoundedIntText(value=100,min=50,max=1000,step=100,continuous_update=False,readout=True)\n",
    "field8=widgets.BoundedFloatText(value=0.01,min=0,max=0.1,step=0.001,readout=True,readout_format='.2f')\n",
    "field9=widgets.BoundedFloatText(value=default_value,min=0,max=100,step=0.01,readout=True,readout_format='.2f')\n",
    "field10=widgets.BoundedFloatText(value=3/8,min=1/4,max=1/2,step=0.01,readout=True,readout_format='.2f')\n",
    "\n",
    "VBox([HBox([label0,field0]),HBox([label1,field1]),HBox([label2,field2]),HBox([label3,field3]),HBox([label4,field4]),HBox([label5,field5])])"
   ]
  },
  {
   "cell_type": "markdown",
   "metadata": {
    "hidePrompt": false
   },
   "source": [
    "## Режим работы"
   ]
  },
  {
   "cell_type": "code",
   "execution_count": 2,
   "metadata": {
    "code_folding": [],
    "hideCode": false,
    "hidePrompt": false
   },
   "outputs": [
    {
     "data": {
      "application/vnd.jupyter.widget-view+json": {
       "model_id": "0f2a62251e0d4dc9a49a6a491665386d",
       "version_major": 2,
       "version_minor": 0
      },
      "text/html": [
       "<p>Failed to display Jupyter Widget of type <code>VBox</code>.</p>\n",
       "<p>\n",
       "  If you're reading this message in the Jupyter Notebook or JupyterLab Notebook, it may mean\n",
       "  that the widgets JavaScript is still loading. If this message persists, it\n",
       "  likely means that the widgets JavaScript library is either not installed or\n",
       "  not enabled. See the <a href=\"https://ipywidgets.readthedocs.io/en/stable/user_install.html\">Jupyter\n",
       "  Widgets Documentation</a> for setup instructions.\n",
       "</p>\n",
       "<p>\n",
       "  If you're reading this message in another frontend (for example, a static\n",
       "  rendering on GitHub or <a href=\"https://nbviewer.jupyter.org/\">NBViewer</a>),\n",
       "  it may mean that your frontend doesn't currently support widgets.\n",
       "</p>\n"
      ],
      "text/plain": [
       "VBox(children=(HBox(children=(Label(value='Режим работы:'), ToggleButtons(options=('Расчёт заданного числа шагов', 'Расчёт с заданной точностью'), value='Расчёт заданного числа шагов'))), HBox(children=(Label(value='Количество шагов по $x$:'), BoundedIntText(value=100, max=1000, min=50, step=100))), HBox(children=(Label(value='Количество шагов по $t$:'), BoundedIntText(value=100, max=1000, min=50, step=100))), HBox(children=(Label(value='Точность:'), BoundedFloatText(value=0.01, max=0.1, step=0.001))), HBox(children=(Label(value='Время симуляции:'), BoundedFloatText(value=1.0, step=0.01))), HBox(children=(Label(value='Параметр $\\\\sigma$ неявной схемы:'), BoundedFloatText(value=0.375, max=0.5, min=0.25, step=0.01)))))"
      ]
     },
     "metadata": {},
     "output_type": "display_data"
    }
   ],
   "source": [
    "toogle = widgets.ToggleButtons(options=['Расчёт заданного числа шагов','Расчёт с заданной точностью'],disabled=False,button_style='')\n",
    "global mode\n",
    "mode = 0\n",
    "def changed(changed):\n",
    "    global mode\n",
    "    if mode == 0:\n",
    "        mode = 1\n",
    "    else:\n",
    "        mode = 0\n",
    "toogle.observe(changed,'value')\n",
    "VBox([HBox([Label('Режим работы:'),toogle]),\n",
    "HBox([Label('Количество шагов по $x$:'),field6]),HBox([Label('Количество шагов по $t$:'),field7]),HBox([Label('Точность:'),field8]),HBox([Label('Время симуляции:'),field9]),\n",
    "     HBox([Label('Параметр $\\sigma$ неявной схемы:'),field10])])"
   ]
  },
  {
   "cell_type": "code",
   "execution_count": 3,
   "metadata": {
    "hideCode": false,
    "hidePrompt": false
   },
   "outputs": [
    {
     "name": "stdout",
     "output_type": "stream",
     "text": [
      "1.0\n"
     ]
    }
   ],
   "source": [
    "pl=field0.value\n",
    "T=field1.value\n",
    "l=field2.value\n",
    "amp=field3.value\n",
    "inp_time_0=field4.value\n",
    "print(inp_time_0)\n",
    "inp_time=field5.value\n",
    "x_count = field6.value\n",
    "t_count = field7.value\n",
    "requared_acc = field8.value\n",
    "max_time = field9.value\n",
    "a=np.sqrt(T/pl)\n",
    "h=l/x_count\n",
    "tau=max_time/t_count\n",
    "cur_acc = 1\n",
    "iteration = 0\n",
    "MAX_ITER=8\n",
    "sigma = field10.value"
   ]
  },
  {
   "cell_type": "markdown",
   "metadata": {
    "hidePrompt": false
   },
   "source": [
    "## Начальные и гарничные условия"
   ]
  },
  {
   "cell_type": "markdown",
   "metadata": {
    "hidePrompt": false
   },
   "source": [
    "## U(t,0)"
   ]
  },
  {
   "cell_type": "code",
   "execution_count": 4,
   "metadata": {
    "code_folding": [],
    "hidePrompt": false
   },
   "outputs": [],
   "source": [
    "amp=field3.value\n",
    "inp_time_0=field4.value\n",
    "inp_time=field5.value\n",
    "def psi1(t):\n",
    "    return amp*(1/(1+(t-inp_time_0)**2/inp_time**2)-1/((inp_time_0/inp_time)**2+1))"
   ]
  },
  {
   "cell_type": "markdown",
   "metadata": {
    "hidePrompt": false
   },
   "source": [
    "## U(t,l)"
   ]
  },
  {
   "cell_type": "code",
   "execution_count": 5,
   "metadata": {
    "code_folding": [],
    "hidePrompt": false
   },
   "outputs": [],
   "source": [
    "def psi2(t):\n",
    "    return 0"
   ]
  },
  {
   "cell_type": "markdown",
   "metadata": {
    "hidePrompt": false
   },
   "source": [
    "## U(0,x)"
   ]
  },
  {
   "cell_type": "code",
   "execution_count": 6,
   "metadata": {
    "code_folding": [],
    "hidePrompt": false
   },
   "outputs": [],
   "source": [
    "l=field2.value\n",
    "def f1(x):\n",
    "    return 0 #psi1(0)*(1-x/l)"
   ]
  },
  {
   "cell_type": "markdown",
   "metadata": {
    "hidePrompt": false
   },
   "source": [
    "## U'(0,x)"
   ]
  },
  {
   "cell_type": "code",
   "execution_count": 7,
   "metadata": {
    "hidePrompt": false
   },
   "outputs": [],
   "source": [
    "def f2(x):\n",
    "    return 0"
   ]
  },
  {
   "cell_type": "markdown",
   "metadata": {
    "hidePrompt": false
   },
   "source": [
    "## F(t,x)"
   ]
  },
  {
   "cell_type": "code",
   "execution_count": 8,
   "metadata": {
    "hidePrompt": false
   },
   "outputs": [],
   "source": [
    "def F(t,x):\n",
    "    return 0\n",
    "def F1(t,x):\n",
    "    return integrate.quad(F,0,t,args=(x))[0]+f2(x)"
   ]
  },
  {
   "cell_type": "markdown",
   "metadata": {
    "hidePrompt": false
   },
   "source": [
    "## Решение с использованием неявной девятиточечной схемы"
   ]
  },
  {
   "cell_type": "code",
   "execution_count": 9,
   "metadata": {
    "code_folding": [],
    "hidePrompt": false
   },
   "outputs": [],
   "source": [
    "def Progonka(M,V):\n",
    "    A=np.zeros(M.shape[0])\n",
    "    B=np.zeros(M.shape[0])\n",
    "    R=np.zeros((M.shape[0],1))\n",
    "    A[0]=-1*M[0,1]/M[0,0]\n",
    "    B[0]=V[0]/M[0,0]\n",
    "    for i in range(1,M.shape[0]-1):\n",
    "        A[i]=-M[i,i+1]/[M[i,i]+M[i,i-1]*A[i-1]]\n",
    "        B[i]=(V[i]-M[i,i-1]*B[i-1])/[M[i,i]+M[i,i-1]*A[i-1]]\n",
    "    i = M.shape[0]-1\n",
    "    R[i]=(V[i]-M[i,i-1]*B[i-1])/[M[i,i]+M[i,i-1]*A[i-1]]\n",
    "    for i in range(M.shape[0]-2,-1,-1):\n",
    "        R[i]=A[i]*R[i+1]+B[i]\n",
    "    return R"
   ]
  },
  {
   "cell_type": "code",
   "execution_count": 10,
   "metadata": {
    "hidePrompt": false
   },
   "outputs": [
    {
     "name": "stdout",
     "output_type": "stream",
     "text": [
      "Итерация  1 запушена \n",
      "Количество шагов сетки: \n",
      "   По времени: 100   \n",
      "   По координате: 100\n",
      "Итерация 1 завершилась \n",
      "\n",
      "\n",
      "Достигнута nочность: 1\n",
      "Итерация  2 запушена \n",
      "Количество шагов сетки: \n",
      "   По времени: 200   \n",
      "   По координате: 200\n",
      "Итерация 2 завершилась\n",
      "\n",
      "Достигнута nочность: 0.00470943629164\n"
     ]
    }
   ],
   "source": [
    "pl=field0.value\n",
    "T=field1.value\n",
    "l=field2.value\n",
    "amp=field3.value\n",
    "inp_time_0=field4.value\n",
    "inp_time=field5.value\n",
    "x_count = field6.value\n",
    "t_count = field7.value\n",
    "requared_acc = field8.value\n",
    "max_time = field9.value\n",
    "a=np.sqrt(T/pl)\n",
    "h=l/x_count\n",
    "tau=max_time/t_count\n",
    "cur_acc = 1\n",
    "iteration = 0\n",
    "MAX_ITER=8\n",
    "sigma = field10.value\n",
    "if psi1(0)==f1(0) and psi2(0)==f1(l):\n",
    "    while (requared_acc<cur_acc or iteration<2) and iteration <MAX_ITER:\n",
    "        x = np.linspace(0,l,x_count,dtype=np.longdouble)\n",
    "        timeline = np.linspace(0,max_time,t_count,dtype=np.longdouble)\n",
    "        U = np.zeros((t_count,x_count))\n",
    "        M = np.zeros((x_count-2,x_count-2),dtype=np.float32)\n",
    "        A = np.zeros((x_count-3),dtype=np.longdouble)\n",
    "        B = np.zeros((x_count-3),dtype=np.longdouble)\n",
    "        print(\"Итерация \",iteration+1,'запушена',\"\\nКоличество шагов сетки:\",\n",
    "              \"\\n   По времени:\",t_count,\" \",\"\\n   По координате:\",x_count)\n",
    "        V = np.zeros((x_count-2),dtype=np.float32)\n",
    "        h2 = h*h\n",
    "        tau2 = tau*tau\n",
    "        const1 = (a/h)**2\n",
    "        for i in range (t_count):#Задаём граничные условия\n",
    "            U[i][0]=psi1(timeline[i])\n",
    "            U[i][x_count-1]=psi2(timeline[i])\n",
    "        for i in range (1,x_count-1):#Задаём начальные условия\n",
    "            U[0][i]=f1(x[i])\n",
    "            U[1][i]=U[0][i]+tau*f2(x[i])+tau**2/2*(a**2*(f1(x[i-1])-2*f1(x[i])+f1(x[i+1]))/h**2+F(0,x[i]))\n",
    "        for i in range(1,t_count-1):\n",
    "            for j in range(1,x_count-1):\n",
    "                M[j-1][j-1]=1/tau2+2*sigma*const1\n",
    "                V[j-1]=(F(timeline[i],x[j])\n",
    "                +(2*U[i][j]-U[i-1][j])/tau2\n",
    "                +sigma*const1*(U[i-1][j+1]-2*U[i-1][j]+U[i-1][j-1])\n",
    "                +(1-2*sigma)*const1*(U[i][j+1]-2*U[i][j]+U[i][j-1]))\n",
    "            for j in range(1,x_count-2):\n",
    "                M[j-1][j]=-1*sigma*const1\n",
    "                M[j][j-1]=-1*sigma*const1\n",
    "            V[0]=V[0]+sigma*const1*U[i+1][0]\n",
    "            V[x_count-3]=V[x_count-3]+sigma*const1*U[i+1][x_count-1]\n",
    "            C=Progonka(M,V)\n",
    "            for i1 in range(1,x_count-1):\n",
    "                U[i+1][i1]=C[i1-1]\n",
    "        if iteration>0:\n",
    "            for i in range(0,prev_t_count):\n",
    "                for j in range(0,prev_x_count):\n",
    "                    U2[i][j]=U[2*i][2*j]\n",
    "            C = abs(Pr_U-U2)\n",
    "            v=-1\n",
    "            for t in C:\n",
    "                v = max(max(t),v)\n",
    "            cur_acc=v;\n",
    "            print(\"Итерация\",iteration+1,\"завершилась\")\n",
    "            if mode == 0:\n",
    "                break\n",
    "        Pr_U = np.copy(U)\n",
    "        U2 = np.zeros((t_count,x_count))\n",
    "        prev_t_count = t_count\n",
    "        prev_x_count = x_count\n",
    "        x_count*=2\n",
    "        t_count*=2\n",
    "        h=l/x_count\n",
    "        tau=max_time/t_count\n",
    "        iteration+=1\n",
    "        print(\"Итерация\",iteration,\"завершилась\",'\\n')\n",
    "        print(\"\\nДостигнута nочность:\",cur_acc)\n",
    "else:\n",
    "    print(\"Ошибка. Граничные и начальные условия не согласованы!!!!\")\n",
    "print(\"\\nДостигнута nочность:\",cur_acc)"
   ]
  },
  {
   "cell_type": "code",
   "execution_count": 11,
   "metadata": {
    "code_folding": [
     0
    ],
    "hideCode": false,
    "hidePrompt": false,
    "scrolled": true
   },
   "outputs": [
    {
     "data": {
      "application/vnd.jupyter.widget-view+json": {
       "model_id": "dbc5f8cfb02644b2813bee3e50b11b61",
       "version_major": 2,
       "version_minor": 0
      },
      "text/html": [
       "<p>Failed to display Jupyter Widget of type <code>VBox</code>.</p>\n",
       "<p>\n",
       "  If you're reading this message in the Jupyter Notebook or JupyterLab Notebook, it may mean\n",
       "  that the widgets JavaScript is still loading. If this message persists, it\n",
       "  likely means that the widgets JavaScript library is either not installed or\n",
       "  not enabled. See the <a href=\"https://ipywidgets.readthedocs.io/en/stable/user_install.html\">Jupyter\n",
       "  Widgets Documentation</a> for setup instructions.\n",
       "</p>\n",
       "<p>\n",
       "  If you're reading this message in another frontend (for example, a static\n",
       "  rendering on GitHub or <a href=\"https://nbviewer.jupyter.org/\">NBViewer</a>),\n",
       "  it may mean that your frontend doesn't currently support widgets.\n",
       "</p>\n"
      ],
      "text/plain": [
       "VBox(children=(Label(value='Длительность анимации'), FloatSlider(value=3.0, max=20.0, min=0.1, readout_format='f')))"
      ]
     },
     "metadata": {},
     "output_type": "display_data"
    }
   ],
   "source": [
    "anim_speed=widgets.FloatSlider(\n",
    "    value=3,\n",
    "    min=0.1,\n",
    "    max=20,\n",
    "    step=0.1,\n",
    "    disabled=False,\n",
    "    continuous_update=True,\n",
    "    orientation='horizontal',\n",
    "    readout=True,\n",
    "    readout_format='f'\n",
    ")\n",
    "VBox([Label('Длительность анимации'),anim_speed])"
   ]
  },
  {
   "cell_type": "code",
   "execution_count": 12,
   "metadata": {
    "code_folding": [],
    "hideCode": false,
    "hidePrompt": false
   },
   "outputs": [
    {
     "data": {
      "text/html": [
       "<video width=\"432\" height=\"288\" controls autoplay loop>\n",
       "  <source type=\"video/mp4\" src=\"data:video/mp4;base64,AAAAHGZ0eXBNNFYgAAACAGlzb21pc28yYXZjMQAAAAhmcmVlAAA+wm1kYXQAAAKuBgX//6rcRem9\n",
       "5tlIt5Ys2CDZI+7veDI2NCAtIGNvcmUgMTUyIHIyODUxIGJhMjQ4OTkgLSBILjI2NC9NUEVHLTQg\n",
       "QVZDIGNvZGVjIC0gQ29weWxlZnQgMjAwMy0yMDE3IC0gaHR0cDovL3d3dy52aWRlb2xhbi5vcmcv\n",
       "eDI2NC5odG1sIC0gb3B0aW9uczogY2FiYWM9MSByZWY9MyBkZWJsb2NrPTE6MDowIGFuYWx5c2U9\n",
       "MHgzOjB4MTEzIG1lPWhleCBzdWJtZT03IHBzeT0xIHBzeV9yZD0xLjAwOjAuMDAgbWl4ZWRfcmVm\n",
       "PTEgbWVfcmFuZ2U9MTYgY2hyb21hX21lPTEgdHJlbGxpcz0xIDh4OGRjdD0xIGNxbT0wIGRlYWR6\n",
       "b25lPTIxLDExIGZhc3RfcHNraXA9MSBjaHJvbWFfcXBfb2Zmc2V0PS0yIHRocmVhZHM9OSBsb29r\n",
       "YWhlYWRfdGhyZWFkcz0xIHNsaWNlZF90aHJlYWRzPTAgbnI9MCBkZWNpbWF0ZT0xIGludGVybGFj\n",
       "ZWQ9MCBibHVyYXlfY29tcGF0PTAgY29uc3RyYWluZWRfaW50cmE9MCBiZnJhbWVzPTMgYl9weXJh\n",
       "bWlkPTIgYl9hZGFwdD0xIGJfYmlhcz0wIGRpcmVjdD0xIHdlaWdodGI9MSBvcGVuX2dvcD0wIHdl\n",
       "aWdodHA9MiBrZXlpbnQ9MjUwIGtleWludF9taW49MjUgc2NlbmVjdXQ9NDAgaW50cmFfcmVmcmVz\n",
       "aD0wIHJjX2xvb2thaGVhZD00MCByYz1jcmYgbWJ0cmVlPTEgY3JmPTIzLjAgcWNvbXA9MC42MCBx\n",
       "cG1pbj0wIHFwbWF4PTY5IHFwc3RlcD00IGlwX3JhdGlvPTEuNDAgYXE9MToxLjAwAIAAAAhgZYiE\n",
       "AC///vau/MsrRwuVLh1Ze7NR8uhJcv2IMH1oAAADAADVayF8EluqgIER05WlkSmc1TFzpsBDMxHX\n",
       "AdV4I8XYhDjXAam40Y5FuUNOvgrgAArCLYCONf76tsFLYd9ziOWYX/izbCpy831ojc51uW8CWbPu\n",
       "gLqQ9tpRFLIb3yGmBIL9+fM2VJ4h3SSKbLv35gaPsGN8D3MVwiB9eISq6VESF9Lt4Rj8IgarDrxe\n",
       "IWa7XzMh0w03ImdISFyeUaRu00VjUej1mJn48K1KQ/bnKnU7EG44XdYV3tvzUDy5LtZ3rbk3BLHo\n",
       "EPEc2+kNX/XdDKeUeN13MWtH5SkvgAk+UBVNpG4VDF4Pd629NEfjgFf/wRtSQbAWITUarUPqjgmr\n",
       "XLHDNgtcS8DMVDOkxcGmOomNhaEvva5nD/u2EX0BL+SMs9jy8O2f8Roe4tEjS5dkwHg2Wkg7zdgD\n",
       "bTdUNit6QEQl/pTniGHdx+nbvW4QvKiDoZmJxnr56FUcPH+m32XR7KS6+EVjXS9gpgxHHgoj+6nk\n",
       "a5AbVgjBfbMwlBMxpYM/MRaTxvbDA4mSpSoBdsoVAC/G/DWsIv6h5KN5tL/9u0puv5eSU6qPBfGO\n",
       "DzVwF7NQYmv6Rk4iFzng2ORUolS6eau3mkOFy101YimAfl6jt+GrWYetJ5cGJ+oa8q3+HZoOuIIB\n",
       "8lwFA4y69GomI80gvyZWH3vHSVj8coOJMS0FdIz7WeB4ECMKMIXt9DUgXFa3NLLhcfnB4N+rFUi1\n",
       "nZwul70aKtPbSI3GwqnJB/fVG6Wg7YahFc5fu7v8bwsmIF+fgxOsoS9BbYDcLAo+G5teEw5b5An7\n",
       "UIJVSquSAHcCRJsm8miZdy4GO/K1FHLOMO4f9LdUoPmosM/GMeutQdT9GDU1Z1g/gWB6+0CxTw/V\n",
       "cns6ttwYiyCgzRjjiSbw8AxUBLKtTbUp4WWfkeWImnzpwwAa6Dn3HLFS1XAAoKv5ttJlNfSI/c21\n",
       "lJK1HSSVRwAuasxKNLA7M7UkFgmA5+zCd4fl2n/3ogkbx7LpGVurUoOnkCtOhtsdCOjoVe2hNUaQ\n",
       "rNPwmmTIsJ5mFa+1UGjhG7S7jMv93OZaLFes2/A30iBaBrMWsg5m29Mnk+z8ld3RCwnF4lyR+aGc\n",
       "11dLEc3hWLumA2qMISvtv71Cs2aXasgrsaE4fEiXXojfpeHXdJW00X+MwS5+e7mGWD4C+MRGvyTE\n",
       "Wg3cZd7Tz/4kKJWexoN6/GnpgSb8cgf7dZw/iA5RgbanYg71QivMiEPUWMFDBekmEdLF1RPtu9oG\n",
       "Xh/fJH7MHawG40rnrIWjjmc7q/1azKYfwbeX7BOp9vDqlKuIUSBxH8/45gRp+vXtxu6KsIIzUlpT\n",
       "XmiGwBHxNRE1rvGZcAU5JhRVkPuys9Q5AACPHKCV8PzrvkQHxQ9hlB0779CNBPbVxkv03MAo8a8w\n",
       "PbZZVKhhJTG5L8vmUUmWoo8jyIHxJ8o30eETXPsr2W+O0L2TQu2Ne9kR3osdSug96+i2F2kmICEl\n",
       "KImEkQuZRvc0tJ3WT3TnFex64MnxWGsNT1Ocz9XN2M+RcXd0B8GSU3Zdlva9PZg4H4J0/OPqqM+I\n",
       "HVr2IcMLfV0i1dp0P6ZwroQCrSJOr8dbKnqCtkkVhxu2XZEh1LODjnqCt+2rQocORWpUCzYP+Ll6\n",
       "qbvHj/C9de/Kg6KfZrNlxwYezkBUIi1hvSJ7x3hJJ2F+3rUzRe4SbCuyOATDrcRCenmjLKGulQ8W\n",
       "9ekXpLR7kItqeGLgfL30cwTxlPZ+3644iRJ2Y8B28kqqqw26E9pWJtCioitcQfdr6ez9Ey73Q0+o\n",
       "bTTiMc2nd+/XqjWdUO6IC87c2+1Gc7Lz6AhTNN9ydkcniyVlGjvviRFBmx89lJleJ/cpo06PfciY\n",
       "z/e7tuO7OeO8dvKWHEDDw86Et9u3kuSA5GuDWnJ5O9i9BmGspMWXQOR+0ZFDgMBuFWPI9DsPm3wJ\n",
       "ROukFP74l6O1NSB343sCLa8jGx2BNguCp1fg5L+JnylpXogVKDvpYaKXKksGW9+9gMWZ3tOd/Crb\n",
       "9ZUitTyzunhOdOcku88XVSg9nB3tXaCputfZ4K2at641OmdZeRL8uLu7e7JyvrMqFbiPeN94EIGi\n",
       "2MPx7TbADTb3tUxOQ3HesdC7mibdEAIhkwICj3DpPh3IJRdHyjzdSODxgMz3+ojPspleMVUhyPsM\n",
       "3p6hJCEtabOXNpOFbJz49PAkpmk+2+G4Az1/eGjDCpWR5v8tHBRVjU8+eZ/eDadszjqE8Cv+K0/d\n",
       "kw4pIHxCjvuuPwML/OSIUhWFx/DzQn6ZQsmVS4jdCMFsHwtq/HkRxueqMG0wgKdB8BIce3gU0KOm\n",
       "Mf+QnI0UUKRbU/ieY67ZsHm3w0XrS8qV28usjf2w6Y0/Q0FjFNn6/nlj2SgSIWePC60YSjXlu4iU\n",
       "MpLVDw5kYhao0/YAwlYllExPAgRLCpnqwjzegaJZn67JnhCX2Ie9wAklc7kdhIJefeNMc7JNwqtx\n",
       "2o5fTX8FRTWjQqiU1mTlT2HMmnYfsX6MZ8KNW5WBUELAMSvEbf6CQqVFFYEDs/w142bxXFG2lsuE\n",
       "J8P3j2U/bM2rmZJIPIwzutTNbW9usXkTKgyTLiS6nwAdOnUsKDk3O+q8nzvBalgFulmk7JV1G4V8\n",
       "PZX6u6FggzoB3PCX6zVQILMl/X+YddtYT2ErXZmfjb8cGQgPahMoTvTLPcYdU3HZipxzOh+2hogC\n",
       "z/FdM2+GcY33l+AdW5kfiKvXNw2E18vrcocw2cbvEdNaSZmQnUMETA5TTqU5IoFv4obSJMUHkW+t\n",
       "N9YHqqWsjbjgTfoQcR9luU0+AAADAAzUEJAZXn/x0aUAAAFIQZokbEL//oywBbFewAQieS0BdDa0\n",
       "aaXN6eAqArL69W2NKhZrd25bnNl4HVKVDgC39sRnzbwiRu8Q8y2NVQ7/enGivLzqufJrsadyDgwI\n",
       "bCHPxGhmbSGa2xaLide7E9O5/aPD1PsiteGTXk6e312wiKhtc7++5gvjWk7NNXuFL7M3u/tngiDS\n",
       "K4WsNpWhFUqXP2NoAC+qlB5hIgGxsV7lwKKR2QTLScSsOqgXhT4FxvNnOn55srYOFoBdaW18zm1k\n",
       "VyIq/oKkTZCo2rpxqvioHp/PxczN0dB7uU1BFGQEFjsNoO4Dr8iZA33bHByExo3qdj6F/34Yen+8\n",
       "n1C0/IpDFagA+E2PRjiZFsmhR8vX6mNSIJ+JLTRqEMyIEdoUjTGxtgoOu4Z03/wXLwJP2ClqTQHR\n",
       "rYZg74Ld8w/9SmemXC0kMOLzcUrexAAAADVBnkJ4j/8D9Wa1QFqqTYIA4HKEjU1ILElO7mqvxeX1\n",
       "iT5cZsU0ix4zRRBxbBLbwtEejbsTcQAAACIBnmF0Rv8AACSok0OsbCatRWZF4os2HKkUDkeUKX7Z\n",
       "lLKAAAAAIgGeY2pG/wUPHuQNwt9JHQ7PdQhi7mUQu73BZE/6miaXQmEAAABtQZpoSahBaJlMCF//\n",
       "/oywAA2V6YvAKXkIBMOFAogeWx5Vro86D9wO3Y5ylN5RpddgP/1z+bsolailn2WpcRNzpfvfOGyh\n",
       "JaxOgPGb59dTp4S2EVrAT3eh87EGMM0Hn/sLss9epxXzeYIe1fukwQAAAChBnoZFESx/AANhJ8op\n",
       "dwQvm0/ivC6HNF6YaUU+Rcvk5SBtpHUzo4o/AAAAHgGepXRG/wAAIUhFU2hbmxPn+e9htmyO7wsq\n",
       "pU7brQAAABoBnqdqRv8AACFIRVNoWZznMe0Vh2cPoF5SIgAAAGpBmqxJqEFsmUwIX//+jLAADZWP\n",
       "vErDCtZjU352Ra19B8POni2lIYDUhGXSkCQUCo0yT//8eeCK2YhnAk+YXZgLQ3tpIBHTmwuRWUoP\n",
       "zoFn0S86WxZ5Lu7tctMlCBLN3bQzW/BgUjoQFRhgAAAAIEGeykUVLH8ABsPIMww9+wtAG7jExA2Q\n",
       "xx6jhIhSe6ghAAAAGQGe6XRG/wAAIUhFU2hZm2P6BluosrHYmoAAAAAXAZ7rakb/AAhvthhRIZI6\n",
       "HNB/4HY+PkAAAABRQZrwSahBbJlMCF///oywAAbIGKoBLs2AZnPN4RSCsG+M0dWv/5/E8UQwlnym\n",
       "6381NEyXfFTUfQy7fYRZxK0J9y7P6ADcaIs1HOn/vHqOUCaDAAAAHUGfDkUVLH8ABsPIMww9+wtA\n",
       "G7jBOGIpIGjVr9nRAAAAFAGfLXRG/wAAIUhFU2hYm4lkXAIrAAAAEwGfL2pG/wAAIUhFU2hZHQeX\n",
       "ybgAAABOQZs0SahBbJlMCF///oywAA2ZWEoVYQ+q8tk5SeBPlLWQ4B1f0jf87EP+ItSqJ0+I8Dbt\n",
       "NBDv6dBPO1gNbs9+5RBiFbbBXEQU4imOb9v4AAAAIUGfUkUVLH8ABv/cvATOuKmMlPY3vcLV9tWK\n",
       "j5b9+esvKwAAABoBn3F0Rv8ACDD2j9NQFOlFGxBq7Fo0RBGFQAAAABgBn3NqRv8ACNHpIbQYnvwf\n",
       "f7ukf5T3/KAAAABRQZt4SahBbJlMCF///oywAA33ra6VClbNUTYp+nwVE6TieseNHKRz08AcUVFt\n",
       "FaQ7XFslbkH+MM8Lp8xL7pr/XXPvFJMQ5Wc2t506hCpqac5BAAAAHUGflkUVLH8ABxMuU/xjsLnA\n",
       "UJIQY/6poAp5bHNXAAAAFwGftXRG/wAI7aoK+Wfxdt/wTcLD3d8xAAAAFwGft2pG/wAI67q4OKQM\n",
       "2/2E4vcQCrnbAAAAU0GbvEmoQWyZTAhf//6MsAANlKskwBhLxTL9yW/h0XLthUOzEiHhQjV9aDAW\n",
       "Nta4F0Qy535tfrj5iDkGORyN7pK2od803YMRVboVf4q7g/IxvBy0AAAAH0Gf2kUVLH8ABuMtENUy\n",
       "HnmrWnwy45WBmQg9Wom0f4EAAAAUAZ/5dEb/AAgqEVqAx0gFOjvMJ9oAAAATAZ/7akb/AAQVEyd8\n",
       "ICqketh79QAAAFVBm+BJqEFsmUwIX//+jLAADZSrJMAZVxlgeYxiEyrCXwKWIsFr4BdnhWN40lw8\n",
       "nIVits5FHNyYu/GVm9Mvy9VJ9D21Qu0vyfQtrLcfZBjbP7WIRZSbAAAAH0GeHkUVLH8ABuRJbNUE\n",
       "tn6SnCvrJA76Pyij+/XC+EAAAAAVAZ49dEb/AARVEmTKSnXwGG+RJRDgAAAAGQGeP2pG/wAIaiZa\n",
       "TaGRm1Uas8Vz/MLpw5EAAABAQZokSahBbJlMCF///oywAA2aU0c8dsK9OUxKbgASZZNjRQ83PP3Z\n",
       "ZmOODFATvt2IddimLmuOL8ScTwjPziMH6wAAACBBnkJFFSx/AAbkSWzWeEspLR3FT8H7JnKqr9UF\n",
       "rYuV4QAAABcBnmF0Rv8ACGlDqe+yAfjHKhaOK+XDkAAAABYBnmNqRv8ACGomWR1/5srlW9yKO75h\n",
       "AAAAVEGaaEmoQWyZTAhf//6MsAANlgKFDzfmjp4heZSerJsSqM/HolvC7cyDwtks0wueBXXdQWOB\n",
       "Wwk6EFUYaD53MyqKGJR6pgXTozznxJxPCNT+MYP1gQAAAB9BnoZFFSx/AAbr+gx4hOxmk2ITmghU\n",
       "4vcgoN6dNRWBAAAAGAGepXRG/wAIb/PAH/wiLzh2f80cV8uHIQAAABgBnqdqRv8ACGol68cJzK97\n",
       "Csb0l/WqiHAAAABRQZqsSahBbJlMCF///oywAA2iCvOodsayrX1g/IZ6Kl1D4hP4lLMK3r0wq9g6\n",
       "faRy0gs7eco3YoQdhaoPa5gnZ8LSn4kYV1ZfrHZ+f03o3wBmAAAAIEGeykUVLH8ABuRByfCDwQnR\n",
       "l18tPECBvu9eCIMCULtZAAAAGQGe6XRG/wAIaTnum88VZ1T+6CJsKj7d3zAAAAAYAZ7rakb/AAhv\n",
       "HlP7aj2fO8BgQutQArP2AAAAUkGa8EmoQWyZTAhf//6MsAANm50qepq5xUABsmWg9o22y5IA7hPf\n",
       "M9tOf6j0k5KZJaDFTtbLx3X+Tpiq6vBLSgPYhpUHeKhKyJ+sdn5/n5gF3J8AAAArQZ8ORRUsfwAG\n",
       "4y0Pxy6cpkY6x7bJ/GhLkQAOJnlnnQENxSFnC3EUExhS+wAAABUBny10Rv8ACGlDiKhGzegZz5Cl\n",
       "ztEAAAAaAZ8vakb/AAhqNfXBIYG/YV70iL5zwLqSAvAAAABgQZs0SahBbJlMCF///oywAA2ZVdbI\n",
       "a+3gx7sOxAMWq9U0JI7qcEAzblzA1Sq8qcDMnnx54v1K775+MzCz2UvC/OgpFdV0zvWQ5aoEmWg2\n",
       "DH6Kv+6W5EpnOpuku9cZh9yeAAAAJEGfUkUVLH8ABuVNvFV1azBmkKPnxczPZFzPGYpfZy02/WGh\n",
       "YQAAABkBn3F0Rv8ACG/+Zbsm3gVxG20f/XtIBzvmAAAAFwGfc2pG/wAIaiXrwSGIGRJK0yy8naIc\n",
       "AAAAZkGbeEmoQWyZTAhf//6MsAANm5yy6E6NbBHiXXB//UyTSfcdZISQ2sAG7P3QanGI2lC8lA22\n",
       "pRzFZe22Q4ppCW/rRP6umCJ7a3wfi2PTdlcB/WiOdlmb1fhbBd+eQ4n5+sJWxA1yeQAAACRBn5ZF\n",
       "FSx/AAbkSWzSPb2VeSriyZUGVyDyiYXKqjiyCC3D1cAAAAAZAZ+1dEb/AAhv/mV6KT9n4DuNlKJg\n",
       "4oVcOQAAABcBn7dqRv8ACCol68fcTtvpPgLWrBuTTwAAAHJBm7xJqEFsmUwIX//+jLAADZlV16l4\n",
       "AOa+4YwHG6zrLstGGAuDiRZxvfCr5agU1pCfSL/Hh1YVJlwgG82lkYBKZJuSnwhcDYJGb1KK1pjH\n",
       "StIh0fnDAVVuerTdaX+y33ynwRq+NGn6o86vnvTbQ7MBYZwAAAAzQZ/aRRUsfwAG4y0PyJaA3kLi\n",
       "IEIi9neqGbCC0wAaW8vvWYzOChkJtkbPgx4I86Sh5W6BAAAAFwGf+XRG/wAIb/6P1WCeSsetZhnW\n",
       "kPZAAAAAGQGf+2pG/wAIaiXrwQKDTjbylL0v8w2nDkEAAABwQZvgSahBbJlMCF///oywAA2QPjz5\n",
       "BHe0AEkAZlhLzzyi1VXu8gTjnhvntD6x0rE4txvXOXy7fgp/zPK+60CtywsDF6dA2tj+r5Vp7u/f\n",
       "QHWolRjhB3dtnqPp+pUDnwNjml5J3Db0W1mlmW/zGklWCQAAACtBnh5FFSx/AAbkSWvHAPBYJtBW\n",
       "uwlmxuFvcWabd1EHWznwRnjZIbv+5x4QAAAAHQGePXRG/wAIaTnumr3ZVQigRWPielZPN+iKFsvQ\n",
       "AAAAIwGeP2pG/wAIaiXrKpIQLR1vPQuZo8VxSqEwprDk4ZUD2VJ3AAAAhkGaJEmoQWyZTAhf//6M\n",
       "sAANkD4dgdlS58ANHEyokz6sL0kPLre+yNJJVUx5cKGbTDghKs0rUwJhfEDKS8XCUMcAzlkoJ9AG\n",
       "+ckCHQoT2h9/8xXRsiSPuDUk+6HuDRbeAzM3VBV2lwgNjVexBsqvuT5AruHxcUJ6bR9xuvI3tchA\n",
       "LL0FuqWaAAAALEGeQkUVLH8ABxe4UOUDcJQuWrzq7WhNHnGyHp+9d0S2I0IxWuFk9hqUk78rAAAA\n",
       "IQGeYXRG/wAI7w8QQ241+BW09At2pxM8JdV1Mg7hmU6rYAAAACMBnmNqRv8ACOkBK8sdtdMSSkS+\n",
       "avZydMeA0VDP1mcs/cz7nQAAAHNBmmhJqEFsmUwIX//+jLAADZA+PXQQ26eAKI29x+W35aEu0rMf\n",
       "oiL0gYzMYzjylypLU6B+vmKmzo4jEhpQ3DGoZyCGtM7f5Upggxac66kMjNE5CMgTppT2NEsZpZbt\n",
       "CWiZwXdaO9DcrY04ts5q2D/oD7KDAAAAOEGehkUVLH8ABxFNAv354DZ/5RQA7oGQAOF6Qd7/qsNN\n",
       "6zsWcWA6VM0yGL6HhNYKtzTl9Gp/Tty5AAAAIAGepXRG/wAI7w8uEMIXhrRXx4xWmR6K/hQbCuy4\n",
       "D4npAAAAJQGep2pG/wAI6QErxs4FOB9nICkPck7ObNmNM6dstVXlhgkLhVwAAABWQZqsSahBbJlM\n",
       "CF///oywAA2QPhdpEo+EAKLC14aZAELTLViLcpbIzfYd9p4LBf9SjFcuGLsBrTX8kZmeHo10T03C\n",
       "Th+clrfDOpnTwUY0o/NARABuBcAAAAAsQZ7KRRUsfwAHEVhrsSjh15BokQ4sAY/AiSjx447Zm0gk\n",
       "syO+Bpfrdy20WmEAAAAgAZ7pdEb/AAjvDy4PrS/pRiK32FatSGGan+OHqmQ9KsAAAAAjAZ7rakb/\n",
       "AAjpASvGz7ebRIznDrIxPQm7VEkjB0G8f97XKDAAAABuQZrwSahBbJlMCF///oywABsgbBSDGCgI\n",
       "mBxp8wcQ1TJli1bRavCkGFh69dMxWTFQi1G1aOJQAju2k3c91ITyb3scIn+LtTc7ntfLIW8FEeXy\n",
       "+8sve9RjVzFQXvKTbQbywS3o7JbbHY9kjXDySPkAAAAwQZ8ORRUsfwAN1KEtU0KSEAIDR2z9zf5V\n",
       "VTN4TTpjyXmhk5qQOYMU9HhvfKUuBoDfAAAAIwGfLXRG/wAI7w8Qaq7xi+WgLr61wtwqhO9oXHK5\n",
       "+0Tml6shAAAAIQGfL2pG/wARX3BZtzzAnfYR6IuAzTVy/E8KfBcjWceJNAAAAF5BmzRJqEFsmUwI\n",
       "X//+jLAAGzktQr2cf5keUnyeNNZdu0bTznwamuyPUd3UlI6x4JYAMIGwKDRG0l2k2aAQqPK5wqFp\n",
       "dUnXMJ5hnb0PcWL9vyyJszhefS160nuFlVNSAAAAMUGfUkUVLH8ADcZYBM0krPoFPm2F6v9R0wUI\n",
       "30ibEegQg9TyXaOuG3pJztv3dIwx8aUAAAAhAZ9xdEb/AA/lkpjI3vrNqGakH9moYwrVPytnUgTi\n",
       "l1RAAAAAIQGfc2pG/wAP3OLaTufrUY6H19+Uw1upCjlVx2L2F3wzQgAAAH9Bm3hJqEFsmUwIX//+\n",
       "jLAAGzKvnxfCAJRxmNtn8BTx4lyUvzwxqxi/xXwFWRnjlI2ELvN4BEWgfWGgJ6OmgMdJoFXw/LK0\n",
       "08IU++WBXCki1mtIIObppDLLLihUxwVzYbVpOL2A7BmucGDcry/wSHJCfxA7THrCEZY5Ev5nBo6B\n",
       "AAAAQEGflkUVLH8ADciS2aWVUxk7RcPsXSlh5m2NIUAFRO7P9y+PL3wZfAPJKBoem/v2dcLgvNDp\n",
       "y0yozAEdjt5Bx+AAAAAkAZ+1dEb/ABGkJQD6kilzYWoYURmDfN8r3jhoPNpefIfssFCBAAAAIgGf\n",
       "t2pG/wARpCXUxStlaYvLwwvx0u5kUbsa/WJ0Gk7PFP0AAABpQZu8SahBbJlMCF///oywABsyq651\n",
       "oAJgwk4Brr8JdntiNdfOd/jmrGFxcs8X4MzAmWGrWXzRF8X+jG8z9Mc9e205cnIe6syl5czF+wR2\n",
       "76Wceo940t3yraFY5QPmCL/Ma3cuy65QlkiJAAAAPUGf2kUVLH8ADcZaH5EtFFibKbj/hm0Ev1SD\n",
       "agvOTUsXNqif1iqQQ7YALJNgkqg1FIXwNQdx2IUy/MNYwX8AAAAoAZ/5dEb/ABGkJQD6jBuVY1PF\n",
       "QhQU9H6XIFtTL8yU6G7PeT5GVUgyTAAAACYBn/tqRv8AEaQl1MUeiG6uglFsrZnWqNSMa8CYSjQ0\n",
       "qWvgBPFSEQAAAG5Bm+BJqEFsmUwIX//+jLAAGzKvnxfCAIz5lm4vKCLaHkA9nt1Vbo3M1xfVFngW\n",
       "8irXsyA+NbuKEGJj+eQUVVfca0LWiV9RhDpfoP5cCXPnPK9WsjfpAHbjc94euU2xxsOXq3GrD17L\n",
       "Ld20Z9cO+QAAADxBnh5FFSx/AA3IktmqCSX3VrwMAdM9dZm3/7EgtxDxBmwRUS8W1SwA2TCapUek\n",
       "a6RCWUxXxzXSba1EyIAAAAApAZ49dEb/ABGkJdbPdaYG2JMXp0bl4ygSFVB3MujKhgUTGtY5IwXU\n",
       "YHAAAAAnAZ4/akb/ABGkJdTFCH1GsZYPGNocyKgpr5iibGxlHjaF+2X7jlv5AAAAi0GaJEmoQWyZ\n",
       "TAhf//6MsAAbMqa1fT/gBc1QZxnHHsqT6bpvi8r/R0Z7vHMGpxrhlxNkQpecJowBXS5urHNfqghP\n",
       "95+KqeSAIMpdSFNNGoKzewxo9r+xAXqMC4lMrsf+z8YuCABnFvU/vbsw5TLlQrYUik8eV0AH3MeN\n",
       "gOGSEsP7p4LZTCGCPt3vBM0AAABCQZ5CRRUsfwAN//j4gC6uy297E5Jq1WCjvxDFSASgBXTx1i1g\n",
       "HLC2xK0JFlJAWhmpOPOl7FAETzGK0JbXxZ7eWmRnAAAAJAGeYXRG/wAQ0ocQtX5g1khxLwiU1kwI\n",
       "1sHDg1V2lyzstBIMmAAAACQBnmNqRv8AEaQl1MUIyBgfXueKQwm2JPL0FGCyESbDsXuYHJkAAACS\n",
       "QZpoSahBbJlMCF///oywABtB9+/4ANLMitdmri6mFSjTFrYVUO2OBlHWj4nG/9SP5Bgg6RLrHVEa\n",
       "9NiVtllNQP7wnskcNyIlWK4Z3tWy4E7w1R8Eem6JKg2Snt7zJHO+cd7etxHtS/74gwYEgnXijqmM\n",
       "1kJpUEll351Pk+gg5aF7qcrKm0CgjPpJuZBRQw2A2YEAAAA1QZ6GRRUsfwAN//fd9DW1w5u1Yn3f\n",
       "DW6TSHOc0eFXeSvpmjeUi05hpqPVjiw2a5zDpXRmzS0AAAAlAZ6ldEb/ABGkJdRBgnh1DpJlLRvz\n",
       "tfBdCtPh3TpkKglKOcFiCQAAACUBnqdqRv8AEaQl1MUJFpUBMoP/LzuOFS6/SAKGbjfrKe7QTjtR\n",
       "AAAAj0GarEmoQWyZTAhf//6MsAAbIGwOwKpAALgG3ioNst8N8a16c/7FEhOQDKziDhgk4j3fyK4/\n",
       "BdbvtiO2BqhM/v8IlSnGtC5UxZ4w1r5Mh9fy4JYOZDV7Mk44cYXSU6WTONAq909z98x8dXZlHRq2\n",
       "DMGbKJXtEeZjzp4haftXlMwiaWGO5yd0QkQairuo48G4AAAAOEGeykUVLH8ADf/33gZHut85qBqa\n",
       "/LkJRP8npV2odZt802y4Yf6BAdpqLiPuU3sCe4YG4oH+rJkZAAAAIgGe6XRG/wARpCXUQXam1hda\n",
       "pjbC+MIEqMBoNWx0uImJs3AAAAAqAZ7rakb/ABGkJdTFCMb8Y7Ndj8BYJ3z3AeEGrU8yKsTSmMeh\n",
       "C07Xkiz4AAAAb0Ga8EmoQWyZTAhf//6MsAZPhaBAc9/JX7RkO/HWIOFAsZuyC9QgQGV0WBjJSWSn\n",
       "h8nJYi9si6yxMcMglagoLQTXdzz7pTz5Z9euYPmhn6d79alTDZK9RpUv/jGAxZjsPM9ZwNdE4C70\n",
       "D2SeCG+2mQAAADhBnw5FFSx/AA3/9+dS9r2imy42+3+LTx2v2rauZvmx23iHE09s5yMOBFD+edxB\n",
       "j+cj5DweL+I1yQAAACkBny10Rv8AEaQl1s+CRK60mOYV3ovb+kfQ4mzf5OWQsK/+TamldqCSFwAA\n",
       "ACUBny9qRv8AEaQl1o0baBGsBtC2DofneIqD1zQ8/LO0JHAWZOpAAAAAbkGbNEmoQWyZTAhf//6M\n",
       "sAAbNBfVI6pzx6qxodnz7jn9Qq/rBnZBcroAUDp4e40BR3SWfqWruvocUBhNxOpSkY4zZvFTbKCl\n",
       "V415wCzalij5/DK9IzG6fwCjVdw+1x7Ot66Oh+ZBpFLcFTgRcH1YAAAAN0GfUkUVLH8ADf/5Czyf\n",
       "O7yTcdI5xYwitC1ToKKBSbiIfwl/1GMN80/k9uIKT1DsXfW5VEi1I80AAAArAZ9xdEb/ABGkJdRB\n",
       "doUAuMmODEvMFrJKNvZjQAgkhJ/D6HDfMeFlpDfZuAAAACgBn3NqRv8AEaQl1Mu48jeNM6GAvbb+\n",
       "ZInGhzwVDViaJ5sxchpNvdxCAAAAmEGbeEmoQWyZTAhf//6MsAAbQrhg67oAvc528ds3VpCVl4ux\n",
       "SrWKj382IZdDmJbwnPGkZW4WrrnBrmuKk5C8Xj0D8FwFMl4abP8iJpm5vPuSzqYL50IwXLjV4Ja4\n",
       "uEWGm8imzUWMHu3LH8bICTYVbG0jba3ZJkZLsBIyeW9zQHne/U11uzc9k4K2n0Kl+cSjC9IpB3MW\n",
       "HfyBAAAAPkGflkUVLH8ADf/5laDL06+bdCBajLnPpE5Dmpm1LfubVDg1lr/25/wvuFgpHlkhjFPe\n",
       "txTTIP3HOFOkoF7uAAAAKQGftXRG/wARpCXWz4JFPKPzzFGnbo1XHNgexVd2yKWwoZiDFcLoYN39\n",
       "AAAAKgGft2pG/wARpCXWimIHC2YD9TcuBPexULElDmQOGqSnn54DOwRwEiVSEQAAAI1Bm7xJqEFs\n",
       "mUwIX//+jLAAG+97WPyVIABW1CG/SAT5Q34F8c4d36zkB8QOBx4MduZVHDoy6x7qKYJ9oqde+w74\n",
       "cIce9u2xtPDc7eOyLSBkfBMck3qDGHUhr5DBwRCj2KJmT7sVdgPgvAeRCpARPsQJ8CM8fLGLKG9o\n",
       "/L1fExhYouu1BwBRZyxEoSepEusAAABDQZ/aRRUsfwAOJjQtAP2L+MIjCpJncwkY221k2ApzUM5l\n",
       "t9Rfy3Q20gcDz0dN/A29cADPgKvtXNspBw317gVQaWl8JQAAACUBn/l0Rv8AEdtVXsOrmeY+XdEA\n",
       "8JPWHAcCjk3woinp1g2c+rswAAAALAGf+2pG/wAR13Sg/kmyLkNAaPqUu2bt00q4m05SYnDmOdJa\n",
       "NddgTbp+zkeBAAAAoEGb4EmoQWyZTAhf//6MsAXf2SYAOYfksHrHBCsBK378JNwHI2sakONJSaAy\n",
       "EX9rWNKWPP8kq8DjfYkH91T8JAVsW1gnRFKqH0K8bRELSItYGbKQwaVvYqBcL0Ipu2p88L/CScgd\n",
       "RrmzacJOb1yR7/E+WEKcUUEkfT6iUoQkJfM3/4CrWR6R5Lg1SDvgDqh9ZH9JGGuleV3c1CzFDYRK\n",
       "xfkAAABEQZ4eRRUsfwANyJLXjgHgWIKm5sS6bKU6Exs6qdvmNEUOOKw2eojODye+OYcQoAbXg2gW\n",
       "H0+a+Jp5oV6yvP8J1ZzjMEAAAAAlAZ49dEb/ABDf/Mr0UqIAUESzELbCWiSCUkrZHLmBgNXDgP4Z\n",
       "8AAAACcBnj9qRv8AENRr7QpWG6OBs40QPIdWPeQoYuvo71NRLTjCeCPCuzEAAACBQZokSahBbJlM\n",
       "CF///oywABs0GW5ZfVcqaCQTYm/IApKEk4MbIpp434VEpLz7RvapJBPSHHHNj3F1Rp6I5SzXZqqV\n",
       "BChq2jMRu4V2ILz3NLEEZ8RC7gQU4xywCBd2vYuWaOKs+YY0s6+DvV8Rc+zNaIdpK7iNOpFlwVVa\n",
       "G5pWHCHoAAAAREGeQkUVLH8ADdf0EYJx+2tUgw2+vc/bjDsXevGdRiGnCBjjgovbobFLzIlyhcqA\n",
       "BwXuHZppjUhVW6KgAW87FksFDa65AAAAJgGeYXRG/wAQ0nOmTQzjSoX7yOB2cEdgCssex4ELBxmx\n",
       "NoMxaDaiAAAAJgGeY2pG/wAQ3kvVTTDmDS9NNR/f60AgTKIM5EXBq0ZXvfE6F52LAAAAoEGaaEmo\n",
       "QWyZTAhf//6MsAAbKVZ0IA1jAGgDiwsQy9x2oitdZRtiabNRkuP37Eaydn65VbsMd8t32XAUCGKU\n",
       "WxCh/RPQuDoXiPk7Oa5IdKYIOwJTAFaUPPxKvVjbG45TifSaaYQ/waCPmqb+iUfDt/cXZFRh8APh\n",
       "yXt63idQ5VhrxMEpb8Ko63Bv13NGJD3KpQlv8NGq4ZAHiU0FitqkgmEAAAA/QZ6GRRUsfwAN1/QR\n",
       "gtO3Yu18mWNQ6ZB6ZeLlmvOUA5ijThI7e6WBFfvUCAGmD4vw261CL1jtiiMEcimCb3M5AAAAKAGe\n",
       "pXRG/wAQ3/0eunYqBCD6T3NWlphH5MJUmY102iZR5/8Sv7G8qKEAAAAhAZ6nakb/ABDUTBd7ZCUP\n",
       "rW4p5aHxEl7NVb9Ik1MCZT/QAAAAp0GarEmoQWyZTAhf//6MsATAstAgOe/ksd7ZeiPCVVJbjQrq\n",
       "IjzxT/JeyNRVejXALwd8/ce0pdvQi1GeOFCcwvX4CihkHUWzbx9GNV1x1x7umpLYua/GWAhizmcJ\n",
       "0WNT1Al8n9yjpWAL3FCII8II0X+K/EFEcvkw2Z0nEvUg2HM5OpYrYxCHrWD2JNC5p6sJHG2VVLho\n",
       "w8pNgMi7O+bNr7wC4VDElUsVAAAAMkGeykUVLH8ADazmg/ilyOK5fK+0rzdDZKzNbKEe79x90Boe\n",
       "+D9WoJIcSfDEzB7CV3U9AAAAIQGe6XRG/wAQ3/0etemv/+iPRNW7XjJZQEHA+Gt4N3rpgAAAACQB\n",
       "nutqRv8AENRL14JxKx5R1sfoktuXsQFOIbRuRei/NQa3pCwAAACbQZrwSahBbJlMCF///oywADZs\n",
       "z5ksAVv1KEt7El0Kylh+n/09nvw6sXJV6JvNq4aKJUN3S4LX31iRMIy/IQPxq+546TAUXMCuYMbA\n",
       "U0htmF6zQTQLwRqf9c2YdeGW/ZQ3JEe8Bd7PWZFeh/HsuR7Ttp6Vr3bQW4lSo1Mih687h5QtTpB8\n",
       "71/pIbg6MqcBFz1OBL855YFp0POzmfkAAAA1QZ8ORRUsfwANyIOcuSUZSx8pJ1+4iQf7ErAo7uZW\n",
       "4anVdZ8NvL82nXEraCIfePyWMfSjclUAAAAlAZ8tdEb/ABDf/R+qtUu2taoereW2AGPzlEe3XruE\n",
       "ESVkxcYcEQAAACIBny9qRv8AENRL14Ic04FaUaO4VBja8HEUd0JzU95B+JleAAAAq0GbNEmoQWyZ\n",
       "TAhf//6MsAA2T06ABYfUoTG8f2/k3hG9jUIuyJ70qE1Lxy8nkXNxvs9BzEsh6cIKJlS16hpVsW+e\n",
       "rp3rTsC0v77F2lAmBtyiSbYxjDE/9aWPf6yEB9BKKqpRkloVi3ih7bGcPm4lw1Tg49vu8U3FSK3P\n",
       "nIm2qgJAHouIUCypDgDbBw4Rl/4MoR0qF6znd+AOzvnhgSSupyKuu5gM/g5x3eAm8QAAAEBBn1JF\n",
       "FSx/ABr7lMQIYjA3DbEJLuLb1XCgBWi8dljN4eWDEwDM7T4LcGnkGiLfvkef4wzYQdC2pnvYNM/t\n",
       "/wOjAAAAIQGfcXRG/wAQX+bhSWwhhVvDNLlxiTk03yV0nxk8DnsNQAAAACYBn3NqRv8AENRL2Qoh\n",
       "t0xvuyIvwFUDuLWd2XunVOV4Keu9RFWs4AAAAJJBm3hJqEFsmUwIX//+jLAANk9OgAWHUW8zwq7G\n",
       "J3HHOK5CSd+JL/5rU13uiSC7dx4RgY63SRLtI8RCCiLxSTActQlaMv8yyXINBlO9hfUdxRdawz17\n",
       "pypIhl9Xcea4LV0XWekdO85ieMXk71OfHor6F2805cn7vdJghFWnAwlZgs6P8uZ7Nnucw3WzIgNl\n",
       "qPzbCQAAADRBn5ZFFSx/ABr7lMkT4JBa8KSZN+mNH6N3rA11EPW6dWp1X9DUyoxb1fNO3+P7f7F1\n",
       "/RVAAAAAIQGftXRG/wAQX+bhSWCD9C3MdJ0i3dl9Bc41h3tOQGj8qQAAACUBn7dqRv8AENRL1lqE\n",
       "oHvvMm0N/L8CpmhPyIBHoWPkwc0WM2XBAAAAp0GbvEmoQWyZTAhf//6MsASAstAgOe/kse8AeR9s\n",
       "23dDyi5LWdiWoZkAQLCXkuo7KSSS3JL5e6FEeQtTDPDc/DagZ6FxCsWB4D0anVTaJbitf5g9aKG+\n",
       "40hcDpp0Smemna4d8cbWBdcy+rTKRU5IEhVtD/L1fU5AsoY9sIUobRaExjYAGcNeB0DDApGssJrt\n",
       "gjav3WHvzNiGAlojp66I7DeZMDPygvjQAAAAOUGf2kUVLH8AGvulcaXbnlIZtOegCP9qkt3R0orb\n",
       "hSDEvTMxSiQ9+Jz1q+7AI/xyUSxk8XbWevvXRQAAACIBn/l0Rv8AEF/8+MgjGZ3k4isw2Q0T+gUr\n",
       "ShoYvrEOdXsgAAAAIAGf+2pG/wAP4sf1nq+UBw4emdNY+px5h9LvsRtRvxlRAAAAmkGb4EmoQWyZ\n",
       "TAhf//6MsAA2T06ABYUKh9fLXhaN415G9jFNAyxzDi+6mi4EwRG3cqrti+VPjyVN+ygkBt9pgqtH\n",
       "WI404/gyfASQhGKbk/c1/qp4I8nVKkrBPNqadpOCAnGX+DbzXG34AY5Y8SuqgdrUnAb2AtwQ9ep0\n",
       "qEe5deez1MxfSOt759NsQlQZzfwiwpYx4wKQpnidNGEAAAA5QZ4eRRUsfwAa+5O4RPCjNEv5DpRQ\n",
       "8kgCP1EXhpORo1jW2RxZXlHVoJVkfIYrqCujEBi15dIqzc14AAAAIgGePXRG/wAP4/pTBcl8ByUZ\n",
       "FTzLvWqzO5o0XFd2NmcQxYAAAAAkAZ4/akb/AA/i0vycLZbk2MjeGwVySu3JoVCKS7vbZXvdfHnB\n",
       "AAAArEGaJEmoQWyZTAhf//6MsAA2QWM3DdsQAghVyT3EzCuBTetvn7pKh9/3mVz8nbG8YunY5qXv\n",
       "GXWUW2/ujt/Rmt+TmxSTr3vtdMGFO9goqLx+5rdzOn/2hdTeWf7tlHba5490wPq1PYP+T/TqvMpl\n",
       "HcpkZgmCNUJY43dG7Iffs+53bMe4e3F0pb1oyYEu72bszS8b2txmoqE9eVfriQP+OhTWjcZA0vPH\n",
       "xbiOS4AAAAA7QZ5CRRUsfwAa+5SMlVMI4+zqtOhSuuuYdHqLrZ99wNzyyyxy7ldKjwADg9qgdlgy\n",
       "xt4gZUEU72frv3kAAAAjAZ5hdEb/AA/j5msF25AbIJWAa6Pr+TAGMLTUJgVQyAoYLyAAAAAkAZ5j\n",
       "akb/ABDW577UuduEhpEuu6j0W2p64eWP1sFxwVxJroOPAAAAq0GaaEmoQWyZTAhf//6MsAA2Y+ON\n",
       "cAVbhShhXBVg+/tL3k1luDx5RX+fCjTyN4bpTjwd+1VzebC1I9gfJhyXVddAbb7BSGcScS3EkfKW\n",
       "THcvY+S5X6U6Gnm6Pc7tS16kj8GYohngEjDJlNDcRIsoxJsJ8hRaJvjSgCIvcQHk7PvEatOU7wZI\n",
       "bRnglpaLEPP/hqk0JjVWJ8wMTfdEghQivtfNcsyCHsJB0+/fTwAAADxBnoZFFSx/ABr7lGxIQSp9\n",
       "OkOzqznnCld57RHfkCuJFmu/0I1S4BgK07WJ6oHcOeUSmgqOOAndft8YqYkAAAAgAZ6ldEb/AA8p\n",
       "c5px86H+kFWO7fUtm1R5vIPatlbhqykAAAAgAZ6nakb/AA8qlfv9GVS/hcFk05r+bgosxvCSDY68\n",
       "omAAAACcQZqsSahBbJlMCF///oywADZA1K+SQAjTMAiDWowpPoyN6FKTpzhLo0/D3FvFPSN6vsh6\n",
       "tb7Xj7ORY3X3o+lVqSxd7ufc4hyKMGb9heA8mh8eBxiofergHB+RPOOeSr9pNjxH8rYNv869jtUP\n",
       "T2zPCnBQHIluvUnfiEylmTkfBOguBDf+urMyxd9HClqzs2xbLVyXqnd24HniLDMsAAAAQ0GeykUV\n",
       "LH8AGw6XhiechE/prC/vDVMNq8F17qYCEejE8msBAVQ63rVPLB+v3ztP6SgPFoWZvcANRP9HyrTM\n",
       "R7CM9zEAAAAfAZ7pdEb/AA7b+kbfMk5EN4Sb624ki0IyRvzWOUBbgAAAACQBnutqRv8ADyqlL6Wr\n",
       "DdKVrnFptLPbMkOxKcgL3vV3iLDTqyEAAADcQZrwSahBbJlMCF///oywADZj62bgCFi0sCCcrHvP\n",
       "2a47n0x0RMcnOKW/UsTFcpArnA8GvsT3XZl9nf5a+zKm0poojToRhtefKq9hZmRQpA7z5HDMutzG\n",
       "PYAnYVKkCEgNMp/0KzLeIpADnkBltGSSSYtSjwfyypT1AzMOA8t7ZZ14NLp0kL7k9vbEpdytZUpm\n",
       "7zCrv037YWlJER0FdTr6nsfyNmd7AT3HJvIDCJ3CmhCsO5ep0z7ShBp1QYBav7mRV5LTt2HCNJ5C\n",
       "WxehoLvH09HqHngvHa9I5RJfuQAAAExBnw5FFSx/ABr7lGyf9D6kVa8rNbABW0GIgwWrtDzzl181\n",
       "6e+k5lGq7YlYMEn/i/651NQBXv25NoyunEENflkvJ3alIvOBCCELZdt1AAAAKQGfLXRG/wAfGyMD\n",
       "XtAjKxzq2FvrRsTnEjX0lLLOjXmX+wWjcOFV9u7FAAAAIgGfL2pG/wAQpLmCJVwvHmMwexs+xoAu\n",
       "RXESeP72/EDr/+AAAAC7QZs0SahBbJlMCF///oywADZjm0sAQvWztdo52r4Uvkv9t+/OII6YxuS/\n",
       "FN1Iqt5zyrYdn2yAbshOn7nQtxXS+jJO9izo1Et9WvORp6n5R+6vkgY55ZacZ/Ql2qjRWHe3omSL\n",
       "IYCJra4+kCL6+1tBDaTxe5LWJiznVqqV08lmfsAgDpOzJHZGg89NbGiqQA1E53P2OfJmwdgl1CfI\n",
       "i2Mv+hxzqOCVRJpfLHJzAlZJ3yF0JqfP+2Ojb2wZoAAAAEdBn1JFFSx/ABr7lGxGwMz7/ekdoKnO\n",
       "lTQHBkMXAJrrB1JZkQ52jJVj/2XetL1EmuPsfUd+Jtk7wADZX/dTfciI7Iog3s+BEQAAACoBn3F0\n",
       "Rv8ADzP5iuOozecUtVtc8xbjzt7JtuyzaaA8MxBj/DX65hf8ReAAAAAuAZ9zakb/AB+1S4XbFBci\n",
       "3ms9XsEbl0DFCWAUea2DlntEP1TPmrOFtKleo12LYAAAAL5Bm3hJqEFsmUwIV//+OEAA0xLsxAFR\n",
       "Xp3FDuzUXzdhZDys5VNkmk3AQYp92FlU7sSU+WKuDQYSk2F/6Y92hR7kkWtc9la0mTrznIiDnwXY\n",
       "9jch60qlmQBhEHIaOtFnTeX2wxxHIzi6VFDEzgQV0xTrqAoD1yMnplsxzEusFV4G/pSmPpsJxiRJ\n",
       "aWXBXqkSZRzWDjdSX/vNBZFfLlEYQ2aT4FvSJf6lI0CM3H90xme3WFRiL2p1e7uAPU7t1iITAAAA\n",
       "RkGflkUVLH8AGluUbKPjyik1NVAOX4atZu34asTYtcAAFdWaeUnm74OLgXOavHyEqM0LPK9s2fDF\n",
       "svoX+1GVgt4m/lv1O9IAAAAjAZ+1dEb/ABDUQGMB9XwgKnwZzS/V9AHqh0Tzoe9ZbM40FJEAAAAm\n",
       "AZ+3akb/AB5moiJlC/OSQgyPuVPkzSLjU0pQoGWd82NpOkYaTiEAAACqQZu8SahBbJlMCFf//jhA\n",
       "ANKyxIAhcHE8WsSWdB41ZNAfreGOKwMdkJuM/hI+kTRTtTuc49Im51VZfOwnG7spcI66uyAXw3vF\n",
       "QEV2OLpF2v7tcrwazsff/W+qwOKtTjXVjsfkBQB9fWxWgOQjN5MUr/awrf36vxmn8npiHh8YFNod\n",
       "s3+4IfgP2v/eIq5zUpNAbYGRH4wzeCo4b6OnX/uwqf/AeiRsQ9eMhnAAAAA1QZ/aRRUsfwAaZ4Ja\n",
       "V4tAHogw6iX2tOzyZ+uNPjoVpIi9wRTzbPZVRTQLMrX2X44QcOpg8vEAAAAlAZ/5dEb/ABDiCM+S\n",
       "JKdHn+6vi6MSU9mm6xfiqxV6I9U3UptPwAAAACEBn/tqRv8ADtK5GMRi5SQdKXvXYTlr87ObZI5D\n",
       "A+hEB3UAAACWQZvgSahBbJlMCFf//jhAANM1qz3Dw9kqvrpv9GTBH0ksALGe8jOj1nzyA5E7Z3cA\n",
       "MWmTss/nxjUaWwaCkKYBkxfhHTQduNYRvLju9a8Sp/l4NXOvbocFEK+PPUhn5hyv5Ec3BewYgEkb\n",
       "wRFlP6Z52UxLdB2P1z50CXTFXbnnNKJfFGJgd9l062FC4H4UaGdNNJHRO4tZAAAAVEGeHkUVLH8A\n",
       "GmeCWlffPugi/w7RfbbR/lI5MpL7OgmgPJZxuj+AumjljWHOupaf8zPQFvRgBGAGAQSRfHIYrg0n\n",
       "CrfSGwfgc+jMomfGSQ8MNq2usAAAACcBnj10Rv8ADylmNBtBkbljWguGYk/uqAaW4zU9eV7Y64Wj\n",
       "sK3DgoAAAAApAZ4/akb/ABDfh9Il8/Y8hJ2cun5lyjrDNeSX+mFOv4Z6aAVqBecovtkAAAB7QZok\n",
       "SahBbJlMCE///fEAAfLxFaAFsNobDud25Tham3YXRQs4m6JVVg+DLlul46r2ZvH2aIAA/0JKPyNK\n",
       "USiQ3mbiL6J09Tl5nVw0fQ5zjqu6VNHKraDHP/oIpC73gtzo7um2R7sHGjZyyAG1PbTY2hGVYkR3\n",
       "uMLfFdtAAAAAQEGeQkUVLH8AGceB+pXOeYgBuVn1MCROulMXEkWtvCGF3RklKNTn0khyDSl6jmfS\n",
       "ZxL0LHIJc/YO3TXgJeyrzvUAAAAkAZ5hdEb/ABDUSfmmFbTLEUUwJ1E53D6d7ayWqr4INSvleAwI\n",
       "AAAAIwGeY2pG/wAP3Q+ORcics9f6vHNk1+saxqMvTjILMKnJX4dNAAAAbkGaZ0moQWyZTAjf+lgA\n",
       "GBGfinBtUFZdVSDugBXMEsDfCT0x8vTXaVjs7Il+A4ZNE1Yf9tLSiIR0z/z3fnmrQCFwqoRQ+hrM\n",
       "/OrN0gwqomdJQJuKcAZrgWeRXFkRUg2pZc4R2XTCbrD+4+rJ7uxPAAAAPkGehUUVLH8ANgefRbkJ\n",
       "UdTKf1hglJTAY9EhxkwCw9qyno3dXrQX5tJKGGgxK1C1kieHBE6c0j6fNwo5/Rh/AAAAIQGepmpG\n",
       "/wAOgsf1nDWVrRR8rzR0K1cilXqtNJr7UDQUkQAADIRtb292AAAAbG12aGQAAAAAAAAAAAAAAAAA\n",
       "AAPoAAALuAABAAABAAAAAAAAAAAAAAAAAQAAAAAAAAAAAAAAAAAAAAEAAAAAAAAAAAAAAAAAAEAA\n",
       "AAAAAAAAAAAAAAAAAAAAAAAAAAAAAAAAAAAAAAACAAALr3RyYWsAAABcdGtoZAAAAAMAAAAAAAAA\n",
       "AAAAAAEAAAAAAAALuAAAAAAAAAAAAAAAAAAAAAAAAQAAAAAAAAAAAAAAAAAAAAEAAAAAAAAAAAAA\n",
       "AAAAAEAAAAABsAAAASAAAAAAACRlZHRzAAAAHGVsc3QAAAAAAAAAAQAAC7gAAAGAAAEAAAAACydt\n",
       "ZGlhAAAAIG1kaGQAAAAAAAAAAAAAAAAAADIAAACWAFXEAAAAAAAtaGRscgAAAAAAAAAAdmlkZQAA\n",
       "AAAAAAAAAAAAAFZpZGVvSGFuZGxlcgAAAArSbWluZgAAABR2bWhkAAAAAQAAAAAAAAAAAAAAJGRp\n",
       "bmYAAAAcZHJlZgAAAAAAAAABAAAADHVybCAAAAABAAAKknN0YmwAAACyc3RzZAAAAAAAAAABAAAA\n",
       "omF2YzEAAAAAAAAAAQAAAAAAAAAAAAAAAAAAAAABsAEgAEgAAABIAAAAAAAAAAEAAAAAAAAAAAAA\n",
       "AAAAAAAAAAAAAAAAAAAAAAAAAAAAAAAY//8AAAAwYXZjQwFkAB7/4QAXZ2QAHqzZQbCWhAAAAwAM\n",
       "AAAGQDxYtlgBAAZo6+PLIsAAAAAcdXVpZGtoQPJfJE/FujmlG88DI/MAAAAAAAAAGHN0dHMAAAAA\n",
       "AAAAAQAAAMgAAADAAAAAFHN0c3MAAAAAAAAAAQAAAAEAAAZIY3R0cwAAAAAAAADHAAAAAQAAAYAA\n",
       "AAABAAADwAAAAAEAAAGAAAAAAQAAAAAAAAABAAAAwAAAAAEAAAPAAAAAAQAAAYAAAAABAAAAAAAA\n",
       "AAEAAADAAAAAAQAAA8AAAAABAAABgAAAAAEAAAAAAAAAAQAAAMAAAAABAAADwAAAAAEAAAGAAAAA\n",
       "AQAAAAAAAAABAAAAwAAAAAEAAAPAAAAAAQAAAYAAAAABAAAAAAAAAAEAAADAAAAAAQAAA8AAAAAB\n",
       "AAABgAAAAAEAAAAAAAAAAQAAAMAAAAABAAADwAAAAAEAAAGAAAAAAQAAAAAAAAABAAAAwAAAAAEA\n",
       "AAPAAAAAAQAAAYAAAAABAAAAAAAAAAEAAADAAAAAAQAAA8AAAAABAAABgAAAAAEAAAAAAAAAAQAA\n",
       "AMAAAAABAAADwAAAAAEAAAGAAAAAAQAAAAAAAAABAAAAwAAAAAEAAAPAAAAAAQAAAYAAAAABAAAA\n",
       "AAAAAAEAAADAAAAAAQAAA8AAAAABAAABgAAAAAEAAAAAAAAAAQAAAMAAAAABAAADwAAAAAEAAAGA\n",
       "AAAAAQAAAAAAAAABAAAAwAAAAAEAAAPAAAAAAQAAAYAAAAABAAAAAAAAAAEAAADAAAAAAQAAA8AA\n",
       "AAABAAABgAAAAAEAAAAAAAAAAQAAAMAAAAABAAADwAAAAAEAAAGAAAAAAQAAAAAAAAABAAAAwAAA\n",
       "AAEAAAPAAAAAAQAAAYAAAAABAAAAAAAAAAEAAADAAAAAAQAAA8AAAAABAAABgAAAAAEAAAAAAAAA\n",
       "AQAAAMAAAAABAAADwAAAAAEAAAGAAAAAAQAAAAAAAAABAAAAwAAAAAEAAAPAAAAAAQAAAYAAAAAB\n",
       "AAAAAAAAAAEAAADAAAAAAQAAA8AAAAABAAABgAAAAAEAAAAAAAAAAQAAAMAAAAABAAADwAAAAAEA\n",
       "AAGAAAAAAQAAAAAAAAABAAAAwAAAAAEAAAPAAAAAAQAAAYAAAAABAAAAAAAAAAEAAADAAAAAAQAA\n",
       "A8AAAAABAAABgAAAAAEAAAAAAAAAAQAAAMAAAAABAAADwAAAAAEAAAGAAAAAAQAAAAAAAAABAAAA\n",
       "wAAAAAEAAAPAAAAAAQAAAYAAAAABAAAAAAAAAAEAAADAAAAAAQAAA8AAAAABAAABgAAAAAEAAAAA\n",
       "AAAAAQAAAMAAAAABAAADwAAAAAEAAAGAAAAAAQAAAAAAAAABAAAAwAAAAAEAAAPAAAAAAQAAAYAA\n",
       "AAABAAAAAAAAAAEAAADAAAAAAQAAA8AAAAABAAABgAAAAAEAAAAAAAAAAQAAAMAAAAABAAADwAAA\n",
       "AAEAAAGAAAAAAQAAAAAAAAABAAAAwAAAAAEAAAPAAAAAAQAAAYAAAAABAAAAAAAAAAEAAADAAAAA\n",
       "AQAAA8AAAAABAAABgAAAAAEAAAAAAAAAAQAAAMAAAAABAAADwAAAAAEAAAGAAAAAAQAAAAAAAAAB\n",
       "AAAAwAAAAAEAAAPAAAAAAQAAAYAAAAABAAAAAAAAAAEAAADAAAAAAQAAA8AAAAABAAABgAAAAAEA\n",
       "AAAAAAAAAQAAAMAAAAABAAADwAAAAAEAAAGAAAAAAQAAAAAAAAABAAAAwAAAAAEAAAPAAAAAAQAA\n",
       "AYAAAAABAAAAAAAAAAEAAADAAAAAAQAAA8AAAAABAAABgAAAAAEAAAAAAAAAAQAAAMAAAAABAAAD\n",
       "wAAAAAEAAAGAAAAAAQAAAAAAAAABAAAAwAAAAAEAAAPAAAAAAQAAAYAAAAABAAAAAAAAAAEAAADA\n",
       "AAAAAQAAA8AAAAABAAABgAAAAAEAAAAAAAAAAQAAAMAAAAABAAADwAAAAAEAAAGAAAAAAQAAAAAA\n",
       "AAABAAAAwAAAAAEAAAPAAAAAAQAAAYAAAAABAAAAAAAAAAEAAADAAAAAAQAAA8AAAAABAAABgAAA\n",
       "AAEAAAAAAAAAAQAAAMAAAAABAAADwAAAAAEAAAGAAAAAAQAAAAAAAAABAAAAwAAAAAEAAAPAAAAA\n",
       "AQAAAYAAAAABAAAAAAAAAAEAAADAAAAAAQAAA8AAAAABAAABgAAAAAEAAAAAAAAAAQAAAMAAAAAB\n",
       "AAADwAAAAAEAAAGAAAAAAQAAAAAAAAABAAAAwAAAAAEAAAMAAAAAAgAAAMAAAAAcc3RzYwAAAAAA\n",
       "AAABAAAAAQAAAMgAAAABAAADNHN0c3oAAAAAAAAAAAAAAMgAAAsWAAABTAAAADkAAAAmAAAAJgAA\n",
       "AHEAAAAsAAAAIgAAAB4AAABuAAAAJAAAAB0AAAAbAAAAVQAAACEAAAAYAAAAFwAAAFIAAAAlAAAA\n",
       "HgAAABwAAABVAAAAIQAAABsAAAAbAAAAVwAAACMAAAAYAAAAFwAAAFkAAAAjAAAAGQAAAB0AAABE\n",
       "AAAAJAAAABsAAAAaAAAAWAAAACMAAAAcAAAAHAAAAFUAAAAkAAAAHQAAABwAAABWAAAALwAAABkA\n",
       "AAAeAAAAZAAAACgAAAAdAAAAGwAAAGoAAAAoAAAAHQAAABsAAAB2AAAANwAAABsAAAAdAAAAdAAA\n",
       "AC8AAAAhAAAAJwAAAIoAAAAwAAAAJQAAACcAAAB3AAAAPAAAACQAAAApAAAAWgAAADAAAAAkAAAA\n",
       "JwAAAHIAAAA0AAAAJwAAACUAAABiAAAANQAAACUAAAAlAAAAgwAAAEQAAAAoAAAAJgAAAG0AAABB\n",
       "AAAALAAAACoAAAByAAAAQAAAAC0AAAArAAAAjwAAAEYAAAAoAAAAKAAAAJYAAAA5AAAAKQAAACkA\n",
       "AACTAAAAPAAAACYAAAAuAAAAcwAAADwAAAAtAAAAKQAAAHIAAAA7AAAALwAAACwAAACcAAAAQgAA\n",
       "AC0AAAAuAAAAkQAAAEcAAAApAAAAMAAAAKQAAABIAAAAKQAAACsAAACFAAAASAAAACoAAAAqAAAA\n",
       "pAAAAEMAAAAsAAAAJQAAAKsAAAA2AAAAJQAAACgAAACfAAAAOQAAACkAAAAmAAAArwAAAEQAAAAl\n",
       "AAAAKgAAAJYAAAA4AAAAJQAAACkAAACrAAAAPQAAACYAAAAkAAAAngAAAD0AAAAmAAAAKAAAALAA\n",
       "AAA/AAAAJwAAACgAAACvAAAAQAAAACQAAAAkAAAAoAAAAEcAAAAjAAAAKAAAAOAAAABQAAAALQAA\n",
       "ACYAAAC/AAAASwAAAC4AAAAyAAAAwgAAAEoAAAAnAAAAKgAAAK4AAAA5AAAAKQAAACUAAACaAAAA\n",
       "WAAAACsAAAAtAAAAfwAAAEQAAAAoAAAAJwAAAHIAAABCAAAAJQAAABRzdGNvAAAAAAAAAAEAAAAs\n",
       "AAAAYXVkdGEAAABZbWV0YQAAAAAAAAAhaGRscgAAAAAAAAAAbWRpcmFwcGwAAAAAAAAAAAAAAAAs\n",
       "aWxzdAAAACSpdG9vAAAAHGRhdGEAAAABAAAAAExhdmY1OC4zLjEwMA==\n",
       "\">\n",
       "  Your browser does not support the video tag.\n",
       "</video>"
      ],
      "text/plain": [
       "<matplotlib.animation.FuncAnimation at 0x19461095da0>"
      ]
     },
     "execution_count": 12,
     "metadata": {},
     "output_type": "execute_result"
    },
    {
     "data": {
      "image/png": "[encoded data removed]",
      "text/plain": [
       "<matplotlib.figure.Figure at 0x1945094da58>"
      ]
     },
     "metadata": {},
     "output_type": "display_data"
    }
   ],
   "source": [
    "%matplotlib inline \n",
    "maxv=-1e10\n",
    "minv=1e10\n",
    "minv = [min(minv,min(t)) for t in U]\n",
    "minv=min(minv)\n",
    "maxv = [max(maxv,max(t)) for t in U]\n",
    "maxv=max(maxv)\n",
    "fig, ax = plt.subplots()\n",
    "ax.set_xlim(0,l)\n",
    "ax.set_ylim(minv-1,maxv+1)\n",
    "ax.grid(True)\n",
    "line, = ax.plot([], [], lw=2)\n",
    "# initialization function: plot the background of each frame\n",
    "def init():\n",
    "    line.set_data([], [])\n",
    "    return (line,)\n",
    "# animation function. This is called sequentially\n",
    "def animate(i):\n",
    "    x = np.linspace(0,l,U.shape[1],dtype=np.longdouble)\n",
    "    line.set_data(x, U[i])\n",
    "    return (line,)\n",
    "# call the animator. blit=True means only re-draw the parts that have changed.\n",
    "anim = animation.FuncAnimation(fig, animate, init_func=init,\n",
    "                               frames=U.shape[0], interval=1000/U.shape[0]*anim_speed.value, blit=True)\n",
    "# equivalent to rcParams['animation.html'] = 'html5'\n",
    "\n",
    "rc('animation', html='html5')\n",
    "anim"
   ]
  },
  {
   "cell_type": "code",
   "execution_count": 13,
   "metadata": {
    "hideCode": false,
    "hidePrompt": false,
    "scrolled": false
   },
   "outputs": [
    {
     "data": {
      "application/javascript": [
       "/* Put everything inside the global mpl namespace */\n",
       "window.mpl = {};\n",
       "\n",
       "\n",
       "mpl.get_websocket_type = function() {\n",
       "    if (typeof(WebSocket) !== 'undefined') {\n",
       "        return WebSocket;\n",
       "    } else if (typeof(MozWebSocket) !== 'undefined') {\n",
       "        return MozWebSocket;\n",
       "    } else {\n",
       "        alert('Your browser does not have WebSocket support.' +\n",
       "              'Please try Chrome, Safari or Firefox ≥ 6. ' +\n",
       "              'Firefox 4 and 5 are also supported but you ' +\n",
       "              'have to enable WebSockets in about:config.');\n",
       "    };\n",
       "}\n",
       "\n",
       "mpl.figure = function(figure_id, websocket, ondownload, parent_element) {\n",
       "    this.id = figure_id;\n",
       "\n",
       "    this.ws = websocket;\n",
       "\n",
       "    this.supports_binary = (this.ws.binaryType != undefined);\n",
       "\n",
       "    if (!this.supports_binary) {\n",
       "        var warnings = document.getElementById(\"mpl-warnings\");\n",
       "        if (warnings) {\n",
       "            warnings.style.display = 'block';\n",
       "            warnings.textContent = (\n",
       "                \"This browser does not support binary websocket messages. \" +\n",
       "                    \"Performance may be slow.\");\n",
       "        }\n",
       "    }\n",
       "\n",
       "    this.imageObj = new Image();\n",
       "\n",
       "    this.context = undefined;\n",
       "    this.message = undefined;\n",
       "    this.canvas = undefined;\n",
       "    this.rubberband_canvas = undefined;\n",
       "    this.rubberband_context = undefined;\n",
       "    this.format_dropdown = undefined;\n",
       "\n",
       "    this.image_mode = 'full';\n",
       "\n",
       "    this.root = $('<div/>');\n",
       "    this._root_extra_style(this.root)\n",
       "    this.root.attr('style', 'display: inline-block');\n",
       "\n",
       "    $(parent_element).append(this.root);\n",
       "\n",
       "    this._init_header(this);\n",
       "    this._init_canvas(this);\n",
       "    this._init_toolbar(this);\n",
       "\n",
       "    var fig = this;\n",
       "\n",
       "    this.waiting = false;\n",
       "\n",
       "    this.ws.onopen =  function () {\n",
       "            fig.send_message(\"supports_binary\", {value: fig.supports_binary});\n",
       "            fig.send_message(\"send_image_mode\", {});\n",
       "            if (mpl.ratio != 1) {\n",
       "                fig.send_message(\"set_dpi_ratio\", {'dpi_ratio': mpl.ratio});\n",
       "            }\n",
       "            fig.send_message(\"refresh\", {});\n",
       "        }\n",
       "\n",
       "    this.imageObj.onload = function() {\n",
       "            if (fig.image_mode == 'full') {\n",
       "                // Full images could contain transparency (where diff images\n",
       "                // almost always do), so we need to clear the canvas so that\n",
       "                // there is no ghosting.\n",
       "                fig.context.clearRect(0, 0, fig.canvas.width, fig.canvas.height);\n",
       "            }\n",
       "            fig.context.drawImage(fig.imageObj, 0, 0);\n",
       "        };\n",
       "\n",
       "    this.imageObj.onunload = function() {\n",
       "        fig.ws.close();\n",
       "    }\n",
       "\n",
       "    this.ws.onmessage = this._make_on_message_function(this);\n",
       "\n",
       "    this.ondownload = ondownload;\n",
       "}\n",
       "\n",
       "mpl.figure.prototype._init_header = function() {\n",
       "    var titlebar = $(\n",
       "        '<div class=\"ui-dialog-titlebar ui-widget-header ui-corner-all ' +\n",
       "        'ui-helper-clearfix\"/>');\n",
       "    var titletext = $(\n",
       "        '<div class=\"ui-dialog-title\" style=\"width: 100%; ' +\n",
       "        'text-align: center; padding: 3px;\"/>');\n",
       "    titlebar.append(titletext)\n",
       "    this.root.append(titlebar);\n",
       "    this.header = titletext[0];\n",
       "}\n",
       "\n",
       "\n",
       "\n",
       "mpl.figure.prototype._canvas_extra_style = function(canvas_div) {\n",
       "\n",
       "}\n",
       "\n",
       "\n",
       "mpl.figure.prototype._root_extra_style = function(canvas_div) {\n",
       "\n",
       "}\n",
       "\n",
       "mpl.figure.prototype._init_canvas = function() {\n",
       "    var fig = this;\n",
       "\n",
       "    var canvas_div = $('<div/>');\n",
       "\n",
       "    canvas_div.attr('style', 'position: relative; clear: both; outline: 0');\n",
       "\n",
       "    function canvas_keyboard_event(event) {\n",
       "        return fig.key_event(event, event['data']);\n",
       "    }\n",
       "\n",
       "    canvas_div.keydown('key_press', canvas_keyboard_event);\n",
       "    canvas_div.keyup('key_release', canvas_keyboard_event);\n",
       "    this.canvas_div = canvas_div\n",
       "    this._canvas_extra_style(canvas_div)\n",
       "    this.root.append(canvas_div);\n",
       "\n",
       "    var canvas = $('<canvas/>');\n",
       "    canvas.addClass('mpl-canvas');\n",
       "    canvas.attr('style', \"left: 0; top: 0; z-index: 0; outline: 0\")\n",
       "\n",
       "    this.canvas = canvas[0];\n",
       "    this.context = canvas[0].getContext(\"2d\");\n",
       "\n",
       "    var backingStore = this.context.backingStorePixelRatio ||\n",
       "\tthis.context.webkitBackingStorePixelRatio ||\n",
       "\tthis.context.mozBackingStorePixelRatio ||\n",
       "\tthis.context.msBackingStorePixelRatio ||\n",
       "\tthis.context.oBackingStorePixelRatio ||\n",
       "\tthis.context.backingStorePixelRatio || 1;\n",
       "\n",
       "    mpl.ratio = (window.devicePixelRatio || 1) / backingStore;\n",
       "\n",
       "    var rubberband = $('<canvas/>');\n",
       "    rubberband.attr('style', \"position: absolute; left: 0; top: 0; z-index: 1;\")\n",
       "\n",
       "    var pass_mouse_events = true;\n",
       "\n",
       "    canvas_div.resizable({\n",
       "        start: function(event, ui) {\n",
       "            pass_mouse_events = false;\n",
       "        },\n",
       "        resize: function(event, ui) {\n",
       "            fig.request_resize(ui.size.width, ui.size.height);\n",
       "        },\n",
       "        stop: function(event, ui) {\n",
       "            pass_mouse_events = true;\n",
       "            fig.request_resize(ui.size.width, ui.size.height);\n",
       "        },\n",
       "    });\n",
       "\n",
       "    function mouse_event_fn(event) {\n",
       "        if (pass_mouse_events)\n",
       "            return fig.mouse_event(event, event['data']);\n",
       "    }\n",
       "\n",
       "    rubberband.mousedown('button_press', mouse_event_fn);\n",
       "    rubberband.mouseup('button_release', mouse_event_fn);\n",
       "    // Throttle sequential mouse events to 1 every 20ms.\n",
       "    rubberband.mousemove('motion_notify', mouse_event_fn);\n",
       "\n",
       "    rubberband.mouseenter('figure_enter', mouse_event_fn);\n",
       "    rubberband.mouseleave('figure_leave', mouse_event_fn);\n",
       "\n",
       "    canvas_div.on(\"wheel\", function (event) {\n",
       "        event = event.originalEvent;\n",
       "        event['data'] = 'scroll'\n",
       "        if (event.deltaY < 0) {\n",
       "            event.step = 1;\n",
       "        } else {\n",
       "            event.step = -1;\n",
       "        }\n",
       "        mouse_event_fn(event);\n",
       "    });\n",
       "\n",
       "    canvas_div.append(canvas);\n",
       "    canvas_div.append(rubberband);\n",
       "\n",
       "    this.rubberband = rubberband;\n",
       "    this.rubberband_canvas = rubberband[0];\n",
       "    this.rubberband_context = rubberband[0].getContext(\"2d\");\n",
       "    this.rubberband_context.strokeStyle = \"#000000\";\n",
       "\n",
       "    this._resize_canvas = function(width, height) {\n",
       "        // Keep the size of the canvas, canvas container, and rubber band\n",
       "        // canvas in synch.\n",
       "        canvas_div.css('width', width)\n",
       "        canvas_div.css('height', height)\n",
       "\n",
       "        canvas.attr('width', width * mpl.ratio);\n",
       "        canvas.attr('height', height * mpl.ratio);\n",
       "        canvas.attr('style', 'width: ' + width + 'px; height: ' + height + 'px;');\n",
       "\n",
       "        rubberband.attr('width', width);\n",
       "        rubberband.attr('height', height);\n",
       "    }\n",
       "\n",
       "    // Set the figure to an initial 600x600px, this will subsequently be updated\n",
       "    // upon first draw.\n",
       "    this._resize_canvas(600, 600);\n",
       "\n",
       "    // Disable right mouse context menu.\n",
       "    $(this.rubberband_canvas).bind(\"contextmenu\",function(e){\n",
       "        return false;\n",
       "    });\n",
       "\n",
       "    function set_focus () {\n",
       "        canvas.focus();\n",
       "        canvas_div.focus();\n",
       "    }\n",
       "\n",
       "    window.setTimeout(set_focus, 100);\n",
       "}\n",
       "\n",
       "mpl.figure.prototype._init_toolbar = function() {\n",
       "    var fig = this;\n",
       "\n",
       "    var nav_element = $('<div/>')\n",
       "    nav_element.attr('style', 'width: 100%');\n",
       "    this.root.append(nav_element);\n",
       "\n",
       "    // Define a callback function for later on.\n",
       "    function toolbar_event(event) {\n",
       "        return fig.toolbar_button_onclick(event['data']);\n",
       "    }\n",
       "    function toolbar_mouse_event(event) {\n",
       "        return fig.toolbar_button_onmouseover(event['data']);\n",
       "    }\n",
       "\n",
       "    for(var toolbar_ind in mpl.toolbar_items) {\n",
       "        var name = mpl.toolbar_items[toolbar_ind][0];\n",
       "        var tooltip = mpl.toolbar_items[toolbar_ind][1];\n",
       "        var image = mpl.toolbar_items[toolbar_ind][2];\n",
       "        var method_name = mpl.toolbar_items[toolbar_ind][3];\n",
       "\n",
       "        if (!name) {\n",
       "            // put a spacer in here.\n",
       "            continue;\n",
       "        }\n",
       "        var button = $('<button/>');\n",
       "        button.addClass('ui-button ui-widget ui-state-default ui-corner-all ' +\n",
       "                        'ui-button-icon-only');\n",
       "        button.attr('role', 'button');\n",
       "        button.attr('aria-disabled', 'false');\n",
       "        button.click(method_name, toolbar_event);\n",
       "        button.mouseover(tooltip, toolbar_mouse_event);\n",
       "\n",
       "        var icon_img = $('<span/>');\n",
       "        icon_img.addClass('ui-button-icon-primary ui-icon');\n",
       "        icon_img.addClass(image);\n",
       "        icon_img.addClass('ui-corner-all');\n",
       "\n",
       "        var tooltip_span = $('<span/>');\n",
       "        tooltip_span.addClass('ui-button-text');\n",
       "        tooltip_span.html(tooltip);\n",
       "\n",
       "        button.append(icon_img);\n",
       "        button.append(tooltip_span);\n",
       "\n",
       "        nav_element.append(button);\n",
       "    }\n",
       "\n",
       "    var fmt_picker_span = $('<span/>');\n",
       "\n",
       "    var fmt_picker = $('<select/>');\n",
       "    fmt_picker.addClass('mpl-toolbar-option ui-widget ui-widget-content');\n",
       "    fmt_picker_span.append(fmt_picker);\n",
       "    nav_element.append(fmt_picker_span);\n",
       "    this.format_dropdown = fmt_picker[0];\n",
       "\n",
       "    for (var ind in mpl.extensions) {\n",
       "        var fmt = mpl.extensions[ind];\n",
       "        var option = $(\n",
       "            '<option/>', {selected: fmt === mpl.default_extension}).html(fmt);\n",
       "        fmt_picker.append(option)\n",
       "    }\n",
       "\n",
       "    // Add hover states to the ui-buttons\n",
       "    $( \".ui-button\" ).hover(\n",
       "        function() { $(this).addClass(\"ui-state-hover\");},\n",
       "        function() { $(this).removeClass(\"ui-state-hover\");}\n",
       "    );\n",
       "\n",
       "    var status_bar = $('<span class=\"mpl-message\"/>');\n",
       "    nav_element.append(status_bar);\n",
       "    this.message = status_bar[0];\n",
       "}\n",
       "\n",
       "mpl.figure.prototype.request_resize = function(x_pixels, y_pixels) {\n",
       "    // Request matplotlib to resize the figure. Matplotlib will then trigger a resize in the client,\n",
       "    // which will in turn request a refresh of the image.\n",
       "    this.send_message('resize', {'width': x_pixels, 'height': y_pixels});\n",
       "}\n",
       "\n",
       "mpl.figure.prototype.send_message = function(type, properties) {\n",
       "    properties['type'] = type;\n",
       "    properties['figure_id'] = this.id;\n",
       "    this.ws.send(JSON.stringify(properties));\n",
       "}\n",
       "\n",
       "mpl.figure.prototype.send_draw_message = function() {\n",
       "    if (!this.waiting) {\n",
       "        this.waiting = true;\n",
       "        this.ws.send(JSON.stringify({type: \"draw\", figure_id: this.id}));\n",
       "    }\n",
       "}\n",
       "\n",
       "\n",
       "mpl.figure.prototype.handle_save = function(fig, msg) {\n",
       "    var format_dropdown = fig.format_dropdown;\n",
       "    var format = format_dropdown.options[format_dropdown.selectedIndex].value;\n",
       "    fig.ondownload(fig, format);\n",
       "}\n",
       "\n",
       "\n",
       "mpl.figure.prototype.handle_resize = function(fig, msg) {\n",
       "    var size = msg['size'];\n",
       "    if (size[0] != fig.canvas.width || size[1] != fig.canvas.height) {\n",
       "        fig._resize_canvas(size[0], size[1]);\n",
       "        fig.send_message(\"refresh\", {});\n",
       "    };\n",
       "}\n",
       "\n",
       "mpl.figure.prototype.handle_rubberband = function(fig, msg) {\n",
       "    var x0 = msg['x0'] / mpl.ratio;\n",
       "    var y0 = (fig.canvas.height - msg['y0']) / mpl.ratio;\n",
       "    var x1 = msg['x1'] / mpl.ratio;\n",
       "    var y1 = (fig.canvas.height - msg['y1']) / mpl.ratio;\n",
       "    x0 = Math.floor(x0) + 0.5;\n",
       "    y0 = Math.floor(y0) + 0.5;\n",
       "    x1 = Math.floor(x1) + 0.5;\n",
       "    y1 = Math.floor(y1) + 0.5;\n",
       "    var min_x = Math.min(x0, x1);\n",
       "    var min_y = Math.min(y0, y1);\n",
       "    var width = Math.abs(x1 - x0);\n",
       "    var height = Math.abs(y1 - y0);\n",
       "\n",
       "    fig.rubberband_context.clearRect(\n",
       "        0, 0, fig.canvas.width, fig.canvas.height);\n",
       "\n",
       "    fig.rubberband_context.strokeRect(min_x, min_y, width, height);\n",
       "}\n",
       "\n",
       "mpl.figure.prototype.handle_figure_label = function(fig, msg) {\n",
       "    // Updates the figure title.\n",
       "    fig.header.textContent = msg['label'];\n",
       "}\n",
       "\n",
       "mpl.figure.prototype.handle_cursor = function(fig, msg) {\n",
       "    var cursor = msg['cursor'];\n",
       "    switch(cursor)\n",
       "    {\n",
       "    case 0:\n",
       "        cursor = 'pointer';\n",
       "        break;\n",
       "    case 1:\n",
       "        cursor = 'default';\n",
       "        break;\n",
       "    case 2:\n",
       "        cursor = 'crosshair';\n",
       "        break;\n",
       "    case 3:\n",
       "        cursor = 'move';\n",
       "        break;\n",
       "    }\n",
       "    fig.rubberband_canvas.style.cursor = cursor;\n",
       "}\n",
       "\n",
       "mpl.figure.prototype.handle_message = function(fig, msg) {\n",
       "    fig.message.textContent = msg['message'];\n",
       "}\n",
       "\n",
       "mpl.figure.prototype.handle_draw = function(fig, msg) {\n",
       "    // Request the server to send over a new figure.\n",
       "    fig.send_draw_message();\n",
       "}\n",
       "\n",
       "mpl.figure.prototype.handle_image_mode = function(fig, msg) {\n",
       "    fig.image_mode = msg['mode'];\n",
       "}\n",
       "\n",
       "mpl.figure.prototype.updated_canvas_event = function() {\n",
       "    // Called whenever the canvas gets updated.\n",
       "    this.send_message(\"ack\", {});\n",
       "}\n",
       "\n",
       "// A function to construct a web socket function for onmessage handling.\n",
       "// Called in the figure constructor.\n",
       "mpl.figure.prototype._make_on_message_function = function(fig) {\n",
       "    return function socket_on_message(evt) {\n",
       "        if (evt.data instanceof Blob) {\n",
       "            /* FIXME: We get \"Resource interpreted as Image but\n",
       "             * transferred with MIME type text/plain:\" errors on\n",
       "             * Chrome.  But how to set the MIME type?  It doesn't seem\n",
       "             * to be part of the websocket stream */\n",
       "            evt.data.type = \"image/png\";\n",
       "\n",
       "            /* Free the memory for the previous frames */\n",
       "            if (fig.imageObj.src) {\n",
       "                (window.URL || window.webkitURL).revokeObjectURL(\n",
       "                    fig.imageObj.src);\n",
       "            }\n",
       "\n",
       "            fig.imageObj.src = (window.URL || window.webkitURL).createObjectURL(\n",
       "                evt.data);\n",
       "            fig.updated_canvas_event();\n",
       "            fig.waiting = false;\n",
       "            return;\n",
       "        }\n",
       "        else if (typeof evt.data === 'string' && evt.data.slice(0, 21) == \"data:image/png;base64\") {\n",
       "            fig.imageObj.src = evt.data;\n",
       "            fig.updated_canvas_event();\n",
       "            fig.waiting = false;\n",
       "            return;\n",
       "        }\n",
       "\n",
       "        var msg = JSON.parse(evt.data);\n",
       "        var msg_type = msg['type'];\n",
       "\n",
       "        // Call the  \"handle_{type}\" callback, which takes\n",
       "        // the figure and JSON message as its only arguments.\n",
       "        try {\n",
       "            var callback = fig[\"handle_\" + msg_type];\n",
       "        } catch (e) {\n",
       "            console.log(\"No handler for the '\" + msg_type + \"' message type: \", msg);\n",
       "            return;\n",
       "        }\n",
       "\n",
       "        if (callback) {\n",
       "            try {\n",
       "                // console.log(\"Handling '\" + msg_type + \"' message: \", msg);\n",
       "                callback(fig, msg);\n",
       "            } catch (e) {\n",
       "                console.log(\"Exception inside the 'handler_\" + msg_type + \"' callback:\", e, e.stack, msg);\n",
       "            }\n",
       "        }\n",
       "    };\n",
       "}\n",
       "\n",
       "// from http://stackoverflow.com/questions/1114465/getting-mouse-location-in-canvas\n",
       "mpl.findpos = function(e) {\n",
       "    //this section is from http://www.quirksmode.org/js/events_properties.html\n",
       "    var targ;\n",
       "    if (!e)\n",
       "        e = window.event;\n",
       "    if (e.target)\n",
       "        targ = e.target;\n",
       "    else if (e.srcElement)\n",
       "        targ = e.srcElement;\n",
       "    if (targ.nodeType == 3) // defeat Safari bug\n",
       "        targ = targ.parentNode;\n",
       "\n",
       "    // jQuery normalizes the pageX and pageY\n",
       "    // pageX,Y are the mouse positions relative to the document\n",
       "    // offset() returns the position of the element relative to the document\n",
       "    var x = e.pageX - $(targ).offset().left;\n",
       "    var y = e.pageY - $(targ).offset().top;\n",
       "\n",
       "    return {\"x\": x, \"y\": y};\n",
       "};\n",
       "\n",
       "/*\n",
       " * return a copy of an object with only non-object keys\n",
       " * we need this to avoid circular references\n",
       " * http://stackoverflow.com/a/24161582/3208463\n",
       " */\n",
       "function simpleKeys (original) {\n",
       "  return Object.keys(original).reduce(function (obj, key) {\n",
       "    if (typeof original[key] !== 'object')\n",
       "        obj[key] = original[key]\n",
       "    return obj;\n",
       "  }, {});\n",
       "}\n",
       "\n",
       "mpl.figure.prototype.mouse_event = function(event, name) {\n",
       "    var canvas_pos = mpl.findpos(event)\n",
       "\n",
       "    if (name === 'button_press')\n",
       "    {\n",
       "        this.canvas.focus();\n",
       "        this.canvas_div.focus();\n",
       "    }\n",
       "\n",
       "    var x = canvas_pos.x * mpl.ratio;\n",
       "    var y = canvas_pos.y * mpl.ratio;\n",
       "\n",
       "    this.send_message(name, {x: x, y: y, button: event.button,\n",
       "                             step: event.step,\n",
       "                             guiEvent: simpleKeys(event)});\n",
       "\n",
       "    /* This prevents the web browser from automatically changing to\n",
       "     * the text insertion cursor when the button is pressed.  We want\n",
       "     * to control all of the cursor setting manually through the\n",
       "     * 'cursor' event from matplotlib */\n",
       "    event.preventDefault();\n",
       "    return false;\n",
       "}\n",
       "\n",
       "mpl.figure.prototype._key_event_extra = function(event, name) {\n",
       "    // Handle any extra behaviour associated with a key event\n",
       "}\n",
       "\n",
       "mpl.figure.prototype.key_event = function(event, name) {\n",
       "\n",
       "    // Prevent repeat events\n",
       "    if (name == 'key_press')\n",
       "    {\n",
       "        if (event.which === this._key)\n",
       "            return;\n",
       "        else\n",
       "            this._key = event.which;\n",
       "    }\n",
       "    if (name == 'key_release')\n",
       "        this._key = null;\n",
       "\n",
       "    var value = '';\n",
       "    if (event.ctrlKey && event.which != 17)\n",
       "        value += \"ctrl+\";\n",
       "    if (event.altKey && event.which != 18)\n",
       "        value += \"alt+\";\n",
       "    if (event.shiftKey && event.which != 16)\n",
       "        value += \"shift+\";\n",
       "\n",
       "    value += 'k';\n",
       "    value += event.which.toString();\n",
       "\n",
       "    this._key_event_extra(event, name);\n",
       "\n",
       "    this.send_message(name, {key: value,\n",
       "                             guiEvent: simpleKeys(event)});\n",
       "    return false;\n",
       "}\n",
       "\n",
       "mpl.figure.prototype.toolbar_button_onclick = function(name) {\n",
       "    if (name == 'download') {\n",
       "        this.handle_save(this, null);\n",
       "    } else {\n",
       "        this.send_message(\"toolbar_button\", {name: name});\n",
       "    }\n",
       "};\n",
       "\n",
       "mpl.figure.prototype.toolbar_button_onmouseover = function(tooltip) {\n",
       "    this.message.textContent = tooltip;\n",
       "};\n",
       "mpl.toolbar_items = [[\"Home\", \"Reset original view\", \"fa fa-home icon-home\", \"home\"], [\"Back\", \"Back to  previous view\", \"fa fa-arrow-left icon-arrow-left\", \"back\"], [\"Forward\", \"Forward to next view\", \"fa fa-arrow-right icon-arrow-right\", \"forward\"], [\"\", \"\", \"\", \"\"], [\"Pan\", \"Pan axes with left mouse, zoom with right\", \"fa fa-arrows icon-move\", \"pan\"], [\"Zoom\", \"Zoom to rectangle\", \"fa fa-square-o icon-check-empty\", \"zoom\"], [\"\", \"\", \"\", \"\"], [\"Download\", \"Download plot\", \"fa fa-floppy-o icon-save\", \"download\"]];\n",
       "\n",
       "mpl.extensions = [\"eps\", \"jpeg\", \"pdf\", \"png\", \"ps\", \"raw\", \"svg\", \"tif\"];\n",
       "\n",
       "mpl.default_extension = \"png\";var comm_websocket_adapter = function(comm) {\n",
       "    // Create a \"websocket\"-like object which calls the given IPython comm\n",
       "    // object with the appropriate methods. Currently this is a non binary\n",
       "    // socket, so there is still some room for performance tuning.\n",
       "    var ws = {};\n",
       "\n",
       "    ws.close = function() {\n",
       "        comm.close()\n",
       "    };\n",
       "    ws.send = function(m) {\n",
       "        //console.log('sending', m);\n",
       "        comm.send(m);\n",
       "    };\n",
       "    // Register the callback with on_msg.\n",
       "    comm.on_msg(function(msg) {\n",
       "        //console.log('receiving', msg['content']['data'], msg);\n",
       "        // Pass the mpl event to the overriden (by mpl) onmessage function.\n",
       "        ws.onmessage(msg['content']['data'])\n",
       "    });\n",
       "    return ws;\n",
       "}\n",
       "\n",
       "mpl.mpl_figure_comm = function(comm, msg) {\n",
       "    // This is the function which gets called when the mpl process\n",
       "    // starts-up an IPython Comm through the \"matplotlib\" channel.\n",
       "\n",
       "    var id = msg.content.data.id;\n",
       "    // Get hold of the div created by the display call when the Comm\n",
       "    // socket was opened in Python.\n",
       "    var element = $(\"#\" + id);\n",
       "    var ws_proxy = comm_websocket_adapter(comm)\n",
       "\n",
       "    function ondownload(figure, format) {\n",
       "        window.open(figure.imageObj.src);\n",
       "    }\n",
       "\n",
       "    var fig = new mpl.figure(id, ws_proxy,\n",
       "                           ondownload,\n",
       "                           element.get(0));\n",
       "\n",
       "    // Call onopen now - mpl needs it, as it is assuming we've passed it a real\n",
       "    // web socket which is closed, not our websocket->open comm proxy.\n",
       "    ws_proxy.onopen();\n",
       "\n",
       "    fig.parent_element = element.get(0);\n",
       "    fig.cell_info = mpl.find_output_cell(\"<div id='\" + id + \"'></div>\");\n",
       "    if (!fig.cell_info) {\n",
       "        console.error(\"Failed to find cell for figure\", id, fig);\n",
       "        return;\n",
       "    }\n",
       "\n",
       "    var output_index = fig.cell_info[2]\n",
       "    var cell = fig.cell_info[0];\n",
       "\n",
       "};\n",
       "\n",
       "mpl.figure.prototype.handle_close = function(fig, msg) {\n",
       "    var width = fig.canvas.width/mpl.ratio\n",
       "    fig.root.unbind('remove')\n",
       "\n",
       "    // Update the output cell to use the data from the current canvas.\n",
       "    fig.push_to_output();\n",
       "    var dataURL = fig.canvas.toDataURL();\n",
       "    // Re-enable the keyboard manager in IPython - without this line, in FF,\n",
       "    // the notebook keyboard shortcuts fail.\n",
       "    IPython.keyboard_manager.enable()\n",
       "    $(fig.parent_element).html('<img src=\"' + dataURL + '\" width=\"' + width + '\">');\n",
       "    fig.close_ws(fig, msg);\n",
       "}\n",
       "\n",
       "mpl.figure.prototype.close_ws = function(fig, msg){\n",
       "    fig.send_message('closing', msg);\n",
       "    // fig.ws.close()\n",
       "}\n",
       "\n",
       "mpl.figure.prototype.push_to_output = function(remove_interactive) {\n",
       "    // Turn the data on the canvas into data in the output cell.\n",
       "    var width = this.canvas.width/mpl.ratio\n",
       "    var dataURL = this.canvas.toDataURL();\n",
       "    this.cell_info[1]['text/html'] = '<img src=\"' + dataURL + '\" width=\"' + width + '\">';\n",
       "}\n",
       "\n",
       "mpl.figure.prototype.updated_canvas_event = function() {\n",
       "    // Tell IPython that the notebook contents must change.\n",
       "    IPython.notebook.set_dirty(true);\n",
       "    this.send_message(\"ack\", {});\n",
       "    var fig = this;\n",
       "    // Wait a second, then push the new image to the DOM so\n",
       "    // that it is saved nicely (might be nice to debounce this).\n",
       "    setTimeout(function () { fig.push_to_output() }, 1000);\n",
       "}\n",
       "\n",
       "mpl.figure.prototype._init_toolbar = function() {\n",
       "    var fig = this;\n",
       "\n",
       "    var nav_element = $('<div/>')\n",
       "    nav_element.attr('style', 'width: 100%');\n",
       "    this.root.append(nav_element);\n",
       "\n",
       "    // Define a callback function for later on.\n",
       "    function toolbar_event(event) {\n",
       "        return fig.toolbar_button_onclick(event['data']);\n",
       "    }\n",
       "    function toolbar_mouse_event(event) {\n",
       "        return fig.toolbar_button_onmouseover(event['data']);\n",
       "    }\n",
       "\n",
       "    for(var toolbar_ind in mpl.toolbar_items){\n",
       "        var name = mpl.toolbar_items[toolbar_ind][0];\n",
       "        var tooltip = mpl.toolbar_items[toolbar_ind][1];\n",
       "        var image = mpl.toolbar_items[toolbar_ind][2];\n",
       "        var method_name = mpl.toolbar_items[toolbar_ind][3];\n",
       "\n",
       "        if (!name) { continue; };\n",
       "\n",
       "        var button = $('<button class=\"btn btn-default\" href=\"#\" title=\"' + name + '\"><i class=\"fa ' + image + ' fa-lg\"></i></button>');\n",
       "        button.click(method_name, toolbar_event);\n",
       "        button.mouseover(tooltip, toolbar_mouse_event);\n",
       "        nav_element.append(button);\n",
       "    }\n",
       "\n",
       "    // Add the status bar.\n",
       "    var status_bar = $('<span class=\"mpl-message\" style=\"text-align:right; float: right;\"/>');\n",
       "    nav_element.append(status_bar);\n",
       "    this.message = status_bar[0];\n",
       "\n",
       "    // Add the close button to the window.\n",
       "    var buttongrp = $('<div class=\"btn-group inline pull-right\"></div>');\n",
       "    var button = $('<button class=\"btn btn-mini btn-primary\" href=\"#\" title=\"Stop Interaction\"><i class=\"fa fa-power-off icon-remove icon-large\"></i></button>');\n",
       "    button.click(function (evt) { fig.handle_close(fig, {}); } );\n",
       "    button.mouseover('Stop Interaction', toolbar_mouse_event);\n",
       "    buttongrp.append(button);\n",
       "    var titlebar = this.root.find($('.ui-dialog-titlebar'));\n",
       "    titlebar.prepend(buttongrp);\n",
       "}\n",
       "\n",
       "mpl.figure.prototype._root_extra_style = function(el){\n",
       "    var fig = this\n",
       "    el.on(\"remove\", function(){\n",
       "\tfig.close_ws(fig, {});\n",
       "    });\n",
       "}\n",
       "\n",
       "mpl.figure.prototype._canvas_extra_style = function(el){\n",
       "    // this is important to make the div 'focusable\n",
       "    el.attr('tabindex', 0)\n",
       "    // reach out to IPython and tell the keyboard manager to turn it's self\n",
       "    // off when our div gets focus\n",
       "\n",
       "    // location in version 3\n",
       "    if (IPython.notebook.keyboard_manager) {\n",
       "        IPython.notebook.keyboard_manager.register_events(el);\n",
       "    }\n",
       "    else {\n",
       "        // location in version 2\n",
       "        IPython.keyboard_manager.register_events(el);\n",
       "    }\n",
       "\n",
       "}\n",
       "\n",
       "mpl.figure.prototype._key_event_extra = function(event, name) {\n",
       "    var manager = IPython.notebook.keyboard_manager;\n",
       "    if (!manager)\n",
       "        manager = IPython.keyboard_manager;\n",
       "\n",
       "    // Check for shift+enter\n",
       "    if (event.shiftKey && event.which == 13) {\n",
       "        this.canvas_div.blur();\n",
       "        event.shiftKey = false;\n",
       "        // Send a \"J\" for go to next cell\n",
       "        event.which = 74;\n",
       "        event.keyCode = 74;\n",
       "        manager.command_mode();\n",
       "        manager.handle_keydown(event);\n",
       "    }\n",
       "}\n",
       "\n",
       "mpl.figure.prototype.handle_save = function(fig, msg) {\n",
       "    fig.ondownload(fig, null);\n",
       "}\n",
       "\n",
       "\n",
       "mpl.find_output_cell = function(html_output) {\n",
       "    // Return the cell and output element which can be found *uniquely* in the notebook.\n",
       "    // Note - this is a bit hacky, but it is done because the \"notebook_saving.Notebook\"\n",
       "    // IPython event is triggered only after the cells have been serialised, which for\n",
       "    // our purposes (turning an active figure into a static one), is too late.\n",
       "    var cells = IPython.notebook.get_cells();\n",
       "    var ncells = cells.length;\n",
       "    for (var i=0; i<ncells; i++) {\n",
       "        var cell = cells[i];\n",
       "        if (cell.cell_type === 'code'){\n",
       "            for (var j=0; j<cell.output_area.outputs.length; j++) {\n",
       "                var data = cell.output_area.outputs[j];\n",
       "                if (data.data) {\n",
       "                    // IPython >= 3 moved mimebundle to data attribute of output\n",
       "                    data = data.data;\n",
       "                }\n",
       "                if (data['text/html'] == html_output) {\n",
       "                    return [cell, data, j];\n",
       "                }\n",
       "            }\n",
       "        }\n",
       "    }\n",
       "}\n",
       "\n",
       "// Register the function which deals with the matplotlib target/channel.\n",
       "// The kernel may be null if the page has been refreshed.\n",
       "if (IPython.notebook.kernel != null) {\n",
       "    IPython.notebook.kernel.comm_manager.register_target('matplotlib', mpl.mpl_figure_comm);\n",
       "}\n"
      ],
      "text/plain": [
       "<IPython.core.display.Javascript object>"
      ]
     },
     "metadata": {},
     "output_type": "display_data"
    },
    {
     "data": {
      "text/html": [
       "<img src=\"data:image/png;base64,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\" width=\"720\">"
      ],
      "text/plain": [
       "<IPython.core.display.HTML object>"
      ]
     },
     "metadata": {},
     "output_type": "display_data"
    },
    {
     "data": {
      "application/vnd.jupyter.widget-view+json": {
       "model_id": "e0af8635122543e48f67ed06e4377960",
       "version_major": 2,
       "version_minor": 0
      },
      "text/html": [
       "<p>Failed to display Jupyter Widget of type <code>VBox</code>.</p>\n",
       "<p>\n",
       "  If you're reading this message in the Jupyter Notebook or JupyterLab Notebook, it may mean\n",
       "  that the widgets JavaScript is still loading. If this message persists, it\n",
       "  likely means that the widgets JavaScript library is either not installed or\n",
       "  not enabled. See the <a href=\"https://ipywidgets.readthedocs.io/en/stable/user_install.html\">Jupyter\n",
       "  Widgets Documentation</a> for setup instructions.\n",
       "</p>\n",
       "<p>\n",
       "  If you're reading this message in another frontend (for example, a static\n",
       "  rendering on GitHub or <a href=\"https://nbviewer.jupyter.org/\">NBViewer</a>),\n",
       "  it may mean that your frontend doesn't currently support widgets.\n",
       "</p>\n"
      ],
      "text/plain": [
       "VBox(children=(HBox(children=(IntSlider(value=0, description='Step:', max=199), Label(value=''))), HBox(children=(BoundedFloatText(value=0.0, continuous_update=True, description='Time:', max=1.0, step=0.1), Label(value='')))))"
      ]
     },
     "metadata": {},
     "output_type": "display_data"
    }
   ],
   "source": [
    "%matplotlib notebook\n",
    "%matplotlib notebook\n",
    "matplotlib.rcParams['figure.figsize'] = [10.0, 10.0]\n",
    "import matplotlib.pyplot as plt\n",
    "w=widgets.IntSlider(\n",
    "    value=0,\n",
    "    min=0,\n",
    "    max=U.shape[0]-1,\n",
    "    step=1,\n",
    "    description='Step:',\n",
    "    disabled=False,\n",
    "    continuous_update=True,\n",
    "    orientation='horizontal',\n",
    "    readout=True,\n",
    "    readout_format='d'\n",
    ")\n",
    "w1 = widgets.BoundedFloatText(\n",
    "    value=0,\n",
    "    min=0,\n",
    "    max=max_time,\n",
    "    step=0.1,\n",
    "    continuous_update=True,\n",
    "    description='Time:',\n",
    "    disabled=False\n",
    ")\n",
    "global z \n",
    "z = Label()\n",
    "global z1 \n",
    "z1 = Label()\n",
    "def pltsin(i):\n",
    "    global ax1\n",
    "    global fig1\n",
    "    global z\n",
    "    x = np.linspace(0,l,U.shape[1],dtype=np.longdouble)\n",
    "    timeline=np.linspace(0,max_time,U.shape[0],dtype=np.longdouble)\n",
    "    if ax1.lines:\n",
    "        for line in ax1.lines:\n",
    "            line.set_xdata(x)\n",
    "            y = U[i['new']]\n",
    "            line.set_ydata(y)\n",
    "    else:\n",
    "        y = U[0]\n",
    "        ax1.plot(x, y)\n",
    "    z.value=\"Time:\"+str(timeline[i['new']])\n",
    "    w.value=i['new']\n",
    "    fig1.canvas.draw()\n",
    "def pltsin1(t):\n",
    "    global ax1\n",
    "    global fig1\n",
    "    global z\n",
    "    x = np.linspace(0,l,U.shape[1],dtype=np.longdouble)\n",
    "    timeline=np.linspace(0,max_time,U.shape[0],dtype=np.longdouble)\n",
    "    t = t['new']\n",
    "    minv = 1000000\n",
    "    mini=0\n",
    "    p=abs(timeline-t)\n",
    "    for i in range(len(p)):\n",
    "        if p[i]<minv:\n",
    "            minv = p[i]\n",
    "            mini = i\n",
    "    pltsin({'new': mini})\n",
    "\n",
    "%matplotlib notebook\n",
    "global ax1\n",
    "global fig1\n",
    "maxv=-1e10\n",
    "minv=1e10\n",
    "minv = [min(minv,min(t)) for t in U]\n",
    "minv=min(minv)\n",
    "maxv = [max(maxv,max(t)) for t in U]\n",
    "maxv=max(maxv)\n",
    "w.observe(pltsin,'value')\n",
    "w1.observe(pltsin1,'value')\n",
    "fig1,ax1 = plt.subplots(1,1)\n",
    "ax1.set_xlabel('X')\n",
    "ax1.set_ylabel('Y')\n",
    "ax1.set_xlim(( 0, l))\n",
    "ax1.set_ylim((minv-1,maxv+1))\n",
    "x = np.linspace(0,l,U.shape[1],dtype=np.longdouble)\n",
    "ax1.plot(x,U[0])\n",
    "ax1.grid(True)\n",
    "VBox([HBox([w,z]),HBox([w1,z1])])"
   ]
  },
  {
   "cell_type": "markdown",
   "metadata": {
    "hidePrompt": true
   },
   "source": [
    "## Явная схема"
   ]
  },
  {
   "cell_type": "code",
   "execution_count": 14,
   "metadata": {
    "hidePrompt": true,
    "scrolled": false
   },
   "outputs": [
    {
     "name": "stdout",
     "output_type": "stream",
     "text": [
      "Итерация  1 запушена \n",
      "Количество шагов сетки: \n",
      "   По времени: 100   \n",
      "   По координате: 100\n",
      "Итерация 1  завершена \n",
      "\n",
      "Итерация  2 запушена \n",
      "Количество шагов сетки: \n",
      "   По времени: 200   \n",
      "   По координате: 200\n",
      "\n",
      "Достигнута точность: 0.00249594706893\n"
     ]
    }
   ],
   "source": [
    "pl=field0.value\n",
    "T= field1.value\n",
    "l=field2.value\n",
    "amp=field3.value\n",
    "Inp_time_0=field4.value\n",
    "Inp_time=field5.value\n",
    "x_count = field6.value\n",
    "t_count = field7.value\n",
    "requared_acc = field8.value\n",
    "max_time = field9.value\n",
    "a=np.sqrt(T/pl)\n",
    "h=l/x_count\n",
    "tau=max_time/t_count\n",
    "cur_acc = 1\n",
    "iteration = 0\n",
    "if a*tau/h<=1:\n",
    "    while (requared_acc<cur_acc or iteration<2) and iteration <8:\n",
    "        x = np.linspace(0,l,x_count,dtype=np.longdouble)\n",
    "        timeline = np.linspace(0,max_time,t_count,dtype=np.longdouble)\n",
    "        U = np.zeros((t_count,x_count))\n",
    "        V = np.zeros((t_count,x_count))\n",
    "        h2 = h*h\n",
    "        tau2 = tau*tau\n",
    "        const1 = (a/h)**2\n",
    "        print(\"Итерация \",iteration+1,'запушена',\"\\nКоличество шагов сетки:\",\"\\n   По времени:\",t_count,\" \",\"\\n   По координате:\",x_count)\n",
    "        for i in range (t_count): #Задаём граничные условия\n",
    "            U[i][0]=psi1(timeline[i])\n",
    "            U[i][x_count-1]=psi2(timeline[i])\n",
    "        for i in range (0,x_count): #Задаём начальные условия\n",
    "            U[0][i]=f1(x[i])\n",
    "        for i in range(0,t_count-1):\n",
    "            for j in range(1,x_count-1):\n",
    "                U[i+1][j]=tau*(F1(timeline[i],x[j])+a**2*tau*(U[i][j+1]-2*U[i][j]+U[i][j-1])/2/(h**2)+a*(V[i][j+1]-V[i][j-1])/(2*h))+U[i][j]\n",
    "                V[i+1][j]=tau*(a**2*tau*(V[i][j+1]-2*V[i][j]+V[i][j-1])/(2*h**2)+a*(U[i][j+1]-U[i][j-1])/(2*h))+V[i][j]\n",
    "            V[i+1][0]=V[i][0]+a*tau*(U[i][1]-U[i][0])/h\n",
    "            V[i+1][x_count-1]=V[i][x_count-1]+a*tau*(U[i][x_count-1]-U[i][x_count-2])/h\n",
    "        if iteration>0:\n",
    "            for i in range(0,prev_t_count):\n",
    "                for j in range(0,prev_x_count):\n",
    "                    U2[i][j]=U[2*i][2*j]\n",
    "            C = abs(Pr_U-U2)\n",
    "            v=-1\n",
    "            for t in C:\n",
    "                v = max(max(t),v)\n",
    "            cur_acc=v;\n",
    "            if mode == 0:\n",
    "                break\n",
    "        Pr_U = np.copy(U)\n",
    "        U2 = np.zeros((t_count,x_count))\n",
    "        prev_t_count = t_count\n",
    "        prev_x_count = x_count\n",
    "        x_count*=2\n",
    "        t_count*=2\n",
    "        h=l/x_count\n",
    "        tau=max_time/t_count\n",
    "        iteration+=1\n",
    "        print(\"Итерация\",iteration,\" завершена\",'\\n')\n",
    "    print('\\nДостигнута точность:',cur_acc)\n",
    "else:\n",
    "    print('При заданных параметрах схема не устойчива')"
   ]
  },
  {
   "cell_type": "code",
   "execution_count": 15,
   "metadata": {
    "code_folding": [
     0
    ],
    "hideCode": false,
    "hidePrompt": true,
    "scrolled": true
   },
   "outputs": [
    {
     "data": {
      "application/vnd.jupyter.widget-view+json": {
       "model_id": "19ca770c1187438fa119f9c9a4a86b35",
       "version_major": 2,
       "version_minor": 0
      },
      "text/html": [
       "<p>Failed to display Jupyter Widget of type <code>VBox</code>.</p>\n",
       "<p>\n",
       "  If you're reading this message in the Jupyter Notebook or JupyterLab Notebook, it may mean\n",
       "  that the widgets JavaScript is still loading. If this message persists, it\n",
       "  likely means that the widgets JavaScript library is either not installed or\n",
       "  not enabled. See the <a href=\"https://ipywidgets.readthedocs.io/en/stable/user_install.html\">Jupyter\n",
       "  Widgets Documentation</a> for setup instructions.\n",
       "</p>\n",
       "<p>\n",
       "  If you're reading this message in another frontend (for example, a static\n",
       "  rendering on GitHub or <a href=\"https://nbviewer.jupyter.org/\">NBViewer</a>),\n",
       "  it may mean that your frontend doesn't currently support widgets.\n",
       "</p>\n"
      ],
      "text/plain": [
       "VBox(children=(Label(value='Длительность анимации'), FloatSlider(value=3.0, max=20.0, min=0.1, readout_format='f')))"
      ]
     },
     "metadata": {},
     "output_type": "display_data"
    }
   ],
   "source": [
    "anim_speed=widgets.FloatSlider(\n",
    "    value=3,\n",
    "    min=0.1,\n",
    "    max=20,\n",
    "    step=0.1,\n",
    "    disabled=False,\n",
    "    continuous_update=True,\n",
    "    orientation='horizontal',\n",
    "    readout=True,\n",
    "    readout_format='f'\n",
    ")\n",
    "VBox([Label('Длительность анимации'),anim_speed])"
   ]
  },
  {
   "cell_type": "code",
   "execution_count": 16,
   "metadata": {
    "code_folding": [],
    "hideCode": false,
    "hidePrompt": true
   },
   "outputs": [
    {
     "data": {
      "text/html": [
       "<video width=\"432\" height=\"288\" controls autoplay loop>\n",
       "  <source type=\"video/mp4\" src=\"data:video/mp4;base64,AAAAHGZ0eXBNNFYgAAACAGlzb21pc28yYXZjMQAAAAhmcmVlAAA+aW1kYXQAAAKuBgX//6rcRem9\n",
       "5tlIt5Ys2CDZI+7veDI2NCAtIGNvcmUgMTUyIHIyODUxIGJhMjQ4OTkgLSBILjI2NC9NUEVHLTQg\n",
       "QVZDIGNvZGVjIC0gQ29weWxlZnQgMjAwMy0yMDE3IC0gaHR0cDovL3d3dy52aWRlb2xhbi5vcmcv\n",
       "eDI2NC5odG1sIC0gb3B0aW9uczogY2FiYWM9MSByZWY9MyBkZWJsb2NrPTE6MDowIGFuYWx5c2U9\n",
       "MHgzOjB4MTEzIG1lPWhleCBzdWJtZT03IHBzeT0xIHBzeV9yZD0xLjAwOjAuMDAgbWl4ZWRfcmVm\n",
       "PTEgbWVfcmFuZ2U9MTYgY2hyb21hX21lPTEgdHJlbGxpcz0xIDh4OGRjdD0xIGNxbT0wIGRlYWR6\n",
       "b25lPTIxLDExIGZhc3RfcHNraXA9MSBjaHJvbWFfcXBfb2Zmc2V0PS0yIHRocmVhZHM9OSBsb29r\n",
       "YWhlYWRfdGhyZWFkcz0xIHNsaWNlZF90aHJlYWRzPTAgbnI9MCBkZWNpbWF0ZT0xIGludGVybGFj\n",
       "ZWQ9MCBibHVyYXlfY29tcGF0PTAgY29uc3RyYWluZWRfaW50cmE9MCBiZnJhbWVzPTMgYl9weXJh\n",
       "bWlkPTIgYl9hZGFwdD0xIGJfYmlhcz0wIGRpcmVjdD0xIHdlaWdodGI9MSBvcGVuX2dvcD0wIHdl\n",
       "aWdodHA9MiBrZXlpbnQ9MjUwIGtleWludF9taW49MjUgc2NlbmVjdXQ9NDAgaW50cmFfcmVmcmVz\n",
       "aD0wIHJjX2xvb2thaGVhZD00MCByYz1jcmYgbWJ0cmVlPTEgY3JmPTIzLjAgcWNvbXA9MC42MCBx\n",
       "cG1pbj0wIHFwbWF4PTY5IHFwc3RlcD00IGlwX3JhdGlvPTEuNDAgYXE9MToxLjAwAIAAAAhgZYiE\n",
       "AC///vau/MsrRwuVLh1Ze7NR8uhJcv2IMH1oAAADAADVayF8EluqgIER05WlkSmc1TFzpsBDMxHX\n",
       "AdV4I8XYhDjXAam40Y5FuUNOvgrgAArCLYCONf76tsFLYd9ziOWYX/izbCpy831ojc51uW8CWbPu\n",
       "gLqQ9tpRFLIb3yGmBIL9+fM2VJ4h3SSKbLv35gaPsGN8D3MVwiB9eISq6VESF9Lt4Rj8IgarDrxe\n",
       "IWa7XzMh0w03ImdISFyeUaRu00VjUej1mJn48K1KQ/bnKnU7EG44XdYV3tvzUDy5LtZ3rbk3BLHo\n",
       "EPEc2+kNX/XdDKeUeN13MWtH5SkvgAk+UBVNpG4VDF4Pd629NEfjgFf/wRtSQbAWITUarUPqjgmr\n",
       "XLHDNgtcS8DMVDOkxcGmOomNhaEvva5nD/u2EX0BL+SMs9jy8O2f8Roe4tEjS5dkwHg2Wkg7zdgD\n",
       "bTdUNit6QEQl/pTniGHdx+nbvW4QvKiDoZmJxnr56FUcPH+m32XR7KS6+EVjXS9gpgxHHgoj+6nk\n",
       "a5AbVgjBfbMwlBMxpYM/MRaTxvbDA4mSpSoBdsoVAC/G/DWsIv6h5KN5tL/9u0puv5eSU6qPBfGO\n",
       "DzVwF7NQYmv6Rk4iFzng2ORUolS6eau3mkOFy101YimAfl6jt+GrWYetJ5cGJ+oa8q3+HZoOuIIB\n",
       "8lwFA4y69GomI80gvyZWH3vHSVj8coOJMS0FdIz7WeB4ECMKMIXt9DUgXFa3NLLhcfnB4N+rFUi1\n",
       "nZwul70aKtPbSI3GwqnJB/fVG6Wg7YahFc5fu7v8bwsmIF+fgxOsoS9BbYDcLAo+G5teEw5b5An7\n",
       "UIJVSquSAHcCRJsm8miZdy4GO/K1FHLOMO4f9LdUoPmosM/GMeutQdT9GDU1Z1g/gWB6+0CxTw/V\n",
       "cns6ttwYiyCgzRjjiSbw8AxUBLKtTbUp4WWfkeWImnzpwwAa6Dn3HLFS1XAAoKv5ttJlNfSI/c21\n",
       "lJK1HSSVRwAuasxKNLA7M7UkFgmA5+zCd4fl2n/3ogkbx7LpGVurUoOnkCtOhtsdCOjoVe2hNUaQ\n",
       "rNPwmmTIsJ5mFa+1UGjhG7S7jMv93OZaLFes2/A30iBaBrMWsg5m29Mnk+z8ld3RCwnF4lyR+aGc\n",
       "11dLEc3hWLumA2qMFM5OPVexcPTncyQmTrPHbP5sDv/Y6sZew7/omwOOZSG8UmGJxx9eV29LuH+5\n",
       "O4cuo7/mEFTgUurCDF1UHCOTVQHxDiNtXNZjeD1FjCRwvSGtfx7u0dOBc67g0v6yxukgIgDfEecZ\n",
       "rOiKyXi1SQBpKJW7owoKs/6u0NNhIa8NHcr7eplk4Z+7JOysJ+7/B1ydmHgQvv20K+CeN4M2C/yA\n",
       "Xhyz1g96/pSLgakwoqyIT4IbgPvrqnFAGHAX4yOg6j2++xAfFD1sI2CAlfjqCR+FFR8IF31ZjktA\n",
       "zMdtnmQoWON9sTKw3pJe6rfhED5iuUb6PCFriQw5cPHaF7JpgrGveyI70WOnzATBo2mGUoEUsoSo\n",
       "vQbdxU5/gqQAmhcunMTE8ZMoaUqs19n4hriVtXG318H0ui34CHaAfMMSOtViB3g8BxVWXFvPnFEb\n",
       "AUVkYYQUU/76z/plxSN5eVFwvH9lsYF2wg7o6vOZl0DAt6dp/LH2My6L17YVSXnGQefCoAxrAR/e\n",
       "N/3wZ0h6FWUQ+pZYIRmssCo0cKq0kO4F5DyIGj7ThpXWJDsu8w7s9rMWSDMryjO6cWtKrW8FsclB\n",
       "JXV2OJod2lPET96i3fLoF7zCpJvVl9zg/2/XHESJOzHgO3klVUeG3SDnm12MmCrITyVhqBns/RN5\n",
       "MEymVmt/rhDD3PG5IvSz/1y+bAIfDiJRgRdbmIkpmPmxyxSbbSAjf+n3xIigzY+erw0uF/41aRFZ\n",
       "iDtXPmYqYtx3Zzx3jt5SovO0pkGYCPbt5M1nBx4oKxihk7TNgP115hCteIVH0e3liWmWIlR5Hodh\n",
       "+KUOBsrU2N2+x2kyi5o3MDsvWWu437LgTZ7hHlX4OSTf5+zpV6IFSh4oBD/QhMjR81/WYBarO9pz\n",
       "qpo3mSgDSVPLO5D7fxH8lsx4A0asEpFQnwV2a/k73MbiZ+IqgKsg4GVbpLRBxrj/L9QGFyR3nvdH\n",
       "5/o8kBV7HxrXmpgVkymAKvR9LKTscAxBxY2qTzYM/aoL4pkvzzXgZhKJF2asnBTUGkVI4qY8O3Ek\n",
       "DrDUFVxaVR5ndpBYabB5gr2Axdr1MBXsuInI9IcNzMgC/at0FW1mzafB8q2yfvWc5sx3dpzoJCJw\n",
       "QUJJcUdxndzFLudDx8N0d9IdI6oTFAil9mYu6AUuI3QjBXhWY1fjyI43PivlArxCnQfASHHt4PmH\n",
       "n0O4+LEx2JgXOoHouDcrCLS5eMhovWlhsp1UokjN92Gnp9qeUuQ+tXV9gzgku5d2J5mWjCUa8iv3\n",
       "Iug+0XnDmRflkCT9gDCVihUTE8CBIUUfgpCPN6BiSI1uI791QlmXIcJlQNCCWi1QS8+8aY52Sbhn\n",
       "p6Zakq+aj8hp9q7f++nypLCaQM8EQzsX6Hqf/4O+2BUELAKurGm63ykmSnFYEDs/wu4Lx6LijbS2\n",
       "XCE+I/x7KftmbdEPskHkYZ3Ipmtre3WLyJk2N9zxJdT4ANnTqWFBybnfVeTP3U1Rz+3SzSdkq0Dc\n",
       "K+Hsr9XdD48J0A7nhL9ZqoDtPDDloOxTPqD3f4umwe5d0lKGC5CKcoTvTLOb8dU3HZipQjOh+2ho\n",
       "gCz/FNM2+GcY4G5F2DdzI/DP6ubhsJr5fW4ywis+Pa8YXTSYjmuoYL5pvWnSJyRQNl6glb96z3pP\n",
       "Mr2AuxD69IZwhlCVAotwCyzXSIAAATdvx0ITNxzZAvMAAAFaQZokbEL//oywBbFewAQieS0BdDa0\n",
       "aaXN6eAqArL69W2NKhZrd25bnNl4HVKVDgC39sRnzbwiRu8Q8y2NVQ7/enGivLzqufJ0jUAeubx3\n",
       "GCm0B9sQfR3EuAs0yFrq5w2jqXc9sT2b74F9ONZ/wLRPWzxN675hZyaiLlq3KR9DotAx8fFGB8dq\n",
       "+s4PSIyUW3w5AXvNKGtBs0g2TOznYdazYQFSsFgyQNpPedkIgu53tDeXjhVoWy6pjObseLGVU0X3\n",
       "9diWGu3aIwxaKGRNmeddxgUlhAzKqBD6CEc8dfkIoDwb4nINNHMfKMxC3O6aFIjQo0kfT5jCAqkC\n",
       "Qwirf3faUQXO9lu2g9XeKLa6FuKO1nz7HO/dErrSkAu8OlRfHuHdR1IYl0lwx1Sb67WFb5QEmYtC\n",
       "57iAvraxUpGN/WGiFREFCJwRiX6hd0yhNjAbNK8vawD4zJ6opgjVgAAAAD1BnkJ4j/8D9Wa1QFqq\n",
       "TZN4h1jmzSfxrY3msT57qog5kHL2iOpoQCBkh4kXDU24ED44W/K/XZ+HiNOpplXBAAAAKAGeYXRG\n",
       "/wAG5oDRXAk2BA77E4dH0wAHXCT3xcgfJ0vc/cogSfI4csAAAAAjAZ5jakb/BQ8e5t1xMWbfeeKk\n",
       "OMHvbcAhqbVn+ZUYsPSA36kAAAB2QZpoSahBaJlMCF///oywAA2QS7sQFz+Pm/gCQe3a0AndKLZZ\n",
       "gphTkly85atfFebxH8v5D3z3ypal2J9QJLeTgibnqoEyf8P5Xs86gfD9vAeOtx7IlaxjYyg6SDI6\n",
       "ElBVooKXiVNuxdonXXElHHjYbHWMuUGsMQAAACxBnoZFESx/AAWMgKDjdjZE5cOeSlxW+X4zPtl5\n",
       "8MGu6AS3Xn1D3xASgFzV6QAAACEBnqV0Rv8ABuw3pti9Q3oR+r3tv6AcK0iirD8XrHYns0sAAAAY\n",
       "AZ6nakb/AAbpKTfnE9+5Wacs/tat1naQAAAAcEGarEmoQWyZTAhf//6MsAANlD837OsPZOtyzt9d\n",
       "genq+BfUKBkKOnhhiByDVfwnORFOHRvfCh+/+PPO0ToS4LkzMLswFiNBgssc8Sz4u/112AoAd/c6\n",
       "IcY+905XQ/6Ngv+saGXnwlxpZA8L8iTkgw4AAAAlQZ7KRRUsfwAGwlPuoj+ID7kVnYKx/MrGf9Yw\n",
       "mutEK0fFqEtoQQAAABcBnul0Rv8ABuw3poOCbDeodBhOmodBRAAAABYBnutqRv8ACG++2oRXTxlk\n",
       "hbIT7XmAAAAATEGa8EmoQWyZTAhf//6MsAAK77mepz4HXPdWronwA0udqJ+D8jUcXrH/n8T53Jzt\n",
       "WoW6wSFiUuSbJIhrbC8ycL/FE/sX/a2mwbWGFKEAAAAkQZ8ORRUsfwAGw8m56wGKQ6qSzdBc4nhx\n",
       "8/1HxiQ9U3Y1ACVhAAAAFwGfLXRG/wAIahznx8QdbLJCc4AjL/SBAAAAFAGfL2pG/wAIb77ahFdP\n",
       "GWQD7BbAAAAAQkGbNEmoQWyZTAhf//6MsAANm502jl+5lyb+ALsAAu4AJ3RyxDRrnq5G/rc6/zGi\n",
       "OeHICB3ONNfxKdsRRAeZVz82XAAAACJBn1JFFSx/AAbqU5KiPzWmP1rOtOfJgs3C0wqlLGaW8HaB\n",
       "AAAAEwGfcXRG/wAI0ej17VbsCeKepIAAAAASAZ9zakb/AAjR6PWs6XCTr1eqAAAAW0GbeEmoQWyZ\n",
       "TAhf//6MsAANkDYKnX9wESVuyAi5jNVypHMgfOOiGbM+Jg5YwCWUjGl4RvChIhbIdri2StyD/GGe\n",
       "F0+Yl2S321Njo8s1FSzTaI8ObD842OyoU8cAAAAlQZ+WRRUsfwAG6/n8vbmNesW5WEvxf4XXVBPh\n",
       "oqIAe4ZpK+UG8AAAABIBn7V0Rv8ABuw3pti9QjWrjoEAAAAVAZ+3akb/AAhvvtqEWlkG7xXLE9I1\n",
       "AAAAXEGbvEmoQWyZTAhf//6MsAANkGw0ApYOIBlGVo50H63FRouT27DwTHbkeJ02r58yqXBcS/2Z\n",
       "oc8P0D+qxuVOOcbHCdiYZKE5lwMpSBvXZHv2z7Oe3nKD71F3zMqOAAAAJkGf2kUVLH8ABuMtD8cr\n",
       "FvXoQAe1BZRPMdlPT3xZEElcM2md43iBAAAAFAGf+XRG/wAI0ej17VbtO8VAUig2AAAAFgGf+2pG\n",
       "/wAI0ej1rOlwk8ZNQwbQtB0AAABQQZvgSahBbJlMCF///oywAA2UqyTAGv/OdfkhBoiXMwiZfWoV\n",
       "efuUxkpdUjodFZMuFa6zm/a80HXE3BxsfIEhrStrYR57dy9lkXaDh9j+0L0AAAAnQZ4eRRUsfwAG\n",
       "/9yF22aueLovTAO/y++oTH2Dip4zAqYIkrjJTTHAAAAAFQGePXRG/wAG7Dem2L7b/rYAaLEcNAAA\n",
       "ABcBnj9qRv8ACNHo9azpcJPJlGMEu9/PwQAAAEZBmiRJqEFsmUwIX//+jLAADaIK9E3ALxeiBTsk\n",
       "rbbMvEvP2c8Bye3jApYwboiSYQC0K7U/cKQzYrOJLBujnBcYze8+7KmAAAAAKEGeQkUVLH8ABv/c\n",
       "hdtePpSkLwEmLxpagMgW46cG7ZhKU7IROvJ4HkEAAAAbAZ5hdEb/AAjR6StnwkbxNM/LWjR1tWoa\n",
       "AGVAAAAAFQGeY2pG/wAI0ekqYqEDrRW/GEvPgQAAAFtBmmhJqEFsmUwIX//+jLAADZuc5/0c8AuQ\n",
       "DL23GNg8gGk7/cwqNQfBBFzTZfEMPNSf7/MZp/3QuX+Ue3cHvMx2RPjdbOMnyaHaQaPRYr6TLiXy\n",
       "nZzgehpPlbs5AAAAJUGehkUVLH8ABv/chdtmrneSdZWrtjAPX2N6PFLS+3iSVus+NTEAAAAYAZ6l\n",
       "dEb/AAjR6SogzNDXuVB2fgBkke9BAAAAFwGep2pG/wAI0ekqYqD2C7Ntc/FtC5HwAAAAXEGarEmo\n",
       "QWyZTAhf//6MsAANlKskwBGmJdQkblYCPr9fi0wemmXvxiZ/wvOajLwJb96qHZMkzD4/ekXysZie\n",
       "2B8jZjjNHCaWa2zxbiBZNT017x0IRGbQpMqiVwJuAAAAJEGeykUVLH8ABv/chZ5Pnd5M12rtpFTi\n",
       "daS9mno3uGEQyA/RwQAAABMBnul0Rv8ACNHpK2e6yQ7lPGLgAAAAFwGe62pG/wAI0ekqYoRiav5u\n",
       "LmyEeYaAAAAARkGa8EmoQWyZTAhf//6MsAANkEZ1eFWI9L1e07sAAk/01BMGURAyDVQ8Jgk/FrCH\n",
       "LLODX1jbBfsSuCtwvMmMecTP92XcXvkAAAAnQZ8ORRUsfwAG/9yF214+lPJqfzIzeGjlp1wl5qMz\n",
       "1AwbsFe32F0xAAAAFAGfLXRG/wAI0ekqIsKwFMfC35oZAAAAFwGfL2pG/wAI0ekqYoSMHcGpX1EW\n",
       "87b0AAAAXUGbNEmoQWyZTAhf//6MsAANlKuNQAOhIjIeqk7IKgJ8xB5bG5qznNDZyLdlOizk9ZuE\n",
       "wxOgrU8BjCCuOmDkLxnFO+rGAxgQUpWH9yLJrkCFINTzQt61drl11sO3QQAAADhBn1JFFSx/AAb/\n",
       "2+E736Km/MS2WVNaXDYZWl/LqOcbDgBqJ3u9ymZzvoJABkQbHEzJrERX9MWI+QAAABsBn3F0Rv8A\n",
       "CNHpKiDBJgJ9e4R6DM6cbixE0IAAAAAYAZ9zakb/AAjR6SpihGL/2A3r3WQRq20IAAAAZEGbeEmo\n",
       "QWyZTAhf//6MsAANkI/CBokGkH7HsOw85O+Q4F7UbFIriDVR/hATTADePcqDcuRAYPFo10NdfVpI\n",
       "2IsS+04O/cte2JLM3lm9Gw+t7VZGqV97QMyxU9JfkYFXj7pSa4UAAAA8QZ+WRRUsfwAG/9yF22au\n",
       "d8rfBghX9Q+MFjC8REW86oAK0ZPorctoLzr9j2FOD75UDxM7qSTDxkAqyviVAAAAFwGftXRG/wAI\n",
       "0ekqIMEmAyqFlKzlji2hAAAAGwGft2pG/wAI0ekqYore3u4MMT3IAlL9/nPc+QAAAG9Bm7xJqEFs\n",
       "mUwIX//+jLAADZSr2/0AceAO7doJ/Mvl5c4PoEnIMYWZ0hEktwF5E1C3e2TBuTAYn7I187J9zv/L\n",
       "zvV2Q80Kwfia1PjZlFu59P1Q98WxX+B0x74YhxENKfNrTlTMJcKb92s9rmJuD1AAAAAtQZ/aRRUs\n",
       "fwAG/9yF214+lVeZGZy8c9ulPvwXGg9mjRD5+72HqoeDXbWQhtB5AAAAGwGf+XRG/wAI0ekrZ8E1\n",
       "TCXdw1/qvSv9Pmn38AAAABoBn/tqRv8ACNHpK0UuCr2ZJYvAeql4cDlMoQAAAF1Bm+BJqEFsmUwI\n",
       "X//+jLAADZoLWWao3v6cGJEVvMACUcz0U06EJkpFiz/7/3J0q4J+S4KpH/voDCHwrblUy076vLje\n",
       "N0McvmeHBN82725KQ/C7lOJgBPK14jCzCGkAAAAxQZ4eRRUsfwAG/9x8SH4+riyc6ghql0xxZo/B\n",
       "eihg2gFWFSkGMVNnycB3Ej6NKFiUgAAAAB0Bnj10Rv8ACNHpKiDBJdMeTNCI6K1yuVYBt/vMIAAA\n",
       "ABwBnj9qRv8ACNHpKmKK05jTvYwDtnK90ZaZU3PfAAAAfUGaJEmoQWyZTAhf//6MsAANoVwNs+AI\n",
       "A1iKJAF+eJHE4YRqGKw6QtpsRgphe7AUJZol+xzEiFa5ZwCBzDKTn5uNwiDd/8cdR9yzpz60rL6/\n",
       "/kOpY4vEAH507bqt2bcY5cYWqaXJJZIHZJhVyMD1+YtEjRTCYErNRItxivygAAAANkGeQkUVLH8A\n",
       "Bv/cfEh+SoXCKb6rq2TQHgBxsMhTRepTlJrCP+K56HcJXNPJDWC5sjY7kvUEGQAAABwBnmF0Rv8A\n",
       "CNHpKiLCpdK8iHcE8Sxgd0cpyCdfAAAAHQGeY2pG/wAI0ekrRTD93ay5ZRjaIpr8RcpH5CvJAAAA\n",
       "cUGaaEmoQWyZTAhf//6MsAANkD48+RBwoAm1EC0JeLQCQybdCaCcku/rRVjsTeHv6hykz6uheBtT\n",
       "zD1XUE9HDtheS+mkqoyq+zqqEy09r62o52WdFY/fZF/ecOFF1qoyQj+hT1FO1NgJ66SfRbguLWRf\n",
       "AAAALkGehkUVLH8ABv/b7PDLQs/KVP9xsQp2kZWXadz4t+2phPw9hskfG76/kxZ6WYEAAAAXAZ6l\n",
       "dEb/AAjR6Sogu1LGNgiKquKPD4EAAAAcAZ6nakb/AAjR6StFLgq9nIXWw85ekQ+3Zo4eQAAAAGJB\n",
       "mqxJqEFsmUwIX//+jLAADZDUrRsirSlPgBMUNZwi0BuKC1S7Z10AJfE12UyKh/Dym51VFTncsP5l\n",
       "gl2N8KHlISTW5M4A3Y3JPnjqDUpImzXzyQFFZxyu7gyJAFuRhWyVkAAAADZBnspFFSx/AAb/3HxA\n",
       "Ex9mejq2S1AK7okAN0SB9X6NlUVLy1SKUPhdicmNAI7ZdIuzBh3UKCEAAAAdAZ7pdEb/AAjR6Stn\n",
       "usi0cvbrj5tpuqJbAQgic+AAAAAbAZ7rakb/AAjR6SpihGL/8hmZUYgbUbaXww3oAAAAekGa8Emo\n",
       "QWyZTAhf//6MsAAbMqv5jAp6CaVFg56oYhb7dRaOUg0+tLHTHtsPcoD7UMgdD0LjgZssUnEyqG03\n",
       "eNJvz8X1bo/1rVjVEQmKHasxPnU0ZFfPOlyJOrnpp3G46L1q+FfSoo57UBBk8A5Ls9+mmZziPDJg\n",
       "/Y29AAAAK0GfDkUVLH8ADdShHa2dr3MHE1qi9O5S2csXwP0S2heHNTVOz96OGM4ntbEAAAAZAZ8t\n",
       "dEb/AAjR6SogwS+/qkJg94AXHqRvwQAAAB4Bny9qRv8AEWSEPW3LN1/KLNYBTRzMWAKjZSbkUkAA\n",
       "AABcQZs0SahBbJlMCF///oywABspUE5gCfrDMZKnG8VNdK5tJo0rvMrRcCXbho2EHe3PK/+yMcnm\n",
       "K8NMaCaXbKHW7Meu9x4a8L5+F1rYWNDoSAHUeYJ0ark+J7G1/MAAAAAtQZ9SRRUsfwAN1/QflUu0\n",
       "gPU7BtcZF5o5dUo3Y2dDMdZj7DJ+4RwvX+AO+CiBAAAAGQGfcXRG/wAIaTnS1/IZN4dMxV3w4Q9w\n",
       "Ci4AAAAXAZ9zakb/AAhqJgxER8YORrj0u3q1KYAAAAB3QZt4SahBbJlMCF///oywBk+FoEBz38lf\n",
       "tHmDmHdNvrHfI4FqEVxXFu5oFnuX8kiDJVgYg52DII7mBA0XOC4NS2Hn4yPoA41naWx+5GrMLolg\n",
       "RVMk9UrziIxRCLFT5dnjJmqUL9ejLTJ/jVVocwu8Bt/pMxDE+m0AAAA7QZ+WRRUsfwANxtWJP3yd\n",
       "yQpe+ZmpLmxZhP5qAFc4/hfgpMGOkpvD7P3i89Vms1V/EzuuHD4WEdzs+FAAAAAZAZ+1dEb/ABDS\n",
       "dCYXDkUmzDndym1coBvdeQAAABsBn7dqRv8ACGomC/nFcwivfguABPzmEBumDjkAAABsQZu8SahB\n",
       "bJlMCF///oywABspVy0IBCIaWk2HA0xULmH++FFl7HtG74nVg13ahnhBfL5flIKR5znKxwmWj6eq\n",
       "P41pA4hoFBMpWJsT8xpNaacgWrTJVQ2Grgpm0nUPOD9C4JHKfqB3khCyR+GAAAAAP0Gf2kUVLH8A\n",
       "Df/4/GxJ+siVwDEokU8HZ0k5EvPupea69yoa2hvxOigBspsElPbgdouqeqj76OKsLtjOJCNLKQAA\n",
       "AB0Bn/l0Rv8ACG/+ZXosubc82Tb7Z3C6isJ5j7jsFgAAABsBn/tqRv8AEaQl1MUuOebigjtY3Lub\n",
       "SBWSjQsAAAB0QZvgSahBbJlMCF///oywABvve1j6EaeQAdBHFEspMPxp14Ta7de/yZ0ns1ZoXIQ+\n",
       "zlLwxUjZJijzOIcIVqFQH3nZ7ss4/d4iQzMR60oE/DzyqL/gBVhmAQnGlu2L58m91iAPJMo8+WvF\n",
       "DkPoAUrQJ/tdimEAAAA6QZ4eRRUsfwAOJjsajwwM6W/nim987MSgmCK+fdyw7iRhRw84HsPt4AbC\n",
       "FqmPLzHI3HXP678v49M2MgAAABwBnj10Rv8AEdtVm541ItCh0hC2cmEdwxhWeAQMAAAAHwGeP2pG\n",
       "/wAR13Sje/dnyTf/Wn73AGyvGxCeVtNf1MEAAACUQZokSahBbJlMCF///oywABsgscWml7mQCaMh\n",
       "XFnbtoJzQpxMg4siVG6jupcGRW5lxme8HBw6qfDOvWftS/bmXCaocV2tcpD5rfrRodLBWn/Onbdn\n",
       "ab3zCylSB4+Iw7S7DpEtTIR5nUCzz4/DXHZsWONlbk3JOe4mpsIIL8LD5v9EV8QOmknuRIxEyaXo\n",
       "TsWrXJBDQAAAADlBnkJFFSx/AA4r6SiIlAYpFX5pWk54k6j9ykb9nwEfxRZ/tYlpe4INavyPc2Ss\n",
       "aaBT31R/uYapcoMAAAAfAZ5hdEb/ABHiE1kiOXsdmIY6W+jaDcd8AlnYGEnbsAAAACMBnmNqRv8A\n",
       "EeSMaHW/mAH49vpGhlR9HpKHXv3w8lTLArd5qQAAAHNBmmhJqEFsmUwIX//+jLAAGyEeIhlmu7gE\n",
       "RSxRr3pKtj3gwQuMRB+R286LoOvpKnvpuvHkkBsCKucI79ox2xvTF0XfJO0cJ4gTb+ojIDU8agrn\n",
       "3CmkYMiy3Mdr1gyNARQ9cFlyCpDSv8v8/uXlmpeY/eNBAAAAPEGehkUVLH8ADi25gbitp/6NzlxN\n",
       "FpAxVmkJkMAFp+Av8bKU5oJ4wU2jdaQmMU7k25zS+c3G3teg8qyc3wAAAB8BnqV0Rv8AEeIT+Yn3\n",
       "hA0c5Oq454hGhaMzIg2p56D9AAAAHQGep2pG/wARnZBtYlmYDzxRaZEWd7pcA2NGEqpoAAAAlUGa\n",
       "rEmoQWyZTAhf//6MsAAbILHDtYZ/gB2oBl0ltcUiB3EZmIpGvwJUjA5lY2jRHriJ2/yn4x9hOCLz\n",
       "EaHktPmHI4gNgMCIt1IfsjzmqT6lajjTKqmKN/Ix3NVq/u0bm7+cXHqK20H1ncJlVblfedSK8n9o\n",
       "x8dPtJ1e12GnXF6tWMs+uSdoqiH0EluMIe3lGY1ZvNQgAAAAOkGeykUVLH8ADf/4+IAmSo5elNwx\n",
       "ae+I0tKKDyj15/CVDj9UUM6cvIS3Fg5ZfCrgwxGyvl0v4047M6cAAAAfAZ7pdEb/ABGkJdRBdoWJ\n",
       "IDAhp5NbaSTlaePIHabg+AAAACABnutqRv8AEN5LrfitqUfyZH78vhfXGRjGfklMIa6DwAAAAGdB\n",
       "mvBJqEFsmUwIX//+jLAAGyB8OwDoIABuCbY2/Eoq6WZpaErDyyA8cbC3a8g675OSxF9CRcpd83qZ\n",
       "fbL/o5uTCaUNTW5DnXTwPTk7C3Pc37JGj7tcqYxi8jH1RVZ9gvfMaT4AWpuBAAAAO0GfDkUVLH8A\n",
       "DiX7X4zj9Gkg7IKuk/TGKQmVDb8SfUPB6uB/oAWlnpVuw5bHkKqjO+QeTwjV1SOe10OJAAAAIAGf\n",
       "LXRG/wAR21Veduh11B+dpY9r1Z7TDY2KMt4mCAwJAAAAIQGfL2pG/wAR13ShBkQoEQEQybMZX7aj\n",
       "7fTCNU6hW5mKmAAAAGRBmzRJqEFsmUwIX//+jLAAGzQX301RjTAANvqxchhQaI1AHhMaJ7pNEgIt\n",
       "r6zWU8zM50/xnaPaEGriu21VkrO01ATAFr5B9fr+qvvGc+ylguDVORm2En0oP/k+Lcd39IrIeqlg\n",
       "AAAAMEGfUkUVLH8ADciDk+Ek4hAb9K29lQnP0X2PUOQPbsjV+5Pc5cFZweXFhvCFCbCm9wAAAB4B\n",
       "n3F0Rv8AEN/8yvRSfc834Y3v3MTFNMdjwjej9lAAAAAdAZ9zakb/ABDUS9kKkZEZEUYDZ4UtlnSj\n",
       "BNHrvTAAAABzQZt4SahBbJlMCF///oywABsyq64oIA2U+yhaLVY1T9rTudlg8j8OlP2ghH0gYWrr\n",
       "NJDXazmF8AnxYzhoPGvgUsXwI3B2wO7ncoftOfKgQFWSfW5NCFzf3cE+tkAXSzhgrxJnO/jMhGgY\n",
       "wkCjDvQ6JnAqgQAAAC9Bn5ZFFSx/AA3X9BGCw8T41ISrk4W4pvpp5Jy3AEKSocFvndqI49KGTHbW\n",
       "3bqMLgAAAB0Bn7V0Rv8AEN/m4UIUkY9aEBuw4fMU6qwba4g2gQAAAB8Bn7dqRv8AEOQD0hJdKWM3\n",
       "eOu13+aO0rOUTgJy8ErBAAAAm0GbvEmoQWyZTAhf//6MsAAbKVey8AHRE/03iEN8sVCWb1vAVfyC\n",
       "3Z3+eFRv8e9S0+Rn336+Tiwp67eKVUL/lZ05RGQR7C4t/xVdh4awV/W18x4yNpeVigNMv0yrmMqF\n",
       "mJezm123CXtxGftPgxtKHmHPkr2AMk7SLeSsdlYRPKpdv3JNiHg0nY7Z80aTkJFuzyEFzNkNQsB0\n",
       "2DHAAAAANkGf2kUVLH8ADciS144B4LBLTuBKuF0MUxNJWpmzCqb0DXnDi5GuaNCMDeLcTI7aFelc\n",
       "5OiB0QAAAB8Bn/l0Rv8AEeITWSJBo1qOV2XEHKlrcOtrujqhtgMCAAAAIQGf+2pG/wAR13Sjb6Qo\n",
       "GORJ0BObRDk5LtcLJ69uXOBdwQAAAItBm+BJqEFsmUwIX//+jLAAGylWSYAZ1cZC+4WbBz/kYhRG\n",
       "EZEX99fLCSayplN3j33FUwDEP3UaGg66uROtO6JbECfjyTYMuBSsGR5Bzcain7x7mHWP6HwQCuUF\n",
       "GNEOP/zJF3lM9sYLrTUM5DAT3l9DX2oHaC/vAe3k/nqkexaBPU1GsVELo9jy/rThAAAAREGeHkUV\n",
       "LH8ADiv4VBp6TGpoq12m5+KnJYmmvws1p5XCOMnmtagBbOu2MhHpjOE2gZXOp5lM9EAx4xDaxPd5\n",
       "DnhWUVUgAAAAJAGePXRG/wAR4hNZJX9sF1hsTVo/jJaOP8X0e/i8a/zkuQDegAAAACQBnj9qRv8A\n",
       "EeSMaHW/dyxHK+YwFPrtJi6zQlv0iju++E2rS3EAAACYQZokSahBbJlMCF///oywABssBQmnkI+t\n",
       "rgGQYfu6ZGAG5rD8yo15xBjbbnZy09+tFKy1Tg4q+BpSc643xAaZze2aeqni8HbHQSuQC6NgFFtw\n",
       "1sM+0i5BsuIHDdXp7n0NzMm89Jau0EzolVCzMVPMcQEl91o1neVU09KbkxuiZTJ4A4XVDsiQnwOq\n",
       "yX+MhKOppgTeSbKDkLgAAAA+QZ5CRRUsfwAN1/QRievF3qvs0Cd0ILfGP6hZaO2w4qm3ZMQwNT6A\n",
       "K6AGmJTho1H8BB/X1/9OkSqskCub4oEAAAAjAZ5hdEb/ABDSh0g1fFNsfSyYtWTIULIvL6Akw38J\n",
       "o0czyTAAAAAiAZ5jakb/ABDUTBiIj4wczATtEpo/juILR+nRgLfM1ckTHQAAAJRBmmhJqEFsmUwI\n",
       "X//+jLAAGzSnia8PLe6x5x5WEUXcmaACedfkpBazJ9TTYZ9vobRQonKDWmLv8JUsE3dw7tCaHa9x\n",
       "NEzcWSSxDhxZ4RI9g2EDvOS6d3bsjz6Mnb7py91VYiEP08+jHh011DLAqos+d432sKKYmUkJLuJ5\n",
       "vZrXIUhcU7ywRVAta13f42J/CZKKjESBAAAASUGehkUVLH8ADdf0EYLTty5BWOm15xyAA4ZtMNRs\n",
       "Dz1ZhXRzC5/VeKXkveG5G46RvJnCRQ6DBYH/wERkSry+CRHF6gt1VSjl0oEAAAAgAZ6ldEb/ABDS\n",
       "hxFNGVNt8Uc93QtYLdnSFCseMQm/8jUAAAAjAZ6nakb/ABDUa+0KVhuioeV4dH0wXfBr4aWf3fQt\n",
       "4BsJHuAAAAChQZqsSahBbJlMCF///oywABsyrtBMAAKYCbqqXsnId88NbknA9/0wYNxwCn2c2EyG\n",
       "ESM3mTo550WINjLl90NKGTNaMJsbvsfAS4cHPWfm4MP7R8Vf5+1Xzqf/Yc/H0f4X1ciAL98GaAy2\n",
       "B0q4LRM1DEZC3NaSa0P1/kXemqYsx3lpZWoMdxe2OAREkSHLdMhLSTSk5dM68uWeHvKDGulpicAA\n",
       "AAA0QZ7KRRUsfwANyIOlhkY4g2pBnYLQwVVcyewtESA8f1os9QKjFBNkTMMEvD5LlHY0rlyulwAA\n",
       "ACMBnul0Rv8AENJzpkpEMXNfJ9zbFU54t8JC6dlWkNjj4ql95AAAAB0BnutqRv8AEN5LrXKhMXWY\n",
       "vtNsLXAmYVN475UDPgAAAI1BmvBJqEFsmUwIX//+jLAANmzREZACw+pQlvYkuhWUsyj/0ynaeRMN\n",
       "Or8tRmQknQgaORUPG6AP2SkDJlTDq8onEcGQncqeanru1g5hrZbfxSPFSV/oWzvY55ZAfhgXdYlr\n",
       "c4OcMT7FHnQ4UKCTPRrZYVYxdVg7/FRr/Hj8AwrI8pqa2ZYxR2aX8K9Yl4EAAAA7QZ8ORRUsfwAN\n",
       "yIOlpTlR6nXDpPug6AAhTuwxl/h+2EO0q9TVAmgAGy4VcSFcApmMYQ/GECGogbmSppUAAAAfAZ8t\n",
       "dEb/ABDSc6WysoYLz6vd6wFrXiVdvgEkn+CbgQAAAB4Bny9qRv8AEFRr65dwaLvzsqu1jooX6t3V\n",
       "nq9gG9AAAADSQZs0SahBbJlMCF///oywADZPToAFh9ShMbyn0VJc7dvY0NmGDr0lDRM5PNSwcQM9\n",
       "ICZY4BLjElrXVHM/RRaB+Uv776WeU572i/Xabbsqb+ymewU8ZBFn38wuhXmxqGSx/Tyw/p+qlCFJ\n",
       "aAwlc8zu0SwQQrErTpPpcmYhxVYRSnkSGlOt1NpovSu7+xWlPM6WexmOVX0dkyk9PmabphmctwRm\n",
       "Rz9mW1IxgnqvtJODq9VJsbx5agbW9cp3xnP4RHAPqGHhZGDkNrPIhepvhs+tNfIQAAAAQkGfUkUV\n",
       "LH8AGvuU2C9ll5w4YlfQbX5YC6uVjGdLF2xjp3Py23rTJpK3YAGmDM2s1jPGoygQYqvXVCvoW/iU\n",
       "7m2OFwAAACgBn3F0Rv8AEaQlwsshA8cGsquDj35h7TxvLM4s8D5QiKdJ+Y+xzve+AAAAJwGfc2pG\n",
       "/wARpCXUxRWnfHSF0KcCwtJ0+cT9TJlX4oy8QLIdVdp4lAAAAJlBm3hJqEFsmUwIX//+jLAANk9h\n",
       "CAI8il/XWv9CTVWWcYtGhfN5z/1a4AC/v5wUzHW2pvudWZ659C1GJeTfdmpn4gHdXjcpV+A5TGyS\n",
       "4mttqT66Y6D7VwEB/tam12OQB6zdxrJIGi5X/IgMJ4eWa1tipbZ0bQsEka3WQ1ANtldslkufl0cZ\n",
       "pC8Vp4C4QDW9BJ7VeSGtRBBQneEAAAA5QZ+WRRUsfwAa+6WkXOd/giKR/FxBjQoGXpboJtp122x/\n",
       "mmqc6S6Qa8KOHDiRCs4hCGOvI9ppeAogAAAAJAGftXRG/wAQUnOlulZqL9np2Wu0AXQX+pWui1iN\n",
       "O+GMiNwEFQAAACkBn7dqRv8AEFRr7SWIw8TI3ir+ZV1DFbyDLtaMRiJ3BdedjIPGp/xKeQAAAJpB\n",
       "m7xJqEFsmUwIX//+jLAANk9OgAdEJ2KMGIFrKPyLCDrpRBMvEgveQkbJbSY2VOEYeGUcUJ3Pmdq1\n",
       "J4PhqGq4YK/8CtGh7uhxd+Youc/6jjTwon+sOgRIo3oT3cofcBJNUra+FX3gzk7BSD4WrqI75WPH\n",
       "y512pU8Q8TpWCSMGSZ4xFj0WsZNxSly7OGvmKDxgV4le7jXfQu7AAAAAQ0Gf2kUVLH8AGvuUkb5t\n",
       "3sTfL+w80QNcjD0TVPQyqq1vbB0FTGFWkxYcC4NZNtfQevbAjPevqme5Dqsa/8KLnpxykyEAAAAo\n",
       "AZ/5dEb/ABGkJcCNi80HD0mpKejIoRx3nWbNWeeuj5dOIipSLIK2QAAAACUBn/tqRv8AEaQlsMSK\n",
       "azPYiIZ18XdKf2qhCOjZqMzoKo0g29p5AAAAkUGb4EmoQWyZTAhf//6MsASAstAgOe/kse8O0Ps1\n",
       "W+hQZotGu/C6f/rJnnzbEZwE+4kbkM7t9ICntCioxl22QT1MYJuKHnNkDO1gcs9yKgve2oLd6/xU\n",
       "5oF5JoyUgvYOyyEJDL6wtMhkL8vbS1XT7VtZF3iRCKtb7p6efKdPLAbaIbCsTVIKCbfPDEZaw2cI\n",
       "lmkAAAA8QZ4eRRUsfwAa+5O4RI2sHNIuzXfNACtHLYtXwu+XIWDHhVo4kJ7IFI9wx0MJE1fJHuYA\n",
       "20e7FGo+ZPmAAAAAIAGePXRG/wAP4+ZrAhsHy2UchcWy5d8+ZblpZx0gN+PGAAAAKQGeP2pG/wAP\n",
       "2qYrQ/+Ly2s8sYvIsaCqFvcbNN07Q7BqgTxNax274ZbxAAAAxEGaJEmoQWyZTAhf//6MsAA2ZCVI\n",
       "3mwBOs2WMsmmFcCft0t9z1T7/3prGx+AUpNNNPkisSnZtEQ8ZGaTbBgFniH8U4Ai05EhDWUbXwLe\n",
       "vdljlWXh7WAHjUfGpvemdCjH6lxfBebAV25DcFd1WDi4gFjOOUesX3vw1xT6vXpxEgDu+kYTleiN\n",
       "sJULQXpvkX+2gvoLIntZ+fHLFUcaFfc0a2oKueNJ9lY/G2WIXrfQ1OfeHVwt9wC5Y2irri97jWmV\n",
       "6xP/aRQAAABKQZ5CRRUsfwAa+5SMlVLkh953q+zNw8jlFSoyFpIH0L4k3PHwjOwCpLqAFok5HoQQ\n",
       "xt/9gfhY1K6Wkrfm5LiPfWd91rJ+dDJFGbkAAAAmAZ5hdEb/AA8z+YrjwqbVhpHVY+3mzAs/HS7A\n",
       "S5EMFSsSG6e3lvgAAAAnAZ5jakb/ABDXdKEo6Mz6J4vc45Ut0VPGSSGt+7xHrJZtXnnHh9qBAAAA\n",
       "rkGaaEmoQWyZTAhf//6MsAA2QNSsH1ACNWua46jXbiMUBWj8tc7QJOA8cGdduV2Le+APxqCt3j7E\n",
       "LXE3OKc0xoV3GAP+B/24BMyNNLMXnyUFNsceOJOF9z6FMJkgA5RELmrtN3tLHq2JHtJCBmzjqtLx\n",
       "eyfzpHxAiKb0+X59OEgHW2AAGqMmzoPP5Lg0CJ1kKBdEVCadR6szcR3eYxLuWaZ4XiRfclkkabOi\n",
       "NAMSmQAAAEJBnoZFFSx/ABr7lGxCY7I7WXCNcSlyQPNiYtADVDaj/0csIse7lkmkf3NYq/Lsaewy\n",
       "0CBzwl6EhgVGMkNK2hfuBPUAAAAjAZ6ldEb/ACCk6H8WuJEzmX6n+OO10m5EmR4g1d1+ZAq6ufkA\n",
       "AAAlAZ6nakb/AA8qpS+lkxg7PNzvl+FSDe/EI2+dTpTueoOq3sK1QAAAAJ9BmqxJqEFsmUwIX//+\n",
       "jLAANmPrJIARjR1F6naPB+LNnjBtjPoPxKVIkSRCmuAgBDGoCUMo6XbLfscqoQX8XpW44eh+xN/n\n",
       "rBSZCxk0aJPwu6LL4Tjl5f2d2whN702Rqp118AbAyyIgUmKF+E5x0zkdKN1Zin/M1IoK6Gofw0vw\n",
       "OpTvIqW79gOvcg3JnhaGQiMFKraRbUHk+6LvWA/ppZwAAAA+QZ7KRRUsfwAaW5RQbEM8U4ObhkmI\n",
       "eR2ZO+KQcsfS5F8gclnv1zfOUt7d8EwIqx7vnuqEdP8pQQwboXPCPKUAAAAjAZ7pdEb/AA8pZjTf\n",
       "NYYIn54eGjDIrWMpSmnl3x2IMd32iZoAAAAlAZ7rakb/AA/apitKHIziLinQh7rCUAokPlWmI2Kc\n",
       "Yf3cijoBxwAAANxBmvBJqEFsmUwIX//+jLAEx12/wXlNhCl6bnPuyGzIqneRVMtKOWRYerubgP6D\n",
       "h4okabpD5uI096JjkffQkgOUSKZ8xXKA13au6NJeyMVDBQy0QN4i4mDme0bcHBxb9dHBp4OTlKuM\n",
       "CChHy0dyCRAN6gxvIb6fsn4M+/z0CSuuN6tqjLtGmKSya1/NLeK1zT9ThuTuZjKIVRIrLX5PnU3f\n",
       "sEZTIwxdiveRGtoGu1mFMkWQPUHOE5Zdux7L8DlZ3TxzxE35nJT8/VLxBlOeLGKKg2cRop/rmbdm\n",
       "Unv/AAAASkGfDkUVLH8Ca/HpIfHuzl3AM5dwIjD5koJ0rvkUau9v2oMhqKv0PAcOJE6Z+ebwZydi\n",
       "EHYt9WAgi4VQAKxIr7cgeI+CgIrYSIEfAAAALQGfLXRG/wAiqIa/1KR0VkHKYJpZ6c63ex2gHXoF\n",
       "MVUx8MYzYeUs87erxq7wwQAAACkBny9qRv8DCSR9LN6j2yJ48GweeXxrNDfNAy+6XM5qyCLgteJJ\n",
       "fK9NfAAAAMJBmzRJqEFsmUwIX//+jLAEx12/wXlNgjedNzn3ZCxGNyyXGU6aPsYMCnKemqYeUaLg\n",
       "9vO5KgatxenRURejImfqJRNM1Dg1oNvZJ7gJTEM4dAWVoPdl5s+pnNKa1N5V/Zwt9ZGTrh89vCvE\n",
       "Vr6EABATX+rEi76bl4dJjdgOweK/mXiyZmmrp+pEO0YUwikUVltzXYDzBC+HLcGkIKkIcc5La8f6\n",
       "mCUGV/OdXGkai3bSugqsTAFDYZeHcV7PR2BaGxaz0AAAAE5Bn1JFFSx/Amx8g1uzku3vbDWw9Q39\n",
       "UfYABrm8Nw2YQEPShhSvXs9Om8N+PW2FH9VJwX9BjOB5pY96Xvxpj61tQJgHcZ6zjcMFNVkTp58A\n",
       "AAAoAZ9xdEb/AwdG68ClHzuqJlbQVmc1syodL65pfkZyhPkViWm2goPR6gAAACcBn3NqRv8DCSR3\n",
       "3uaEbSIbwMzHAZ79x9DbAtUTbna8rKoxW2D6hxoAAAC5QZt4SahBbJlMCFf//jhAEl1w/wXk7B4f\n",
       "krNgsC8mIx+by7N+JVtBGmLCbHGeYkVR57huicnIzb4eM3Oduk5NM08D8WAP6ViJp4XJB9d+Q3Z0\n",
       "d+kRCmjnFfCYX075bLaHBPD5ni/gsS5vqw4hAFOMK77Q+N3tLO4+zMRo5aTG4wpXKNPJSXvipZ2D\n",
       "kjBtRqLPG7w4O05G+3TWwOb9PDh+z5rbiW7wITNP1TyC10LXcmKZxhoVy38nlqUAAABAQZ+WRRUs\n",
       "fwJsfINbtarx3QKLGZQnHaCzj2KOcIZ42IBHXscQqHSZ6KpueEPWnR576ZZ7YLC95weG17TAmLma\n",
       "mAAAACQBn7V0Rv8DB0brwGOEfPn0UQpSLMamnB6Qa52f2lkqUIC5dV0AAAAsAZ+3akb/Awkkd97i\n",
       "oVKgsjcBsXvmcR3Tw1uV1o7XJCly6/jNdAY+oYEGgL0AAACkQZu8SahBbJlMCFf//jhAEkRZVEIl\n",
       "4UKHCBWnXa8JtMIqCH3OplsBgkOIj2WSiiNteEWRLQgo4Qo02I6MAihkaN9Q9+2yAEqyfztskyqM\n",
       "jmp7hjLzZrFQGAnUyb8tZINsSZW3VFM3gL0jZjWYzB48Ez2+BzO/FV6dbh9ilnxlUjw3hfkR+2YX\n",
       "z8qmwwZUAkiQ95IXwQU50VhsnkYDxJki5HtwuHwAAABDQZ/aRRUsfwJrI5ryF4cN2TauDNKFbRW8\n",
       "NMebxpr6YIFghQuPsDftjzqiP8ndv636j4y5ZkKlDUiUwcWUt75bw5YQgQAAACQBn/l0Rv8DB0bq\n",
       "6jjyNdMzKDTu1RopYfmZTG77iYhhtGvJR2AAAAAoAZ/7akb/ABDkfc5J/08KT/FycMuP5ci7Q1iW\n",
       "OwKC0UQ63xlFO2QIJQAAAJxBm+BJqEFsmUwIV//+OEAA0nWJY9IAbHQlTMXj5eUxmBWtJ7pfc3hb\n",
       "yTLTIYltnOgu2ayLWrDwAdYk9OmBiEfM1jIIoZuglR0CMA0kTAAGOrw44TXGnyKBAArWHTwz+Wuv\n",
       "ZxUC4ltw0hpmA6kZdZJJUJLEeF8bQv9prIknu92Cj3AjEsVOCb+VL91KjGUyPqUOQuZphXLfN/6B\n",
       "kLEAAABCQZ4eRRUsfwAaW5RsS6LcjFidEnhXmRU6tT8ShUgSvxdKGUocxD+rtYph862Gs4YLOCWv\n",
       "SAopKfmO3imKiRXLvNaAAAAALgGePXRG/wAQ2x0oIOHmiroYC0W9Lw6Cm5ZYa/pKXTT/SlKsk9jZ\n",
       "tZnDC2hxHowAAAAsAZ4/akb/ABAkCEHJxtbQvxrTdFriAPTvKkbd5Mecy+Mw1MZV5h4xA4RyIPEA\n",
       "AAB/QZokSahBbJlMCE///fEAAfrmuoASBodKuF/kjBfa6LCS6WYthub7Ys0BUnWfbWisqJJNZvEl\n",
       "5+mcVOV3TRY1Seoy+JM6x9q3+7iB9AsK+YJE0UB+du+a4/VtroA1hG57d4Hjvk7+6UDQOqvDxoQb\n",
       "LB6QWPb8QAh+I4KIvqM9kAAAAEpBnkJFFSx/ADEShXPoqFTcVHk/GLob9jbGvik8EANTMM9A2deo\n",
       "a3I2biv8bqLXQVxy6hAClbMExYUWe9ieTm2C828HLo0dPfy1IQAAACcBnmF0Rv8AHlMI+HE+dew8\n",
       "Yhy/qAcL7kOIJwDnU+dCZ4Q2G4Ep0OwAAAAsAZ5jakb/ADzPJFFo9XT3rYURtE0twMWY5wqI8rvL\n",
       "jhd9upUTKA7Q4b74AekAAABmQZpnSahBbJlMCN/6WAAX/QekVm//LSvQQ6AFbmOJ7/bK7nh+YMJD\n",
       "+bZuOYSzfAjs6AI3mTAXJ8eJ3zHAGwQWB4WOMFR+R/9j9DO6ZBBlaFeYuszNxr6+QEybgXIDDVNT\n",
       "nTPI+b+BAAAAPkGehUUVLH8AGbuVJQ/07WmRahMK9HdKrgRRJXUhEdtg68SUHc3DfnDjgeSyBfDZ\n",
       "ObE/R/dhjNYbkLyQfpHRAAAAIgGepmpG/wAQJAXP82oxOrQScxrvSb6UgtGbXkPz5+ZrB00AAAyE\n",
       "bW9vdgAAAGxtdmhkAAAAAAAAAAAAAAAAAAAD6AAAC7gAAQAAAQAAAAAAAAAAAAAAAAEAAAAAAAAA\n",
       "AAAAAAAAAAABAAAAAAAAAAAAAAAAAABAAAAAAAAAAAAAAAAAAAAAAAAAAAAAAAAAAAAAAAAAAgAA\n",
       "C690cmFrAAAAXHRraGQAAAADAAAAAAAAAAAAAAABAAAAAAAAC7gAAAAAAAAAAAAAAAAAAAAAAAEA\n",
       "AAAAAAAAAAAAAAAAAAABAAAAAAAAAAAAAAAAAABAAAAAAbAAAAEgAAAAAAAkZWR0cwAAABxlbHN0\n",
       "AAAAAAAAAAEAAAu4AAABgAABAAAAAAsnbWRpYQAAACBtZGhkAAAAAAAAAAAAAAAAAAAyAAAAlgBV\n",
       "xAAAAAAALWhkbHIAAAAAAAAAAHZpZGUAAAAAAAAAAAAAAABWaWRlb0hhbmRsZXIAAAAK0m1pbmYA\n",
       "AAAUdm1oZAAAAAEAAAAAAAAAAAAAACRkaW5mAAAAHGRyZWYAAAAAAAAAAQAAAAx1cmwgAAAAAQAA\n",
       "CpJzdGJsAAAAsnN0c2QAAAAAAAAAAQAAAKJhdmMxAAAAAAAAAAEAAAAAAAAAAAAAAAAAAAAAAbAB\n",
       "IABIAAAASAAAAAAAAAABAAAAAAAAAAAAAAAAAAAAAAAAAAAAAAAAAAAAAAAAAAAAGP//AAAAMGF2\n",
       "Y0MBZAAe/+EAF2dkAB6s2UGwloQAAAMADAAABkA8WLZYAQAGaOvjyyLAAAAAHHV1aWRraEDyXyRP\n",
       "xbo5pRvPAyPzAAAAAAAAABhzdHRzAAAAAAAAAAEAAADIAAAAwAAAABRzdHNzAAAAAAAAAAEAAAAB\n",
       "AAAGSGN0dHMAAAAAAAAAxwAAAAEAAAGAAAAAAQAAA8AAAAABAAABgAAAAAEAAAAAAAAAAQAAAMAA\n",
       "AAABAAADwAAAAAEAAAGAAAAAAQAAAAAAAAABAAAAwAAAAAEAAAPAAAAAAQAAAYAAAAABAAAAAAAA\n",
       "AAEAAADAAAAAAQAAA8AAAAABAAABgAAAAAEAAAAAAAAAAQAAAMAAAAABAAADwAAAAAEAAAGAAAAA\n",
       "AQAAAAAAAAABAAAAwAAAAAEAAAPAAAAAAQAAAYAAAAABAAAAAAAAAAEAAADAAAAAAQAAA8AAAAAB\n",
       "AAABgAAAAAEAAAAAAAAAAQAAAMAAAAABAAADwAAAAAEAAAGAAAAAAQAAAAAAAAABAAAAwAAAAAEA\n",
       "AAPAAAAAAQAAAYAAAAABAAAAAAAAAAEAAADAAAAAAQAAA8AAAAABAAABgAAAAAEAAAAAAAAAAQAA\n",
       "AMAAAAABAAADwAAAAAEAAAGAAAAAAQAAAAAAAAABAAAAwAAAAAEAAAPAAAAAAQAAAYAAAAABAAAA\n",
       "AAAAAAEAAADAAAAAAQAAA8AAAAABAAABgAAAAAEAAAAAAAAAAQAAAMAAAAABAAADwAAAAAEAAAGA\n",
       "AAAAAQAAAAAAAAABAAAAwAAAAAEAAAPAAAAAAQAAAYAAAAABAAAAAAAAAAEAAADAAAAAAQAAA8AA\n",
       "AAABAAABgAAAAAEAAAAAAAAAAQAAAMAAAAABAAADwAAAAAEAAAGAAAAAAQAAAAAAAAABAAAAwAAA\n",
       "AAEAAAPAAAAAAQAAAYAAAAABAAAAAAAAAAEAAADAAAAAAQAAA8AAAAABAAABgAAAAAEAAAAAAAAA\n",
       "AQAAAMAAAAABAAADwAAAAAEAAAGAAAAAAQAAAAAAAAABAAAAwAAAAAEAAAPAAAAAAQAAAYAAAAAB\n",
       "AAAAAAAAAAEAAADAAAAAAQAAA8AAAAABAAABgAAAAAEAAAAAAAAAAQAAAMAAAAABAAADwAAAAAEA\n",
       "AAGAAAAAAQAAAAAAAAABAAAAwAAAAAEAAAPAAAAAAQAAAYAAAAABAAAAAAAAAAEAAADAAAAAAQAA\n",
       "A8AAAAABAAABgAAAAAEAAAAAAAAAAQAAAMAAAAABAAADwAAAAAEAAAGAAAAAAQAAAAAAAAABAAAA\n",
       "wAAAAAEAAAPAAAAAAQAAAYAAAAABAAAAAAAAAAEAAADAAAAAAQAAA8AAAAABAAABgAAAAAEAAAAA\n",
       "AAAAAQAAAMAAAAABAAADwAAAAAEAAAGAAAAAAQAAAAAAAAABAAAAwAAAAAEAAAPAAAAAAQAAAYAA\n",
       "AAABAAAAAAAAAAEAAADAAAAAAQAAA8AAAAABAAABgAAAAAEAAAAAAAAAAQAAAMAAAAABAAADwAAA\n",
       "AAEAAAGAAAAAAQAAAAAAAAABAAAAwAAAAAEAAAPAAAAAAQAAAYAAAAABAAAAAAAAAAEAAADAAAAA\n",
       "AQAAA8AAAAABAAABgAAAAAEAAAAAAAAAAQAAAMAAAAABAAADwAAAAAEAAAGAAAAAAQAAAAAAAAAB\n",
       "AAAAwAAAAAEAAAPAAAAAAQAAAYAAAAABAAAAAAAAAAEAAADAAAAAAQAAA8AAAAABAAABgAAAAAEA\n",
       "AAAAAAAAAQAAAMAAAAABAAADwAAAAAEAAAGAAAAAAQAAAAAAAAABAAAAwAAAAAEAAAPAAAAAAQAA\n",
       "AYAAAAABAAAAAAAAAAEAAADAAAAAAQAAA8AAAAABAAABgAAAAAEAAAAAAAAAAQAAAMAAAAABAAAD\n",
       "wAAAAAEAAAGAAAAAAQAAAAAAAAABAAAAwAAAAAEAAAPAAAAAAQAAAYAAAAABAAAAAAAAAAEAAADA\n",
       "AAAAAQAAA8AAAAABAAABgAAAAAEAAAAAAAAAAQAAAMAAAAABAAADwAAAAAEAAAGAAAAAAQAAAAAA\n",
       "AAABAAAAwAAAAAEAAAPAAAAAAQAAAYAAAAABAAAAAAAAAAEAAADAAAAAAQAAA8AAAAABAAABgAAA\n",
       "AAEAAAAAAAAAAQAAAMAAAAABAAADwAAAAAEAAAGAAAAAAQAAAAAAAAABAAAAwAAAAAEAAAPAAAAA\n",
       "AQAAAYAAAAABAAAAAAAAAAEAAADAAAAAAQAAA8AAAAABAAABgAAAAAEAAAAAAAAAAQAAAMAAAAAB\n",
       "AAADAAAAAAIAAADAAAAAHHN0c2MAAAAAAAAAAQAAAAEAAADIAAAAAQAAAzRzdHN6AAAAAAAAAAAA\n",
       "AADIAAALFgAAAV4AAABBAAAALAAAACcAAAB6AAAAMAAAACUAAAAcAAAAdAAAACkAAAAbAAAAGgAA\n",
       "AFAAAAAoAAAAGwAAABgAAABGAAAAJgAAABcAAAAWAAAAXwAAACkAAAAWAAAAGQAAAGAAAAAqAAAA\n",
       "GAAAABoAAABUAAAAKwAAABkAAAAbAAAASgAAACwAAAAfAAAAGQAAAF8AAAApAAAAHAAAABsAAABg\n",
       "AAAAKAAAABcAAAAbAAAASgAAACsAAAAYAAAAGwAAAGEAAAA8AAAAHwAAABwAAABoAAAAQAAAABsA\n",
       "AAAfAAAAcwAAADEAAAAfAAAAHgAAAGEAAAA1AAAAIQAAACAAAACBAAAAOgAAACAAAAAhAAAAdQAA\n",
       "ADIAAAAbAAAAIAAAAGYAAAA6AAAAIQAAAB8AAAB+AAAALwAAAB0AAAAiAAAAYAAAADEAAAAdAAAA\n",
       "GwAAAHsAAAA/AAAAHQAAAB8AAABwAAAAQwAAACEAAAAfAAAAeAAAAD4AAAAgAAAAIwAAAJgAAAA9\n",
       "AAAAIwAAACcAAAB3AAAAQAAAACMAAAAhAAAAmQAAAD4AAAAjAAAAJAAAAGsAAAA/AAAAJAAAACUA\n",
       "AABoAAAANAAAACIAAAAhAAAAdwAAADMAAAAhAAAAIwAAAJ8AAAA6AAAAIwAAACUAAACPAAAASAAA\n",
       "ACgAAAAoAAAAnAAAAEIAAAAnAAAAJgAAAJgAAABNAAAAJAAAACcAAAClAAAAOAAAACcAAAAhAAAA\n",
       "kQAAAD8AAAAjAAAAIgAAANYAAABGAAAALAAAACsAAACdAAAAPQAAACgAAAAtAAAAngAAAEcAAAAs\n",
       "AAAAKQAAAJUAAABAAAAAJAAAAC0AAADIAAAATgAAACoAAAArAAAAsgAAAEYAAAAnAAAAKQAAAKMA\n",
       "AABCAAAAJwAAACkAAADgAAAATgAAADEAAAAtAAAAxgAAAFIAAAAsAAAAKwAAAL0AAABEAAAAKAAA\n",
       "ADAAAACoAAAARwAAACgAAAAsAAAAoAAAAEYAAAAyAAAAMAAAAIMAAABOAAAAKwAAADAAAABqAAAA\n",
       "QgAAACYAAAAUc3RjbwAAAAAAAAABAAAALAAAAGF1ZHRhAAAAWW1ldGEAAAAAAAAAIWhkbHIAAAAA\n",
       "AAAAAG1kaXJhcHBsAAAAAAAAAAAAAAAALGlsc3QAAAAkqXRvbwAAABxkYXRhAAAAAQAAAABMYXZm\n",
       "NTguMy4xMDA=\n",
       "\">\n",
       "  Your browser does not support the video tag.\n",
       "</video>"
      ],
      "text/plain": [
       "<matplotlib.animation.FuncAnimation at 0x194610e7f28>"
      ]
     },
     "execution_count": 16,
     "metadata": {},
     "output_type": "execute_result"
    },
    {
     "data": {
      "image/png": "[encoded data removed]",
      "text/plain": [
       "<matplotlib.figure.Figure at 0x1946116ce10>"
      ]
     },
     "metadata": {},
     "output_type": "display_data"
    }
   ],
   "source": [
    "%matplotlib inline \n",
    "maxv=-1e10\n",
    "minv=1e10\n",
    "minv = [min(minv,min(t)) for t in U]\n",
    "minv=min(minv)\n",
    "maxv = [max(maxv,max(t)) for t in U]\n",
    "maxv=max(maxv)\n",
    "fig, ax = plt.subplots()\n",
    "ax.set_xlim(0,l)\n",
    "ax.set_ylim(minv-1,maxv+1)\n",
    "ax.grid(True)\n",
    "line, = ax.plot([], [], lw=2)\n",
    "# initialization function: plot the background of each frame\n",
    "def init():\n",
    "    line.set_data([], [])\n",
    "    return (line,)\n",
    "# animation function. This is called sequentially\n",
    "def animate(i):\n",
    "    x = np.linspace(0,l,U.shape[1],dtype=np.longdouble)\n",
    "    line.set_data(x, U[i])\n",
    "    return (line,)\n",
    "# call the animator. blit=True means only re-draw the parts that have changed.\n",
    "anim = animation.FuncAnimation(fig, animate, init_func=init,\n",
    "                               frames=U.shape[0], interval=1000/U.shape[0]*anim_speed.value, blit=True)\n",
    "# equivalent to rcParams['animation.html'] = 'html5'\n",
    "\n",
    "rc('animation', html='html5')\n",
    "anim"
   ]
  },
  {
   "cell_type": "code",
   "execution_count": 17,
   "metadata": {
    "hideCode": false,
    "hidePrompt": true,
    "scrolled": false
   },
   "outputs": [
    {
     "data": {
      "application/javascript": [
       "/* Put everything inside the global mpl namespace */\n",
       "window.mpl = {};\n",
       "\n",
       "\n",
       "mpl.get_websocket_type = function() {\n",
       "    if (typeof(WebSocket) !== 'undefined') {\n",
       "        return WebSocket;\n",
       "    } else if (typeof(MozWebSocket) !== 'undefined') {\n",
       "        return MozWebSocket;\n",
       "    } else {\n",
       "        alert('Your browser does not have WebSocket support.' +\n",
       "              'Please try Chrome, Safari or Firefox ≥ 6. ' +\n",
       "              'Firefox 4 and 5 are also supported but you ' +\n",
       "              'have to enable WebSockets in about:config.');\n",
       "    };\n",
       "}\n",
       "\n",
       "mpl.figure = function(figure_id, websocket, ondownload, parent_element) {\n",
       "    this.id = figure_id;\n",
       "\n",
       "    this.ws = websocket;\n",
       "\n",
       "    this.supports_binary = (this.ws.binaryType != undefined);\n",
       "\n",
       "    if (!this.supports_binary) {\n",
       "        var warnings = document.getElementById(\"mpl-warnings\");\n",
       "        if (warnings) {\n",
       "            warnings.style.display = 'block';\n",
       "            warnings.textContent = (\n",
       "                \"This browser does not support binary websocket messages. \" +\n",
       "                    \"Performance may be slow.\");\n",
       "        }\n",
       "    }\n",
       "\n",
       "    this.imageObj = new Image();\n",
       "\n",
       "    this.context = undefined;\n",
       "    this.message = undefined;\n",
       "    this.canvas = undefined;\n",
       "    this.rubberband_canvas = undefined;\n",
       "    this.rubberband_context = undefined;\n",
       "    this.format_dropdown = undefined;\n",
       "\n",
       "    this.image_mode = 'full';\n",
       "\n",
       "    this.root = $('<div/>');\n",
       "    this._root_extra_style(this.root)\n",
       "    this.root.attr('style', 'display: inline-block');\n",
       "\n",
       "    $(parent_element).append(this.root);\n",
       "\n",
       "    this._init_header(this);\n",
       "    this._init_canvas(this);\n",
       "    this._init_toolbar(this);\n",
       "\n",
       "    var fig = this;\n",
       "\n",
       "    this.waiting = false;\n",
       "\n",
       "    this.ws.onopen =  function () {\n",
       "            fig.send_message(\"supports_binary\", {value: fig.supports_binary});\n",
       "            fig.send_message(\"send_image_mode\", {});\n",
       "            if (mpl.ratio != 1) {\n",
       "                fig.send_message(\"set_dpi_ratio\", {'dpi_ratio': mpl.ratio});\n",
       "            }\n",
       "            fig.send_message(\"refresh\", {});\n",
       "        }\n",
       "\n",
       "    this.imageObj.onload = function() {\n",
       "            if (fig.image_mode == 'full') {\n",
       "                // Full images could contain transparency (where diff images\n",
       "                // almost always do), so we need to clear the canvas so that\n",
       "                // there is no ghosting.\n",
       "                fig.context.clearRect(0, 0, fig.canvas.width, fig.canvas.height);\n",
       "            }\n",
       "            fig.context.drawImage(fig.imageObj, 0, 0);\n",
       "        };\n",
       "\n",
       "    this.imageObj.onunload = function() {\n",
       "        fig.ws.close();\n",
       "    }\n",
       "\n",
       "    this.ws.onmessage = this._make_on_message_function(this);\n",
       "\n",
       "    this.ondownload = ondownload;\n",
       "}\n",
       "\n",
       "mpl.figure.prototype._init_header = function() {\n",
       "    var titlebar = $(\n",
       "        '<div class=\"ui-dialog-titlebar ui-widget-header ui-corner-all ' +\n",
       "        'ui-helper-clearfix\"/>');\n",
       "    var titletext = $(\n",
       "        '<div class=\"ui-dialog-title\" style=\"width: 100%; ' +\n",
       "        'text-align: center; padding: 3px;\"/>');\n",
       "    titlebar.append(titletext)\n",
       "    this.root.append(titlebar);\n",
       "    this.header = titletext[0];\n",
       "}\n",
       "\n",
       "\n",
       "\n",
       "mpl.figure.prototype._canvas_extra_style = function(canvas_div) {\n",
       "\n",
       "}\n",
       "\n",
       "\n",
       "mpl.figure.prototype._root_extra_style = function(canvas_div) {\n",
       "\n",
       "}\n",
       "\n",
       "mpl.figure.prototype._init_canvas = function() {\n",
       "    var fig = this;\n",
       "\n",
       "    var canvas_div = $('<div/>');\n",
       "\n",
       "    canvas_div.attr('style', 'position: relative; clear: both; outline: 0');\n",
       "\n",
       "    function canvas_keyboard_event(event) {\n",
       "        return fig.key_event(event, event['data']);\n",
       "    }\n",
       "\n",
       "    canvas_div.keydown('key_press', canvas_keyboard_event);\n",
       "    canvas_div.keyup('key_release', canvas_keyboard_event);\n",
       "    this.canvas_div = canvas_div\n",
       "    this._canvas_extra_style(canvas_div)\n",
       "    this.root.append(canvas_div);\n",
       "\n",
       "    var canvas = $('<canvas/>');\n",
       "    canvas.addClass('mpl-canvas');\n",
       "    canvas.attr('style', \"left: 0; top: 0; z-index: 0; outline: 0\")\n",
       "\n",
       "    this.canvas = canvas[0];\n",
       "    this.context = canvas[0].getContext(\"2d\");\n",
       "\n",
       "    var backingStore = this.context.backingStorePixelRatio ||\n",
       "\tthis.context.webkitBackingStorePixelRatio ||\n",
       "\tthis.context.mozBackingStorePixelRatio ||\n",
       "\tthis.context.msBackingStorePixelRatio ||\n",
       "\tthis.context.oBackingStorePixelRatio ||\n",
       "\tthis.context.backingStorePixelRatio || 1;\n",
       "\n",
       "    mpl.ratio = (window.devicePixelRatio || 1) / backingStore;\n",
       "\n",
       "    var rubberband = $('<canvas/>');\n",
       "    rubberband.attr('style', \"position: absolute; left: 0; top: 0; z-index: 1;\")\n",
       "\n",
       "    var pass_mouse_events = true;\n",
       "\n",
       "    canvas_div.resizable({\n",
       "        start: function(event, ui) {\n",
       "            pass_mouse_events = false;\n",
       "        },\n",
       "        resize: function(event, ui) {\n",
       "            fig.request_resize(ui.size.width, ui.size.height);\n",
       "        },\n",
       "        stop: function(event, ui) {\n",
       "            pass_mouse_events = true;\n",
       "            fig.request_resize(ui.size.width, ui.size.height);\n",
       "        },\n",
       "    });\n",
       "\n",
       "    function mouse_event_fn(event) {\n",
       "        if (pass_mouse_events)\n",
       "            return fig.mouse_event(event, event['data']);\n",
       "    }\n",
       "\n",
       "    rubberband.mousedown('button_press', mouse_event_fn);\n",
       "    rubberband.mouseup('button_release', mouse_event_fn);\n",
       "    // Throttle sequential mouse events to 1 every 20ms.\n",
       "    rubberband.mousemove('motion_notify', mouse_event_fn);\n",
       "\n",
       "    rubberband.mouseenter('figure_enter', mouse_event_fn);\n",
       "    rubberband.mouseleave('figure_leave', mouse_event_fn);\n",
       "\n",
       "    canvas_div.on(\"wheel\", function (event) {\n",
       "        event = event.originalEvent;\n",
       "        event['data'] = 'scroll'\n",
       "        if (event.deltaY < 0) {\n",
       "            event.step = 1;\n",
       "        } else {\n",
       "            event.step = -1;\n",
       "        }\n",
       "        mouse_event_fn(event);\n",
       "    });\n",
       "\n",
       "    canvas_div.append(canvas);\n",
       "    canvas_div.append(rubberband);\n",
       "\n",
       "    this.rubberband = rubberband;\n",
       "    this.rubberband_canvas = rubberband[0];\n",
       "    this.rubberband_context = rubberband[0].getContext(\"2d\");\n",
       "    this.rubberband_context.strokeStyle = \"#000000\";\n",
       "\n",
       "    this._resize_canvas = function(width, height) {\n",
       "        // Keep the size of the canvas, canvas container, and rubber band\n",
       "        // canvas in synch.\n",
       "        canvas_div.css('width', width)\n",
       "        canvas_div.css('height', height)\n",
       "\n",
       "        canvas.attr('width', width * mpl.ratio);\n",
       "        canvas.attr('height', height * mpl.ratio);\n",
       "        canvas.attr('style', 'width: ' + width + 'px; height: ' + height + 'px;');\n",
       "\n",
       "        rubberband.attr('width', width);\n",
       "        rubberband.attr('height', height);\n",
       "    }\n",
       "\n",
       "    // Set the figure to an initial 600x600px, this will subsequently be updated\n",
       "    // upon first draw.\n",
       "    this._resize_canvas(600, 600);\n",
       "\n",
       "    // Disable right mouse context menu.\n",
       "    $(this.rubberband_canvas).bind(\"contextmenu\",function(e){\n",
       "        return false;\n",
       "    });\n",
       "\n",
       "    function set_focus () {\n",
       "        canvas.focus();\n",
       "        canvas_div.focus();\n",
       "    }\n",
       "\n",
       "    window.setTimeout(set_focus, 100);\n",
       "}\n",
       "\n",
       "mpl.figure.prototype._init_toolbar = function() {\n",
       "    var fig = this;\n",
       "\n",
       "    var nav_element = $('<div/>')\n",
       "    nav_element.attr('style', 'width: 100%');\n",
       "    this.root.append(nav_element);\n",
       "\n",
       "    // Define a callback function for later on.\n",
       "    function toolbar_event(event) {\n",
       "        return fig.toolbar_button_onclick(event['data']);\n",
       "    }\n",
       "    function toolbar_mouse_event(event) {\n",
       "        return fig.toolbar_button_onmouseover(event['data']);\n",
       "    }\n",
       "\n",
       "    for(var toolbar_ind in mpl.toolbar_items) {\n",
       "        var name = mpl.toolbar_items[toolbar_ind][0];\n",
       "        var tooltip = mpl.toolbar_items[toolbar_ind][1];\n",
       "        var image = mpl.toolbar_items[toolbar_ind][2];\n",
       "        var method_name = mpl.toolbar_items[toolbar_ind][3];\n",
       "\n",
       "        if (!name) {\n",
       "            // put a spacer in here.\n",
       "            continue;\n",
       "        }\n",
       "        var button = $('<button/>');\n",
       "        button.addClass('ui-button ui-widget ui-state-default ui-corner-all ' +\n",
       "                        'ui-button-icon-only');\n",
       "        button.attr('role', 'button');\n",
       "        button.attr('aria-disabled', 'false');\n",
       "        button.click(method_name, toolbar_event);\n",
       "        button.mouseover(tooltip, toolbar_mouse_event);\n",
       "\n",
       "        var icon_img = $('<span/>');\n",
       "        icon_img.addClass('ui-button-icon-primary ui-icon');\n",
       "        icon_img.addClass(image);\n",
       "        icon_img.addClass('ui-corner-all');\n",
       "\n",
       "        var tooltip_span = $('<span/>');\n",
       "        tooltip_span.addClass('ui-button-text');\n",
       "        tooltip_span.html(tooltip);\n",
       "\n",
       "        button.append(icon_img);\n",
       "        button.append(tooltip_span);\n",
       "\n",
       "        nav_element.append(button);\n",
       "    }\n",
       "\n",
       "    var fmt_picker_span = $('<span/>');\n",
       "\n",
       "    var fmt_picker = $('<select/>');\n",
       "    fmt_picker.addClass('mpl-toolbar-option ui-widget ui-widget-content');\n",
       "    fmt_picker_span.append(fmt_picker);\n",
       "    nav_element.append(fmt_picker_span);\n",
       "    this.format_dropdown = fmt_picker[0];\n",
       "\n",
       "    for (var ind in mpl.extensions) {\n",
       "        var fmt = mpl.extensions[ind];\n",
       "        var option = $(\n",
       "            '<option/>', {selected: fmt === mpl.default_extension}).html(fmt);\n",
       "        fmt_picker.append(option)\n",
       "    }\n",
       "\n",
       "    // Add hover states to the ui-buttons\n",
       "    $( \".ui-button\" ).hover(\n",
       "        function() { $(this).addClass(\"ui-state-hover\");},\n",
       "        function() { $(this).removeClass(\"ui-state-hover\");}\n",
       "    );\n",
       "\n",
       "    var status_bar = $('<span class=\"mpl-message\"/>');\n",
       "    nav_element.append(status_bar);\n",
       "    this.message = status_bar[0];\n",
       "}\n",
       "\n",
       "mpl.figure.prototype.request_resize = function(x_pixels, y_pixels) {\n",
       "    // Request matplotlib to resize the figure. Matplotlib will then trigger a resize in the client,\n",
       "    // which will in turn request a refresh of the image.\n",
       "    this.send_message('resize', {'width': x_pixels, 'height': y_pixels});\n",
       "}\n",
       "\n",
       "mpl.figure.prototype.send_message = function(type, properties) {\n",
       "    properties['type'] = type;\n",
       "    properties['figure_id'] = this.id;\n",
       "    this.ws.send(JSON.stringify(properties));\n",
       "}\n",
       "\n",
       "mpl.figure.prototype.send_draw_message = function() {\n",
       "    if (!this.waiting) {\n",
       "        this.waiting = true;\n",
       "        this.ws.send(JSON.stringify({type: \"draw\", figure_id: this.id}));\n",
       "    }\n",
       "}\n",
       "\n",
       "\n",
       "mpl.figure.prototype.handle_save = function(fig, msg) {\n",
       "    var format_dropdown = fig.format_dropdown;\n",
       "    var format = format_dropdown.options[format_dropdown.selectedIndex].value;\n",
       "    fig.ondownload(fig, format);\n",
       "}\n",
       "\n",
       "\n",
       "mpl.figure.prototype.handle_resize = function(fig, msg) {\n",
       "    var size = msg['size'];\n",
       "    if (size[0] != fig.canvas.width || size[1] != fig.canvas.height) {\n",
       "        fig._resize_canvas(size[0], size[1]);\n",
       "        fig.send_message(\"refresh\", {});\n",
       "    };\n",
       "}\n",
       "\n",
       "mpl.figure.prototype.handle_rubberband = function(fig, msg) {\n",
       "    var x0 = msg['x0'] / mpl.ratio;\n",
       "    var y0 = (fig.canvas.height - msg['y0']) / mpl.ratio;\n",
       "    var x1 = msg['x1'] / mpl.ratio;\n",
       "    var y1 = (fig.canvas.height - msg['y1']) / mpl.ratio;\n",
       "    x0 = Math.floor(x0) + 0.5;\n",
       "    y0 = Math.floor(y0) + 0.5;\n",
       "    x1 = Math.floor(x1) + 0.5;\n",
       "    y1 = Math.floor(y1) + 0.5;\n",
       "    var min_x = Math.min(x0, x1);\n",
       "    var min_y = Math.min(y0, y1);\n",
       "    var width = Math.abs(x1 - x0);\n",
       "    var height = Math.abs(y1 - y0);\n",
       "\n",
       "    fig.rubberband_context.clearRect(\n",
       "        0, 0, fig.canvas.width, fig.canvas.height);\n",
       "\n",
       "    fig.rubberband_context.strokeRect(min_x, min_y, width, height);\n",
       "}\n",
       "\n",
       "mpl.figure.prototype.handle_figure_label = function(fig, msg) {\n",
       "    // Updates the figure title.\n",
       "    fig.header.textContent = msg['label'];\n",
       "}\n",
       "\n",
       "mpl.figure.prototype.handle_cursor = function(fig, msg) {\n",
       "    var cursor = msg['cursor'];\n",
       "    switch(cursor)\n",
       "    {\n",
       "    case 0:\n",
       "        cursor = 'pointer';\n",
       "        break;\n",
       "    case 1:\n",
       "        cursor = 'default';\n",
       "        break;\n",
       "    case 2:\n",
       "        cursor = 'crosshair';\n",
       "        break;\n",
       "    case 3:\n",
       "        cursor = 'move';\n",
       "        break;\n",
       "    }\n",
       "    fig.rubberband_canvas.style.cursor = cursor;\n",
       "}\n",
       "\n",
       "mpl.figure.prototype.handle_message = function(fig, msg) {\n",
       "    fig.message.textContent = msg['message'];\n",
       "}\n",
       "\n",
       "mpl.figure.prototype.handle_draw = function(fig, msg) {\n",
       "    // Request the server to send over a new figure.\n",
       "    fig.send_draw_message();\n",
       "}\n",
       "\n",
       "mpl.figure.prototype.handle_image_mode = function(fig, msg) {\n",
       "    fig.image_mode = msg['mode'];\n",
       "}\n",
       "\n",
       "mpl.figure.prototype.updated_canvas_event = function() {\n",
       "    // Called whenever the canvas gets updated.\n",
       "    this.send_message(\"ack\", {});\n",
       "}\n",
       "\n",
       "// A function to construct a web socket function for onmessage handling.\n",
       "// Called in the figure constructor.\n",
       "mpl.figure.prototype._make_on_message_function = function(fig) {\n",
       "    return function socket_on_message(evt) {\n",
       "        if (evt.data instanceof Blob) {\n",
       "            /* FIXME: We get \"Resource interpreted as Image but\n",
       "             * transferred with MIME type text/plain:\" errors on\n",
       "             * Chrome.  But how to set the MIME type?  It doesn't seem\n",
       "             * to be part of the websocket stream */\n",
       "            evt.data.type = \"image/png\";\n",
       "\n",
       "            /* Free the memory for the previous frames */\n",
       "            if (fig.imageObj.src) {\n",
       "                (window.URL || window.webkitURL).revokeObjectURL(\n",
       "                    fig.imageObj.src);\n",
       "            }\n",
       "\n",
       "            fig.imageObj.src = (window.URL || window.webkitURL).createObjectURL(\n",
       "                evt.data);\n",
       "            fig.updated_canvas_event();\n",
       "            fig.waiting = false;\n",
       "            return;\n",
       "        }\n",
       "        else if (typeof evt.data === 'string' && evt.data.slice(0, 21) == \"data:image/png;base64\") {\n",
       "            fig.imageObj.src = evt.data;\n",
       "            fig.updated_canvas_event();\n",
       "            fig.waiting = false;\n",
       "            return;\n",
       "        }\n",
       "\n",
       "        var msg = JSON.parse(evt.data);\n",
       "        var msg_type = msg['type'];\n",
       "\n",
       "        // Call the  \"handle_{type}\" callback, which takes\n",
       "        // the figure and JSON message as its only arguments.\n",
       "        try {\n",
       "            var callback = fig[\"handle_\" + msg_type];\n",
       "        } catch (e) {\n",
       "            console.log(\"No handler for the '\" + msg_type + \"' message type: \", msg);\n",
       "            return;\n",
       "        }\n",
       "\n",
       "        if (callback) {\n",
       "            try {\n",
       "                // console.log(\"Handling '\" + msg_type + \"' message: \", msg);\n",
       "                callback(fig, msg);\n",
       "            } catch (e) {\n",
       "                console.log(\"Exception inside the 'handler_\" + msg_type + \"' callback:\", e, e.stack, msg);\n",
       "            }\n",
       "        }\n",
       "    };\n",
       "}\n",
       "\n",
       "// from http://stackoverflow.com/questions/1114465/getting-mouse-location-in-canvas\n",
       "mpl.findpos = function(e) {\n",
       "    //this section is from http://www.quirksmode.org/js/events_properties.html\n",
       "    var targ;\n",
       "    if (!e)\n",
       "        e = window.event;\n",
       "    if (e.target)\n",
       "        targ = e.target;\n",
       "    else if (e.srcElement)\n",
       "        targ = e.srcElement;\n",
       "    if (targ.nodeType == 3) // defeat Safari bug\n",
       "        targ = targ.parentNode;\n",
       "\n",
       "    // jQuery normalizes the pageX and pageY\n",
       "    // pageX,Y are the mouse positions relative to the document\n",
       "    // offset() returns the position of the element relative to the document\n",
       "    var x = e.pageX - $(targ).offset().left;\n",
       "    var y = e.pageY - $(targ).offset().top;\n",
       "\n",
       "    return {\"x\": x, \"y\": y};\n",
       "};\n",
       "\n",
       "/*\n",
       " * return a copy of an object with only non-object keys\n",
       " * we need this to avoid circular references\n",
       " * http://stackoverflow.com/a/24161582/3208463\n",
       " */\n",
       "function simpleKeys (original) {\n",
       "  return Object.keys(original).reduce(function (obj, key) {\n",
       "    if (typeof original[key] !== 'object')\n",
       "        obj[key] = original[key]\n",
       "    return obj;\n",
       "  }, {});\n",
       "}\n",
       "\n",
       "mpl.figure.prototype.mouse_event = function(event, name) {\n",
       "    var canvas_pos = mpl.findpos(event)\n",
       "\n",
       "    if (name === 'button_press')\n",
       "    {\n",
       "        this.canvas.focus();\n",
       "        this.canvas_div.focus();\n",
       "    }\n",
       "\n",
       "    var x = canvas_pos.x * mpl.ratio;\n",
       "    var y = canvas_pos.y * mpl.ratio;\n",
       "\n",
       "    this.send_message(name, {x: x, y: y, button: event.button,\n",
       "                             step: event.step,\n",
       "                             guiEvent: simpleKeys(event)});\n",
       "\n",
       "    /* This prevents the web browser from automatically changing to\n",
       "     * the text insertion cursor when the button is pressed.  We want\n",
       "     * to control all of the cursor setting manually through the\n",
       "     * 'cursor' event from matplotlib */\n",
       "    event.preventDefault();\n",
       "    return false;\n",
       "}\n",
       "\n",
       "mpl.figure.prototype._key_event_extra = function(event, name) {\n",
       "    // Handle any extra behaviour associated with a key event\n",
       "}\n",
       "\n",
       "mpl.figure.prototype.key_event = function(event, name) {\n",
       "\n",
       "    // Prevent repeat events\n",
       "    if (name == 'key_press')\n",
       "    {\n",
       "        if (event.which === this._key)\n",
       "            return;\n",
       "        else\n",
       "            this._key = event.which;\n",
       "    }\n",
       "    if (name == 'key_release')\n",
       "        this._key = null;\n",
       "\n",
       "    var value = '';\n",
       "    if (event.ctrlKey && event.which != 17)\n",
       "        value += \"ctrl+\";\n",
       "    if (event.altKey && event.which != 18)\n",
       "        value += \"alt+\";\n",
       "    if (event.shiftKey && event.which != 16)\n",
       "        value += \"shift+\";\n",
       "\n",
       "    value += 'k';\n",
       "    value += event.which.toString();\n",
       "\n",
       "    this._key_event_extra(event, name);\n",
       "\n",
       "    this.send_message(name, {key: value,\n",
       "                             guiEvent: simpleKeys(event)});\n",
       "    return false;\n",
       "}\n",
       "\n",
       "mpl.figure.prototype.toolbar_button_onclick = function(name) {\n",
       "    if (name == 'download') {\n",
       "        this.handle_save(this, null);\n",
       "    } else {\n",
       "        this.send_message(\"toolbar_button\", {name: name});\n",
       "    }\n",
       "};\n",
       "\n",
       "mpl.figure.prototype.toolbar_button_onmouseover = function(tooltip) {\n",
       "    this.message.textContent = tooltip;\n",
       "};\n",
       "mpl.toolbar_items = [[\"Home\", \"Reset original view\", \"fa fa-home icon-home\", \"home\"], [\"Back\", \"Back to  previous view\", \"fa fa-arrow-left icon-arrow-left\", \"back\"], [\"Forward\", \"Forward to next view\", \"fa fa-arrow-right icon-arrow-right\", \"forward\"], [\"\", \"\", \"\", \"\"], [\"Pan\", \"Pan axes with left mouse, zoom with right\", \"fa fa-arrows icon-move\", \"pan\"], [\"Zoom\", \"Zoom to rectangle\", \"fa fa-square-o icon-check-empty\", \"zoom\"], [\"\", \"\", \"\", \"\"], [\"Download\", \"Download plot\", \"fa fa-floppy-o icon-save\", \"download\"]];\n",
       "\n",
       "mpl.extensions = [\"eps\", \"jpeg\", \"pdf\", \"png\", \"ps\", \"raw\", \"svg\", \"tif\"];\n",
       "\n",
       "mpl.default_extension = \"png\";var comm_websocket_adapter = function(comm) {\n",
       "    // Create a \"websocket\"-like object which calls the given IPython comm\n",
       "    // object with the appropriate methods. Currently this is a non binary\n",
       "    // socket, so there is still some room for performance tuning.\n",
       "    var ws = {};\n",
       "\n",
       "    ws.close = function() {\n",
       "        comm.close()\n",
       "    };\n",
       "    ws.send = function(m) {\n",
       "        //console.log('sending', m);\n",
       "        comm.send(m);\n",
       "    };\n",
       "    // Register the callback with on_msg.\n",
       "    comm.on_msg(function(msg) {\n",
       "        //console.log('receiving', msg['content']['data'], msg);\n",
       "        // Pass the mpl event to the overriden (by mpl) onmessage function.\n",
       "        ws.onmessage(msg['content']['data'])\n",
       "    });\n",
       "    return ws;\n",
       "}\n",
       "\n",
       "mpl.mpl_figure_comm = function(comm, msg) {\n",
       "    // This is the function which gets called when the mpl process\n",
       "    // starts-up an IPython Comm through the \"matplotlib\" channel.\n",
       "\n",
       "    var id = msg.content.data.id;\n",
       "    // Get hold of the div created by the display call when the Comm\n",
       "    // socket was opened in Python.\n",
       "    var element = $(\"#\" + id);\n",
       "    var ws_proxy = comm_websocket_adapter(comm)\n",
       "\n",
       "    function ondownload(figure, format) {\n",
       "        window.open(figure.imageObj.src);\n",
       "    }\n",
       "\n",
       "    var fig = new mpl.figure(id, ws_proxy,\n",
       "                           ondownload,\n",
       "                           element.get(0));\n",
       "\n",
       "    // Call onopen now - mpl needs it, as it is assuming we've passed it a real\n",
       "    // web socket which is closed, not our websocket->open comm proxy.\n",
       "    ws_proxy.onopen();\n",
       "\n",
       "    fig.parent_element = element.get(0);\n",
       "    fig.cell_info = mpl.find_output_cell(\"<div id='\" + id + \"'></div>\");\n",
       "    if (!fig.cell_info) {\n",
       "        console.error(\"Failed to find cell for figure\", id, fig);\n",
       "        return;\n",
       "    }\n",
       "\n",
       "    var output_index = fig.cell_info[2]\n",
       "    var cell = fig.cell_info[0];\n",
       "\n",
       "};\n",
       "\n",
       "mpl.figure.prototype.handle_close = function(fig, msg) {\n",
       "    var width = fig.canvas.width/mpl.ratio\n",
       "    fig.root.unbind('remove')\n",
       "\n",
       "    // Update the output cell to use the data from the current canvas.\n",
       "    fig.push_to_output();\n",
       "    var dataURL = fig.canvas.toDataURL();\n",
       "    // Re-enable the keyboard manager in IPython - without this line, in FF,\n",
       "    // the notebook keyboard shortcuts fail.\n",
       "    IPython.keyboard_manager.enable()\n",
       "    $(fig.parent_element).html('<img src=\"' + dataURL + '\" width=\"' + width + '\">');\n",
       "    fig.close_ws(fig, msg);\n",
       "}\n",
       "\n",
       "mpl.figure.prototype.close_ws = function(fig, msg){\n",
       "    fig.send_message('closing', msg);\n",
       "    // fig.ws.close()\n",
       "}\n",
       "\n",
       "mpl.figure.prototype.push_to_output = function(remove_interactive) {\n",
       "    // Turn the data on the canvas into data in the output cell.\n",
       "    var width = this.canvas.width/mpl.ratio\n",
       "    var dataURL = this.canvas.toDataURL();\n",
       "    this.cell_info[1]['text/html'] = '<img src=\"' + dataURL + '\" width=\"' + width + '\">';\n",
       "}\n",
       "\n",
       "mpl.figure.prototype.updated_canvas_event = function() {\n",
       "    // Tell IPython that the notebook contents must change.\n",
       "    IPython.notebook.set_dirty(true);\n",
       "    this.send_message(\"ack\", {});\n",
       "    var fig = this;\n",
       "    // Wait a second, then push the new image to the DOM so\n",
       "    // that it is saved nicely (might be nice to debounce this).\n",
       "    setTimeout(function () { fig.push_to_output() }, 1000);\n",
       "}\n",
       "\n",
       "mpl.figure.prototype._init_toolbar = function() {\n",
       "    var fig = this;\n",
       "\n",
       "    var nav_element = $('<div/>')\n",
       "    nav_element.attr('style', 'width: 100%');\n",
       "    this.root.append(nav_element);\n",
       "\n",
       "    // Define a callback function for later on.\n",
       "    function toolbar_event(event) {\n",
       "        return fig.toolbar_button_onclick(event['data']);\n",
       "    }\n",
       "    function toolbar_mouse_event(event) {\n",
       "        return fig.toolbar_button_onmouseover(event['data']);\n",
       "    }\n",
       "\n",
       "    for(var toolbar_ind in mpl.toolbar_items){\n",
       "        var name = mpl.toolbar_items[toolbar_ind][0];\n",
       "        var tooltip = mpl.toolbar_items[toolbar_ind][1];\n",
       "        var image = mpl.toolbar_items[toolbar_ind][2];\n",
       "        var method_name = mpl.toolbar_items[toolbar_ind][3];\n",
       "\n",
       "        if (!name) { continue; };\n",
       "\n",
       "        var button = $('<button class=\"btn btn-default\" href=\"#\" title=\"' + name + '\"><i class=\"fa ' + image + ' fa-lg\"></i></button>');\n",
       "        button.click(method_name, toolbar_event);\n",
       "        button.mouseover(tooltip, toolbar_mouse_event);\n",
       "        nav_element.append(button);\n",
       "    }\n",
       "\n",
       "    // Add the status bar.\n",
       "    var status_bar = $('<span class=\"mpl-message\" style=\"text-align:right; float: right;\"/>');\n",
       "    nav_element.append(status_bar);\n",
       "    this.message = status_bar[0];\n",
       "\n",
       "    // Add the close button to the window.\n",
       "    var buttongrp = $('<div class=\"btn-group inline pull-right\"></div>');\n",
       "    var button = $('<button class=\"btn btn-mini btn-primary\" href=\"#\" title=\"Stop Interaction\"><i class=\"fa fa-power-off icon-remove icon-large\"></i></button>');\n",
       "    button.click(function (evt) { fig.handle_close(fig, {}); } );\n",
       "    button.mouseover('Stop Interaction', toolbar_mouse_event);\n",
       "    buttongrp.append(button);\n",
       "    var titlebar = this.root.find($('.ui-dialog-titlebar'));\n",
       "    titlebar.prepend(buttongrp);\n",
       "}\n",
       "\n",
       "mpl.figure.prototype._root_extra_style = function(el){\n",
       "    var fig = this\n",
       "    el.on(\"remove\", function(){\n",
       "\tfig.close_ws(fig, {});\n",
       "    });\n",
       "}\n",
       "\n",
       "mpl.figure.prototype._canvas_extra_style = function(el){\n",
       "    // this is important to make the div 'focusable\n",
       "    el.attr('tabindex', 0)\n",
       "    // reach out to IPython and tell the keyboard manager to turn it's self\n",
       "    // off when our div gets focus\n",
       "\n",
       "    // location in version 3\n",
       "    if (IPython.notebook.keyboard_manager) {\n",
       "        IPython.notebook.keyboard_manager.register_events(el);\n",
       "    }\n",
       "    else {\n",
       "        // location in version 2\n",
       "        IPython.keyboard_manager.register_events(el);\n",
       "    }\n",
       "\n",
       "}\n",
       "\n",
       "mpl.figure.prototype._key_event_extra = function(event, name) {\n",
       "    var manager = IPython.notebook.keyboard_manager;\n",
       "    if (!manager)\n",
       "        manager = IPython.keyboard_manager;\n",
       "\n",
       "    // Check for shift+enter\n",
       "    if (event.shiftKey && event.which == 13) {\n",
       "        this.canvas_div.blur();\n",
       "        event.shiftKey = false;\n",
       "        // Send a \"J\" for go to next cell\n",
       "        event.which = 74;\n",
       "        event.keyCode = 74;\n",
       "        manager.command_mode();\n",
       "        manager.handle_keydown(event);\n",
       "    }\n",
       "}\n",
       "\n",
       "mpl.figure.prototype.handle_save = function(fig, msg) {\n",
       "    fig.ondownload(fig, null);\n",
       "}\n",
       "\n",
       "\n",
       "mpl.find_output_cell = function(html_output) {\n",
       "    // Return the cell and output element which can be found *uniquely* in the notebook.\n",
       "    // Note - this is a bit hacky, but it is done because the \"notebook_saving.Notebook\"\n",
       "    // IPython event is triggered only after the cells have been serialised, which for\n",
       "    // our purposes (turning an active figure into a static one), is too late.\n",
       "    var cells = IPython.notebook.get_cells();\n",
       "    var ncells = cells.length;\n",
       "    for (var i=0; i<ncells; i++) {\n",
       "        var cell = cells[i];\n",
       "        if (cell.cell_type === 'code'){\n",
       "            for (var j=0; j<cell.output_area.outputs.length; j++) {\n",
       "                var data = cell.output_area.outputs[j];\n",
       "                if (data.data) {\n",
       "                    // IPython >= 3 moved mimebundle to data attribute of output\n",
       "                    data = data.data;\n",
       "                }\n",
       "                if (data['text/html'] == html_output) {\n",
       "                    return [cell, data, j];\n",
       "                }\n",
       "            }\n",
       "        }\n",
       "    }\n",
       "}\n",
       "\n",
       "// Register the function which deals with the matplotlib target/channel.\n",
       "// The kernel may be null if the page has been refreshed.\n",
       "if (IPython.notebook.kernel != null) {\n",
       "    IPython.notebook.kernel.comm_manager.register_target('matplotlib', mpl.mpl_figure_comm);\n",
       "}\n"
      ],
      "text/plain": [
       "<IPython.core.display.Javascript object>"
      ]
     },
     "metadata": {},
     "output_type": "display_data"
    },
    {
     "data": {
      "text/html": [
       "<img src=\"data:image/png;base64,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\" width=\"720\">"
      ],
      "text/plain": [
       "<IPython.core.display.HTML object>"
      ]
     },
     "metadata": {},
     "output_type": "display_data"
    },
    {
     "data": {
      "application/vnd.jupyter.widget-view+json": {
       "model_id": "0bd91ef61a6e4891ad6ee379da0f0f87",
       "version_major": 2,
       "version_minor": 0
      },
      "text/html": [
       "<p>Failed to display Jupyter Widget of type <code>VBox</code>.</p>\n",
       "<p>\n",
       "  If you're reading this message in the Jupyter Notebook or JupyterLab Notebook, it may mean\n",
       "  that the widgets JavaScript is still loading. If this message persists, it\n",
       "  likely means that the widgets JavaScript library is either not installed or\n",
       "  not enabled. See the <a href=\"https://ipywidgets.readthedocs.io/en/stable/user_install.html\">Jupyter\n",
       "  Widgets Documentation</a> for setup instructions.\n",
       "</p>\n",
       "<p>\n",
       "  If you're reading this message in another frontend (for example, a static\n",
       "  rendering on GitHub or <a href=\"https://nbviewer.jupyter.org/\">NBViewer</a>),\n",
       "  it may mean that your frontend doesn't currently support widgets.\n",
       "</p>\n"
      ],
      "text/plain": [
       "VBox(children=(HBox(children=(IntSlider(value=0, description='Step:', max=199), Label(value=''))), HBox(children=(BoundedFloatText(value=0.0, continuous_update=True, description='Time:', max=1.0, step=0.1), Label(value='')))))"
      ]
     },
     "metadata": {},
     "output_type": "display_data"
    }
   ],
   "source": [
    "%matplotlib notebook\n",
    "%matplotlib notebook\n",
    "matplotlib.rcParams['figure.figsize'] = [10.0, 10.0]\n",
    "import matplotlib.pyplot as plt\n",
    "w=widgets.IntSlider(\n",
    "    value=0,\n",
    "    min=0,\n",
    "    max=U.shape[0]-1,\n",
    "    step=1,\n",
    "    description='Step:',\n",
    "    disabled=False,\n",
    "    continuous_update=True,\n",
    "    orientation='horizontal',\n",
    "    readout=True,\n",
    "    readout_format='d'\n",
    ")\n",
    "w1 = widgets.BoundedFloatText(\n",
    "    value=0,\n",
    "    min=0,\n",
    "    max=max_time,\n",
    "    step=0.1,\n",
    "    continuous_update=True,\n",
    "    description='Time:',\n",
    "    disabled=False\n",
    ")\n",
    "global z \n",
    "z = Label()\n",
    "global z1 \n",
    "z1 = Label()\n",
    "def pltsin(i):\n",
    "    global ax1\n",
    "    global fig1\n",
    "    global z\n",
    "    x = np.linspace(0,l,U.shape[1],dtype=np.longdouble)\n",
    "    timeline=np.linspace(0,max_time,U.shape[0],dtype=np.longdouble)\n",
    "    if ax1.lines:\n",
    "        for line in ax1.lines:\n",
    "            line.set_xdata(x)\n",
    "            y = U[i['new']]\n",
    "            line.set_ydata(y)\n",
    "    else:\n",
    "        y = U[0]\n",
    "        ax1.plot(x, y)\n",
    "    z.value=\"Time:\"+str(timeline[i['new']])\n",
    "    w.value=i['new']\n",
    "    fig1.canvas.draw()\n",
    "def pltsin1(t):\n",
    "    global ax1\n",
    "    global fig1\n",
    "    global z\n",
    "    x = np.linspace(0,l,U.shape[1],dtype=np.longdouble)\n",
    "    timeline=np.linspace(0,max_time,U.shape[0],dtype=np.longdouble)\n",
    "    t = t['new']\n",
    "    minv = 1000000\n",
    "    mini=0\n",
    "    p=abs(timeline-t)\n",
    "    for i in range(len(p)):\n",
    "        if p[i]<minv:\n",
    "            minv = p[i]\n",
    "            mini = i\n",
    "    pltsin({'new': mini})\n",
    "\n",
    "%matplotlib notebook\n",
    "global ax1\n",
    "global fig1\n",
    "maxv=-1e10\n",
    "minv=1e10\n",
    "minv = [min(minv,min(t)) for t in U]\n",
    "minv=min(minv)\n",
    "maxv = [max(maxv,max(t)) for t in U]\n",
    "maxv=max(maxv)\n",
    "w.observe(pltsin,'value')\n",
    "w1.observe(pltsin1,'value')\n",
    "fig1,ax1 = plt.subplots(1,1)\n",
    "ax1.set_xlabel('X')\n",
    "ax1.set_ylabel('Y')\n",
    "ax1.set_xlim(( 0, l))\n",
    "ax1.set_ylim((minv-1,maxv+1))\n",
    "x = np.linspace(0,l,U.shape[1],dtype=np.longdouble)\n",
    "ax1.plot(x,U[0])\n",
    "ax1.grid(True)\n",
    "VBox([HBox([w,z]),HBox([w1,z1])])"
   ]
  }
 ],
 "metadata": {
  "celltoolbar": "Hide code",
  "kernelspec": {
   "display_name": "Python 3",
   "language": "python",
   "name": "python3"
  },
  "language_info": {
   "codemirror_mode": {
    "name": "ipython",
    "version": 3
   },
   "file_extension": ".py",
   "mimetype": "text/x-python",
   "name": "python",
   "nbconvert_exporter": "python",
   "pygments_lexer": "ipython3",
   "version": "3.6.2"
  },
  "latex_envs": {
   "LaTeX_envs_menu_present": true,
   "autoclose": false,
   "autocomplete": true,
   "bibliofile": "biblio.bib",
   "cite_by": "apalike",
   "current_citInitial": 1,
   "eqLabelWithNumbers": true,
   "eqNumInitial": 1,
   "hotkeys": {
    "equation": "Ctrl-E",
    "itemize": "Ctrl-I"
   },
   "labels_anchors": false,
   "latex_user_defs": false,
   "report_style_numbering": false,
   "user_envs_cfg": false
  },
  "widgets": {
   "application/vnd.jupyter.widget-state+json": {
    "state": {
     "001143bd9eaf46bfa8139e2b936d7db7": {
      "model_module": "@jupyter-widgets/controls",
      "model_module_version": "1.0.0",
      "model_name": "DescriptionStyleModel",
      "state": {
       "description_width": ""
      }
     },
     "00192979463241bc802660dcb793a3c9": {
      "model_module": "@jupyter-widgets/controls",
      "model_module_version": "1.0.0",
      "model_name": "DescriptionStyleModel",
      "state": {
       "description_width": ""
      }
     },
     "005ab3937c0142cf871e6ad5cb119b07": {
      "model_module": "@jupyter-widgets/controls",
      "model_module_version": "1.0.0",
      "model_name": "ToggleButtonsModel",
      "state": {
       "_options_labels": [
        "Расчёт заданного числа шагов",
        "Расчёт с заданной точностью"
       ],
       "button_style": "",
       "description": "Режим работы:",
       "icons": [],
       "index": 0,
       "layout": "IPY_MODEL_90e3e5d3692c4b25916ead9d95b7943d",
       "style": "IPY_MODEL_5eaf13c56d73423e99fec43a30056f38",
       "tooltips": []
      }
     },
     "005eb658aefa49a3be74a032e71d02cb": {
      "model_module": "@jupyter-widgets/controls",
      "model_module_version": "1.0.0",
      "model_name": "DescriptionStyleModel",
      "state": {
       "description_width": ""
      }
     },
     "00b18d105c514b579b03dc8fa70eea63": {
      "model_module": "@jupyter-widgets/controls",
      "model_module_version": "1.0.0",
      "model_name": "LabelModel",
      "state": {
       "layout": "IPY_MODEL_11aa7cbb6a854d6ba06e050ca3a2213e",
       "style": "IPY_MODEL_5cd1f1144d99499c881cbdc587655c8d",
       "value": "Точность:"
      }
     },
     "00e347e0376444b9bcb6d790934a3fab": {
      "model_module": "@jupyter-widgets/controls",
      "model_module_version": "1.0.0",
      "model_name": "HBoxModel",
      "state": {
       "children": [
        "IPY_MODEL_1afc162e4283433d88274ee38089b6ff",
        "IPY_MODEL_8fcd8cfa4fdc435c9ae087974806b585"
       ],
       "layout": "IPY_MODEL_5ab89feb956d47568b1f991b625e73d2"
      }
     },
     "00f9807792a449d0a8154a77a08720a9": {
      "model_module": "@jupyter-widgets/base",
      "model_module_version": "1.0.0",
      "model_name": "LayoutModel",
      "state": {}
     },
     "00fc956883434eee83e4cdda9cf4fe3a": {
      "model_module": "@jupyter-widgets/controls",
      "model_module_version": "1.0.0",
      "model_name": "FloatSliderModel",
      "state": {
       "layout": "IPY_MODEL_36f6dd9fede540dfbb00c3f69797de56",
       "max": 20,
       "min": 0.1,
       "readout_format": "f",
       "step": 0.1,
       "style": "IPY_MODEL_33dda43904394428a447fabcf68cd82c",
       "value": 7.5
      }
     },
     "010118b002af4caea70fcf9de0fff76b": {
      "model_module": "@jupyter-widgets/base",
      "model_module_version": "1.0.0",
      "model_name": "LayoutModel",
      "state": {}
     },
     "0114a0253e1b4f9a945eaeb2daf80deb": {
      "model_module": "@jupyter-widgets/base",
      "model_module_version": "1.0.0",
      "model_name": "LayoutModel",
      "state": {}
     },
     "0121928ab657480da57ac93228e9bf8e": {
      "model_module": "@jupyter-widgets/controls",
      "model_module_version": "1.0.0",
      "model_name": "HBoxModel",
      "state": {
       "children": [
        "IPY_MODEL_1440940d1efd4ba8a768407d44fa080f",
        "IPY_MODEL_14f81b5bf03f4f07bef4c2a65ae2a2a1"
       ],
       "layout": "IPY_MODEL_02868a372d4a4e5fa49ff42df7279075"
      }
     },
     "014e5e591aa54a018ae411e9e1867749": {
      "model_module": "@jupyter-widgets/controls",
      "model_module_version": "1.0.0",
      "model_name": "HBoxModel",
      "state": {
       "children": [
        "IPY_MODEL_7f368ad7190c486d8f6bde54971e95e0",
        "IPY_MODEL_0c2c8c7e2bc84bd18e7d6d4244b2f91d"
       ],
       "layout": "IPY_MODEL_88b0a68fc0cb4bc9a1ec5f1b13504461"
      }
     },
     "01785733be2041188b9caed76fdfb8bb": {
      "model_module": "@jupyter-widgets/controls",
      "model_module_version": "1.0.0",
      "model_name": "VBoxModel",
      "state": {
       "children": [
        "IPY_MODEL_793c6dcd76d745589fdb920b5533c034",
        "IPY_MODEL_5ff74e94a3174cc3a4780cf5d2549946"
       ],
       "layout": "IPY_MODEL_2d28e18b4f49434da3556149c7fbc4f7"
      }
     },
     "019eaca98db84be88cfa573a725ac9b0": {
      "model_module": "@jupyter-widgets/base",
      "model_module_version": "1.0.0",
      "model_name": "LayoutModel",
      "state": {}
     },
     "01b24737f9f34c10898e397cf91b3aa5": {
      "model_module": "@jupyter-widgets/base",
      "model_module_version": "1.0.0",
      "model_name": "LayoutModel",
      "state": {}
     },
     "021697d89a164a6094a437b628f51a72": {
      "model_module": "@jupyter-widgets/base",
      "model_module_version": "1.0.0",
      "model_name": "LayoutModel",
      "state": {}
     },
     "0233a2717fd646748b0c72dc99412698": {
      "model_module": "@jupyter-widgets/controls",
      "model_module_version": "1.0.0",
      "model_name": "DescriptionStyleModel",
      "state": {
       "description_width": ""
      }
     },
     "0257cbbea95d4f8c8f4a591dfcba074b": {
      "model_module": "@jupyter-widgets/controls",
      "model_module_version": "1.0.0",
      "model_name": "ToggleButtonsStyleModel",
      "state": {
       "button_width": "",
       "description_width": ""
      }
     },
     "025fbad4bd6d4c7ea797eaa379bf0b5b": {
      "model_module": "@jupyter-widgets/base",
      "model_module_version": "1.0.0",
      "model_name": "LayoutModel",
      "state": {}
     },
     "0267e6325a9b4616a9fc8330db7fc6b5": {
      "model_module": "@jupyter-widgets/controls",
      "model_module_version": "1.0.0",
      "model_name": "HBoxModel",
      "state": {
       "children": [
        "IPY_MODEL_dabad710132a4e1a8108bdec1702fa3b",
        "IPY_MODEL_14f81b5bf03f4f07bef4c2a65ae2a2a1"
       ],
       "layout": "IPY_MODEL_b3d750c0cd8a490bb9eccf3c9a17591a"
      }
     },
     "0283d25b848043dc951ae2b141f294da": {
      "model_module": "@jupyter-widgets/controls",
      "model_module_version": "1.0.0",
      "model_name": "HBoxModel",
      "state": {
       "children": [
        "IPY_MODEL_203eb08ac72b4b059880d04363c42639",
        "IPY_MODEL_27d7ea3b418b45df93e6251c7be89a20"
       ],
       "layout": "IPY_MODEL_17ae62973ac14d65b19d8f2eb26e6bf4"
      }
     },
     "02868a372d4a4e5fa49ff42df7279075": {
      "model_module": "@jupyter-widgets/base",
      "model_module_version": "1.0.0",
      "model_name": "LayoutModel",
      "state": {}
     },
     "02878848858d45cba494694a9bdcec28": {
      "model_module": "@jupyter-widgets/controls",
      "model_module_version": "1.0.0",
      "model_name": "HBoxModel",
      "state": {
       "children": [
        "IPY_MODEL_d93870e59775488791e9c0c62c90fead",
        "IPY_MODEL_c4407468c3ba4519921864af0e9379e4"
       ],
       "layout": "IPY_MODEL_86b2b493812945018b44b4aa11e88c6f"
      }
     },
     "02d29e89f6854a32a218ebd21d7936f2": {
      "model_module": "@jupyter-widgets/controls",
      "model_module_version": "1.0.0",
      "model_name": "DescriptionStyleModel",
      "state": {
       "description_width": ""
      }
     },
     "03208c1e722746058c135cc742478871": {
      "model_module": "@jupyter-widgets/base",
      "model_module_version": "1.0.0",
      "model_name": "LayoutModel",
      "state": {}
     },
     "03380aa5b63e486db4f7a833919dd155": {
      "model_module": "@jupyter-widgets/controls",
      "model_module_version": "1.0.0",
      "model_name": "LabelModel",
      "state": {
       "layout": "IPY_MODEL_e2cb25ebe5084bfda8b75646cfbf17bc",
       "style": "IPY_MODEL_2f2dc852350b4d6091f89665459e287f"
      }
     },
     "03e270b29b194ed889e8a501452397f9": {
      "model_module": "@jupyter-widgets/controls",
      "model_module_version": "1.0.0",
      "model_name": "LabelModel",
      "state": {
       "layout": "IPY_MODEL_c0dcaa32a85d4f2eabf54cc839376d71",
       "style": "IPY_MODEL_8f96de9553eb4059be49a2ac8fd6c7a5",
       "value": "$\\large t_0$ -время подачи импульса"
      }
     },
     "03f9439d8f4b405599418a387f275fd5": {
      "model_module": "@jupyter-widgets/controls",
      "model_module_version": "1.0.0",
      "model_name": "SliderStyleModel",
      "state": {
       "description_width": ""
      }
     },
     "0404076ae7c34141957e082758647c61": {
      "model_module": "@jupyter-widgets/controls",
      "model_module_version": "1.0.0",
      "model_name": "VBoxModel",
      "state": {
       "children": [
        "IPY_MODEL_739c3334e6eb4ca3a8ebe6ca14220771",
        "IPY_MODEL_2597a666cf044444a8860195f94bc018",
        "IPY_MODEL_c91148ed1fb546bf98dfadfe988d525d",
        "IPY_MODEL_f022be80f6274563a4698cec96fc8ce8",
        "IPY_MODEL_bd9a71127f9641fd8eb9eb800991c769",
        "IPY_MODEL_27f3b0afd2b7400db5025ab8904150f8"
       ],
       "layout": "IPY_MODEL_9fe1e29619c54073bd8a02f7a5a57974"
      }
     },
     "042249aa38234fd1afba824787cf8c91": {
      "model_module": "@jupyter-widgets/controls",
      "model_module_version": "1.0.0",
      "model_name": "DescriptionStyleModel",
      "state": {
       "description_width": ""
      }
     },
     "0449364b500e4088a9e5f3f6111b66fb": {
      "model_module": "@jupyter-widgets/controls",
      "model_module_version": "1.0.0",
      "model_name": "VBoxModel",
      "state": {
       "children": [
        "IPY_MODEL_da5fb2c1a98743cf864410fc5e4e52af",
        "IPY_MODEL_c7dd6be193ad42258fd17fa037d98214"
       ],
       "layout": "IPY_MODEL_d45c784fbae24670850b7c8a97e0bc52"
      }
     },
     "0452159a76414ebb92bbaf6209ae0a46": {
      "model_module": "@jupyter-widgets/base",
      "model_module_version": "1.0.0",
      "model_name": "LayoutModel",
      "state": {}
     },
     "045911d87cfe4312ad2d06f0bfa1c7e3": {
      "model_module": "@jupyter-widgets/controls",
      "model_module_version": "1.0.0",
      "model_name": "DescriptionStyleModel",
      "state": {
       "description_width": ""
      }
     },
     "04c800213d64456794e6a4389faa6284": {
      "model_module": "@jupyter-widgets/base",
      "model_module_version": "1.0.0",
      "model_name": "LayoutModel",
      "state": {}
     },
     "04e12303738042bfbf927dbb90c51467": {
      "model_module": "@jupyter-widgets/controls",
      "model_module_version": "1.0.0",
      "model_name": "DescriptionStyleModel",
      "state": {
       "description_width": ""
      }
     },
     "04f151b2469641229a137f2cc50169a5": {
      "model_module": "@jupyter-widgets/controls",
      "model_module_version": "1.0.0",
      "model_name": "LabelModel",
      "state": {
       "layout": "IPY_MODEL_05f2918dfd2e4ec78663f63b8d86546e",
       "style": "IPY_MODEL_b40beee7a74549bd90c31cede7103603"
      }
     },
     "0502176632be4c22bcccf7f3c9c3e394": {
      "model_module": "@jupyter-widgets/base",
      "model_module_version": "1.0.0",
      "model_name": "LayoutModel",
      "state": {}
     },
     "0545589123d4432490077b80ef5407dd": {
      "model_module": "@jupyter-widgets/base",
      "model_module_version": "1.0.0",
      "model_name": "LayoutModel",
      "state": {}
     },
     "055117ba36e84e6b92de73dbdee65ecc": {
      "model_module": "@jupyter-widgets/controls",
      "model_module_version": "1.0.0",
      "model_name": "LabelModel",
      "state": {
       "layout": "IPY_MODEL_bacfbeb9b13146ceb1276c2b1ec0d0e4",
       "style": "IPY_MODEL_a794c5513cef4bc480e48693a600f545"
      }
     },
     "0569ddabfbc0440e9c9a5740313a4dac": {
      "model_module": "@jupyter-widgets/controls",
      "model_module_version": "1.0.0",
      "model_name": "SliderStyleModel",
      "state": {
       "description_width": ""
      }
     },
     "05af4b5d78374a8a8fb8663d69dba1e6": {
      "model_module": "@jupyter-widgets/base",
      "model_module_version": "1.0.0",
      "model_name": "LayoutModel",
      "state": {}
     },
     "05b86ed056a549e9bff168559cb23960": {
      "model_module": "@jupyter-widgets/controls",
      "model_module_version": "1.0.0",
      "model_name": "DescriptionStyleModel",
      "state": {
       "description_width": ""
      }
     },
     "05d2b5ff89644e9ca468528a3c6e8ec5": {
      "model_module": "@jupyter-widgets/controls",
      "model_module_version": "1.0.0",
      "model_name": "HBoxModel",
      "state": {
       "children": [
        "IPY_MODEL_26684659584748c6bb3587e8c5f64f0f",
        "IPY_MODEL_6d1c3c7fcbc64476bc0e9422dc82a02f"
       ],
       "layout": "IPY_MODEL_521195907a22487a9b6a0fe10d500c54"
      }
     },
     "05f2918dfd2e4ec78663f63b8d86546e": {
      "model_module": "@jupyter-widgets/base",
      "model_module_version": "1.0.0",
      "model_name": "LayoutModel",
      "state": {}
     },
     "06015b46df5b4fd7978f6a218e022121": {
      "model_module": "@jupyter-widgets/controls",
      "model_module_version": "1.0.0",
      "model_name": "VBoxModel",
      "state": {
       "children": [
        "IPY_MODEL_aafd5a35d3cd4959947f8722a0468974",
        "IPY_MODEL_2f8c99f2f62a4048aeb924bd4f127f51",
        "IPY_MODEL_7d4ea254a9f5436eac6671b5e8e3ae10",
        "IPY_MODEL_77cf962467144588ae18aef1bf6e9f13",
        "IPY_MODEL_9a1bb05be57e401faa128dfb3a4ef32d",
        "IPY_MODEL_b1c891064b7f438987dab3188e1e09fe"
       ],
       "layout": "IPY_MODEL_282db9de27e94c7a948119b55fcd48a0"
      }
     },
     "06205d9568e342e99a3b8189e8b2eab0": {
      "model_module": "@jupyter-widgets/base",
      "model_module_version": "1.0.0",
      "model_name": "LayoutModel",
      "state": {}
     },
     "063b5c1649484e2f9d13a1f6435a8bfe": {
      "model_module": "@jupyter-widgets/base",
      "model_module_version": "1.0.0",
      "model_name": "LayoutModel",
      "state": {}
     },
     "06521b82b87d4e3caa9268f6bb412f3e": {
      "model_module": "@jupyter-widgets/controls",
      "model_module_version": "1.0.0",
      "model_name": "LabelModel",
      "state": {
       "layout": "IPY_MODEL_2ab4e97fc9bf4f17a961b6f644aaf976",
       "style": "IPY_MODEL_f812ba90da2a400994a438a882ee915d",
       "value": "Точность:"
      }
     },
     "0672a90fa48d4bbfb900df1285f5ca11": {
      "model_module": "@jupyter-widgets/base",
      "model_module_version": "1.0.0",
      "model_name": "LayoutModel",
      "state": {}
     },
     "06d2882e265e4f8eba90b60ed8a09675": {
      "model_module": "@jupyter-widgets/controls",
      "model_module_version": "1.0.0",
      "model_name": "BoundedFloatTextModel",
      "state": {
       "layout": "IPY_MODEL_ff34b32786e943fbb260d4256c347903",
       "step": 0.01,
       "style": "IPY_MODEL_2c88386cae8e425eacf7fdde385d5d77",
       "value": 1
      }
     },
     "06df50bbdbc347b19ace90eab06fef69": {
      "model_module": "@jupyter-widgets/base",
      "model_module_version": "1.0.0",
      "model_name": "LayoutModel",
      "state": {}
     },
     "071ca7330b7c41b098679b588b7f2257": {
      "model_module": "@jupyter-widgets/controls",
      "model_module_version": "1.0.0",
      "model_name": "BoundedFloatTextModel",
      "state": {
       "layout": "IPY_MODEL_7b8282b37c474b36a2ade3e9e3fbb383",
       "step": 0.01,
       "style": "IPY_MODEL_bd23e323d3514cfaa2395a7cb643195c",
       "value": 1
      }
     },
     "0724b38196084adbb852c5fa46c7e592": {
      "model_module": "@jupyter-widgets/controls",
      "model_module_version": "1.0.0",
      "model_name": "BoundedFloatTextModel",
      "state": {
       "layout": "IPY_MODEL_857ea8c319a2483297527bf3430049bf",
       "step": 0.01,
       "style": "IPY_MODEL_498d2f8e3aa24f319e438928a0dddc2c",
       "value": 1
      }
     },
     "073778ec9d0d4ae2abc03c33d03ea0d0": {
      "model_module": "@jupyter-widgets/controls",
      "model_module_version": "1.0.0",
      "model_name": "LabelModel",
      "state": {
       "layout": "IPY_MODEL_d6a36ef12f5942ddb075134fae08fd5d",
       "style": "IPY_MODEL_bdfd3853f7954da39051307d01e620c2",
       "value": "$\\large l$ -длина струны"
      }
     },
     "074090b83f2c4007b29c242d22bd20d8": {
      "model_module": "@jupyter-widgets/controls",
      "model_module_version": "1.0.0",
      "model_name": "IntSliderModel",
      "state": {
       "description": "Step:",
       "layout": "IPY_MODEL_5c4a51e0820d4d4baa2a62b3beca14df",
       "max": 199,
       "style": "IPY_MODEL_8280c787f5db4563ac0d8580bd8a30ac"
      }
     },
     "076eaa869c074e889e07cf299b90572a": {
      "model_module": "@jupyter-widgets/controls",
      "model_module_version": "1.0.0",
      "model_name": "DescriptionStyleModel",
      "state": {
       "description_width": ""
      }
     },
     "0784ea52b9214a308e372e6bdcab284a": {
      "model_module": "@jupyter-widgets/controls",
      "model_module_version": "1.0.0",
      "model_name": "DescriptionStyleModel",
      "state": {
       "description_width": ""
      }
     },
     "0787f61436024903bbbae357d7fa7d1a": {
      "model_module": "@jupyter-widgets/controls",
      "model_module_version": "1.0.0",
      "model_name": "BoundedFloatTextModel",
      "state": {
       "layout": "IPY_MODEL_dd90384157814289b6ee8a36f5ac627e",
       "max": 0.5,
       "min": 0.25,
       "step": 0.01,
       "style": "IPY_MODEL_1172e96e5f5e4d12ae58c3d5860e7e12",
       "value": 0.375
      }
     },
     "07abcdbf22eb494b94accbb786c66cd7": {
      "model_module": "@jupyter-widgets/base",
      "model_module_version": "1.0.0",
      "model_name": "LayoutModel",
      "state": {}
     },
     "07bdeab5a53f41459627366e335454aa": {
      "model_module": "@jupyter-widgets/base",
      "model_module_version": "1.0.0",
      "model_name": "LayoutModel",
      "state": {}
     },
     "07e088cf54b8480c839e9b79f6472afb": {
      "model_module": "@jupyter-widgets/controls",
      "model_module_version": "1.0.0",
      "model_name": "VBoxModel",
      "state": {
       "children": [
        "IPY_MODEL_d9a2d38089ef4b7aa1d9ce09665c136d",
        "IPY_MODEL_bfe4f628125741b8bcc976064eac2d5c"
       ],
       "layout": "IPY_MODEL_9123a619ff3c498b980b444324f8e62d"
      }
     },
     "07e56ddf8f014fff8e57bc33cfd3c8be": {
      "model_module": "@jupyter-widgets/controls",
      "model_module_version": "1.0.0",
      "model_name": "HBoxModel",
      "state": {
       "children": [
        "IPY_MODEL_8ad24f91850c4910866b9d874f8b591d",
        "IPY_MODEL_403645caf5a143f686747f7aa4762197"
       ],
       "layout": "IPY_MODEL_dc3d1e7eec9949aa862ff34f0386c5c9"
      }
     },
     "07e6a10a6cde474f8ec38c9c872152db": {
      "model_module": "@jupyter-widgets/base",
      "model_module_version": "1.0.0",
      "model_name": "LayoutModel",
      "state": {}
     },
     "07f57b206e274faeb04a0e47f11178ce": {
      "model_module": "@jupyter-widgets/base",
      "model_module_version": "1.0.0",
      "model_name": "LayoutModel",
      "state": {}
     },
     "07fecc9bf7ab47c18478819448ffbbf2": {
      "model_module": "@jupyter-widgets/base",
      "model_module_version": "1.0.0",
      "model_name": "LayoutModel",
      "state": {}
     },
     "081b7c3b784548b385f1b1dd3f45ef0d": {
      "model_module": "@jupyter-widgets/controls",
      "model_module_version": "1.0.0",
      "model_name": "DescriptionStyleModel",
      "state": {
       "description_width": ""
      }
     },
     "081e0f96b6e9400ab4b005fb0fc6fa5f": {
      "model_module": "@jupyter-widgets/controls",
      "model_module_version": "1.0.0",
      "model_name": "DescriptionStyleModel",
      "state": {
       "description_width": ""
      }
     },
     "084b94676bb44f49983a5bb02592ac09": {
      "model_module": "@jupyter-widgets/controls",
      "model_module_version": "1.0.0",
      "model_name": "DescriptionStyleModel",
      "state": {
       "description_width": ""
      }
     },
     "08647b337bbe472aba54c27067c39ebb": {
      "model_module": "@jupyter-widgets/controls",
      "model_module_version": "1.0.0",
      "model_name": "DescriptionStyleModel",
      "state": {
       "description_width": ""
      }
     },
     "08df50eced9c40de90195676b659697e": {
      "model_module": "@jupyter-widgets/controls",
      "model_module_version": "1.0.0",
      "model_name": "LabelModel",
      "state": {
       "layout": "IPY_MODEL_7919afb8335c409687898219b3911a4e",
       "style": "IPY_MODEL_21e185afc0b54294b8293d19e90bdb71",
       "value": "Точность:"
      }
     },
     "0907ddb9e6794a8780e24a7758d3de69": {
      "model_module": "@jupyter-widgets/base",
      "model_module_version": "1.0.0",
      "model_name": "LayoutModel",
      "state": {}
     },
     "093ccea5b22a492b98d4b7f570c42bec": {
      "model_module": "@jupyter-widgets/controls",
      "model_module_version": "1.0.0",
      "model_name": "HBoxModel",
      "state": {
       "children": [
        "IPY_MODEL_3163067b5208448bb932d083e1194abe",
        "IPY_MODEL_dde9bd7548b14f1dbf9911beaebf5162"
       ],
       "layout": "IPY_MODEL_c539f13128ec47f79e7153500e9b23ba"
      }
     },
     "094ed979e696491e99e31b91dd58a044": {
      "model_module": "@jupyter-widgets/base",
      "model_module_version": "1.0.0",
      "model_name": "LayoutModel",
      "state": {}
     },
     "09558330bc0047489d72bdf81a9aa4f5": {
      "model_module": "@jupyter-widgets/controls",
      "model_module_version": "1.0.0",
      "model_name": "DescriptionStyleModel",
      "state": {
       "description_width": ""
      }
     },
     "09ae2464f34845428ba1dbf5f938d434": {
      "model_module": "@jupyter-widgets/controls",
      "model_module_version": "1.0.0",
      "model_name": "LabelModel",
      "state": {
       "layout": "IPY_MODEL_dc5cd7b8c77f49a88b62677aa272e9c3",
       "style": "IPY_MODEL_2f5483d667804e29b92a48f6e50b1232",
       "value": "Время симуляции:"
      }
     },
     "09ae3d0f64324d42acfaa0b8a5d5fc0a": {
      "model_module": "@jupyter-widgets/controls",
      "model_module_version": "1.0.0",
      "model_name": "DescriptionStyleModel",
      "state": {
       "description_width": ""
      }
     },
     "09b0509d818d41de838dfa8e7e6bfd73": {
      "model_module": "@jupyter-widgets/controls",
      "model_module_version": "1.0.0",
      "model_name": "IntSliderModel",
      "state": {
       "description": "Step:",
       "layout": "IPY_MODEL_6f3d0ce3e3934c6788ba587d6d033649",
       "max": 199,
       "style": "IPY_MODEL_64aacea91be0440a976d473921babbc9",
       "value": 7
      }
     },
     "09ca24928bf0494f8b948137205fd68f": {
      "model_module": "@jupyter-widgets/controls",
      "model_module_version": "1.0.0",
      "model_name": "LabelModel",
      "state": {
       "layout": "IPY_MODEL_3dcfac1d23e54d8881af34d69019cfa1",
       "style": "IPY_MODEL_3a35991937c742fd96f13c73554afcfc",
       "value": "$\\large T$ -сила натяжения струны"
      }
     },
     "09d9c4e41abf4ce1b32909c3eaae3b5c": {
      "model_module": "@jupyter-widgets/controls",
      "model_module_version": "1.0.0",
      "model_name": "VBoxModel",
      "state": {
       "children": [
        "IPY_MODEL_63257ac72ade432ca3f39d7dab347ef6",
        "IPY_MODEL_587dba9dec694d0fbb955c82955147ad"
       ],
       "layout": "IPY_MODEL_ac7607757a464f3d878af570a4ab4cd7"
      }
     },
     "0a1d53d31d8644f1ac6eb56f2a908a30": {
      "model_module": "@jupyter-widgets/base",
      "model_module_version": "1.0.0",
      "model_name": "LayoutModel",
      "state": {}
     },
     "0a4472be8f0c4e8a95fe242d6594d5e9": {
      "model_module": "@jupyter-widgets/controls",
      "model_module_version": "1.0.0",
      "model_name": "SliderStyleModel",
      "state": {
       "description_width": ""
      }
     },
     "0a74646e50c94a578b5056f76b3f7581": {
      "model_module": "@jupyter-widgets/controls",
      "model_module_version": "1.0.0",
      "model_name": "BoundedIntTextModel",
      "state": {
       "layout": "IPY_MODEL_371972eba690438488e386111caf9cf5",
       "max": 1000,
       "min": 50,
       "step": 100,
       "style": "IPY_MODEL_5e8e5808f18b469daae018d396bbdbe8",
       "value": 100
      }
     },
     "0a974aac3b5c429094d6624c99d3ee68": {
      "model_module": "@jupyter-widgets/controls",
      "model_module_version": "1.0.0",
      "model_name": "BoundedFloatTextModel",
      "state": {
       "continuous_update": true,
       "description": "Time:",
       "layout": "IPY_MODEL_21dab0562ccc41e4af03fb85c644ec29",
       "max": 1,
       "style": "IPY_MODEL_52da0b2bd3804ed78812f7f90da597fb",
       "value": 1
      }
     },
     "0ae9768d5c57427ba0b17960c9717c03": {
      "model_module": "@jupyter-widgets/controls",
      "model_module_version": "1.0.0",
      "model_name": "SliderStyleModel",
      "state": {
       "description_width": ""
      }
     },
     "0af58827cc414428ab1fc0deaaff681b": {
      "model_module": "@jupyter-widgets/controls",
      "model_module_version": "1.0.0",
      "model_name": "LabelModel",
      "state": {
       "layout": "IPY_MODEL_c9984496008b497fa7ec3470622f5633",
       "style": "IPY_MODEL_9c9b9a91e1864a19a6325fc971bc4e85"
      }
     },
     "0b2c832b329f48e1a088a9a2651d5f18": {
      "model_module": "@jupyter-widgets/base",
      "model_module_version": "1.0.0",
      "model_name": "LayoutModel",
      "state": {}
     },
     "0b3421a130024f939f3e6e919a6f9295": {
      "model_module": "@jupyter-widgets/base",
      "model_module_version": "1.0.0",
      "model_name": "LayoutModel",
      "state": {}
     },
     "0b3d27082eb54d94a868ea6d240c51a4": {
      "model_module": "@jupyter-widgets/base",
      "model_module_version": "1.0.0",
      "model_name": "LayoutModel",
      "state": {}
     },
     "0b6de5d2e140485bbcbbd6b0feea2df7": {
      "model_module": "@jupyter-widgets/base",
      "model_module_version": "1.0.0",
      "model_name": "LayoutModel",
      "state": {}
     },
     "0b7cb84e6d1d425f961e0a96b9c0ec62": {
      "model_module": "@jupyter-widgets/controls",
      "model_module_version": "1.0.0",
      "model_name": "BoundedFloatTextModel",
      "state": {
       "continuous_update": true,
       "description": "Time:",
       "layout": "IPY_MODEL_89bb33703e854cb58dd68da19625675d",
       "max": 1,
       "style": "IPY_MODEL_bb9df8a17132413895ae2d54b7a18848"
      }
     },
     "0b87e4af76d6432baf0995a868be0f5a": {
      "model_module": "@jupyter-widgets/controls",
      "model_module_version": "1.0.0",
      "model_name": "SliderStyleModel",
      "state": {
       "description_width": ""
      }
     },
     "0ba1f4fa0d0f47a1a6c5d3939eb7ad0a": {
      "model_module": "@jupyter-widgets/controls",
      "model_module_version": "1.0.0",
      "model_name": "BoundedFloatTextModel",
      "state": {
       "continuous_update": true,
       "description": "Time:",
       "layout": "IPY_MODEL_658f15013dbb4144b7b4ec5af7344007",
       "max": 1,
       "style": "IPY_MODEL_290b8396b87d41018ba9db0b6c8943d4",
       "value": 1
      }
     },
     "0bb6c6b413b74b61b1b7b3c5443567ec": {
      "model_module": "@jupyter-widgets/controls",
      "model_module_version": "1.0.0",
      "model_name": "VBoxModel",
      "state": {
       "children": [
        "IPY_MODEL_498c87665d8f466599ec48a907cf2090",
        "IPY_MODEL_ef8674fe356049419fee4cb7aabfb3d4",
        "IPY_MODEL_9f18b8b9243d4a20a1889aa04bc2c6e8",
        "IPY_MODEL_b6c18ba1f2544d54a0028d866ff84085",
        "IPY_MODEL_6da1840a068a4c4288338f260f6ce76b",
        "IPY_MODEL_def3182e106f4fbd8ae084a986685515"
       ],
       "layout": "IPY_MODEL_2f972f9957014a1f94a8e2eeca5fc368"
      }
     },
     "0be5e8630eff48858595df5bb242f54f": {
      "model_module": "@jupyter-widgets/base",
      "model_module_version": "1.0.0",
      "model_name": "LayoutModel",
      "state": {}
     },
     "0becae878cf2454e98e65c83c6c42078": {
      "model_module": "@jupyter-widgets/controls",
      "model_module_version": "1.0.0",
      "model_name": "LabelModel",
      "state": {
       "layout": "IPY_MODEL_d5ba840dd1f3453da058e7b01f592457",
       "style": "IPY_MODEL_74430cfd18a84a3bab45cc22c5ed9477",
       "value": "Длительность анимации"
      }
     },
     "0c026dc6f38f482da2bd543a7c10ccda": {
      "model_module": "@jupyter-widgets/base",
      "model_module_version": "1.0.0",
      "model_name": "LayoutModel",
      "state": {}
     },
     "0c1cf2ca9d124bff80b9cc37e4c6a977": {
      "model_module": "@jupyter-widgets/controls",
      "model_module_version": "1.0.0",
      "model_name": "LabelModel",
      "state": {
       "layout": "IPY_MODEL_2c5ec5a7ff154308942a3b7a776cf93a",
       "style": "IPY_MODEL_265b0e2963d643a1a004b1ecbf99896a",
       "value": "Количество шагов по $x$:"
      }
     },
     "0c1d8b28efe24459adf85619b5838be5": {
      "model_module": "@jupyter-widgets/controls",
      "model_module_version": "1.0.0",
      "model_name": "VBoxModel",
      "state": {
       "children": [
        "IPY_MODEL_dec37c0d7080468997f41cfc550653ce",
        "IPY_MODEL_f3d0de9d6543463891590bb4beb1b1dc"
       ],
       "layout": "IPY_MODEL_6f89c9a434b54d9aabaf9bc2eb6bb475"
      }
     },
     "0c2c8c7e2bc84bd18e7d6d4244b2f91d": {
      "model_module": "@jupyter-widgets/controls",
      "model_module_version": "1.0.0",
      "model_name": "BoundedFloatTextModel",
      "state": {
       "layout": "IPY_MODEL_f972e3780c8940858900ee4c03c6c5a6",
       "max": 0.5,
       "min": 0.25,
       "step": 0.01,
       "style": "IPY_MODEL_5e56e68b22bd4bffb54a4c8566e96c9b",
       "value": 0.36
      }
     },
     "0c354a6ed230498ab81e394e2cd58d4e": {
      "model_module": "@jupyter-widgets/base",
      "model_module_version": "1.0.0",
      "model_name": "LayoutModel",
      "state": {}
     },
     "0c37bbd0338540ddadea5b96c4444391": {
      "model_module": "@jupyter-widgets/controls",
      "model_module_version": "1.0.0",
      "model_name": "IntSliderModel",
      "state": {
       "description": "Step:",
       "layout": "IPY_MODEL_263feeab1838464fa361888d8d8e49aa",
       "max": 199,
       "style": "IPY_MODEL_e66289ca79a24b2da3e567da320ff604",
       "value": 199
      }
     },
     "0c3a3569e71541a99fcc66db84451382": {
      "model_module": "@jupyter-widgets/controls",
      "model_module_version": "1.0.0",
      "model_name": "LabelModel",
      "state": {
       "layout": "IPY_MODEL_301b0507b6a4422f95fc2796df15093a",
       "style": "IPY_MODEL_20ef17027fe74edaa3a2f4a6069a28ca"
      }
     },
     "0c5f33c5fc804cd0bfadb05dfca6643d": {
      "model_module": "@jupyter-widgets/controls",
      "model_module_version": "1.0.0",
      "model_name": "LabelModel",
      "state": {
       "layout": "IPY_MODEL_58a1337bcf124310b9939caa146f2d39",
       "style": "IPY_MODEL_3008564232084d7e98665b46a68db830",
       "value": "Время симуляции:"
      }
     },
     "0c6926de11034880a4819d882f8b7db8": {
      "model_module": "@jupyter-widgets/controls",
      "model_module_version": "1.0.0",
      "model_name": "DescriptionStyleModel",
      "state": {
       "description_width": ""
      }
     },
     "0c94ee5340754c79b2562838156a1326": {
      "model_module": "@jupyter-widgets/controls",
      "model_module_version": "1.0.0",
      "model_name": "BoundedFloatTextModel",
      "state": {
       "layout": "IPY_MODEL_36b4258e0215492da8ba9f253444cd5b",
       "max": 0.1,
       "step": 0.001,
       "style": "IPY_MODEL_88286750f2a146c28474688027a1d485",
       "value": 0.01
      }
     },
     "0cda15351729433b9a8e3f2fd2562845": {
      "model_module": "@jupyter-widgets/base",
      "model_module_version": "1.0.0",
      "model_name": "LayoutModel",
      "state": {}
     },
     "0ce2cbe80e6742ef919424d6adbab2fb": {
      "model_module": "@jupyter-widgets/controls",
      "model_module_version": "1.0.0",
      "model_name": "DescriptionStyleModel",
      "state": {
       "description_width": ""
      }
     },
     "0cf6d78c6d344648849754b38eab4e90": {
      "model_module": "@jupyter-widgets/controls",
      "model_module_version": "1.0.0",
      "model_name": "DescriptionStyleModel",
      "state": {
       "description_width": ""
      }
     },
     "0cfbc4a8096e4e9c8f82680251750bcc": {
      "model_module": "@jupyter-widgets/controls",
      "model_module_version": "1.0.0",
      "model_name": "HBoxModel",
      "state": {
       "children": [
        "IPY_MODEL_31d8a041d0864c40bd3a8a79600241bb",
        "IPY_MODEL_8fcd8cfa4fdc435c9ae087974806b585"
       ],
       "layout": "IPY_MODEL_8d1311cbe0824172a0f7bfc2b0effd37"
      }
     },
     "0d0c8805f05f4454bd9a492a704ec34b": {
      "model_module": "@jupyter-widgets/controls",
      "model_module_version": "1.0.0",
      "model_name": "DescriptionStyleModel",
      "state": {
       "description_width": ""
      }
     },
     "0d10abbac78845f19f2cef14c4ebc9a1": {
      "model_module": "@jupyter-widgets/controls",
      "model_module_version": "1.0.0",
      "model_name": "LabelModel",
      "state": {
       "layout": "IPY_MODEL_95b054d253334f37ae4127d8966adb2e",
       "style": "IPY_MODEL_ac0bc3fb8aca4b14bcfabcf9c1c35111",
       "value": "$\\large t$ -характерное время нарастания/спадания импульса"
      }
     },
     "0d1f5a7a832147599389de23353fd6d4": {
      "model_module": "@jupyter-widgets/controls",
      "model_module_version": "1.0.0",
      "model_name": "DescriptionStyleModel",
      "state": {
       "description_width": ""
      }
     },
     "0d48be6a58394cbea0fcb89e91501015": {
      "model_module": "@jupyter-widgets/controls",
      "model_module_version": "1.0.0",
      "model_name": "VBoxModel",
      "state": {
       "children": [
        "IPY_MODEL_18a38c3bd8114a5b8c1ee79dd356c45d",
        "IPY_MODEL_34feba7f0d684876b51ae8f4ea874c34",
        "IPY_MODEL_3cbb4c2b55554e4c814ef55880aebc8c",
        "IPY_MODEL_bb65341e483e48d7a65710999fa596c0",
        "IPY_MODEL_cf0f18b249004634a4fee36a18eb3f68",
        "IPY_MODEL_be5ad2d28d204fbeba622d418beedbc9"
       ],
       "layout": "IPY_MODEL_fe890a5ee85643eaba790c3c2445de02"
      }
     },
     "0d5bb439420040d294ea26435225da65": {
      "model_module": "@jupyter-widgets/controls",
      "model_module_version": "1.0.0",
      "model_name": "DescriptionStyleModel",
      "state": {
       "description_width": ""
      }
     },
     "0d5f30fa61cc46b29970180bb254dbac": {
      "model_module": "@jupyter-widgets/controls",
      "model_module_version": "1.0.0",
      "model_name": "IntSliderModel",
      "state": {
       "description": "Step:",
       "layout": "IPY_MODEL_07e6a10a6cde474f8ec38c9c872152db",
       "max": 199,
       "style": "IPY_MODEL_bd087e148bbc448fa196c538ce84ff77",
       "value": 7
      }
     },
     "0d84aad4c0b344cda01e5037590b9e33": {
      "model_module": "@jupyter-widgets/controls",
      "model_module_version": "1.0.0",
      "model_name": "HBoxModel",
      "state": {
       "children": [
        "IPY_MODEL_b67940d6f3664ef39a7b18fe6f698919",
        "IPY_MODEL_5fe1892d1ab3457bb7a4c195971698bc"
       ],
       "layout": "IPY_MODEL_1e240622140d42848bab711e0f944a17"
      }
     },
     "0db7678c21104d278b9af3c6f29abbfb": {
      "model_module": "@jupyter-widgets/controls",
      "model_module_version": "1.0.0",
      "model_name": "DescriptionStyleModel",
      "state": {
       "description_width": ""
      }
     },
     "0dc11ff562f7451f95b29fa0ff6c930d": {
      "model_module": "@jupyter-widgets/controls",
      "model_module_version": "1.0.0",
      "model_name": "LabelModel",
      "state": {
       "layout": "IPY_MODEL_6694bb7ac5ce403d8348e39bb1a3e394",
       "style": "IPY_MODEL_805b15cc8e28422ab0f04392b86fc52a",
       "value": "Количество шагов по $t$:"
      }
     },
     "0e121c0a411540be8922bc47c8558c0f": {
      "model_module": "@jupyter-widgets/controls",
      "model_module_version": "1.0.0",
      "model_name": "LabelModel",
      "state": {
       "layout": "IPY_MODEL_52a04c9c3686450baf95cf36bd7fcc16",
       "style": "IPY_MODEL_b6c465c11fd048fea5645b4f430c711f",
       "value": "Время симуляции:"
      }
     },
     "0e2f72726cc94e43b3fa062b1117b5e9": {
      "model_module": "@jupyter-widgets/base",
      "model_module_version": "1.0.0",
      "model_name": "LayoutModel",
      "state": {}
     },
     "0e43b4dd9b67447aa4ec9d15d2561858": {
      "model_module": "@jupyter-widgets/controls",
      "model_module_version": "1.0.0",
      "model_name": "DescriptionStyleModel",
      "state": {
       "description_width": ""
      }
     },
     "0e56845c3fd245a48cc0be59fe1de643": {
      "model_module": "@jupyter-widgets/base",
      "model_module_version": "1.0.0",
      "model_name": "LayoutModel",
      "state": {}
     },
     "0e6dd8e312224a0fade06f654102fb61": {
      "model_module": "@jupyter-widgets/controls",
      "model_module_version": "1.0.0",
      "model_name": "LabelModel",
      "state": {
       "layout": "IPY_MODEL_e2939b7fee6345d5afbacde842f5a388",
       "style": "IPY_MODEL_61cad2e4dc72416582743f29ceca8f3b",
       "value": "Time:0.0"
      }
     },
     "0eca13e99a524f4a9b37e936cfaa3a7e": {
      "model_module": "@jupyter-widgets/controls",
      "model_module_version": "1.0.0",
      "model_name": "DescriptionStyleModel",
      "state": {
       "description_width": ""
      }
     },
     "0ee04fd3543c46e0aa56829dcddb75ff": {
      "model_module": "@jupyter-widgets/base",
      "model_module_version": "1.0.0",
      "model_name": "LayoutModel",
      "state": {}
     },
     "0f15286085eb41b9abc7d9f57916a244": {
      "model_module": "@jupyter-widgets/controls",
      "model_module_version": "1.0.0",
      "model_name": "HBoxModel",
      "state": {
       "children": [
        "IPY_MODEL_27ce24241bc94c48a80103abf8fc9e55",
        "IPY_MODEL_47b55e169075493cae66808c97e6cb30"
       ],
       "layout": "IPY_MODEL_dbaeacf01d2d4001b00291891c6e937c"
      }
     },
     "0f66f3d5ea834477b8d4e12328087f6c": {
      "model_module": "@jupyter-widgets/base",
      "model_module_version": "1.0.0",
      "model_name": "LayoutModel",
      "state": {}
     },
     "0f745c9fdf5f4bf5a4d62aaeea3a22ee": {
      "model_module": "@jupyter-widgets/controls",
      "model_module_version": "1.0.0",
      "model_name": "DescriptionStyleModel",
      "state": {
       "description_width": ""
      }
     },
     "0fa3f01c3df749f78f60691549909468": {
      "model_module": "@jupyter-widgets/base",
      "model_module_version": "1.0.0",
      "model_name": "LayoutModel",
      "state": {}
     },
     "0ffb0ff3d6e246f1b347eeb361e01639": {
      "model_module": "@jupyter-widgets/base",
      "model_module_version": "1.0.0",
      "model_name": "LayoutModel",
      "state": {}
     },
     "1006938a200f4f8ebe55df832c44cdc9": {
      "model_module": "@jupyter-widgets/base",
      "model_module_version": "1.0.0",
      "model_name": "LayoutModel",
      "state": {}
     },
     "100febb7ebc747de8e31b7f9782d0780": {
      "model_module": "@jupyter-widgets/controls",
      "model_module_version": "1.0.0",
      "model_name": "VBoxModel",
      "state": {
       "children": [
        "IPY_MODEL_797abb7ac953496392e88455e52695e8",
        "IPY_MODEL_447acfcb8af74662b93827ae7fc443f8"
       ],
       "layout": "IPY_MODEL_0b3421a130024f939f3e6e919a6f9295"
      }
     },
     "10203e8044a7406d94cf543300e8011e": {
      "model_module": "@jupyter-widgets/base",
      "model_module_version": "1.0.0",
      "model_name": "LayoutModel",
      "state": {}
     },
     "1030d6df736a436bb7d94c76cdba509a": {
      "model_module": "@jupyter-widgets/base",
      "model_module_version": "1.0.0",
      "model_name": "LayoutModel",
      "state": {}
     },
     "104badc016e846acb81d9786ce187950": {
      "model_module": "@jupyter-widgets/base",
      "model_module_version": "1.0.0",
      "model_name": "LayoutModel",
      "state": {}
     },
     "10578e080856437fb4a07ee475931448": {
      "model_module": "@jupyter-widgets/base",
      "model_module_version": "1.0.0",
      "model_name": "LayoutModel",
      "state": {}
     },
     "108f79f0d94c42b687ebdeaf26e72e99": {
      "model_module": "@jupyter-widgets/base",
      "model_module_version": "1.0.0",
      "model_name": "LayoutModel",
      "state": {}
     },
     "109499361f9441f48a2fa33ac3f7345d": {
      "model_module": "@jupyter-widgets/base",
      "model_module_version": "1.0.0",
      "model_name": "LayoutModel",
      "state": {}
     },
     "1143b29d5a05432d8b6f3239ba3bf679": {
      "model_module": "@jupyter-widgets/controls",
      "model_module_version": "1.0.0",
      "model_name": "DescriptionStyleModel",
      "state": {
       "description_width": ""
      }
     },
     "1145ea8701cf45a0a4b389fda06b6a3b": {
      "model_module": "@jupyter-widgets/controls",
      "model_module_version": "1.0.0",
      "model_name": "LabelModel",
      "state": {
       "layout": "IPY_MODEL_230d8a8854784eeea495f7e21ef7022f",
       "style": "IPY_MODEL_ee715ff8fd4f4f18b5604fe901cb9abf",
       "value": "$\\large p_l$ -линейная плотность"
      }
     },
     "1172e96e5f5e4d12ae58c3d5860e7e12": {
      "model_module": "@jupyter-widgets/controls",
      "model_module_version": "1.0.0",
      "model_name": "DescriptionStyleModel",
      "state": {
       "description_width": ""
      }
     },
     "1177b35fc24c43d8a281daa053802fcc": {
      "model_module": "@jupyter-widgets/controls",
      "model_module_version": "1.0.0",
      "model_name": "LabelModel",
      "state": {
       "layout": "IPY_MODEL_8d185386a1874646a3596e141be72e51",
       "style": "IPY_MODEL_da8cd4e0a4944f67ae99287da3e973e6",
       "value": "$\\large t_0$ -время подачи импульса"
      }
     },
     "119e6a31a8dc48e8a549cc66e1893375": {
      "model_module": "@jupyter-widgets/controls",
      "model_module_version": "1.0.0",
      "model_name": "VBoxModel",
      "state": {
       "children": [
        "IPY_MODEL_275dbe19ccf74873a8974f65f2f7fb39",
        "IPY_MODEL_c057d031185542aeb77103cb0ad2795c"
       ],
       "layout": "IPY_MODEL_36ddc9694af34d70935d159c96c9d2af"
      }
     },
     "119ed02737ca41b487044e2d95b39864": {
      "model_module": "@jupyter-widgets/controls",
      "model_module_version": "1.0.0",
      "model_name": "DescriptionStyleModel",
      "state": {
       "description_width": ""
      }
     },
     "11aa7cbb6a854d6ba06e050ca3a2213e": {
      "model_module": "@jupyter-widgets/base",
      "model_module_version": "1.0.0",
      "model_name": "LayoutModel",
      "state": {}
     },
     "11bb873ae2f44ee59d3dd89781fc3a77": {
      "model_module": "@jupyter-widgets/base",
      "model_module_version": "1.0.0",
      "model_name": "LayoutModel",
      "state": {}
     },
     "11cc2012d5cd4bd188c0d2fbb58a8b8e": {
      "model_module": "@jupyter-widgets/controls",
      "model_module_version": "1.0.0",
      "model_name": "LabelModel",
      "state": {
       "layout": "IPY_MODEL_195abd509fea4b51af47cd4c01e0e029",
       "style": "IPY_MODEL_b9fd3a36269843a4920e061f04c78a77"
      }
     },
     "11d6cc4900eb4b00addf0644a6b52403": {
      "model_module": "@jupyter-widgets/controls",
      "model_module_version": "1.0.0",
      "model_name": "LabelModel",
      "state": {
       "layout": "IPY_MODEL_39194b76fb77496eb240ec34babcce3b",
       "style": "IPY_MODEL_0233a2717fd646748b0c72dc99412698",
       "value": "Параметр $\\sigma$ неявной схемы:"
      }
     },
     "11d866bf6e8b4b619c19ae8bed0a67af": {
      "model_module": "@jupyter-widgets/base",
      "model_module_version": "1.0.0",
      "model_name": "LayoutModel",
      "state": {}
     },
     "1216a822ff6141c18c0dfa65e19c21ad": {
      "model_module": "@jupyter-widgets/base",
      "model_module_version": "1.0.0",
      "model_name": "LayoutModel",
      "state": {}
     },
     "122932fb1ed141a3a9acb37fda633c9b": {
      "model_module": "@jupyter-widgets/base",
      "model_module_version": "1.0.0",
      "model_name": "LayoutModel",
      "state": {}
     },
     "125b886ae5df4baca535f7bfb3befc27": {
      "model_module": "@jupyter-widgets/controls",
      "model_module_version": "1.0.0",
      "model_name": "HBoxModel",
      "state": {
       "children": [
        "IPY_MODEL_383b318c01a04b8d9157f34cd3c83a88",
        "IPY_MODEL_a3a7440e3b54446fba2ee3b03b8d7585"
       ],
       "layout": "IPY_MODEL_b52bc5dbd67843fba68ef3b8b9ad0a95"
      }
     },
     "12910e572ca8421ca10ddd912874499d": {
      "model_module": "@jupyter-widgets/controls",
      "model_module_version": "1.0.0",
      "model_name": "HBoxModel",
      "state": {
       "children": [
        "IPY_MODEL_1417c635f0cc4eba8d54f2da741f69cf",
        "IPY_MODEL_2d47d1437ca847328ffb1ffe7afdc542"
       ],
       "layout": "IPY_MODEL_fd954a198cbf4deeb77a2b8c16bca527"
      }
     },
     "12b7ccca25d04334b2fa872b520fd511": {
      "model_module": "@jupyter-widgets/base",
      "model_module_version": "1.0.0",
      "model_name": "LayoutModel",
      "state": {}
     },
     "12ba644813684ec8a810491ee58bd2a9": {
      "model_module": "@jupyter-widgets/base",
      "model_module_version": "1.0.0",
      "model_name": "LayoutModel",
      "state": {}
     },
     "12bfeaa4fe744f1ebc814004fc81bcd1": {
      "model_module": "@jupyter-widgets/controls",
      "model_module_version": "1.0.0",
      "model_name": "BoundedFloatTextModel",
      "state": {
       "layout": "IPY_MODEL_50130f405f1d4e5198d7deb457b3bcf9",
       "step": 0.01,
       "style": "IPY_MODEL_1d545f4313054013a0a0acbb46ce9582",
       "value": 1
      }
     },
     "12cc36aacd554a46b1a8227e71b38d99": {
      "model_module": "@jupyter-widgets/controls",
      "model_module_version": "1.0.0",
      "model_name": "IntSliderModel",
      "state": {
       "description": "Step:",
       "layout": "IPY_MODEL_9482fda2b40a4f66a58c6411d71df6aa",
       "max": 199,
       "style": "IPY_MODEL_a7c31b6eeb4b48fabfb340e8ee8cc3f6"
      }
     },
     "130b59bd36724f74b179e4c91b635893": {
      "model_module": "@jupyter-widgets/base",
      "model_module_version": "1.0.0",
      "model_name": "LayoutModel",
      "state": {}
     },
     "130dac630d3b4669b908299f81b33871": {
      "model_module": "@jupyter-widgets/controls",
      "model_module_version": "1.0.0",
      "model_name": "LabelModel",
      "state": {
       "layout": "IPY_MODEL_0c026dc6f38f482da2bd543a7c10ccda",
       "style": "IPY_MODEL_ec043054f1bf4ac3bf69126d817d3b78",
       "value": "Длительность анимации"
      }
     },
     "1391d13f61b041a1babd9db7d152b5cf": {
      "model_module": "@jupyter-widgets/base",
      "model_module_version": "1.0.0",
      "model_name": "LayoutModel",
      "state": {}
     },
     "13e09ef223104e9b8c38fa78f728cd11": {
      "model_module": "@jupyter-widgets/base",
      "model_module_version": "1.0.0",
      "model_name": "LayoutModel",
      "state": {}
     },
     "13f3639b69e148c88ef8dda77b7216ee": {
      "model_module": "@jupyter-widgets/controls",
      "model_module_version": "1.0.0",
      "model_name": "HBoxModel",
      "state": {
       "children": [
        "IPY_MODEL_305d7ccc7d3d42a4900981f04739753a",
        "IPY_MODEL_055117ba36e84e6b92de73dbdee65ecc"
       ],
       "layout": "IPY_MODEL_bcd2565845fb42c1b658436a895e32dd"
      }
     },
     "1417c635f0cc4eba8d54f2da741f69cf": {
      "model_module": "@jupyter-widgets/controls",
      "model_module_version": "1.0.0",
      "model_name": "LabelModel",
      "state": {
       "layout": "IPY_MODEL_6ac450e9bf184d43a9a693946f91d4de",
       "style": "IPY_MODEL_f6873ded15d34f33bfca9f3b8cf3e0ee",
       "value": "$\\large T$ -сила натяжения струны"
      }
     },
     "1440940d1efd4ba8a768407d44fa080f": {
      "model_module": "@jupyter-widgets/controls",
      "model_module_version": "1.0.0",
      "model_name": "LabelModel",
      "state": {
       "layout": "IPY_MODEL_9c322528abd4494db90f1368d8e7d1d1",
       "style": "IPY_MODEL_90c3315819584799981dd62a0c611d45",
       "value": "Время симуляции:"
      }
     },
     "144e29b132904d84a957052e2ce1772f": {
      "model_module": "@jupyter-widgets/base",
      "model_module_version": "1.0.0",
      "model_name": "LayoutModel",
      "state": {}
     },
     "1459eed6de0345b1a597f96abe68fc90": {
      "model_module": "@jupyter-widgets/base",
      "model_module_version": "1.0.0",
      "model_name": "LayoutModel",
      "state": {}
     },
     "146aa93e5f7845aea88ca673898b6161": {
      "model_module": "@jupyter-widgets/base",
      "model_module_version": "1.0.0",
      "model_name": "LayoutModel",
      "state": {}
     },
     "147797de79014e78a5f954c43ef9eea8": {
      "model_module": "@jupyter-widgets/controls",
      "model_module_version": "1.0.0",
      "model_name": "DescriptionStyleModel",
      "state": {
       "description_width": ""
      }
     },
     "1478fdabde4345a6879f4016a39f7089": {
      "model_module": "@jupyter-widgets/controls",
      "model_module_version": "1.0.0",
      "model_name": "HBoxModel",
      "state": {
       "children": [
        "IPY_MODEL_29d57b4f8df14519b41cb26045f4edd4",
        "IPY_MODEL_81535e6e11dc4e7087152e3b864997a3"
       ],
       "layout": "IPY_MODEL_4c9bdd666e72448c9a5cc1c79eccce95"
      }
     },
     "14e0a69d1d554e5eb54ebd663b7065c1": {
      "model_module": "@jupyter-widgets/base",
      "model_module_version": "1.0.0",
      "model_name": "LayoutModel",
      "state": {}
     },
     "14eccb07691042339e7c29029766bc03": {
      "model_module": "@jupyter-widgets/controls",
      "model_module_version": "1.0.0",
      "model_name": "DescriptionStyleModel",
      "state": {
       "description_width": ""
      }
     },
     "14f81b5bf03f4f07bef4c2a65ae2a2a1": {
      "model_module": "@jupyter-widgets/controls",
      "model_module_version": "1.0.0",
      "model_name": "BoundedFloatTextModel",
      "state": {
       "layout": "IPY_MODEL_b62c93350e684f14afb69e6405c5785a",
       "step": 0.01,
       "style": "IPY_MODEL_6bc17e252bae48aca5ee6c9136bc87ba",
       "value": 1
      }
     },
     "1548085f1e9044c683ee2ea4235e30d5": {
      "model_module": "@jupyter-widgets/controls",
      "model_module_version": "1.0.0",
      "model_name": "LabelModel",
      "state": {
       "layout": "IPY_MODEL_6beb877cff86447eb5b9ba3627c1f0ee",
       "style": "IPY_MODEL_c13de821d7c74435a092759c9bd6a86a"
      }
     },
     "156492dbaeb241fca8aa38385fff8a52": {
      "model_module": "@jupyter-widgets/controls",
      "model_module_version": "1.0.0",
      "model_name": "VBoxModel",
      "state": {
       "children": [
        "IPY_MODEL_72f3dd7c681e4161a6ccb0c06f0ebf07",
        "IPY_MODEL_afbf694e95dd4978a28223be3d910f59"
       ],
       "layout": "IPY_MODEL_381fc759d6db43a59047570a7d5b0c57"
      }
     },
     "157c6587e5624ca8832d8b519b817009": {
      "model_module": "@jupyter-widgets/base",
      "model_module_version": "1.0.0",
      "model_name": "LayoutModel",
      "state": {}
     },
     "158494b882d24295b31bf14f69fefd10": {
      "model_module": "@jupyter-widgets/controls",
      "model_module_version": "1.0.0",
      "model_name": "DescriptionStyleModel",
      "state": {
       "description_width": ""
      }
     },
     "15fd2b39225d4904a864bf178951912f": {
      "model_module": "@jupyter-widgets/base",
      "model_module_version": "1.0.0",
      "model_name": "LayoutModel",
      "state": {}
     },
     "16153468cb1443719a6d801472dd3283": {
      "model_module": "@jupyter-widgets/base",
      "model_module_version": "1.0.0",
      "model_name": "LayoutModel",
      "state": {}
     },
     "165b245c2fd340278e45dc65fb0da88f": {
      "model_module": "@jupyter-widgets/base",
      "model_module_version": "1.0.0",
      "model_name": "LayoutModel",
      "state": {}
     },
     "166417033704445cb920e7c1ad268261": {
      "model_module": "@jupyter-widgets/controls",
      "model_module_version": "1.0.0",
      "model_name": "DescriptionStyleModel",
      "state": {
       "description_width": ""
      }
     },
     "166f7bdeb7fc43d0badf0a55687ffd77": {
      "model_module": "@jupyter-widgets/controls",
      "model_module_version": "1.0.0",
      "model_name": "BoundedFloatTextModel",
      "state": {
       "layout": "IPY_MODEL_b664fd5135914351a52d79c20cdf9ebc",
       "step": 0.01,
       "style": "IPY_MODEL_dad6ad0fe975433186b96ac29a02b810",
       "value": 1
      }
     },
     "1687f8ca4cb8422da2d77f8e7d8ddbe4": {
      "model_module": "@jupyter-widgets/controls",
      "model_module_version": "1.0.0",
      "model_name": "LabelModel",
      "state": {
       "layout": "IPY_MODEL_c38688835dd6491896489f81fc3a2385",
       "style": "IPY_MODEL_f2837aab9bee4d019b635c9e9ea26b33",
       "value": "$\\large l$ -длина струны"
      }
     },
     "16b56735835b417c82a6abb256a4f3aa": {
      "model_module": "@jupyter-widgets/controls",
      "model_module_version": "1.0.0",
      "model_name": "BoundedFloatTextModel",
      "state": {
       "layout": "IPY_MODEL_9d3975e104f844289f340ec837246a4d",
       "step": 0.01,
       "style": "IPY_MODEL_ea2edff03a6443b0847af7c736fc8772",
       "value": 1
      }
     },
     "16c147791570401fbbb5cd00ce55480f": {
      "model_module": "@jupyter-widgets/controls",
      "model_module_version": "1.0.0",
      "model_name": "HBoxModel",
      "state": {
       "children": [
        "IPY_MODEL_3abc9474ecfb47468643e9527c31c100",
        "IPY_MODEL_cf6a62a91f1548cfbd578df952e6baa1"
       ],
       "layout": "IPY_MODEL_c676abc362b34e35aee46caa8b85b50a"
      }
     },
     "16e935c8f5964bb2b0323e2968e73226": {
      "model_module": "@jupyter-widgets/base",
      "model_module_version": "1.0.0",
      "model_name": "LayoutModel",
      "state": {}
     },
     "16ff8563de084125981c3ccaad37147d": {
      "model_module": "@jupyter-widgets/controls",
      "model_module_version": "1.0.0",
      "model_name": "HBoxModel",
      "state": {
       "children": [
        "IPY_MODEL_074090b83f2c4007b29c242d22bd20d8",
        "IPY_MODEL_284652114ee0468dbf6bae9d15ff2799"
       ],
       "layout": "IPY_MODEL_e96e19688b504d809666bb99484f0605"
      }
     },
     "17119743190e42f5ac3eb57f901d8ea6": {
      "model_module": "@jupyter-widgets/controls",
      "model_module_version": "1.0.0",
      "model_name": "LabelModel",
      "state": {
       "layout": "IPY_MODEL_1e9b83a052df417f9c5937a22ea67454",
       "style": "IPY_MODEL_c8b9df4db4bc43649add9f9e9de653ed"
      }
     },
     "1731ad6b119c441db9b16efcf13fb853": {
      "model_module": "@jupyter-widgets/controls",
      "model_module_version": "1.0.0",
      "model_name": "HBoxModel",
      "state": {
       "children": [
        "IPY_MODEL_35a5e6a9f4c14fd6a218ec23153adce1",
        "IPY_MODEL_9f3e503eca5b4afeb1cf09bc578b6c90"
       ],
       "layout": "IPY_MODEL_7d7f066116fa46d392d67455c1ed17ab"
      }
     },
     "179e686fa6c641ff97dc70db18570dee": {
      "model_module": "@jupyter-widgets/base",
      "model_module_version": "1.0.0",
      "model_name": "LayoutModel",
      "state": {}
     },
     "17ae62973ac14d65b19d8f2eb26e6bf4": {
      "model_module": "@jupyter-widgets/base",
      "model_module_version": "1.0.0",
      "model_name": "LayoutModel",
      "state": {}
     },
     "17d277b119964113ba680cfcdcd7fde3": {
      "model_module": "@jupyter-widgets/controls",
      "model_module_version": "1.0.0",
      "model_name": "BoundedFloatTextModel",
      "state": {
       "layout": "IPY_MODEL_289fa82220fa4e2e86d9569c6f7efba9",
       "step": 0.01,
       "style": "IPY_MODEL_bdd15a02ae1e4a10a801bb96e8791279",
       "value": 1
      }
     },
     "18272658cd2a44a68b88cb251d9a285b": {
      "model_module": "@jupyter-widgets/controls",
      "model_module_version": "1.0.0",
      "model_name": "VBoxModel",
      "state": {
       "children": [
        "IPY_MODEL_b3c21be23f42487399287c86bbb8f880",
        "IPY_MODEL_5cb55ec7d01e4c1b9fd04e9f53b645d6",
        "IPY_MODEL_a9121ccd06314322bdf60773f7c6ac66",
        "IPY_MODEL_89289c68ce414220bec58fc24d209b42",
        "IPY_MODEL_21cec048b6e74418b3981cecad49bcd2"
       ],
       "layout": "IPY_MODEL_19588f507b0e4f6f9c6c17882c6a3d02"
      }
     },
     "18319865b13f488ab5a42ff9ff34ac24": {
      "model_module": "@jupyter-widgets/base",
      "model_module_version": "1.0.0",
      "model_name": "LayoutModel",
      "state": {}
     },
     "184b0e7a81264f0e80802ffa1ab8747d": {
      "model_module": "@jupyter-widgets/base",
      "model_module_version": "1.0.0",
      "model_name": "LayoutModel",
      "state": {}
     },
     "184b4e42e97342aa897bce001d752599": {
      "model_module": "@jupyter-widgets/base",
      "model_module_version": "1.0.0",
      "model_name": "LayoutModel",
      "state": {}
     },
     "186fd4160362475083731a2e23719350": {
      "model_module": "@jupyter-widgets/controls",
      "model_module_version": "1.0.0",
      "model_name": "DescriptionStyleModel",
      "state": {
       "description_width": ""
      }
     },
     "187ca6c93d254e4f97d39759ce0254f9": {
      "model_module": "@jupyter-widgets/controls",
      "model_module_version": "1.0.0",
      "model_name": "LabelModel",
      "state": {
       "layout": "IPY_MODEL_ab9b5711dcd54ca4a7ee43305169bcaf",
       "style": "IPY_MODEL_2ce0d253578f4422948f1d11b1d874f4",
       "value": "$\\large p_l$ -линейная плотность"
      }
     },
     "187db5d28beb447faa3fb1a4291079fa": {
      "model_module": "@jupyter-widgets/controls",
      "model_module_version": "1.0.0",
      "model_name": "DescriptionStyleModel",
      "state": {
       "description_width": ""
      }
     },
     "18a069fb1c084d8d9a4f492213881a45": {
      "model_module": "@jupyter-widgets/base",
      "model_module_version": "1.0.0",
      "model_name": "LayoutModel",
      "state": {}
     },
     "18a38c3bd8114a5b8c1ee79dd356c45d": {
      "model_module": "@jupyter-widgets/controls",
      "model_module_version": "1.0.0",
      "model_name": "HBoxModel",
      "state": {
       "children": [
        "IPY_MODEL_822db5e988464ce0a554aa879c8093a4",
        "IPY_MODEL_37393008ba034833b881a0f4d5e285d6"
       ],
       "layout": "IPY_MODEL_ee9b6b468a644da892ee0abc63064e0e"
      }
     },
     "18b5b47918234e52b4a778241e9cb4e1": {
      "model_module": "@jupyter-widgets/controls",
      "model_module_version": "1.0.0",
      "model_name": "DescriptionStyleModel",
      "state": {
       "description_width": ""
      }
     },
     "18d0a8b9527f460590db22961c1ea1c1": {
      "model_module": "@jupyter-widgets/controls",
      "model_module_version": "1.0.0",
      "model_name": "IntSliderModel",
      "state": {
       "description": "Step:",
       "layout": "IPY_MODEL_34fdf0ddef9a4baba17f7906a2ee5463",
       "max": 199,
       "style": "IPY_MODEL_9dda533272524f80b2cfdfcca6bea156",
       "value": 33
      }
     },
     "18f1f8f79a33406498f7b51f370152fe": {
      "model_module": "@jupyter-widgets/base",
      "model_module_version": "1.0.0",
      "model_name": "LayoutModel",
      "state": {}
     },
     "1919303bbc0b4f8a930fe9e79b1a7b41": {
      "model_module": "@jupyter-widgets/base",
      "model_module_version": "1.0.0",
      "model_name": "LayoutModel",
      "state": {}
     },
     "19356761ea094a0599d09fa2e9e99d1f": {
      "model_module": "@jupyter-widgets/controls",
      "model_module_version": "1.0.0",
      "model_name": "HBoxModel",
      "state": {
       "children": [
        "IPY_MODEL_b818b43e56f74eefa8424669e11a0de8",
        "IPY_MODEL_c2489f96c5f44d5e9cf98f009e08702e"
       ],
       "layout": "IPY_MODEL_c5923ed5ef6d44b192515de32aee19a3"
      }
     },
     "1938378baf014b7fb06f9eb69111e520": {
      "model_module": "@jupyter-widgets/controls",
      "model_module_version": "1.0.0",
      "model_name": "LabelModel",
      "state": {
       "layout": "IPY_MODEL_993ec14c11e94e8d800debbdbe90516f",
       "style": "IPY_MODEL_9d35933b2dc64908aeb709e10f84d94c",
       "value": "$\\large t_0$ -время подачи импульса"
      }
     },
     "193c6d671a13403783b950ebfd9ed978": {
      "model_module": "@jupyter-widgets/controls",
      "model_module_version": "1.0.0",
      "model_name": "DescriptionStyleModel",
      "state": {
       "description_width": ""
      }
     },
     "1942cdc1355f46db9a1893911075b4ec": {
      "model_module": "@jupyter-widgets/base",
      "model_module_version": "1.0.0",
      "model_name": "LayoutModel",
      "state": {}
     },
     "19588f507b0e4f6f9c6c17882c6a3d02": {
      "model_module": "@jupyter-widgets/base",
      "model_module_version": "1.0.0",
      "model_name": "LayoutModel",
      "state": {}
     },
     "195abd509fea4b51af47cd4c01e0e029": {
      "model_module": "@jupyter-widgets/base",
      "model_module_version": "1.0.0",
      "model_name": "LayoutModel",
      "state": {}
     },
     "19722994c0a04ce4a3158c71eb043b4a": {
      "model_module": "@jupyter-widgets/base",
      "model_module_version": "1.0.0",
      "model_name": "LayoutModel",
      "state": {}
     },
     "198e83bb4c384f0db3f47d8b8fb61356": {
      "model_module": "@jupyter-widgets/controls",
      "model_module_version": "1.0.0",
      "model_name": "DescriptionStyleModel",
      "state": {
       "description_width": ""
      }
     },
     "1993f31501124737bf9759b09c934ff9": {
      "model_module": "@jupyter-widgets/controls",
      "model_module_version": "1.0.0",
      "model_name": "VBoxModel",
      "state": {
       "children": [
        "IPY_MODEL_1aa298ee37954e05aa9685db93528eee",
        "IPY_MODEL_81cbf00e75bd4f8caa0cd34d792fa7d1"
       ],
       "layout": "IPY_MODEL_e9793a9850b14d678b41e1f3c5d09dea"
      }
     },
     "19b54ca833a1499181dce3d02a88003b": {
      "model_module": "@jupyter-widgets/base",
      "model_module_version": "1.0.0",
      "model_name": "LayoutModel",
      "state": {}
     },
     "19c93fa96c8248b597a8242ec80056b8": {
      "model_module": "@jupyter-widgets/base",
      "model_module_version": "1.0.0",
      "model_name": "LayoutModel",
      "state": {}
     },
     "19d46a0450db46c1a3034246ff7ecab6": {
      "model_module": "@jupyter-widgets/base",
      "model_module_version": "1.0.0",
      "model_name": "LayoutModel",
      "state": {}
     },
     "19da12b10a89438190cd4af82386d808": {
      "model_module": "@jupyter-widgets/controls",
      "model_module_version": "1.0.0",
      "model_name": "BoundedFloatTextModel",
      "state": {
       "continuous_update": true,
       "description": "Time:",
       "layout": "IPY_MODEL_99bb05e12c9d44a6b897618d191d08d3",
       "max": 1,
       "style": "IPY_MODEL_5b16df50edea4b6bb2cf2843d69a736e",
       "value": 1
      }
     },
     "1a2afb1bfc4c42d597699a7e20bf6ec9": {
      "model_module": "@jupyter-widgets/controls",
      "model_module_version": "1.0.0",
      "model_name": "HBoxModel",
      "state": {
       "children": [
        "IPY_MODEL_ce1fe2ce11cb4314875e1c803170d0d4",
        "IPY_MODEL_1ab27474b882475fb9db41864d5f6cc7"
       ],
       "layout": "IPY_MODEL_687fad706712461b9e26edfe92123551"
      }
     },
     "1a51fb6ded38481980e3ec401a14db34": {
      "model_module": "@jupyter-widgets/base",
      "model_module_version": "1.0.0",
      "model_name": "LayoutModel",
      "state": {}
     },
     "1a7018aedaa04243ba91f271f3d937d9": {
      "model_module": "@jupyter-widgets/controls",
      "model_module_version": "1.0.0",
      "model_name": "SliderStyleModel",
      "state": {
       "description_width": ""
      }
     },
     "1a9b87d5c3864386938d127fecbad22d": {
      "model_module": "@jupyter-widgets/base",
      "model_module_version": "1.0.0",
      "model_name": "LayoutModel",
      "state": {}
     },
     "1aa298ee37954e05aa9685db93528eee": {
      "model_module": "@jupyter-widgets/controls",
      "model_module_version": "1.0.0",
      "model_name": "HBoxModel",
      "state": {
       "children": [
        "IPY_MODEL_0d5f30fa61cc46b29970180bb254dbac",
        "IPY_MODEL_a9405508acdb485db1556bcf5a654a63"
       ],
       "layout": "IPY_MODEL_95865346bfad49b2a4df423f1608bf41"
      }
     },
     "1aa67f7d37b64176bbece8d77a44cb5b": {
      "model_module": "@jupyter-widgets/base",
      "model_module_version": "1.0.0",
      "model_name": "LayoutModel",
      "state": {}
     },
     "1aadadb02ec44540ae32555dd36dc028": {
      "model_module": "@jupyter-widgets/controls",
      "model_module_version": "1.0.0",
      "model_name": "DescriptionStyleModel",
      "state": {
       "description_width": ""
      }
     },
     "1ab0a9d7413748d19fbd1230d8cab9b0": {
      "model_module": "@jupyter-widgets/controls",
      "model_module_version": "1.0.0",
      "model_name": "HBoxModel",
      "state": {
       "children": [
        "IPY_MODEL_61452ea322be4d36ac9bcb0200b5b563",
        "IPY_MODEL_8fcd8cfa4fdc435c9ae087974806b585"
       ],
       "layout": "IPY_MODEL_466a3483378a468da5003624beccef0e"
      }
     },
     "1ab27474b882475fb9db41864d5f6cc7": {
      "model_module": "@jupyter-widgets/controls",
      "model_module_version": "1.0.0",
      "model_name": "BoundedFloatTextModel",
      "state": {
       "layout": "IPY_MODEL_9e9668173b3947abb71a176964605a45",
       "step": 0.01,
       "style": "IPY_MODEL_22a47c5fde774c958fad0c27b8259ff5",
       "value": 1
      }
     },
     "1ab48634ea144bfd9c33cf272d4e2c15": {
      "model_module": "@jupyter-widgets/base",
      "model_module_version": "1.0.0",
      "model_name": "LayoutModel",
      "state": {}
     },
     "1ae5cf31a6b34b65a32d2ddc01d59cc5": {
      "model_module": "@jupyter-widgets/base",
      "model_module_version": "1.0.0",
      "model_name": "LayoutModel",
      "state": {}
     },
     "1aea87477c4f41398b8664f014904cd6": {
      "model_module": "@jupyter-widgets/base",
      "model_module_version": "1.0.0",
      "model_name": "LayoutModel",
      "state": {}
     },
     "1afc162e4283433d88274ee38089b6ff": {
      "model_module": "@jupyter-widgets/controls",
      "model_module_version": "1.0.0",
      "model_name": "LabelModel",
      "state": {
       "layout": "IPY_MODEL_c6b258908a294d2194cd359334d7bf1c",
       "style": "IPY_MODEL_084b94676bb44f49983a5bb02592ac09",
       "value": "Количество шагов по $x$:"
      }
     },
     "1afff08b2a3f4f6f9d364ddb61d73ea2": {
      "model_module": "@jupyter-widgets/controls",
      "model_module_version": "1.0.0",
      "model_name": "DescriptionStyleModel",
      "state": {
       "description_width": ""
      }
     },
     "1b3701571f2f4bac9646b5dc6a28d55c": {
      "model_module": "@jupyter-widgets/controls",
      "model_module_version": "1.0.0",
      "model_name": "BoundedIntTextModel",
      "state": {
       "layout": "IPY_MODEL_ef3345987d194e0888323f46320ebfbd",
       "max": 1000,
       "min": 50,
       "step": 100,
       "style": "IPY_MODEL_223b98515ba647c08c99f26f9581530f",
       "value": 100
      }
     },
     "1b7851181287438b9704ba00cf876956": {
      "model_module": "@jupyter-widgets/base",
      "model_module_version": "1.0.0",
      "model_name": "LayoutModel",
      "state": {}
     },
     "1ba14dc215e84201927a5cdc710afec5": {
      "model_module": "@jupyter-widgets/controls",
      "model_module_version": "1.0.0",
      "model_name": "VBoxModel",
      "state": {
       "children": [
        "IPY_MODEL_704d9b708d8c45b38b8f0f5ec8ea9849",
        "IPY_MODEL_f0d7c5ee5d3a4da7a8a2fad42fa6f22b"
       ],
       "layout": "IPY_MODEL_75002a07022f4431b813e8473c3a6448"
      }
     },
     "1ba7f2194b2e46d094de901a2fa4ae1b": {
      "model_module": "@jupyter-widgets/base",
      "model_module_version": "1.0.0",
      "model_name": "LayoutModel",
      "state": {}
     },
     "1bcf35340cfe483a8983d1043ee30e1d": {
      "model_module": "@jupyter-widgets/base",
      "model_module_version": "1.0.0",
      "model_name": "LayoutModel",
      "state": {}
     },
     "1bd27d4ff32342269a7142a6d2160f67": {
      "model_module": "@jupyter-widgets/controls",
      "model_module_version": "1.0.0",
      "model_name": "LabelModel",
      "state": {
       "layout": "IPY_MODEL_b05397529a784ce1a163ffd87339e1df",
       "style": "IPY_MODEL_85a9adf8c2224a6594f2ac853cfc335d",
       "value": "Количество шагов по $x$:"
      }
     },
     "1be97b6749654437a78a145761aa281d": {
      "model_module": "@jupyter-widgets/controls",
      "model_module_version": "1.0.0",
      "model_name": "HBoxModel",
      "state": {
       "children": [
        "IPY_MODEL_19da12b10a89438190cd4af82386d808",
        "IPY_MODEL_83ce7aa718da4dce91318dd32f22dcf7"
       ],
       "layout": "IPY_MODEL_2184910ee78048b0ad719b93ba40dec0"
      }
     },
     "1bfdd964948c494284195a55e211c157": {
      "model_module": "@jupyter-widgets/controls",
      "model_module_version": "1.0.0",
      "model_name": "DescriptionStyleModel",
      "state": {
       "description_width": ""
      }
     },
     "1c06d1e50cdf48aba8608c5913683963": {
      "model_module": "@jupyter-widgets/base",
      "model_module_version": "1.0.0",
      "model_name": "LayoutModel",
      "state": {}
     },
     "1c1a534332414513918f49db1cd51d0f": {
      "model_module": "@jupyter-widgets/controls",
      "model_module_version": "1.0.0",
      "model_name": "ToggleButtonsModel",
      "state": {
       "_options_labels": [
        "Расчёт заданного числа шагов",
        "Расчёт с заданной точностью"
       ],
       "button_style": "",
       "description": "Режим работы:",
       "icons": [],
       "index": 0,
       "layout": "IPY_MODEL_ad71157581da43cb8aa58adb53dd6e9b",
       "style": "IPY_MODEL_eda7283cd4d94dbc9e4dcbddf092c3b4",
       "tooltips": []
      }
     },
     "1c583a1035d34c4dbc8fc4cbdb46aa69": {
      "model_module": "@jupyter-widgets/base",
      "model_module_version": "1.0.0",
      "model_name": "LayoutModel",
      "state": {}
     },
     "1c79e4a4914d4229a124dfa3a57e5f51": {
      "model_module": "@jupyter-widgets/controls",
      "model_module_version": "1.0.0",
      "model_name": "IntSliderModel",
      "state": {
       "description": "Step:",
       "layout": "IPY_MODEL_70b5144701834112aec5bf17723cef89",
       "max": 199,
       "style": "IPY_MODEL_c928e397eaad4c74be897e1b874d3a8c"
      }
     },
     "1c8218ca30974ec79cee34ad55a6cf94": {
      "model_module": "@jupyter-widgets/base",
      "model_module_version": "1.0.0",
      "model_name": "LayoutModel",
      "state": {}
     },
     "1caf43855687459dbf3e0b607370a837": {
      "model_module": "@jupyter-widgets/controls",
      "model_module_version": "1.0.0",
      "model_name": "VBoxModel",
      "state": {
       "children": [
        "IPY_MODEL_7004955d0a6845478cfca1ab4fcc94bd",
        "IPY_MODEL_357bbe43396144f28df08ce38f217177"
       ],
       "layout": "IPY_MODEL_e7f1b13f441e4127946e555047d4983f"
      }
     },
     "1cf2e418350e4da9adc77109b95bb66e": {
      "model_module": "@jupyter-widgets/controls",
      "model_module_version": "1.0.0",
      "model_name": "SliderStyleModel",
      "state": {
       "description_width": ""
      }
     },
     "1cf55d6681ea421db8b8b2150d8c3fb2": {
      "model_module": "@jupyter-widgets/base",
      "model_module_version": "1.0.0",
      "model_name": "LayoutModel",
      "state": {}
     },
     "1cf7ffc776704a9fa81f362a8bf9bca7": {
      "model_module": "@jupyter-widgets/controls",
      "model_module_version": "1.0.0",
      "model_name": "BoundedFloatTextModel",
      "state": {
       "layout": "IPY_MODEL_520d77cce2de4906a9db2f55aeb63375",
       "step": 0.01,
       "style": "IPY_MODEL_6728519072144786975cf9f160c4c474",
       "value": 1
      }
     },
     "1d03543216fb4b31b4bd2461a862d62b": {
      "model_module": "@jupyter-widgets/controls",
      "model_module_version": "1.0.0",
      "model_name": "LabelModel",
      "state": {
       "layout": "IPY_MODEL_2909ce06f3da42fba247c63039504520",
       "style": "IPY_MODEL_7d65bcbd5976440c922fc37f802d0756",
       "value": "Параметр $\\sigma$ неявной схемы:"
      }
     },
     "1d03fec6afa94405a0c13c3b1c82a7e7": {
      "model_module": "@jupyter-widgets/controls",
      "model_module_version": "1.0.0",
      "model_name": "DescriptionStyleModel",
      "state": {
       "description_width": ""
      }
     },
     "1d0fdfbe281e4b68bf01c5c17445850a": {
      "model_module": "@jupyter-widgets/controls",
      "model_module_version": "1.0.0",
      "model_name": "HBoxModel",
      "state": {
       "children": [
        "IPY_MODEL_03e270b29b194ed889e8a501452397f9",
        "IPY_MODEL_d2c289f12ff647138b6fc341ca7d4806"
       ],
       "layout": "IPY_MODEL_f351b173c67a4e25bb7f504cb54bf65b"
      }
     },
     "1d4659e4df5a43eeb4d7100ab20212bb": {
      "model_module": "@jupyter-widgets/base",
      "model_module_version": "1.0.0",
      "model_name": "LayoutModel",
      "state": {}
     },
     "1d4f7896dfa04d159ff9fa9d572b4ad7": {
      "model_module": "@jupyter-widgets/base",
      "model_module_version": "1.0.0",
      "model_name": "LayoutModel",
      "state": {}
     },
     "1d545f4313054013a0a0acbb46ce9582": {
      "model_module": "@jupyter-widgets/controls",
      "model_module_version": "1.0.0",
      "model_name": "DescriptionStyleModel",
      "state": {
       "description_width": ""
      }
     },
     "1d5521f9e7b04fc88e022bfcf5c6cba8": {
      "model_module": "@jupyter-widgets/controls",
      "model_module_version": "1.0.0",
      "model_name": "DescriptionStyleModel",
      "state": {
       "description_width": ""
      }
     },
     "1d5b21967fdc441d9abaad892e3db3f0": {
      "model_module": "@jupyter-widgets/controls",
      "model_module_version": "1.0.0",
      "model_name": "BoundedFloatTextModel",
      "state": {
       "layout": "IPY_MODEL_89945571a87044ce8d29eef5524dc7e9",
       "step": 0.01,
       "style": "IPY_MODEL_2b87d1d033854d729a7b58a8ad248206",
       "value": 1
      }
     },
     "1d738b1c39174ca9b51106f40317f4d0": {
      "model_module": "@jupyter-widgets/controls",
      "model_module_version": "1.0.0",
      "model_name": "VBoxModel",
      "state": {
       "children": [
        "IPY_MODEL_d8adcf3667964a06bc8563a2f12b5a52",
        "IPY_MODEL_1ab0a9d7413748d19fbd1230d8cab9b0",
        "IPY_MODEL_aa0d174b4af14cd18f07da034df96afd",
        "IPY_MODEL_16c147791570401fbbb5cd00ce55480f",
        "IPY_MODEL_a116410adfcf4ade9798ae64243b0e8f"
       ],
       "layout": "IPY_MODEL_1fd0cc06916942c58bccc7558642299c"
      }
     },
     "1d8fa872794147e88a84cc9092e14a7b": {
      "model_module": "@jupyter-widgets/base",
      "model_module_version": "1.0.0",
      "model_name": "LayoutModel",
      "state": {}
     },
     "1d8ffee03a5d4cb6a3f75269fa653abb": {
      "model_module": "@jupyter-widgets/base",
      "model_module_version": "1.0.0",
      "model_name": "LayoutModel",
      "state": {}
     },
     "1dcc832f64454d219423fb20637e09e4": {
      "model_module": "@jupyter-widgets/controls",
      "model_module_version": "1.0.0",
      "model_name": "DescriptionStyleModel",
      "state": {
       "description_width": ""
      }
     },
     "1e21b9e42b3a4585a43a03e9c45601a5": {
      "model_module": "@jupyter-widgets/controls",
      "model_module_version": "1.0.0",
      "model_name": "DescriptionStyleModel",
      "state": {
       "description_width": ""
      }
     },
     "1e240622140d42848bab711e0f944a17": {
      "model_module": "@jupyter-widgets/base",
      "model_module_version": "1.0.0",
      "model_name": "LayoutModel",
      "state": {}
     },
     "1e451293dfc84eb3835bf0f832820b4f": {
      "model_module": "@jupyter-widgets/base",
      "model_module_version": "1.0.0",
      "model_name": "LayoutModel",
      "state": {}
     },
     "1e473068780744988b93997c1a6b425b": {
      "model_module": "@jupyter-widgets/controls",
      "model_module_version": "1.0.0",
      "model_name": "HBoxModel",
      "state": {
       "children": [
        "IPY_MODEL_8f4096d8b1534c9da2c49d623b4eae97",
        "IPY_MODEL_5a521620f75c4ca78b17fa9698478c61"
       ],
       "layout": "IPY_MODEL_f97fafd0e3cb40c2b73a6f0c1385dc3e"
      }
     },
     "1e8986e6411d420db84490e94f43a76a": {
      "model_module": "@jupyter-widgets/controls",
      "model_module_version": "1.0.0",
      "model_name": "LabelModel",
      "state": {
       "layout": "IPY_MODEL_67680b0b2a104f4eb123466c26e3a807",
       "style": "IPY_MODEL_081b7c3b784548b385f1b1dd3f45ef0d",
       "value": "Точность:"
      }
     },
     "1e8cb38c136d48228a0ef4ad2253db75": {
      "model_module": "@jupyter-widgets/controls",
      "model_module_version": "1.0.0",
      "model_name": "BoundedFloatTextModel",
      "state": {
       "layout": "IPY_MODEL_3f033a6cf9634cf195c28bc6a350e97f",
       "max": 0.1,
       "step": 0.001,
       "style": "IPY_MODEL_4d2ec30b167f47ab9817de9a9d672130",
       "value": 0.01
      }
     },
     "1e8dcd9531f84938aba53037c04c5f86": {
      "model_module": "@jupyter-widgets/base",
      "model_module_version": "1.0.0",
      "model_name": "LayoutModel",
      "state": {}
     },
     "1e9b83a052df417f9c5937a22ea67454": {
      "model_module": "@jupyter-widgets/base",
      "model_module_version": "1.0.0",
      "model_name": "LayoutModel",
      "state": {}
     },
     "1ea272570032473881152ed35c456e23": {
      "model_module": "@jupyter-widgets/controls",
      "model_module_version": "1.0.0",
      "model_name": "LabelModel",
      "state": {
       "layout": "IPY_MODEL_f22c4a9252b040b384d0b97feff2a07b",
       "style": "IPY_MODEL_b2b65aa4749444989df538cf85ef8d74",
       "value": "$\\large t_0$ -время подачи импульса"
      }
     },
     "1eb41ef822714fe78b7c0cfb17038474": {
      "model_module": "@jupyter-widgets/controls",
      "model_module_version": "1.0.0",
      "model_name": "VBoxModel",
      "state": {
       "children": [
        "IPY_MODEL_b3beacd5ca1645b291d3a095f3ce941a",
        "IPY_MODEL_879831922f7544a3b88c47a49efeaa68",
        "IPY_MODEL_f5f311990b904144a025d09acd6a8c11",
        "IPY_MODEL_eb85442d548849f7beb860847866094e",
        "IPY_MODEL_1d0fdfbe281e4b68bf01c5c17445850a",
        "IPY_MODEL_966db843ab664e13b2f96f02d1be7a07"
       ],
       "layout": "IPY_MODEL_e4e39265528143169354fc6025655b01"
      }
     },
     "1ec774a5c765414d8356d4fee4aa8ad7": {
      "model_module": "@jupyter-widgets/controls",
      "model_module_version": "1.0.0",
      "model_name": "FloatSliderModel",
      "state": {
       "layout": "IPY_MODEL_5c1a2d73443e40f1ac1b7926894aee46",
       "max": 20,
       "min": 0.1,
       "readout_format": "f",
       "step": 0.1,
       "style": "IPY_MODEL_2c94a8fcb9fe47a8a14061520a64ac2b",
       "value": 1
      }
     },
     "1ed04130586f413d970c22d82a27f49f": {
      "model_module": "@jupyter-widgets/controls",
      "model_module_version": "1.0.0",
      "model_name": "VBoxModel",
      "state": {
       "children": [
        "IPY_MODEL_7a52750af7b54df2b0511d854df649c3",
        "IPY_MODEL_b6e3b0c23ad64e4d97d10d49a4f6e3a8"
       ],
       "layout": "IPY_MODEL_5ca629f61a434145918c2b5b9e2cb43c"
      }
     },
     "1ee4e8ac9c704cd7923fd5cbaedecafa": {
      "model_module": "@jupyter-widgets/controls",
      "model_module_version": "1.0.0",
      "model_name": "DescriptionStyleModel",
      "state": {
       "description_width": ""
      }
     },
     "1f0994595dd3460f9dc1b95edf7194e8": {
      "model_module": "@jupyter-widgets/base",
      "model_module_version": "1.0.0",
      "model_name": "LayoutModel",
      "state": {}
     },
     "1f7be3e360ad42f98e914cc25a90b765": {
      "model_module": "@jupyter-widgets/base",
      "model_module_version": "1.0.0",
      "model_name": "LayoutModel",
      "state": {}
     },
     "1f8e95f51253493fa87711cca90361ed": {
      "model_module": "@jupyter-widgets/controls",
      "model_module_version": "1.0.0",
      "model_name": "LabelModel",
      "state": {
       "layout": "IPY_MODEL_89f765c3238f4630a382d8f0a3dbde2d",
       "style": "IPY_MODEL_38431946381e4db48fedbc9252ecdf85",
       "value": "Количество шагов по $x$:"
      }
     },
     "1fa98efd540a4af198f2f3d3ef1b3d91": {
      "model_module": "@jupyter-widgets/base",
      "model_module_version": "1.0.0",
      "model_name": "LayoutModel",
      "state": {}
     },
     "1fcb5f5e87804d578090f0fe32718be1": {
      "model_module": "@jupyter-widgets/base",
      "model_module_version": "1.0.0",
      "model_name": "LayoutModel",
      "state": {}
     },
     "1fd0cc06916942c58bccc7558642299c": {
      "model_module": "@jupyter-widgets/base",
      "model_module_version": "1.0.0",
      "model_name": "LayoutModel",
      "state": {}
     },
     "2008c1460b4e4dc1b2b464106165400c": {
      "model_module": "@jupyter-widgets/controls",
      "model_module_version": "1.0.0",
      "model_name": "SliderStyleModel",
      "state": {
       "description_width": ""
      }
     },
     "201ce231071845b0ac36ec9dc0e59417": {
      "model_module": "@jupyter-widgets/base",
      "model_module_version": "1.0.0",
      "model_name": "LayoutModel",
      "state": {}
     },
     "202847442c2d42f38d36f0cc7e539a4e": {
      "model_module": "@jupyter-widgets/base",
      "model_module_version": "1.0.0",
      "model_name": "LayoutModel",
      "state": {}
     },
     "202b73fa51b6433186c723c26c498582": {
      "model_module": "@jupyter-widgets/controls",
      "model_module_version": "1.0.0",
      "model_name": "DescriptionStyleModel",
      "state": {
       "description_width": ""
      }
     },
     "202ccacc38a847dabb15389d986f14d6": {
      "model_module": "@jupyter-widgets/controls",
      "model_module_version": "1.0.0",
      "model_name": "LabelModel",
      "state": {
       "layout": "IPY_MODEL_3899531e631f405ea5b3ebfef62ef8eb",
       "style": "IPY_MODEL_db735ddfd38a47b8ae7792de1278482c",
       "value": "Точность:"
      }
     },
     "203aeccabbdc45b89aa398800d010685": {
      "model_module": "@jupyter-widgets/base",
      "model_module_version": "1.0.0",
      "model_name": "LayoutModel",
      "state": {}
     },
     "203eb08ac72b4b059880d04363c42639": {
      "model_module": "@jupyter-widgets/controls",
      "model_module_version": "1.0.0",
      "model_name": "LabelModel",
      "state": {
       "layout": "IPY_MODEL_eaf9462faaff436485f48053c24a1830",
       "style": "IPY_MODEL_2593158bbe6b4af78b6b63542e45b42b",
       "value": "Количество шагов по $t$:"
      }
     },
     "208a27f001e5476bab7da7973fddc6a4": {
      "model_module": "@jupyter-widgets/base",
      "model_module_version": "1.0.0",
      "model_name": "LayoutModel",
      "state": {}
     },
     "20ef17027fe74edaa3a2f4a6069a28ca": {
      "model_module": "@jupyter-widgets/controls",
      "model_module_version": "1.0.0",
      "model_name": "DescriptionStyleModel",
      "state": {
       "description_width": ""
      }
     },
     "20f329b9e42f47f5a256b5da8feab372": {
      "model_module": "@jupyter-widgets/base",
      "model_module_version": "1.0.0",
      "model_name": "LayoutModel",
      "state": {}
     },
     "20fae821f57a45e7a1ddead6e4be6224": {
      "model_module": "@jupyter-widgets/controls",
      "model_module_version": "1.0.0",
      "model_name": "HBoxModel",
      "state": {
       "children": [
        "IPY_MODEL_87d429b72f804dacbc0c70f48e110bb1",
        "IPY_MODEL_ec27787132764466b651eaac70e591c6"
       ],
       "layout": "IPY_MODEL_12b7ccca25d04334b2fa872b520fd511"
      }
     },
     "21256a3c874248aca0ea3fd951248905": {
      "model_module": "@jupyter-widgets/controls",
      "model_module_version": "1.0.0",
      "model_name": "ToggleButtonsStyleModel",
      "state": {
       "button_width": "",
       "description_width": ""
      }
     },
     "212abe02095b4ecf8b96b4e992a6fb37": {
      "model_module": "@jupyter-widgets/controls",
      "model_module_version": "1.0.0",
      "model_name": "DescriptionStyleModel",
      "state": {
       "description_width": ""
      }
     },
     "213a3f9491ad45ad94c36b5babc9229b": {
      "model_module": "@jupyter-widgets/controls",
      "model_module_version": "1.0.0",
      "model_name": "VBoxModel",
      "state": {
       "children": [
        "IPY_MODEL_0becae878cf2454e98e65c83c6c42078",
        "IPY_MODEL_c9c1d7e57900405a930800559b35501e"
       ],
       "layout": "IPY_MODEL_f0687618a23e446abb1d30efde840ef1"
      }
     },
     "2147ecf42c864cb4b74be70220df8be3": {
      "model_module": "@jupyter-widgets/base",
      "model_module_version": "1.0.0",
      "model_name": "LayoutModel",
      "state": {}
     },
     "2171b0e61d23452dbe68c6f0490c76ad": {
      "model_module": "@jupyter-widgets/controls",
      "model_module_version": "1.0.0",
      "model_name": "LabelModel",
      "state": {
       "layout": "IPY_MODEL_7e093a11c0d749fcb7f06291934fcdfa",
       "style": "IPY_MODEL_6cf750614973484a886c2bbbe3e0ede1",
       "value": "Точность:"
      }
     },
     "21848a09f00d485f8b577f804da95f34": {
      "model_module": "@jupyter-widgets/base",
      "model_module_version": "1.0.0",
      "model_name": "LayoutModel",
      "state": {}
     },
     "2184910ee78048b0ad719b93ba40dec0": {
      "model_module": "@jupyter-widgets/base",
      "model_module_version": "1.0.0",
      "model_name": "LayoutModel",
      "state": {}
     },
     "21cec048b6e74418b3981cecad49bcd2": {
      "model_module": "@jupyter-widgets/controls",
      "model_module_version": "1.0.0",
      "model_name": "HBoxModel",
      "state": {
       "children": [
        "IPY_MODEL_498361daeacd43af9a488279a7e8ef9f",
        "IPY_MODEL_14f81b5bf03f4f07bef4c2a65ae2a2a1"
       ],
       "layout": "IPY_MODEL_4dcdf20c7bc4445ab9b68e3ce5cfdcb2"
      }
     },
     "21dab0562ccc41e4af03fb85c644ec29": {
      "model_module": "@jupyter-widgets/base",
      "model_module_version": "1.0.0",
      "model_name": "LayoutModel",
      "state": {}
     },
     "21e185afc0b54294b8293d19e90bdb71": {
      "model_module": "@jupyter-widgets/controls",
      "model_module_version": "1.0.0",
      "model_name": "DescriptionStyleModel",
      "state": {
       "description_width": ""
      }
     },
     "22193faff941415a81524e4b2fbcba23": {
      "model_module": "@jupyter-widgets/controls",
      "model_module_version": "1.0.0",
      "model_name": "LabelModel",
      "state": {
       "layout": "IPY_MODEL_f5cd50de1701462abb90dba70826324b",
       "style": "IPY_MODEL_80a5d6ed1e0d4c0f8ac741c53426bddb",
       "value": "Time:1.03"
      }
     },
     "221faebb272a42b0a551524332cb92b8": {
      "model_module": "@jupyter-widgets/base",
      "model_module_version": "1.0.0",
      "model_name": "LayoutModel",
      "state": {}
     },
     "223b98515ba647c08c99f26f9581530f": {
      "model_module": "@jupyter-widgets/controls",
      "model_module_version": "1.0.0",
      "model_name": "DescriptionStyleModel",
      "state": {
       "description_width": ""
      }
     },
     "2263c797c3f74bb5a047f689a91ab344": {
      "model_module": "@jupyter-widgets/controls",
      "model_module_version": "1.0.0",
      "model_name": "SliderStyleModel",
      "state": {
       "description_width": ""
      }
     },
     "22a47c5fde774c958fad0c27b8259ff5": {
      "model_module": "@jupyter-widgets/controls",
      "model_module_version": "1.0.0",
      "model_name": "DescriptionStyleModel",
      "state": {
       "description_width": ""
      }
     },
     "22ac2a8d1b2f4261a691a0945a5e4a89": {
      "model_module": "@jupyter-widgets/controls",
      "model_module_version": "1.0.0",
      "model_name": "HBoxModel",
      "state": {
       "children": [
        "IPY_MODEL_0c37bbd0338540ddadea5b96c4444391",
        "IPY_MODEL_22193faff941415a81524e4b2fbcba23"
       ],
       "layout": "IPY_MODEL_fb1766e21b8c4a898828d8d69e36584d"
      }
     },
     "22c0864dec164a1f8e5f7626921125ac": {
      "model_module": "@jupyter-widgets/base",
      "model_module_version": "1.0.0",
      "model_name": "LayoutModel",
      "state": {}
     },
     "22cdf508d5b34acb933fa5364c6ea75f": {
      "model_module": "@jupyter-widgets/base",
      "model_module_version": "1.0.0",
      "model_name": "LayoutModel",
      "state": {}
     },
     "22dfd225952c4da9b586e7fa008e91d0": {
      "model_module": "@jupyter-widgets/base",
      "model_module_version": "1.0.0",
      "model_name": "LayoutModel",
      "state": {}
     },
     "22f216b7ac8b49bea1be0bc72638730c": {
      "model_module": "@jupyter-widgets/base",
      "model_module_version": "1.0.0",
      "model_name": "LayoutModel",
      "state": {}
     },
     "2301bab855634643a8639b29df0ab693": {
      "model_module": "@jupyter-widgets/base",
      "model_module_version": "1.0.0",
      "model_name": "LayoutModel",
      "state": {}
     },
     "230d8a8854784eeea495f7e21ef7022f": {
      "model_module": "@jupyter-widgets/base",
      "model_module_version": "1.0.0",
      "model_name": "LayoutModel",
      "state": {}
     },
     "231088c29ed14ff8bfd518edb7c26f07": {
      "model_module": "@jupyter-widgets/base",
      "model_module_version": "1.0.0",
      "model_name": "LayoutModel",
      "state": {}
     },
     "232dabd15d7d4a52a8949454458b6e4d": {
      "model_module": "@jupyter-widgets/base",
      "model_module_version": "1.0.0",
      "model_name": "LayoutModel",
      "state": {}
     },
     "23655527aa764267a3979acb2d855368": {
      "model_module": "@jupyter-widgets/base",
      "model_module_version": "1.0.0",
      "model_name": "LayoutModel",
      "state": {}
     },
     "236b607b38054d879ab2b5f13663d2b7": {
      "model_module": "@jupyter-widgets/base",
      "model_module_version": "1.0.0",
      "model_name": "LayoutModel",
      "state": {}
     },
     "23855e0cbc27436f8ffe7863e8a6cc24": {
      "model_module": "@jupyter-widgets/base",
      "model_module_version": "1.0.0",
      "model_name": "LayoutModel",
      "state": {}
     },
     "23959f33d6074401b7f640d7d900dce1": {
      "model_module": "@jupyter-widgets/controls",
      "model_module_version": "1.0.0",
      "model_name": "ToggleButtonsStyleModel",
      "state": {
       "button_width": "",
       "description_width": ""
      }
     },
     "239a400289054512a0a57d25533e44c8": {
      "model_module": "@jupyter-widgets/base",
      "model_module_version": "1.0.0",
      "model_name": "LayoutModel",
      "state": {}
     },
     "23b50c75d19f4de8a0bb959a76cfaec4": {
      "model_module": "@jupyter-widgets/base",
      "model_module_version": "1.0.0",
      "model_name": "LayoutModel",
      "state": {}
     },
     "23c5d9dda3ae4d27a589ea97fa7a43f7": {
      "model_module": "@jupyter-widgets/controls",
      "model_module_version": "1.0.0",
      "model_name": "IntSliderModel",
      "state": {
       "description": "Step:",
       "layout": "IPY_MODEL_60fed4161823433ca70f96b9c8e96d39",
       "max": 199,
       "style": "IPY_MODEL_e47efee9cc6f424c94f20a0caa395044",
       "value": 33
      }
     },
     "244c7465b563425facb790c23fbd2c01": {
      "model_module": "@jupyter-widgets/controls",
      "model_module_version": "1.0.0",
      "model_name": "HBoxModel",
      "state": {
       "children": [
        "IPY_MODEL_90d75cbf79ec4a328e64cb29fd470063",
        "IPY_MODEL_6015e7e1f1de41ec8410d0a989a98731"
       ],
       "layout": "IPY_MODEL_5283940a8cbc49668d1dc3df2bf35a08"
      }
     },
     "245649e7f8874ba892964fe290cf0dc0": {
      "model_module": "@jupyter-widgets/controls",
      "model_module_version": "1.0.0",
      "model_name": "DescriptionStyleModel",
      "state": {
       "description_width": ""
      }
     },
     "2469d8a33f8947e992507d653acf4a06": {
      "model_module": "@jupyter-widgets/controls",
      "model_module_version": "1.0.0",
      "model_name": "DescriptionStyleModel",
      "state": {
       "description_width": ""
      }
     },
     "247aa647c01b460bb556848b68f2f90c": {
      "model_module": "@jupyter-widgets/base",
      "model_module_version": "1.0.0",
      "model_name": "LayoutModel",
      "state": {}
     },
     "24a32f041a36400a805103b76ecd7ec3": {
      "model_module": "@jupyter-widgets/base",
      "model_module_version": "1.0.0",
      "model_name": "LayoutModel",
      "state": {}
     },
     "24daa4b7461c428d947e4ff981b74ad4": {
      "model_module": "@jupyter-widgets/base",
      "model_module_version": "1.0.0",
      "model_name": "LayoutModel",
      "state": {}
     },
     "24de169ffc0a43e795b4764880a2fd58": {
      "model_module": "@jupyter-widgets/base",
      "model_module_version": "1.0.0",
      "model_name": "LayoutModel",
      "state": {}
     },
     "24e07ca3c9c2461ca642db449c8bb424": {
      "model_module": "@jupyter-widgets/base",
      "model_module_version": "1.0.0",
      "model_name": "LayoutModel",
      "state": {}
     },
     "255b868d0b2b49e58124a95e9ea9cb11": {
      "model_module": "@jupyter-widgets/base",
      "model_module_version": "1.0.0",
      "model_name": "LayoutModel",
      "state": {}
     },
     "2566a0b49de643fab15920a8eba3411a": {
      "model_module": "@jupyter-widgets/controls",
      "model_module_version": "1.0.0",
      "model_name": "BoundedFloatTextModel",
      "state": {
       "layout": "IPY_MODEL_231088c29ed14ff8bfd518edb7c26f07",
       "step": 0.01,
       "style": "IPY_MODEL_beab2a5d45724658b89131354c7c87f1",
       "value": 1
      }
     },
     "2593158bbe6b4af78b6b63542e45b42b": {
      "model_module": "@jupyter-widgets/controls",
      "model_module_version": "1.0.0",
      "model_name": "DescriptionStyleModel",
      "state": {
       "description_width": ""
      }
     },
     "2597a666cf044444a8860195f94bc018": {
      "model_module": "@jupyter-widgets/controls",
      "model_module_version": "1.0.0",
      "model_name": "HBoxModel",
      "state": {
       "children": [
        "IPY_MODEL_f1c5debd023342f1a087b6c4c9d13983",
        "IPY_MODEL_c4407468c3ba4519921864af0e9379e4"
       ],
       "layout": "IPY_MODEL_86dbeb48cbaa465488bc3451e9edb610"
      }
     },
     "25fc0e0478cd4af491eb2df6ad56fcc4": {
      "model_module": "@jupyter-widgets/controls",
      "model_module_version": "1.0.0",
      "model_name": "LabelModel",
      "state": {
       "layout": "IPY_MODEL_6ca267dc8f3b4dd5b1e38e73d5d7626a",
       "style": "IPY_MODEL_6c8c5d79539b463fafcd085c6578f685",
       "value": "Время симуляции:"
      }
     },
     "260fac7e69654659abb174dc012a13c5": {
      "model_module": "@jupyter-widgets/base",
      "model_module_version": "1.0.0",
      "model_name": "LayoutModel",
      "state": {}
     },
     "2621dcd9291047ccbeaa75a3ec287341": {
      "model_module": "@jupyter-widgets/base",
      "model_module_version": "1.0.0",
      "model_name": "LayoutModel",
      "state": {}
     },
     "263704a5fca149509720dafcc16ac978": {
      "model_module": "@jupyter-widgets/controls",
      "model_module_version": "1.0.0",
      "model_name": "DescriptionStyleModel",
      "state": {
       "description_width": ""
      }
     },
     "263c999328d54780b9178a269712fd5a": {
      "model_module": "@jupyter-widgets/controls",
      "model_module_version": "1.0.0",
      "model_name": "ToggleButtonsStyleModel",
      "state": {
       "button_width": "",
       "description_width": ""
      }
     },
     "263feeab1838464fa361888d8d8e49aa": {
      "model_module": "@jupyter-widgets/base",
      "model_module_version": "1.0.0",
      "model_name": "LayoutModel",
      "state": {}
     },
     "265b0e2963d643a1a004b1ecbf99896a": {
      "model_module": "@jupyter-widgets/controls",
      "model_module_version": "1.0.0",
      "model_name": "DescriptionStyleModel",
      "state": {
       "description_width": ""
      }
     },
     "26684659584748c6bb3587e8c5f64f0f": {
      "model_module": "@jupyter-widgets/controls",
      "model_module_version": "1.0.0",
      "model_name": "LabelModel",
      "state": {
       "layout": "IPY_MODEL_39e9a3eca330471da316cb375b3196fe",
       "style": "IPY_MODEL_2469d8a33f8947e992507d653acf4a06",
       "value": "Время симуляции:"
      }
     },
     "26e75cc143974e488761fc5e61fadbc2": {
      "model_module": "@jupyter-widgets/controls",
      "model_module_version": "1.0.0",
      "model_name": "DescriptionStyleModel",
      "state": {
       "description_width": ""
      }
     },
     "26f2d57ef40a422abe982089205f5e47": {
      "model_module": "@jupyter-widgets/controls",
      "model_module_version": "1.0.0",
      "model_name": "DescriptionStyleModel",
      "state": {
       "description_width": ""
      }
     },
     "26fd237d6a204704bfc0a3df6c45921c": {
      "model_module": "@jupyter-widgets/base",
      "model_module_version": "1.0.0",
      "model_name": "LayoutModel",
      "state": {}
     },
     "275dbe19ccf74873a8974f65f2f7fb39": {
      "model_module": "@jupyter-widgets/controls",
      "model_module_version": "1.0.0",
      "model_name": "LabelModel",
      "state": {
       "layout": "IPY_MODEL_4bdc0570e4ff4fd8b42c647971f8940d",
       "style": "IPY_MODEL_4181eafeca7c4dfca18c4da42067ff99",
       "value": "Длительность анимации"
      }
     },
     "27bd56ff0a654861a60ad777945e2cad": {
      "model_module": "@jupyter-widgets/base",
      "model_module_version": "1.0.0",
      "model_name": "LayoutModel",
      "state": {}
     },
     "27ce24241bc94c48a80103abf8fc9e55": {
      "model_module": "@jupyter-widgets/controls",
      "model_module_version": "1.0.0",
      "model_name": "BoundedFloatTextModel",
      "state": {
       "continuous_update": true,
       "description": "Time:",
       "layout": "IPY_MODEL_22cdf508d5b34acb933fa5364c6ea75f",
       "max": 1,
       "style": "IPY_MODEL_26f2d57ef40a422abe982089205f5e47"
      }
     },
     "27d7138a1d954cc5b4c84307c7ec6c05": {
      "model_module": "@jupyter-widgets/base",
      "model_module_version": "1.0.0",
      "model_name": "LayoutModel",
      "state": {}
     },
     "27d7ea3b418b45df93e6251c7be89a20": {
      "model_module": "@jupyter-widgets/controls",
      "model_module_version": "1.0.0",
      "model_name": "BoundedIntTextModel",
      "state": {
       "layout": "IPY_MODEL_e3f9ae5d2ffa4749bdb4d9ca1a5f037e",
       "max": 1000,
       "min": 50,
       "step": 100,
       "style": "IPY_MODEL_a7a0b9f627904675967d58dc0e75a3e5",
       "value": 100
      }
     },
     "27e20e5597de46479851c38ddcf54b18": {
      "model_module": "@jupyter-widgets/controls",
      "model_module_version": "1.0.0",
      "model_name": "LabelModel",
      "state": {
       "layout": "IPY_MODEL_af5c8e7e68214b7599184e35a11da51b",
       "style": "IPY_MODEL_045911d87cfe4312ad2d06f0bfa1c7e3",
       "value": "Длительность анимации"
      }
     },
     "27f3b0afd2b7400db5025ab8904150f8": {
      "model_module": "@jupyter-widgets/controls",
      "model_module_version": "1.0.0",
      "model_name": "HBoxModel",
      "state": {
       "children": [
        "IPY_MODEL_97f279ed91814165870f5148e76df081",
        "IPY_MODEL_0c2c8c7e2bc84bd18e7d6d4244b2f91d"
       ],
       "layout": "IPY_MODEL_cc137e62942e47ce8995fcae72efa9a2"
      }
     },
     "280830e218ad4c41bc963777ced44a2c": {
      "model_module": "@jupyter-widgets/controls",
      "model_module_version": "1.0.0",
      "model_name": "SliderStyleModel",
      "state": {
       "description_width": ""
      }
     },
     "2820d1b19f1447b79f8d4146749b3eb2": {
      "model_module": "@jupyter-widgets/controls",
      "model_module_version": "1.0.0",
      "model_name": "HBoxModel",
      "state": {
       "children": [
        "IPY_MODEL_f1b73728a8b94377b4c95961d7012f47",
        "IPY_MODEL_dfbb0788217e4098a83406b70e6f1c06"
       ],
       "layout": "IPY_MODEL_389ef7c1d02547ad8a54985eb93ad13b"
      }
     },
     "282db9de27e94c7a948119b55fcd48a0": {
      "model_module": "@jupyter-widgets/base",
      "model_module_version": "1.0.0",
      "model_name": "LayoutModel",
      "state": {}
     },
     "284652114ee0468dbf6bae9d15ff2799": {
      "model_module": "@jupyter-widgets/controls",
      "model_module_version": "1.0.0",
      "model_name": "LabelModel",
      "state": {
       "layout": "IPY_MODEL_0545589123d4432490077b80ef5407dd",
       "style": "IPY_MODEL_6346b5bf91df4f0bb6188dbcf9ee84fd",
       "value": "Time:0.0"
      }
     },
     "2856d5dc8226450cad879932dc912540": {
      "model_module": "@jupyter-widgets/controls",
      "model_module_version": "1.0.0",
      "model_name": "HBoxModel",
      "state": {
       "children": [
        "IPY_MODEL_4a96149b471044fabdba14ed7e766595",
        "IPY_MODEL_bb2aae31b4a44ad09c6ba7b3415f77ee"
       ],
       "layout": "IPY_MODEL_010118b002af4caea70fcf9de0fff76b"
      }
     },
     "28791033e9784d1cac29c8c282bcbb1a": {
      "model_module": "@jupyter-widgets/base",
      "model_module_version": "1.0.0",
      "model_name": "LayoutModel",
      "state": {}
     },
     "289fa82220fa4e2e86d9569c6f7efba9": {
      "model_module": "@jupyter-widgets/base",
      "model_module_version": "1.0.0",
      "model_name": "LayoutModel",
      "state": {}
     },
     "28b78f0fa4804cf396824808521b355a": {
      "model_module": "@jupyter-widgets/controls",
      "model_module_version": "1.0.0",
      "model_name": "DescriptionStyleModel",
      "state": {
       "description_width": ""
      }
     },
     "28c3ef2c1adc4c43843a05da3573b3b4": {
      "model_module": "@jupyter-widgets/base",
      "model_module_version": "1.0.0",
      "model_name": "LayoutModel",
      "state": {}
     },
     "28cfde440a8a4d989aa38b47f69eb7e5": {
      "model_module": "@jupyter-widgets/base",
      "model_module_version": "1.0.0",
      "model_name": "LayoutModel",
      "state": {}
     },
     "2909ce06f3da42fba247c63039504520": {
      "model_module": "@jupyter-widgets/base",
      "model_module_version": "1.0.0",
      "model_name": "LayoutModel",
      "state": {}
     },
     "290b8396b87d41018ba9db0b6c8943d4": {
      "model_module": "@jupyter-widgets/controls",
      "model_module_version": "1.0.0",
      "model_name": "DescriptionStyleModel",
      "state": {
       "description_width": ""
      }
     },
     "292e40d35ada4dcd83fa95c37bdd8249": {
      "model_module": "@jupyter-widgets/base",
      "model_module_version": "1.0.0",
      "model_name": "LayoutModel",
      "state": {}
     },
     "293ce4276ac745d4ad498138d0bc7b4f": {
      "model_module": "@jupyter-widgets/base",
      "model_module_version": "1.0.0",
      "model_name": "LayoutModel",
      "state": {}
     },
     "29574ad4b81b473ebcc040dfe22e3617": {
      "model_module": "@jupyter-widgets/controls",
      "model_module_version": "1.0.0",
      "model_name": "DescriptionStyleModel",
      "state": {
       "description_width": ""
      }
     },
     "298a62833bad49b59086e26704f88157": {
      "model_module": "@jupyter-widgets/controls",
      "model_module_version": "1.0.0",
      "model_name": "FloatSliderModel",
      "state": {
       "layout": "IPY_MODEL_bef330ca2e6e482c89b9999b678cf3b9",
       "max": 20,
       "min": 0.1,
       "readout_format": "f",
       "step": 0.1,
       "style": "IPY_MODEL_f928d7f169be42b3997ce3832dcc8a81",
       "value": 3
      }
     },
     "2992f22fa9a44f80841ae2cdcf2b5edb": {
      "model_module": "@jupyter-widgets/base",
      "model_module_version": "1.0.0",
      "model_name": "LayoutModel",
      "state": {}
     },
     "2998fa037f1b4796a5b32a668fdcab48": {
      "model_module": "@jupyter-widgets/controls",
      "model_module_version": "1.0.0",
      "model_name": "LabelModel",
      "state": {
       "layout": "IPY_MODEL_e23728f73d014d5786a0e2e6e1a5bcf3",
       "style": "IPY_MODEL_bfd9e057a00549408e0244c0f0668094",
       "value": "Длительность анимации"
      }
     },
     "29d57b4f8df14519b41cb26045f4edd4": {
      "model_module": "@jupyter-widgets/controls",
      "model_module_version": "1.0.0",
      "model_name": "IntSliderModel",
      "state": {
       "description": "Step:",
       "layout": "IPY_MODEL_3acbba5b847749c3b18df3aeb735ecbb",
       "max": 199,
       "style": "IPY_MODEL_e7873845ed22483c8e46597cc97cfe40"
      }
     },
     "29da9dfd9a4b428bbe1d16f70ca84f54": {
      "model_module": "@jupyter-widgets/controls",
      "model_module_version": "1.0.0",
      "model_name": "VBoxModel",
      "state": {
       "children": [
        "IPY_MODEL_478d3e9aa1264cef80f78fc66b352f1e",
        "IPY_MODEL_4717d538567c4f4aa4652b3b71e8f2ac",
        "IPY_MODEL_e7cc469ea52f468ab3bced80d50eaa1d",
        "IPY_MODEL_e667506f507249e08aab90b308763e61",
        "IPY_MODEL_cd0bb669c8754d0baef280274c6931f5",
        "IPY_MODEL_779a5fdc3f1b43408772d9002a346254"
       ],
       "layout": "IPY_MODEL_8b016a79a3db435ab105bc35ec73f231"
      }
     },
     "29e0052d79194fdfb56f900a257e28fc": {
      "model_module": "@jupyter-widgets/controls",
      "model_module_version": "1.0.0",
      "model_name": "BoundedFloatTextModel",
      "state": {
       "continuous_update": true,
       "description": "Time:",
       "layout": "IPY_MODEL_921cdaa7eb7845b48292a57249fcd9f6",
       "max": 1,
       "style": "IPY_MODEL_443ce2ddb5004a41b3f4a93918d8433b"
      }
     },
     "2a07af9147df4d7aae36fda56ad3fa9a": {
      "model_module": "@jupyter-widgets/base",
      "model_module_version": "1.0.0",
      "model_name": "LayoutModel",
      "state": {}
     },
     "2a1065251c7f467691d76ab397b9f0b6": {
      "model_module": "@jupyter-widgets/controls",
      "model_module_version": "1.0.0",
      "model_name": "ToggleButtonsModel",
      "state": {
       "_options_labels": [
        "Расчёт заданного числа шагов",
        "Расчёт с заданной точностью"
       ],
       "button_style": "",
       "description": "Режим работы:",
       "icons": [],
       "index": 0,
       "layout": "IPY_MODEL_202847442c2d42f38d36f0cc7e539a4e",
       "style": "IPY_MODEL_e08ef13f19754c889f8728d93d52130f",
       "tooltips": []
      }
     },
     "2a19c72d24254fe6acca4674fc30aac8": {
      "model_module": "@jupyter-widgets/controls",
      "model_module_version": "1.0.0",
      "model_name": "VBoxModel",
      "state": {
       "children": [
        "IPY_MODEL_e3300c5c0d954b3abbaca95a2e5438e3",
        "IPY_MODEL_244c7465b563425facb790c23fbd2c01",
        "IPY_MODEL_a44299e651e04c2abf95aa745f00b05d",
        "IPY_MODEL_20fae821f57a45e7a1ddead6e4be6224",
        "IPY_MODEL_53563ebbc5d844bb9871dc4e6e0b3b9a",
        "IPY_MODEL_8747871f9c0f42c2a27c0c760a8eaee0"
       ],
       "layout": "IPY_MODEL_2d035f100d624de1b34af5b8ca375289"
      }
     },
     "2a58eda941ca44cfb49d4e7c5a5c42ed": {
      "model_module": "@jupyter-widgets/controls",
      "model_module_version": "1.0.0",
      "model_name": "VBoxModel",
      "state": {
       "children": [
        "IPY_MODEL_093ccea5b22a492b98d4b7f570c42bec",
        "IPY_MODEL_336ee174cf3b4ebaae066b5a0cb19e5a"
       ],
       "layout": "IPY_MODEL_d5b7bd91547c4c6080ec223a87a06d56"
      }
     },
     "2ab4e97fc9bf4f17a961b6f644aaf976": {
      "model_module": "@jupyter-widgets/base",
      "model_module_version": "1.0.0",
      "model_name": "LayoutModel",
      "state": {}
     },
     "2ac2c2b524224eb386045f2064ae501e": {
      "model_module": "@jupyter-widgets/base",
      "model_module_version": "1.0.0",
      "model_name": "LayoutModel",
      "state": {}
     },
     "2af02bd34380489e8c23b7fbf4299c12": {
      "model_module": "@jupyter-widgets/base",
      "model_module_version": "1.0.0",
      "model_name": "LayoutModel",
      "state": {}
     },
     "2affb293bb9e4b7a85ed98feb8403cb8": {
      "model_module": "@jupyter-widgets/controls",
      "model_module_version": "1.0.0",
      "model_name": "LabelModel",
      "state": {
       "layout": "IPY_MODEL_bd02ed5a5f1f451496a47266fe109d84",
       "style": "IPY_MODEL_f89ab84f259d497ca0a27d480999e76a"
      }
     },
     "2b49744505644daba258e0edb1908d20": {
      "model_module": "@jupyter-widgets/base",
      "model_module_version": "1.0.0",
      "model_name": "LayoutModel",
      "state": {}
     },
     "2b58e37f990f44959d38b26b6d103c70": {
      "model_module": "@jupyter-widgets/controls",
      "model_module_version": "1.0.0",
      "model_name": "IntSliderModel",
      "state": {
       "description": "Step:",
       "layout": "IPY_MODEL_f3b244fbb79e43a8b7ede55eb70c000e",
       "max": 199,
       "style": "IPY_MODEL_373bba69993240a49f7138b8d224ce23"
      }
     },
     "2b7a9acbb6554076bb98d177528ab97b": {
      "model_module": "@jupyter-widgets/controls",
      "model_module_version": "1.0.0",
      "model_name": "LabelModel",
      "state": {
       "layout": "IPY_MODEL_1fa98efd540a4af198f2f3d3ef1b3d91",
       "style": "IPY_MODEL_001143bd9eaf46bfa8139e2b936d7db7",
       "value": "Параметр $\\sigma$ неявной схемы:"
      }
     },
     "2b87d1d033854d729a7b58a8ad248206": {
      "model_module": "@jupyter-widgets/controls",
      "model_module_version": "1.0.0",
      "model_name": "DescriptionStyleModel",
      "state": {
       "description_width": ""
      }
     },
     "2b8ae599ab5449f18ef6556a6d8133d0": {
      "model_module": "@jupyter-widgets/base",
      "model_module_version": "1.0.0",
      "model_name": "LayoutModel",
      "state": {}
     },
     "2b9894f903234a778e0cc6b29920d7e1": {
      "model_module": "@jupyter-widgets/controls",
      "model_module_version": "1.0.0",
      "model_name": "DescriptionStyleModel",
      "state": {
       "description_width": ""
      }
     },
     "2bac3103046c4d9db8c11fe2fd3f0cc2": {
      "model_module": "@jupyter-widgets/controls",
      "model_module_version": "1.0.0",
      "model_name": "DescriptionStyleModel",
      "state": {
       "description_width": ""
      }
     },
     "2bb114f622044e22bf3f9601ed4646cd": {
      "model_module": "@jupyter-widgets/base",
      "model_module_version": "1.0.0",
      "model_name": "LayoutModel",
      "state": {}
     },
     "2bcb06e5f310410ba462e00feea3e0fb": {
      "model_module": "@jupyter-widgets/controls",
      "model_module_version": "1.0.0",
      "model_name": "DescriptionStyleModel",
      "state": {
       "description_width": ""
      }
     },
     "2bdc6de7419f4c2a8f770a37e3d798c4": {
      "model_module": "@jupyter-widgets/controls",
      "model_module_version": "1.0.0",
      "model_name": "LabelModel",
      "state": {
       "layout": "IPY_MODEL_b6c4702a216d4374956e880fe0547077",
       "style": "IPY_MODEL_dc959d86d16a4b0cab8bcc94fffacf8d",
       "value": "$\\large l$ -длина струны"
      }
     },
     "2c0f105171a742fea0ca4771c4cef687": {
      "model_module": "@jupyter-widgets/controls",
      "model_module_version": "1.0.0",
      "model_name": "LabelModel",
      "state": {
       "layout": "IPY_MODEL_eed12664c9384df083ed64acae644c7e",
       "style": "IPY_MODEL_45764209275b4c3890fb103234d7677d"
      }
     },
     "2c2125465bbb47b09c04fe2d9b2ae3bd": {
      "model_module": "@jupyter-widgets/controls",
      "model_module_version": "1.0.0",
      "model_name": "DescriptionStyleModel",
      "state": {
       "description_width": ""
      }
     },
     "2c43c1ea6d3f4b14a023b285d06c2b69": {
      "model_module": "@jupyter-widgets/controls",
      "model_module_version": "1.0.0",
      "model_name": "FloatSliderModel",
      "state": {
       "layout": "IPY_MODEL_3f47eda656dc4754ba359bbb20ee53f8",
       "max": 20,
       "min": 0.1,
       "readout_format": "f",
       "step": 0.1,
       "style": "IPY_MODEL_4606511eff074ce4967ca260ac685246",
       "value": 1
      }
     },
     "2c5ec5a7ff154308942a3b7a776cf93a": {
      "model_module": "@jupyter-widgets/base",
      "model_module_version": "1.0.0",
      "model_name": "LayoutModel",
      "state": {}
     },
     "2c88386cae8e425eacf7fdde385d5d77": {
      "model_module": "@jupyter-widgets/controls",
      "model_module_version": "1.0.0",
      "model_name": "DescriptionStyleModel",
      "state": {
       "description_width": ""
      }
     },
     "2c94a8fcb9fe47a8a14061520a64ac2b": {
      "model_module": "@jupyter-widgets/controls",
      "model_module_version": "1.0.0",
      "model_name": "SliderStyleModel",
      "state": {
       "description_width": ""
      }
     },
     "2cb5fa4016c54b57ab9ce9e9405fce4e": {
      "model_module": "@jupyter-widgets/controls",
      "model_module_version": "1.0.0",
      "model_name": "HBoxModel",
      "state": {
       "children": [
        "IPY_MODEL_d1481b55c0e34de3b1a447e017e6e04c",
        "IPY_MODEL_8daa30fe95524ba9b617c97cf507947c"
       ],
       "layout": "IPY_MODEL_184b0e7a81264f0e80802ffa1ab8747d"
      }
     },
     "2cbda92eb3f14bc3aa52cd2a5adb7d31": {
      "model_module": "@jupyter-widgets/base",
      "model_module_version": "1.0.0",
      "model_name": "LayoutModel",
      "state": {}
     },
     "2cced92a5fdd4d02a37db29c3ca43bc3": {
      "model_module": "@jupyter-widgets/controls",
      "model_module_version": "1.0.0",
      "model_name": "DescriptionStyleModel",
      "state": {
       "description_width": ""
      }
     },
     "2ce0d253578f4422948f1d11b1d874f4": {
      "model_module": "@jupyter-widgets/controls",
      "model_module_version": "1.0.0",
      "model_name": "DescriptionStyleModel",
      "state": {
       "description_width": ""
      }
     },
     "2d035f100d624de1b34af5b8ca375289": {
      "model_module": "@jupyter-widgets/base",
      "model_module_version": "1.0.0",
      "model_name": "LayoutModel",
      "state": {}
     },
     "2d155840c5ee40538565e85c811cce52": {
      "model_module": "@jupyter-widgets/controls",
      "model_module_version": "1.0.0",
      "model_name": "LabelModel",
      "state": {
       "layout": "IPY_MODEL_fa5d7c4179bc4aadafad01afb977c526",
       "style": "IPY_MODEL_da6a7c060da549c1b365cb2465e23dc8",
       "value": "Количество шагов по $t$:"
      }
     },
     "2d28e18b4f49434da3556149c7fbc4f7": {
      "model_module": "@jupyter-widgets/base",
      "model_module_version": "1.0.0",
      "model_name": "LayoutModel",
      "state": {}
     },
     "2d2d5a4c195945ad995ecd830f9e078e": {
      "model_module": "@jupyter-widgets/base",
      "model_module_version": "1.0.0",
      "model_name": "LayoutModel",
      "state": {}
     },
     "2d47d1437ca847328ffb1ffe7afdc542": {
      "model_module": "@jupyter-widgets/controls",
      "model_module_version": "1.0.0",
      "model_name": "BoundedFloatTextModel",
      "state": {
       "layout": "IPY_MODEL_ba5f6c815d54404f948128ba70fa6181",
       "step": 0.01,
       "style": "IPY_MODEL_cd99897944a84baf81098835ad94a41c",
       "value": 1
      }
     },
     "2d5f3df0e16a41cb9e19298c902da0db": {
      "model_module": "@jupyter-widgets/base",
      "model_module_version": "1.0.0",
      "model_name": "LayoutModel",
      "state": {}
     },
     "2db0b9e9abed4d968fe50ce49a512e54": {
      "model_module": "@jupyter-widgets/controls",
      "model_module_version": "1.0.0",
      "model_name": "BoundedFloatTextModel",
      "state": {
       "layout": "IPY_MODEL_292e40d35ada4dcd83fa95c37bdd8249",
       "step": 0.01,
       "style": "IPY_MODEL_a6462f4180d94434ba656bb15228ce48",
       "value": 1
      }
     },
     "2df9a8bc0cc34f459c4f11fc9ed23dd7": {
      "model_module": "@jupyter-widgets/base",
      "model_module_version": "1.0.0",
      "model_name": "LayoutModel",
      "state": {}
     },
     "2dfc750cc195458c8086dbaaf6d5baf3": {
      "model_module": "@jupyter-widgets/base",
      "model_module_version": "1.0.0",
      "model_name": "LayoutModel",
      "state": {}
     },
     "2e05c5584b9b48d28f2954bae8c4803a": {
      "model_module": "@jupyter-widgets/base",
      "model_module_version": "1.0.0",
      "model_name": "LayoutModel",
      "state": {}
     },
     "2e2028636d764728a6c67553f5d97616": {
      "model_module": "@jupyter-widgets/controls",
      "model_module_version": "1.0.0",
      "model_name": "VBoxModel",
      "state": {
       "children": [
        "IPY_MODEL_82c0440a82d642729c1e487b6adeac37",
        "IPY_MODEL_1a2afb1bfc4c42d597699a7e20bf6ec9",
        "IPY_MODEL_da8490b2bfd842e7af3fe869367ad453",
        "IPY_MODEL_c2b757533afd436fa07b2864f365f636",
        "IPY_MODEL_50396eaf8b69434dbd7e9dea789b1fa6",
        "IPY_MODEL_76f2bcf76695408b95f8d137a46dc119"
       ],
       "layout": "IPY_MODEL_598788422fb64fce84cbdc55243a0d3c"
      }
     },
     "2e2e043a5ee64154a4fa4190b7cc18e7": {
      "model_module": "@jupyter-widgets/base",
      "model_module_version": "1.0.0",
      "model_name": "LayoutModel",
      "state": {}
     },
     "2e3a29ed816e417e9ea8921a420fa267": {
      "model_module": "@jupyter-widgets/controls",
      "model_module_version": "1.0.0",
      "model_name": "LabelModel",
      "state": {
       "layout": "IPY_MODEL_24a32f041a36400a805103b76ecd7ec3",
       "style": "IPY_MODEL_f700af1f16c34e509043dd8d99fb0124"
      }
     },
     "2e77f61df2634533b62768b46d2bcb6a": {
      "model_module": "@jupyter-widgets/controls",
      "model_module_version": "1.0.0",
      "model_name": "LabelModel",
      "state": {
       "layout": "IPY_MODEL_db8dc0e7b6d54dbebf577648f13a9172",
       "style": "IPY_MODEL_f9d2f7f7d78f4d7ab5e75acd846302fe",
       "value": "$\\large l$ -длина струны"
      }
     },
     "2ecb462627264752af24257772ba244c": {
      "model_module": "@jupyter-widgets/controls",
      "model_module_version": "1.0.0",
      "model_name": "DescriptionStyleModel",
      "state": {
       "description_width": ""
      }
     },
     "2ef0bf341f73409b81b62fd82805903a": {
      "model_module": "@jupyter-widgets/controls",
      "model_module_version": "1.0.0",
      "model_name": "LabelModel",
      "state": {
       "layout": "IPY_MODEL_c70d844b2c044bfa9dccd955916f8aa2",
       "style": "IPY_MODEL_ec065115a87c4681854b081976ff3429",
       "value": "$\\large l$ -длина струны"
      }
     },
     "2f01c59ab9f9413bad1718d91b1efc70": {
      "model_module": "@jupyter-widgets/controls",
      "model_module_version": "1.0.0",
      "model_name": "DescriptionStyleModel",
      "state": {
       "description_width": ""
      }
     },
     "2f2dc852350b4d6091f89665459e287f": {
      "model_module": "@jupyter-widgets/controls",
      "model_module_version": "1.0.0",
      "model_name": "DescriptionStyleModel",
      "state": {
       "description_width": ""
      }
     },
     "2f3e9849b9304ecea3021832995416e6": {
      "model_module": "@jupyter-widgets/controls",
      "model_module_version": "1.0.0",
      "model_name": "DescriptionStyleModel",
      "state": {
       "description_width": ""
      }
     },
     "2f5483d667804e29b92a48f6e50b1232": {
      "model_module": "@jupyter-widgets/controls",
      "model_module_version": "1.0.0",
      "model_name": "DescriptionStyleModel",
      "state": {
       "description_width": ""
      }
     },
     "2f891704142140d084a7ee4be92d169e": {
      "model_module": "@jupyter-widgets/controls",
      "model_module_version": "1.0.0",
      "model_name": "DescriptionStyleModel",
      "state": {
       "description_width": ""
      }
     },
     "2f8c99f2f62a4048aeb924bd4f127f51": {
      "model_module": "@jupyter-widgets/controls",
      "model_module_version": "1.0.0",
      "model_name": "HBoxModel",
      "state": {
       "children": [
        "IPY_MODEL_a68b1570a3c649a2a69950edf56265ef",
        "IPY_MODEL_b904b35efe5b4c52bf9a727baa9d4b20"
       ],
       "layout": "IPY_MODEL_b3c669ca95cb4b5aa0be06de34be9019"
      }
     },
     "2f94187483ff41b0ab48d4f8b0757525": {
      "model_module": "@jupyter-widgets/controls",
      "model_module_version": "1.0.0",
      "model_name": "DescriptionStyleModel",
      "state": {
       "description_width": ""
      }
     },
     "2f972f9957014a1f94a8e2eeca5fc368": {
      "model_module": "@jupyter-widgets/base",
      "model_module_version": "1.0.0",
      "model_name": "LayoutModel",
      "state": {}
     },
     "2fa5575ce7b34bc899c6f73b1e380c03": {
      "model_module": "@jupyter-widgets/base",
      "model_module_version": "1.0.0",
      "model_name": "LayoutModel",
      "state": {}
     },
     "2fd7c946ce2a490c8f97fa2c318f347d": {
      "model_module": "@jupyter-widgets/base",
      "model_module_version": "1.0.0",
      "model_name": "LayoutModel",
      "state": {}
     },
     "2ff07f527ff94daaa3328a1fe1f8d894": {
      "model_module": "@jupyter-widgets/controls",
      "model_module_version": "1.0.0",
      "model_name": "HBoxModel",
      "state": {
       "children": [
        "IPY_MODEL_75e7921ff861413387f8af9ac36d97a0",
        "IPY_MODEL_acddf0d17db2469aa6a9e2ec003bab29"
       ],
       "layout": "IPY_MODEL_06df50bbdbc347b19ace90eab06fef69"
      }
     },
     "3008564232084d7e98665b46a68db830": {
      "model_module": "@jupyter-widgets/controls",
      "model_module_version": "1.0.0",
      "model_name": "DescriptionStyleModel",
      "state": {
       "description_width": ""
      }
     },
     "301b0507b6a4422f95fc2796df15093a": {
      "model_module": "@jupyter-widgets/base",
      "model_module_version": "1.0.0",
      "model_name": "LayoutModel",
      "state": {}
     },
     "30546b0852b2400898de2659c18edb43": {
      "model_module": "@jupyter-widgets/base",
      "model_module_version": "1.0.0",
      "model_name": "LayoutModel",
      "state": {}
     },
     "305d7ccc7d3d42a4900981f04739753a": {
      "model_module": "@jupyter-widgets/controls",
      "model_module_version": "1.0.0",
      "model_name": "BoundedFloatTextModel",
      "state": {
       "continuous_update": true,
       "description": "Time:",
       "layout": "IPY_MODEL_ea4f93ed18e44c42bd70e399bcf05d10",
       "max": 1,
       "style": "IPY_MODEL_6fb56f75e52b4e289652d9575da34f7a"
      }
     },
     "3086949babe04cd3a2551a1f6dcdb9a4": {
      "model_module": "@jupyter-widgets/controls",
      "model_module_version": "1.0.0",
      "model_name": "HBoxModel",
      "state": {
       "children": [
        "IPY_MODEL_1c79e4a4914d4229a124dfa3a57e5f51",
        "IPY_MODEL_d9fddb51ba5c47469abf989fd72a60ff"
       ],
       "layout": "IPY_MODEL_4ee045cd43f74e5db2d1271c730f10f4"
      }
     },
     "3091e72416474f79989dd2b103c8fd2e": {
      "model_module": "@jupyter-widgets/base",
      "model_module_version": "1.0.0",
      "model_name": "LayoutModel",
      "state": {}
     },
     "30939196686f4f65a41272e046a45c30": {
      "model_module": "@jupyter-widgets/controls",
      "model_module_version": "1.0.0",
      "model_name": "DescriptionStyleModel",
      "state": {
       "description_width": ""
      }
     },
     "30b6a7c1655e4382ac10373d9dce8431": {
      "model_module": "@jupyter-widgets/controls",
      "model_module_version": "1.0.0",
      "model_name": "DescriptionStyleModel",
      "state": {
       "description_width": ""
      }
     },
     "30e10722e7e5420cb0cb8c6af879d873": {
      "model_module": "@jupyter-widgets/controls",
      "model_module_version": "1.0.0",
      "model_name": "BoundedFloatTextModel",
      "state": {
       "continuous_update": true,
       "description": "Time:",
       "layout": "IPY_MODEL_1aa67f7d37b64176bbece8d77a44cb5b",
       "max": 1,
       "style": "IPY_MODEL_a51856c02d6049699063164b014ecb47",
       "value": 1
      }
     },
     "310a68591fec498d95a48b3508d621f3": {
      "model_module": "@jupyter-widgets/controls",
      "model_module_version": "1.0.0",
      "model_name": "BoundedFloatTextModel",
      "state": {
       "continuous_update": true,
       "description": "Time:",
       "layout": "IPY_MODEL_3a88b30db1b64092a1d920b56cd989be",
       "max": 1,
       "style": "IPY_MODEL_ff452517b30d42fa8a9d4ccb8c21ade0"
      }
     },
     "3129e5dffcb6437e96969d025b10ab6b": {
      "model_module": "@jupyter-widgets/controls",
      "model_module_version": "1.0.0",
      "model_name": "ToggleButtonsStyleModel",
      "state": {
       "button_width": "",
       "description_width": ""
      }
     },
     "3139d25cb43c4f59a3b7fd0857bb9d1e": {
      "model_module": "@jupyter-widgets/controls",
      "model_module_version": "1.0.0",
      "model_name": "DescriptionStyleModel",
      "state": {
       "description_width": ""
      }
     },
     "3154e480e75447dbb870692bda87669a": {
      "model_module": "@jupyter-widgets/controls",
      "model_module_version": "1.0.0",
      "model_name": "DescriptionStyleModel",
      "state": {
       "description_width": ""
      }
     },
     "3163067b5208448bb932d083e1194abe": {
      "model_module": "@jupyter-widgets/controls",
      "model_module_version": "1.0.0",
      "model_name": "IntSliderModel",
      "state": {
       "description": "Step:",
       "layout": "IPY_MODEL_75db869888fe4a6f92787769080a8431",
       "max": 199,
       "style": "IPY_MODEL_a69daacef8be4e6d88478f7d1cf4fc65"
      }
     },
     "31d8a041d0864c40bd3a8a79600241bb": {
      "model_module": "@jupyter-widgets/controls",
      "model_module_version": "1.0.0",
      "model_name": "LabelModel",
      "state": {
       "layout": "IPY_MODEL_ab942ff857da4c8ab1315067cfce6488",
       "style": "IPY_MODEL_e529f10151e94ca29ed874cf936b955d",
       "value": "Количество шагов по $x$:"
      }
     },
     "31e79a567e91413a841acc999b8fcb44": {
      "model_module": "@jupyter-widgets/controls",
      "model_module_version": "1.0.0",
      "model_name": "LabelModel",
      "state": {
       "layout": "IPY_MODEL_1a9b87d5c3864386938d127fecbad22d",
       "style": "IPY_MODEL_aa582132d1e340fbafed4b53a5bdd077"
      }
     },
     "31faefa0011d49b5b8fda4dda2d917db": {
      "model_module": "@jupyter-widgets/base",
      "model_module_version": "1.0.0",
      "model_name": "LayoutModel",
      "state": {}
     },
     "320a627f65ad42b6ab66f1035e242aac": {
      "model_module": "@jupyter-widgets/controls",
      "model_module_version": "1.0.0",
      "model_name": "LabelModel",
      "state": {
       "layout": "IPY_MODEL_184b4e42e97342aa897bce001d752599",
       "style": "IPY_MODEL_f24056ef9bc64b6b90cb764138df5a0a",
       "value": "Время симуляции:"
      }
     },
     "322767d3c0a14afc98aa8ea8fe40c03e": {
      "model_module": "@jupyter-widgets/base",
      "model_module_version": "1.0.0",
      "model_name": "LayoutModel",
      "state": {}
     },
     "323a917080de456eba04fbce603a9a61": {
      "model_module": "@jupyter-widgets/base",
      "model_module_version": "1.0.0",
      "model_name": "LayoutModel",
      "state": {}
     },
     "327fe23a0c7248ac89b677f11795fa2c": {
      "model_module": "@jupyter-widgets/controls",
      "model_module_version": "1.0.0",
      "model_name": "DescriptionStyleModel",
      "state": {
       "description_width": ""
      }
     },
     "3292637856c5404ab4c02cd82c3cdb3a": {
      "model_module": "@jupyter-widgets/controls",
      "model_module_version": "1.0.0",
      "model_name": "SliderStyleModel",
      "state": {
       "description_width": ""
      }
     },
     "32a5bb62346b43969c85b836f1ee596c": {
      "model_module": "@jupyter-widgets/controls",
      "model_module_version": "1.0.0",
      "model_name": "VBoxModel",
      "state": {
       "children": [
        "IPY_MODEL_70e942464fd441f6b8c70736bc18c7e4",
        "IPY_MODEL_f86fdd4009a44a9b8420a268914708d0"
       ],
       "layout": "IPY_MODEL_23855e0cbc27436f8ffe7863e8a6cc24"
      }
     },
     "32abfbdf15074b268e259cd953b0fcdd": {
      "model_module": "@jupyter-widgets/controls",
      "model_module_version": "1.0.0",
      "model_name": "DescriptionStyleModel",
      "state": {
       "description_width": ""
      }
     },
     "32fcd999c8d74d73a4c77a9522c28023": {
      "model_module": "@jupyter-widgets/controls",
      "model_module_version": "1.0.0",
      "model_name": "LabelModel",
      "state": {
       "layout": "IPY_MODEL_ead77f4da6174dc7a434996d5b756463",
       "style": "IPY_MODEL_0eca13e99a524f4a9b37e936cfaa3a7e",
       "value": "Time:0.0"
      }
     },
     "336ee174cf3b4ebaae066b5a0cb19e5a": {
      "model_module": "@jupyter-widgets/controls",
      "model_module_version": "1.0.0",
      "model_name": "HBoxModel",
      "state": {
       "children": [
        "IPY_MODEL_8242d33d15294247af61dd9346cfc819",
        "IPY_MODEL_4eeda501c5494e4a8d228b68a8ddbd4a"
       ],
       "layout": "IPY_MODEL_7dc2ad82f8d8440594b56c0cea4647e8"
      }
     },
     "338d5b6c5e0c47ea90ddad4d490f221f": {
      "model_module": "@jupyter-widgets/base",
      "model_module_version": "1.0.0",
      "model_name": "LayoutModel",
      "state": {}
     },
     "33a5e59d19414284800e7136fa8dfbe7": {
      "model_module": "@jupyter-widgets/controls",
      "model_module_version": "1.0.0",
      "model_name": "DescriptionStyleModel",
      "state": {
       "description_width": ""
      }
     },
     "33b212e932e74d2f976ec35d4b598f17": {
      "model_module": "@jupyter-widgets/base",
      "model_module_version": "1.0.0",
      "model_name": "LayoutModel",
      "state": {}
     },
     "33cff6e65b7f447ba9020ccd0de8147d": {
      "model_module": "@jupyter-widgets/controls",
      "model_module_version": "1.0.0",
      "model_name": "HBoxModel",
      "state": {
       "children": [
        "IPY_MODEL_cd103794ad0841b292d93250db026714",
        "IPY_MODEL_6d1c3c7fcbc64476bc0e9422dc82a02f"
       ],
       "layout": "IPY_MODEL_9fd047fdf7444487bb1938f94ea90201"
      }
     },
     "33d4f78d672c4840b64ea69afcea35e9": {
      "model_module": "@jupyter-widgets/base",
      "model_module_version": "1.0.0",
      "model_name": "LayoutModel",
      "state": {}
     },
     "33dda43904394428a447fabcf68cd82c": {
      "model_module": "@jupyter-widgets/controls",
      "model_module_version": "1.0.0",
      "model_name": "SliderStyleModel",
      "state": {
       "description_width": ""
      }
     },
     "3416cff0995e420cb6f532807b961872": {
      "model_module": "@jupyter-widgets/controls",
      "model_module_version": "1.0.0",
      "model_name": "IntSliderModel",
      "state": {
       "description": "Step:",
       "layout": "IPY_MODEL_b90050f2ab5a4bcbb9a8ee6b1f5a2bb9",
       "max": 199,
       "style": "IPY_MODEL_fb89eeeb673c4f068200b235e4ef46c3",
       "value": 7
      }
     },
     "3440e096a908431b91241c889c62e3fc": {
      "model_module": "@jupyter-widgets/base",
      "model_module_version": "1.0.0",
      "model_name": "LayoutModel",
      "state": {}
     },
     "347552f8b8f741819431a15f2ce2f66a": {
      "model_module": "@jupyter-widgets/controls",
      "model_module_version": "1.0.0",
      "model_name": "HBoxModel",
      "state": {
       "children": [
        "IPY_MODEL_0dc11ff562f7451f95b29fa0ff6c930d",
        "IPY_MODEL_d8527c645ea0489090e2251b0ced5eb0"
       ],
       "layout": "IPY_MODEL_9e3c6e48e393415eaec30973a58ebebc"
      }
     },
     "348c5f11c678409e9cfc0f6f4fa95f7e": {
      "model_module": "@jupyter-widgets/controls",
      "model_module_version": "1.0.0",
      "model_name": "SliderStyleModel",
      "state": {
       "description_width": ""
      }
     },
     "348c7958876e41cbb70120f97441328b": {
      "model_module": "@jupyter-widgets/base",
      "model_module_version": "1.0.0",
      "model_name": "LayoutModel",
      "state": {}
     },
     "349ea930a8da4fcc9ad49dab109d7b10": {
      "model_module": "@jupyter-widgets/controls",
      "model_module_version": "1.0.0",
      "model_name": "DescriptionStyleModel",
      "state": {
       "description_width": ""
      }
     },
     "34bcf68be5794bd7abcba9b73bc441f5": {
      "model_module": "@jupyter-widgets/base",
      "model_module_version": "1.0.0",
      "model_name": "LayoutModel",
      "state": {}
     },
     "34fdf0ddef9a4baba17f7906a2ee5463": {
      "model_module": "@jupyter-widgets/base",
      "model_module_version": "1.0.0",
      "model_name": "LayoutModel",
      "state": {}
     },
     "34feba7f0d684876b51ae8f4ea874c34": {
      "model_module": "@jupyter-widgets/controls",
      "model_module_version": "1.0.0",
      "model_name": "HBoxModel",
      "state": {
       "children": [
        "IPY_MODEL_09ca24928bf0494f8b948137205fd68f",
        "IPY_MODEL_16b56735835b417c82a6abb256a4f3aa"
       ],
       "layout": "IPY_MODEL_d4cfa32e663a4ca78cc555c26d8a509f"
      }
     },
     "3504b7af891e466f8c94ed461ad56c29": {
      "model_module": "@jupyter-widgets/controls",
      "model_module_version": "1.0.0",
      "model_name": "DescriptionStyleModel",
      "state": {
       "description_width": ""
      }
     },
     "3541104dd4a6411695c109d4a80a8b06": {
      "model_module": "@jupyter-widgets/controls",
      "model_module_version": "1.0.0",
      "model_name": "BoundedFloatTextModel",
      "state": {
       "layout": "IPY_MODEL_59e3d92403264afeb6c2157f6b4f965f",
       "step": 0.01,
       "style": "IPY_MODEL_feb7a6acfb364fd8ab20f570208d1222",
       "value": 1
      }
     },
     "355f98c28e1d40aca9011d66828f6673": {
      "model_module": "@jupyter-widgets/controls",
      "model_module_version": "1.0.0",
      "model_name": "DescriptionStyleModel",
      "state": {
       "description_width": ""
      }
     },
     "357bbe43396144f28df08ce38f217177": {
      "model_module": "@jupyter-widgets/controls",
      "model_module_version": "1.0.0",
      "model_name": "FloatSliderModel",
      "state": {
       "layout": "IPY_MODEL_a366420713cf464a9f049ecbb1be4f46",
       "max": 20,
       "min": 0.1,
       "readout_format": "f",
       "step": 0.1,
       "style": "IPY_MODEL_0a4472be8f0c4e8a95fe242d6594d5e9",
       "value": 3
      }
     },
     "35922f1f42d94b8c9dc84233861a0d6c": {
      "model_module": "@jupyter-widgets/base",
      "model_module_version": "1.0.0",
      "model_name": "LayoutModel",
      "state": {}
     },
     "35a5e6a9f4c14fd6a218ec23153adce1": {
      "model_module": "@jupyter-widgets/controls",
      "model_module_version": "1.0.0",
      "model_name": "IntSliderModel",
      "state": {
       "description": "Step:",
       "layout": "IPY_MODEL_a6ea5ab76a50440d95550d2503e43c27",
       "max": 199,
       "style": "IPY_MODEL_e746a448f0114fc4aae18a53c75ef9d1",
       "value": 7
      }
     },
     "35cbe0015d89411781cb5c428bd359f9": {
      "model_module": "@jupyter-widgets/base",
      "model_module_version": "1.0.0",
      "model_name": "LayoutModel",
      "state": {}
     },
     "35f39cf96a37419fa2ac93795534be56": {
      "model_module": "@jupyter-widgets/controls",
      "model_module_version": "1.0.0",
      "model_name": "LabelModel",
      "state": {
       "layout": "IPY_MODEL_23655527aa764267a3979acb2d855368",
       "style": "IPY_MODEL_6d428b33cdca49a592d6a2f8b6a501c6"
      }
     },
     "35f7bb3767f84b26a86f19be3ea0d1da": {
      "model_module": "@jupyter-widgets/controls",
      "model_module_version": "1.0.0",
      "model_name": "LabelModel",
      "state": {
       "layout": "IPY_MODEL_ceabdc27f45b497e86c24e23568d2caa",
       "style": "IPY_MODEL_081e0f96b6e9400ab4b005fb0fc6fa5f"
      }
     },
     "35fbcd5af62440c49c5dd8b06c4eb57d": {
      "model_module": "@jupyter-widgets/controls",
      "model_module_version": "1.0.0",
      "model_name": "DescriptionStyleModel",
      "state": {
       "description_width": ""
      }
     },
     "3689c83fb40e458fb8741762cb4d4d30": {
      "model_module": "@jupyter-widgets/controls",
      "model_module_version": "1.0.0",
      "model_name": "HBoxModel",
      "state": {
       "children": [
        "IPY_MODEL_a92c86db9b9f4ae3bed6599730f7a7b7",
        "IPY_MODEL_58574ead8fa44138b31b640f9f2e9a73"
       ],
       "layout": "IPY_MODEL_2992f22fa9a44f80841ae2cdcf2b5edb"
      }
     },
     "36a6f27d814d40d99360e2a66e6476a5": {
      "model_module": "@jupyter-widgets/controls",
      "model_module_version": "1.0.0",
      "model_name": "LabelModel",
      "state": {
       "layout": "IPY_MODEL_5176ede363504020bce7540b5c6f2332",
       "style": "IPY_MODEL_65641da7034745ffa733025796ebad4b",
       "value": "$\\large a$ -амплитуда импульса"
      }
     },
     "36b4258e0215492da8ba9f253444cd5b": {
      "model_module": "@jupyter-widgets/base",
      "model_module_version": "1.0.0",
      "model_name": "LayoutModel",
      "state": {}
     },
     "36ddc9694af34d70935d159c96c9d2af": {
      "model_module": "@jupyter-widgets/base",
      "model_module_version": "1.0.0",
      "model_name": "LayoutModel",
      "state": {}
     },
     "36f6dd9fede540dfbb00c3f69797de56": {
      "model_module": "@jupyter-widgets/base",
      "model_module_version": "1.0.0",
      "model_name": "LayoutModel",
      "state": {}
     },
     "3702133004f94ff691551f79a2ecb1a6": {
      "model_module": "@jupyter-widgets/base",
      "model_module_version": "1.0.0",
      "model_name": "LayoutModel",
      "state": {}
     },
     "371161e7aae645c186ce9a5d943904fd": {
      "model_module": "@jupyter-widgets/controls",
      "model_module_version": "1.0.0",
      "model_name": "LabelModel",
      "state": {
       "layout": "IPY_MODEL_87d4fd479e3044c58a26d4850be4c4c9",
       "style": "IPY_MODEL_e2c505a4d0b04136bbdf5726737778b5"
      }
     },
     "371972eba690438488e386111caf9cf5": {
      "model_module": "@jupyter-widgets/base",
      "model_module_version": "1.0.0",
      "model_name": "LayoutModel",
      "state": {}
     },
     "373497e18f16420ab08f16690b81a642": {
      "model_module": "@jupyter-widgets/controls",
      "model_module_version": "1.0.0",
      "model_name": "DescriptionStyleModel",
      "state": {
       "description_width": ""
      }
     },
     "373726a96d9a4c6c826e1a6f9d4acdf4": {
      "model_module": "@jupyter-widgets/controls",
      "model_module_version": "1.0.0",
      "model_name": "BoundedFloatTextModel",
      "state": {
       "continuous_update": true,
       "description": "Time:",
       "layout": "IPY_MODEL_19b54ca833a1499181dce3d02a88003b",
       "max": 1,
       "style": "IPY_MODEL_63e95b9bd0da436698359a785d9196c6",
       "value": 1
      }
     },
     "37393008ba034833b881a0f4d5e285d6": {
      "model_module": "@jupyter-widgets/controls",
      "model_module_version": "1.0.0",
      "model_name": "BoundedFloatTextModel",
      "state": {
       "layout": "IPY_MODEL_1c8218ca30974ec79cee34ad55a6cf94",
       "step": 0.01,
       "style": "IPY_MODEL_a559d3770b2c4ce1afd67f425b47b732",
       "value": 1
      }
     },
     "373bba69993240a49f7138b8d224ce23": {
      "model_module": "@jupyter-widgets/controls",
      "model_module_version": "1.0.0",
      "model_name": "SliderStyleModel",
      "state": {
       "description_width": ""
      }
     },
     "378abcb5456a440aa59f94140b726c3f": {
      "model_module": "@jupyter-widgets/controls",
      "model_module_version": "1.0.0",
      "model_name": "LabelModel",
      "state": {
       "layout": "IPY_MODEL_0ee04fd3543c46e0aa56829dcddb75ff",
       "style": "IPY_MODEL_35fbcd5af62440c49c5dd8b06c4eb57d",
       "value": "Время симуляции:"
      }
     },
     "37ddefc924f14c2ead1967460f3da342": {
      "model_module": "@jupyter-widgets/controls",
      "model_module_version": "1.0.0",
      "model_name": "FloatSliderModel",
      "state": {
       "layout": "IPY_MODEL_e080077cc5be40c0970648bc7b9fda32",
       "max": 20,
       "min": 0.1,
       "readout_format": "f",
       "step": 0.1,
       "style": "IPY_MODEL_0569ddabfbc0440e9c9a5740313a4dac",
       "value": 3
      }
     },
     "37eccc3e42e24c0f8135c8152fd6d785": {
      "model_module": "@jupyter-widgets/controls",
      "model_module_version": "1.0.0",
      "model_name": "DescriptionStyleModel",
      "state": {
       "description_width": ""
      }
     },
     "381fc759d6db43a59047570a7d5b0c57": {
      "model_module": "@jupyter-widgets/base",
      "model_module_version": "1.0.0",
      "model_name": "LayoutModel",
      "state": {}
     },
     "383b318c01a04b8d9157f34cd3c83a88": {
      "model_module": "@jupyter-widgets/controls",
      "model_module_version": "1.0.0",
      "model_name": "BoundedFloatTextModel",
      "state": {
       "continuous_update": true,
       "description": "Time:",
       "layout": "IPY_MODEL_04c800213d64456794e6a4389faa6284",
       "max": 1,
       "style": "IPY_MODEL_feb49490682b4631afa4407c4d99e3af",
       "value": 1
      }
     },
     "38431946381e4db48fedbc9252ecdf85": {
      "model_module": "@jupyter-widgets/controls",
      "model_module_version": "1.0.0",
      "model_name": "DescriptionStyleModel",
      "state": {
       "description_width": ""
      }
     },
     "3899531e631f405ea5b3ebfef62ef8eb": {
      "model_module": "@jupyter-widgets/base",
      "model_module_version": "1.0.0",
      "model_name": "LayoutModel",
      "state": {}
     },
     "389ef7c1d02547ad8a54985eb93ad13b": {
      "model_module": "@jupyter-widgets/base",
      "model_module_version": "1.0.0",
      "model_name": "LayoutModel",
      "state": {}
     },
     "38c89cde99f9404aaa5950132df54102": {
      "model_module": "@jupyter-widgets/controls",
      "model_module_version": "1.0.0",
      "model_name": "HBoxModel",
      "state": {
       "children": [
        "IPY_MODEL_2d155840c5ee40538565e85c811cce52",
        "IPY_MODEL_d8527c645ea0489090e2251b0ced5eb0"
       ],
       "layout": "IPY_MODEL_c47d81f4945d4618a7b797adb2517037"
      }
     },
     "3918eba0ad4b4e03b461d9a9da2f4684": {
      "model_module": "@jupyter-widgets/base",
      "model_module_version": "1.0.0",
      "model_name": "LayoutModel",
      "state": {}
     },
     "39194b76fb77496eb240ec34babcce3b": {
      "model_module": "@jupyter-widgets/base",
      "model_module_version": "1.0.0",
      "model_name": "LayoutModel",
      "state": {}
     },
     "396c2eee708e4a72bdf47c6347c9127a": {
      "model_module": "@jupyter-widgets/controls",
      "model_module_version": "1.0.0",
      "model_name": "LabelModel",
      "state": {
       "layout": "IPY_MODEL_d5894114845048779e465675626148ee",
       "style": "IPY_MODEL_eaf4b1c6b6a24ce88fbb05e029a10382",
       "value": "$\\large a$ -амплитуда импульса"
      }
     },
     "3972c5f0700c4183adf0315ceeee8269": {
      "model_module": "@jupyter-widgets/controls",
      "model_module_version": "1.0.0",
      "model_name": "DescriptionStyleModel",
      "state": {
       "description_width": ""
      }
     },
     "399c048a11b349c8a5f02a6842ec5e66": {
      "model_module": "@jupyter-widgets/base",
      "model_module_version": "1.0.0",
      "model_name": "LayoutModel",
      "state": {}
     },
     "39b69f84fbf54e6d98594d3de54cedd8": {
      "model_module": "@jupyter-widgets/base",
      "model_module_version": "1.0.0",
      "model_name": "LayoutModel",
      "state": {}
     },
     "39e9a3eca330471da316cb375b3196fe": {
      "model_module": "@jupyter-widgets/base",
      "model_module_version": "1.0.0",
      "model_name": "LayoutModel",
      "state": {}
     },
     "3a1c1739263543ce969f34ce12ac4f7a": {
      "model_module": "@jupyter-widgets/controls",
      "model_module_version": "1.0.0",
      "model_name": "LabelModel",
      "state": {
       "layout": "IPY_MODEL_91cf7ffcbff94ae8b529fdfdd624a478",
       "style": "IPY_MODEL_58f138ba68af4dd79725b0ce4079a234",
       "value": "Время симуляции:"
      }
     },
     "3a35991937c742fd96f13c73554afcfc": {
      "model_module": "@jupyter-widgets/controls",
      "model_module_version": "1.0.0",
      "model_name": "DescriptionStyleModel",
      "state": {
       "description_width": ""
      }
     },
     "3a59cd417823448181806a8463256c29": {
      "model_module": "@jupyter-widgets/controls",
      "model_module_version": "1.0.0",
      "model_name": "SliderStyleModel",
      "state": {
       "description_width": ""
      }
     },
     "3a7bbcd362f241268e1e85055a1686cb": {
      "model_module": "@jupyter-widgets/controls",
      "model_module_version": "1.0.0",
      "model_name": "LabelModel",
      "state": {
       "layout": "IPY_MODEL_bbdb7176dcfd4e859329ec5f9fe300c4",
       "style": "IPY_MODEL_3139d25cb43c4f59a3b7fd0857bb9d1e",
       "value": "$\\large T$ -сила натяжения струны"
      }
     },
     "3a88b30db1b64092a1d920b56cd989be": {
      "model_module": "@jupyter-widgets/base",
      "model_module_version": "1.0.0",
      "model_name": "LayoutModel",
      "state": {}
     },
     "3aa0312d7d5f4f418a425ee5940c5204": {
      "model_module": "@jupyter-widgets/base",
      "model_module_version": "1.0.0",
      "model_name": "LayoutModel",
      "state": {}
     },
     "3abb6b67687a48fdaa00d38966240d57": {
      "model_module": "@jupyter-widgets/base",
      "model_module_version": "1.0.0",
      "model_name": "LayoutModel",
      "state": {}
     },
     "3abc9474ecfb47468643e9527c31c100": {
      "model_module": "@jupyter-widgets/controls",
      "model_module_version": "1.0.0",
      "model_name": "LabelModel",
      "state": {
       "layout": "IPY_MODEL_8ffc379636c54751b6c2e806db85100f",
       "style": "IPY_MODEL_fda6156a7dc34abb80685f67bae53077",
       "value": "Точность:"
      }
     },
     "3acbba5b847749c3b18df3aeb735ecbb": {
      "model_module": "@jupyter-widgets/base",
      "model_module_version": "1.0.0",
      "model_name": "LayoutModel",
      "state": {}
     },
     "3ad0e7d1b0c14318a605e7e3094bbd53": {
      "model_module": "@jupyter-widgets/controls",
      "model_module_version": "1.0.0",
      "model_name": "HBoxModel",
      "state": {
       "children": [
        "IPY_MODEL_7ce0cad98dd24a97a66439f158bfa234",
        "IPY_MODEL_35f7bb3767f84b26a86f19be3ea0d1da"
       ],
       "layout": "IPY_MODEL_ee80dd9dce2b4639b3aacbd0d7d8d14b"
      }
     },
     "3afecb034edc421495ff09d422fe01b7": {
      "model_module": "@jupyter-widgets/controls",
      "model_module_version": "1.0.0",
      "model_name": "DescriptionStyleModel",
      "state": {
       "description_width": ""
      }
     },
     "3b07056a6d78455a8e9cd34f9565741b": {
      "model_module": "@jupyter-widgets/controls",
      "model_module_version": "1.0.0",
      "model_name": "DescriptionStyleModel",
      "state": {
       "description_width": ""
      }
     },
     "3b0bd26da7954667882769b5c72fec72": {
      "model_module": "@jupyter-widgets/base",
      "model_module_version": "1.0.0",
      "model_name": "LayoutModel",
      "state": {}
     },
     "3b199234cd754779bd74de00ebdb20a2": {
      "model_module": "@jupyter-widgets/base",
      "model_module_version": "1.0.0",
      "model_name": "LayoutModel",
      "state": {}
     },
     "3b1a5f24890e4ebe95508523a01f73ec": {
      "model_module": "@jupyter-widgets/controls",
      "model_module_version": "1.0.0",
      "model_name": "DescriptionStyleModel",
      "state": {
       "description_width": ""
      }
     },
     "3b1e6caa0984491283f93eda94b8f0a5": {
      "model_module": "@jupyter-widgets/controls",
      "model_module_version": "1.0.0",
      "model_name": "DescriptionStyleModel",
      "state": {
       "description_width": ""
      }
     },
     "3b2e53c307a349fa8573b07354167342": {
      "model_module": "@jupyter-widgets/controls",
      "model_module_version": "1.0.0",
      "model_name": "DescriptionStyleModel",
      "state": {
       "description_width": ""
      }
     },
     "3bb15bae15f44849959958495aac03a5": {
      "model_module": "@jupyter-widgets/base",
      "model_module_version": "1.0.0",
      "model_name": "LayoutModel",
      "state": {}
     },
     "3bf677366f044f6284fdc388c77b250b": {
      "model_module": "@jupyter-widgets/controls",
      "model_module_version": "1.0.0",
      "model_name": "VBoxModel",
      "state": {
       "children": [
        "IPY_MODEL_1478fdabde4345a6879f4016a39f7089",
        "IPY_MODEL_f4c8f3af4b4442be976bdfaef80da8d4"
       ],
       "layout": "IPY_MODEL_e02644318c9243cf861bd177a3997089"
      }
     },
     "3c056894f76a48ef8cbe36580d546487": {
      "model_module": "@jupyter-widgets/controls",
      "model_module_version": "1.0.0",
      "model_name": "LabelModel",
      "state": {
       "layout": "IPY_MODEL_9dc0b64d871e48a09c98fdea78b1422b",
       "style": "IPY_MODEL_f04c768aad4f48e7bc2135be495fca2a"
      }
     },
     "3c3fac049f57427bbcab2fcc2c60d267": {
      "model_module": "@jupyter-widgets/controls",
      "model_module_version": "1.0.0",
      "model_name": "ToggleButtonsModel",
      "state": {
       "_options_labels": [
        "Расчёт заданного числа шагов",
        "Расчёт с заданной точностью"
       ],
       "button_style": "",
       "description": "Режим работы:",
       "icons": [],
       "index": 0,
       "layout": "IPY_MODEL_3eb4e7cf08a8477db047cbb310108e3c",
       "style": "IPY_MODEL_f22ca006386f4556bcdb00d2f802974c",
       "tooltips": []
      }
     },
     "3c417e11ad5c45b2885adc7e86f17e75": {
      "model_module": "@jupyter-widgets/base",
      "model_module_version": "1.0.0",
      "model_name": "LayoutModel",
      "state": {}
     },
     "3c952814058944318bd01d973352a46c": {
      "model_module": "@jupyter-widgets/controls",
      "model_module_version": "1.0.0",
      "model_name": "DescriptionStyleModel",
      "state": {
       "description_width": ""
      }
     },
     "3cbb4c2b55554e4c814ef55880aebc8c": {
      "model_module": "@jupyter-widgets/controls",
      "model_module_version": "1.0.0",
      "model_name": "HBoxModel",
      "state": {
       "children": [
        "IPY_MODEL_1687f8ca4cb8422da2d77f8e7d8ddbe4",
        "IPY_MODEL_44f93350e9dc4762969594657d716dcd"
       ],
       "layout": "IPY_MODEL_531467a648a849faa56ca53476dcb096"
      }
     },
     "3cc30ccb4e9d4ec2a56770a1443b3203": {
      "model_module": "@jupyter-widgets/controls",
      "model_module_version": "1.0.0",
      "model_name": "DescriptionStyleModel",
      "state": {
       "description_width": ""
      }
     },
     "3ceb19cc6c5c4d489b10c3f1e2566355": {
      "model_module": "@jupyter-widgets/controls",
      "model_module_version": "1.0.0",
      "model_name": "LabelModel",
      "state": {
       "layout": "IPY_MODEL_fd13640ea575407da4014c7167cb8dd0",
       "style": "IPY_MODEL_b4fe1963f9d249328c49ebc38e291313",
       "value": "Точность:"
      }
     },
     "3cee62ffb3d24158992b7afdf6c34eab": {
      "model_module": "@jupyter-widgets/controls",
      "model_module_version": "1.0.0",
      "model_name": "BoundedFloatTextModel",
      "state": {
       "layout": "IPY_MODEL_79bf4e55832e435db87fd269b9e39fae",
       "step": 0.01,
       "style": "IPY_MODEL_810b742825034858b9599092fa7b5b16",
       "value": 1
      }
     },
     "3cff1ac26f0d4686aaeba21785731395": {
      "model_module": "@jupyter-widgets/base",
      "model_module_version": "1.0.0",
      "model_name": "LayoutModel",
      "state": {}
     },
     "3d0c891a9ee449bdb00858a82c674f5a": {
      "model_module": "@jupyter-widgets/controls",
      "model_module_version": "1.0.0",
      "model_name": "SliderStyleModel",
      "state": {
       "description_width": ""
      }
     },
     "3d69c25b2dbe4c7bb47b9c2e6fc90009": {
      "model_module": "@jupyter-widgets/controls",
      "model_module_version": "1.0.0",
      "model_name": "HBoxModel",
      "state": {
       "children": [
        "IPY_MODEL_e303042cce6e46aebe14437482859dc8",
        "IPY_MODEL_3c056894f76a48ef8cbe36580d546487"
       ],
       "layout": "IPY_MODEL_8ee69964afd04a259cfcdaf65520d1e3"
      }
     },
     "3dcfac1d23e54d8881af34d69019cfa1": {
      "model_module": "@jupyter-widgets/base",
      "model_module_version": "1.0.0",
      "model_name": "LayoutModel",
      "state": {}
     },
     "3e36e0c81d494289b3bdf7c5fdedea77": {
      "model_module": "@jupyter-widgets/controls",
      "model_module_version": "1.0.0",
      "model_name": "LabelModel",
      "state": {
       "layout": "IPY_MODEL_28c3ef2c1adc4c43843a05da3573b3b4",
       "style": "IPY_MODEL_3154e480e75447dbb870692bda87669a",
       "value": "Time:0.522613065327"
      }
     },
     "3e5e83581807483485fd82a9a6186ec7": {
      "model_module": "@jupyter-widgets/base",
      "model_module_version": "1.0.0",
      "model_name": "LayoutModel",
      "state": {}
     },
     "3e7bc0ff0691434cb6f6b3c19f795e32": {
      "model_module": "@jupyter-widgets/controls",
      "model_module_version": "1.0.0",
      "model_name": "BoundedFloatTextModel",
      "state": {
       "continuous_update": true,
       "description": "Time:",
       "layout": "IPY_MODEL_969438244a1a44709344ecf397bd4e9f",
       "max": 1,
       "style": "IPY_MODEL_7b1be81e94cf411ab64cafcd7e2b6fb7"
      }
     },
     "3eb4e7cf08a8477db047cbb310108e3c": {
      "model_module": "@jupyter-widgets/base",
      "model_module_version": "1.0.0",
      "model_name": "LayoutModel",
      "state": {}
     },
     "3f033a6cf9634cf195c28bc6a350e97f": {
      "model_module": "@jupyter-widgets/base",
      "model_module_version": "1.0.0",
      "model_name": "LayoutModel",
      "state": {}
     },
     "3f0e243be93d4690a310f6ba779108b0": {
      "model_module": "@jupyter-widgets/base",
      "model_module_version": "1.0.0",
      "model_name": "LayoutModel",
      "state": {}
     },
     "3f15fd078f4a413eb8598c1dfb8a6732": {
      "model_module": "@jupyter-widgets/controls",
      "model_module_version": "1.0.0",
      "model_name": "VBoxModel",
      "state": {
       "children": [
        "IPY_MODEL_7183a2dc4ef04c768f547f56da787a61",
        "IPY_MODEL_87d22d28a6f44bd490375df8bbbca696"
       ],
       "layout": "IPY_MODEL_528c042be21e4b3cb36732ac46f7f17b"
      }
     },
     "3f47eda656dc4754ba359bbb20ee53f8": {
      "model_module": "@jupyter-widgets/base",
      "model_module_version": "1.0.0",
      "model_name": "LayoutModel",
      "state": {}
     },
     "3f560608f7dd457fa1c55765d4c85230": {
      "model_module": "@jupyter-widgets/controls",
      "model_module_version": "1.0.0",
      "model_name": "BoundedFloatTextModel",
      "state": {
       "continuous_update": true,
       "description": "Time:",
       "layout": "IPY_MODEL_cbc301fee6944b7da93b492a6bd85b7f",
       "max": 1,
       "style": "IPY_MODEL_e20f209e7d344d6cbcded59e4dc94ffd",
       "value": 1
      }
     },
     "3f8a79849ecb46dc8c684a0b3bcddde9": {
      "model_module": "@jupyter-widgets/base",
      "model_module_version": "1.0.0",
      "model_name": "LayoutModel",
      "state": {}
     },
     "3f931f284c3841b1b698cfc70c884244": {
      "model_module": "@jupyter-widgets/controls",
      "model_module_version": "1.0.0",
      "model_name": "HBoxModel",
      "state": {
       "children": [
        "IPY_MODEL_de2eb7a72e1146b287740cd45c6294d1",
        "IPY_MODEL_9613e963de014bec9cccb21033b4611c"
       ],
       "layout": "IPY_MODEL_be59f7e719394332a7c6b3b7a1e885a8"
      }
     },
     "3f986c89440b454baf0c9b3ed1a3f9ed": {
      "model_module": "@jupyter-widgets/controls",
      "model_module_version": "1.0.0",
      "model_name": "HBoxModel",
      "state": {
       "children": [
        "IPY_MODEL_588869e2ac8449dd979a840b02cf4537",
        "IPY_MODEL_8fcd8cfa4fdc435c9ae087974806b585"
       ],
       "layout": "IPY_MODEL_debfd5bb100a47b1bf411d9c97fbb6e0"
      }
     },
     "3fac642784ff448f9357f8e95f6b4d4e": {
      "model_module": "@jupyter-widgets/base",
      "model_module_version": "1.0.0",
      "model_name": "LayoutModel",
      "state": {}
     },
     "401c4601461241078b8d642a0b91774a": {
      "model_module": "@jupyter-widgets/controls",
      "model_module_version": "1.0.0",
      "model_name": "VBoxModel",
      "state": {
       "children": [
        "IPY_MODEL_2a1065251c7f467691d76ab397b9f0b6",
        "IPY_MODEL_e380bfacf7fc430d91a122e95248a56c",
        "IPY_MODEL_75f6b35de1bd4e6187cda3f492d11443",
        "IPY_MODEL_91679f96b9a5449d8fb9d03268c1af11",
        "IPY_MODEL_9a9bc27dea104381aafbe5cae5b7d301",
        "IPY_MODEL_69b0a66447ae4920bc90f71951caf3ff"
       ],
       "layout": "IPY_MODEL_932b2a7daa7544088413760ecf4f0e7d"
      }
     },
     "403645caf5a143f686747f7aa4762197": {
      "model_module": "@jupyter-widgets/controls",
      "model_module_version": "1.0.0",
      "model_name": "LabelModel",
      "state": {
       "layout": "IPY_MODEL_7402719f016e4baa9078cbbca77ba370",
       "style": "IPY_MODEL_05b86ed056a549e9bff168559cb23960"
      }
     },
     "405a64412c8341ffb7a032f5cbeb62c9": {
      "model_module": "@jupyter-widgets/controls",
      "model_module_version": "1.0.0",
      "model_name": "BoundedIntTextModel",
      "state": {
       "layout": "IPY_MODEL_33b212e932e74d2f976ec35d4b598f17",
       "max": 1000,
       "min": 50,
       "step": 100,
       "style": "IPY_MODEL_2bcb06e5f310410ba462e00feea3e0fb",
       "value": 100
      }
     },
     "4078d903fc504a2c9f51a5a14af959a1": {
      "model_module": "@jupyter-widgets/controls",
      "model_module_version": "1.0.0",
      "model_name": "DescriptionStyleModel",
      "state": {
       "description_width": ""
      }
     },
     "4098287d28ae440fbbcdd406f8488e4d": {
      "model_module": "@jupyter-widgets/controls",
      "model_module_version": "1.0.0",
      "model_name": "LabelModel",
      "state": {
       "layout": "IPY_MODEL_b086e142615547ffb6c820f746a1a72b",
       "style": "IPY_MODEL_af791924eb2c4ef5aee227958a667bd2",
       "value": "Параметр $\\sigma$ неявной схемы:"
      }
     },
     "40ccb55fa1054b959da483cf2eb96fe8": {
      "model_module": "@jupyter-widgets/controls",
      "model_module_version": "1.0.0",
      "model_name": "DescriptionStyleModel",
      "state": {
       "description_width": ""
      }
     },
     "40e0e91192064cb996c854aadc2a073a": {
      "model_module": "@jupyter-widgets/base",
      "model_module_version": "1.0.0",
      "model_name": "LayoutModel",
      "state": {}
     },
     "40f39336c6904c3e8de0045acbc19b63": {
      "model_module": "@jupyter-widgets/base",
      "model_module_version": "1.0.0",
      "model_name": "LayoutModel",
      "state": {}
     },
     "4102de37f10b4ad28cb595237129804d": {
      "model_module": "@jupyter-widgets/controls",
      "model_module_version": "1.0.0",
      "model_name": "HBoxModel",
      "state": {
       "children": [
        "IPY_MODEL_3416cff0995e420cb6f532807b961872",
        "IPY_MODEL_31e79a567e91413a841acc999b8fcb44"
       ],
       "layout": "IPY_MODEL_0502176632be4c22bcccf7f3c9c3e394"
      }
     },
     "410c8bc8fe704b8babe005b0b104432e": {
      "model_module": "@jupyter-widgets/base",
      "model_module_version": "1.0.0",
      "model_name": "LayoutModel",
      "state": {}
     },
     "4162bee3e8194588811391d5ae7bfc0c": {
      "model_module": "@jupyter-widgets/base",
      "model_module_version": "1.0.0",
      "model_name": "LayoutModel",
      "state": {}
     },
     "41728e67ee1d4a4bbcdc96addea46973": {
      "model_module": "@jupyter-widgets/controls",
      "model_module_version": "1.0.0",
      "model_name": "DescriptionStyleModel",
      "state": {
       "description_width": ""
      }
     },
     "417bacb5ec23497f918ce569cfe7bf8f": {
      "model_module": "@jupyter-widgets/base",
      "model_module_version": "1.0.0",
      "model_name": "LayoutModel",
      "state": {}
     },
     "4181eafeca7c4dfca18c4da42067ff99": {
      "model_module": "@jupyter-widgets/controls",
      "model_module_version": "1.0.0",
      "model_name": "DescriptionStyleModel",
      "state": {
       "description_width": ""
      }
     },
     "41860c3895bb4ff7b148d73b769af298": {
      "model_module": "@jupyter-widgets/base",
      "model_module_version": "1.0.0",
      "model_name": "LayoutModel",
      "state": {}
     },
     "41c98f69c6e44988b3b1e11c9f7bdb59": {
      "model_module": "@jupyter-widgets/controls",
      "model_module_version": "1.0.0",
      "model_name": "DescriptionStyleModel",
      "state": {
       "description_width": ""
      }
     },
     "41dd7d5ac1534e50a9f6ddc25c524882": {
      "model_module": "@jupyter-widgets/controls",
      "model_module_version": "1.0.0",
      "model_name": "LabelModel",
      "state": {
       "layout": "IPY_MODEL_fe95341dfff74953b71f5634fd1d695f",
       "style": "IPY_MODEL_cd327d73cd19462ca212363df5df5a4f",
       "value": "Длительность анимации"
      }
     },
     "42196688b4e145c1ac06845c2eb03944": {
      "model_module": "@jupyter-widgets/controls",
      "model_module_version": "1.0.0",
      "model_name": "LabelModel",
      "state": {
       "layout": "IPY_MODEL_a136cd39c1f848169347c56194d9587f",
       "style": "IPY_MODEL_2cced92a5fdd4d02a37db29c3ca43bc3",
       "value": "Длительность анимации"
      }
     },
     "428ed7dbedda4945b4d40725150c697c": {
      "model_module": "@jupyter-widgets/controls",
      "model_module_version": "1.0.0",
      "model_name": "IntSliderModel",
      "state": {
       "description": "Step:",
       "layout": "IPY_MODEL_39b69f84fbf54e6d98594d3de54cedd8",
       "max": 199,
       "style": "IPY_MODEL_6c42e64ec6df424da47934b386194229",
       "value": 7
      }
     },
     "42c40e4b4c2c4d49b46756a6eb981dac": {
      "model_module": "@jupyter-widgets/base",
      "model_module_version": "1.0.0",
      "model_name": "LayoutModel",
      "state": {}
     },
     "42ece8d8258f4855b5b8cfd98884feee": {
      "model_module": "@jupyter-widgets/base",
      "model_module_version": "1.0.0",
      "model_name": "LayoutModel",
      "state": {}
     },
     "4304f03c00084cbaa53f49334fb439ab": {
      "model_module": "@jupyter-widgets/controls",
      "model_module_version": "1.0.0",
      "model_name": "LabelModel",
      "state": {
       "layout": "IPY_MODEL_a057162651fa4957b88fa6ab040d1e3c",
       "style": "IPY_MODEL_0d1f5a7a832147599389de23353fd6d4",
       "value": "$\\large t$ -характерное время нарастания/спадания импульса"
      }
     },
     "4320639bdd374fc58858320edde1e02e": {
      "model_module": "@jupyter-widgets/controls",
      "model_module_version": "1.0.0",
      "model_name": "DescriptionStyleModel",
      "state": {
       "description_width": ""
      }
     },
     "433c5e47190e47928f4c50d426fe01ea": {
      "model_module": "@jupyter-widgets/controls",
      "model_module_version": "1.0.0",
      "model_name": "HBoxModel",
      "state": {
       "children": [
        "IPY_MODEL_e928802d750f4a6d98628967357cd166",
        "IPY_MODEL_634b21f1b15b416aba530183b756150d"
       ],
       "layout": "IPY_MODEL_54267479db82433a961ea59ad0e52a23"
      }
     },
     "4369da7dc5984d12ac844d4ccb70340a": {
      "model_module": "@jupyter-widgets/controls",
      "model_module_version": "1.0.0",
      "model_name": "HBoxModel",
      "state": {
       "children": [
        "IPY_MODEL_3e7bc0ff0691434cb6f6b3c19f795e32",
        "IPY_MODEL_cf15d942892b4890b27b0a86cafc96ba"
       ],
       "layout": "IPY_MODEL_2df9a8bc0cc34f459c4f11fc9ed23dd7"
      }
     },
     "4395ac4ebe3c48ecb87d0de02c0b0afc": {
      "model_module": "@jupyter-widgets/base",
      "model_module_version": "1.0.0",
      "model_name": "LayoutModel",
      "state": {}
     },
     "4396db829a634804ad119f8f2fe0e2f2": {
      "model_module": "@jupyter-widgets/base",
      "model_module_version": "1.0.0",
      "model_name": "LayoutModel",
      "state": {}
     },
     "43a3fee4c23644399f2e441bc2a075b4": {
      "model_module": "@jupyter-widgets/base",
      "model_module_version": "1.0.0",
      "model_name": "LayoutModel",
      "state": {}
     },
     "43c2ba67893f4175831166d17cba40ab": {
      "model_module": "@jupyter-widgets/base",
      "model_module_version": "1.0.0",
      "model_name": "LayoutModel",
      "state": {}
     },
     "43ebb86c20004bd1890b45d8d45aed4c": {
      "model_module": "@jupyter-widgets/base",
      "model_module_version": "1.0.0",
      "model_name": "LayoutModel",
      "state": {}
     },
     "43ff026690a34b17abdf7fee5c135800": {
      "model_module": "@jupyter-widgets/base",
      "model_module_version": "1.0.0",
      "model_name": "LayoutModel",
      "state": {}
     },
     "441449616872495c845e0e5325ba3735": {
      "model_module": "@jupyter-widgets/base",
      "model_module_version": "1.0.0",
      "model_name": "LayoutModel",
      "state": {}
     },
     "4415558fec1741e29c5d999f05e071a0": {
      "model_module": "@jupyter-widgets/controls",
      "model_module_version": "1.0.0",
      "model_name": "DescriptionStyleModel",
      "state": {
       "description_width": ""
      }
     },
     "443ce2ddb5004a41b3f4a93918d8433b": {
      "model_module": "@jupyter-widgets/controls",
      "model_module_version": "1.0.0",
      "model_name": "DescriptionStyleModel",
      "state": {
       "description_width": ""
      }
     },
     "445a1e9fd19b491ba774403b4ebef359": {
      "model_module": "@jupyter-widgets/base",
      "model_module_version": "1.0.0",
      "model_name": "LayoutModel",
      "state": {}
     },
     "447acfcb8af74662b93827ae7fc443f8": {
      "model_module": "@jupyter-widgets/controls",
      "model_module_version": "1.0.0",
      "model_name": "HBoxModel",
      "state": {
       "children": [
        "IPY_MODEL_c46d89b98d1544609044019a2a0c1b4b",
        "IPY_MODEL_789a5aa108c34670a817dbbd310d51b4"
       ],
       "layout": "IPY_MODEL_4741783c6f324844aaeecda95ae358f4"
      }
     },
     "44a1697e50aa4ed5b35bb723a19625f1": {
      "model_module": "@jupyter-widgets/controls",
      "model_module_version": "1.0.0",
      "model_name": "VBoxModel",
      "state": {
       "children": [
        "IPY_MODEL_e25e52e9ae984f4e919a5f2594c4f04a",
        "IPY_MODEL_a7073099996f45dda5b401dea4a613ef"
       ],
       "layout": "IPY_MODEL_07bdeab5a53f41459627366e335454aa"
      }
     },
     "44f93350e9dc4762969594657d716dcd": {
      "model_module": "@jupyter-widgets/controls",
      "model_module_version": "1.0.0",
      "model_name": "BoundedFloatTextModel",
      "state": {
       "layout": "IPY_MODEL_8e17d00c2fc3439bb2b99f50c76e20cb",
       "step": 0.01,
       "style": "IPY_MODEL_56bada87da354bccac5f2e13f4c1afbc",
       "value": 1
      }
     },
     "4533e3a9ed504fd5b58cb8833e2c17fc": {
      "model_module": "@jupyter-widgets/controls",
      "model_module_version": "1.0.0",
      "model_name": "FloatSliderModel",
      "state": {
       "layout": "IPY_MODEL_bc674bb14a0e4533a306d8b1aab76b89",
       "max": 20,
       "min": 0.1,
       "readout_format": "f",
       "step": 0.1,
       "style": "IPY_MODEL_b1a9cb9b2953405a9eced00ef758826e",
       "value": 3
      }
     },
     "4558585b83534ca883cda5c39a3cf74e": {
      "model_module": "@jupyter-widgets/controls",
      "model_module_version": "1.0.0",
      "model_name": "DescriptionStyleModel",
      "state": {
       "description_width": ""
      }
     },
     "45764209275b4c3890fb103234d7677d": {
      "model_module": "@jupyter-widgets/controls",
      "model_module_version": "1.0.0",
      "model_name": "DescriptionStyleModel",
      "state": {
       "description_width": ""
      }
     },
     "45a4e99bc4ae4ae48a605e97d5db1646": {
      "model_module": "@jupyter-widgets/base",
      "model_module_version": "1.0.0",
      "model_name": "LayoutModel",
      "state": {}
     },
     "4606511eff074ce4967ca260ac685246": {
      "model_module": "@jupyter-widgets/controls",
      "model_module_version": "1.0.0",
      "model_name": "SliderStyleModel",
      "state": {
       "description_width": ""
      }
     },
     "466a3483378a468da5003624beccef0e": {
      "model_module": "@jupyter-widgets/base",
      "model_module_version": "1.0.0",
      "model_name": "LayoutModel",
      "state": {}
     },
     "4698f778a81445c8b2381e08c393ac86": {
      "model_module": "@jupyter-widgets/base",
      "model_module_version": "1.0.0",
      "model_name": "LayoutModel",
      "state": {}
     },
     "46a16860c4394c6da0069ff67dd75bdc": {
      "model_module": "@jupyter-widgets/controls",
      "model_module_version": "1.0.0",
      "model_name": "LabelModel",
      "state": {
       "layout": "IPY_MODEL_d2dbc7ba38824ae6adac157e59bfa2bc",
       "style": "IPY_MODEL_2f3e9849b9304ecea3021832995416e6"
      }
     },
     "46e922ecdd2445ebae3eeb9437062868": {
      "model_module": "@jupyter-widgets/controls",
      "model_module_version": "1.0.0",
      "model_name": "BoundedFloatTextModel",
      "state": {
       "layout": "IPY_MODEL_da306637aa31434eb5a319e5549ec7e5",
       "max": 0.5,
       "min": 0.25,
       "step": 0.01,
       "style": "IPY_MODEL_95d159dc611245bf9fc6b6d810ec7867",
       "value": 0.375
      }
     },
     "46ef6017663347f79a741ab64b6c92c1": {
      "model_module": "@jupyter-widgets/controls",
      "model_module_version": "1.0.0",
      "model_name": "BoundedFloatTextModel",
      "state": {
       "layout": "IPY_MODEL_1e451293dfc84eb3835bf0f832820b4f",
       "max": 0.5,
       "min": 0.25,
       "step": 0.01,
       "style": "IPY_MODEL_61a89a0694114cb09ad2cfe300c8f776",
       "value": 0.375
      }
     },
     "46efd24c6ddf433f83afe72adfcd8948": {
      "model_module": "@jupyter-widgets/base",
      "model_module_version": "1.0.0",
      "model_name": "LayoutModel",
      "state": {}
     },
     "46f5ffbec13c45a4bfe197bff0eb98f2": {
      "model_module": "@jupyter-widgets/base",
      "model_module_version": "1.0.0",
      "model_name": "LayoutModel",
      "state": {}
     },
     "46f78637386a4395938fddb1412bbad8": {
      "model_module": "@jupyter-widgets/controls",
      "model_module_version": "1.0.0",
      "model_name": "DescriptionStyleModel",
      "state": {
       "description_width": ""
      }
     },
     "4717d538567c4f4aa4652b3b71e8f2ac": {
      "model_module": "@jupyter-widgets/controls",
      "model_module_version": "1.0.0",
      "model_name": "HBoxModel",
      "state": {
       "children": [
        "IPY_MODEL_952398c7077141c19392afd7c21aa6b6",
        "IPY_MODEL_0a74646e50c94a578b5056f76b3f7581"
       ],
       "layout": "IPY_MODEL_cda2121cce724426ab8177365871301c"
      }
     },
     "4741783c6f324844aaeecda95ae358f4": {
      "model_module": "@jupyter-widgets/base",
      "model_module_version": "1.0.0",
      "model_name": "LayoutModel",
      "state": {}
     },
     "4745101dd8174d9ca669d0e73c66dc71": {
      "model_module": "@jupyter-widgets/controls",
      "model_module_version": "1.0.0",
      "model_name": "IntSliderModel",
      "state": {
       "description": "Step:",
       "layout": "IPY_MODEL_f25c06db494b4bf6b0bbb593a61c3404",
       "max": 199,
       "style": "IPY_MODEL_fff63ff0c1724b4c91963d1778b11f31",
       "value": 112
      }
     },
     "4757274ae2da40ea8d977b5390bbd372": {
      "model_module": "@jupyter-widgets/base",
      "model_module_version": "1.0.0",
      "model_name": "LayoutModel",
      "state": {}
     },
     "475bdd9888174774a0514104df08821a": {
      "model_module": "@jupyter-widgets/controls",
      "model_module_version": "1.0.0",
      "model_name": "LabelModel",
      "state": {
       "layout": "IPY_MODEL_7268874566e946acad200b09e2992826",
       "style": "IPY_MODEL_ebcf673efee84a47ab002d78d262f381",
       "value": "Количество шагов по $x$:"
      }
     },
     "4782656c27b64f7a8146fa5314ad2431": {
      "model_module": "@jupyter-widgets/base",
      "model_module_version": "1.0.0",
      "model_name": "LayoutModel",
      "state": {}
     },
     "478d3e9aa1264cef80f78fc66b352f1e": {
      "model_module": "@jupyter-widgets/controls",
      "model_module_version": "1.0.0",
      "model_name": "ToggleButtonsModel",
      "state": {
       "_options_labels": [
        "Расчёт заданного числа шагов",
        "Расчёт с заданной точностью"
       ],
       "button_style": "",
       "description": "Режим работы:",
       "icons": [],
       "index": 0,
       "layout": "IPY_MODEL_76108815a4994090b7c6c9a4789923f2",
       "style": "IPY_MODEL_263c999328d54780b9178a269712fd5a",
       "tooltips": []
      }
     },
     "47a072e972a64d8dafe6e883b625ecfc": {
      "model_module": "@jupyter-widgets/controls",
      "model_module_version": "1.0.0",
      "model_name": "BoundedFloatTextModel",
      "state": {
       "continuous_update": true,
       "description": "Time:",
       "layout": "IPY_MODEL_b19aa9a9a83a47129351d969b1167ca7",
       "max": 1,
       "style": "IPY_MODEL_ccc53274f8b843b3abb3bb04ee53f961"
      }
     },
     "47abd448afd549a4a0d49e83f3d14e9e": {
      "model_module": "@jupyter-widgets/controls",
      "model_module_version": "1.0.0",
      "model_name": "BoundedFloatTextModel",
      "state": {
       "layout": "IPY_MODEL_d9eef4fe8bac4dbd9d911645c658a515",
       "step": 0.01,
       "style": "IPY_MODEL_dcb5e45cdb3b4c0698f9700e21f3a706",
       "value": 1
      }
     },
     "47b55e169075493cae66808c97e6cb30": {
      "model_module": "@jupyter-widgets/controls",
      "model_module_version": "1.0.0",
      "model_name": "LabelModel",
      "state": {
       "layout": "IPY_MODEL_e08d578af24a414a8fed1520fbda5f99",
       "style": "IPY_MODEL_245649e7f8874ba892964fe290cf0dc0"
      }
     },
     "47c0b2b9b4804b0baade0c7390ca2fb9": {
      "model_module": "@jupyter-widgets/base",
      "model_module_version": "1.0.0",
      "model_name": "LayoutModel",
      "state": {}
     },
     "48d52c659f0c4187836b5739b2710894": {
      "model_module": "@jupyter-widgets/controls",
      "model_module_version": "1.0.0",
      "model_name": "DescriptionStyleModel",
      "state": {
       "description_width": ""
      }
     },
     "48e30d2694984c6c9ad4555fdf416df8": {
      "model_module": "@jupyter-widgets/controls",
      "model_module_version": "1.0.0",
      "model_name": "LabelModel",
      "state": {
       "layout": "IPY_MODEL_45a4e99bc4ae4ae48a605e97d5db1646",
       "style": "IPY_MODEL_b1d469e4d9144e8d9870553b8f3dca00",
       "value": "Точность:"
      }
     },
     "48f05bf3079f42389622bba6bedbaf7c": {
      "model_module": "@jupyter-widgets/controls",
      "model_module_version": "1.0.0",
      "model_name": "VBoxModel",
      "state": {
       "children": [
        "IPY_MODEL_3f931f284c3841b1b698cfc70c884244",
        "IPY_MODEL_5eb49e8021904c0285a1d9bd488014f6"
       ],
       "layout": "IPY_MODEL_3b199234cd754779bd74de00ebdb20a2"
      }
     },
     "48f4fd9a444b42948a13cefee2933310": {
      "model_module": "@jupyter-widgets/base",
      "model_module_version": "1.0.0",
      "model_name": "LayoutModel",
      "state": {}
     },
     "492bc8267a11431eb1ab4616ca359096": {
      "model_module": "@jupyter-widgets/controls",
      "model_module_version": "1.0.0",
      "model_name": "LabelModel",
      "state": {
       "layout": "IPY_MODEL_43ebb86c20004bd1890b45d8d45aed4c",
       "style": "IPY_MODEL_f237b5c44cd94ce9aba8365e2fbe477e"
      }
     },
     "4933f42471e1447e8e8373b17e80bedd": {
      "model_module": "@jupyter-widgets/controls",
      "model_module_version": "1.0.0",
      "model_name": "VBoxModel",
      "state": {
       "children": [
        "IPY_MODEL_7fd9981f07bc4c64bb6b7b09d2ef8301",
        "IPY_MODEL_1be97b6749654437a78a145761aa281d"
       ],
       "layout": "IPY_MODEL_1d4659e4df5a43eeb4d7100ab20212bb"
      }
     },
     "4966f4b64d9e4417aa5e5aada927b8af": {
      "model_module": "@jupyter-widgets/controls",
      "model_module_version": "1.0.0",
      "model_name": "LabelModel",
      "state": {
       "layout": "IPY_MODEL_22f216b7ac8b49bea1be0bc72638730c",
       "style": "IPY_MODEL_005eb658aefa49a3be74a032e71d02cb",
       "value": "$\\large t$ -характерное время нарастания/спадания импульса"
      }
     },
     "4978150bad62440c9490eb0bd69a1e9b": {
      "model_module": "@jupyter-widgets/controls",
      "model_module_version": "1.0.0",
      "model_name": "HBoxModel",
      "state": {
       "children": [
        "IPY_MODEL_96695e2db5474a7db952215aba655547",
        "IPY_MODEL_1cf7ffc776704a9fa81f362a8bf9bca7"
       ],
       "layout": "IPY_MODEL_f0f40c86de0e4c57b767b0fa3f8d519c"
      }
     },
     "498361daeacd43af9a488279a7e8ef9f": {
      "model_module": "@jupyter-widgets/controls",
      "model_module_version": "1.0.0",
      "model_name": "LabelModel",
      "state": {
       "layout": "IPY_MODEL_293ce4276ac745d4ad498138d0bc7b4f",
       "style": "IPY_MODEL_f0cbfaadf04a401ca782164b7fe4de5a",
       "value": "Время симуляции:"
      }
     },
     "498c87665d8f466599ec48a907cf2090": {
      "model_module": "@jupyter-widgets/controls",
      "model_module_version": "1.0.0",
      "model_name": "HBoxModel",
      "state": {
       "children": [
        "IPY_MODEL_d1481b55c0e34de3b1a447e017e6e04c",
        "IPY_MODEL_8daa30fe95524ba9b617c97cf507947c"
       ],
       "layout": "IPY_MODEL_af62628796fe4063b5d24f5470d1707b"
      }
     },
     "498d2f8e3aa24f319e438928a0dddc2c": {
      "model_module": "@jupyter-widgets/controls",
      "model_module_version": "1.0.0",
      "model_name": "DescriptionStyleModel",
      "state": {
       "description_width": ""
      }
     },
     "49a1c6efe4874e4981e30eaadb3b9de3": {
      "model_module": "@jupyter-widgets/base",
      "model_module_version": "1.0.0",
      "model_name": "LayoutModel",
      "state": {}
     },
     "49afb247c2fc498ab03dc263dfab240d": {
      "model_module": "@jupyter-widgets/base",
      "model_module_version": "1.0.0",
      "model_name": "LayoutModel",
      "state": {}
     },
     "49ba69203ee04d80add6fa5cddfa039e": {
      "model_module": "@jupyter-widgets/controls",
      "model_module_version": "1.0.0",
      "model_name": "DescriptionStyleModel",
      "state": {
       "description_width": ""
      }
     },
     "4a2824ef95b249a3b97cbd92d5583170": {
      "model_module": "@jupyter-widgets/base",
      "model_module_version": "1.0.0",
      "model_name": "LayoutModel",
      "state": {}
     },
     "4a37581b53e146f686dd936ee17da962": {
      "model_module": "@jupyter-widgets/controls",
      "model_module_version": "1.0.0",
      "model_name": "ToggleButtonsStyleModel",
      "state": {
       "button_width": "",
       "description_width": ""
      }
     },
     "4a96149b471044fabdba14ed7e766595": {
      "model_module": "@jupyter-widgets/controls",
      "model_module_version": "1.0.0",
      "model_name": "BoundedFloatTextModel",
      "state": {
       "continuous_update": true,
       "description": "Time:",
       "layout": "IPY_MODEL_4c8cd5e27cd64a1499d1aae4401b5d12",
       "max": 1,
       "style": "IPY_MODEL_2ecb462627264752af24257772ba244c",
       "value": 1
      }
     },
     "4aa6dd0c9ea94d9499a174cd9f06e382": {
      "model_module": "@jupyter-widgets/controls",
      "model_module_version": "1.0.0",
      "model_name": "DescriptionStyleModel",
      "state": {
       "description_width": ""
      }
     },
     "4aa6ef114c5b438bb863586368646960": {
      "model_module": "@jupyter-widgets/controls",
      "model_module_version": "1.0.0",
      "model_name": "LabelModel",
      "state": {
       "layout": "IPY_MODEL_7d596f2dd8aa466ebbb0a18f5494658f",
       "style": "IPY_MODEL_78bc60b8ca424d67916c50d55dc1e074",
       "value": "$\\large p_l$ -линейная плотность"
      }
     },
     "4ae395b6b52740b0a52122b417294e8d": {
      "model_module": "@jupyter-widgets/controls",
      "model_module_version": "1.0.0",
      "model_name": "BoundedIntTextModel",
      "state": {
       "layout": "IPY_MODEL_24daa4b7461c428d947e4ff981b74ad4",
       "max": 1000,
       "min": 50,
       "step": 100,
       "style": "IPY_MODEL_dce05101a12b469d8e20cd4e582ed701",
       "value": 100
      }
     },
     "4b1288d0cdcd41bb9e5d541d0eba531b": {
      "model_module": "@jupyter-widgets/base",
      "model_module_version": "1.0.0",
      "model_name": "LayoutModel",
      "state": {}
     },
     "4b12bc00843f426ea661c75d7b1f9eb5": {
      "model_module": "@jupyter-widgets/controls",
      "model_module_version": "1.0.0",
      "model_name": "DescriptionStyleModel",
      "state": {
       "description_width": ""
      }
     },
     "4b1f76ab40ec41c28cd78bd34467ae2e": {
      "model_module": "@jupyter-widgets/controls",
      "model_module_version": "1.0.0",
      "model_name": "DescriptionStyleModel",
      "state": {
       "description_width": ""
      }
     },
     "4b448c52b7094efc884e84b14a02cc95": {
      "model_module": "@jupyter-widgets/controls",
      "model_module_version": "1.0.0",
      "model_name": "LabelModel",
      "state": {
       "layout": "IPY_MODEL_43c2ba67893f4175831166d17cba40ab",
       "style": "IPY_MODEL_bb5fee4eacf640238d4f6d7b1fbfd623",
       "value": "Time:0.0"
      }
     },
     "4b5407bbd7704356971962f4824db4b1": {
      "model_module": "@jupyter-widgets/controls",
      "model_module_version": "1.0.0",
      "model_name": "DescriptionStyleModel",
      "state": {
       "description_width": ""
      }
     },
     "4ba46c62da4746c092f6f5c01acb26cf": {
      "model_module": "@jupyter-widgets/controls",
      "model_module_version": "1.0.0",
      "model_name": "DescriptionStyleModel",
      "state": {
       "description_width": ""
      }
     },
     "4bdc0570e4ff4fd8b42c647971f8940d": {
      "model_module": "@jupyter-widgets/base",
      "model_module_version": "1.0.0",
      "model_name": "LayoutModel",
      "state": {}
     },
     "4c8cd5e27cd64a1499d1aae4401b5d12": {
      "model_module": "@jupyter-widgets/base",
      "model_module_version": "1.0.0",
      "model_name": "LayoutModel",
      "state": {}
     },
     "4c900f5d48064955afbd73d4790ad0a8": {
      "model_module": "@jupyter-widgets/controls",
      "model_module_version": "1.0.0",
      "model_name": "HBoxModel",
      "state": {
       "children": [
        "IPY_MODEL_0c1cf2ca9d124bff80b9cc37e4c6a977",
        "IPY_MODEL_8fcd8cfa4fdc435c9ae087974806b585"
       ],
       "layout": "IPY_MODEL_e684bbc91ebe45a99cdc2debe4dcc672"
      }
     },
     "4c9bdd666e72448c9a5cc1c79eccce95": {
      "model_module": "@jupyter-widgets/base",
      "model_module_version": "1.0.0",
      "model_name": "LayoutModel",
      "state": {}
     },
     "4cc1423058a943ebab791b70b6b8b1fe": {
      "model_module": "@jupyter-widgets/controls",
      "model_module_version": "1.0.0",
      "model_name": "DescriptionStyleModel",
      "state": {
       "description_width": ""
      }
     },
     "4d1fbd072fc249e8842c92c2302acfdc": {
      "model_module": "@jupyter-widgets/controls",
      "model_module_version": "1.0.0",
      "model_name": "HBoxModel",
      "state": {
       "children": [
        "IPY_MODEL_f574738571d840a99d249f81f65a4892",
        "IPY_MODEL_a3ca09681274435c81ec3224ef00bcf7"
       ],
       "layout": "IPY_MODEL_fcb023e8e85c4897ba7920b796712121"
      }
     },
     "4d2ec30b167f47ab9817de9a9d672130": {
      "model_module": "@jupyter-widgets/controls",
      "model_module_version": "1.0.0",
      "model_name": "DescriptionStyleModel",
      "state": {
       "description_width": ""
      }
     },
     "4d3059ca7b8c41f8879f16a461d686a2": {
      "model_module": "@jupyter-widgets/base",
      "model_module_version": "1.0.0",
      "model_name": "LayoutModel",
      "state": {}
     },
     "4d336ba9047744ada5ec60ae8d0ac457": {
      "model_module": "@jupyter-widgets/base",
      "model_module_version": "1.0.0",
      "model_name": "LayoutModel",
      "state": {}
     },
     "4d97127b33aa46c5b62e7523c104bc04": {
      "model_module": "@jupyter-widgets/base",
      "model_module_version": "1.0.0",
      "model_name": "LayoutModel",
      "state": {}
     },
     "4daaf958291a487c9cb76e39220f33df": {
      "model_module": "@jupyter-widgets/base",
      "model_module_version": "1.0.0",
      "model_name": "LayoutModel",
      "state": {}
     },
     "4dcdf20c7bc4445ab9b68e3ce5cfdcb2": {
      "model_module": "@jupyter-widgets/base",
      "model_module_version": "1.0.0",
      "model_name": "LayoutModel",
      "state": {}
     },
     "4df35c3f29e34ef1bac2b5530908a146": {
      "model_module": "@jupyter-widgets/base",
      "model_module_version": "1.0.0",
      "model_name": "LayoutModel",
      "state": {}
     },
     "4dfac32d4ebd42b88733b26adf86e177": {
      "model_module": "@jupyter-widgets/controls",
      "model_module_version": "1.0.0",
      "model_name": "LabelModel",
      "state": {
       "layout": "IPY_MODEL_5971b805c4cf49f786bd30c2b73109a4",
       "style": "IPY_MODEL_ecd7d54f51904415b00f8315c2788a56",
       "value": "Длительность анимации"
      }
     },
     "4dfc8ae1be1940928d1054bbc4dc7235": {
      "model_module": "@jupyter-widgets/controls",
      "model_module_version": "1.0.0",
      "model_name": "HBoxModel",
      "state": {
       "children": [
        "IPY_MODEL_4745101dd8174d9ca669d0e73c66dc71",
        "IPY_MODEL_b682a0c703474b1a86828195d5f84576"
       ],
       "layout": "IPY_MODEL_5f2b566bd4c1419c99881964bdf37f4c"
      }
     },
     "4e1dda7e00cd41bfabf760729585206d": {
      "model_module": "@jupyter-widgets/controls",
      "model_module_version": "1.0.0",
      "model_name": "SliderStyleModel",
      "state": {
       "description_width": ""
      }
     },
     "4e41a44faec54a4e87bdd3afcae50cd5": {
      "model_module": "@jupyter-widgets/controls",
      "model_module_version": "1.0.0",
      "model_name": "BoundedFloatTextModel",
      "state": {
       "layout": "IPY_MODEL_88effd122f134b4da12724dd4da9cd6b",
       "max": 0.1,
       "step": 0.001,
       "style": "IPY_MODEL_0cf6d78c6d344648849754b38eab4e90",
       "value": 0.01
      }
     },
     "4e4f69f951bd4e6d92c445037315b8d1": {
      "model_module": "@jupyter-widgets/controls",
      "model_module_version": "1.0.0",
      "model_name": "HBoxModel",
      "state": {
       "children": [
        "IPY_MODEL_5c464eb32812465fad16ba05e34254da",
        "IPY_MODEL_b2345e803a23448388cb16578e30c96f"
       ],
       "layout": "IPY_MODEL_9b2de35a973844a19c876120f1c629f8"
      }
     },
     "4eba6a767fa343ab83331bb0fc32a8d0": {
      "model_module": "@jupyter-widgets/base",
      "model_module_version": "1.0.0",
      "model_name": "LayoutModel",
      "state": {}
     },
     "4edd705ee4364e21b6bf8b0ce5136836": {
      "model_module": "@jupyter-widgets/base",
      "model_module_version": "1.0.0",
      "model_name": "LayoutModel",
      "state": {}
     },
     "4ee045cd43f74e5db2d1271c730f10f4": {
      "model_module": "@jupyter-widgets/base",
      "model_module_version": "1.0.0",
      "model_name": "LayoutModel",
      "state": {}
     },
     "4eeda501c5494e4a8d228b68a8ddbd4a": {
      "model_module": "@jupyter-widgets/controls",
      "model_module_version": "1.0.0",
      "model_name": "LabelModel",
      "state": {
       "layout": "IPY_MODEL_7e673375d68b4769b19e0e9a0d33e32b",
       "style": "IPY_MODEL_6909a634459f4f889781e6192a23398d"
      }
     },
     "4f0374451d4a45c3b7682994fae86310": {
      "model_module": "@jupyter-widgets/controls",
      "model_module_version": "1.0.0",
      "model_name": "LabelModel",
      "state": {
       "layout": "IPY_MODEL_445a1e9fd19b491ba774403b4ebef359",
       "style": "IPY_MODEL_bd23ca17a7eb4ab086a8ad42d71e2439"
      }
     },
     "4f41b06fd71b497ea49ba2dcca2d2947": {
      "model_module": "@jupyter-widgets/base",
      "model_module_version": "1.0.0",
      "model_name": "LayoutModel",
      "state": {}
     },
     "4f44818f29b64c188455f5b8e050984a": {
      "model_module": "@jupyter-widgets/controls",
      "model_module_version": "1.0.0",
      "model_name": "ToggleButtonsModel",
      "state": {
       "_options_labels": [
        "Расчёт заданного числа шагов",
        "Расчёт с заданной точностью"
       ],
       "button_style": "",
       "description": "Режим работы:",
       "icons": [],
       "index": 0,
       "layout": "IPY_MODEL_ea6436ae373b48ab92c4594a81140291",
       "style": "IPY_MODEL_e512ffddb36c41ae9f51306434d26335",
       "tooltips": []
      }
     },
     "4f581e4756d14951a266df0b7dc252c7": {
      "model_module": "@jupyter-widgets/controls",
      "model_module_version": "1.0.0",
      "model_name": "LabelModel",
      "state": {
       "layout": "IPY_MODEL_22dfd225952c4da9b586e7fa008e91d0",
       "style": "IPY_MODEL_6c83b9512a4f4eb49fc34dad66f9f21a",
       "value": "Параметр $\\sigma$ неявной схемы:"
      }
     },
     "4f66776b3f394f53ad6f508e3eeca57b": {
      "model_module": "@jupyter-widgets/base",
      "model_module_version": "1.0.0",
      "model_name": "LayoutModel",
      "state": {}
     },
     "4fadee6438214eb59d484ea92c1b9e12": {
      "model_module": "@jupyter-widgets/base",
      "model_module_version": "1.0.0",
      "model_name": "LayoutModel",
      "state": {}
     },
     "4fcf13fafb5b46feacd89056d7e610ea": {
      "model_module": "@jupyter-widgets/controls",
      "model_module_version": "1.0.0",
      "model_name": "LabelModel",
      "state": {
       "layout": "IPY_MODEL_6ebb15773e7a4b6c876dd19656e65605",
       "style": "IPY_MODEL_731d724e2ee94a99a7f2b29948c09ca0",
       "value": "Длительность анимации"
      }
     },
     "50130f405f1d4e5198d7deb457b3bcf9": {
      "model_module": "@jupyter-widgets/base",
      "model_module_version": "1.0.0",
      "model_name": "LayoutModel",
      "state": {}
     },
     "50396eaf8b69434dbd7e9dea789b1fa6": {
      "model_module": "@jupyter-widgets/controls",
      "model_module_version": "1.0.0",
      "model_name": "HBoxModel",
      "state": {
       "children": [
        "IPY_MODEL_6cd17209b4674af3bf5b736628cfb052",
        "IPY_MODEL_c33a5822478b4c259cb8d0179e856c11"
       ],
       "layout": "IPY_MODEL_57488a8414df402a8f12af1317ef03ec"
      }
     },
     "503b10b12fc44528916f771ba2804b42": {
      "model_module": "@jupyter-widgets/controls",
      "model_module_version": "1.0.0",
      "model_name": "DescriptionStyleModel",
      "state": {
       "description_width": ""
      }
     },
     "506e3a857894409c8cf38a80e3061cef": {
      "model_module": "@jupyter-widgets/controls",
      "model_module_version": "1.0.0",
      "model_name": "LabelModel",
      "state": {
       "layout": "IPY_MODEL_e8c7fc2cfb6e4560a8c2734a435bd312",
       "style": "IPY_MODEL_a0a6e09f938b49a391558db9a642f936",
       "value": "Длительность анимации"
      }
     },
     "506e3bd8df8c41bb8d7e3888a0f55617": {
      "model_module": "@jupyter-widgets/base",
      "model_module_version": "1.0.0",
      "model_name": "LayoutModel",
      "state": {}
     },
     "5073c8b4d7154bfbb1d4d54692f1e2a9": {
      "model_module": "@jupyter-widgets/controls",
      "model_module_version": "1.0.0",
      "model_name": "VBoxModel",
      "state": {
       "children": [
        "IPY_MODEL_c9cf28cdb91b4354b89e389be9fe8d6f",
        "IPY_MODEL_00fc956883434eee83e4cdda9cf4fe3a"
       ],
       "layout": "IPY_MODEL_f8c2023c11694b81a96a231abdc849d2"
      }
     },
     "50b6b489dacd4bf18c09af7ee942c4c2": {
      "model_module": "@jupyter-widgets/base",
      "model_module_version": "1.0.0",
      "model_name": "LayoutModel",
      "state": {}
     },
     "50c510be95764996bce8d7d559097361": {
      "model_module": "@jupyter-widgets/controls",
      "model_module_version": "1.0.0",
      "model_name": "BoundedFloatTextModel",
      "state": {
       "layout": "IPY_MODEL_58f03140b5ea466ca9b289e160c98c6b",
       "step": 0.01,
       "style": "IPY_MODEL_26e75cc143974e488761fc5e61fadbc2",
       "value": 1
      }
     },
     "50d2dd419e6a4ffabb2ee1bc00d7a373": {
      "model_module": "@jupyter-widgets/controls",
      "model_module_version": "1.0.0",
      "model_name": "DescriptionStyleModel",
      "state": {
       "description_width": ""
      }
     },
     "50e595304c6141c086934e46fdafe356": {
      "model_module": "@jupyter-widgets/controls",
      "model_module_version": "1.0.0",
      "model_name": "HBoxModel",
      "state": {
       "children": [
        "IPY_MODEL_e7500202044b46769c0dcb9164085c6f",
        "IPY_MODEL_84183675ef584f46a26adcd3c4403b1f"
       ],
       "layout": "IPY_MODEL_07f57b206e274faeb04a0e47f11178ce"
      }
     },
     "50ee650b29224affbf8ed09bc9fb3b0d": {
      "model_module": "@jupyter-widgets/controls",
      "model_module_version": "1.0.0",
      "model_name": "HBoxModel",
      "state": {
       "children": [
        "IPY_MODEL_5aa0295d3e2c4195a0cbcd9dc3dd3fed",
        "IPY_MODEL_f4cfbfd350214f808bd0f67ab6ef9634"
       ],
       "layout": "IPY_MODEL_3c417e11ad5c45b2885adc7e86f17e75"
      }
     },
     "5111b26c61bc400d9e47838ea981b68b": {
      "model_module": "@jupyter-widgets/controls",
      "model_module_version": "1.0.0",
      "model_name": "DescriptionStyleModel",
      "state": {
       "description_width": ""
      }
     },
     "5134a91a13a7495fbc7edc17b2ac27ff": {
      "model_module": "@jupyter-widgets/controls",
      "model_module_version": "1.0.0",
      "model_name": "DescriptionStyleModel",
      "state": {
       "description_width": ""
      }
     },
     "514104a9c000487792745924ff96dde5": {
      "model_module": "@jupyter-widgets/controls",
      "model_module_version": "1.0.0",
      "model_name": "HBoxModel",
      "state": {
       "children": [
        "IPY_MODEL_1f8e95f51253493fa87711cca90361ed",
        "IPY_MODEL_1b3701571f2f4bac9646b5dc6a28d55c"
       ],
       "layout": "IPY_MODEL_910cc331d16d453c895302f2cee5fd2c"
      }
     },
     "514bb03cb8a1475b8a42d6a25e0f9706": {
      "model_module": "@jupyter-widgets/controls",
      "model_module_version": "1.0.0",
      "model_name": "IntSliderModel",
      "state": {
       "description": "Step:",
       "layout": "IPY_MODEL_968ae6ce1e43433d951060bb05193ce3",
       "max": 199,
       "style": "IPY_MODEL_6386f67998e440e6a432c45a9a0f849b",
       "value": 7
      }
     },
     "5176ede363504020bce7540b5c6f2332": {
      "model_module": "@jupyter-widgets/base",
      "model_module_version": "1.0.0",
      "model_name": "LayoutModel",
      "state": {}
     },
     "518ef35ae3594c87995c5657462d3874": {
      "model_module": "@jupyter-widgets/controls",
      "model_module_version": "1.0.0",
      "model_name": "VBoxModel",
      "state": {
       "children": [
        "IPY_MODEL_2998fa037f1b4796a5b32a668fdcab48",
        "IPY_MODEL_4533e3a9ed504fd5b58cb8833e2c17fc"
       ],
       "layout": "IPY_MODEL_06205d9568e342e99a3b8189e8b2eab0"
      }
     },
     "519ec18c7cf54d46a464e467f415cbac": {
      "model_module": "@jupyter-widgets/base",
      "model_module_version": "1.0.0",
      "model_name": "LayoutModel",
      "state": {}
     },
     "520d77cce2de4906a9db2f55aeb63375": {
      "model_module": "@jupyter-widgets/base",
      "model_module_version": "1.0.0",
      "model_name": "LayoutModel",
      "state": {}
     },
     "521195907a22487a9b6a0fe10d500c54": {
      "model_module": "@jupyter-widgets/base",
      "model_module_version": "1.0.0",
      "model_name": "LayoutModel",
      "state": {}
     },
     "52299bd2cb9c4df9a65d6f8404bf85cf": {
      "model_module": "@jupyter-widgets/base",
      "model_module_version": "1.0.0",
      "model_name": "LayoutModel",
      "state": {}
     },
     "52429dc517a54e4caa90548c677c836a": {
      "model_module": "@jupyter-widgets/base",
      "model_module_version": "1.0.0",
      "model_name": "LayoutModel",
      "state": {}
     },
     "5283940a8cbc49668d1dc3df2bf35a08": {
      "model_module": "@jupyter-widgets/base",
      "model_module_version": "1.0.0",
      "model_name": "LayoutModel",
      "state": {}
     },
     "528c042be21e4b3cb36732ac46f7f17b": {
      "model_module": "@jupyter-widgets/base",
      "model_module_version": "1.0.0",
      "model_name": "LayoutModel",
      "state": {}
     },
     "52a04c9c3686450baf95cf36bd7fcc16": {
      "model_module": "@jupyter-widgets/base",
      "model_module_version": "1.0.0",
      "model_name": "LayoutModel",
      "state": {}
     },
     "52c8616fb0ba407cbf61b166350b07bd": {
      "model_module": "@jupyter-widgets/controls",
      "model_module_version": "1.0.0",
      "model_name": "LabelModel",
      "state": {
       "layout": "IPY_MODEL_a68259161f0c4dd5a5d19880bb4bd4ec",
       "style": "IPY_MODEL_d0294ec3e6b8427ab8f621afddaaa235",
       "value": "$\\large T$ -сила натяжения струны"
      }
     },
     "52cba8e3cfdf4bc9873b062d35568854": {
      "model_module": "@jupyter-widgets/base",
      "model_module_version": "1.0.0",
      "model_name": "LayoutModel",
      "state": {}
     },
     "52da0b2bd3804ed78812f7f90da597fb": {
      "model_module": "@jupyter-widgets/controls",
      "model_module_version": "1.0.0",
      "model_name": "DescriptionStyleModel",
      "state": {
       "description_width": ""
      }
     },
     "52e1c028b7af40d398969737ddef0ec0": {
      "model_module": "@jupyter-widgets/base",
      "model_module_version": "1.0.0",
      "model_name": "LayoutModel",
      "state": {}
     },
     "52e4a3f512f74652a3fe97afae1e28dd": {
      "model_module": "@jupyter-widgets/controls",
      "model_module_version": "1.0.0",
      "model_name": "LabelModel",
      "state": {
       "layout": "IPY_MODEL_ca59f5ec00ae4ef6a92c4cf61d46f7e6",
       "style": "IPY_MODEL_4cc1423058a943ebab791b70b6b8b1fe"
      }
     },
     "52f4dc15f85d4c31b11cb0f366c7744a": {
      "model_module": "@jupyter-widgets/controls",
      "model_module_version": "1.0.0",
      "model_name": "DescriptionStyleModel",
      "state": {
       "description_width": ""
      }
     },
     "530e711c8ab14f16b5cd92ea8e8795d6": {
      "model_module": "@jupyter-widgets/controls",
      "model_module_version": "1.0.0",
      "model_name": "ToggleButtonsStyleModel",
      "state": {
       "button_width": "",
       "description_width": ""
      }
     },
     "531467a648a849faa56ca53476dcb096": {
      "model_module": "@jupyter-widgets/base",
      "model_module_version": "1.0.0",
      "model_name": "LayoutModel",
      "state": {}
     },
     "5342df9983a0473c9dc9fbff7fcd5457": {
      "model_module": "@jupyter-widgets/controls",
      "model_module_version": "1.0.0",
      "model_name": "IntSliderModel",
      "state": {
       "description": "Step:",
       "layout": "IPY_MODEL_7e651e8f83d54f5baab39221863f0610",
       "max": 199,
       "style": "IPY_MODEL_6f471289ca30492d80aa85411898c963",
       "value": 49
      }
     },
     "534c1d3580a04f01ac7efe1631775f3e": {
      "model_module": "@jupyter-widgets/controls",
      "model_module_version": "1.0.0",
      "model_name": "BoundedFloatTextModel",
      "state": {
       "layout": "IPY_MODEL_34bcf68be5794bd7abcba9b73bc441f5",
       "max": 0.1,
       "step": 0.001,
       "style": "IPY_MODEL_7b712e8dd1da4bac91b9041e67c33e4a",
       "value": 0.01
      }
     },
     "53563ebbc5d844bb9871dc4e6e0b3b9a": {
      "model_module": "@jupyter-widgets/controls",
      "model_module_version": "1.0.0",
      "model_name": "HBoxModel",
      "state": {
       "children": [
        "IPY_MODEL_7cd255624cd5468cb32e0c287c36271d",
        "IPY_MODEL_b7d9035c781e4632b00e9ac9355d79c4"
       ],
       "layout": "IPY_MODEL_35922f1f42d94b8c9dc84233861a0d6c"
      }
     },
     "5375c6d81b2f40889a67d97b3c09b262": {
      "model_module": "@jupyter-widgets/controls",
      "model_module_version": "1.0.0",
      "model_name": "SliderStyleModel",
      "state": {
       "description_width": ""
      }
     },
     "53b1cab79cf846baa5f1f08234cc2f1f": {
      "model_module": "@jupyter-widgets/controls",
      "model_module_version": "1.0.0",
      "model_name": "VBoxModel",
      "state": {
       "children": [
        "IPY_MODEL_847d6138151844d99528896087de5769",
        "IPY_MODEL_5a6a46d19a464e26a222603fcb8bc63c"
       ],
       "layout": "IPY_MODEL_03208c1e722746058c135cc742478871"
      }
     },
     "53b4a04d67fa442e94d551b8a709f1f4": {
      "model_module": "@jupyter-widgets/controls",
      "model_module_version": "1.0.0",
      "model_name": "LabelModel",
      "state": {
       "layout": "IPY_MODEL_581a0f7c74844c30be1420204c46a450",
       "style": "IPY_MODEL_c2f4520a0dc049ce827c10542318e002",
       "value": "$\\large t_0$ -время подачи импульса"
      }
     },
     "53dcaebeb22c44c79fc5bfc33c90a64f": {
      "model_module": "@jupyter-widgets/base",
      "model_module_version": "1.0.0",
      "model_name": "LayoutModel",
      "state": {}
     },
     "53edfac55753429e912201fd9dc6c05c": {
      "model_module": "@jupyter-widgets/base",
      "model_module_version": "1.0.0",
      "model_name": "LayoutModel",
      "state": {}
     },
     "54267479db82433a961ea59ad0e52a23": {
      "model_module": "@jupyter-widgets/base",
      "model_module_version": "1.0.0",
      "model_name": "LayoutModel",
      "state": {}
     },
     "542a99af9aae4b15a774093d7605888f": {
      "model_module": "@jupyter-widgets/base",
      "model_module_version": "1.0.0",
      "model_name": "LayoutModel",
      "state": {}
     },
     "544e6b784d3849968ad45995105c1452": {
      "model_module": "@jupyter-widgets/base",
      "model_module_version": "1.0.0",
      "model_name": "LayoutModel",
      "state": {}
     },
     "5457c6e35d0745f491d04e322cc7a7cb": {
      "model_module": "@jupyter-widgets/base",
      "model_module_version": "1.0.0",
      "model_name": "LayoutModel",
      "state": {}
     },
     "549211f95a2945b8b14139dc396af6b6": {
      "model_module": "@jupyter-widgets/base",
      "model_module_version": "1.0.0",
      "model_name": "LayoutModel",
      "state": {}
     },
     "54ea55f9aa3e4919b3b23289baf0a9de": {
      "model_module": "@jupyter-widgets/base",
      "model_module_version": "1.0.0",
      "model_name": "LayoutModel",
      "state": {}
     },
     "5506465e351c43dcb3d75c5bfda2b9ff": {
      "model_module": "@jupyter-widgets/base",
      "model_module_version": "1.0.0",
      "model_name": "LayoutModel",
      "state": {}
     },
     "562fc3e4bded4780b93864953774ab68": {
      "model_module": "@jupyter-widgets/base",
      "model_module_version": "1.0.0",
      "model_name": "LayoutModel",
      "state": {}
     },
     "5644a9a916a04fc2a64700c8e8619337": {
      "model_module": "@jupyter-widgets/controls",
      "model_module_version": "1.0.0",
      "model_name": "LabelModel",
      "state": {
       "layout": "IPY_MODEL_fa6888bb99384148842494611fc3c282",
       "style": "IPY_MODEL_166417033704445cb920e7c1ad268261",
       "value": "Длительность анимации"
      }
     },
     "56bada87da354bccac5f2e13f4c1afbc": {
      "model_module": "@jupyter-widgets/controls",
      "model_module_version": "1.0.0",
      "model_name": "DescriptionStyleModel",
      "state": {
       "description_width": ""
      }
     },
     "572ce2a20e6d45cea2cb2a719bfd45a7": {
      "model_module": "@jupyter-widgets/controls",
      "model_module_version": "1.0.0",
      "model_name": "LabelModel",
      "state": {
       "layout": "IPY_MODEL_8d6610b8f62744eaad51943ad9eadf61",
       "style": "IPY_MODEL_a838b6088ad94bb6a10abe060d376d69",
       "value": "Количество шагов по $x$:"
      }
     },
     "57488a8414df402a8f12af1317ef03ec": {
      "model_module": "@jupyter-widgets/base",
      "model_module_version": "1.0.0",
      "model_name": "LayoutModel",
      "state": {}
     },
     "57afc465955f473a82538f4fb34436a0": {
      "model_module": "@jupyter-widgets/controls",
      "model_module_version": "1.0.0",
      "model_name": "HBoxModel",
      "state": {
       "children": [
        "IPY_MODEL_b8c0ea6828014944bfd8f7f4d0740cea",
        "IPY_MODEL_d8527c645ea0489090e2251b0ced5eb0"
       ],
       "layout": "IPY_MODEL_b383f61344b148c58fe4658af622093b"
      }
     },
     "581a0f7c74844c30be1420204c46a450": {
      "model_module": "@jupyter-widgets/base",
      "model_module_version": "1.0.0",
      "model_name": "LayoutModel",
      "state": {}
     },
     "5830ff1e1b1c472b8fd30d798b08e682": {
      "model_module": "@jupyter-widgets/controls",
      "model_module_version": "1.0.0",
      "model_name": "LabelModel",
      "state": {
       "layout": "IPY_MODEL_410c8bc8fe704b8babe005b0b104432e",
       "style": "IPY_MODEL_4b1f76ab40ec41c28cd78bd34467ae2e",
       "value": "Точность:"
      }
     },
     "58574ead8fa44138b31b640f9f2e9a73": {
      "model_module": "@jupyter-widgets/controls",
      "model_module_version": "1.0.0",
      "model_name": "LabelModel",
      "state": {
       "layout": "IPY_MODEL_549211f95a2945b8b14139dc396af6b6",
       "style": "IPY_MODEL_aa74896befb447e88ea3e01f0660f231"
      }
     },
     "587dba9dec694d0fbb955c82955147ad": {
      "model_module": "@jupyter-widgets/controls",
      "model_module_version": "1.0.0",
      "model_name": "HBoxModel",
      "state": {
       "children": [
        "IPY_MODEL_c03e8b6b7978492e85da27ccb6bcd0d6",
        "IPY_MODEL_6ed766455ffb4dd6b3ebfaf3598ce13c"
       ],
       "layout": "IPY_MODEL_1d8ffee03a5d4cb6a3f75269fa653abb"
      }
     },
     "588869e2ac8449dd979a840b02cf4537": {
      "model_module": "@jupyter-widgets/controls",
      "model_module_version": "1.0.0",
      "model_name": "LabelModel",
      "state": {
       "layout": "IPY_MODEL_2a07af9147df4d7aae36fda56ad3fa9a",
       "style": "IPY_MODEL_00192979463241bc802660dcb793a3c9",
       "value": "Количество шагов по $x$:"
      }
     },
     "58a1337bcf124310b9939caa146f2d39": {
      "model_module": "@jupyter-widgets/base",
      "model_module_version": "1.0.0",
      "model_name": "LayoutModel",
      "state": {}
     },
     "58a4bb1f071d4579a51f973e2fe5d8c1": {
      "model_module": "@jupyter-widgets/base",
      "model_module_version": "1.0.0",
      "model_name": "LayoutModel",
      "state": {}
     },
     "58ad8ddab7544a71b292e993e3182564": {
      "model_module": "@jupyter-widgets/base",
      "model_module_version": "1.0.0",
      "model_name": "LayoutModel",
      "state": {}
     },
     "58b4863571254ffe8ddd631def5d9f9f": {
      "model_module": "@jupyter-widgets/controls",
      "model_module_version": "1.0.0",
      "model_name": "VBoxModel",
      "state": {
       "children": [
        "IPY_MODEL_4fcf13fafb5b46feacd89056d7e610ea",
        "IPY_MODEL_b09aac4032564d8385246b3349974902"
       ],
       "layout": "IPY_MODEL_6cfdb6fd5ede4b47a966fb6832af9e13"
      }
     },
     "58f03140b5ea466ca9b289e160c98c6b": {
      "model_module": "@jupyter-widgets/base",
      "model_module_version": "1.0.0",
      "model_name": "LayoutModel",
      "state": {}
     },
     "58f138ba68af4dd79725b0ce4079a234": {
      "model_module": "@jupyter-widgets/controls",
      "model_module_version": "1.0.0",
      "model_name": "DescriptionStyleModel",
      "state": {
       "description_width": ""
      }
     },
     "592ee20e8c9549a19f93266b2fd733f8": {
      "model_module": "@jupyter-widgets/controls",
      "model_module_version": "1.0.0",
      "model_name": "DescriptionStyleModel",
      "state": {
       "description_width": ""
      }
     },
     "594dbe1d39424720a00b710b4e40e7e6": {
      "model_module": "@jupyter-widgets/controls",
      "model_module_version": "1.0.0",
      "model_name": "IntSliderModel",
      "state": {
       "description": "Step:",
       "layout": "IPY_MODEL_9bbb4482bd904b8c8d96e1324daaa1d9",
       "max": 199,
       "style": "IPY_MODEL_a9452bbd7c034faa8b17fcf25b6048fc",
       "value": 7
      }
     },
     "59573c76de0940ffa7d270f9c2ddd998": {
      "model_module": "@jupyter-widgets/base",
      "model_module_version": "1.0.0",
      "model_name": "LayoutModel",
      "state": {}
     },
     "5971b805c4cf49f786bd30c2b73109a4": {
      "model_module": "@jupyter-widgets/base",
      "model_module_version": "1.0.0",
      "model_name": "LayoutModel",
      "state": {}
     },
     "598788422fb64fce84cbdc55243a0d3c": {
      "model_module": "@jupyter-widgets/base",
      "model_module_version": "1.0.0",
      "model_name": "LayoutModel",
      "state": {}
     },
     "59a75c7240864ce99c182d00d1574f18": {
      "model_module": "@jupyter-widgets/base",
      "model_module_version": "1.0.0",
      "model_name": "LayoutModel",
      "state": {}
     },
     "59e3d92403264afeb6c2157f6b4f965f": {
      "model_module": "@jupyter-widgets/base",
      "model_module_version": "1.0.0",
      "model_name": "LayoutModel",
      "state": {}
     },
     "59f406bce85a416ba5c3c6b3418d8bf5": {
      "model_module": "@jupyter-widgets/controls",
      "model_module_version": "1.0.0",
      "model_name": "VBoxModel",
      "state": {
       "children": [
        "IPY_MODEL_27e20e5597de46479851c38ddcf54b18",
        "IPY_MODEL_298a62833bad49b59086e26704f88157"
       ],
       "layout": "IPY_MODEL_33d4f78d672c4840b64ea69afcea35e9"
      }
     },
     "5a521620f75c4ca78b17fa9698478c61": {
      "model_module": "@jupyter-widgets/controls",
      "model_module_version": "1.0.0",
      "model_name": "LabelModel",
      "state": {
       "layout": "IPY_MODEL_2fd7c946ce2a490c8f97fa2c318f347d",
       "style": "IPY_MODEL_d734cc50315c40068b340983d4d0c8e2"
      }
     },
     "5a64c420900f4676ad5e8f7090cb6e6b": {
      "model_module": "@jupyter-widgets/controls",
      "model_module_version": "1.0.0",
      "model_name": "ToggleButtonsModel",
      "state": {
       "_options_labels": [
        "Расчёт заданного числа шагов",
        "Расчёт с заданной точностью"
       ],
       "button_style": "",
       "description": "Режим работы:",
       "icons": [],
       "index": 0,
       "layout": "IPY_MODEL_971663de28a04623aca7d514eadcc77a",
       "style": "IPY_MODEL_0257cbbea95d4f8c8f4a591dfcba074b",
       "tooltips": []
      }
     },
     "5a6a46d19a464e26a222603fcb8bc63c": {
      "model_module": "@jupyter-widgets/controls",
      "model_module_version": "1.0.0",
      "model_name": "HBoxModel",
      "state": {
       "children": [
        "IPY_MODEL_cc9e8f5fb59d409ab04a3191ebca01c4",
        "IPY_MODEL_5c2ef86bfd2f44a78e92a45fd972221a"
       ],
       "layout": "IPY_MODEL_4757274ae2da40ea8d977b5390bbd372"
      }
     },
     "5a8befb3c5a9473085e5c0f753673dd8": {
      "model_module": "@jupyter-widgets/base",
      "model_module_version": "1.0.0",
      "model_name": "LayoutModel",
      "state": {}
     },
     "5a98c97e6e5f4b5d9e2699055b19a610": {
      "model_module": "@jupyter-widgets/controls",
      "model_module_version": "1.0.0",
      "model_name": "VBoxModel",
      "state": {
       "children": [
        "IPY_MODEL_3086949babe04cd3a2551a1f6dcdb9a4",
        "IPY_MODEL_c9bea1bc224444268831b3b4a66b607d"
       ],
       "layout": "IPY_MODEL_24de169ffc0a43e795b4764880a2fd58"
      }
     },
     "5a99f8a9d825415d84eeefe64d29d3b0": {
      "model_module": "@jupyter-widgets/base",
      "model_module_version": "1.0.0",
      "model_name": "LayoutModel",
      "state": {}
     },
     "5aa0295d3e2c4195a0cbcd9dc3dd3fed": {
      "model_module": "@jupyter-widgets/controls",
      "model_module_version": "1.0.0",
      "model_name": "IntSliderModel",
      "state": {
       "description": "Step:",
       "layout": "IPY_MODEL_653c52b29a2c4ae9a877f4948b1e0e23",
       "max": 199,
       "style": "IPY_MODEL_0ae9768d5c57427ba0b17960c9717c03"
      }
     },
     "5ab89feb956d47568b1f991b625e73d2": {
      "model_module": "@jupyter-widgets/base",
      "model_module_version": "1.0.0",
      "model_name": "LayoutModel",
      "state": {}
     },
     "5b161c1f148d44778c8c17aaa9a08957": {
      "model_module": "@jupyter-widgets/base",
      "model_module_version": "1.0.0",
      "model_name": "LayoutModel",
      "state": {}
     },
     "5b16df50edea4b6bb2cf2843d69a736e": {
      "model_module": "@jupyter-widgets/controls",
      "model_module_version": "1.0.0",
      "model_name": "DescriptionStyleModel",
      "state": {
       "description_width": ""
      }
     },
     "5b7cb309a4894c9f9a1bd8525e62b297": {
      "model_module": "@jupyter-widgets/base",
      "model_module_version": "1.0.0",
      "model_name": "LayoutModel",
      "state": {}
     },
     "5bb3dcf40ce74bc8ae4610b603dc1e36": {
      "model_module": "@jupyter-widgets/controls",
      "model_module_version": "1.0.0",
      "model_name": "DescriptionStyleModel",
      "state": {
       "description_width": ""
      }
     },
     "5bb8747cb34c4ac1bf3718a2b449e2f3": {
      "model_module": "@jupyter-widgets/controls",
      "model_module_version": "1.0.0",
      "model_name": "DescriptionStyleModel",
      "state": {
       "description_width": ""
      }
     },
     "5c02d5e8fedb413cacf0a421a746aa8c": {
      "model_module": "@jupyter-widgets/controls",
      "model_module_version": "1.0.0",
      "model_name": "HBoxModel",
      "state": {
       "children": [
        "IPY_MODEL_defddf57ab5445d3af7f24e8fdf74924",
        "IPY_MODEL_a1a582e7613e419089db1a5ca676467e"
       ],
       "layout": "IPY_MODEL_9f55d1b366834d73bb03ea176aee1032"
      }
     },
     "5c1a2d73443e40f1ac1b7926894aee46": {
      "model_module": "@jupyter-widgets/base",
      "model_module_version": "1.0.0",
      "model_name": "LayoutModel",
      "state": {}
     },
     "5c2ef86bfd2f44a78e92a45fd972221a": {
      "model_module": "@jupyter-widgets/controls",
      "model_module_version": "1.0.0",
      "model_name": "LabelModel",
      "state": {
       "layout": "IPY_MODEL_542a99af9aae4b15a774093d7605888f",
       "style": "IPY_MODEL_212abe02095b4ecf8b96b4e992a6fb37"
      }
     },
     "5c464eb32812465fad16ba05e34254da": {
      "model_module": "@jupyter-widgets/controls",
      "model_module_version": "1.0.0",
      "model_name": "BoundedFloatTextModel",
      "state": {
       "continuous_update": true,
       "description": "Time:",
       "layout": "IPY_MODEL_db6539bd703f4702b8d8d0a106f4de18",
       "max": 1,
       "style": "IPY_MODEL_72218feb7a1a41dab04ced491763d33d",
       "value": 1
      }
     },
     "5c4a51e0820d4d4baa2a62b3beca14df": {
      "model_module": "@jupyter-widgets/base",
      "model_module_version": "1.0.0",
      "model_name": "LayoutModel",
      "state": {}
     },
     "5c77b14c17c743cf9bf69dee4a749b94": {
      "model_module": "@jupyter-widgets/base",
      "model_module_version": "1.0.0",
      "model_name": "LayoutModel",
      "state": {}
     },
     "5ca629f61a434145918c2b5b9e2cb43c": {
      "model_module": "@jupyter-widgets/base",
      "model_module_version": "1.0.0",
      "model_name": "LayoutModel",
      "state": {}
     },
     "5cb55ec7d01e4c1b9fd04e9f53b645d6": {
      "model_module": "@jupyter-widgets/controls",
      "model_module_version": "1.0.0",
      "model_name": "HBoxModel",
      "state": {
       "children": [
        "IPY_MODEL_c6f02d2ebcf64d5ba2f58e939c620285",
        "IPY_MODEL_8fcd8cfa4fdc435c9ae087974806b585"
       ],
       "layout": "IPY_MODEL_6cc0c4a9855742ceb1f1c63de1143b92"
      }
     },
     "5cb72fda7d434b0a9375344205d28f51": {
      "model_module": "@jupyter-widgets/controls",
      "model_module_version": "1.0.0",
      "model_name": "VBoxModel",
      "state": {
       "children": [
        "IPY_MODEL_7d1e4902e8e043969f7309a3ba38041e",
        "IPY_MODEL_2856d5dc8226450cad879932dc912540"
       ],
       "layout": "IPY_MODEL_ebfe303506b84f9cab8fc57feb24b25a"
      }
     },
     "5cba9abd490c4c44837eff181adbcffe": {
      "model_module": "@jupyter-widgets/controls",
      "model_module_version": "1.0.0",
      "model_name": "BoundedIntTextModel",
      "state": {
       "layout": "IPY_MODEL_323a917080de456eba04fbce603a9a61",
       "max": 1000,
       "min": 50,
       "step": 100,
       "style": "IPY_MODEL_c9e19ea73e9e44579ec9cd4c42ecce56",
       "value": 100
      }
     },
     "5cd1f1144d99499c881cbdc587655c8d": {
      "model_module": "@jupyter-widgets/controls",
      "model_module_version": "1.0.0",
      "model_name": "DescriptionStyleModel",
      "state": {
       "description_width": ""
      }
     },
     "5d43017680514c779a2629787469404d": {
      "model_module": "@jupyter-widgets/base",
      "model_module_version": "1.0.0",
      "model_name": "LayoutModel",
      "state": {}
     },
     "5d76ba3b0deb4cb3b8aa0de147e4ef6c": {
      "model_module": "@jupyter-widgets/controls",
      "model_module_version": "1.0.0",
      "model_name": "LabelModel",
      "state": {
       "layout": "IPY_MODEL_11bb873ae2f44ee59d3dd89781fc3a77",
       "style": "IPY_MODEL_3cc30ccb4e9d4ec2a56770a1443b3203"
      }
     },
     "5d7fc30903904b6b8ba49204a4936e9d": {
      "model_module": "@jupyter-widgets/controls",
      "model_module_version": "1.0.0",
      "model_name": "VBoxModel",
      "state": {
       "children": [
        "IPY_MODEL_e6fbcaa52b3d4b5d8ee90ba4e958a8d5",
        "IPY_MODEL_bef1d28da57844f5ae4400033a485c61"
       ],
       "layout": "IPY_MODEL_738b2e12002f469eacb28a88840c5e83"
      }
     },
     "5d97d7d07d894cac90fac3673b29cf79": {
      "model_module": "@jupyter-widgets/base",
      "model_module_version": "1.0.0",
      "model_name": "LayoutModel",
      "state": {}
     },
     "5daa577c36cf43e9840a56a753339719": {
      "model_module": "@jupyter-widgets/controls",
      "model_module_version": "1.0.0",
      "model_name": "DescriptionStyleModel",
      "state": {
       "description_width": ""
      }
     },
     "5dc534c1ebae4819ada94539342bf77e": {
      "model_module": "@jupyter-widgets/controls",
      "model_module_version": "1.0.0",
      "model_name": "HBoxModel",
      "state": {
       "children": [
        "IPY_MODEL_4f581e4756d14951a266df0b7dc252c7",
        "IPY_MODEL_8bb443c134834ec3b24ee67121feaba4"
       ],
       "layout": "IPY_MODEL_b52260292887429f86accebf4555fa83"
      }
     },
     "5dedfa5047d84234905b5612dc984333": {
      "model_module": "@jupyter-widgets/controls",
      "model_module_version": "1.0.0",
      "model_name": "LabelModel",
      "state": {
       "layout": "IPY_MODEL_43ff026690a34b17abdf7fee5c135800",
       "style": "IPY_MODEL_edaa79e5367543329734d43aee69f5a6",
       "value": "Количество шагов по $x$:"
      }
     },
     "5e274d4547b747289400f2cb9ab60628": {
      "model_module": "@jupyter-widgets/controls",
      "model_module_version": "1.0.0",
      "model_name": "HBoxModel",
      "state": {
       "children": [
        "IPY_MODEL_9d09f2a3c98d467f80e41a36755116db",
        "IPY_MODEL_d8527c645ea0489090e2251b0ced5eb0"
       ],
       "layout": "IPY_MODEL_1cf55d6681ea421db8b8b2150d8c3fb2"
      }
     },
     "5e4ed7cba1b444ce80510dfb630b47e2": {
      "model_module": "@jupyter-widgets/base",
      "model_module_version": "1.0.0",
      "model_name": "LayoutModel",
      "state": {}
     },
     "5e56e68b22bd4bffb54a4c8566e96c9b": {
      "model_module": "@jupyter-widgets/controls",
      "model_module_version": "1.0.0",
      "model_name": "DescriptionStyleModel",
      "state": {
       "description_width": ""
      }
     },
     "5e8e5808f18b469daae018d396bbdbe8": {
      "model_module": "@jupyter-widgets/controls",
      "model_module_version": "1.0.0",
      "model_name": "DescriptionStyleModel",
      "state": {
       "description_width": ""
      }
     },
     "5e9cf95ac98747709c247cf56bf31141": {
      "model_module": "@jupyter-widgets/base",
      "model_module_version": "1.0.0",
      "model_name": "LayoutModel",
      "state": {}
     },
     "5eaf13c56d73423e99fec43a30056f38": {
      "model_module": "@jupyter-widgets/controls",
      "model_module_version": "1.0.0",
      "model_name": "ToggleButtonsStyleModel",
      "state": {
       "button_width": "",
       "description_width": ""
      }
     },
     "5eb11c9c855f4a62a1cdc07830695193": {
      "model_module": "@jupyter-widgets/controls",
      "model_module_version": "1.0.0",
      "model_name": "VBoxModel",
      "state": {
       "children": [
        "IPY_MODEL_3689c83fb40e458fb8741762cb4d4d30",
        "IPY_MODEL_7b9e452ed0774035b767f14aa87163b3"
       ],
       "layout": "IPY_MODEL_f66b1a5a5fbc40beb2a12d8b72230348"
      }
     },
     "5eb49e8021904c0285a1d9bd488014f6": {
      "model_module": "@jupyter-widgets/controls",
      "model_module_version": "1.0.0",
      "model_name": "HBoxModel",
      "state": {
       "children": [
        "IPY_MODEL_30e10722e7e5420cb0cb8c6af879d873",
        "IPY_MODEL_371161e7aae645c186ce9a5d943904fd"
       ],
       "layout": "IPY_MODEL_a37901dc7a644d80b6b3514faadcf018"
      }
     },
     "5efa2b0dc0554b61aaf5e6a26d344451": {
      "model_module": "@jupyter-widgets/base",
      "model_module_version": "1.0.0",
      "model_name": "LayoutModel",
      "state": {}
     },
     "5f2b566bd4c1419c99881964bdf37f4c": {
      "model_module": "@jupyter-widgets/base",
      "model_module_version": "1.0.0",
      "model_name": "LayoutModel",
      "state": {}
     },
     "5f5e062763c8400da1fe9691ba1cdb3d": {
      "model_module": "@jupyter-widgets/controls",
      "model_module_version": "1.0.0",
      "model_name": "BoundedFloatTextModel",
      "state": {
       "layout": "IPY_MODEL_31faefa0011d49b5b8fda4dda2d917db",
       "step": 0.01,
       "style": "IPY_MODEL_2bac3103046c4d9db8c11fe2fd3f0cc2",
       "value": 1
      }
     },
     "5f6a73fa525943aca98d3d256ccaf86f": {
      "model_module": "@jupyter-widgets/controls",
      "model_module_version": "1.0.0",
      "model_name": "LabelModel",
      "state": {
       "layout": "IPY_MODEL_65e1ace9ee9e4ceb9603211647ad4a49",
       "style": "IPY_MODEL_4b12bc00843f426ea661c75d7b1f9eb5",
       "value": "Точность:"
      }
     },
     "5f6d2bddbe0b486a800e874ea3c634f8": {
      "model_module": "@jupyter-widgets/controls",
      "model_module_version": "1.0.0",
      "model_name": "LabelModel",
      "state": {
       "layout": "IPY_MODEL_2dfc750cc195458c8086dbaaf6d5baf3",
       "style": "IPY_MODEL_a360f128d34742369207a5d2fc9d530d",
       "value": "Time:1.0"
      }
     },
     "5fcc97dca52a403896a02c131f98086d": {
      "model_module": "@jupyter-widgets/controls",
      "model_module_version": "1.0.0",
      "model_name": "LabelModel",
      "state": {
       "layout": "IPY_MODEL_9948bd3ef5ea4a84bd447634676a8bf5",
       "style": "IPY_MODEL_3afecb034edc421495ff09d422fe01b7",
       "value": "$\\large T$ -сила натяжения струны"
      }
     },
     "5fe09184d9af41ca98fc879bc3703c7e": {
      "model_module": "@jupyter-widgets/base",
      "model_module_version": "1.0.0",
      "model_name": "LayoutModel",
      "state": {}
     },
     "5fe1892d1ab3457bb7a4c195971698bc": {
      "model_module": "@jupyter-widgets/controls",
      "model_module_version": "1.0.0",
      "model_name": "LabelModel",
      "state": {
       "layout": "IPY_MODEL_90eb763016f44bf19caa040e9ff2b100",
       "style": "IPY_MODEL_d2ff04a496dc474ab81404a82757f487"
      }
     },
     "5ff74e94a3174cc3a4780cf5d2549946": {
      "model_module": "@jupyter-widgets/controls",
      "model_module_version": "1.0.0",
      "model_name": "HBoxModel",
      "state": {
       "children": [
        "IPY_MODEL_90dddea59c824edaa861ff2dd52545a8",
        "IPY_MODEL_35f39cf96a37419fa2ac93795534be56"
       ],
       "layout": "IPY_MODEL_7638778c20304ce797f4098ebe68308c"
      }
     },
     "6015e7e1f1de41ec8410d0a989a98731": {
      "model_module": "@jupyter-widgets/controls",
      "model_module_version": "1.0.0",
      "model_name": "BoundedIntTextModel",
      "state": {
       "layout": "IPY_MODEL_6aae2b78c07342a892890032b93a1202",
       "max": 1000,
       "min": 50,
       "step": 100,
       "style": "IPY_MODEL_62c8bf9d5f964c5fbc198b3c95468bed",
       "value": 100
      }
     },
     "603d303da76e4d2db779c39f2e29de65": {
      "model_module": "@jupyter-widgets/controls",
      "model_module_version": "1.0.0",
      "model_name": "DescriptionStyleModel",
      "state": {
       "description_width": ""
      }
     },
     "603e7b173ac542b1bfd91836490a6728": {
      "model_module": "@jupyter-widgets/base",
      "model_module_version": "1.0.0",
      "model_name": "LayoutModel",
      "state": {}
     },
     "605e6c43b2fe4dec8099db27829122fb": {
      "model_module": "@jupyter-widgets/controls",
      "model_module_version": "1.0.0",
      "model_name": "ToggleButtonsModel",
      "state": {
       "_options_labels": [
        "Расчёт заданного числа шагов",
        "Расчёт с заданной точностью"
       ],
       "button_style": "",
       "description": "Режим работы:",
       "icons": [],
       "index": 0,
       "layout": "IPY_MODEL_d12ff7fb552843baa60d34bb5a9b7103",
       "style": "IPY_MODEL_d86348cfccc94263acd1b661d033a16e",
       "tooltips": []
      }
     },
     "60758c45fcdf4b179814f66758b1f648": {
      "model_module": "@jupyter-widgets/controls",
      "model_module_version": "1.0.0",
      "model_name": "HBoxModel",
      "state": {
       "children": [
        "IPY_MODEL_475bdd9888174774a0514104df08821a",
        "IPY_MODEL_7b76d593c4ca4923a8cca569307f2e31"
       ],
       "layout": "IPY_MODEL_a2ab6f478dc44205b0fd158cae864ece"
      }
     },
     "60a9bb1c25f34becb441400102fb346f": {
      "model_module": "@jupyter-widgets/base",
      "model_module_version": "1.0.0",
      "model_name": "LayoutModel",
      "state": {}
     },
     "60ac8eda68d946a58d4805589a863901": {
      "model_module": "@jupyter-widgets/controls",
      "model_module_version": "1.0.0",
      "model_name": "BoundedFloatTextModel",
      "state": {
       "layout": "IPY_MODEL_0ffb0ff3d6e246f1b347eeb361e01639",
       "max": 0.1,
       "step": 0.001,
       "style": "IPY_MODEL_49ba69203ee04d80add6fa5cddfa039e",
       "value": 0.01
      }
     },
     "60b52c83eb444a16ae1bac1eb60f339e": {
      "model_module": "@jupyter-widgets/base",
      "model_module_version": "1.0.0",
      "model_name": "LayoutModel",
      "state": {}
     },
     "60d491a8673746fca527250e18907f6a": {
      "model_module": "@jupyter-widgets/base",
      "model_module_version": "1.0.0",
      "model_name": "LayoutModel",
      "state": {}
     },
     "60fed4161823433ca70f96b9c8e96d39": {
      "model_module": "@jupyter-widgets/base",
      "model_module_version": "1.0.0",
      "model_name": "LayoutModel",
      "state": {}
     },
     "61452ea322be4d36ac9bcb0200b5b563": {
      "model_module": "@jupyter-widgets/controls",
      "model_module_version": "1.0.0",
      "model_name": "LabelModel",
      "state": {
       "layout": "IPY_MODEL_4d97127b33aa46c5b62e7523c104bc04",
       "style": "IPY_MODEL_0d5bb439420040d294ea26435225da65",
       "value": "Количество шагов по $x$:"
      }
     },
     "614afb111ad4434fb3e319c56101b0f9": {
      "model_module": "@jupyter-widgets/controls",
      "model_module_version": "1.0.0",
      "model_name": "LabelModel",
      "state": {
       "layout": "IPY_MODEL_ec643bd46b394936b84d7d6c20394e2d",
       "style": "IPY_MODEL_7a1f5f9faf13442e9b75c76478adfb0d",
       "value": "Количество шагов по $t$:"
      }
     },
     "616f0b2a9d6b47b7a7a3c5cfca644ced": {
      "model_module": "@jupyter-widgets/controls",
      "model_module_version": "1.0.0",
      "model_name": "HBoxModel",
      "state": {
       "children": [
        "IPY_MODEL_e2ecfc44019c41779058cdc0971fb157",
        "IPY_MODEL_0c2c8c7e2bc84bd18e7d6d4244b2f91d"
       ],
       "layout": "IPY_MODEL_348c7958876e41cbb70120f97441328b"
      }
     },
     "6180754bf23d4698aaeb5c9567b12776": {
      "model_module": "@jupyter-widgets/controls",
      "model_module_version": "1.0.0",
      "model_name": "DescriptionStyleModel",
      "state": {
       "description_width": ""
      }
     },
     "61a3c5ad930d453184959eeff32ae217": {
      "model_module": "@jupyter-widgets/base",
      "model_module_version": "1.0.0",
      "model_name": "LayoutModel",
      "state": {}
     },
     "61a89a0694114cb09ad2cfe300c8f776": {
      "model_module": "@jupyter-widgets/controls",
      "model_module_version": "1.0.0",
      "model_name": "DescriptionStyleModel",
      "state": {
       "description_width": ""
      }
     },
     "61cad2e4dc72416582743f29ceca8f3b": {
      "model_module": "@jupyter-widgets/controls",
      "model_module_version": "1.0.0",
      "model_name": "DescriptionStyleModel",
      "state": {
       "description_width": ""
      }
     },
     "61d181e07cc946a0914a7832be22425e": {
      "model_module": "@jupyter-widgets/base",
      "model_module_version": "1.0.0",
      "model_name": "LayoutModel",
      "state": {}
     },
     "6242bd67e7c7468494c4a29c95aa3246": {
      "model_module": "@jupyter-widgets/controls",
      "model_module_version": "1.0.0",
      "model_name": "IntSliderModel",
      "state": {
       "description": "Step:",
       "layout": "IPY_MODEL_a53fa5c415554bbea34ff22ad1999852",
       "max": 199,
       "style": "IPY_MODEL_e031f4f8a9104ed7953998f79b3931a7"
      }
     },
     "62bd4c99fdc549b8b86a66b856ee953d": {
      "model_module": "@jupyter-widgets/base",
      "model_module_version": "1.0.0",
      "model_name": "LayoutModel",
      "state": {}
     },
     "62bf91764c2c4c70b41752087fe85776": {
      "model_module": "@jupyter-widgets/controls",
      "model_module_version": "1.0.0",
      "model_name": "FloatSliderModel",
      "state": {
       "layout": "IPY_MODEL_f59617f3883e4ef0bd8db6e5fb9461c9",
       "max": 20,
       "min": 0.1,
       "readout_format": "f",
       "step": 0.1,
       "style": "IPY_MODEL_6588c55ce4034b699049bddfde37926c",
       "value": 3
      }
     },
     "62c8bf9d5f964c5fbc198b3c95468bed": {
      "model_module": "@jupyter-widgets/controls",
      "model_module_version": "1.0.0",
      "model_name": "DescriptionStyleModel",
      "state": {
       "description_width": ""
      }
     },
     "63257ac72ade432ca3f39d7dab347ef6": {
      "model_module": "@jupyter-widgets/controls",
      "model_module_version": "1.0.0",
      "model_name": "HBoxModel",
      "state": {
       "children": [
        "IPY_MODEL_6d3961f2e3f34ae0a467e9a139bd02fc",
        "IPY_MODEL_8e54d78f267e4dbaaefb1c1f502561ae"
       ],
       "layout": "IPY_MODEL_c42f71b8e878499dbf0f0220a5ffc711"
      }
     },
     "63440777c40b4ff48e8db1577e02647e": {
      "model_module": "@jupyter-widgets/controls",
      "model_module_version": "1.0.0",
      "model_name": "HBoxModel",
      "state": {
       "children": [
        "IPY_MODEL_2b58e37f990f44959d38b26b6d103c70",
        "IPY_MODEL_0e6dd8e312224a0fade06f654102fb61"
       ],
       "layout": "IPY_MODEL_95f677e0ec6642bcb6961930f55155f2"
      }
     },
     "6346b5bf91df4f0bb6188dbcf9ee84fd": {
      "model_module": "@jupyter-widgets/controls",
      "model_module_version": "1.0.0",
      "model_name": "DescriptionStyleModel",
      "state": {
       "description_width": ""
      }
     },
     "634b21f1b15b416aba530183b756150d": {
      "model_module": "@jupyter-widgets/controls",
      "model_module_version": "1.0.0",
      "model_name": "BoundedFloatTextModel",
      "state": {
       "layout": "IPY_MODEL_60a9bb1c25f34becb441400102fb346f",
       "step": 0.01,
       "style": "IPY_MODEL_ed810d363d564ddf946ee2ce59a5d689",
       "value": 1
      }
     },
     "6386f67998e440e6a432c45a9a0f849b": {
      "model_module": "@jupyter-widgets/controls",
      "model_module_version": "1.0.0",
      "model_name": "SliderStyleModel",
      "state": {
       "description_width": ""
      }
     },
     "63de9212f093471fb6b5ee96dc21c8ea": {
      "model_module": "@jupyter-widgets/base",
      "model_module_version": "1.0.0",
      "model_name": "LayoutModel",
      "state": {}
     },
     "63e10d2dbc3f4589a08c1afbb1d224d0": {
      "model_module": "@jupyter-widgets/controls",
      "model_module_version": "1.0.0",
      "model_name": "HBoxModel",
      "state": {
       "children": [
        "IPY_MODEL_2b7a9acbb6554076bb98d177528ab97b",
        "IPY_MODEL_14f81b5bf03f4f07bef4c2a65ae2a2a1"
       ],
       "layout": "IPY_MODEL_936e2880843848748e0e90689f97fed1"
      }
     },
     "63e95b9bd0da436698359a785d9196c6": {
      "model_module": "@jupyter-widgets/controls",
      "model_module_version": "1.0.0",
      "model_name": "DescriptionStyleModel",
      "state": {
       "description_width": ""
      }
     },
     "64232b923fcd45d0ac72deb41de0c517": {
      "model_module": "@jupyter-widgets/controls",
      "model_module_version": "1.0.0",
      "model_name": "SliderStyleModel",
      "state": {
       "description_width": ""
      }
     },
     "64730b4fa8b34dcf9c6f2d612312dab1": {
      "model_module": "@jupyter-widgets/controls",
      "model_module_version": "1.0.0",
      "model_name": "SliderStyleModel",
      "state": {
       "description_width": ""
      }
     },
     "6487ae0777dc44329712462d0855f4c9": {
      "model_module": "@jupyter-widgets/base",
      "model_module_version": "1.0.0",
      "model_name": "LayoutModel",
      "state": {}
     },
     "649ef0bc096d42388515c0e1465d6ef5": {
      "model_module": "@jupyter-widgets/controls",
      "model_module_version": "1.0.0",
      "model_name": "SliderStyleModel",
      "state": {
       "description_width": ""
      }
     },
     "64aacea91be0440a976d473921babbc9": {
      "model_module": "@jupyter-widgets/controls",
      "model_module_version": "1.0.0",
      "model_name": "SliderStyleModel",
      "state": {
       "description_width": ""
      }
     },
     "64b05cc505d04bf7bd3506e923984854": {
      "model_module": "@jupyter-widgets/base",
      "model_module_version": "1.0.0",
      "model_name": "LayoutModel",
      "state": {}
     },
     "64ce9bc8c02e4e0d9823fe493cfffbf3": {
      "model_module": "@jupyter-widgets/base",
      "model_module_version": "1.0.0",
      "model_name": "LayoutModel",
      "state": {}
     },
     "64d16d9efccf4c879a857dafdeec3b55": {
      "model_module": "@jupyter-widgets/controls",
      "model_module_version": "1.0.0",
      "model_name": "DescriptionStyleModel",
      "state": {
       "description_width": ""
      }
     },
     "6511b50cfc244dee907ccb888610644b": {
      "model_module": "@jupyter-widgets/base",
      "model_module_version": "1.0.0",
      "model_name": "LayoutModel",
      "state": {}
     },
     "651ae1392400457abe0943e79ccb6000": {
      "model_module": "@jupyter-widgets/controls",
      "model_module_version": "1.0.0",
      "model_name": "SliderStyleModel",
      "state": {
       "description_width": ""
      }
     },
     "653c52b29a2c4ae9a877f4948b1e0e23": {
      "model_module": "@jupyter-widgets/base",
      "model_module_version": "1.0.0",
      "model_name": "LayoutModel",
      "state": {}
     },
     "65641da7034745ffa733025796ebad4b": {
      "model_module": "@jupyter-widgets/controls",
      "model_module_version": "1.0.0",
      "model_name": "DescriptionStyleModel",
      "state": {
       "description_width": ""
      }
     },
     "656e7b73bb994703b428f7f1fefc7965": {
      "model_module": "@jupyter-widgets/base",
      "model_module_version": "1.0.0",
      "model_name": "LayoutModel",
      "state": {}
     },
     "6588c55ce4034b699049bddfde37926c": {
      "model_module": "@jupyter-widgets/controls",
      "model_module_version": "1.0.0",
      "model_name": "SliderStyleModel",
      "state": {
       "description_width": ""
      }
     },
     "658f15013dbb4144b7b4ec5af7344007": {
      "model_module": "@jupyter-widgets/base",
      "model_module_version": "1.0.0",
      "model_name": "LayoutModel",
      "state": {}
     },
     "659b21bab0a44f2793a65bb1743f3dfb": {
      "model_module": "@jupyter-widgets/controls",
      "model_module_version": "1.0.0",
      "model_name": "HBoxModel",
      "state": {
       "children": [
        "IPY_MODEL_ee2ee7e72e574e38a7bc7e97ca8a53ed",
        "IPY_MODEL_14f81b5bf03f4f07bef4c2a65ae2a2a1"
       ],
       "layout": "IPY_MODEL_912514f9857e434495b75a0a145ed5f8"
      }
     },
     "65e1ace9ee9e4ceb9603211647ad4a49": {
      "model_module": "@jupyter-widgets/base",
      "model_module_version": "1.0.0",
      "model_name": "LayoutModel",
      "state": {}
     },
     "65e55a558cf04b6996e2df41f303a8cf": {
      "model_module": "@jupyter-widgets/controls",
      "model_module_version": "1.0.0",
      "model_name": "VBoxModel",
      "state": {
       "children": [
        "IPY_MODEL_9f29f037dbce4f56ad4901901bb7bb37",
        "IPY_MODEL_3f986c89440b454baf0c9b3ed1a3f9ed",
        "IPY_MODEL_b905d604a0344d7f9dada9ed25656342",
        "IPY_MODEL_ee082527e2ed4cda8c683fe2c63d89ca",
        "IPY_MODEL_e7ef7ef9b82f404fa4c5f8abb6628d66"
       ],
       "layout": "IPY_MODEL_c8850409e2cf468ea46d2d3daccfc5f5"
      }
     },
     "66491cb3956940e08a661fcb1bcfcbe3": {
      "model_module": "@jupyter-widgets/controls",
      "model_module_version": "1.0.0",
      "model_name": "VBoxModel",
      "state": {
       "children": [
        "IPY_MODEL_605e6c43b2fe4dec8099db27829122fb",
        "IPY_MODEL_8034ffb8aea547d98be1525105a6980e",
        "IPY_MODEL_347552f8b8f741819431a15f2ce2f66a",
        "IPY_MODEL_e8e8893fd70d418f98019087e0e5830b",
        "IPY_MODEL_da173c8c905440fea27dbe16b739f3b7"
       ],
       "layout": "IPY_MODEL_d044366073294474b55a9db53be06f80"
      }
     },
     "6694bb7ac5ce403d8348e39bb1a3e394": {
      "model_module": "@jupyter-widgets/base",
      "model_module_version": "1.0.0",
      "model_name": "LayoutModel",
      "state": {}
     },
     "66a39383a9f6461299d4cafd12af7274": {
      "model_module": "@jupyter-widgets/controls",
      "model_module_version": "1.0.0",
      "model_name": "BoundedFloatTextModel",
      "state": {
       "continuous_update": true,
       "description": "Time:",
       "layout": "IPY_MODEL_0fa3f01c3df749f78f60691549909468",
       "max": 1,
       "style": "IPY_MODEL_52f4dc15f85d4c31b11cb0f366c7744a",
       "value": 1
      }
     },
     "66b61a51f0e94cb5ae545687e05c77ea": {
      "model_module": "@jupyter-widgets/controls",
      "model_module_version": "1.0.0",
      "model_name": "BoundedFloatTextModel",
      "state": {
       "layout": "IPY_MODEL_c54b086890c045e989c2e9098d8dff85",
       "step": 0.01,
       "style": "IPY_MODEL_df00f5a56cb049d3b7a97582434de126",
       "value": 1
      }
     },
     "66c4f90577b048608d890903562acf09": {
      "model_module": "@jupyter-widgets/controls",
      "model_module_version": "1.0.0",
      "model_name": "ToggleButtonsModel",
      "state": {
       "_options_labels": [
        "Расчёт заданного числа шагов",
        "Расчёт с заданной точностью"
       ],
       "button_style": "",
       "description": "Режим работы:",
       "icons": [],
       "index": 0,
       "layout": "IPY_MODEL_ebfe29aaeea846dd9ba61b01eb5e910f",
       "style": "IPY_MODEL_6b3a02be07114b09964d1c2eff8ae643",
       "tooltips": []
      }
     },
     "66f6cfcfd0604fc0b49de810beee1e94": {
      "model_module": "@jupyter-widgets/base",
      "model_module_version": "1.0.0",
      "model_name": "LayoutModel",
      "state": {}
     },
     "66f8a041450342318a7f3e51b1b599e3": {
      "model_module": "@jupyter-widgets/base",
      "model_module_version": "1.0.0",
      "model_name": "LayoutModel",
      "state": {}
     },
     "670f72be4f0f4fdfbdded14d645dae53": {
      "model_module": "@jupyter-widgets/base",
      "model_module_version": "1.0.0",
      "model_name": "LayoutModel",
      "state": {}
     },
     "6713d10fee05481c85cd6af017793c08": {
      "model_module": "@jupyter-widgets/controls",
      "model_module_version": "1.0.0",
      "model_name": "LabelModel",
      "state": {
       "layout": "IPY_MODEL_4d3059ca7b8c41f8879f16a461d686a2",
       "style": "IPY_MODEL_09ae3d0f64324d42acfaa0b8a5d5fc0a",
       "value": "$\\large p_l$ -линейная плотность"
      }
     },
     "6728519072144786975cf9f160c4c474": {
      "model_module": "@jupyter-widgets/controls",
      "model_module_version": "1.0.0",
      "model_name": "DescriptionStyleModel",
      "state": {
       "description_width": ""
      }
     },
     "672a63f68eca48509af2c0f980f1c025": {
      "model_module": "@jupyter-widgets/base",
      "model_module_version": "1.0.0",
      "model_name": "LayoutModel",
      "state": {}
     },
     "6734b559ce9b432b9870d88594fb5551": {
      "model_module": "@jupyter-widgets/controls",
      "model_module_version": "1.0.0",
      "model_name": "HBoxModel",
      "state": {
       "children": [
        "IPY_MODEL_e2d40fc5b28a4addbbb8ff1d8fc2571e",
        "IPY_MODEL_8fcd8cfa4fdc435c9ae087974806b585"
       ],
       "layout": "IPY_MODEL_7a7524096c1948ad932c72101890b054"
      }
     },
     "673844ab12f3460d944f0b858f0e1f0a": {
      "model_module": "@jupyter-widgets/base",
      "model_module_version": "1.0.0",
      "model_name": "LayoutModel",
      "state": {}
     },
     "67680b0b2a104f4eb123466c26e3a807": {
      "model_module": "@jupyter-widgets/base",
      "model_module_version": "1.0.0",
      "model_name": "LayoutModel",
      "state": {}
     },
     "67c2984122224f7bb26ced68d4fd68c4": {
      "model_module": "@jupyter-widgets/controls",
      "model_module_version": "1.0.0",
      "model_name": "HBoxModel",
      "state": {
       "children": [
        "IPY_MODEL_594dbe1d39424720a00b710b4e40e7e6",
        "IPY_MODEL_ae0ef44b108c45248e83bcab36f06897"
       ],
       "layout": "IPY_MODEL_ea68f22fef3646b286a8320c8c283d8f"
      }
     },
     "67cce770a4fc452797657a534e7880d3": {
      "model_module": "@jupyter-widgets/base",
      "model_module_version": "1.0.0",
      "model_name": "LayoutModel",
      "state": {}
     },
     "67d66bd478924128b8ba2524feaf9c4e": {
      "model_module": "@jupyter-widgets/controls",
      "model_module_version": "1.0.0",
      "model_name": "DescriptionStyleModel",
      "state": {
       "description_width": ""
      }
     },
     "67e4b5c62be943b5933e864670d9fc26": {
      "model_module": "@jupyter-widgets/controls",
      "model_module_version": "1.0.0",
      "model_name": "SliderStyleModel",
      "state": {
       "description_width": ""
      }
     },
     "68273bf316f949d880b92a4f0976e6bb": {
      "model_module": "@jupyter-widgets/controls",
      "model_module_version": "1.0.0",
      "model_name": "LabelModel",
      "state": {
       "layout": "IPY_MODEL_c3fa94a5b6c64daa9dadf687fb73e7d7",
       "style": "IPY_MODEL_76bbd70ef85443dbade74942571271ef",
       "value": "Time:0.502512562814"
      }
     },
     "682e046fd4714d268e860b664c315aa3": {
      "model_module": "@jupyter-widgets/controls",
      "model_module_version": "1.0.0",
      "model_name": "DescriptionStyleModel",
      "state": {
       "description_width": ""
      }
     },
     "6836ec3424784af18804467f199f1099": {
      "model_module": "@jupyter-widgets/base",
      "model_module_version": "1.0.0",
      "model_name": "LayoutModel",
      "state": {}
     },
     "687fad706712461b9e26edfe92123551": {
      "model_module": "@jupyter-widgets/base",
      "model_module_version": "1.0.0",
      "model_name": "LayoutModel",
      "state": {}
     },
     "68c80a2a3b694f368d2dd6095d7c7ba9": {
      "model_module": "@jupyter-widgets/controls",
      "model_module_version": "1.0.0",
      "model_name": "HBoxModel",
      "state": {
       "children": [
        "IPY_MODEL_748faf3534284da4980a349235e42d77",
        "IPY_MODEL_ac936465caab48b2a6d83142a5472693"
       ],
       "layout": "IPY_MODEL_afe75814572d41328e74c0c4a348ff7f"
      }
     },
     "68cc0abe8d3b4fda8b5a4c7f57b4c8f6": {
      "model_module": "@jupyter-widgets/controls",
      "model_module_version": "1.0.0",
      "model_name": "VBoxModel",
      "state": {
       "children": [
        "IPY_MODEL_7644317bd6ec4fd8816c79173288e567",
        "IPY_MODEL_faf48855f3fa46a486ffd2a51e501f5e"
       ],
       "layout": "IPY_MODEL_1f7be3e360ad42f98e914cc25a90b765"
      }
     },
     "68d84589c9434d3d9eeb8cd724c38f7a": {
      "model_module": "@jupyter-widgets/controls",
      "model_module_version": "1.0.0",
      "model_name": "VBoxModel",
      "state": {
       "children": [
        "IPY_MODEL_8b583ee114704879927eb0d6c0274f5c",
        "IPY_MODEL_d40666014248457196650b318a0a0a6d",
        "IPY_MODEL_38c89cde99f9404aaa5950132df54102",
        "IPY_MODEL_7657255216d2460e80e053620e71894b",
        "IPY_MODEL_0121928ab657480da57ac93228e9bf8e"
       ],
       "layout": "IPY_MODEL_3fac642784ff448f9357f8e95f6b4d4e"
      }
     },
     "6909a634459f4f889781e6192a23398d": {
      "model_module": "@jupyter-widgets/controls",
      "model_module_version": "1.0.0",
      "model_name": "DescriptionStyleModel",
      "state": {
       "description_width": ""
      }
     },
     "695fcf47765e4b15bcb75e8650a4427b": {
      "model_module": "@jupyter-widgets/controls",
      "model_module_version": "1.0.0",
      "model_name": "HBoxModel",
      "state": {
       "children": [
        "IPY_MODEL_9e0f9ec8363b4ce5846020533a67d1d4",
        "IPY_MODEL_7112fb7a7aea4755aa160475b573fbab"
       ],
       "layout": "IPY_MODEL_7892867e536248258fc97ad5a4389bbf"
      }
     },
     "696f19b33277456cb27750c4349ba484": {
      "model_module": "@jupyter-widgets/controls",
      "model_module_version": "1.0.0",
      "model_name": "DescriptionStyleModel",
      "state": {
       "description_width": ""
      }
     },
     "69b0a66447ae4920bc90f71951caf3ff": {
      "model_module": "@jupyter-widgets/controls",
      "model_module_version": "1.0.0",
      "model_name": "HBoxModel",
      "state": {
       "children": [
        "IPY_MODEL_9f5aecd09f724477bb4fc67edb5266d5",
        "IPY_MODEL_46ef6017663347f79a741ab64b6c92c1"
       ],
       "layout": "IPY_MODEL_7a9c0438f1ef4bf09850eeb4166b2639"
      }
     },
     "69e4c681b421417290f1a0906fb6f969": {
      "model_module": "@jupyter-widgets/controls",
      "model_module_version": "1.0.0",
      "model_name": "BoundedFloatTextModel",
      "state": {
       "layout": "IPY_MODEL_9eba831681f84b3b81c91801eee596a6",
       "step": 0.01,
       "style": "IPY_MODEL_f3a7cfc5b0f64d128176cd13e8197d31",
       "value": 1
      }
     },
     "6a0be47ced4f4179826615762bacc8ff": {
      "model_module": "@jupyter-widgets/base",
      "model_module_version": "1.0.0",
      "model_name": "LayoutModel",
      "state": {}
     },
     "6a2e2d085d2a4dd5ab520f3bd9c1abb6": {
      "model_module": "@jupyter-widgets/base",
      "model_module_version": "1.0.0",
      "model_name": "LayoutModel",
      "state": {}
     },
     "6a61bb9acf664b368151eb19610187c9": {
      "model_module": "@jupyter-widgets/base",
      "model_module_version": "1.0.0",
      "model_name": "LayoutModel",
      "state": {}
     },
     "6aae2b78c07342a892890032b93a1202": {
      "model_module": "@jupyter-widgets/base",
      "model_module_version": "1.0.0",
      "model_name": "LayoutModel",
      "state": {}
     },
     "6ac450e9bf184d43a9a693946f91d4de": {
      "model_module": "@jupyter-widgets/base",
      "model_module_version": "1.0.0",
      "model_name": "LayoutModel",
      "state": {}
     },
     "6ad7ec40f2904d3594b2ee693ccf6298": {
      "model_module": "@jupyter-widgets/controls",
      "model_module_version": "1.0.0",
      "model_name": "LabelModel",
      "state": {
       "layout": "IPY_MODEL_9e9855ec8b674e12a86b995750ecb658",
       "style": "IPY_MODEL_9ca13be24bc6478ebf498c83a2c8f4f8",
       "value": "Точность:"
      }
     },
     "6ae183befda54768a26d4e00fc90389d": {
      "model_module": "@jupyter-widgets/base",
      "model_module_version": "1.0.0",
      "model_name": "LayoutModel",
      "state": {}
     },
     "6aef1f165ccd486a96620744c698f74e": {
      "model_module": "@jupyter-widgets/controls",
      "model_module_version": "1.0.0",
      "model_name": "VBoxModel",
      "state": {
       "children": [
        "IPY_MODEL_07e56ddf8f014fff8e57bc33cfd3c8be",
        "IPY_MODEL_13f3639b69e148c88ef8dda77b7216ee"
       ],
       "layout": "IPY_MODEL_9de6383ffaa4406ea065bb1746d14d5c"
      }
     },
     "6af2041c03eb43e98489e599ba61ff00": {
      "model_module": "@jupyter-widgets/controls",
      "model_module_version": "1.0.0",
      "model_name": "LabelModel",
      "state": {
       "layout": "IPY_MODEL_6f94fbb46ff749658189d3d44422f260",
       "style": "IPY_MODEL_5bb8747cb34c4ac1bf3718a2b449e2f3"
      }
     },
     "6afe2f3cb2ea45528bd6af826beecd07": {
      "model_module": "@jupyter-widgets/controls",
      "model_module_version": "1.0.0",
      "model_name": "DescriptionStyleModel",
      "state": {
       "description_width": ""
      }
     },
     "6b2e45569da140c780aa78ef2db3a514": {
      "model_module": "@jupyter-widgets/base",
      "model_module_version": "1.0.0",
      "model_name": "LayoutModel",
      "state": {}
     },
     "6b3454017f3a4b939d2d8b059e3e8e98": {
      "model_module": "@jupyter-widgets/controls",
      "model_module_version": "1.0.0",
      "model_name": "DescriptionStyleModel",
      "state": {
       "description_width": ""
      }
     },
     "6b3a02be07114b09964d1c2eff8ae643": {
      "model_module": "@jupyter-widgets/controls",
      "model_module_version": "1.0.0",
      "model_name": "ToggleButtonsStyleModel",
      "state": {
       "button_width": "",
       "description_width": ""
      }
     },
     "6bbd29d5918e471aaf403fba0ebe52f6": {
      "model_module": "@jupyter-widgets/base",
      "model_module_version": "1.0.0",
      "model_name": "LayoutModel",
      "state": {}
     },
     "6bc17e252bae48aca5ee6c9136bc87ba": {
      "model_module": "@jupyter-widgets/controls",
      "model_module_version": "1.0.0",
      "model_name": "DescriptionStyleModel",
      "state": {
       "description_width": ""
      }
     },
     "6bd4b25b512e42dca1458ab6a04f739e": {
      "model_module": "@jupyter-widgets/base",
      "model_module_version": "1.0.0",
      "model_name": "LayoutModel",
      "state": {}
     },
     "6be47de487764926bccbfb3554aa716d": {
      "model_module": "@jupyter-widgets/base",
      "model_module_version": "1.0.0",
      "model_name": "LayoutModel",
      "state": {}
     },
     "6beb877cff86447eb5b9ba3627c1f0ee": {
      "model_module": "@jupyter-widgets/base",
      "model_module_version": "1.0.0",
      "model_name": "LayoutModel",
      "state": {}
     },
     "6c42e64ec6df424da47934b386194229": {
      "model_module": "@jupyter-widgets/controls",
      "model_module_version": "1.0.0",
      "model_name": "SliderStyleModel",
      "state": {
       "description_width": ""
      }
     },
     "6c6b9789004f46f9963a8a6a8c957fec": {
      "model_module": "@jupyter-widgets/controls",
      "model_module_version": "1.0.0",
      "model_name": "DescriptionStyleModel",
      "state": {
       "description_width": ""
      }
     },
     "6c83b9512a4f4eb49fc34dad66f9f21a": {
      "model_module": "@jupyter-widgets/controls",
      "model_module_version": "1.0.0",
      "model_name": "DescriptionStyleModel",
      "state": {
       "description_width": ""
      }
     },
     "6c8c5d79539b463fafcd085c6578f685": {
      "model_module": "@jupyter-widgets/controls",
      "model_module_version": "1.0.0",
      "model_name": "DescriptionStyleModel",
      "state": {
       "description_width": ""
      }
     },
     "6ca267dc8f3b4dd5b1e38e73d5d7626a": {
      "model_module": "@jupyter-widgets/base",
      "model_module_version": "1.0.0",
      "model_name": "LayoutModel",
      "state": {}
     },
     "6cc0c4a9855742ceb1f1c63de1143b92": {
      "model_module": "@jupyter-widgets/base",
      "model_module_version": "1.0.0",
      "model_name": "LayoutModel",
      "state": {}
     },
     "6cd17209b4674af3bf5b736628cfb052": {
      "model_module": "@jupyter-widgets/controls",
      "model_module_version": "1.0.0",
      "model_name": "LabelModel",
      "state": {
       "layout": "IPY_MODEL_8c3bc44394ce4cda8fbcbc9f4a860ee7",
       "style": "IPY_MODEL_32abfbdf15074b268e259cd953b0fcdd",
       "value": "$\\large t_0$ -время подачи импульса"
      }
     },
     "6cf750614973484a886c2bbbe3e0ede1": {
      "model_module": "@jupyter-widgets/controls",
      "model_module_version": "1.0.0",
      "model_name": "DescriptionStyleModel",
      "state": {
       "description_width": ""
      }
     },
     "6cfdb6fd5ede4b47a966fb6832af9e13": {
      "model_module": "@jupyter-widgets/base",
      "model_module_version": "1.0.0",
      "model_name": "LayoutModel",
      "state": {}
     },
     "6d1c3c7fcbc64476bc0e9422dc82a02f": {
      "model_module": "@jupyter-widgets/controls",
      "model_module_version": "1.0.0",
      "model_name": "BoundedFloatTextModel",
      "state": {
       "layout": "IPY_MODEL_a0df4a30c3334239bf83e2871ae7e412",
       "step": 0.01,
       "style": "IPY_MODEL_2c2125465bbb47b09c04fe2d9b2ae3bd",
       "value": 1
      }
     },
     "6d2c251ab4814345a2caed1bdf3540b3": {
      "model_module": "@jupyter-widgets/controls",
      "model_module_version": "1.0.0",
      "model_name": "BoundedFloatTextModel",
      "state": {
       "layout": "IPY_MODEL_bce0120ff11f43deb32171332e90fff9",
       "step": 0.01,
       "style": "IPY_MODEL_2f01c59ab9f9413bad1718d91b1efc70",
       "value": 1
      }
     },
     "6d34d3c46df44e30940a27ad573d5684": {
      "model_module": "@jupyter-widgets/base",
      "model_module_version": "1.0.0",
      "model_name": "LayoutModel",
      "state": {}
     },
     "6d3961f2e3f34ae0a467e9a139bd02fc": {
      "model_module": "@jupyter-widgets/controls",
      "model_module_version": "1.0.0",
      "model_name": "IntSliderModel",
      "state": {
       "description": "Step:",
       "layout": "IPY_MODEL_a4279b7218ad431192fefa307acdf254",
       "max": 199,
       "style": "IPY_MODEL_e62c8092797b485786c511a43c4015cc",
       "value": 7
      }
     },
     "6d428b33cdca49a592d6a2f8b6a501c6": {
      "model_module": "@jupyter-widgets/controls",
      "model_module_version": "1.0.0",
      "model_name": "DescriptionStyleModel",
      "state": {
       "description_width": ""
      }
     },
     "6d8b9694b71b418dad98d64857747478": {
      "model_module": "@jupyter-widgets/base",
      "model_module_version": "1.0.0",
      "model_name": "LayoutModel",
      "state": {}
     },
     "6da1840a068a4c4288338f260f6ce76b": {
      "model_module": "@jupyter-widgets/controls",
      "model_module_version": "1.0.0",
      "model_name": "HBoxModel",
      "state": {
       "children": [
        "IPY_MODEL_03e270b29b194ed889e8a501452397f9",
        "IPY_MODEL_d2c289f12ff647138b6fc341ca7d4806"
       ],
       "layout": "IPY_MODEL_83965299777c4b4c9e4ba18f1e713bb7"
      }
     },
     "6db400bb20b44d1f82ba4e741cdd97ec": {
      "model_module": "@jupyter-widgets/controls",
      "model_module_version": "1.0.0",
      "model_name": "IntSliderModel",
      "state": {
       "description": "Step:",
       "layout": "IPY_MODEL_acf75b2b5f904fa4bbc9e6722f8f8a35",
       "max": 199,
       "style": "IPY_MODEL_1cf2e418350e4da9adc77109b95bb66e",
       "value": 7
      }
     },
     "6de655a14c154ab894af40877dab6f40": {
      "model_module": "@jupyter-widgets/base",
      "model_module_version": "1.0.0",
      "model_name": "LayoutModel",
      "state": {}
     },
     "6dfb6c1977e44101b5b5ecb82891ead7": {
      "model_module": "@jupyter-widgets/base",
      "model_module_version": "1.0.0",
      "model_name": "LayoutModel",
      "state": {}
     },
     "6e096a8ab3f54ac397a8534c11bfc86e": {
      "model_module": "@jupyter-widgets/controls",
      "model_module_version": "1.0.0",
      "model_name": "DescriptionStyleModel",
      "state": {
       "description_width": ""
      }
     },
     "6e5a8ef823da414885a4b4efe038052a": {
      "model_module": "@jupyter-widgets/controls",
      "model_module_version": "1.0.0",
      "model_name": "SliderStyleModel",
      "state": {
       "description_width": ""
      }
     },
     "6eba3ac5f33b4a6fb7105d87a639e937": {
      "model_module": "@jupyter-widgets/controls",
      "model_module_version": "1.0.0",
      "model_name": "LabelModel",
      "state": {
       "layout": "IPY_MODEL_fa8e079a73ff49589d9faea4702cc77f",
       "style": "IPY_MODEL_a2c8a1e1b99a4357a5680bc392c14e0a",
       "value": "Time:0.0"
      }
     },
     "6ebb15773e7a4b6c876dd19656e65605": {
      "model_module": "@jupyter-widgets/base",
      "model_module_version": "1.0.0",
      "model_name": "LayoutModel",
      "state": {}
     },
     "6ed766455ffb4dd6b3ebfaf3598ce13c": {
      "model_module": "@jupyter-widgets/controls",
      "model_module_version": "1.0.0",
      "model_name": "LabelModel",
      "state": {
       "layout": "IPY_MODEL_ad48bf6002af433e934c0be623504c52",
       "style": "IPY_MODEL_d94d5f5ca2434531bd1717759f4b7dae"
      }
     },
     "6f3d0ce3e3934c6788ba587d6d033649": {
      "model_module": "@jupyter-widgets/base",
      "model_module_version": "1.0.0",
      "model_name": "LayoutModel",
      "state": {}
     },
     "6f471289ca30492d80aa85411898c963": {
      "model_module": "@jupyter-widgets/controls",
      "model_module_version": "1.0.0",
      "model_name": "SliderStyleModel",
      "state": {
       "description_width": ""
      }
     },
     "6f58ea34a6ee47918d6080694299975f": {
      "model_module": "@jupyter-widgets/base",
      "model_module_version": "1.0.0",
      "model_name": "LayoutModel",
      "state": {}
     },
     "6f82c57c4b0d42fe9e10d0b950f0e9c4": {
      "model_module": "@jupyter-widgets/controls",
      "model_module_version": "1.0.0",
      "model_name": "LabelModel",
      "state": {
       "layout": "IPY_MODEL_2301bab855634643a8639b29df0ab693",
       "style": "IPY_MODEL_b9590f013c914a768c611c2f7880da67",
       "value": "Time:0.246231155779"
      }
     },
     "6f89c9a434b54d9aabaf9bc2eb6bb475": {
      "model_module": "@jupyter-widgets/base",
      "model_module_version": "1.0.0",
      "model_name": "LayoutModel",
      "state": {}
     },
     "6f94fbb46ff749658189d3d44422f260": {
      "model_module": "@jupyter-widgets/base",
      "model_module_version": "1.0.0",
      "model_name": "LayoutModel",
      "state": {}
     },
     "6f9c16dbdc0748fd85b60c75a11c1900": {
      "model_module": "@jupyter-widgets/controls",
      "model_module_version": "1.0.0",
      "model_name": "DescriptionStyleModel",
      "state": {
       "description_width": ""
      }
     },
     "6fa3aef51e484115b45978ac1489ac96": {
      "model_module": "@jupyter-widgets/controls",
      "model_module_version": "1.0.0",
      "model_name": "DescriptionStyleModel",
      "state": {
       "description_width": ""
      }
     },
     "6fb56f75e52b4e289652d9575da34f7a": {
      "model_module": "@jupyter-widgets/controls",
      "model_module_version": "1.0.0",
      "model_name": "DescriptionStyleModel",
      "state": {
       "description_width": ""
      }
     },
     "6fd196b71e754b0585d739c461f95112": {
      "model_module": "@jupyter-widgets/controls",
      "model_module_version": "1.0.0",
      "model_name": "DescriptionStyleModel",
      "state": {
       "description_width": ""
      }
     },
     "6ff4758eecc94749b4f8f257558c449b": {
      "model_module": "@jupyter-widgets/controls",
      "model_module_version": "1.0.0",
      "model_name": "FloatSliderModel",
      "state": {
       "layout": "IPY_MODEL_24e07ca3c9c2461ca642db449c8bb424",
       "max": 20,
       "min": 0.1,
       "readout_format": "f",
       "step": 0.1,
       "style": "IPY_MODEL_8bf3f176b50d4cfab9cd01557a9248e5",
       "value": 3.2
      }
     },
     "7004955d0a6845478cfca1ab4fcc94bd": {
      "model_module": "@jupyter-widgets/controls",
      "model_module_version": "1.0.0",
      "model_name": "LabelModel",
      "state": {
       "layout": "IPY_MODEL_35cbe0015d89411781cb5c428bd359f9",
       "style": "IPY_MODEL_349ea930a8da4fcc9ad49dab109d7b10",
       "value": "Длительность анимации"
      }
     },
     "701491cb23a849a4a2f806381ae9da88": {
      "model_module": "@jupyter-widgets/controls",
      "model_module_version": "1.0.0",
      "model_name": "HBoxModel",
      "state": {
       "children": [
        "IPY_MODEL_310a68591fec498d95a48b3508d621f3",
        "IPY_MODEL_cd75e5aaef4a4bdbb874ac05c53e6b36"
       ],
       "layout": "IPY_MODEL_84b0a6d4f46e4145b928b26cc33e552a"
      }
     },
     "702b9bc45e7b4564aa5385bf4617d1b7": {
      "model_module": "@jupyter-widgets/controls",
      "model_module_version": "1.0.0",
      "model_name": "DescriptionStyleModel",
      "state": {
       "description_width": ""
      }
     },
     "7043eda1234d4226a18f4d27818811c5": {
      "model_module": "@jupyter-widgets/base",
      "model_module_version": "1.0.0",
      "model_name": "LayoutModel",
      "state": {}
     },
     "704d9b708d8c45b38b8f0f5ec8ea9849": {
      "model_module": "@jupyter-widgets/controls",
      "model_module_version": "1.0.0",
      "model_name": "HBoxModel",
      "state": {
       "children": [
        "IPY_MODEL_514bb03cb8a1475b8a42d6a25e0f9706",
        "IPY_MODEL_0af58827cc414428ab1fc0deaaff681b"
       ],
       "layout": "IPY_MODEL_28791033e9784d1cac29c8c282bcbb1a"
      }
     },
     "709673651f7046ecb54f67793296839c": {
      "model_module": "@jupyter-widgets/controls",
      "model_module_version": "1.0.0",
      "model_name": "DescriptionStyleModel",
      "state": {
       "description_width": ""
      }
     },
     "70b5144701834112aec5bf17723cef89": {
      "model_module": "@jupyter-widgets/base",
      "model_module_version": "1.0.0",
      "model_name": "LayoutModel",
      "state": {}
     },
     "70e942464fd441f6b8c70736bc18c7e4": {
      "model_module": "@jupyter-widgets/controls",
      "model_module_version": "1.0.0",
      "model_name": "HBoxModel",
      "state": {
       "children": [
        "IPY_MODEL_6242bd67e7c7468494c4a29c95aa3246",
        "IPY_MODEL_32fcd999c8d74d73a4c77a9522c28023"
       ],
       "layout": "IPY_MODEL_b586665b49a54d44ab30f34407b189f9"
      }
     },
     "7112fb7a7aea4755aa160475b573fbab": {
      "model_module": "@jupyter-widgets/controls",
      "model_module_version": "1.0.0",
      "model_name": "BoundedFloatTextModel",
      "state": {
       "layout": "IPY_MODEL_a63d1ec2ba094fa7b7b37280a6f4aff7",
       "max": 0.1,
       "step": 0.001,
       "style": "IPY_MODEL_6afe2f3cb2ea45528bd6af826beecd07",
       "value": 0.01
      }
     },
     "7147f82f291f4e1bbfd759ad212e303b": {
      "model_module": "@jupyter-widgets/controls",
      "model_module_version": "1.0.0",
      "model_name": "SliderStyleModel",
      "state": {
       "description_width": ""
      }
     },
     "717b96dcecb14541af7e3b3c372dd17f": {
      "model_module": "@jupyter-widgets/controls",
      "model_module_version": "1.0.0",
      "model_name": "LabelModel",
      "state": {
       "layout": "IPY_MODEL_ecc581f59fa649328e45d701f9f9eb6a",
       "style": "IPY_MODEL_82f88838f636436c9ebc5d85d7a2b6fc"
      }
     },
     "7183a2dc4ef04c768f547f56da787a61": {
      "model_module": "@jupyter-widgets/controls",
      "model_module_version": "1.0.0",
      "model_name": "HBoxModel",
      "state": {
       "children": [
        "IPY_MODEL_12cc36aacd554a46b1a8227e71b38d99",
        "IPY_MODEL_94e80ef03db34b41b6dc446bc006c16e"
       ],
       "layout": "IPY_MODEL_86a7c9b7266d41a4b1e4606b8a67e270"
      }
     },
     "71da7c3bdc38479e81114ed5d8685918": {
      "model_module": "@jupyter-widgets/controls",
      "model_module_version": "1.0.0",
      "model_name": "DescriptionStyleModel",
      "state": {
       "description_width": ""
      }
     },
     "72218feb7a1a41dab04ced491763d33d": {
      "model_module": "@jupyter-widgets/controls",
      "model_module_version": "1.0.0",
      "model_name": "DescriptionStyleModel",
      "state": {
       "description_width": ""
      }
     },
     "7248d86bd18d417bab4ae72374af6232": {
      "model_module": "@jupyter-widgets/base",
      "model_module_version": "1.0.0",
      "model_name": "LayoutModel",
      "state": {}
     },
     "7261242a80b74b0a9af6d1767b052680": {
      "model_module": "@jupyter-widgets/controls",
      "model_module_version": "1.0.0",
      "model_name": "LabelModel",
      "state": {
       "layout": "IPY_MODEL_a31aa64ae721482b93eaad02b275e04b",
       "style": "IPY_MODEL_d820dd6a246a4d3e83f0f6e79ef3b8d0",
       "value": "$\\large a$ -амплитуда импульса"
      }
     },
     "7268874566e946acad200b09e2992826": {
      "model_module": "@jupyter-widgets/base",
      "model_module_version": "1.0.0",
      "model_name": "LayoutModel",
      "state": {}
     },
     "72c89369fe9b40568419efad769d3283": {
      "model_module": "@jupyter-widgets/controls",
      "model_module_version": "1.0.0",
      "model_name": "SliderStyleModel",
      "state": {
       "description_width": ""
      }
     },
     "72dd8900ee154560a78c72d8df770666": {
      "model_module": "@jupyter-widgets/base",
      "model_module_version": "1.0.0",
      "model_name": "LayoutModel",
      "state": {}
     },
     "72f0d02a408a4aa1bc8a30f08d2be41f": {
      "model_module": "@jupyter-widgets/controls",
      "model_module_version": "1.0.0",
      "model_name": "VBoxModel",
      "state": {
       "children": [
        "IPY_MODEL_a593a4067d1e43fe9c1218851d8a38ba",
        "IPY_MODEL_db056da35c004eb8a0185294ffb818a1"
       ],
       "layout": "IPY_MODEL_f8a4b7a84f94467e811e8ee8ab9337a0"
      }
     },
     "72f3dd7c681e4161a6ccb0c06f0ebf07": {
      "model_module": "@jupyter-widgets/controls",
      "model_module_version": "1.0.0",
      "model_name": "HBoxModel",
      "state": {
       "children": [
        "IPY_MODEL_5342df9983a0473c9dc9fbff7fcd5457",
        "IPY_MODEL_6f82c57c4b0d42fe9e10d0b950f0e9c4"
       ],
       "layout": "IPY_MODEL_9fc85cc547d54cb1b0c7abb6d4591292"
      }
     },
     "731d724e2ee94a99a7f2b29948c09ca0": {
      "model_module": "@jupyter-widgets/controls",
      "model_module_version": "1.0.0",
      "model_name": "DescriptionStyleModel",
      "state": {
       "description_width": ""
      }
     },
     "737edc7d793d4127bd8c42812304d9db": {
      "model_module": "@jupyter-widgets/base",
      "model_module_version": "1.0.0",
      "model_name": "LayoutModel",
      "state": {}
     },
     "738b2e12002f469eacb28a88840c5e83": {
      "model_module": "@jupyter-widgets/base",
      "model_module_version": "1.0.0",
      "model_name": "LayoutModel",
      "state": {}
     },
     "739c3334e6eb4ca3a8ebe6ca14220771": {
      "model_module": "@jupyter-widgets/controls",
      "model_module_version": "1.0.0",
      "model_name": "ToggleButtonsModel",
      "state": {
       "_options_labels": [
        "Расчёт заданного числа шагов",
        "Расчёт с заданной точностью"
       ],
       "button_style": "",
       "description": "Режим работы:",
       "icons": [],
       "index": 0,
       "layout": "IPY_MODEL_7fa9dba399114d94abfd7e1eada4d322",
       "style": "IPY_MODEL_23959f33d6074401b7f640d7d900dce1",
       "tooltips": []
      }
     },
     "73b2be23b6d44a65b085e37de61d327f": {
      "model_module": "@jupyter-widgets/controls",
      "model_module_version": "1.0.0",
      "model_name": "HBoxModel",
      "state": {
       "children": [
        "IPY_MODEL_11d6cc4900eb4b00addf0644a6b52403",
        "IPY_MODEL_8bb443c134834ec3b24ee67121feaba4"
       ],
       "layout": "IPY_MODEL_f48f9aa16a6548b49b5e06891b4880d3"
      }
     },
     "73c6b9a634a44f23b9f3cf188c24c7f8": {
      "model_module": "@jupyter-widgets/controls",
      "model_module_version": "1.0.0",
      "model_name": "LabelModel",
      "state": {
       "layout": "IPY_MODEL_3b0bd26da7954667882769b5c72fec72",
       "style": "IPY_MODEL_87097187fc6542ffa840d2cca063d11b"
      }
     },
     "73d8f464de0d429a8ea9168dd123d8e7": {
      "model_module": "@jupyter-widgets/base",
      "model_module_version": "1.0.0",
      "model_name": "LayoutModel",
      "state": {}
     },
     "7402719f016e4baa9078cbbca77ba370": {
      "model_module": "@jupyter-widgets/base",
      "model_module_version": "1.0.0",
      "model_name": "LayoutModel",
      "state": {}
     },
     "741e595e3c5f4ef4a39fdeede1b1f974": {
      "model_module": "@jupyter-widgets/controls",
      "model_module_version": "1.0.0",
      "model_name": "DescriptionStyleModel",
      "state": {
       "description_width": ""
      }
     },
     "74283d60b44a4cd597b4015a97ddfba5": {
      "model_module": "@jupyter-widgets/controls",
      "model_module_version": "1.0.0",
      "model_name": "DescriptionStyleModel",
      "state": {
       "description_width": ""
      }
     },
     "743c875dfc2442888ec5342bc87a8f40": {
      "model_module": "@jupyter-widgets/controls",
      "model_module_version": "1.0.0",
      "model_name": "LabelModel",
      "state": {
       "layout": "IPY_MODEL_19c93fa96c8248b597a8242ec80056b8",
       "style": "IPY_MODEL_33a5e59d19414284800e7136fa8dfbe7",
       "value": "$\\large T$ -сила натяжения струны"
      }
     },
     "74430cfd18a84a3bab45cc22c5ed9477": {
      "model_module": "@jupyter-widgets/controls",
      "model_module_version": "1.0.0",
      "model_name": "DescriptionStyleModel",
      "state": {
       "description_width": ""
      }
     },
     "74582336f9194cdea6ef9ecb2e876a3f": {
      "model_module": "@jupyter-widgets/base",
      "model_module_version": "1.0.0",
      "model_name": "LayoutModel",
      "state": {}
     },
     "745a7cd07aec4820a28e09402f9e4681": {
      "model_module": "@jupyter-widgets/base",
      "model_module_version": "1.0.0",
      "model_name": "LayoutModel",
      "state": {}
     },
     "748faf3534284da4980a349235e42d77": {
      "model_module": "@jupyter-widgets/controls",
      "model_module_version": "1.0.0",
      "model_name": "IntSliderModel",
      "state": {
       "description": "Step:",
       "layout": "IPY_MODEL_58a4bb1f071d4579a51f973e2fe5d8c1",
       "max": 199,
       "style": "IPY_MODEL_649ef0bc096d42388515c0e1465d6ef5",
       "value": 7
      }
     },
     "74c2e37194c845d08d6803a1ed022ef1": {
      "model_module": "@jupyter-widgets/controls",
      "model_module_version": "1.0.0",
      "model_name": "HBoxModel",
      "state": {
       "children": [
        "IPY_MODEL_f462f81e8a0946dc918eb801e246469c",
        "IPY_MODEL_2e3a29ed816e417e9ea8921a420fa267"
       ],
       "layout": "IPY_MODEL_cd9ab5bcb94a485a9fb18c87624ea3f9"
      }
     },
     "74ccd60e8b834539a86b6f98e4a824c6": {
      "model_module": "@jupyter-widgets/base",
      "model_module_version": "1.0.0",
      "model_name": "LayoutModel",
      "state": {}
     },
     "74fb3835794345389b48cb9065c1547f": {
      "model_module": "@jupyter-widgets/controls",
      "model_module_version": "1.0.0",
      "model_name": "LabelModel",
      "state": {
       "layout": "IPY_MODEL_77496b773dd64034a3957333c48b20ae",
       "style": "IPY_MODEL_0ce2cbe80e6742ef919424d6adbab2fb",
       "value": "Количество шагов по $t$:"
      }
     },
     "75002a07022f4431b813e8473c3a6448": {
      "model_module": "@jupyter-widgets/base",
      "model_module_version": "1.0.0",
      "model_name": "LayoutModel",
      "state": {}
     },
     "7549fbf703ad4dd08693c68f727aca0c": {
      "model_module": "@jupyter-widgets/base",
      "model_module_version": "1.0.0",
      "model_name": "LayoutModel",
      "state": {}
     },
     "756ff507a1fb40cea18f5e43e712505c": {
      "model_module": "@jupyter-widgets/base",
      "model_module_version": "1.0.0",
      "model_name": "LayoutModel",
      "state": {}
     },
     "758a0eaff3fb43a9a1a7d4a9d1270eed": {
      "model_module": "@jupyter-widgets/base",
      "model_module_version": "1.0.0",
      "model_name": "LayoutModel",
      "state": {}
     },
     "7597ca28ec994aadbc1b9270c28db8a0": {
      "model_module": "@jupyter-widgets/controls",
      "model_module_version": "1.0.0",
      "model_name": "LabelModel",
      "state": {
       "layout": "IPY_MODEL_208a27f001e5476bab7da7973fddc6a4",
       "style": "IPY_MODEL_202b73fa51b6433186c723c26c498582",
       "value": "Time:0.170804020101"
      }
     },
     "75d924815b2c4cbeb0e3eec520033f44": {
      "model_module": "@jupyter-widgets/controls",
      "model_module_version": "1.0.0",
      "model_name": "BoundedFloatTextModel",
      "state": {
       "continuous_update": true,
       "description": "Time:",
       "layout": "IPY_MODEL_c1716c1b2be543d28dcceee441339ba3",
       "max": 1,
       "style": "IPY_MODEL_04e12303738042bfbf927dbb90c51467"
      }
     },
     "75db869888fe4a6f92787769080a8431": {
      "model_module": "@jupyter-widgets/base",
      "model_module_version": "1.0.0",
      "model_name": "LayoutModel",
      "state": {}
     },
     "75e7921ff861413387f8af9ac36d97a0": {
      "model_module": "@jupyter-widgets/controls",
      "model_module_version": "1.0.0",
      "model_name": "LabelModel",
      "state": {
       "layout": "IPY_MODEL_109499361f9441f48a2fa33ac3f7345d",
       "style": "IPY_MODEL_8d1df97598c84fe89169719f57b33b5a",
       "value": "$\\large t_0$ -время подачи импульса"
      }
     },
     "75f6b35de1bd4e6187cda3f492d11443": {
      "model_module": "@jupyter-widgets/controls",
      "model_module_version": "1.0.0",
      "model_name": "HBoxModel",
      "state": {
       "children": [
        "IPY_MODEL_a8ee580d661441b1bc8d913bd0448b98",
        "IPY_MODEL_789754e312e74f43a6379df91d6d3d2d"
       ],
       "layout": "IPY_MODEL_63de9212f093471fb6b5ee96dc21c8ea"
      }
     },
     "75fb13bdc193418b996f3cea5ddb0932": {
      "model_module": "@jupyter-widgets/controls",
      "model_module_version": "1.0.0",
      "model_name": "BoundedFloatTextModel",
      "state": {
       "layout": "IPY_MODEL_d7d90ff9ca144e31bbd1500a5247b03b",
       "step": 0.01,
       "style": "IPY_MODEL_7b39bb25fb9f44e7861bf37ca53ffc15",
       "value": 1
      }
     },
     "7606eff5ccdd4893a8fadc128e1cfc81": {
      "model_module": "@jupyter-widgets/controls",
      "model_module_version": "1.0.0",
      "model_name": "DescriptionStyleModel",
      "state": {
       "description_width": ""
      }
     },
     "76108815a4994090b7c6c9a4789923f2": {
      "model_module": "@jupyter-widgets/base",
      "model_module_version": "1.0.0",
      "model_name": "LayoutModel",
      "state": {}
     },
     "76146753c1ff454aabd1f079d4eed6f2": {
      "model_module": "@jupyter-widgets/controls",
      "model_module_version": "1.0.0",
      "model_name": "DescriptionStyleModel",
      "state": {
       "description_width": ""
      }
     },
     "7638778c20304ce797f4098ebe68308c": {
      "model_module": "@jupyter-widgets/base",
      "model_module_version": "1.0.0",
      "model_name": "LayoutModel",
      "state": {}
     },
     "763a0d5a368149a2b99a54fde4b205b8": {
      "model_module": "@jupyter-widgets/controls",
      "model_module_version": "1.0.0",
      "model_name": "BoundedFloatTextModel",
      "state": {
       "continuous_update": true,
       "description": "Time:",
       "layout": "IPY_MODEL_43a3fee4c23644399f2e441bc2a075b4",
       "max": 1,
       "style": "IPY_MODEL_3b1a5f24890e4ebe95508523a01f73ec"
      }
     },
     "7643a192858140e280590757b427d880": {
      "model_module": "@jupyter-widgets/base",
      "model_module_version": "1.0.0",
      "model_name": "LayoutModel",
      "state": {}
     },
     "7644317bd6ec4fd8816c79173288e567": {
      "model_module": "@jupyter-widgets/controls",
      "model_module_version": "1.0.0",
      "model_name": "LabelModel",
      "state": {
       "layout": "IPY_MODEL_ba4644535cf540feb5df3bce38f2b950",
       "style": "IPY_MODEL_8b130e2f6fb649cb890ca28f5a5a8f50",
       "value": "Длительность анимации"
      }
     },
     "7657255216d2460e80e053620e71894b": {
      "model_module": "@jupyter-widgets/controls",
      "model_module_version": "1.0.0",
      "model_name": "HBoxModel",
      "state": {
       "children": [
        "IPY_MODEL_e6f0bfc085d84e9aa2230954d9419557",
        "IPY_MODEL_cf6a62a91f1548cfbd578df952e6baa1"
       ],
       "layout": "IPY_MODEL_07fecc9bf7ab47c18478819448ffbbf2"
      }
     },
     "7683cc7a63e34b019b51b27dca0b1fc1": {
      "model_module": "@jupyter-widgets/controls",
      "model_module_version": "1.0.0",
      "model_name": "SliderStyleModel",
      "state": {
       "description_width": ""
      }
     },
     "76bbd70ef85443dbade74942571271ef": {
      "model_module": "@jupyter-widgets/controls",
      "model_module_version": "1.0.0",
      "model_name": "DescriptionStyleModel",
      "state": {
       "description_width": ""
      }
     },
     "76c1e39a76904c2d864cb96376227eec": {
      "model_module": "@jupyter-widgets/controls",
      "model_module_version": "1.0.0",
      "model_name": "DescriptionStyleModel",
      "state": {
       "description_width": ""
      }
     },
     "76f2bcf76695408b95f8d137a46dc119": {
      "model_module": "@jupyter-widgets/controls",
      "model_module_version": "1.0.0",
      "model_name": "HBoxModel",
      "state": {
       "children": [
        "IPY_MODEL_ab8999cfff02471695ab27e59fc83a3d",
        "IPY_MODEL_e28a063309974a1182797e9ed65ade57"
       ],
       "layout": "IPY_MODEL_c6d2bfba4ea9436c973eab9199901c25"
      }
     },
     "76f7d75a1f0e4dfe8bd6023605a6aa25": {
      "model_module": "@jupyter-widgets/controls",
      "model_module_version": "1.0.0",
      "model_name": "BoundedFloatTextModel",
      "state": {
       "layout": "IPY_MODEL_18a069fb1c084d8d9a4f492213881a45",
       "step": 0.01,
       "style": "IPY_MODEL_ef0641c3ca3749928ffa625cae5ca0d6",
       "value": 1
      }
     },
     "7737fbde50204ce793b1bfbd9a2a21c4": {
      "model_module": "@jupyter-widgets/controls",
      "model_module_version": "1.0.0",
      "model_name": "DescriptionStyleModel",
      "state": {
       "description_width": ""
      }
     },
     "773eea9191994ce2aa5b595bc8cf9a57": {
      "model_module": "@jupyter-widgets/base",
      "model_module_version": "1.0.0",
      "model_name": "LayoutModel",
      "state": {}
     },
     "77496b773dd64034a3957333c48b20ae": {
      "model_module": "@jupyter-widgets/base",
      "model_module_version": "1.0.0",
      "model_name": "LayoutModel",
      "state": {}
     },
     "7789246a9b974544bbffe7717fd4df82": {
      "model_module": "@jupyter-widgets/controls",
      "model_module_version": "1.0.0",
      "model_name": "HBoxModel",
      "state": {
       "children": [
        "IPY_MODEL_dd19e09cce514c2c9bb49bfdc68d7dde",
        "IPY_MODEL_03380aa5b63e486db4f7a833919dd155"
       ],
       "layout": "IPY_MODEL_ad3236ff26d641e9a9e116d74235038b"
      }
     },
     "779a5fdc3f1b43408772d9002a346254": {
      "model_module": "@jupyter-widgets/controls",
      "model_module_version": "1.0.0",
      "model_name": "HBoxModel",
      "state": {
       "children": [
        "IPY_MODEL_1d03543216fb4b31b4bd2461a862d62b",
        "IPY_MODEL_ceaa45733c8a4f25b460cee51018b1e8"
       ],
       "layout": "IPY_MODEL_86d8cea31a634e959fe0694743dea9f9"
      }
     },
     "77b5095d839b4e4d8d22402c4698972d": {
      "model_module": "@jupyter-widgets/controls",
      "model_module_version": "1.0.0",
      "model_name": "BoundedFloatTextModel",
      "state": {
       "layout": "IPY_MODEL_85418e4e681f461180e06f9c0b62ea3e",
       "step": 0.01,
       "style": "IPY_MODEL_6fd196b71e754b0585d739c461f95112",
       "value": 1
      }
     },
     "77bbcc985dc544e68e5c875e3d07ad4b": {
      "model_module": "@jupyter-widgets/controls",
      "model_module_version": "1.0.0",
      "model_name": "BoundedFloatTextModel",
      "state": {
       "layout": "IPY_MODEL_bd95c454bb2840b0b921b05c681bf0b7",
       "step": 0.01,
       "style": "IPY_MODEL_042249aa38234fd1afba824787cf8c91",
       "value": 1
      }
     },
     "77cf962467144588ae18aef1bf6e9f13": {
      "model_module": "@jupyter-widgets/controls",
      "model_module_version": "1.0.0",
      "model_name": "HBoxModel",
      "state": {
       "children": [
        "IPY_MODEL_7a078480653848f3aee4989dcb3aeb05",
        "IPY_MODEL_b56d34ba15484ee4bf2d17a9bc6a217d"
       ],
       "layout": "IPY_MODEL_30546b0852b2400898de2659c18edb43"
      }
     },
     "78355c6c7af64c42a397c7215a94475d": {
      "model_module": "@jupyter-widgets/controls",
      "model_module_version": "1.0.0",
      "model_name": "DescriptionStyleModel",
      "state": {
       "description_width": ""
      }
     },
     "788108fa00154e5d880098e67f8b20d1": {
      "model_module": "@jupyter-widgets/controls",
      "model_module_version": "1.0.0",
      "model_name": "DescriptionStyleModel",
      "state": {
       "description_width": ""
      }
     },
     "7892867e536248258fc97ad5a4389bbf": {
      "model_module": "@jupyter-widgets/base",
      "model_module_version": "1.0.0",
      "model_name": "LayoutModel",
      "state": {}
     },
     "789754e312e74f43a6379df91d6d3d2d": {
      "model_module": "@jupyter-widgets/controls",
      "model_module_version": "1.0.0",
      "model_name": "BoundedIntTextModel",
      "state": {
       "layout": "IPY_MODEL_399c048a11b349c8a5f02a6842ec5e66",
       "max": 1000,
       "min": 50,
       "step": 100,
       "style": "IPY_MODEL_ea7abdb0e64147658db3f817b4c18cbe",
       "value": 100
      }
     },
     "789a5aa108c34670a817dbbd310d51b4": {
      "model_module": "@jupyter-widgets/controls",
      "model_module_version": "1.0.0",
      "model_name": "LabelModel",
      "state": {
       "layout": "IPY_MODEL_bffccea52ee64c40b5ba136a9593805e",
       "style": "IPY_MODEL_d4f2c6c619aa4ef39d5fcfae3c6ff6d7"
      }
     },
     "78bc60b8ca424d67916c50d55dc1e074": {
      "model_module": "@jupyter-widgets/controls",
      "model_module_version": "1.0.0",
      "model_name": "DescriptionStyleModel",
      "state": {
       "description_width": ""
      }
     },
     "79136accb54a4421841f745d9e60521b": {
      "model_module": "@jupyter-widgets/controls",
      "model_module_version": "1.0.0",
      "model_name": "LabelModel",
      "state": {
       "layout": "IPY_MODEL_e4b792e1d30949eaa9242ffe013521e7",
       "style": "IPY_MODEL_a369e324660b4eeaaa1d247a84445a5f",
       "value": "Время симуляции:"
      }
     },
     "7919afb8335c409687898219b3911a4e": {
      "model_module": "@jupyter-widgets/base",
      "model_module_version": "1.0.0",
      "model_name": "LayoutModel",
      "state": {}
     },
     "79272460a81547b08d00de2042a5f3bc": {
      "model_module": "@jupyter-widgets/base",
      "model_module_version": "1.0.0",
      "model_name": "LayoutModel",
      "state": {}
     },
     "793c6dcd76d745589fdb920b5533c034": {
      "model_module": "@jupyter-widgets/controls",
      "model_module_version": "1.0.0",
      "model_name": "HBoxModel",
      "state": {
       "children": [
        "IPY_MODEL_a90df4c9ce824f02a570d04510a3a281",
        "IPY_MODEL_68273bf316f949d880b92a4f0976e6bb"
       ],
       "layout": "IPY_MODEL_addaa19e06644586a886ada0bf4925ed"
      }
     },
     "794d41b2633143dca69d7a09b353a982": {
      "model_module": "@jupyter-widgets/base",
      "model_module_version": "1.0.0",
      "model_name": "LayoutModel",
      "state": {}
     },
     "794e0a586c414b46855bbd342d66d6ef": {
      "model_module": "@jupyter-widgets/controls",
      "model_module_version": "1.0.0",
      "model_name": "DescriptionStyleModel",
      "state": {
       "description_width": ""
      }
     },
     "795a04026d0d4753b8812604c2fbc236": {
      "model_module": "@jupyter-widgets/controls",
      "model_module_version": "1.0.0",
      "model_name": "LabelModel",
      "state": {
       "layout": "IPY_MODEL_a13a172566ff4455b464369f24561177",
       "style": "IPY_MODEL_7d559e5e0fcd42bcb9efc41a856db06c",
       "value": "Количество шагов по $t$:"
      }
     },
     "797abb7ac953496392e88455e52695e8": {
      "model_module": "@jupyter-widgets/controls",
      "model_module_version": "1.0.0",
      "model_name": "HBoxModel",
      "state": {
       "children": [
        "IPY_MODEL_a7bde63859dd40bfa2257a11da004d77",
        "IPY_MODEL_6eba3ac5f33b4a6fb7105d87a639e937"
       ],
       "layout": "IPY_MODEL_bcdffeb8e03a40728dd2d660ffd0137e"
      }
     },
     "799dcb8ff4d84b2d848a112f48cccef1": {
      "model_module": "@jupyter-widgets/controls",
      "model_module_version": "1.0.0",
      "model_name": "HBoxModel",
      "state": {
       "children": [
        "IPY_MODEL_c63d02b8970546bbbf2be92768c8b2aa",
        "IPY_MODEL_5d76ba3b0deb4cb3b8aa0de147e4ef6c"
       ],
       "layout": "IPY_MODEL_8295f3dce9e94f82bdaf9aabbc109bdd"
      }
     },
     "79bc0d7320f64186822b53920a3c269f": {
      "model_module": "@jupyter-widgets/base",
      "model_module_version": "1.0.0",
      "model_name": "LayoutModel",
      "state": {}
     },
     "79bf4e55832e435db87fd269b9e39fae": {
      "model_module": "@jupyter-widgets/base",
      "model_module_version": "1.0.0",
      "model_name": "LayoutModel",
      "state": {}
     },
     "79e21a32823748a68066540da1c80733": {
      "model_module": "@jupyter-widgets/controls",
      "model_module_version": "1.0.0",
      "model_name": "ToggleButtonsModel",
      "state": {
       "_options_labels": [
        "Расчёт заданного числа шагов",
        "Расчёт с заданной точностью"
       ],
       "button_style": "",
       "description": "Режим работы:",
       "icons": [],
       "index": 0,
       "layout": "IPY_MODEL_26fd237d6a204704bfc0a3df6c45921c",
       "style": "IPY_MODEL_21256a3c874248aca0ea3fd951248905",
       "tooltips": []
      }
     },
     "7a078480653848f3aee4989dcb3aeb05": {
      "model_module": "@jupyter-widgets/controls",
      "model_module_version": "1.0.0",
      "model_name": "LabelModel",
      "state": {
       "layout": "IPY_MODEL_b0596560ec4f4d4d85c08c4a7229a8da",
       "style": "IPY_MODEL_c62410203a4346db9ce199d37dfdf006",
       "value": "$\\large a$ -амплитуда импульса"
      }
     },
     "7a1f5f9faf13442e9b75c76478adfb0d": {
      "model_module": "@jupyter-widgets/controls",
      "model_module_version": "1.0.0",
      "model_name": "DescriptionStyleModel",
      "state": {
       "description_width": ""
      }
     },
     "7a4efcc03b1343ecaa9ae695e1e7398b": {
      "model_module": "@jupyter-widgets/controls",
      "model_module_version": "1.0.0",
      "model_name": "DescriptionStyleModel",
      "state": {
       "description_width": ""
      }
     },
     "7a52750af7b54df2b0511d854df649c3": {
      "model_module": "@jupyter-widgets/controls",
      "model_module_version": "1.0.0",
      "model_name": "LabelModel",
      "state": {
       "layout": "IPY_MODEL_c7e14e1740954e668e397ff33d5eca68",
       "style": "IPY_MODEL_ea341a8b5aec4b618a274174ddbb3745",
       "value": "Длительность анимации"
      }
     },
     "7a7524096c1948ad932c72101890b054": {
      "model_module": "@jupyter-widgets/base",
      "model_module_version": "1.0.0",
      "model_name": "LayoutModel",
      "state": {}
     },
     "7a9c0438f1ef4bf09850eeb4166b2639": {
      "model_module": "@jupyter-widgets/base",
      "model_module_version": "1.0.0",
      "model_name": "LayoutModel",
      "state": {}
     },
     "7abfe90db04f4614997e13f62466cd38": {
      "model_module": "@jupyter-widgets/base",
      "model_module_version": "1.0.0",
      "model_name": "LayoutModel",
      "state": {}
     },
     "7ae55d4e8e33407ea47338de809ddd2a": {
      "model_module": "@jupyter-widgets/controls",
      "model_module_version": "1.0.0",
      "model_name": "DescriptionStyleModel",
      "state": {
       "description_width": ""
      }
     },
     "7ae6d2ed365c4b79828ad00bac6ba22f": {
      "model_module": "@jupyter-widgets/controls",
      "model_module_version": "1.0.0",
      "model_name": "HBoxModel",
      "state": {
       "children": [
        "IPY_MODEL_25fc0e0478cd4af491eb2df6ad56fcc4",
        "IPY_MODEL_99de45b496c84058884268c7ed7120cd"
       ],
       "layout": "IPY_MODEL_23b50c75d19f4de8a0bb959a76cfaec4"
      }
     },
     "7b1be81e94cf411ab64cafcd7e2b6fb7": {
      "model_module": "@jupyter-widgets/controls",
      "model_module_version": "1.0.0",
      "model_name": "DescriptionStyleModel",
      "state": {
       "description_width": ""
      }
     },
     "7b1d1c65937842b8b066f61a39c4b1aa": {
      "model_module": "@jupyter-widgets/base",
      "model_module_version": "1.0.0",
      "model_name": "LayoutModel",
      "state": {}
     },
     "7b39bb25fb9f44e7861bf37ca53ffc15": {
      "model_module": "@jupyter-widgets/controls",
      "model_module_version": "1.0.0",
      "model_name": "DescriptionStyleModel",
      "state": {
       "description_width": ""
      }
     },
     "7b610315f5244301a0d969436e17402a": {
      "model_module": "@jupyter-widgets/controls",
      "model_module_version": "1.0.0",
      "model_name": "DescriptionStyleModel",
      "state": {
       "description_width": ""
      }
     },
     "7b63ed70a38449eaad9848869d0ad888": {
      "model_module": "@jupyter-widgets/controls",
      "model_module_version": "1.0.0",
      "model_name": "LabelModel",
      "state": {
       "layout": "IPY_MODEL_6dfb6c1977e44101b5b5ecb82891ead7",
       "style": "IPY_MODEL_bfa0a92ae5a746ff966e7ebc3156e60d"
      }
     },
     "7b712e8dd1da4bac91b9041e67c33e4a": {
      "model_module": "@jupyter-widgets/controls",
      "model_module_version": "1.0.0",
      "model_name": "DescriptionStyleModel",
      "state": {
       "description_width": ""
      }
     },
     "7b76d593c4ca4923a8cca569307f2e31": {
      "model_module": "@jupyter-widgets/controls",
      "model_module_version": "1.0.0",
      "model_name": "BoundedIntTextModel",
      "state": {
       "layout": "IPY_MODEL_144e29b132904d84a957052e2ce1772f",
       "max": 1000,
       "min": 50,
       "step": 100,
       "style": "IPY_MODEL_7606eff5ccdd4893a8fadc128e1cfc81",
       "value": 100
      }
     },
     "7b8282b37c474b36a2ade3e9e3fbb383": {
      "model_module": "@jupyter-widgets/base",
      "model_module_version": "1.0.0",
      "model_name": "LayoutModel",
      "state": {}
     },
     "7b862c6d18334b3086c11a4e6ea2147f": {
      "model_module": "@jupyter-widgets/controls",
      "model_module_version": "1.0.0",
      "model_name": "DescriptionStyleModel",
      "state": {
       "description_width": ""
      }
     },
     "7b9b988504b14761a421808214ea0321": {
      "model_module": "@jupyter-widgets/controls",
      "model_module_version": "1.0.0",
      "model_name": "DescriptionStyleModel",
      "state": {
       "description_width": ""
      }
     },
     "7b9e452ed0774035b767f14aa87163b3": {
      "model_module": "@jupyter-widgets/controls",
      "model_module_version": "1.0.0",
      "model_name": "HBoxModel",
      "state": {
       "children": [
        "IPY_MODEL_bed095fa4d63401cbc61db675e1b9f0f",
        "IPY_MODEL_7e569acf659f4b8e938ac3e563b063ba"
       ],
       "layout": "IPY_MODEL_1ba7f2194b2e46d094de901a2fa4ae1b"
      }
     },
     "7bb16ebc5bee4f308eb07f219ef54d8a": {
      "model_module": "@jupyter-widgets/base",
      "model_module_version": "1.0.0",
      "model_name": "LayoutModel",
      "state": {}
     },
     "7be8a897b11a40a7b8056c5ef5486998": {
      "model_module": "@jupyter-widgets/base",
      "model_module_version": "1.0.0",
      "model_name": "LayoutModel",
      "state": {}
     },
     "7c0760662d6d450abefde64d67ab4abe": {
      "model_module": "@jupyter-widgets/base",
      "model_module_version": "1.0.0",
      "model_name": "LayoutModel",
      "state": {}
     },
     "7c2d6b7f88be476686c753139791d6c3": {
      "model_module": "@jupyter-widgets/base",
      "model_module_version": "1.0.0",
      "model_name": "LayoutModel",
      "state": {}
     },
     "7c396b609e7742d6b31c057f6353aee6": {
      "model_module": "@jupyter-widgets/controls",
      "model_module_version": "1.0.0",
      "model_name": "LabelModel",
      "state": {
       "layout": "IPY_MODEL_f4acfb086062498f82aefe7d428622dd",
       "style": "IPY_MODEL_0d0c8805f05f4454bd9a492a704ec34b",
       "value": "$\\large t$ -характерное время нарастания/спадания импульса"
      }
     },
     "7c4373de483e4362893eb85cbb919271": {
      "model_module": "@jupyter-widgets/controls",
      "model_module_version": "1.0.0",
      "model_name": "DescriptionStyleModel",
      "state": {
       "description_width": ""
      }
     },
     "7c6bb154fc084b4f9038d9e2b88706a9": {
      "model_module": "@jupyter-widgets/controls",
      "model_module_version": "1.0.0",
      "model_name": "HBoxModel",
      "state": {
       "children": [
        "IPY_MODEL_eca48aeff4f94d95a72527e159135f61",
        "IPY_MODEL_aa1621dd09a24adabf32f53a56a926be"
       ],
       "layout": "IPY_MODEL_8510cab396954982b0b9fce0c2bb24af"
      }
     },
     "7c7c9ed55988447881af9d2297cbf7f1": {
      "model_module": "@jupyter-widgets/base",
      "model_module_version": "1.0.0",
      "model_name": "LayoutModel",
      "state": {}
     },
     "7cc834a6e16f46fcb39168c99a14af94": {
      "model_module": "@jupyter-widgets/controls",
      "model_module_version": "1.0.0",
      "model_name": "VBoxModel",
      "state": {
       "children": [
        "IPY_MODEL_b97463d3a37b47d5a73cadc10f5fbf81",
        "IPY_MODEL_6734b559ce9b432b9870d88594fb5551",
        "IPY_MODEL_c9e0caff6e1042ea8fbeed29a7c83447",
        "IPY_MODEL_cb48b6f5c4884b71a1812b6011cfd1aa",
        "IPY_MODEL_cb99cc8ef02f47598a93a1b1ffae021b"
       ],
       "layout": "IPY_MODEL_01b24737f9f34c10898e397cf91b3aa5"
      }
     },
     "7cd255624cd5468cb32e0c287c36271d": {
      "model_module": "@jupyter-widgets/controls",
      "model_module_version": "1.0.0",
      "model_name": "LabelModel",
      "state": {
       "layout": "IPY_MODEL_c6d9c1b94125456c99eab77706efd6e4",
       "style": "IPY_MODEL_6c6b9789004f46f9963a8a6a8c957fec",
       "value": "Время симуляции:"
      }
     },
     "7ce0cad98dd24a97a66439f158bfa234": {
      "model_module": "@jupyter-widgets/controls",
      "model_module_version": "1.0.0",
      "model_name": "IntSliderModel",
      "state": {
       "description": "Step:",
       "layout": "IPY_MODEL_abffad0a678d41fbb76f2d0938f3c482",
       "max": 199,
       "style": "IPY_MODEL_a341386255914fe9ab56f8b5e9c06558"
      }
     },
     "7d07e651e0d64fc3be93e09612c0a3a0": {
      "model_module": "@jupyter-widgets/controls",
      "model_module_version": "1.0.0",
      "model_name": "VBoxModel",
      "state": {
       "children": [
        "IPY_MODEL_3d69c25b2dbe4c7bb47b9c2e6fc90009",
        "IPY_MODEL_4e4f69f951bd4e6d92c445037315b8d1"
       ],
       "layout": "IPY_MODEL_bbe43c3f35a443ffb9885c0a927fd418"
      }
     },
     "7d1e4902e8e043969f7309a3ba38041e": {
      "model_module": "@jupyter-widgets/controls",
      "model_module_version": "1.0.0",
      "model_name": "HBoxModel",
      "state": {
       "children": [
        "IPY_MODEL_6db400bb20b44d1f82ba4e741cdd97ec",
        "IPY_MODEL_2affb293bb9e4b7a85ed98feb8403cb8"
       ],
       "layout": "IPY_MODEL_df4a4a4c8bff40ffaf0bc37b2b752b8a"
      }
     },
     "7d4ea254a9f5436eac6671b5e8e3ae10": {
      "model_module": "@jupyter-widgets/controls",
      "model_module_version": "1.0.0",
      "model_name": "HBoxModel",
      "state": {
       "children": [
        "IPY_MODEL_073778ec9d0d4ae2abc03c33d03ea0d0",
        "IPY_MODEL_77bbcc985dc544e68e5c875e3d07ad4b"
       ],
       "layout": "IPY_MODEL_e53116de108c4ec9a7ced37dd3874bf7"
      }
     },
     "7d559e5e0fcd42bcb9efc41a856db06c": {
      "model_module": "@jupyter-widgets/controls",
      "model_module_version": "1.0.0",
      "model_name": "DescriptionStyleModel",
      "state": {
       "description_width": ""
      }
     },
     "7d596f2dd8aa466ebbb0a18f5494658f": {
      "model_module": "@jupyter-widgets/base",
      "model_module_version": "1.0.0",
      "model_name": "LayoutModel",
      "state": {}
     },
     "7d65bcbd5976440c922fc37f802d0756": {
      "model_module": "@jupyter-widgets/controls",
      "model_module_version": "1.0.0",
      "model_name": "DescriptionStyleModel",
      "state": {
       "description_width": ""
      }
     },
     "7d7f066116fa46d392d67455c1ed17ab": {
      "model_module": "@jupyter-widgets/base",
      "model_module_version": "1.0.0",
      "model_name": "LayoutModel",
      "state": {}
     },
     "7d81fbb47e92454a8cf5e832f42c09fd": {
      "model_module": "@jupyter-widgets/base",
      "model_module_version": "1.0.0",
      "model_name": "LayoutModel",
      "state": {}
     },
     "7d823e363955497991afcbbe571aa1dd": {
      "model_module": "@jupyter-widgets/base",
      "model_module_version": "1.0.0",
      "model_name": "LayoutModel",
      "state": {}
     },
     "7dc2ad82f8d8440594b56c0cea4647e8": {
      "model_module": "@jupyter-widgets/base",
      "model_module_version": "1.0.0",
      "model_name": "LayoutModel",
      "state": {}
     },
     "7df09d5705324099a71b9492231aa784": {
      "model_module": "@jupyter-widgets/controls",
      "model_module_version": "1.0.0",
      "model_name": "DescriptionStyleModel",
      "state": {
       "description_width": ""
      }
     },
     "7e093a11c0d749fcb7f06291934fcdfa": {
      "model_module": "@jupyter-widgets/base",
      "model_module_version": "1.0.0",
      "model_name": "LayoutModel",
      "state": {}
     },
     "7e569acf659f4b8e938ac3e563b063ba": {
      "model_module": "@jupyter-widgets/controls",
      "model_module_version": "1.0.0",
      "model_name": "LabelModel",
      "state": {
       "layout": "IPY_MODEL_4edd705ee4364e21b6bf8b0ce5136836",
       "style": "IPY_MODEL_826187053f96481f92e64fe02394cf71"
      }
     },
     "7e651e8f83d54f5baab39221863f0610": {
      "model_module": "@jupyter-widgets/base",
      "model_module_version": "1.0.0",
      "model_name": "LayoutModel",
      "state": {}
     },
     "7e65f7598f6e421bac6eac84a82da9d3": {
      "model_module": "@jupyter-widgets/base",
      "model_module_version": "1.0.0",
      "model_name": "LayoutModel",
      "state": {}
     },
     "7e673375d68b4769b19e0e9a0d33e32b": {
      "model_module": "@jupyter-widgets/base",
      "model_module_version": "1.0.0",
      "model_name": "LayoutModel",
      "state": {}
     },
     "7edebe8c1e344dc5bbf94fe6bd7e4329": {
      "model_module": "@jupyter-widgets/controls",
      "model_module_version": "1.0.0",
      "model_name": "VBoxModel",
      "state": {
       "children": [
        "IPY_MODEL_1c1a534332414513918f49db1cd51d0f",
        "IPY_MODEL_0cfbc4a8096e4e9c8f82680251750bcc",
        "IPY_MODEL_b6bde5487fb8496293d13fbaa4b8e512",
        "IPY_MODEL_e40cb57b6f2c4911aae14e02adac16f1",
        "IPY_MODEL_b37951e8a97c43b4997ef3d820cfc723"
       ],
       "layout": "IPY_MODEL_6bd4b25b512e42dca1458ab6a04f739e"
      }
     },
     "7f1b7c7aa9b74bb39728db1ca7c10f9f": {
      "model_module": "@jupyter-widgets/controls",
      "model_module_version": "1.0.0",
      "model_name": "LabelModel",
      "state": {
       "layout": "IPY_MODEL_019eaca98db84be88cfa573a725ac9b0",
       "style": "IPY_MODEL_c8d5ba6fc4ef48f1a8f356b7cd439f53",
       "value": "Точность:"
      }
     },
     "7f368ad7190c486d8f6bde54971e95e0": {
      "model_module": "@jupyter-widgets/controls",
      "model_module_version": "1.0.0",
      "model_name": "LabelModel",
      "state": {
       "layout": "IPY_MODEL_8c156d20480a430d9b71c30d690f97ce",
       "style": "IPY_MODEL_f373de9f3ac048abbcbd48764489d85b",
       "value": "Параметр $\\sigma$ неявной схемы:"
      }
     },
     "7fa9dba399114d94abfd7e1eada4d322": {
      "model_module": "@jupyter-widgets/base",
      "model_module_version": "1.0.0",
      "model_name": "LayoutModel",
      "state": {}
     },
     "7fd9981f07bc4c64bb6b7b09d2ef8301": {
      "model_module": "@jupyter-widgets/controls",
      "model_module_version": "1.0.0",
      "model_name": "HBoxModel",
      "state": {
       "children": [
        "IPY_MODEL_94f90e436c20405cbf6162c6741d3956",
        "IPY_MODEL_a0ca59b03abe49288e46ff69fbf30fcf"
       ],
       "layout": "IPY_MODEL_52cba8e3cfdf4bc9873b062d35568854"
      }
     },
     "7ffa1d6eea554921a0a5866ff41beffd": {
      "model_module": "@jupyter-widgets/controls",
      "model_module_version": "1.0.0",
      "model_name": "BoundedFloatTextModel",
      "state": {
       "layout": "IPY_MODEL_255b868d0b2b49e58124a95e9ea9cb11",
       "step": 0.01,
       "style": "IPY_MODEL_94dc7ab3b6c94d448bfb4fc71206d434",
       "value": 1
      }
     },
     "7ffbb1a3f9de47dda06a9f2f93b7c294": {
      "model_module": "@jupyter-widgets/controls",
      "model_module_version": "1.0.0",
      "model_name": "BoundedFloatTextModel",
      "state": {
       "layout": "IPY_MODEL_0be5e8630eff48858595df5bb242f54f",
       "step": 0.01,
       "style": "IPY_MODEL_c369e83756504849835985fa29e4627a",
       "value": 1
      }
     },
     "8034ffb8aea547d98be1525105a6980e": {
      "model_module": "@jupyter-widgets/controls",
      "model_module_version": "1.0.0",
      "model_name": "HBoxModel",
      "state": {
       "children": [
        "IPY_MODEL_5dedfa5047d84234905b5612dc984333",
        "IPY_MODEL_8fcd8cfa4fdc435c9ae087974806b585"
       ],
       "layout": "IPY_MODEL_878ce72e2194400d8aba8613aa759ee1"
      }
     },
     "805b15cc8e28422ab0f04392b86fc52a": {
      "model_module": "@jupyter-widgets/controls",
      "model_module_version": "1.0.0",
      "model_name": "DescriptionStyleModel",
      "state": {
       "description_width": ""
      }
     },
     "806ef55e894f456b9769b445afbd55e3": {
      "model_module": "@jupyter-widgets/base",
      "model_module_version": "1.0.0",
      "model_name": "LayoutModel",
      "state": {}
     },
     "8074263fe5f6489b9bc5fba0223b765c": {
      "model_module": "@jupyter-widgets/base",
      "model_module_version": "1.0.0",
      "model_name": "LayoutModel",
      "state": {}
     },
     "80a5d6ed1e0d4c0f8ac741c53426bddb": {
      "model_module": "@jupyter-widgets/controls",
      "model_module_version": "1.0.0",
      "model_name": "DescriptionStyleModel",
      "state": {
       "description_width": ""
      }
     },
     "80bfd9623cd94b74ad6a514811ceacde": {
      "model_module": "@jupyter-widgets/base",
      "model_module_version": "1.0.0",
      "model_name": "LayoutModel",
      "state": {}
     },
     "80e3d177122a46278e03fadfef06909f": {
      "model_module": "@jupyter-widgets/controls",
      "model_module_version": "1.0.0",
      "model_name": "LabelModel",
      "state": {
       "layout": "IPY_MODEL_d166bb100a904d7f8446773c368bb7d1",
       "style": "IPY_MODEL_edb441b7ff484c9c988f337f2794a80e",
       "value": "$\\large t$ -характерное время нарастания/спадания импульса"
      }
     },
     "80ef7629e8c445ef80032bff8e7533c0": {
      "model_module": "@jupyter-widgets/controls",
      "model_module_version": "1.0.0",
      "model_name": "DescriptionStyleModel",
      "state": {
       "description_width": ""
      }
     },
     "810b742825034858b9599092fa7b5b16": {
      "model_module": "@jupyter-widgets/controls",
      "model_module_version": "1.0.0",
      "model_name": "DescriptionStyleModel",
      "state": {
       "description_width": ""
      }
     },
     "8131e10914d64eb3b86975e2083846de": {
      "model_module": "@jupyter-widgets/base",
      "model_module_version": "1.0.0",
      "model_name": "LayoutModel",
      "state": {}
     },
     "81535e6e11dc4e7087152e3b864997a3": {
      "model_module": "@jupyter-widgets/controls",
      "model_module_version": "1.0.0",
      "model_name": "LabelModel",
      "state": {
       "layout": "IPY_MODEL_221faebb272a42b0a551524332cb92b8",
       "style": "IPY_MODEL_0f745c9fdf5f4bf5a4d62aaeea3a22ee"
      }
     },
     "818edd5df08c410988e9d95f1fb2563b": {
      "model_module": "@jupyter-widgets/controls",
      "model_module_version": "1.0.0",
      "model_name": "BoundedIntTextModel",
      "state": {
       "layout": "IPY_MODEL_52e1c028b7af40d398969737ddef0ec0",
       "max": 1000,
       "min": 50,
       "step": 100,
       "style": "IPY_MODEL_9def161653cb4936ad37d9d0f453cf0c",
       "value": 100
      }
     },
     "81a5338231f54b18bd98e837e9c82e57": {
      "model_module": "@jupyter-widgets/controls",
      "model_module_version": "1.0.0",
      "model_name": "BoundedFloatTextModel",
      "state": {
       "layout": "IPY_MODEL_49a1c6efe4874e4981e30eaadb3b9de3",
       "step": 0.01,
       "style": "IPY_MODEL_b34e800003984057ad86a89659f3ddfd",
       "value": 1
      }
     },
     "81cbf00e75bd4f8caa0cd34d792fa7d1": {
      "model_module": "@jupyter-widgets/controls",
      "model_module_version": "1.0.0",
      "model_name": "HBoxModel",
      "state": {
       "children": [
        "IPY_MODEL_a82b8080ad4047f3866376aefd348709",
        "IPY_MODEL_a7cc53cdaeb84c8b9a808504f39b3c8f"
       ],
       "layout": "IPY_MODEL_e7cd5b661b774c07a7e5e9b1716666cd"
      }
     },
     "81d9b56a6e1940d7aeb9c75232a69893": {
      "model_module": "@jupyter-widgets/controls",
      "model_module_version": "1.0.0",
      "model_name": "ToggleButtonsStyleModel",
      "state": {
       "button_width": "",
       "description_width": ""
      }
     },
     "822db5e988464ce0a554aa879c8093a4": {
      "model_module": "@jupyter-widgets/controls",
      "model_module_version": "1.0.0",
      "model_name": "LabelModel",
      "state": {
       "layout": "IPY_MODEL_d9860bf3c8ae4b29a62cdde5e87b6fb2",
       "style": "IPY_MODEL_3972c5f0700c4183adf0315ceeee8269",
       "value": "$\\large p_l$ -линейная плотность"
      }
     },
     "8234acb1bfea44a3b578460b2147197c": {
      "model_module": "@jupyter-widgets/controls",
      "model_module_version": "1.0.0",
      "model_name": "VBoxModel",
      "state": {
       "children": [
        "IPY_MODEL_68c80a2a3b694f368d2dd6095d7c7ba9",
        "IPY_MODEL_9a8b6d41327a42e7a6ccedb8bdc25746"
       ],
       "layout": "IPY_MODEL_eadb3084c547444dbe0dfc814cd2f955"
      }
     },
     "8242d33d15294247af61dd9346cfc819": {
      "model_module": "@jupyter-widgets/controls",
      "model_module_version": "1.0.0",
      "model_name": "BoundedFloatTextModel",
      "state": {
       "continuous_update": true,
       "description": "Time:",
       "layout": "IPY_MODEL_0a1d53d31d8644f1ac6eb56f2a908a30",
       "max": 1,
       "style": "IPY_MODEL_5daa577c36cf43e9840a56a753339719"
      }
     },
     "82578ac09995413fa5d7d8e40ae6d60c": {
      "model_module": "@jupyter-widgets/controls",
      "model_module_version": "1.0.0",
      "model_name": "LabelModel",
      "state": {
       "layout": "IPY_MODEL_a92c643d85d9471296ea153e42144a80",
       "style": "IPY_MODEL_592ee20e8c9549a19f93266b2fd733f8",
       "value": "$\\large l$ -длина струны"
      }
     },
     "826187053f96481f92e64fe02394cf71": {
      "model_module": "@jupyter-widgets/controls",
      "model_module_version": "1.0.0",
      "model_name": "DescriptionStyleModel",
      "state": {
       "description_width": ""
      }
     },
     "8280c787f5db4563ac0d8580bd8a30ac": {
      "model_module": "@jupyter-widgets/controls",
      "model_module_version": "1.0.0",
      "model_name": "SliderStyleModel",
      "state": {
       "description_width": ""
      }
     },
     "8295f3dce9e94f82bdaf9aabbc109bdd": {
      "model_module": "@jupyter-widgets/base",
      "model_module_version": "1.0.0",
      "model_name": "LayoutModel",
      "state": {}
     },
     "82c0440a82d642729c1e487b6adeac37": {
      "model_module": "@jupyter-widgets/controls",
      "model_module_version": "1.0.0",
      "model_name": "HBoxModel",
      "state": {
       "children": [
        "IPY_MODEL_6713d10fee05481c85cd6af017793c08",
        "IPY_MODEL_76f7d75a1f0e4dfe8bd6023605a6aa25"
       ],
       "layout": "IPY_MODEL_8ac1f2a352814a96a65732cafd508191"
      }
     },
     "82dbd93d06de441b9d5f7707f04e477d": {
      "model_module": "@jupyter-widgets/controls",
      "model_module_version": "1.0.0",
      "model_name": "BoundedFloatTextModel",
      "state": {
       "layout": "IPY_MODEL_12ba644813684ec8a810491ee58bd2a9",
       "step": 0.01,
       "style": "IPY_MODEL_ae19dd30abd5409d917e4278c384adbd",
       "value": 1
      }
     },
     "82f88838f636436c9ebc5d85d7a2b6fc": {
      "model_module": "@jupyter-widgets/controls",
      "model_module_version": "1.0.0",
      "model_name": "DescriptionStyleModel",
      "state": {
       "description_width": ""
      }
     },
     "83144214a6534a778e1d4b9996417403": {
      "model_module": "@jupyter-widgets/base",
      "model_module_version": "1.0.0",
      "model_name": "LayoutModel",
      "state": {}
     },
     "83222cbcee3c424da5ce04b5b107fee6": {
      "model_module": "@jupyter-widgets/base",
      "model_module_version": "1.0.0",
      "model_name": "LayoutModel",
      "state": {}
     },
     "832b4c2448994de3b7af8119a9bd4105": {
      "model_module": "@jupyter-widgets/controls",
      "model_module_version": "1.0.0",
      "model_name": "LabelModel",
      "state": {
       "layout": "IPY_MODEL_f21801459ac3407aa010ac9e90e9d24c",
       "style": "IPY_MODEL_ef7ab6ac4e1c4a4a87ce759663567981",
       "value": "Количество шагов по $t$:"
      }
     },
     "834d9bcc002a4be2b0b690ff002b5ef8": {
      "model_module": "@jupyter-widgets/base",
      "model_module_version": "1.0.0",
      "model_name": "LayoutModel",
      "state": {}
     },
     "837dbe6a5ce64984a48f637df388f09d": {
      "model_module": "@jupyter-widgets/controls",
      "model_module_version": "1.0.0",
      "model_name": "HBoxModel",
      "state": {
       "children": [
        "IPY_MODEL_acda564683194ef8b19c77f61d63199a",
        "IPY_MODEL_0724b38196084adbb852c5fa46c7e592"
       ],
       "layout": "IPY_MODEL_fd7b83510753482d9ac8b3f3b72a6286"
      }
     },
     "83965299777c4b4c9e4ba18f1e713bb7": {
      "model_module": "@jupyter-widgets/base",
      "model_module_version": "1.0.0",
      "model_name": "LayoutModel",
      "state": {}
     },
     "83ce7aa718da4dce91318dd32f22dcf7": {
      "model_module": "@jupyter-widgets/controls",
      "model_module_version": "1.0.0",
      "model_name": "LabelModel",
      "state": {
       "layout": "IPY_MODEL_6836ec3424784af18804467f199f1099",
       "style": "IPY_MODEL_7737fbde50204ce793b1bfbd9a2a21c4"
      }
     },
     "83decc85e37a45cdbcc1c1786073e471": {
      "model_module": "@jupyter-widgets/controls",
      "model_module_version": "1.0.0",
      "model_name": "HBoxModel",
      "state": {
       "children": [
        "IPY_MODEL_09ae2464f34845428ba1dbf5f938d434",
        "IPY_MODEL_14f81b5bf03f4f07bef4c2a65ae2a2a1"
       ],
       "layout": "IPY_MODEL_4fadee6438214eb59d484ea92c1b9e12"
      }
     },
     "83e14ad274c24d8cbc8512ca2ee38789": {
      "model_module": "@jupyter-widgets/base",
      "model_module_version": "1.0.0",
      "model_name": "LayoutModel",
      "state": {}
     },
     "8401943607734e7aaf454b8910c9f3b0": {
      "model_module": "@jupyter-widgets/base",
      "model_module_version": "1.0.0",
      "model_name": "LayoutModel",
      "state": {}
     },
     "84183675ef584f46a26adcd3c4403b1f": {
      "model_module": "@jupyter-widgets/controls",
      "model_module_version": "1.0.0",
      "model_name": "LabelModel",
      "state": {
       "layout": "IPY_MODEL_ef71a104be754e6688a72d7c5c8dbdf9",
       "style": "IPY_MODEL_1e21b9e42b3a4585a43a03e9c45601a5"
      }
     },
     "847d6138151844d99528896087de5769": {
      "model_module": "@jupyter-widgets/controls",
      "model_module_version": "1.0.0",
      "model_name": "HBoxModel",
      "state": {
       "children": [
        "IPY_MODEL_18d0a8b9527f460590db22961c1ea1c1",
        "IPY_MODEL_7597ca28ec994aadbc1b9270c28db8a0"
       ],
       "layout": "IPY_MODEL_544e6b784d3849968ad45995105c1452"
      }
     },
     "84b0a6d4f46e4145b928b26cc33e552a": {
      "model_module": "@jupyter-widgets/base",
      "model_module_version": "1.0.0",
      "model_name": "LayoutModel",
      "state": {}
     },
     "850754fa9d9b4f368a111f3633d3788a": {
      "model_module": "@jupyter-widgets/controls",
      "model_module_version": "1.0.0",
      "model_name": "HBoxModel",
      "state": {
       "children": [
        "IPY_MODEL_fa9e0482d44449048c111d0c1be747a7",
        "IPY_MODEL_4b448c52b7094efc884e84b14a02cc95"
       ],
       "layout": "IPY_MODEL_519ec18c7cf54d46a464e467f415cbac"
      }
     },
     "8510cab396954982b0b9fce0c2bb24af": {
      "model_module": "@jupyter-widgets/base",
      "model_module_version": "1.0.0",
      "model_name": "LayoutModel",
      "state": {}
     },
     "852790fbb2fd4754b81c31eeb5f2690f": {
      "model_module": "@jupyter-widgets/controls",
      "model_module_version": "1.0.0",
      "model_name": "DescriptionStyleModel",
      "state": {
       "description_width": ""
      }
     },
     "85418e4e681f461180e06f9c0b62ea3e": {
      "model_module": "@jupyter-widgets/base",
      "model_module_version": "1.0.0",
      "model_name": "LayoutModel",
      "state": {}
     },
     "854678d92f8f4d83ac8e32f7da06fe92": {
      "model_module": "@jupyter-widgets/base",
      "model_module_version": "1.0.0",
      "model_name": "LayoutModel",
      "state": {}
     },
     "854cb3343d714215ba2c9483ec898e51": {
      "model_module": "@jupyter-widgets/base",
      "model_module_version": "1.0.0",
      "model_name": "LayoutModel",
      "state": {}
     },
     "857ea8c319a2483297527bf3430049bf": {
      "model_module": "@jupyter-widgets/base",
      "model_module_version": "1.0.0",
      "model_name": "LayoutModel",
      "state": {}
     },
     "858740966e324b30a18179f3fff7b437": {
      "model_module": "@jupyter-widgets/base",
      "model_module_version": "1.0.0",
      "model_name": "LayoutModel",
      "state": {}
     },
     "85a9adf8c2224a6594f2ac853cfc335d": {
      "model_module": "@jupyter-widgets/controls",
      "model_module_version": "1.0.0",
      "model_name": "DescriptionStyleModel",
      "state": {
       "description_width": ""
      }
     },
     "85b5362c2c3244038bc167b13c1ee3d6": {
      "model_module": "@jupyter-widgets/base",
      "model_module_version": "1.0.0",
      "model_name": "LayoutModel",
      "state": {}
     },
     "85d3c67eebae495bbcbd96191f68f17d": {
      "model_module": "@jupyter-widgets/controls",
      "model_module_version": "1.0.0",
      "model_name": "HBoxModel",
      "state": {
       "children": [
        "IPY_MODEL_bcfd2c8c2d3c49fc9f0850a5b7acee6e",
        "IPY_MODEL_5f6d2bddbe0b486a800e874ea3c634f8"
       ],
       "layout": "IPY_MODEL_acd550cf966941e4b71e07a41a01dcbf"
      }
     },
     "85e06ce7a8ff45f1b6e8651cd109aed3": {
      "model_module": "@jupyter-widgets/controls",
      "model_module_version": "1.0.0",
      "model_name": "DescriptionStyleModel",
      "state": {
       "description_width": ""
      }
     },
     "8653e7ee964543ddac4669cce0ec54aa": {
      "model_module": "@jupyter-widgets/controls",
      "model_module_version": "1.0.0",
      "model_name": "BoundedFloatTextModel",
      "state": {
       "layout": "IPY_MODEL_c01f500dd1a14b3a9b232aad9b5f27da",
       "step": 0.01,
       "style": "IPY_MODEL_d49a036b7bae4d2ca961d5155c0a48aa",
       "value": 1
      }
     },
     "86a7c9b7266d41a4b1e4606b8a67e270": {
      "model_module": "@jupyter-widgets/base",
      "model_module_version": "1.0.0",
      "model_name": "LayoutModel",
      "state": {}
     },
     "86b2b493812945018b44b4aa11e88c6f": {
      "model_module": "@jupyter-widgets/base",
      "model_module_version": "1.0.0",
      "model_name": "LayoutModel",
      "state": {}
     },
     "86b92a0cd91041df915e70db120fba38": {
      "model_module": "@jupyter-widgets/controls",
      "model_module_version": "1.0.0",
      "model_name": "VBoxModel",
      "state": {
       "children": [
        "IPY_MODEL_a3d8feb06ff64780b491be656675b5dc",
        "IPY_MODEL_d619542bc3f647f6af4a8ebb6cece219"
       ],
       "layout": "IPY_MODEL_b6f8ca3c0a874b17a49c66ac948cac7e"
      }
     },
     "86d8cea31a634e959fe0694743dea9f9": {
      "model_module": "@jupyter-widgets/base",
      "model_module_version": "1.0.0",
      "model_name": "LayoutModel",
      "state": {}
     },
     "86dbeb48cbaa465488bc3451e9edb610": {
      "model_module": "@jupyter-widgets/base",
      "model_module_version": "1.0.0",
      "model_name": "LayoutModel",
      "state": {}
     },
     "8702d0dee7da4e3bbc4edac5da758681": {
      "model_module": "@jupyter-widgets/controls",
      "model_module_version": "1.0.0",
      "model_name": "DescriptionStyleModel",
      "state": {
       "description_width": ""
      }
     },
     "87097187fc6542ffa840d2cca063d11b": {
      "model_module": "@jupyter-widgets/controls",
      "model_module_version": "1.0.0",
      "model_name": "DescriptionStyleModel",
      "state": {
       "description_width": ""
      }
     },
     "8747871f9c0f42c2a27c0c760a8eaee0": {
      "model_module": "@jupyter-widgets/controls",
      "model_module_version": "1.0.0",
      "model_name": "HBoxModel",
      "state": {
       "children": [
        "IPY_MODEL_e2d19925df2142e7beff895534d44263",
        "IPY_MODEL_c4dffb89ea6e4f4bb15f211c726d155a"
       ],
       "layout": "IPY_MODEL_957c082de65a4348a2512795905eb882"
      }
     },
     "878ce72e2194400d8aba8613aa759ee1": {
      "model_module": "@jupyter-widgets/base",
      "model_module_version": "1.0.0",
      "model_name": "LayoutModel",
      "state": {}
     },
     "879831922f7544a3b88c47a49efeaa68": {
      "model_module": "@jupyter-widgets/controls",
      "model_module_version": "1.0.0",
      "model_name": "HBoxModel",
      "state": {
       "children": [
        "IPY_MODEL_5fcc97dca52a403896a02c131f98086d",
        "IPY_MODEL_77b5095d839b4e4d8d22402c4698972d"
       ],
       "layout": "IPY_MODEL_5457c6e35d0745f491d04e322cc7a7cb"
      }
     },
     "87a74dbce6844a54808408db5a654fe5": {
      "model_module": "@jupyter-widgets/controls",
      "model_module_version": "1.0.0",
      "model_name": "DescriptionStyleModel",
      "state": {
       "description_width": ""
      }
     },
     "87d22d28a6f44bd490375df8bbbca696": {
      "model_module": "@jupyter-widgets/controls",
      "model_module_version": "1.0.0",
      "model_name": "HBoxModel",
      "state": {
       "children": [
        "IPY_MODEL_a8909178599b41079d8aced3d5db7c4d",
        "IPY_MODEL_492bc8267a11431eb1ab4616ca359096"
       ],
       "layout": "IPY_MODEL_c74578d7d09e4a7188d99c4695b5f94c"
      }
     },
     "87d429b72f804dacbc0c70f48e110bb1": {
      "model_module": "@jupyter-widgets/controls",
      "model_module_version": "1.0.0",
      "model_name": "LabelModel",
      "state": {
       "layout": "IPY_MODEL_1f0994595dd3460f9dc1b95edf7194e8",
       "style": "IPY_MODEL_709673651f7046ecb54f67793296839c",
       "value": "Точность:"
      }
     },
     "87d4fd479e3044c58a26d4850be4c4c9": {
      "model_module": "@jupyter-widgets/base",
      "model_module_version": "1.0.0",
      "model_name": "LayoutModel",
      "state": {}
     },
     "87ff907754e848c4bcf337767c3ecf84": {
      "model_module": "@jupyter-widgets/controls",
      "model_module_version": "1.0.0",
      "model_name": "DescriptionStyleModel",
      "state": {
       "description_width": ""
      }
     },
     "88286750f2a146c28474688027a1d485": {
      "model_module": "@jupyter-widgets/controls",
      "model_module_version": "1.0.0",
      "model_name": "DescriptionStyleModel",
      "state": {
       "description_width": ""
      }
     },
     "887aaa1d8a1e45b6a13e52f28f9b106c": {
      "model_module": "@jupyter-widgets/controls",
      "model_module_version": "1.0.0",
      "model_name": "DescriptionStyleModel",
      "state": {
       "description_width": ""
      }
     },
     "88b0a68fc0cb4bc9a1ec5f1b13504461": {
      "model_module": "@jupyter-widgets/base",
      "model_module_version": "1.0.0",
      "model_name": "LayoutModel",
      "state": {}
     },
     "88c5be4e01ec4c928ea84e903709c73c": {
      "model_module": "@jupyter-widgets/controls",
      "model_module_version": "1.0.0",
      "model_name": "HBoxModel",
      "state": {
       "children": [
        "IPY_MODEL_743c875dfc2442888ec5342bc87a8f40",
        "IPY_MODEL_bd6edc558a5a4b3ab411384ceb745f01"
       ],
       "layout": "IPY_MODEL_9347ade91c0348f19655b8529f70bf61"
      }
     },
     "88effd122f134b4da12724dd4da9cd6b": {
      "model_module": "@jupyter-widgets/base",
      "model_module_version": "1.0.0",
      "model_name": "LayoutModel",
      "state": {}
     },
     "89289c68ce414220bec58fc24d209b42": {
      "model_module": "@jupyter-widgets/controls",
      "model_module_version": "1.0.0",
      "model_name": "HBoxModel",
      "state": {
       "children": [
        "IPY_MODEL_5f6a73fa525943aca98d3d256ccaf86f",
        "IPY_MODEL_cf6a62a91f1548cfbd578df952e6baa1"
       ],
       "layout": "IPY_MODEL_0114a0253e1b4f9a945eaeb2daf80deb"
      }
     },
     "896b21b2ad214f9498f26a5a458f311f": {
      "model_module": "@jupyter-widgets/controls",
      "model_module_version": "1.0.0",
      "model_name": "DescriptionStyleModel",
      "state": {
       "description_width": ""
      }
     },
     "897605d1a9d84ea1bef75af1357d205c": {
      "model_module": "@jupyter-widgets/controls",
      "model_module_version": "1.0.0",
      "model_name": "HBoxModel",
      "state": {
       "children": [
        "IPY_MODEL_c9274c99c1ad440e81d6b7fde3a71cf3",
        "IPY_MODEL_c4407468c3ba4519921864af0e9379e4"
       ],
       "layout": "IPY_MODEL_8c578460fda44cbe84859ea1adcd2266"
      }
     },
     "897a0304ff9343cda6953024107214a2": {
      "model_module": "@jupyter-widgets/controls",
      "model_module_version": "1.0.0",
      "model_name": "DescriptionStyleModel",
      "state": {
       "description_width": ""
      }
     },
     "89945571a87044ce8d29eef5524dc7e9": {
      "model_module": "@jupyter-widgets/base",
      "model_module_version": "1.0.0",
      "model_name": "LayoutModel",
      "state": {}
     },
     "89a23133eaef4e0ea958a77723f986d0": {
      "model_module": "@jupyter-widgets/base",
      "model_module_version": "1.0.0",
      "model_name": "LayoutModel",
      "state": {}
     },
     "89bb33703e854cb58dd68da19625675d": {
      "model_module": "@jupyter-widgets/base",
      "model_module_version": "1.0.0",
      "model_name": "LayoutModel",
      "state": {}
     },
     "89f765c3238f4630a382d8f0a3dbde2d": {
      "model_module": "@jupyter-widgets/base",
      "model_module_version": "1.0.0",
      "model_name": "LayoutModel",
      "state": {}
     },
     "8a0c1ac0e9e643fc9e9be943e3be40a4": {
      "model_module": "@jupyter-widgets/controls",
      "model_module_version": "1.0.0",
      "model_name": "HBoxModel",
      "state": {
       "children": [
        "IPY_MODEL_991f4670dcfa46548e95b318dfaccff6",
        "IPY_MODEL_1d5b21967fdc441d9abaad892e3db3f0"
       ],
       "layout": "IPY_MODEL_f6a00d4d938e4e56b6b6e3389f4fe5db"
      }
     },
     "8ac1f2a352814a96a65732cafd508191": {
      "model_module": "@jupyter-widgets/base",
      "model_module_version": "1.0.0",
      "model_name": "LayoutModel",
      "state": {}
     },
     "8ad24f91850c4910866b9d874f8b591d": {
      "model_module": "@jupyter-widgets/controls",
      "model_module_version": "1.0.0",
      "model_name": "IntSliderModel",
      "state": {
       "description": "Step:",
       "layout": "IPY_MODEL_53edfac55753429e912201fd9dc6c05c",
       "max": 199,
       "style": "IPY_MODEL_03f9439d8f4b405599418a387f275fd5"
      }
     },
     "8aeeaade722649cebef37ae72ca0107e": {
      "model_module": "@jupyter-widgets/controls",
      "model_module_version": "1.0.0",
      "model_name": "DescriptionStyleModel",
      "state": {
       "description_width": ""
      }
     },
     "8afb9a975fc540ca8cf9feaa857b9277": {
      "model_module": "@jupyter-widgets/controls",
      "model_module_version": "1.0.0",
      "model_name": "BoundedFloatTextModel",
      "state": {
       "layout": "IPY_MODEL_b0aec5b35d764d8b9f8d20b8d70e71b6",
       "step": 0.01,
       "style": "IPY_MODEL_696f19b33277456cb27750c4349ba484",
       "value": 1
      }
     },
     "8b016a79a3db435ab105bc35ec73f231": {
      "model_module": "@jupyter-widgets/base",
      "model_module_version": "1.0.0",
      "model_name": "LayoutModel",
      "state": {}
     },
     "8b130e2f6fb649cb890ca28f5a5a8f50": {
      "model_module": "@jupyter-widgets/controls",
      "model_module_version": "1.0.0",
      "model_name": "DescriptionStyleModel",
      "state": {
       "description_width": ""
      }
     },
     "8b4c14f8653b4d938f1f3da15db6b95a": {
      "model_module": "@jupyter-widgets/controls",
      "model_module_version": "1.0.0",
      "model_name": "LabelModel",
      "state": {
       "layout": "IPY_MODEL_4698f778a81445c8b2381e08c393ac86",
       "style": "IPY_MODEL_cc6e08adfdd74d39aa7bcd21e78495b5",
       "value": "$\\large p_l$ -линейная плотность"
      }
     },
     "8b583ee114704879927eb0d6c0274f5c": {
      "model_module": "@jupyter-widgets/controls",
      "model_module_version": "1.0.0",
      "model_name": "ToggleButtonsModel",
      "state": {
       "_options_labels": [
        "Расчёт заданного числа шагов",
        "Расчёт с заданной точностью"
       ],
       "button_style": "",
       "description": "Режим работы:",
       "icons": [],
       "index": 0,
       "layout": "IPY_MODEL_2d2d5a4c195945ad995ecd830f9e078e",
       "style": "IPY_MODEL_f0f790f2efb74a8dbde6c09576d15e6b",
       "tooltips": []
      }
     },
     "8b727703ec754642bccdd83cb2ba2f2c": {
      "model_module": "@jupyter-widgets/controls",
      "model_module_version": "1.0.0",
      "model_name": "HBoxModel",
      "state": {
       "children": [
        "IPY_MODEL_ab727dfdccd84a52b8dce8a88e84eb8b",
        "IPY_MODEL_46e922ecdd2445ebae3eeb9437062868"
       ],
       "layout": "IPY_MODEL_834d9bcc002a4be2b0b690ff002b5ef8"
      }
     },
     "8b7cab6d6e2a4ea89b358067ef6a2e73": {
      "model_module": "@jupyter-widgets/base",
      "model_module_version": "1.0.0",
      "model_name": "LayoutModel",
      "state": {}
     },
     "8b9ffb3a250f4dc5bb7c7393c0c5f61e": {
      "model_module": "@jupyter-widgets/base",
      "model_module_version": "1.0.0",
      "model_name": "LayoutModel",
      "state": {}
     },
     "8bb443c134834ec3b24ee67121feaba4": {
      "model_module": "@jupyter-widgets/controls",
      "model_module_version": "1.0.0",
      "model_name": "BoundedFloatTextModel",
      "state": {
       "layout": "IPY_MODEL_61a3c5ad930d453184959eeff32ae217",
       "max": 0.5,
       "min": 0.25,
       "step": 0.01,
       "style": "IPY_MODEL_18b5b47918234e52b4a778241e9cb4e1",
       "value": 0.375
      }
     },
     "8bca99902a3147b78188632af88cac92": {
      "model_module": "@jupyter-widgets/controls",
      "model_module_version": "1.0.0",
      "model_name": "VBoxModel",
      "state": {
       "children": [
        "IPY_MODEL_79e21a32823748a68066540da1c80733",
        "IPY_MODEL_897605d1a9d84ea1bef75af1357d205c",
        "IPY_MODEL_ed473680704140dc871c976136136047",
        "IPY_MODEL_c43e0dcd64704914b7dec55629d5deaf",
        "IPY_MODEL_b4d819f4d7644028b4ab97cd56d71881",
        "IPY_MODEL_014e5e591aa54a018ae411e9e1867749"
       ],
       "layout": "IPY_MODEL_094ed979e696491e99e31b91dd58a044"
      }
     },
     "8be236f3101b4a76a046ab751e334944": {
      "model_module": "@jupyter-widgets/controls",
      "model_module_version": "1.0.0",
      "model_name": "DescriptionStyleModel",
      "state": {
       "description_width": ""
      }
     },
     "8bf3f176b50d4cfab9cd01557a9248e5": {
      "model_module": "@jupyter-widgets/controls",
      "model_module_version": "1.0.0",
      "model_name": "SliderStyleModel",
      "state": {
       "description_width": ""
      }
     },
     "8c156d20480a430d9b71c30d690f97ce": {
      "model_module": "@jupyter-widgets/base",
      "model_module_version": "1.0.0",
      "model_name": "LayoutModel",
      "state": {}
     },
     "8c3bc44394ce4cda8fbcbc9f4a860ee7": {
      "model_module": "@jupyter-widgets/base",
      "model_module_version": "1.0.0",
      "model_name": "LayoutModel",
      "state": {}
     },
     "8c578460fda44cbe84859ea1adcd2266": {
      "model_module": "@jupyter-widgets/base",
      "model_module_version": "1.0.0",
      "model_name": "LayoutModel",
      "state": {}
     },
     "8c69ad704c544b43a874410e66f7b0e9": {
      "model_module": "@jupyter-widgets/base",
      "model_module_version": "1.0.0",
      "model_name": "LayoutModel",
      "state": {}
     },
     "8d1311cbe0824172a0f7bfc2b0effd37": {
      "model_module": "@jupyter-widgets/base",
      "model_module_version": "1.0.0",
      "model_name": "LayoutModel",
      "state": {}
     },
     "8d185386a1874646a3596e141be72e51": {
      "model_module": "@jupyter-widgets/base",
      "model_module_version": "1.0.0",
      "model_name": "LayoutModel",
      "state": {}
     },
     "8d1df97598c84fe89169719f57b33b5a": {
      "model_module": "@jupyter-widgets/controls",
      "model_module_version": "1.0.0",
      "model_name": "DescriptionStyleModel",
      "state": {
       "description_width": ""
      }
     },
     "8d29f7f8aa9d4fc3935113b5b3e586a8": {
      "model_module": "@jupyter-widgets/base",
      "model_module_version": "1.0.0",
      "model_name": "LayoutModel",
      "state": {}
     },
     "8d2ceab3c9594ab88597681a53298b0a": {
      "model_module": "@jupyter-widgets/base",
      "model_module_version": "1.0.0",
      "model_name": "LayoutModel",
      "state": {}
     },
     "8d652ff75c1940e382368dfaaa54faa2": {
      "model_module": "@jupyter-widgets/controls",
      "model_module_version": "1.0.0",
      "model_name": "VBoxModel",
      "state": {
       "children": [
        "IPY_MODEL_850754fa9d9b4f368a111f3633d3788a",
        "IPY_MODEL_baeef9066eef4369a2231494c4897891"
       ],
       "layout": "IPY_MODEL_2fa5575ce7b34bc899c6f73b1e380c03"
      }
     },
     "8d6610b8f62744eaad51943ad9eadf61": {
      "model_module": "@jupyter-widgets/base",
      "model_module_version": "1.0.0",
      "model_name": "LayoutModel",
      "state": {}
     },
     "8d87725201a14510a8835122a90998c1": {
      "model_module": "@jupyter-widgets/base",
      "model_module_version": "1.0.0",
      "model_name": "LayoutModel",
      "state": {}
     },
     "8daa30fe95524ba9b617c97cf507947c": {
      "model_module": "@jupyter-widgets/controls",
      "model_module_version": "1.0.0",
      "model_name": "BoundedFloatTextModel",
      "state": {
       "layout": "IPY_MODEL_cbbd66c05b6c404d867c1de4fd668e0e",
       "step": 0.01,
       "style": "IPY_MODEL_c9160fcab5e84917b9e189378cfdf329",
       "value": 1
      }
     },
     "8de3a9e2fb4a4026a4046fa5848c4782": {
      "model_module": "@jupyter-widgets/controls",
      "model_module_version": "1.0.0",
      "model_name": "LabelModel",
      "state": {
       "layout": "IPY_MODEL_66f6cfcfd0604fc0b49de810beee1e94",
       "style": "IPY_MODEL_a740942bbb9c47099115e560239e8ae9",
       "value": "Точность:"
      }
     },
     "8df5821db3e74d65aafe237702b979c1": {
      "model_module": "@jupyter-widgets/controls",
      "model_module_version": "1.0.0",
      "model_name": "HBoxModel",
      "state": {
       "children": [
        "IPY_MODEL_75d924815b2c4cbeb0e3eec520033f44",
        "IPY_MODEL_ff958173b5a341c38bcc1f41275da67e"
       ],
       "layout": "IPY_MODEL_b4576b2361814c8e8d51f827d7b527ca"
      }
     },
     "8dfd55c6c2e7452ea43c656e718f1593": {
      "model_module": "@jupyter-widgets/controls",
      "model_module_version": "1.0.0",
      "model_name": "DescriptionStyleModel",
      "state": {
       "description_width": ""
      }
     },
     "8e05a1aba7b34733a27d5f292e88749e": {
      "model_module": "@jupyter-widgets/controls",
      "model_module_version": "1.0.0",
      "model_name": "BoundedFloatTextModel",
      "state": {
       "continuous_update": true,
       "description": "Time:",
       "layout": "IPY_MODEL_1d8fa872794147e88a84cc9092e14a7b",
       "max": 1,
       "style": "IPY_MODEL_30b6a7c1655e4382ac10373d9dce8431"
      }
     },
     "8e17d00c2fc3439bb2b99f50c76e20cb": {
      "model_module": "@jupyter-widgets/base",
      "model_module_version": "1.0.0",
      "model_name": "LayoutModel",
      "state": {}
     },
     "8e3d74f543ab478fb826593d733b6e66": {
      "model_module": "@jupyter-widgets/controls",
      "model_module_version": "1.0.0",
      "model_name": "LabelModel",
      "state": {
       "layout": "IPY_MODEL_7abfe90db04f4614997e13f62466cd38",
       "style": "IPY_MODEL_f58b73721e4a46b8b233ef792fefd7e5"
      }
     },
     "8e54d78f267e4dbaaefb1c1f502561ae": {
      "model_module": "@jupyter-widgets/controls",
      "model_module_version": "1.0.0",
      "model_name": "LabelModel",
      "state": {
       "layout": "IPY_MODEL_49afb247c2fc498ab03dc263dfab240d",
       "style": "IPY_MODEL_d6cc80d8b95840e09b20a68ecd06901f"
      }
     },
     "8ed1fc7bc52c4565afd5b565f1a98a0a": {
      "model_module": "@jupyter-widgets/controls",
      "model_module_version": "1.0.0",
      "model_name": "DescriptionStyleModel",
      "state": {
       "description_width": ""
      }
     },
     "8ed9154a11904726ab3221312a7467bf": {
      "model_module": "@jupyter-widgets/controls",
      "model_module_version": "1.0.0",
      "model_name": "BoundedFloatTextModel",
      "state": {
       "continuous_update": true,
       "description": "Time:",
       "layout": "IPY_MODEL_2af02bd34380489e8c23b7fbf4299c12",
       "max": 1,
       "style": "IPY_MODEL_eb2bcebf8e4e48f2aff8eca020cc7cf9",
       "value": 1
      }
     },
     "8ee69964afd04a259cfcdaf65520d1e3": {
      "model_module": "@jupyter-widgets/base",
      "model_module_version": "1.0.0",
      "model_name": "LayoutModel",
      "state": {}
     },
     "8efa83e140cc4ac284e8c85d82bf4232": {
      "model_module": "@jupyter-widgets/controls",
      "model_module_version": "1.0.0",
      "model_name": "VBoxModel",
      "state": {
       "children": [
        "IPY_MODEL_433c5e47190e47928f4c50d426fe01ea",
        "IPY_MODEL_88c5be4e01ec4c928ea84e903709c73c",
        "IPY_MODEL_4978150bad62440c9490eb0bd69a1e9b",
        "IPY_MODEL_ac3fa3f66343487dbd52e4726040862c",
        "IPY_MODEL_2ff07f527ff94daaa3328a1fe1f8d894",
        "IPY_MODEL_ba617e8f97ce4129a2e17db927a6d327"
       ],
       "layout": "IPY_MODEL_ad452dba5b5c4ca28b25e4282ddd452c"
      }
     },
     "8f3b7d85a0e7460580427964b3ebb312": {
      "model_module": "@jupyter-widgets/base",
      "model_module_version": "1.0.0",
      "model_name": "LayoutModel",
      "state": {}
     },
     "8f4096d8b1534c9da2c49d623b4eae97": {
      "model_module": "@jupyter-widgets/controls",
      "model_module_version": "1.0.0",
      "model_name": "BoundedFloatTextModel",
      "state": {
       "continuous_update": true,
       "description": "Time:",
       "layout": "IPY_MODEL_c53a03e0c81b4b569cb5b31bdc2d250c",
       "max": 1,
       "style": "IPY_MODEL_40ccb55fa1054b959da483cf2eb96fe8"
      }
     },
     "8f96de9553eb4059be49a2ac8fd6c7a5": {
      "model_module": "@jupyter-widgets/controls",
      "model_module_version": "1.0.0",
      "model_name": "DescriptionStyleModel",
      "state": {
       "description_width": ""
      }
     },
     "8fcd8cfa4fdc435c9ae087974806b585": {
      "model_module": "@jupyter-widgets/controls",
      "model_module_version": "1.0.0",
      "model_name": "BoundedIntTextModel",
      "state": {
       "layout": "IPY_MODEL_64b05cc505d04bf7bd3506e923984854",
       "max": 1000,
       "min": 50,
       "step": 100,
       "style": "IPY_MODEL_b8fcf76fbdbf4617a253e0036ca01d24",
       "value": 100
      }
     },
     "8fd1e9bd611741038773022ba36b2bc3": {
      "model_module": "@jupyter-widgets/controls",
      "model_module_version": "1.0.0",
      "model_name": "DescriptionStyleModel",
      "state": {
       "description_width": ""
      }
     },
     "8ff80169da8e4e359590e3e8ad73d5d8": {
      "model_module": "@jupyter-widgets/controls",
      "model_module_version": "1.0.0",
      "model_name": "DescriptionStyleModel",
      "state": {
       "description_width": ""
      }
     },
     "8ffc379636c54751b6c2e806db85100f": {
      "model_module": "@jupyter-widgets/base",
      "model_module_version": "1.0.0",
      "model_name": "LayoutModel",
      "state": {}
     },
     "9002732e5c63430b82f116dae77c822d": {
      "model_module": "@jupyter-widgets/base",
      "model_module_version": "1.0.0",
      "model_name": "LayoutModel",
      "state": {}
     },
     "90027e472ee14d8c8d8f06e25717125e": {
      "model_module": "@jupyter-widgets/base",
      "model_module_version": "1.0.0",
      "model_name": "LayoutModel",
      "state": {}
     },
     "9059b77bfbc446c89354761aee2047a0": {
      "model_module": "@jupyter-widgets/base",
      "model_module_version": "1.0.0",
      "model_name": "LayoutModel",
      "state": {}
     },
     "9091618a932b4727ba38b0e110fef100": {
      "model_module": "@jupyter-widgets/controls",
      "model_module_version": "1.0.0",
      "model_name": "VBoxModel",
      "state": {
       "children": [
        "IPY_MODEL_5a64c420900f4676ad5e8f7090cb6e6b",
        "IPY_MODEL_c0fc6d51faa64465b0828b6557f72dcf",
        "IPY_MODEL_feba106c30524f3ea2a9d8d5d7f546e0",
        "IPY_MODEL_a7c08834683043959700ad28d05ad0b8",
        "IPY_MODEL_659b21bab0a44f2793a65bb1743f3dfb",
        "IPY_MODEL_63e10d2dbc3f4589a08c1afbb1d224d0"
       ],
       "layout": "IPY_MODEL_b0f112208e044b6c9539f7b0d13e844b"
      }
     },
     "90c3315819584799981dd62a0c611d45": {
      "model_module": "@jupyter-widgets/controls",
      "model_module_version": "1.0.0",
      "model_name": "DescriptionStyleModel",
      "state": {
       "description_width": ""
      }
     },
     "90d75cbf79ec4a328e64cb29fd470063": {
      "model_module": "@jupyter-widgets/controls",
      "model_module_version": "1.0.0",
      "model_name": "LabelModel",
      "state": {
       "layout": "IPY_MODEL_104badc016e846acb81d9786ce187950",
       "style": "IPY_MODEL_9b35a6176a834292a92f854c17b4444c",
       "value": "Количество шагов по $x$:"
      }
     },
     "90dddea59c824edaa861ff2dd52545a8": {
      "model_module": "@jupyter-widgets/controls",
      "model_module_version": "1.0.0",
      "model_name": "BoundedFloatTextModel",
      "state": {
       "continuous_update": true,
       "description": "Time:",
       "layout": "IPY_MODEL_83e14ad274c24d8cbc8512ca2ee38789",
       "max": 1,
       "style": "IPY_MODEL_a8693d8a29a544bca90bf097e5cf2ecd",
       "value": 0.5
      }
     },
     "90e3e5d3692c4b25916ead9d95b7943d": {
      "model_module": "@jupyter-widgets/base",
      "model_module_version": "1.0.0",
      "model_name": "LayoutModel",
      "state": {}
     },
     "90eb763016f44bf19caa040e9ff2b100": {
      "model_module": "@jupyter-widgets/base",
      "model_module_version": "1.0.0",
      "model_name": "LayoutModel",
      "state": {}
     },
     "910cc331d16d453c895302f2cee5fd2c": {
      "model_module": "@jupyter-widgets/base",
      "model_module_version": "1.0.0",
      "model_name": "LayoutModel",
      "state": {}
     },
     "911fba4d2181433fa0dddd4147cd4459": {
      "model_module": "@jupyter-widgets/controls",
      "model_module_version": "1.0.0",
      "model_name": "DescriptionStyleModel",
      "state": {
       "description_width": ""
      }
     },
     "9123a619ff3c498b980b444324f8e62d": {
      "model_module": "@jupyter-widgets/base",
      "model_module_version": "1.0.0",
      "model_name": "LayoutModel",
      "state": {}
     },
     "912514f9857e434495b75a0a145ed5f8": {
      "model_module": "@jupyter-widgets/base",
      "model_module_version": "1.0.0",
      "model_name": "LayoutModel",
      "state": {}
     },
     "9136f9a72153489a88bcc6759044c486": {
      "model_module": "@jupyter-widgets/base",
      "model_module_version": "1.0.0",
      "model_name": "LayoutModel",
      "state": {}
     },
     "9159f81dd1214e9cb3cbca40dbc4051b": {
      "model_module": "@jupyter-widgets/controls",
      "model_module_version": "1.0.0",
      "model_name": "HBoxModel",
      "state": {
       "children": [
        "IPY_MODEL_2e77f61df2634533b62768b46d2bcb6a",
        "IPY_MODEL_deb38d5097214742a164a46f59ce9537"
       ],
       "layout": "IPY_MODEL_1919303bbc0b4f8a930fe9e79b1a7b41"
      }
     },
     "9163cf440db64e4ab43067d9b0a691e4": {
      "model_module": "@jupyter-widgets/controls",
      "model_module_version": "1.0.0",
      "model_name": "LabelModel",
      "state": {
       "layout": "IPY_MODEL_025fbad4bd6d4c7ea797eaa379bf0b5b",
       "style": "IPY_MODEL_147797de79014e78a5f954c43ef9eea8"
      }
     },
     "91679f96b9a5449d8fb9d03268c1af11": {
      "model_module": "@jupyter-widgets/controls",
      "model_module_version": "1.0.0",
      "model_name": "HBoxModel",
      "state": {
       "children": [
        "IPY_MODEL_3ceb19cc6c5c4d489b10c3f1e2566355",
        "IPY_MODEL_60ac8eda68d946a58d4805589a863901"
       ],
       "layout": "IPY_MODEL_a5cc6b935e90489f8ba542568c1e60c2"
      }
     },
     "91ad271e23a74e98a2b4b6c380c36587": {
      "model_module": "@jupyter-widgets/base",
      "model_module_version": "1.0.0",
      "model_name": "LayoutModel",
      "state": {}
     },
     "91cf7ffcbff94ae8b529fdfdd624a478": {
      "model_module": "@jupyter-widgets/base",
      "model_module_version": "1.0.0",
      "model_name": "LayoutModel",
      "state": {}
     },
     "91df153b81294200b97af575f7e62b71": {
      "model_module": "@jupyter-widgets/controls",
      "model_module_version": "1.0.0",
      "model_name": "LabelModel",
      "state": {
       "layout": "IPY_MODEL_e0bee54159fc42b58118761f852cd4ec",
       "style": "IPY_MODEL_80ef7629e8c445ef80032bff8e7533c0",
       "value": "$\\large t_0$ -время подачи импульса"
      }
     },
     "921cdaa7eb7845b48292a57249fcd9f6": {
      "model_module": "@jupyter-widgets/base",
      "model_module_version": "1.0.0",
      "model_name": "LayoutModel",
      "state": {}
     },
     "925fa13bf49541e49afe263089c0fe01": {
      "model_module": "@jupyter-widgets/controls",
      "model_module_version": "1.0.0",
      "model_name": "DescriptionStyleModel",
      "state": {
       "description_width": ""
      }
     },
     "92968a0237644776a0ae72f23a114e7b": {
      "model_module": "@jupyter-widgets/controls",
      "model_module_version": "1.0.0",
      "model_name": "SliderStyleModel",
      "state": {
       "description_width": ""
      }
     },
     "92cf813595604efb96565527b351803d": {
      "model_module": "@jupyter-widgets/controls",
      "model_module_version": "1.0.0",
      "model_name": "VBoxModel",
      "state": {
       "children": [
        "IPY_MODEL_ce5f5aa45b7e42fbb543e423087bce0e",
        "IPY_MODEL_6ff4758eecc94749b4f8f257558c449b"
       ],
       "layout": "IPY_MODEL_aca772ddda114085b1c35e240e6adedd"
      }
     },
     "932b2a7daa7544088413760ecf4f0e7d": {
      "model_module": "@jupyter-widgets/base",
      "model_module_version": "1.0.0",
      "model_name": "LayoutModel",
      "state": {}
     },
     "9347ade91c0348f19655b8529f70bf61": {
      "model_module": "@jupyter-widgets/base",
      "model_module_version": "1.0.0",
      "model_name": "LayoutModel",
      "state": {}
     },
     "936e2880843848748e0e90689f97fed1": {
      "model_module": "@jupyter-widgets/base",
      "model_module_version": "1.0.0",
      "model_name": "LayoutModel",
      "state": {}
     },
     "93746257b26f4ab484fe9a8c70f494c2": {
      "model_module": "@jupyter-widgets/base",
      "model_module_version": "1.0.0",
      "model_name": "LayoutModel",
      "state": {}
     },
     "937d80ebc5c94ad793d85a6546f23a77": {
      "model_module": "@jupyter-widgets/base",
      "model_module_version": "1.0.0",
      "model_name": "LayoutModel",
      "state": {}
     },
     "93b376904d424930a2b97fa7b1658c9b": {
      "model_module": "@jupyter-widgets/base",
      "model_module_version": "1.0.0",
      "model_name": "LayoutModel",
      "state": {}
     },
     "93e5c5d777a5496c8ac7bf4bf6eaf8ce": {
      "model_module": "@jupyter-widgets/base",
      "model_module_version": "1.0.0",
      "model_name": "LayoutModel",
      "state": {}
     },
     "93ede6507a8d4c2aaeadc153ae7a264d": {
      "model_module": "@jupyter-widgets/controls",
      "model_module_version": "1.0.0",
      "model_name": "ToggleButtonsModel",
      "state": {
       "_options_labels": [
        "Расчёт заданного числа шагов",
        "Расчёт с заданной точностью"
       ],
       "button_style": "",
       "description": "Режим работы:",
       "icons": [],
       "index": 1,
       "layout": "IPY_MODEL_cd53692a56ae4e12bac266e57f4cbf61",
       "style": "IPY_MODEL_d327ec338d1f41dda1c90454ef5f93de",
       "tooltips": []
      }
     },
     "943182116966458694a5ba9abaf8f9e5": {
      "model_module": "@jupyter-widgets/base",
      "model_module_version": "1.0.0",
      "model_name": "LayoutModel",
      "state": {}
     },
     "9482fda2b40a4f66a58c6411d71df6aa": {
      "model_module": "@jupyter-widgets/base",
      "model_module_version": "1.0.0",
      "model_name": "LayoutModel",
      "state": {}
     },
     "94dc7ab3b6c94d448bfb4fc71206d434": {
      "model_module": "@jupyter-widgets/controls",
      "model_module_version": "1.0.0",
      "model_name": "DescriptionStyleModel",
      "state": {
       "description_width": ""
      }
     },
     "94e80ef03db34b41b6dc446bc006c16e": {
      "model_module": "@jupyter-widgets/controls",
      "model_module_version": "1.0.0",
      "model_name": "LabelModel",
      "state": {
       "layout": "IPY_MODEL_fd09f496da414857a50d452950c3492d",
       "style": "IPY_MODEL_911fba4d2181433fa0dddd4147cd4459"
      }
     },
     "94f90e436c20405cbf6162c6741d3956": {
      "model_module": "@jupyter-widgets/controls",
      "model_module_version": "1.0.0",
      "model_name": "IntSliderModel",
      "state": {
       "description": "Step:",
       "layout": "IPY_MODEL_8401943607734e7aaf454b8910c9f3b0",
       "max": 199,
       "style": "IPY_MODEL_3292637856c5404ab4c02cd82c3cdb3a",
       "value": 152
      }
     },
     "952398c7077141c19392afd7c21aa6b6": {
      "model_module": "@jupyter-widgets/controls",
      "model_module_version": "1.0.0",
      "model_name": "LabelModel",
      "state": {
       "layout": "IPY_MODEL_afc535a644ef43068e7dc62897547c99",
       "style": "IPY_MODEL_9e2f1feb7324490185f721781410659a",
       "value": "Количество шагов по $x$:"
      }
     },
     "95484790b8b7497aa6ff8449828b8753": {
      "model_module": "@jupyter-widgets/controls",
      "model_module_version": "1.0.0",
      "model_name": "DescriptionStyleModel",
      "state": {
       "description_width": ""
      }
     },
     "9553e31462304641aef11cfe933d1114": {
      "model_module": "@jupyter-widgets/controls",
      "model_module_version": "1.0.0",
      "model_name": "BoundedFloatTextModel",
      "state": {
       "layout": "IPY_MODEL_e9fdee0cd4ba484f98679d129754a95f",
       "step": 0.01,
       "style": "IPY_MODEL_896b21b2ad214f9498f26a5a458f311f",
       "value": 1
      }
     },
     "957c082de65a4348a2512795905eb882": {
      "model_module": "@jupyter-widgets/base",
      "model_module_version": "1.0.0",
      "model_name": "LayoutModel",
      "state": {}
     },
     "95865346bfad49b2a4df423f1608bf41": {
      "model_module": "@jupyter-widgets/base",
      "model_module_version": "1.0.0",
      "model_name": "LayoutModel",
      "state": {}
     },
     "95b054d253334f37ae4127d8966adb2e": {
      "model_module": "@jupyter-widgets/base",
      "model_module_version": "1.0.0",
      "model_name": "LayoutModel",
      "state": {}
     },
     "95d159dc611245bf9fc6b6d810ec7867": {
      "model_module": "@jupyter-widgets/controls",
      "model_module_version": "1.0.0",
      "model_name": "DescriptionStyleModel",
      "state": {
       "description_width": ""
      }
     },
     "95f677e0ec6642bcb6961930f55155f2": {
      "model_module": "@jupyter-widgets/base",
      "model_module_version": "1.0.0",
      "model_name": "LayoutModel",
      "state": {}
     },
     "9613e963de014bec9cccb21033b4611c": {
      "model_module": "@jupyter-widgets/controls",
      "model_module_version": "1.0.0",
      "model_name": "LabelModel",
      "state": {
       "layout": "IPY_MODEL_e5ec27a282da47f89bde8a9974818cd5",
       "style": "IPY_MODEL_28b78f0fa4804cf396824808521b355a"
      }
     },
     "96695e2db5474a7db952215aba655547": {
      "model_module": "@jupyter-widgets/controls",
      "model_module_version": "1.0.0",
      "model_name": "LabelModel",
      "state": {
       "layout": "IPY_MODEL_60d491a8673746fca527250e18907f6a",
       "style": "IPY_MODEL_7c4373de483e4362893eb85cbb919271",
       "value": "$\\large l$ -длина струны"
      }
     },
     "966db843ab664e13b2f96f02d1be7a07": {
      "model_module": "@jupyter-widgets/controls",
      "model_module_version": "1.0.0",
      "model_name": "HBoxModel",
      "state": {
       "children": [
        "IPY_MODEL_d6b2f02dd413478ca0e57141ef7ac509",
        "IPY_MODEL_82dbd93d06de441b9d5f7707f04e477d"
       ],
       "layout": "IPY_MODEL_83144214a6534a778e1d4b9996417403"
      }
     },
     "968ae6ce1e43433d951060bb05193ce3": {
      "model_module": "@jupyter-widgets/base",
      "model_module_version": "1.0.0",
      "model_name": "LayoutModel",
      "state": {}
     },
     "969438244a1a44709344ecf397bd4e9f": {
      "model_module": "@jupyter-widgets/base",
      "model_module_version": "1.0.0",
      "model_name": "LayoutModel",
      "state": {}
     },
     "971663de28a04623aca7d514eadcc77a": {
      "model_module": "@jupyter-widgets/base",
      "model_module_version": "1.0.0",
      "model_name": "LayoutModel",
      "state": {}
     },
     "9782f5f4bdf84520887b30d54799f256": {
      "model_module": "@jupyter-widgets/controls",
      "model_module_version": "1.0.0",
      "model_name": "DescriptionStyleModel",
      "state": {
       "description_width": ""
      }
     },
     "979314adf2e54b62895340dd75b2f7d1": {
      "model_module": "@jupyter-widgets/base",
      "model_module_version": "1.0.0",
      "model_name": "LayoutModel",
      "state": {}
     },
     "97f279ed91814165870f5148e76df081": {
      "model_module": "@jupyter-widgets/controls",
      "model_module_version": "1.0.0",
      "model_name": "LabelModel",
      "state": {
       "layout": "IPY_MODEL_72dd8900ee154560a78c72d8df770666",
       "style": "IPY_MODEL_3b1e6caa0984491283f93eda94b8f0a5",
       "value": "Параметр $\\sigma$ неявной схемы:"
      }
     },
     "98d1252292bc4a44b8c50b8c56e17a66": {
      "model_module": "@jupyter-widgets/controls",
      "model_module_version": "1.0.0",
      "model_name": "LabelModel",
      "state": {
       "layout": "IPY_MODEL_cb3182b051ef4b319c64eca77fc36039",
       "style": "IPY_MODEL_09558330bc0047489d72bdf81a9aa4f5",
       "value": "Длительность анимации"
      }
     },
     "990244f0018b41a7bdce10ca39d91ea8": {
      "model_module": "@jupyter-widgets/base",
      "model_module_version": "1.0.0",
      "model_name": "LayoutModel",
      "state": {}
     },
     "991f4670dcfa46548e95b318dfaccff6": {
      "model_module": "@jupyter-widgets/controls",
      "model_module_version": "1.0.0",
      "model_name": "LabelModel",
      "state": {
       "layout": "IPY_MODEL_021697d89a164a6094a437b628f51a72",
       "style": "IPY_MODEL_119ed02737ca41b487044e2d95b39864",
       "value": "$\\large l$ -длина струны"
      }
     },
     "993ec14c11e94e8d800debbdbe90516f": {
      "model_module": "@jupyter-widgets/base",
      "model_module_version": "1.0.0",
      "model_name": "LayoutModel",
      "state": {}
     },
     "9948bd3ef5ea4a84bd447634676a8bf5": {
      "model_module": "@jupyter-widgets/base",
      "model_module_version": "1.0.0",
      "model_name": "LayoutModel",
      "state": {}
     },
     "99bb05e12c9d44a6b897618d191d08d3": {
      "model_module": "@jupyter-widgets/base",
      "model_module_version": "1.0.0",
      "model_name": "LayoutModel",
      "state": {}
     },
     "99de45b496c84058884268c7ed7120cd": {
      "model_module": "@jupyter-widgets/controls",
      "model_module_version": "1.0.0",
      "model_name": "BoundedFloatTextModel",
      "state": {
       "layout": "IPY_MODEL_b858ffc295b74a84a94249e56c098ad5",
       "step": 0.01,
       "style": "IPY_MODEL_8fd1e9bd611741038773022ba36b2bc3",
       "value": 1.03
      }
     },
     "9a1bb05be57e401faa128dfb3a4ef32d": {
      "model_module": "@jupyter-widgets/controls",
      "model_module_version": "1.0.0",
      "model_name": "HBoxModel",
      "state": {
       "children": [
        "IPY_MODEL_1938378baf014b7fb06f9eb69111e520",
        "IPY_MODEL_f25a56f60dca4917968eb6b58c56b4b7"
       ],
       "layout": "IPY_MODEL_2e2e043a5ee64154a4fa4190b7cc18e7"
      }
     },
     "9a27f92f4af54522a29c4a530903ed08": {
      "model_module": "@jupyter-widgets/controls",
      "model_module_version": "1.0.0",
      "model_name": "DescriptionStyleModel",
      "state": {
       "description_width": ""
      }
     },
     "9a2c3aa636b544d99949ea1ba232a3c1": {
      "model_module": "@jupyter-widgets/controls",
      "model_module_version": "1.0.0",
      "model_name": "LabelModel",
      "state": {
       "layout": "IPY_MODEL_4162bee3e8194588811391d5ae7bfc0c",
       "style": "IPY_MODEL_193c6d671a13403783b950ebfd9ed978",
       "value": "Точность:"
      }
     },
     "9a4c5143e00c44e79cce3464471ce2c9": {
      "model_module": "@jupyter-widgets/controls",
      "model_module_version": "1.0.0",
      "model_name": "DescriptionStyleModel",
      "state": {
       "description_width": ""
      }
     },
     "9a853ab1dc274ca785da027451a11e6e": {
      "model_module": "@jupyter-widgets/controls",
      "model_module_version": "1.0.0",
      "model_name": "HBoxModel",
      "state": {
       "children": [
        "IPY_MODEL_1145ea8701cf45a0a4b389fda06b6a3b",
        "IPY_MODEL_c26e03c02f004aac853fadb816467abc"
       ],
       "layout": "IPY_MODEL_5e4ed7cba1b444ce80510dfb630b47e2"
      }
     },
     "9a8b6d41327a42e7a6ccedb8bdc25746": {
      "model_module": "@jupyter-widgets/controls",
      "model_module_version": "1.0.0",
      "model_name": "HBoxModel",
      "state": {
       "children": [
        "IPY_MODEL_b0250eb545994b85905a705a7578459e",
        "IPY_MODEL_cf34f48ccc8e4be6a5185005a8db4448"
       ],
       "layout": "IPY_MODEL_2ac2c2b524224eb386045f2064ae501e"
      }
     },
     "9a9bc27dea104381aafbe5cae5b7d301": {
      "model_module": "@jupyter-widgets/controls",
      "model_module_version": "1.0.0",
      "model_name": "HBoxModel",
      "state": {
       "children": [
        "IPY_MODEL_aae26bde0ef14e6ebccb84ec3520f7f2",
        "IPY_MODEL_bbfcdff5f04e4ddba961a56696fea5e6"
       ],
       "layout": "IPY_MODEL_91ad271e23a74e98a2b4b6c380c36587"
      }
     },
     "9b0759bd5284439ebb1676377de98ae4": {
      "model_module": "@jupyter-widgets/controls",
      "model_module_version": "1.0.0",
      "model_name": "VBoxModel",
      "state": {
       "children": [
        "IPY_MODEL_506e3a857894409c8cf38a80e3061cef",
        "IPY_MODEL_37ddefc924f14c2ead1967460f3da342"
       ],
       "layout": "IPY_MODEL_c965a1bae5be41c6b3cac4f78548e751"
      }
     },
     "9b2de35a973844a19c876120f1c629f8": {
      "model_module": "@jupyter-widgets/base",
      "model_module_version": "1.0.0",
      "model_name": "LayoutModel",
      "state": {}
     },
     "9b35a6176a834292a92f854c17b4444c": {
      "model_module": "@jupyter-widgets/controls",
      "model_module_version": "1.0.0",
      "model_name": "DescriptionStyleModel",
      "state": {
       "description_width": ""
      }
     },
     "9babe1a2eebe41af9d47438c51c46927": {
      "model_module": "@jupyter-widgets/base",
      "model_module_version": "1.0.0",
      "model_name": "LayoutModel",
      "state": {}
     },
     "9bbb4482bd904b8c8d96e1324daaa1d9": {
      "model_module": "@jupyter-widgets/base",
      "model_module_version": "1.0.0",
      "model_name": "LayoutModel",
      "state": {}
     },
     "9bce485e7bca4f1eab45f0b021be0212": {
      "model_module": "@jupyter-widgets/controls",
      "model_module_version": "1.0.0",
      "model_name": "BoundedIntTextModel",
      "state": {
       "layout": "IPY_MODEL_18319865b13f488ab5a42ff9ff34ac24",
       "max": 1000,
       "min": 50,
       "step": 100,
       "style": "IPY_MODEL_4ba46c62da4746c092f6f5c01acb26cf",
       "value": 100
      }
     },
     "9bec22b7f1ce4dad9e7a853a388ff01d": {
      "model_module": "@jupyter-widgets/controls",
      "model_module_version": "1.0.0",
      "model_name": "DescriptionStyleModel",
      "state": {
       "description_width": ""
      }
     },
     "9c07cd53228247c6afaa2675b7b6b0dd": {
      "model_module": "@jupyter-widgets/base",
      "model_module_version": "1.0.0",
      "model_name": "LayoutModel",
      "state": {}
     },
     "9c322528abd4494db90f1368d8e7d1d1": {
      "model_module": "@jupyter-widgets/base",
      "model_module_version": "1.0.0",
      "model_name": "LayoutModel",
      "state": {}
     },
     "9c4b78b321a74cecb0a41cda3169418f": {
      "model_module": "@jupyter-widgets/controls",
      "model_module_version": "1.0.0",
      "model_name": "DescriptionStyleModel",
      "state": {
       "description_width": ""
      }
     },
     "9c64f8fc59344b7e932b91ac05ad306a": {
      "model_module": "@jupyter-widgets/controls",
      "model_module_version": "1.0.0",
      "model_name": "VBoxModel",
      "state": {
       "children": [
        "IPY_MODEL_2cb5fa4016c54b57ab9ce9e9405fce4e",
        "IPY_MODEL_df6815f24d33456ab43ddc2cd68e5efd",
        "IPY_MODEL_8a0c1ac0e9e643fc9e9be943e3be40a4",
        "IPY_MODEL_837dbe6a5ce64984a48f637df388f09d",
        "IPY_MODEL_e3f1e50b9c454be6ba114f8344bc5f95",
        "IPY_MODEL_b88e56c8da0f4763bdcf7d722868b007"
       ],
       "layout": "IPY_MODEL_a09bb4c29619497f8ec6408544bc85d4"
      }
     },
     "9c9b9a91e1864a19a6325fc971bc4e85": {
      "model_module": "@jupyter-widgets/controls",
      "model_module_version": "1.0.0",
      "model_name": "DescriptionStyleModel",
      "state": {
       "description_width": ""
      }
     },
     "9ca0f1ce1cad4c1d8494c276f99ff7b0": {
      "model_module": "@jupyter-widgets/controls",
      "model_module_version": "1.0.0",
      "model_name": "VBoxModel",
      "state": {
       "children": [
        "IPY_MODEL_85d3c67eebae495bbcbd96191f68f17d",
        "IPY_MODEL_ae9c77fbcdf54af6a747bcfa8e57b3a9"
       ],
       "layout": "IPY_MODEL_42c40e4b4c2c4d49b46756a6eb981dac"
      }
     },
     "9ca11a37e7444d7d85ee651014e790cb": {
      "model_module": "@jupyter-widgets/base",
      "model_module_version": "1.0.0",
      "model_name": "LayoutModel",
      "state": {}
     },
     "9ca13be24bc6478ebf498c83a2c8f4f8": {
      "model_module": "@jupyter-widgets/controls",
      "model_module_version": "1.0.0",
      "model_name": "DescriptionStyleModel",
      "state": {
       "description_width": ""
      }
     },
     "9cbc633f9f8d4485bd8a35e827579ec9": {
      "model_module": "@jupyter-widgets/base",
      "model_module_version": "1.0.0",
      "model_name": "LayoutModel",
      "state": {}
     },
     "9ccf702010df42868804f9f68bf2873c": {
      "model_module": "@jupyter-widgets/base",
      "model_module_version": "1.0.0",
      "model_name": "LayoutModel",
      "state": {}
     },
     "9d09f2a3c98d467f80e41a36755116db": {
      "model_module": "@jupyter-widgets/controls",
      "model_module_version": "1.0.0",
      "model_name": "LabelModel",
      "state": {
       "layout": "IPY_MODEL_260fac7e69654659abb174dc012a13c5",
       "style": "IPY_MODEL_14eccb07691042339e7c29029766bc03",
       "value": "Количество шагов по $t$:"
      }
     },
     "9d2fb706c12d4bc6b7a0c1317dc85373": {
      "model_module": "@jupyter-widgets/base",
      "model_module_version": "1.0.0",
      "model_name": "LayoutModel",
      "state": {}
     },
     "9d35933b2dc64908aeb709e10f84d94c": {
      "model_module": "@jupyter-widgets/controls",
      "model_module_version": "1.0.0",
      "model_name": "DescriptionStyleModel",
      "state": {
       "description_width": ""
      }
     },
     "9d3975e104f844289f340ec837246a4d": {
      "model_module": "@jupyter-widgets/base",
      "model_module_version": "1.0.0",
      "model_name": "LayoutModel",
      "state": {}
     },
     "9dad6a733f6c421f9609f6f002ae6f85": {
      "model_module": "@jupyter-widgets/controls",
      "model_module_version": "1.0.0",
      "model_name": "HBoxModel",
      "state": {
       "children": [
        "IPY_MODEL_832b4c2448994de3b7af8119a9bd4105",
        "IPY_MODEL_d8527c645ea0489090e2251b0ced5eb0"
       ],
       "layout": "IPY_MODEL_794d41b2633143dca69d7a09b353a982"
      }
     },
     "9dc0b64d871e48a09c98fdea78b1422b": {
      "model_module": "@jupyter-widgets/base",
      "model_module_version": "1.0.0",
      "model_name": "LayoutModel",
      "state": {}
     },
     "9dda533272524f80b2cfdfcca6bea156": {
      "model_module": "@jupyter-widgets/controls",
      "model_module_version": "1.0.0",
      "model_name": "SliderStyleModel",
      "state": {
       "description_width": ""
      }
     },
     "9de6383ffaa4406ea065bb1746d14d5c": {
      "model_module": "@jupyter-widgets/base",
      "model_module_version": "1.0.0",
      "model_name": "LayoutModel",
      "state": {}
     },
     "9def161653cb4936ad37d9d0f453cf0c": {
      "model_module": "@jupyter-widgets/controls",
      "model_module_version": "1.0.0",
      "model_name": "DescriptionStyleModel",
      "state": {
       "description_width": ""
      }
     },
     "9e0e769ebe764681a79fa905cf3cf38a": {
      "model_module": "@jupyter-widgets/base",
      "model_module_version": "1.0.0",
      "model_name": "LayoutModel",
      "state": {}
     },
     "9e0f9ec8363b4ce5846020533a67d1d4": {
      "model_module": "@jupyter-widgets/controls",
      "model_module_version": "1.0.0",
      "model_name": "LabelModel",
      "state": {
       "layout": "IPY_MODEL_27d7138a1d954cc5b4c84307c7ec6c05",
       "style": "IPY_MODEL_9e3ad13492a04b1199b8384c5f09104b",
       "value": "Точность:"
      }
     },
     "9e2f1feb7324490185f721781410659a": {
      "model_module": "@jupyter-widgets/controls",
      "model_module_version": "1.0.0",
      "model_name": "DescriptionStyleModel",
      "state": {
       "description_width": ""
      }
     },
     "9e3ad13492a04b1199b8384c5f09104b": {
      "model_module": "@jupyter-widgets/controls",
      "model_module_version": "1.0.0",
      "model_name": "DescriptionStyleModel",
      "state": {
       "description_width": ""
      }
     },
     "9e3c6e48e393415eaec30973a58ebebc": {
      "model_module": "@jupyter-widgets/base",
      "model_module_version": "1.0.0",
      "model_name": "LayoutModel",
      "state": {}
     },
     "9e9668173b3947abb71a176964605a45": {
      "model_module": "@jupyter-widgets/base",
      "model_module_version": "1.0.0",
      "model_name": "LayoutModel",
      "state": {}
     },
     "9e9855ec8b674e12a86b995750ecb658": {
      "model_module": "@jupyter-widgets/base",
      "model_module_version": "1.0.0",
      "model_name": "LayoutModel",
      "state": {}
     },
     "9eba831681f84b3b81c91801eee596a6": {
      "model_module": "@jupyter-widgets/base",
      "model_module_version": "1.0.0",
      "model_name": "LayoutModel",
      "state": {}
     },
     "9f18b8b9243d4a20a1889aa04bc2c6e8": {
      "model_module": "@jupyter-widgets/controls",
      "model_module_version": "1.0.0",
      "model_name": "HBoxModel",
      "state": {
       "children": [
        "IPY_MODEL_991f4670dcfa46548e95b318dfaccff6",
        "IPY_MODEL_1d5b21967fdc441d9abaad892e3db3f0"
       ],
       "layout": "IPY_MODEL_11d866bf6e8b4b619c19ae8bed0a67af"
      }
     },
     "9f23572da1df4825aac3c602b0f490ed": {
      "model_module": "@jupyter-widgets/base",
      "model_module_version": "1.0.0",
      "model_name": "LayoutModel",
      "state": {}
     },
     "9f24220654c84f1db0883f061e5cafc5": {
      "model_module": "@jupyter-widgets/base",
      "model_module_version": "1.0.0",
      "model_name": "LayoutModel",
      "state": {}
     },
     "9f29f037dbce4f56ad4901901bb7bb37": {
      "model_module": "@jupyter-widgets/controls",
      "model_module_version": "1.0.0",
      "model_name": "ToggleButtonsModel",
      "state": {
       "_options_labels": [
        "Расчёт заданного числа шагов",
        "Расчёт с заданной точностью"
       ],
       "button_style": "",
       "description": "Режим работы:",
       "icons": [],
       "index": 0,
       "layout": "IPY_MODEL_d9efe41323bd476180e70bb6337aef73",
       "style": "IPY_MODEL_c0f5e6b40a464b049e862b9bbdb506c8",
       "tooltips": []
      }
     },
     "9f300bfa765f41a2beb50087f8ec1a08": {
      "model_module": "@jupyter-widgets/base",
      "model_module_version": "1.0.0",
      "model_name": "LayoutModel",
      "state": {}
     },
     "9f3e503eca5b4afeb1cf09bc578b6c90": {
      "model_module": "@jupyter-widgets/controls",
      "model_module_version": "1.0.0",
      "model_name": "LabelModel",
      "state": {
       "layout": "IPY_MODEL_e3731f5a10ad4b198715b6d88b81316a",
       "style": "IPY_MODEL_c4f7991093af4c38a5de0f20c21e6a88"
      }
     },
     "9f55d1b366834d73bb03ea176aee1032": {
      "model_module": "@jupyter-widgets/base",
      "model_module_version": "1.0.0",
      "model_name": "LayoutModel",
      "state": {}
     },
     "9f5aecd09f724477bb4fc67edb5266d5": {
      "model_module": "@jupyter-widgets/controls",
      "model_module_version": "1.0.0",
      "model_name": "LabelModel",
      "state": {
       "layout": "IPY_MODEL_58ad8ddab7544a71b292e993e3182564",
       "style": "IPY_MODEL_327fe23a0c7248ac89b677f11795fa2c",
       "value": "Параметр $\\sigma$ неявной схемы:"
      }
     },
     "9f61713224c648368aad1dca6b466585": {
      "model_module": "@jupyter-widgets/controls",
      "model_module_version": "1.0.0",
      "model_name": "BoundedFloatTextModel",
      "state": {
       "layout": "IPY_MODEL_54ea55f9aa3e4919b3b23289baf0a9de",
       "step": 0.01,
       "style": "IPY_MODEL_48d52c659f0c4187836b5739b2710894",
       "value": 1
      }
     },
     "9fa7a1ba8c4f4fabba23f530839f6c67": {
      "model_module": "@jupyter-widgets/controls",
      "model_module_version": "1.0.0",
      "model_name": "HBoxModel",
      "state": {
       "children": [
        "IPY_MODEL_80e3d177122a46278e03fadfef06909f",
        "IPY_MODEL_a18ac6cde0c44ce79215f1ab3d8d012b"
       ],
       "layout": "IPY_MODEL_ea16fa27797b4fdabcbb972326f336c5"
      }
     },
     "9fc85cc547d54cb1b0c7abb6d4591292": {
      "model_module": "@jupyter-widgets/base",
      "model_module_version": "1.0.0",
      "model_name": "LayoutModel",
      "state": {}
     },
     "9fd047fdf7444487bb1938f94ea90201": {
      "model_module": "@jupyter-widgets/base",
      "model_module_version": "1.0.0",
      "model_name": "LayoutModel",
      "state": {}
     },
     "9fe1e29619c54073bd8a02f7a5a57974": {
      "model_module": "@jupyter-widgets/base",
      "model_module_version": "1.0.0",
      "model_name": "LayoutModel",
      "state": {}
     },
     "a00cf52212494d239e53eb31df65bac9": {
      "model_module": "@jupyter-widgets/controls",
      "model_module_version": "1.0.0",
      "model_name": "LabelModel",
      "state": {
       "layout": "IPY_MODEL_108f79f0d94c42b687ebdeaf26e72e99",
       "style": "IPY_MODEL_3504b7af891e466f8c94ed461ad56c29",
       "value": "Время симуляции:"
      }
     },
     "a0222f31b275482f975b98297558ed22": {
      "model_module": "@jupyter-widgets/base",
      "model_module_version": "1.0.0",
      "model_name": "LayoutModel",
      "state": {}
     },
     "a02ff2035ffe464497f0285a10d5c045": {
      "model_module": "@jupyter-widgets/controls",
      "model_module_version": "1.0.0",
      "model_name": "LabelModel",
      "state": {
       "layout": "IPY_MODEL_47c0b2b9b4804b0baade0c7390ca2fb9",
       "style": "IPY_MODEL_bdc2fab61fb74185ae2ba2f6bddc072d",
       "value": "Количество шагов по $t$:"
      }
     },
     "a03cd75f1c114c7caf38f9f9213354fb": {
      "model_module": "@jupyter-widgets/base",
      "model_module_version": "1.0.0",
      "model_name": "LayoutModel",
      "state": {}
     },
     "a0457286c07148ec954b03835478eeb2": {
      "model_module": "@jupyter-widgets/controls",
      "model_module_version": "1.0.0",
      "model_name": "HBoxModel",
      "state": {
       "children": [
        "IPY_MODEL_ca9ae8236d354f2a992c3026f7d3737e",
        "IPY_MODEL_dff10e725af14c6fa1fd19c8d62e277b"
       ],
       "layout": "IPY_MODEL_1d4f7896dfa04d159ff9fa9d572b4ad7"
      }
     },
     "a057162651fa4957b88fa6ab040d1e3c": {
      "model_module": "@jupyter-widgets/base",
      "model_module_version": "1.0.0",
      "model_name": "LayoutModel",
      "state": {}
     },
     "a09bb4c29619497f8ec6408544bc85d4": {
      "model_module": "@jupyter-widgets/base",
      "model_module_version": "1.0.0",
      "model_name": "LayoutModel",
      "state": {}
     },
     "a0a6e09f938b49a391558db9a642f936": {
      "model_module": "@jupyter-widgets/controls",
      "model_module_version": "1.0.0",
      "model_name": "DescriptionStyleModel",
      "state": {
       "description_width": ""
      }
     },
     "a0ac4394fc0541648f42170b2b493ae7": {
      "model_module": "@jupyter-widgets/base",
      "model_module_version": "1.0.0",
      "model_name": "LayoutModel",
      "state": {}
     },
     "a0ca59b03abe49288e46ff69fbf30fcf": {
      "model_module": "@jupyter-widgets/controls",
      "model_module_version": "1.0.0",
      "model_name": "LabelModel",
      "state": {
       "layout": "IPY_MODEL_f2b4e1bd2150412bac637210e2ce5819",
       "style": "IPY_MODEL_67d66bd478924128b8ba2524feaf9c4e",
       "value": "Time:0.763819095477"
      }
     },
     "a0d0581227534e22937815357d624f24": {
      "model_module": "@jupyter-widgets/base",
      "model_module_version": "1.0.0",
      "model_name": "LayoutModel",
      "state": {}
     },
     "a0df4a30c3334239bf83e2871ae7e412": {
      "model_module": "@jupyter-widgets/base",
      "model_module_version": "1.0.0",
      "model_name": "LayoutModel",
      "state": {}
     },
     "a10f97909072487ab330a6fa8338c87f": {
      "model_module": "@jupyter-widgets/base",
      "model_module_version": "1.0.0",
      "model_name": "LayoutModel",
      "state": {}
     },
     "a116410adfcf4ade9798ae64243b0e8f": {
      "model_module": "@jupyter-widgets/controls",
      "model_module_version": "1.0.0",
      "model_name": "HBoxModel",
      "state": {
       "children": [
        "IPY_MODEL_f0865bf3a1114134aa481485c034bb65",
        "IPY_MODEL_14f81b5bf03f4f07bef4c2a65ae2a2a1"
       ],
       "layout": "IPY_MODEL_d6b0a6fb066f4254801d9b78072c784d"
      }
     },
     "a136cd39c1f848169347c56194d9587f": {
      "model_module": "@jupyter-widgets/base",
      "model_module_version": "1.0.0",
      "model_name": "LayoutModel",
      "state": {}
     },
     "a13a172566ff4455b464369f24561177": {
      "model_module": "@jupyter-widgets/base",
      "model_module_version": "1.0.0",
      "model_name": "LayoutModel",
      "state": {}
     },
     "a18ac6cde0c44ce79215f1ab3d8d012b": {
      "model_module": "@jupyter-widgets/controls",
      "model_module_version": "1.0.0",
      "model_name": "BoundedFloatTextModel",
      "state": {
       "layout": "IPY_MODEL_c02cbee3cc84410bac402c75a790239f",
       "step": 0.01,
       "style": "IPY_MODEL_4558585b83534ca883cda5c39a3cf74e",
       "value": 1
      }
     },
     "a1a582e7613e419089db1a5ca676467e": {
      "model_module": "@jupyter-widgets/controls",
      "model_module_version": "1.0.0",
      "model_name": "LabelModel",
      "state": {
       "layout": "IPY_MODEL_c15270a2e3fc4010978d327b73cefffe",
       "style": "IPY_MODEL_603d303da76e4d2db779c39f2e29de65"
      }
     },
     "a1a8dbd75aaf4764a68d8ac0d222878a": {
      "model_module": "@jupyter-widgets/base",
      "model_module_version": "1.0.0",
      "model_name": "LayoutModel",
      "state": {}
     },
     "a2277fd785144af294205c6a18402063": {
      "model_module": "@jupyter-widgets/controls",
      "model_module_version": "1.0.0",
      "model_name": "DescriptionStyleModel",
      "state": {
       "description_width": ""
      }
     },
     "a22dab4bee2e4f7ba17c0328b2f84c88": {
      "model_module": "@jupyter-widgets/base",
      "model_module_version": "1.0.0",
      "model_name": "LayoutModel",
      "state": {}
     },
     "a28c7158852f4844bb23b07d7b00a52f": {
      "model_module": "@jupyter-widgets/controls",
      "model_module_version": "1.0.0",
      "model_name": "SliderStyleModel",
      "state": {
       "description_width": ""
      }
     },
     "a2ab6f478dc44205b0fd158cae864ece": {
      "model_module": "@jupyter-widgets/base",
      "model_module_version": "1.0.0",
      "model_name": "LayoutModel",
      "state": {}
     },
     "a2beedd653b34914a8f193d04d6df323": {
      "model_module": "@jupyter-widgets/controls",
      "model_module_version": "1.0.0",
      "model_name": "DescriptionStyleModel",
      "state": {
       "description_width": ""
      }
     },
     "a2c8a1e1b99a4357a5680bc392c14e0a": {
      "model_module": "@jupyter-widgets/controls",
      "model_module_version": "1.0.0",
      "model_name": "DescriptionStyleModel",
      "state": {
       "description_width": ""
      }
     },
     "a31aa64ae721482b93eaad02b275e04b": {
      "model_module": "@jupyter-widgets/base",
      "model_module_version": "1.0.0",
      "model_name": "LayoutModel",
      "state": {}
     },
     "a341386255914fe9ab56f8b5e9c06558": {
      "model_module": "@jupyter-widgets/controls",
      "model_module_version": "1.0.0",
      "model_name": "SliderStyleModel",
      "state": {
       "description_width": ""
      }
     },
     "a360f128d34742369207a5d2fc9d530d": {
      "model_module": "@jupyter-widgets/controls",
      "model_module_version": "1.0.0",
      "model_name": "DescriptionStyleModel",
      "state": {
       "description_width": ""
      }
     },
     "a366420713cf464a9f049ecbb1be4f46": {
      "model_module": "@jupyter-widgets/base",
      "model_module_version": "1.0.0",
      "model_name": "LayoutModel",
      "state": {}
     },
     "a369e324660b4eeaaa1d247a84445a5f": {
      "model_module": "@jupyter-widgets/controls",
      "model_module_version": "1.0.0",
      "model_name": "DescriptionStyleModel",
      "state": {
       "description_width": ""
      }
     },
     "a37901dc7a644d80b6b3514faadcf018": {
      "model_module": "@jupyter-widgets/base",
      "model_module_version": "1.0.0",
      "model_name": "LayoutModel",
      "state": {}
     },
     "a397934531b943588df8f0ef40217416": {
      "model_module": "@jupyter-widgets/controls",
      "model_module_version": "1.0.0",
      "model_name": "HBoxModel",
      "state": {
       "children": [
        "IPY_MODEL_1177b35fc24c43d8a281daa053802fcc",
        "IPY_MODEL_3541104dd4a6411695c109d4a80a8b06"
       ],
       "layout": "IPY_MODEL_0672a90fa48d4bbfb900df1285f5ca11"
      }
     },
     "a3a7440e3b54446fba2ee3b03b8d7585": {
      "model_module": "@jupyter-widgets/controls",
      "model_module_version": "1.0.0",
      "model_name": "LabelModel",
      "state": {
       "layout": "IPY_MODEL_cad2793864f844b398b6f076dae5d748",
       "style": "IPY_MODEL_0c6926de11034880a4819d882f8b7db8"
      }
     },
     "a3ca09681274435c81ec3224ef00bcf7": {
      "model_module": "@jupyter-widgets/controls",
      "model_module_version": "1.0.0",
      "model_name": "BoundedFloatTextModel",
      "state": {
       "layout": "IPY_MODEL_6a2e2d085d2a4dd5ab520f3bd9c1abb6",
       "max": 0.1,
       "step": 0.001,
       "style": "IPY_MODEL_d3d8e14a89294f4c98d77ebe69e2ae14",
       "value": 0.01
      }
     },
     "a3d7f7264c784e4c8f09868754b3fc64": {
      "model_module": "@jupyter-widgets/controls",
      "model_module_version": "1.0.0",
      "model_name": "BoundedFloatTextModel",
      "state": {
       "layout": "IPY_MODEL_16153468cb1443719a6d801472dd3283",
       "step": 0.01,
       "style": "IPY_MODEL_a2beedd653b34914a8f193d04d6df323",
       "value": 1
      }
     },
     "a3d8feb06ff64780b491be656675b5dc": {
      "model_module": "@jupyter-widgets/controls",
      "model_module_version": "1.0.0",
      "model_name": "LabelModel",
      "state": {
       "layout": "IPY_MODEL_74582336f9194cdea6ef9ecb2e876a3f",
       "style": "IPY_MODEL_8ff80169da8e4e359590e3e8ad73d5d8",
       "value": "Длительность анимации"
      }
     },
     "a3eefabef63048829cdf3f9ad40f450c": {
      "model_module": "@jupyter-widgets/controls",
      "model_module_version": "1.0.0",
      "model_name": "BoundedFloatTextModel",
      "state": {
       "layout": "IPY_MODEL_4782656c27b64f7a8146fa5314ad2431",
       "step": 0.01,
       "style": "IPY_MODEL_b32ddc40d0cf4aa999b2023a10fd3e56",
       "value": 1
      }
     },
     "a4279b7218ad431192fefa307acdf254": {
      "model_module": "@jupyter-widgets/base",
      "model_module_version": "1.0.0",
      "model_name": "LayoutModel",
      "state": {}
     },
     "a44299e651e04c2abf95aa745f00b05d": {
      "model_module": "@jupyter-widgets/controls",
      "model_module_version": "1.0.0",
      "model_name": "HBoxModel",
      "state": {
       "children": [
        "IPY_MODEL_795a04026d0d4753b8812604c2fbc236",
        "IPY_MODEL_405a64412c8341ffb7a032f5cbeb62c9"
       ],
       "layout": "IPY_MODEL_e4bb217f04514b06903aecdd6d0602ec"
      }
     },
     "a4cc78c79bee4a05a234dc71f62997af": {
      "model_module": "@jupyter-widgets/base",
      "model_module_version": "1.0.0",
      "model_name": "LayoutModel",
      "state": {}
     },
     "a4f2bc634ea0419f83c6902cd1c0d522": {
      "model_module": "@jupyter-widgets/controls",
      "model_module_version": "1.0.0",
      "model_name": "SliderStyleModel",
      "state": {
       "description_width": ""
      }
     },
     "a51856c02d6049699063164b014ecb47": {
      "model_module": "@jupyter-widgets/controls",
      "model_module_version": "1.0.0",
      "model_name": "DescriptionStyleModel",
      "state": {
       "description_width": ""
      }
     },
     "a52b91aee5d844cea0fee19f7c91df94": {
      "model_module": "@jupyter-widgets/controls",
      "model_module_version": "1.0.0",
      "model_name": "BoundedFloatTextModel",
      "state": {
       "layout": "IPY_MODEL_7c2d6b7f88be476686c753139791d6c3",
       "step": 0.01,
       "style": "IPY_MODEL_95484790b8b7497aa6ff8449828b8753",
       "value": 1
      }
     },
     "a53fa5c415554bbea34ff22ad1999852": {
      "model_module": "@jupyter-widgets/base",
      "model_module_version": "1.0.0",
      "model_name": "LayoutModel",
      "state": {}
     },
     "a559d3770b2c4ce1afd67f425b47b732": {
      "model_module": "@jupyter-widgets/controls",
      "model_module_version": "1.0.0",
      "model_name": "DescriptionStyleModel",
      "state": {
       "description_width": ""
      }
     },
     "a57ff1cf269d47eb88a8358402a7078c": {
      "model_module": "@jupyter-widgets/controls",
      "model_module_version": "1.0.0",
      "model_name": "SliderStyleModel",
      "state": {
       "description_width": ""
      }
     },
     "a584c351528241689c6b5d750b854ab6": {
      "model_module": "@jupyter-widgets/controls",
      "model_module_version": "1.0.0",
      "model_name": "LabelModel",
      "state": {
       "layout": "IPY_MODEL_063b5c1649484e2f9d13a1f6435a8bfe",
       "style": "IPY_MODEL_e06e4c53063a49079726a0c8ce65485f"
      }
     },
     "a593a4067d1e43fe9c1218851d8a38ba": {
      "model_module": "@jupyter-widgets/controls",
      "model_module_version": "1.0.0",
      "model_name": "LabelModel",
      "state": {
       "layout": "IPY_MODEL_f4ed987d701b48f585c24f3f6b00613b",
       "style": "IPY_MODEL_4aa6dd0c9ea94d9499a174cd9f06e382",
       "value": "Длительность анимации"
      }
     },
     "a5cc6b935e90489f8ba542568c1e60c2": {
      "model_module": "@jupyter-widgets/base",
      "model_module_version": "1.0.0",
      "model_name": "LayoutModel",
      "state": {}
     },
     "a5cdf626cd4040569dbf76a9f7c8329c": {
      "model_module": "@jupyter-widgets/controls",
      "model_module_version": "1.0.0",
      "model_name": "LabelModel",
      "state": {
       "layout": "IPY_MODEL_157c6587e5624ca8832d8b519b817009",
       "style": "IPY_MODEL_f404eb03d7ef4819be9d5e3aeef820ee",
       "value": "Количество шагов по $x$:"
      }
     },
     "a5e6b288794e411c83aa4c1e6998d49e": {
      "model_module": "@jupyter-widgets/controls",
      "model_module_version": "1.0.0",
      "model_name": "FloatSliderModel",
      "state": {
       "layout": "IPY_MODEL_1030d6df736a436bb7d94c76cdba509a",
       "max": 20,
       "min": 0.1,
       "readout_format": "f",
       "step": 0.1,
       "style": "IPY_MODEL_67e4b5c62be943b5933e864670d9fc26",
       "value": 3
      }
     },
     "a62c1dfddf5a4ce8b7075e0093dbe9f9": {
      "model_module": "@jupyter-widgets/controls",
      "model_module_version": "1.0.0",
      "model_name": "LabelModel",
      "state": {
       "layout": "IPY_MODEL_0b3d27082eb54d94a868ea6d240c51a4",
       "style": "IPY_MODEL_076eaa869c074e889e07cf299b90572a",
       "value": "Количество шагов по $t$:"
      }
     },
     "a63d1ec2ba094fa7b7b37280a6f4aff7": {
      "model_module": "@jupyter-widgets/base",
      "model_module_version": "1.0.0",
      "model_name": "LayoutModel",
      "state": {}
     },
     "a6462f4180d94434ba656bb15228ce48": {
      "model_module": "@jupyter-widgets/controls",
      "model_module_version": "1.0.0",
      "model_name": "DescriptionStyleModel",
      "state": {
       "description_width": ""
      }
     },
     "a68259161f0c4dd5a5d19880bb4bd4ec": {
      "model_module": "@jupyter-widgets/base",
      "model_module_version": "1.0.0",
      "model_name": "LayoutModel",
      "state": {}
     },
     "a68b1570a3c649a2a69950edf56265ef": {
      "model_module": "@jupyter-widgets/controls",
      "model_module_version": "1.0.0",
      "model_name": "LabelModel",
      "state": {
       "layout": "IPY_MODEL_f067b2fa4da34478aa7775ac06e26707",
       "style": "IPY_MODEL_7df09d5705324099a71b9492231aa784",
       "value": "$\\large T$ -сила натяжения струны"
      }
     },
     "a69daacef8be4e6d88478f7d1cf4fc65": {
      "model_module": "@jupyter-widgets/controls",
      "model_module_version": "1.0.0",
      "model_name": "SliderStyleModel",
      "state": {
       "description_width": ""
      }
     },
     "a6e3eb24bc9844f08402c795cc20d2b1": {
      "model_module": "@jupyter-widgets/controls",
      "model_module_version": "1.0.0",
      "model_name": "DescriptionStyleModel",
      "state": {
       "description_width": ""
      }
     },
     "a6ea5ab76a50440d95550d2503e43c27": {
      "model_module": "@jupyter-widgets/base",
      "model_module_version": "1.0.0",
      "model_name": "LayoutModel",
      "state": {}
     },
     "a7006e2874684fd4bddad74972cc55cd": {
      "model_module": "@jupyter-widgets/base",
      "model_module_version": "1.0.0",
      "model_name": "LayoutModel",
      "state": {}
     },
     "a7073099996f45dda5b401dea4a613ef": {
      "model_module": "@jupyter-widgets/controls",
      "model_module_version": "1.0.0",
      "model_name": "HBoxModel",
      "state": {
       "children": [
        "IPY_MODEL_ef6faf8a34c64588aec3828849c602d0",
        "IPY_MODEL_fc78a582230f4f53920efdada8829221"
       ],
       "layout": "IPY_MODEL_2b49744505644daba258e0edb1908d20"
      }
     },
     "a7350740f0ed459fbfe22afd74fd1e1c": {
      "model_module": "@jupyter-widgets/controls",
      "model_module_version": "1.0.0",
      "model_name": "LabelModel",
      "state": {
       "layout": "IPY_MODEL_a895cfb7629c4b08b8a0fca2d98190bd",
       "style": "IPY_MODEL_198e83bb4c384f0db3f47d8b8fb61356",
       "value": "$\\large a$ -амплитуда импульса"
      }
     },
     "a740942bbb9c47099115e560239e8ae9": {
      "model_module": "@jupyter-widgets/controls",
      "model_module_version": "1.0.0",
      "model_name": "DescriptionStyleModel",
      "state": {
       "description_width": ""
      }
     },
     "a794c5513cef4bc480e48693a600f545": {
      "model_module": "@jupyter-widgets/controls",
      "model_module_version": "1.0.0",
      "model_name": "DescriptionStyleModel",
      "state": {
       "description_width": ""
      }
     },
     "a7a0b9f627904675967d58dc0e75a3e5": {
      "model_module": "@jupyter-widgets/controls",
      "model_module_version": "1.0.0",
      "model_name": "DescriptionStyleModel",
      "state": {
       "description_width": ""
      }
     },
     "a7bde63859dd40bfa2257a11da004d77": {
      "model_module": "@jupyter-widgets/controls",
      "model_module_version": "1.0.0",
      "model_name": "IntSliderModel",
      "state": {
       "description": "Step:",
       "layout": "IPY_MODEL_d003cda36fd7437bbf81b8e9fa4e5a20",
       "max": 199,
       "style": "IPY_MODEL_d1662e93363446d0994ab6ed689cc33c"
      }
     },
     "a7c08834683043959700ad28d05ad0b8": {
      "model_module": "@jupyter-widgets/controls",
      "model_module_version": "1.0.0",
      "model_name": "HBoxModel",
      "state": {
       "children": [
        "IPY_MODEL_08df50eced9c40de90195676b659697e",
        "IPY_MODEL_cf6a62a91f1548cfbd578df952e6baa1"
       ],
       "layout": "IPY_MODEL_201ce231071845b0ac36ec9dc0e59417"
      }
     },
     "a7c31b6eeb4b48fabfb340e8ee8cc3f6": {
      "model_module": "@jupyter-widgets/controls",
      "model_module_version": "1.0.0",
      "model_name": "SliderStyleModel",
      "state": {
       "description_width": ""
      }
     },
     "a7cc53cdaeb84c8b9a808504f39b3c8f": {
      "model_module": "@jupyter-widgets/controls",
      "model_module_version": "1.0.0",
      "model_name": "LabelModel",
      "state": {
       "layout": "IPY_MODEL_b9947feaae4a43d4b2d5e72141a20b27",
       "style": "IPY_MODEL_8be236f3101b4a76a046ab751e334944"
      }
     },
     "a7f145a491444d4fa82d3b66f915b58f": {
      "model_module": "@jupyter-widgets/controls",
      "model_module_version": "1.0.0",
      "model_name": "HBoxModel",
      "state": {
       "children": [
        "IPY_MODEL_202ccacc38a847dabb15389d986f14d6",
        "IPY_MODEL_cf6a62a91f1548cfbd578df952e6baa1"
       ],
       "layout": "IPY_MODEL_1216a822ff6141c18c0dfa65e19c21ad"
      }
     },
     "a7f6a466bcce4e99adb2e6ec9708f901": {
      "model_module": "@jupyter-widgets/controls",
      "model_module_version": "1.0.0",
      "model_name": "VBoxModel",
      "state": {
       "children": [
        "IPY_MODEL_af1ce4e1fa104637a2969e9b849ac557",
        "IPY_MODEL_c78e6236b9b04b12bc13878357326079"
       ],
       "layout": "IPY_MODEL_b56892c1aa974e33b881164d864defa8"
      }
     },
     "a82b8080ad4047f3866376aefd348709": {
      "model_module": "@jupyter-widgets/controls",
      "model_module_version": "1.0.0",
      "model_name": "BoundedFloatTextModel",
      "state": {
       "continuous_update": true,
       "description": "Time:",
       "layout": "IPY_MODEL_f2c2b7c2b3da4b26a2f4e9c928e67ce8",
       "max": 1,
       "style": "IPY_MODEL_5134a91a13a7495fbc7edc17b2ac27ff",
       "value": 1
      }
     },
     "a838b6088ad94bb6a10abe060d376d69": {
      "model_module": "@jupyter-widgets/controls",
      "model_module_version": "1.0.0",
      "model_name": "DescriptionStyleModel",
      "state": {
       "description_width": ""
      }
     },
     "a8693d8a29a544bca90bf097e5cf2ecd": {
      "model_module": "@jupyter-widgets/controls",
      "model_module_version": "1.0.0",
      "model_name": "DescriptionStyleModel",
      "state": {
       "description_width": ""
      }
     },
     "a8909178599b41079d8aced3d5db7c4d": {
      "model_module": "@jupyter-widgets/controls",
      "model_module_version": "1.0.0",
      "model_name": "BoundedFloatTextModel",
      "state": {
       "continuous_update": true,
       "description": "Time:",
       "layout": "IPY_MODEL_f9e0a7b2b47a4288bc63ebb488f495d8",
       "max": 1,
       "style": "IPY_MODEL_db03712f10d446a6ac836620b1df4947"
      }
     },
     "a895cfb7629c4b08b8a0fca2d98190bd": {
      "model_module": "@jupyter-widgets/base",
      "model_module_version": "1.0.0",
      "model_name": "LayoutModel",
      "state": {}
     },
     "a8a1c72b4dea404791a86671de1d13c4": {
      "model_module": "@jupyter-widgets/controls",
      "model_module_version": "1.0.0",
      "model_name": "DescriptionStyleModel",
      "state": {
       "description_width": ""
      }
     },
     "a8b780442fad40af85cf3624de1cd470": {
      "model_module": "@jupyter-widgets/controls",
      "model_module_version": "1.0.0",
      "model_name": "LabelModel",
      "state": {
       "layout": "IPY_MODEL_1391d13f61b041a1babd9db7d152b5cf",
       "style": "IPY_MODEL_4415558fec1741e29c5d999f05e071a0",
       "value": "$\\large T$ -сила натяжения струны"
      }
     },
     "a8ee580d661441b1bc8d913bd0448b98": {
      "model_module": "@jupyter-widgets/controls",
      "model_module_version": "1.0.0",
      "model_name": "LabelModel",
      "state": {
       "layout": "IPY_MODEL_a4cc78c79bee4a05a234dc71f62997af",
       "style": "IPY_MODEL_6e096a8ab3f54ac397a8534c11bfc86e",
       "value": "Количество шагов по $t$:"
      }
     },
     "a90df4c9ce824f02a570d04510a3a281": {
      "model_module": "@jupyter-widgets/controls",
      "model_module_version": "1.0.0",
      "model_name": "IntSliderModel",
      "state": {
       "description": "Step:",
       "layout": "IPY_MODEL_10578e080856437fb4a07ee475931448",
       "max": 199,
       "style": "IPY_MODEL_6e5a8ef823da414885a4b4efe038052a",
       "value": 100
      }
     },
     "a9121ccd06314322bdf60773f7c6ac66": {
      "model_module": "@jupyter-widgets/controls",
      "model_module_version": "1.0.0",
      "model_name": "HBoxModel",
      "state": {
       "children": [
        "IPY_MODEL_fc78932702034f46a99c67d053e72f3b",
        "IPY_MODEL_d8527c645ea0489090e2251b0ced5eb0"
       ],
       "layout": "IPY_MODEL_4daaf958291a487c9cb76e39220f33df"
      }
     },
     "a926020697464be3a709a4708948a795": {
      "model_module": "@jupyter-widgets/base",
      "model_module_version": "1.0.0",
      "model_name": "LayoutModel",
      "state": {}
     },
     "a92c643d85d9471296ea153e42144a80": {
      "model_module": "@jupyter-widgets/base",
      "model_module_version": "1.0.0",
      "model_name": "LayoutModel",
      "state": {}
     },
     "a92c86db9b9f4ae3bed6599730f7a7b7": {
      "model_module": "@jupyter-widgets/controls",
      "model_module_version": "1.0.0",
      "model_name": "IntSliderModel",
      "state": {
       "description": "Step:",
       "layout": "IPY_MODEL_7c7c9ed55988447881af9d2297cbf7f1",
       "max": 199,
       "style": "IPY_MODEL_7147f82f291f4e1bbfd759ad212e303b",
       "value": 7
      }
     },
     "a9405508acdb485db1556bcf5a654a63": {
      "model_module": "@jupyter-widgets/controls",
      "model_module_version": "1.0.0",
      "model_name": "LabelModel",
      "state": {
       "layout": "IPY_MODEL_a926020697464be3a709a4708948a795",
       "style": "IPY_MODEL_d0c56318a4144b9e930a8147644003cf"
      }
     },
     "a9452bbd7c034faa8b17fcf25b6048fc": {
      "model_module": "@jupyter-widgets/controls",
      "model_module_version": "1.0.0",
      "model_name": "SliderStyleModel",
      "state": {
       "description_width": ""
      }
     },
     "a9622a6e8aaa4bc5acf9fd0ced330265": {
      "model_module": "@jupyter-widgets/controls",
      "model_module_version": "1.0.0",
      "model_name": "BoundedFloatTextModel",
      "state": {
       "layout": "IPY_MODEL_42ece8d8258f4855b5b8cfd98884feee",
       "step": 0.01,
       "style": "IPY_MODEL_682e046fd4714d268e860b664c315aa3",
       "value": 1
      }
     },
     "a98acff97c2c49b3b25b56e8e8a020b4": {
      "model_module": "@jupyter-widgets/base",
      "model_module_version": "1.0.0",
      "model_name": "LayoutModel",
      "state": {}
     },
     "a9a5cfacee0e46a5858f51e417dbfd46": {
      "model_module": "@jupyter-widgets/base",
      "model_module_version": "1.0.0",
      "model_name": "LayoutModel",
      "state": {}
     },
     "a9d0168cdcaf49ce8b3e5cd9576d6253": {
      "model_module": "@jupyter-widgets/base",
      "model_module_version": "1.0.0",
      "model_name": "LayoutModel",
      "state": {}
     },
     "aa0d174b4af14cd18f07da034df96afd": {
      "model_module": "@jupyter-widgets/controls",
      "model_module_version": "1.0.0",
      "model_name": "HBoxModel",
      "state": {
       "children": [
        "IPY_MODEL_fcbf8cae7d2c41fe95e8ac3b80dfa581",
        "IPY_MODEL_d8527c645ea0489090e2251b0ced5eb0"
       ],
       "layout": "IPY_MODEL_07abcdbf22eb494b94accbb786c66cd7"
      }
     },
     "aa1621dd09a24adabf32f53a56a926be": {
      "model_module": "@jupyter-widgets/controls",
      "model_module_version": "1.0.0",
      "model_name": "BoundedFloatTextModel",
      "state": {
       "layout": "IPY_MODEL_603e7b173ac542b1bfd91836490a6728",
       "step": 0.01,
       "style": "IPY_MODEL_4320639bdd374fc58858320edde1e02e",
       "value": 1
      }
     },
     "aa38c24f2c4f4c68a48d4fed998517d9": {
      "model_module": "@jupyter-widgets/base",
      "model_module_version": "1.0.0",
      "model_name": "LayoutModel",
      "state": {}
     },
     "aa466bf5c0e6481b8e5081811f58a734": {
      "model_module": "@jupyter-widgets/controls",
      "model_module_version": "1.0.0",
      "model_name": "LabelModel",
      "state": {
       "layout": "IPY_MODEL_8d29f7f8aa9d4fc3935113b5b3e586a8",
       "style": "IPY_MODEL_87a74dbce6844a54808408db5a654fe5",
       "value": "Time:1.0"
      }
     },
     "aa582132d1e340fbafed4b53a5bdd077": {
      "model_module": "@jupyter-widgets/controls",
      "model_module_version": "1.0.0",
      "model_name": "DescriptionStyleModel",
      "state": {
       "description_width": ""
      }
     },
     "aa6542b72c06454e8836bd69cea94901": {
      "model_module": "@jupyter-widgets/controls",
      "model_module_version": "1.0.0",
      "model_name": "DescriptionStyleModel",
      "state": {
       "description_width": ""
      }
     },
     "aa6992db75874f5eb94ae4530816a891": {
      "model_module": "@jupyter-widgets/controls",
      "model_module_version": "1.0.0",
      "model_name": "VBoxModel",
      "state": {
       "children": [
        "IPY_MODEL_b12e1388311e4455952b5ff24e903f22",
        "IPY_MODEL_4c900f5d48064955afbd73d4790ad0a8",
        "IPY_MODEL_57afc465955f473a82538f4fb34436a0",
        "IPY_MODEL_ce3246634077456a8a4a75174a655ca1",
        "IPY_MODEL_0267e6325a9b4616a9fc8330db7fc6b5"
       ],
       "layout": "IPY_MODEL_83222cbcee3c424da5ce04b5b107fee6"
      }
     },
     "aa74880d342c4e05a17ca4b6968265ee": {
      "model_module": "@jupyter-widgets/controls",
      "model_module_version": "1.0.0",
      "model_name": "VBoxModel",
      "state": {
       "children": [
        "IPY_MODEL_3ad0e7d1b0c14318a605e7e3094bbd53",
        "IPY_MODEL_fe60b91166c84f95bfdeb02f951638e8"
       ],
       "layout": "IPY_MODEL_758a0eaff3fb43a9a1a7d4a9d1270eed"
      }
     },
     "aa74896befb447e88ea3e01f0660f231": {
      "model_module": "@jupyter-widgets/controls",
      "model_module_version": "1.0.0",
      "model_name": "DescriptionStyleModel",
      "state": {
       "description_width": ""
      }
     },
     "aae26bde0ef14e6ebccb84ec3520f7f2": {
      "model_module": "@jupyter-widgets/controls",
      "model_module_version": "1.0.0",
      "model_name": "LabelModel",
      "state": {
       "layout": "IPY_MODEL_ad5430eba0a64a11a137cb2a0d436e91",
       "style": "IPY_MODEL_6fa3aef51e484115b45978ac1489ac96",
       "value": "Время симуляции:"
      }
     },
     "aafd5a35d3cd4959947f8722a0468974": {
      "model_module": "@jupyter-widgets/controls",
      "model_module_version": "1.0.0",
      "model_name": "HBoxModel",
      "state": {
       "children": [
        "IPY_MODEL_b250e280795a4d69b76e9168332a0a9e",
        "IPY_MODEL_17d277b119964113ba680cfcdcd7fde3"
       ],
       "layout": "IPY_MODEL_1aea87477c4f41398b8664f014904cd6"
      }
     },
     "ab00c0e878864a9e9f37169b81b5281c": {
      "model_module": "@jupyter-widgets/controls",
      "model_module_version": "1.0.0",
      "model_name": "VBoxModel",
      "state": {
       "children": [
        "IPY_MODEL_4dfac32d4ebd42b88733b26adf86e177",
        "IPY_MODEL_1ec774a5c765414d8356d4fee4aa8ad7"
       ],
       "layout": "IPY_MODEL_9d2fb706c12d4bc6b7a0c1317dc85373"
      }
     },
     "ab0dcc57a523443cb5e3db55c1331e67": {
      "model_module": "@jupyter-widgets/controls",
      "model_module_version": "1.0.0",
      "model_name": "DescriptionStyleModel",
      "state": {
       "description_width": ""
      }
     },
     "ab2e903940f8496eaf07c83758ab1e8f": {
      "model_module": "@jupyter-widgets/base",
      "model_module_version": "1.0.0",
      "model_name": "LayoutModel",
      "state": {}
     },
     "ab616fc267d54a249aeb3efd81d8e8f2": {
      "model_module": "@jupyter-widgets/base",
      "model_module_version": "1.0.0",
      "model_name": "LayoutModel",
      "state": {}
     },
     "ab61c0d854f440c29578dabbed9cd090": {
      "model_module": "@jupyter-widgets/controls",
      "model_module_version": "1.0.0",
      "model_name": "DescriptionStyleModel",
      "state": {
       "description_width": ""
      }
     },
     "ab654432712343f892533ac5f9bcc8bf": {
      "model_module": "@jupyter-widgets/controls",
      "model_module_version": "1.0.0",
      "model_name": "BoundedFloatTextModel",
      "state": {
       "layout": "IPY_MODEL_0907ddb9e6794a8780e24a7758d3de69",
       "step": 0.01,
       "style": "IPY_MODEL_702b9bc45e7b4564aa5385bf4617d1b7",
       "value": 1
      }
     },
     "ab727dfdccd84a52b8dce8a88e84eb8b": {
      "model_module": "@jupyter-widgets/controls",
      "model_module_version": "1.0.0",
      "model_name": "LabelModel",
      "state": {
       "layout": "IPY_MODEL_14e0a69d1d554e5eb54ebd663b7065c1",
       "style": "IPY_MODEL_741e595e3c5f4ef4a39fdeede1b1f974",
       "value": "Параметр $\\sigma$ неявной схемы:"
      }
     },
     "ab8999cfff02471695ab27e59fc83a3d": {
      "model_module": "@jupyter-widgets/controls",
      "model_module_version": "1.0.0",
      "model_name": "LabelModel",
      "state": {
       "layout": "IPY_MODEL_cecf8e54e32a4075827ffffba4eb1b27",
       "style": "IPY_MODEL_c13226c70a484bc3b6745e0fb70510f0",
       "value": "$\\large t$ -характерное время нарастания/спадания импульса"
      }
     },
     "ab942ff857da4c8ab1315067cfce6488": {
      "model_module": "@jupyter-widgets/base",
      "model_module_version": "1.0.0",
      "model_name": "LayoutModel",
      "state": {}
     },
     "ab9b5711dcd54ca4a7ee43305169bcaf": {
      "model_module": "@jupyter-widgets/base",
      "model_module_version": "1.0.0",
      "model_name": "LayoutModel",
      "state": {}
     },
     "aba1f47ee5154a7b9d1d039e04271495": {
      "model_module": "@jupyter-widgets/controls",
      "model_module_version": "1.0.0",
      "model_name": "ToggleButtonsStyleModel",
      "state": {
       "button_width": "",
       "description_width": ""
      }
     },
     "abdadd8dd5ef4354aa005b38b39e47e9": {
      "model_module": "@jupyter-widgets/controls",
      "model_module_version": "1.0.0",
      "model_name": "SliderStyleModel",
      "state": {
       "description_width": ""
      }
     },
     "abffad0a678d41fbb76f2d0938f3c482": {
      "model_module": "@jupyter-widgets/base",
      "model_module_version": "1.0.0",
      "model_name": "LayoutModel",
      "state": {}
     },
     "ac0bc3fb8aca4b14bcfabcf9c1c35111": {
      "model_module": "@jupyter-widgets/controls",
      "model_module_version": "1.0.0",
      "model_name": "DescriptionStyleModel",
      "state": {
       "description_width": ""
      }
     },
     "ac3fa3f66343487dbd52e4726040862c": {
      "model_module": "@jupyter-widgets/controls",
      "model_module_version": "1.0.0",
      "model_name": "HBoxModel",
      "state": {
       "children": [
        "IPY_MODEL_7261242a80b74b0a9af6d1767b052680",
        "IPY_MODEL_a3eefabef63048829cdf3f9ad40f450c"
       ],
       "layout": "IPY_MODEL_806ef55e894f456b9769b445afbd55e3"
      }
     },
     "ac6aef031fd743f484955283cdf99536": {
      "model_module": "@jupyter-widgets/controls",
      "model_module_version": "1.0.0",
      "model_name": "DescriptionStyleModel",
      "state": {
       "description_width": ""
      }
     },
     "ac7607757a464f3d878af570a4ab4cd7": {
      "model_module": "@jupyter-widgets/base",
      "model_module_version": "1.0.0",
      "model_name": "LayoutModel",
      "state": {}
     },
     "ac793e0e663e4d1ea6e05477829d1f22": {
      "model_module": "@jupyter-widgets/controls",
      "model_module_version": "1.0.0",
      "model_name": "BoundedIntTextModel",
      "state": {
       "layout": "IPY_MODEL_b6d96845be924bab8e14985c891c7245",
       "max": 1000,
       "min": 50,
       "step": 100,
       "style": "IPY_MODEL_8dfd55c6c2e7452ea43c656e718f1593",
       "value": 100
      }
     },
     "ac80f93b92b049eda3d5e74e68a186a7": {
      "model_module": "@jupyter-widgets/controls",
      "model_module_version": "1.0.0",
      "model_name": "LabelModel",
      "state": {
       "layout": "IPY_MODEL_3aa0312d7d5f4f418a425ee5940c5204",
       "style": "IPY_MODEL_64d16d9efccf4c879a857dafdeec3b55",
       "value": "Время симуляции:"
      }
     },
     "ac936465caab48b2a6d83142a5472693": {
      "model_module": "@jupyter-widgets/controls",
      "model_module_version": "1.0.0",
      "model_name": "LabelModel",
      "state": {
       "layout": "IPY_MODEL_c7a1d929a0784dc6b06371e6860ce7d8",
       "style": "IPY_MODEL_cbe8b75fd6a8486391a24a8d6534f1fd"
      }
     },
     "aca772ddda114085b1c35e240e6adedd": {
      "model_module": "@jupyter-widgets/base",
      "model_module_version": "1.0.0",
      "model_name": "LayoutModel",
      "state": {}
     },
     "acc911b4ce424e808c05b45e5374afb2": {
      "model_module": "@jupyter-widgets/controls",
      "model_module_version": "1.0.0",
      "model_name": "VBoxModel",
      "state": {
       "children": [
        "IPY_MODEL_16ff8563de084125981c3ccaad37147d",
        "IPY_MODEL_0f15286085eb41b9abc7d9f57916a244"
       ],
       "layout": "IPY_MODEL_ae94dfdc1ff148929488e81c6729294e"
      }
     },
     "acd550cf966941e4b71e07a41a01dcbf": {
      "model_module": "@jupyter-widgets/base",
      "model_module_version": "1.0.0",
      "model_name": "LayoutModel",
      "state": {}
     },
     "acda564683194ef8b19c77f61d63199a": {
      "model_module": "@jupyter-widgets/controls",
      "model_module_version": "1.0.0",
      "model_name": "LabelModel",
      "state": {
       "layout": "IPY_MODEL_f7d040beeeed4d5eba65b4d475b9c0a1",
       "style": "IPY_MODEL_0e43b4dd9b67447aa4ec9d15d2561858",
       "value": "$\\large a$ -амплитуда импульса"
      }
     },
     "acddf0d17db2469aa6a9e2ec003bab29": {
      "model_module": "@jupyter-widgets/controls",
      "model_module_version": "1.0.0",
      "model_name": "BoundedFloatTextModel",
      "state": {
       "layout": "IPY_MODEL_0b6de5d2e140485bbcbbd6b0feea2df7",
       "step": 0.01,
       "style": "IPY_MODEL_08647b337bbe472aba54c27067c39ebb",
       "value": 1
      }
     },
     "acf75b2b5f904fa4bbc9e6722f8f8a35": {
      "model_module": "@jupyter-widgets/base",
      "model_module_version": "1.0.0",
      "model_name": "LayoutModel",
      "state": {}
     },
     "ad0ef6207f274b09b9f7fa724d2462cd": {
      "model_module": "@jupyter-widgets/controls",
      "model_module_version": "1.0.0",
      "model_name": "BoundedFloatTextModel",
      "state": {
       "continuous_update": true,
       "description": "Time:",
       "layout": "IPY_MODEL_7643a192858140e280590757b427d880",
       "max": 1,
       "style": "IPY_MODEL_d603fcc99c234d778d710ea2bddf4fa1",
       "value": 1
      }
     },
     "ad3236ff26d641e9a9e116d74235038b": {
      "model_module": "@jupyter-widgets/base",
      "model_module_version": "1.0.0",
      "model_name": "LayoutModel",
      "state": {}
     },
     "ad38915f7eae4ca1bcc8a8d2f365efd0": {
      "model_module": "@jupyter-widgets/controls",
      "model_module_version": "1.0.0",
      "model_name": "DescriptionStyleModel",
      "state": {
       "description_width": ""
      }
     },
     "ad452dba5b5c4ca28b25e4282ddd452c": {
      "model_module": "@jupyter-widgets/base",
      "model_module_version": "1.0.0",
      "model_name": "LayoutModel",
      "state": {}
     },
     "ad48bf6002af433e934c0be623504c52": {
      "model_module": "@jupyter-widgets/base",
      "model_module_version": "1.0.0",
      "model_name": "LayoutModel",
      "state": {}
     },
     "ad5430eba0a64a11a137cb2a0d436e91": {
      "model_module": "@jupyter-widgets/base",
      "model_module_version": "1.0.0",
      "model_name": "LayoutModel",
      "state": {}
     },
     "ad63cbf8b57f40009a696db592d9affa": {
      "model_module": "@jupyter-widgets/controls",
      "model_module_version": "1.0.0",
      "model_name": "VBoxModel",
      "state": {
       "children": [
        "IPY_MODEL_50ee650b29224affbf8ed09bc9fb3b0d",
        "IPY_MODEL_8df5821db3e74d65aafe237702b979c1"
       ],
       "layout": "IPY_MODEL_fea523601fac4917b1662406c7fbf498"
      }
     },
     "ad71157581da43cb8aa58adb53dd6e9b": {
      "model_module": "@jupyter-widgets/base",
      "model_module_version": "1.0.0",
      "model_name": "LayoutModel",
      "state": {}
     },
     "ad7f55aeb7974e9b867a6322b6e0fb2d": {
      "model_module": "@jupyter-widgets/controls",
      "model_module_version": "1.0.0",
      "model_name": "BoundedFloatTextModel",
      "state": {
       "layout": "IPY_MODEL_122932fb1ed141a3a9acb37fda633c9b",
       "step": 0.01,
       "style": "IPY_MODEL_6180754bf23d4698aaeb5c9567b12776",
       "value": 1
      }
     },
     "addaa19e06644586a886ada0bf4925ed": {
      "model_module": "@jupyter-widgets/base",
      "model_module_version": "1.0.0",
      "model_name": "LayoutModel",
      "state": {}
     },
     "ade7adc5ebe64884961e8dbeda26c128": {
      "model_module": "@jupyter-widgets/base",
      "model_module_version": "1.0.0",
      "model_name": "LayoutModel",
      "state": {}
     },
     "ae0ef44b108c45248e83bcab36f06897": {
      "model_module": "@jupyter-widgets/controls",
      "model_module_version": "1.0.0",
      "model_name": "LabelModel",
      "state": {
       "layout": "IPY_MODEL_cbd4e864012c443e9e1b005cf56def00",
       "style": "IPY_MODEL_897a0304ff9343cda6953024107214a2"
      }
     },
     "ae19dd30abd5409d917e4278c384adbd": {
      "model_module": "@jupyter-widgets/controls",
      "model_module_version": "1.0.0",
      "model_name": "DescriptionStyleModel",
      "state": {
       "description_width": ""
      }
     },
     "ae238575aabd4bc39ff572f284d9832c": {
      "model_module": "@jupyter-widgets/controls",
      "model_module_version": "1.0.0",
      "model_name": "SliderStyleModel",
      "state": {
       "description_width": ""
      }
     },
     "ae94dfdc1ff148929488e81c6729294e": {
      "model_module": "@jupyter-widgets/base",
      "model_module_version": "1.0.0",
      "model_name": "LayoutModel",
      "state": {}
     },
     "ae9c77fbcdf54af6a747bcfa8e57b3a9": {
      "model_module": "@jupyter-widgets/controls",
      "model_module_version": "1.0.0",
      "model_name": "HBoxModel",
      "state": {
       "children": [
        "IPY_MODEL_0b7cb84e6d1d425f961e0a96b9c0ec62",
        "IPY_MODEL_7b63ed70a38449eaad9848869d0ad888"
       ],
       "layout": "IPY_MODEL_1e8dcd9531f84938aba53037c04c5f86"
      }
     },
     "aec6153f60a54d6daef2e5d640128653": {
      "model_module": "@jupyter-widgets/controls",
      "model_module_version": "1.0.0",
      "model_name": "HBoxModel",
      "state": {
       "children": [
        "IPY_MODEL_7c396b609e7742d6b31c057f6353aee6",
        "IPY_MODEL_6d2c251ab4814345a2caed1bdf3540b3"
       ],
       "layout": "IPY_MODEL_7bb16ebc5bee4f308eb07f219ef54d8a"
      }
     },
     "af1ce4e1fa104637a2969e9b849ac557": {
      "model_module": "@jupyter-widgets/controls",
      "model_module_version": "1.0.0",
      "model_name": "LabelModel",
      "state": {
       "layout": "IPY_MODEL_d9fd4d3dda6d4d299c40e85845ebe6b9",
       "style": "IPY_MODEL_71da7c3bdc38479e81114ed5d8685918",
       "value": "Длительность анимации"
      }
     },
     "af4a63ff79734edb9e3cab05e3d3d3e4": {
      "model_module": "@jupyter-widgets/controls",
      "model_module_version": "1.0.0",
      "model_name": "HBoxModel",
      "state": {
       "children": [
        "IPY_MODEL_23c5d9dda3ae4d27a589ea97fa7a43f7",
        "IPY_MODEL_aa466bf5c0e6481b8e5081811f58a734"
       ],
       "layout": "IPY_MODEL_7e65f7598f6e421bac6eac84a82da9d3"
      }
     },
     "af5b24bb37764e55a52787abed9ee6a5": {
      "model_module": "@jupyter-widgets/base",
      "model_module_version": "1.0.0",
      "model_name": "LayoutModel",
      "state": {}
     },
     "af5c8e7e68214b7599184e35a11da51b": {
      "model_module": "@jupyter-widgets/base",
      "model_module_version": "1.0.0",
      "model_name": "LayoutModel",
      "state": {}
     },
     "af62628796fe4063b5d24f5470d1707b": {
      "model_module": "@jupyter-widgets/base",
      "model_module_version": "1.0.0",
      "model_name": "LayoutModel",
      "state": {}
     },
     "af76a531e80e4df09783c229ab27a59c": {
      "model_module": "@jupyter-widgets/controls",
      "model_module_version": "1.0.0",
      "model_name": "IntSliderModel",
      "state": {
       "description": "Step:",
       "layout": "IPY_MODEL_8074263fe5f6489b9bc5fba0223b765c",
       "max": 199,
       "style": "IPY_MODEL_92968a0237644776a0ae72f23a114e7b",
       "value": 7
      }
     },
     "af791924eb2c4ef5aee227958a667bd2": {
      "model_module": "@jupyter-widgets/controls",
      "model_module_version": "1.0.0",
      "model_name": "DescriptionStyleModel",
      "state": {
       "description_width": ""
      }
     },
     "afaf82bfd3db4b73a6d09d9933a5836b": {
      "model_module": "@jupyter-widgets/controls",
      "model_module_version": "1.0.0",
      "model_name": "DescriptionStyleModel",
      "state": {
       "description_width": ""
      }
     },
     "afbf694e95dd4978a28223be3d910f59": {
      "model_module": "@jupyter-widgets/controls",
      "model_module_version": "1.0.0",
      "model_name": "HBoxModel",
      "state": {
       "children": [
        "IPY_MODEL_0a974aac3b5c429094d6624c99d3ee68",
        "IPY_MODEL_2c0f105171a742fea0ca4771c4cef687"
       ],
       "layout": "IPY_MODEL_6d8b9694b71b418dad98d64857747478"
      }
     },
     "afc535a644ef43068e7dc62897547c99": {
      "model_module": "@jupyter-widgets/base",
      "model_module_version": "1.0.0",
      "model_name": "LayoutModel",
      "state": {}
     },
     "afe75814572d41328e74c0c4a348ff7f": {
      "model_module": "@jupyter-widgets/base",
      "model_module_version": "1.0.0",
      "model_name": "LayoutModel",
      "state": {}
     },
     "b0250eb545994b85905a705a7578459e": {
      "model_module": "@jupyter-widgets/controls",
      "model_module_version": "1.0.0",
      "model_name": "BoundedFloatTextModel",
      "state": {
       "continuous_update": true,
       "description": "Time:",
       "layout": "IPY_MODEL_af5b24bb37764e55a52787abed9ee6a5",
       "max": 1,
       "style": "IPY_MODEL_02d29e89f6854a32a218ebd21d7936f2",
       "value": 1
      }
     },
     "b05397529a784ce1a163ffd87339e1df": {
      "model_module": "@jupyter-widgets/base",
      "model_module_version": "1.0.0",
      "model_name": "LayoutModel",
      "state": {}
     },
     "b0596560ec4f4d4d85c08c4a7229a8da": {
      "model_module": "@jupyter-widgets/base",
      "model_module_version": "1.0.0",
      "model_name": "LayoutModel",
      "state": {}
     },
     "b086e142615547ffb6c820f746a1a72b": {
      "model_module": "@jupyter-widgets/base",
      "model_module_version": "1.0.0",
      "model_name": "LayoutModel",
      "state": {}
     },
     "b0929b57292942b591c2a1f1d49a059f": {
      "model_module": "@jupyter-widgets/base",
      "model_module_version": "1.0.0",
      "model_name": "LayoutModel",
      "state": {}
     },
     "b09aac4032564d8385246b3349974902": {
      "model_module": "@jupyter-widgets/controls",
      "model_module_version": "1.0.0",
      "model_name": "FloatSliderModel",
      "state": {
       "layout": "IPY_MODEL_19d46a0450db46c1a3034246ff7ecab6",
       "max": 20,
       "min": 0.1,
       "readout_format": "f",
       "step": 0.1,
       "style": "IPY_MODEL_7683cc7a63e34b019b51b27dca0b1fc1",
       "value": 3
      }
     },
     "b0aec5b35d764d8b9f8d20b8d70e71b6": {
      "model_module": "@jupyter-widgets/base",
      "model_module_version": "1.0.0",
      "model_name": "LayoutModel",
      "state": {}
     },
     "b0f112208e044b6c9539f7b0d13e844b": {
      "model_module": "@jupyter-widgets/base",
      "model_module_version": "1.0.0",
      "model_name": "LayoutModel",
      "state": {}
     },
     "b10fa22f601448f7b53858bc85490b60": {
      "model_module": "@jupyter-widgets/controls",
      "model_module_version": "1.0.0",
      "model_name": "DescriptionStyleModel",
      "state": {
       "description_width": ""
      }
     },
     "b129ae4eb7274fa8a3b837302d2b262f": {
      "model_module": "@jupyter-widgets/base",
      "model_module_version": "1.0.0",
      "model_name": "LayoutModel",
      "state": {}
     },
     "b12e1388311e4455952b5ff24e903f22": {
      "model_module": "@jupyter-widgets/controls",
      "model_module_version": "1.0.0",
      "model_name": "ToggleButtonsModel",
      "state": {
       "_options_labels": [
        "Расчёт заданного числа шагов",
        "Расчёт с заданной точностью"
       ],
       "button_style": "",
       "description": "Режим работы:",
       "icons": [],
       "index": 1,
       "layout": "IPY_MODEL_bf8805ae56df4cd1878f85766ad90d66",
       "style": "IPY_MODEL_e09181b30b4f443687dd8bf2be689e11",
       "tooltips": []
      }
     },
     "b1340625002c4a67beb4a5c5576df1b1": {
      "model_module": "@jupyter-widgets/controls",
      "model_module_version": "1.0.0",
      "model_name": "DescriptionStyleModel",
      "state": {
       "description_width": ""
      }
     },
     "b19aa9a9a83a47129351d969b1167ca7": {
      "model_module": "@jupyter-widgets/base",
      "model_module_version": "1.0.0",
      "model_name": "LayoutModel",
      "state": {}
     },
     "b1a9cb9b2953405a9eced00ef758826e": {
      "model_module": "@jupyter-widgets/controls",
      "model_module_version": "1.0.0",
      "model_name": "SliderStyleModel",
      "state": {
       "description_width": ""
      }
     },
     "b1c891064b7f438987dab3188e1e09fe": {
      "model_module": "@jupyter-widgets/controls",
      "model_module_version": "1.0.0",
      "model_name": "HBoxModel",
      "state": {
       "children": [
        "IPY_MODEL_c51acba0828042259b9058dac63d8c1f",
        "IPY_MODEL_66b61a51f0e94cb5ae545687e05c77ea"
       ],
       "layout": "IPY_MODEL_4395ac4ebe3c48ecb87d0de02c0b0afc"
      }
     },
     "b1d469e4d9144e8d9870553b8f3dca00": {
      "model_module": "@jupyter-widgets/controls",
      "model_module_version": "1.0.0",
      "model_name": "DescriptionStyleModel",
      "state": {
       "description_width": ""
      }
     },
     "b22db49eaf0541ee98acd888390d8d19": {
      "model_module": "@jupyter-widgets/controls",
      "model_module_version": "1.0.0",
      "model_name": "LabelModel",
      "state": {
       "layout": "IPY_MODEL_52429dc517a54e4caa90548c677c836a",
       "style": "IPY_MODEL_b10fa22f601448f7b53858bc85490b60"
      }
     },
     "b2345e803a23448388cb16578e30c96f": {
      "model_module": "@jupyter-widgets/controls",
      "model_module_version": "1.0.0",
      "model_name": "LabelModel",
      "state": {
       "layout": "IPY_MODEL_673844ab12f3460d944f0b858f0e1f0a",
       "style": "IPY_MODEL_503b10b12fc44528916f771ba2804b42"
      }
     },
     "b247c9b2d6e94e2dad2c89470d5432ac": {
      "model_module": "@jupyter-widgets/controls",
      "model_module_version": "1.0.0",
      "model_name": "HBoxModel",
      "state": {
       "children": [
        "IPY_MODEL_1bd27d4ff32342269a7142a6d2160f67",
        "IPY_MODEL_8fcd8cfa4fdc435c9ae087974806b585"
       ],
       "layout": "IPY_MODEL_bc19ae577bbd4d67b61f2e802a71dcf5"
      }
     },
     "b250e280795a4d69b76e9168332a0a9e": {
      "model_module": "@jupyter-widgets/controls",
      "model_module_version": "1.0.0",
      "model_name": "LabelModel",
      "state": {
       "layout": "IPY_MODEL_dac3e50eb74d4be4bf8c9e9cca0920aa",
       "style": "IPY_MODEL_b6464428993946f5aaf10b5d161e5c2a",
       "value": "$\\large p_l$ -линейная плотность"
      }
     },
     "b2b65aa4749444989df538cf85ef8d74": {
      "model_module": "@jupyter-widgets/controls",
      "model_module_version": "1.0.0",
      "model_name": "DescriptionStyleModel",
      "state": {
       "description_width": ""
      }
     },
     "b2f674f5b43249ab86984dac57adde1f": {
      "model_module": "@jupyter-widgets/controls",
      "model_module_version": "1.0.0",
      "model_name": "DescriptionStyleModel",
      "state": {
       "description_width": ""
      }
     },
     "b2f6754d1c5d4ff698e527dbbd373cab": {
      "model_module": "@jupyter-widgets/controls",
      "model_module_version": "1.0.0",
      "model_name": "VBoxModel",
      "state": {
       "children": [
        "IPY_MODEL_4f44818f29b64c188455f5b8e050984a",
        "IPY_MODEL_514104a9c000487792745924ff96dde5",
        "IPY_MODEL_b4d1dfcecb8b48449664cf1d6047fe94",
        "IPY_MODEL_4d1fbd072fc249e8842c92c2302acfdc",
        "IPY_MODEL_05d2b5ff89644e9ca468528a3c6e8ec5",
        "IPY_MODEL_73b2be23b6d44a65b085e37de61d327f"
       ],
       "layout": "IPY_MODEL_c14dcabf2f974f55a0824f1477ede1f3"
      }
     },
     "b32ddc40d0cf4aa999b2023a10fd3e56": {
      "model_module": "@jupyter-widgets/controls",
      "model_module_version": "1.0.0",
      "model_name": "DescriptionStyleModel",
      "state": {
       "description_width": ""
      }
     },
     "b34e800003984057ad86a89659f3ddfd": {
      "model_module": "@jupyter-widgets/controls",
      "model_module_version": "1.0.0",
      "model_name": "DescriptionStyleModel",
      "state": {
       "description_width": ""
      }
     },
     "b35f1caa79c046358235da3a34f490aa": {
      "model_module": "@jupyter-widgets/controls",
      "model_module_version": "1.0.0",
      "model_name": "DescriptionStyleModel",
      "state": {
       "description_width": ""
      }
     },
     "b37951e8a97c43b4997ef3d820cfc723": {
      "model_module": "@jupyter-widgets/controls",
      "model_module_version": "1.0.0",
      "model_name": "HBoxModel",
      "state": {
       "children": [
        "IPY_MODEL_a00cf52212494d239e53eb31df65bac9",
        "IPY_MODEL_14f81b5bf03f4f07bef4c2a65ae2a2a1"
       ],
       "layout": "IPY_MODEL_62bd4c99fdc549b8b86a66b856ee953d"
      }
     },
     "b383f61344b148c58fe4658af622093b": {
      "model_module": "@jupyter-widgets/base",
      "model_module_version": "1.0.0",
      "model_name": "LayoutModel",
      "state": {}
     },
     "b3beacd5ca1645b291d3a095f3ce941a": {
      "model_module": "@jupyter-widgets/controls",
      "model_module_version": "1.0.0",
      "model_name": "HBoxModel",
      "state": {
       "children": [
        "IPY_MODEL_d1481b55c0e34de3b1a447e017e6e04c",
        "IPY_MODEL_8daa30fe95524ba9b617c97cf507947c"
       ],
       "layout": "IPY_MODEL_937d80ebc5c94ad793d85a6546f23a77"
      }
     },
     "b3c21be23f42487399287c86bbb8f880": {
      "model_module": "@jupyter-widgets/controls",
      "model_module_version": "1.0.0",
      "model_name": "ToggleButtonsModel",
      "state": {
       "_options_labels": [
        "Расчёт заданного числа шагов",
        "Расчёт с заданной точностью"
       ],
       "button_style": "",
       "description": "Режим работы:",
       "icons": [],
       "index": 0,
       "layout": "IPY_MODEL_67cce770a4fc452797657a534e7880d3",
       "style": "IPY_MODEL_3129e5dffcb6437e96969d025b10ab6b",
       "tooltips": []
      }
     },
     "b3c669ca95cb4b5aa0be06de34be9019": {
      "model_module": "@jupyter-widgets/base",
      "model_module_version": "1.0.0",
      "model_name": "LayoutModel",
      "state": {}
     },
     "b3d750c0cd8a490bb9eccf3c9a17591a": {
      "model_module": "@jupyter-widgets/base",
      "model_module_version": "1.0.0",
      "model_name": "LayoutModel",
      "state": {}
     },
     "b3f15054e0924a55973770921e4ee9d0": {
      "model_module": "@jupyter-widgets/controls",
      "model_module_version": "1.0.0",
      "model_name": "BoundedFloatTextModel",
      "state": {
       "layout": "IPY_MODEL_203aeccabbdc45b89aa398800d010685",
       "step": 0.01,
       "style": "IPY_MODEL_fadd9e990f6a4a2e9663c57846006730",
       "value": 1
      }
     },
     "b40beee7a74549bd90c31cede7103603": {
      "model_module": "@jupyter-widgets/controls",
      "model_module_version": "1.0.0",
      "model_name": "DescriptionStyleModel",
      "state": {
       "description_width": ""
      }
     },
     "b4526963fdc74cb4adb36e299511b612": {
      "model_module": "@jupyter-widgets/controls",
      "model_module_version": "1.0.0",
      "model_name": "DescriptionStyleModel",
      "state": {
       "description_width": ""
      }
     },
     "b4576b2361814c8e8d51f827d7b527ca": {
      "model_module": "@jupyter-widgets/base",
      "model_module_version": "1.0.0",
      "model_name": "LayoutModel",
      "state": {}
     },
     "b4ac73a3db20442d8a29de2283c77ac9": {
      "model_module": "@jupyter-widgets/base",
      "model_module_version": "1.0.0",
      "model_name": "LayoutModel",
      "state": {}
     },
     "b4d1dfcecb8b48449664cf1d6047fe94": {
      "model_module": "@jupyter-widgets/controls",
      "model_module_version": "1.0.0",
      "model_name": "HBoxModel",
      "state": {
       "children": [
        "IPY_MODEL_e58a0cefb9474da4b213d923e5ca1bdd",
        "IPY_MODEL_ceca4559403e426c83b1d4b6446a522c"
       ],
       "layout": "IPY_MODEL_0e2f72726cc94e43b3fa062b1117b5e9"
      }
     },
     "b4d819f4d7644028b4ab97cd56d71881": {
      "model_module": "@jupyter-widgets/controls",
      "model_module_version": "1.0.0",
      "model_name": "HBoxModel",
      "state": {
       "children": [
        "IPY_MODEL_3a1c1739263543ce969f34ce12ac4f7a",
        "IPY_MODEL_99de45b496c84058884268c7ed7120cd"
       ],
       "layout": "IPY_MODEL_5d43017680514c779a2629787469404d"
      }
     },
     "b4f78021cbf640e6a64f49ac2308ba0f": {
      "model_module": "@jupyter-widgets/controls",
      "model_module_version": "1.0.0",
      "model_name": "LabelModel",
      "state": {
       "layout": "IPY_MODEL_c719a2a35d114afebeb32b1cce431c27",
       "style": "IPY_MODEL_bac1a045864f4468a3a614c13880c2ec"
      }
     },
     "b4fe1963f9d249328c49ebc38e291313": {
      "model_module": "@jupyter-widgets/controls",
      "model_module_version": "1.0.0",
      "model_name": "DescriptionStyleModel",
      "state": {
       "description_width": ""
      }
     },
     "b50949043eef4f9dae38ce2571651307": {
      "model_module": "@jupyter-widgets/controls",
      "model_module_version": "1.0.0",
      "model_name": "DescriptionStyleModel",
      "state": {
       "description_width": ""
      }
     },
     "b5156d3822f74bad9a1e04e361aead9a": {
      "model_module": "@jupyter-widgets/base",
      "model_module_version": "1.0.0",
      "model_name": "LayoutModel",
      "state": {}
     },
     "b52260292887429f86accebf4555fa83": {
      "model_module": "@jupyter-widgets/base",
      "model_module_version": "1.0.0",
      "model_name": "LayoutModel",
      "state": {}
     },
     "b52bc5dbd67843fba68ef3b8b9ad0a95": {
      "model_module": "@jupyter-widgets/base",
      "model_module_version": "1.0.0",
      "model_name": "LayoutModel",
      "state": {}
     },
     "b56892c1aa974e33b881164d864defa8": {
      "model_module": "@jupyter-widgets/base",
      "model_module_version": "1.0.0",
      "model_name": "LayoutModel",
      "state": {}
     },
     "b568a2ac32c34b408bce7cf8a37041fa": {
      "model_module": "@jupyter-widgets/controls",
      "model_module_version": "1.0.0",
      "model_name": "VBoxModel",
      "state": {
       "children": [
        "IPY_MODEL_de4e0909509e4a56b18d8662bb0524e2",
        "IPY_MODEL_ddf18013a80446f98538928398503aea"
       ],
       "layout": "IPY_MODEL_da970663263a44e7996cf6e95a544c59"
      }
     },
     "b56d34ba15484ee4bf2d17a9bc6a217d": {
      "model_module": "@jupyter-widgets/controls",
      "model_module_version": "1.0.0",
      "model_name": "BoundedFloatTextModel",
      "state": {
       "layout": "IPY_MODEL_21848a09f00d485f8b577f804da95f34",
       "step": 0.01,
       "style": "IPY_MODEL_e335440d4ed645adadeca4a62adb570b",
       "value": 1
      }
     },
     "b586665b49a54d44ab30f34407b189f9": {
      "model_module": "@jupyter-widgets/base",
      "model_module_version": "1.0.0",
      "model_name": "LayoutModel",
      "state": {}
     },
     "b5b1170521fe45e7b0be1b5da89c3c91": {
      "model_module": "@jupyter-widgets/controls",
      "model_module_version": "1.0.0",
      "model_name": "IntSliderModel",
      "state": {
       "description": "Step:",
       "layout": "IPY_MODEL_a10f97909072487ab330a6fa8338c87f",
       "max": 199,
       "style": "IPY_MODEL_2263c797c3f74bb5a047f689a91ab344"
      }
     },
     "b5b3d7038cf44281ab49019b6f88775f": {
      "model_module": "@jupyter-widgets/base",
      "model_module_version": "1.0.0",
      "model_name": "LayoutModel",
      "state": {}
     },
     "b5b7f3f6ea934e8aa6e8a1088d1b274c": {
      "model_module": "@jupyter-widgets/controls",
      "model_module_version": "1.0.0",
      "model_name": "BoundedFloatTextModel",
      "state": {
       "layout": "IPY_MODEL_8b7cab6d6e2a4ea89b358067ef6a2e73",
       "step": 0.01,
       "style": "IPY_MODEL_29574ad4b81b473ebcc040dfe22e3617",
       "value": 1
      }
     },
     "b62c93350e684f14afb69e6405c5785a": {
      "model_module": "@jupyter-widgets/base",
      "model_module_version": "1.0.0",
      "model_name": "LayoutModel",
      "state": {}
     },
     "b6464428993946f5aaf10b5d161e5c2a": {
      "model_module": "@jupyter-widgets/controls",
      "model_module_version": "1.0.0",
      "model_name": "DescriptionStyleModel",
      "state": {
       "description_width": ""
      }
     },
     "b65e024c04e14358a8d7532f48cfbbcb": {
      "model_module": "@jupyter-widgets/controls",
      "model_module_version": "1.0.0",
      "model_name": "DescriptionStyleModel",
      "state": {
       "description_width": ""
      }
     },
     "b664fd5135914351a52d79c20cdf9ebc": {
      "model_module": "@jupyter-widgets/base",
      "model_module_version": "1.0.0",
      "model_name": "LayoutModel",
      "state": {}
     },
     "b67460c0bce0412f909e632736de2d60": {
      "model_module": "@jupyter-widgets/controls",
      "model_module_version": "1.0.0",
      "model_name": "HBoxModel",
      "state": {
       "children": [
        "IPY_MODEL_3a7bbcd362f241268e1e85055a1686cb",
        "IPY_MODEL_071ca7330b7c41b098679b588b7f2257"
       ],
       "layout": "IPY_MODEL_f3799685476b4986bc50a213de8eb50c"
      }
     },
     "b67940d6f3664ef39a7b18fe6f698919": {
      "model_module": "@jupyter-widgets/controls",
      "model_module_version": "1.0.0",
      "model_name": "IntSliderModel",
      "state": {
       "description": "Step:",
       "layout": "IPY_MODEL_28cfde440a8a4d989aa38b47f69eb7e5",
       "max": 199,
       "style": "IPY_MODEL_d646739aa84f4d7f9472cc5176a29ff7",
       "value": 7
      }
     },
     "b682a0c703474b1a86828195d5f84576": {
      "model_module": "@jupyter-widgets/controls",
      "model_module_version": "1.0.0",
      "model_name": "LabelModel",
      "state": {
       "layout": "IPY_MODEL_5b161c1f148d44778c8c17aaa9a08957",
       "style": "IPY_MODEL_b50949043eef4f9dae38ce2571651307",
       "value": "Time:0.562814070352"
      }
     },
     "b6891580a47a4adc8d3d07c3eefcb24c": {
      "model_module": "@jupyter-widgets/controls",
      "model_module_version": "1.0.0",
      "model_name": "HBoxModel",
      "state": {
       "children": [
        "IPY_MODEL_91df153b81294200b97af575f7e62b71",
        "IPY_MODEL_8653e7ee964543ddac4669cce0ec54aa"
       ],
       "layout": "IPY_MODEL_8d2ceab3c9594ab88597681a53298b0a"
      }
     },
     "b6b186dd7d41476495a1a443216180a1": {
      "model_module": "@jupyter-widgets/controls",
      "model_module_version": "1.0.0",
      "model_name": "VBoxModel",
      "state": {
       "children": [
        "IPY_MODEL_799dcb8ff4d84b2d848a112f48cccef1",
        "IPY_MODEL_d29da5e8e38742ed8c209580ca379efd"
       ],
       "layout": "IPY_MODEL_6511b50cfc244dee907ccb888610644b"
      }
     },
     "b6bde5487fb8496293d13fbaa4b8e512": {
      "model_module": "@jupyter-widgets/controls",
      "model_module_version": "1.0.0",
      "model_name": "HBoxModel",
      "state": {
       "children": [
        "IPY_MODEL_74fb3835794345389b48cb9065c1547f",
        "IPY_MODEL_d8527c645ea0489090e2251b0ced5eb0"
       ],
       "layout": "IPY_MODEL_d34fcd2f61944b778f01c15713200581"
      }
     },
     "b6c18ba1f2544d54a0028d866ff84085": {
      "model_module": "@jupyter-widgets/controls",
      "model_module_version": "1.0.0",
      "model_name": "HBoxModel",
      "state": {
       "children": [
        "IPY_MODEL_acda564683194ef8b19c77f61d63199a",
        "IPY_MODEL_0724b38196084adbb852c5fa46c7e592"
       ],
       "layout": "IPY_MODEL_bb449fe39d8e4b918cbb437ec9f4a6f4"
      }
     },
     "b6c465c11fd048fea5645b4f430c711f": {
      "model_module": "@jupyter-widgets/controls",
      "model_module_version": "1.0.0",
      "model_name": "DescriptionStyleModel",
      "state": {
       "description_width": ""
      }
     },
     "b6c4702a216d4374956e880fe0547077": {
      "model_module": "@jupyter-widgets/base",
      "model_module_version": "1.0.0",
      "model_name": "LayoutModel",
      "state": {}
     },
     "b6d96845be924bab8e14985c891c7245": {
      "model_module": "@jupyter-widgets/base",
      "model_module_version": "1.0.0",
      "model_name": "LayoutModel",
      "state": {}
     },
     "b6e3b0c23ad64e4d97d10d49a4f6e3a8": {
      "model_module": "@jupyter-widgets/controls",
      "model_module_version": "1.0.0",
      "model_name": "FloatSliderModel",
      "state": {
       "layout": "IPY_MODEL_fa0e4626abee49f4bebeca7c3cd92d61",
       "max": 20,
       "min": 0.1,
       "readout_format": "f",
       "step": 0.1,
       "style": "IPY_MODEL_a4f2bc634ea0419f83c6902cd1c0d522",
       "value": 3
      }
     },
     "b6f8ca3c0a874b17a49c66ac948cac7e": {
      "model_module": "@jupyter-widgets/base",
      "model_module_version": "1.0.0",
      "model_name": "LayoutModel",
      "state": {}
     },
     "b77cf486ea214baea75932ee7c63a198": {
      "model_module": "@jupyter-widgets/controls",
      "model_module_version": "1.0.0",
      "model_name": "DescriptionStyleModel",
      "state": {
       "description_width": ""
      }
     },
     "b789cc201e6c4d548b201983b0d0a1a6": {
      "model_module": "@jupyter-widgets/base",
      "model_module_version": "1.0.0",
      "model_name": "LayoutModel",
      "state": {}
     },
     "b7d9035c781e4632b00e9ac9355d79c4": {
      "model_module": "@jupyter-widgets/controls",
      "model_module_version": "1.0.0",
      "model_name": "BoundedFloatTextModel",
      "state": {
       "layout": "IPY_MODEL_15fd2b39225d4904a864bf178951912f",
       "step": 0.01,
       "style": "IPY_MODEL_b4526963fdc74cb4adb36e299511b612",
       "value": 1
      }
     },
     "b818b43e56f74eefa8424669e11a0de8": {
      "model_module": "@jupyter-widgets/controls",
      "model_module_version": "1.0.0",
      "model_name": "LabelModel",
      "state": {
       "layout": "IPY_MODEL_441449616872495c845e0e5325ba3735",
       "style": "IPY_MODEL_5111b26c61bc400d9e47838ea981b68b",
       "value": "Точность:"
      }
     },
     "b85221c0814848599d6ca66efb4d320c": {
      "model_module": "@jupyter-widgets/base",
      "model_module_version": "1.0.0",
      "model_name": "LayoutModel",
      "state": {}
     },
     "b85359e418a6459cbda42f2ef46319dd": {
      "model_module": "@jupyter-widgets/base",
      "model_module_version": "1.0.0",
      "model_name": "LayoutModel",
      "state": {}
     },
     "b858ffc295b74a84a94249e56c098ad5": {
      "model_module": "@jupyter-widgets/base",
      "model_module_version": "1.0.0",
      "model_name": "LayoutModel",
      "state": {}
     },
     "b88e56c8da0f4763bdcf7d722868b007": {
      "model_module": "@jupyter-widgets/controls",
      "model_module_version": "1.0.0",
      "model_name": "HBoxModel",
      "state": {
       "children": [
        "IPY_MODEL_d6b2f02dd413478ca0e57141ef7ac509",
        "IPY_MODEL_82dbd93d06de441b9d5f7707f04e477d"
       ],
       "layout": "IPY_MODEL_b789cc201e6c4d548b201983b0d0a1a6"
      }
     },
     "b8c0ea6828014944bfd8f7f4d0740cea": {
      "model_module": "@jupyter-widgets/controls",
      "model_module_version": "1.0.0",
      "model_name": "LabelModel",
      "state": {
       "layout": "IPY_MODEL_a0222f31b275482f975b98297558ed22",
       "style": "IPY_MODEL_ad38915f7eae4ca1bcc8a8d2f365efd0",
       "value": "Количество шагов по $t$:"
      }
     },
     "b8fcf76fbdbf4617a253e0036ca01d24": {
      "model_module": "@jupyter-widgets/controls",
      "model_module_version": "1.0.0",
      "model_name": "DescriptionStyleModel",
      "state": {
       "description_width": ""
      }
     },
     "b90050f2ab5a4bcbb9a8ee6b1f5a2bb9": {
      "model_module": "@jupyter-widgets/base",
      "model_module_version": "1.0.0",
      "model_name": "LayoutModel",
      "state": {}
     },
     "b904b35efe5b4c52bf9a727baa9d4b20": {
      "model_module": "@jupyter-widgets/controls",
      "model_module_version": "1.0.0",
      "model_name": "BoundedFloatTextModel",
      "state": {
       "layout": "IPY_MODEL_854cb3343d714215ba2c9483ec898e51",
       "step": 0.01,
       "style": "IPY_MODEL_e156cb8e057e4ae899ce20bd0d64a3c5",
       "value": 1
      }
     },
     "b905d604a0344d7f9dada9ed25656342": {
      "model_module": "@jupyter-widgets/controls",
      "model_module_version": "1.0.0",
      "model_name": "HBoxModel",
      "state": {
       "children": [
        "IPY_MODEL_c49658c60087404288c1d78864e82864",
        "IPY_MODEL_d8527c645ea0489090e2251b0ced5eb0"
       ],
       "layout": "IPY_MODEL_bfb025507f73492c99934365f0c6e027"
      }
     },
     "b9588e96c8d24eb1aed178ffd24c4819": {
      "model_module": "@jupyter-widgets/base",
      "model_module_version": "1.0.0",
      "model_name": "LayoutModel",
      "state": {}
     },
     "b9590f013c914a768c611c2f7880da67": {
      "model_module": "@jupyter-widgets/controls",
      "model_module_version": "1.0.0",
      "model_name": "DescriptionStyleModel",
      "state": {
       "description_width": ""
      }
     },
     "b97463d3a37b47d5a73cadc10f5fbf81": {
      "model_module": "@jupyter-widgets/controls",
      "model_module_version": "1.0.0",
      "model_name": "ToggleButtonsModel",
      "state": {
       "_options_labels": [
        "Расчёт заданного числа шагов",
        "Расчёт с заданной точностью"
       ],
       "button_style": "",
       "description": "Режим работы:",
       "icons": [],
       "index": 0,
       "layout": "IPY_MODEL_5b7cb309a4894c9f9a1bd8525e62b297",
       "style": "IPY_MODEL_530e711c8ab14f16b5cd92ea8e8795d6",
       "tooltips": []
      }
     },
     "b97d5aaf22dd4e52880896ab815890aa": {
      "model_module": "@jupyter-widgets/base",
      "model_module_version": "1.0.0",
      "model_name": "LayoutModel",
      "state": {}
     },
     "b9947feaae4a43d4b2d5e72141a20b27": {
      "model_module": "@jupyter-widgets/base",
      "model_module_version": "1.0.0",
      "model_name": "LayoutModel",
      "state": {}
     },
     "b9d690cba0b647fa93f06f38cf6cf2f2": {
      "model_module": "@jupyter-widgets/base",
      "model_module_version": "1.0.0",
      "model_name": "LayoutModel",
      "state": {}
     },
     "b9f814e159544177ba88387133376064": {
      "model_module": "@jupyter-widgets/base",
      "model_module_version": "1.0.0",
      "model_name": "LayoutModel",
      "state": {}
     },
     "b9fd3a36269843a4920e061f04c78a77": {
      "model_module": "@jupyter-widgets/controls",
      "model_module_version": "1.0.0",
      "model_name": "DescriptionStyleModel",
      "state": {
       "description_width": ""
      }
     },
     "ba4644535cf540feb5df3bce38f2b950": {
      "model_module": "@jupyter-widgets/base",
      "model_module_version": "1.0.0",
      "model_name": "LayoutModel",
      "state": {}
     },
     "ba5f6c815d54404f948128ba70fa6181": {
      "model_module": "@jupyter-widgets/base",
      "model_module_version": "1.0.0",
      "model_name": "LayoutModel",
      "state": {}
     },
     "ba617e8f97ce4129a2e17db927a6d327": {
      "model_module": "@jupyter-widgets/controls",
      "model_module_version": "1.0.0",
      "model_name": "HBoxModel",
      "state": {
       "children": [
        "IPY_MODEL_d0b51c006e1149daa598d8a83817c79e",
        "IPY_MODEL_12bfeaa4fe744f1ebc814004fc81bcd1"
       ],
       "layout": "IPY_MODEL_232dabd15d7d4a52a8949454458b6e4d"
      }
     },
     "bac1a045864f4468a3a614c13880c2ec": {
      "model_module": "@jupyter-widgets/controls",
      "model_module_version": "1.0.0",
      "model_name": "DescriptionStyleModel",
      "state": {
       "description_width": ""
      }
     },
     "bacfbeb9b13146ceb1276c2b1ec0d0e4": {
      "model_module": "@jupyter-widgets/base",
      "model_module_version": "1.0.0",
      "model_name": "LayoutModel",
      "state": {}
     },
     "baeef9066eef4369a2231494c4897891": {
      "model_module": "@jupyter-widgets/controls",
      "model_module_version": "1.0.0",
      "model_name": "HBoxModel",
      "state": {
       "children": [
        "IPY_MODEL_66a39383a9f6461299d4cafd12af7274",
        "IPY_MODEL_1548085f1e9044c683ee2ea4235e30d5"
       ],
       "layout": "IPY_MODEL_9e0e769ebe764681a79fa905cf3cf38a"
      }
     },
     "baf1a982afad40f8a43e8d968c88350d": {
      "model_module": "@jupyter-widgets/controls",
      "model_module_version": "1.0.0",
      "model_name": "LabelModel",
      "state": {
       "layout": "IPY_MODEL_4f41b06fd71b497ea49ba2dcca2d2947",
       "style": "IPY_MODEL_2f891704142140d084a7ee4be92d169e"
      }
     },
     "bb2aae31b4a44ad09c6ba7b3415f77ee": {
      "model_module": "@jupyter-widgets/controls",
      "model_module_version": "1.0.0",
      "model_name": "LabelModel",
      "state": {
       "layout": "IPY_MODEL_50b6b489dacd4bf18c09af7ee942c4c2",
       "style": "IPY_MODEL_1d03fec6afa94405a0c13c3b1c82a7e7"
      }
     },
     "bb449fe39d8e4b918cbb437ec9f4a6f4": {
      "model_module": "@jupyter-widgets/base",
      "model_module_version": "1.0.0",
      "model_name": "LayoutModel",
      "state": {}
     },
     "bb5d7176421c4869bd0e2caed9ecfe5e": {
      "model_module": "@jupyter-widgets/controls",
      "model_module_version": "1.0.0",
      "model_name": "DescriptionStyleModel",
      "state": {
       "description_width": ""
      }
     },
     "bb5fee4eacf640238d4f6d7b1fbfd623": {
      "model_module": "@jupyter-widgets/controls",
      "model_module_version": "1.0.0",
      "model_name": "DescriptionStyleModel",
      "state": {
       "description_width": ""
      }
     },
     "bb65341e483e48d7a65710999fa596c0": {
      "model_module": "@jupyter-widgets/controls",
      "model_module_version": "1.0.0",
      "model_name": "HBoxModel",
      "state": {
       "children": [
        "IPY_MODEL_c6b1694f49144c7494984d18ab0b264a",
        "IPY_MODEL_a9622a6e8aaa4bc5acf9fd0ced330265"
       ],
       "layout": "IPY_MODEL_b9f814e159544177ba88387133376064"
      }
     },
     "bb8b700edc914024bd7a40c57b5fba01": {
      "model_module": "@jupyter-widgets/controls",
      "model_module_version": "1.0.0",
      "model_name": "DescriptionStyleModel",
      "state": {
       "description_width": ""
      }
     },
     "bb9df8a17132413895ae2d54b7a18848": {
      "model_module": "@jupyter-widgets/controls",
      "model_module_version": "1.0.0",
      "model_name": "DescriptionStyleModel",
      "state": {
       "description_width": ""
      }
     },
     "bbdb7176dcfd4e859329ec5f9fe300c4": {
      "model_module": "@jupyter-widgets/base",
      "model_module_version": "1.0.0",
      "model_name": "LayoutModel",
      "state": {}
     },
     "bbe43c3f35a443ffb9885c0a927fd418": {
      "model_module": "@jupyter-widgets/base",
      "model_module_version": "1.0.0",
      "model_name": "LayoutModel",
      "state": {}
     },
     "bbfcdff5f04e4ddba961a56696fea5e6": {
      "model_module": "@jupyter-widgets/controls",
      "model_module_version": "1.0.0",
      "model_name": "BoundedFloatTextModel",
      "state": {
       "layout": "IPY_MODEL_61d181e07cc946a0914a7832be22425e",
       "step": 0.01,
       "style": "IPY_MODEL_87ff907754e848c4bcf337767c3ecf84",
       "value": 1
      }
     },
     "bc19ae577bbd4d67b61f2e802a71dcf5": {
      "model_module": "@jupyter-widgets/base",
      "model_module_version": "1.0.0",
      "model_name": "LayoutModel",
      "state": {}
     },
     "bc674bb14a0e4533a306d8b1aab76b89": {
      "model_module": "@jupyter-widgets/base",
      "model_module_version": "1.0.0",
      "model_name": "LayoutModel",
      "state": {}
     },
     "bcd2565845fb42c1b658436a895e32dd": {
      "model_module": "@jupyter-widgets/base",
      "model_module_version": "1.0.0",
      "model_name": "LayoutModel",
      "state": {}
     },
     "bcdffeb8e03a40728dd2d660ffd0137e": {
      "model_module": "@jupyter-widgets/base",
      "model_module_version": "1.0.0",
      "model_name": "LayoutModel",
      "state": {}
     },
     "bce0120ff11f43deb32171332e90fff9": {
      "model_module": "@jupyter-widgets/base",
      "model_module_version": "1.0.0",
      "model_name": "LayoutModel",
      "state": {}
     },
     "bcfd2c8c2d3c49fc9f0850a5b7acee6e": {
      "model_module": "@jupyter-widgets/controls",
      "model_module_version": "1.0.0",
      "model_name": "IntSliderModel",
      "state": {
       "description": "Step:",
       "layout": "IPY_MODEL_3f8a79849ecb46dc8c684a0b3bcddde9",
       "max": 199,
       "style": "IPY_MODEL_4e1dda7e00cd41bfabf760729585206d",
       "value": 199
      }
     },
     "bd02ed5a5f1f451496a47266fe109d84": {
      "model_module": "@jupyter-widgets/base",
      "model_module_version": "1.0.0",
      "model_name": "LayoutModel",
      "state": {}
     },
     "bd087e148bbc448fa196c538ce84ff77": {
      "model_module": "@jupyter-widgets/controls",
      "model_module_version": "1.0.0",
      "model_name": "SliderStyleModel",
      "state": {
       "description_width": ""
      }
     },
     "bd23ca17a7eb4ab086a8ad42d71e2439": {
      "model_module": "@jupyter-widgets/controls",
      "model_module_version": "1.0.0",
      "model_name": "DescriptionStyleModel",
      "state": {
       "description_width": ""
      }
     },
     "bd23e323d3514cfaa2395a7cb643195c": {
      "model_module": "@jupyter-widgets/controls",
      "model_module_version": "1.0.0",
      "model_name": "DescriptionStyleModel",
      "state": {
       "description_width": ""
      }
     },
     "bd6edc558a5a4b3ab411384ceb745f01": {
      "model_module": "@jupyter-widgets/controls",
      "model_module_version": "1.0.0",
      "model_name": "BoundedFloatTextModel",
      "state": {
       "layout": "IPY_MODEL_3f0e243be93d4690a310f6ba779108b0",
       "step": 0.01,
       "style": "IPY_MODEL_7a4efcc03b1343ecaa9ae695e1e7398b",
       "value": 1
      }
     },
     "bd95c454bb2840b0b921b05c681bf0b7": {
      "model_module": "@jupyter-widgets/base",
      "model_module_version": "1.0.0",
      "model_name": "LayoutModel",
      "state": {}
     },
     "bd9a71127f9641fd8eb9eb800991c769": {
      "model_module": "@jupyter-widgets/controls",
      "model_module_version": "1.0.0",
      "model_name": "HBoxModel",
      "state": {
       "children": [
        "IPY_MODEL_0c5f33c5fc804cd0bfadb05dfca6643d",
        "IPY_MODEL_99de45b496c84058884268c7ed7120cd"
       ],
       "layout": "IPY_MODEL_b9588e96c8d24eb1aed178ffd24c4819"
      }
     },
     "bdc2fab61fb74185ae2ba2f6bddc072d": {
      "model_module": "@jupyter-widgets/controls",
      "model_module_version": "1.0.0",
      "model_name": "DescriptionStyleModel",
      "state": {
       "description_width": ""
      }
     },
     "bdd15a02ae1e4a10a801bb96e8791279": {
      "model_module": "@jupyter-widgets/controls",
      "model_module_version": "1.0.0",
      "model_name": "DescriptionStyleModel",
      "state": {
       "description_width": ""
      }
     },
     "bdfd3853f7954da39051307d01e620c2": {
      "model_module": "@jupyter-widgets/controls",
      "model_module_version": "1.0.0",
      "model_name": "DescriptionStyleModel",
      "state": {
       "description_width": ""
      }
     },
     "be02e168038f40aebd20e4878b7d64ec": {
      "model_module": "@jupyter-widgets/base",
      "model_module_version": "1.0.0",
      "model_name": "LayoutModel",
      "state": {}
     },
     "be59f7e719394332a7c6b3b7a1e885a8": {
      "model_module": "@jupyter-widgets/base",
      "model_module_version": "1.0.0",
      "model_name": "LayoutModel",
      "state": {}
     },
     "be5ad2d28d204fbeba622d418beedbc9": {
      "model_module": "@jupyter-widgets/controls",
      "model_module_version": "1.0.0",
      "model_name": "HBoxModel",
      "state": {
       "children": [
        "IPY_MODEL_4966f4b64d9e4417aa5e5aada927b8af",
        "IPY_MODEL_cac5d022aab144a18228765e02593f83"
       ],
       "layout": "IPY_MODEL_9f23572da1df4825aac3c602b0f490ed"
      }
     },
     "beab2a5d45724658b89131354c7c87f1": {
      "model_module": "@jupyter-widgets/controls",
      "model_module_version": "1.0.0",
      "model_name": "DescriptionStyleModel",
      "state": {
       "description_width": ""
      }
     },
     "bed095fa4d63401cbc61db675e1b9f0f": {
      "model_module": "@jupyter-widgets/controls",
      "model_module_version": "1.0.0",
      "model_name": "BoundedFloatTextModel",
      "state": {
       "continuous_update": true,
       "description": "Time:",
       "layout": "IPY_MODEL_46f5ffbec13c45a4bfe197bff0eb98f2",
       "max": 1,
       "style": "IPY_MODEL_e24e61f3e00a41ac8adde607dccf4e6b",
       "value": 1
      }
     },
     "bee86678c46f4e088808002cf213d9b7": {
      "model_module": "@jupyter-widgets/controls",
      "model_module_version": "1.0.0",
      "model_name": "DescriptionStyleModel",
      "state": {
       "description_width": ""
      }
     },
     "bef1d28da57844f5ae4400033a485c61": {
      "model_module": "@jupyter-widgets/controls",
      "model_module_version": "1.0.0",
      "model_name": "FloatSliderModel",
      "state": {
       "layout": "IPY_MODEL_6ae183befda54768a26d4e00fc90389d",
       "max": 20,
       "min": 0.1,
       "readout_format": "f",
       "step": 0.1,
       "style": "IPY_MODEL_348c5f11c678409e9cfc0f6f4fa95f7e",
       "value": 3
      }
     },
     "bef330ca2e6e482c89b9999b678cf3b9": {
      "model_module": "@jupyter-widgets/base",
      "model_module_version": "1.0.0",
      "model_name": "LayoutModel",
      "state": {}
     },
     "bf7a549db9664a108691241b4b04fa0b": {
      "model_module": "@jupyter-widgets/controls",
      "model_module_version": "1.0.0",
      "model_name": "VBoxModel",
      "state": {
       "children": [
        "IPY_MODEL_4dfc8ae1be1940928d1054bbc4dc7235",
        "IPY_MODEL_5c02d5e8fedb413cacf0a421a746aa8c"
       ],
       "layout": "IPY_MODEL_ee405185143b4a3fb1bd1a519f1037c9"
      }
     },
     "bf8805ae56df4cd1878f85766ad90d66": {
      "model_module": "@jupyter-widgets/base",
      "model_module_version": "1.0.0",
      "model_name": "LayoutModel",
      "state": {}
     },
     "bfa0a92ae5a746ff966e7ebc3156e60d": {
      "model_module": "@jupyter-widgets/controls",
      "model_module_version": "1.0.0",
      "model_name": "DescriptionStyleModel",
      "state": {
       "description_width": ""
      }
     },
     "bfad24a9c4ca4c279e831baf04e3dbb6": {
      "model_module": "@jupyter-widgets/base",
      "model_module_version": "1.0.0",
      "model_name": "LayoutModel",
      "state": {}
     },
     "bfb025507f73492c99934365f0c6e027": {
      "model_module": "@jupyter-widgets/base",
      "model_module_version": "1.0.0",
      "model_name": "LayoutModel",
      "state": {}
     },
     "bfd9e057a00549408e0244c0f0668094": {
      "model_module": "@jupyter-widgets/controls",
      "model_module_version": "1.0.0",
      "model_name": "DescriptionStyleModel",
      "state": {
       "description_width": ""
      }
     },
     "bfe4f628125741b8bcc976064eac2d5c": {
      "model_module": "@jupyter-widgets/controls",
      "model_module_version": "1.0.0",
      "model_name": "HBoxModel",
      "state": {
       "children": [
        "IPY_MODEL_47a072e972a64d8dafe6e883b625ecfc",
        "IPY_MODEL_b22db49eaf0541ee98acd888390d8d19"
       ],
       "layout": "IPY_MODEL_bfad24a9c4ca4c279e831baf04e3dbb6"
      }
     },
     "bffccea52ee64c40b5ba136a9593805e": {
      "model_module": "@jupyter-widgets/base",
      "model_module_version": "1.0.0",
      "model_name": "LayoutModel",
      "state": {}
     },
     "c01f500dd1a14b3a9b232aad9b5f27da": {
      "model_module": "@jupyter-widgets/base",
      "model_module_version": "1.0.0",
      "model_name": "LayoutModel",
      "state": {}
     },
     "c02cbee3cc84410bac402c75a790239f": {
      "model_module": "@jupyter-widgets/base",
      "model_module_version": "1.0.0",
      "model_name": "LayoutModel",
      "state": {}
     },
     "c03e8b6b7978492e85da27ccb6bcd0d6": {
      "model_module": "@jupyter-widgets/controls",
      "model_module_version": "1.0.0",
      "model_name": "BoundedFloatTextModel",
      "state": {
       "continuous_update": true,
       "description": "Time:",
       "layout": "IPY_MODEL_745a7cd07aec4820a28e09402f9e4681",
       "max": 1,
       "style": "IPY_MODEL_f0dae25080b64ffc8cc6686f058d4155",
       "value": 1
      }
     },
     "c04834d2c5584de2ba06e1cdc3cfd358": {
      "model_module": "@jupyter-widgets/controls",
      "model_module_version": "1.0.0",
      "model_name": "FloatSliderModel",
      "state": {
       "layout": "IPY_MODEL_90027e472ee14d8c8d8f06e25717125e",
       "max": 20,
       "min": 0.1,
       "readout_format": "f",
       "step": 0.1,
       "style": "IPY_MODEL_2008c1460b4e4dc1b2b464106165400c",
       "value": 3
      }
     },
     "c057d031185542aeb77103cb0ad2795c": {
      "model_module": "@jupyter-widgets/controls",
      "model_module_version": "1.0.0",
      "model_name": "FloatSliderModel",
      "state": {
       "layout": "IPY_MODEL_562fc3e4bded4780b93864953774ab68",
       "max": 20,
       "min": 0.1,
       "readout_format": "f",
       "step": 0.1,
       "style": "IPY_MODEL_1a7018aedaa04243ba91f271f3d937d9",
       "value": 1
      }
     },
     "c083a3eb5c7a4ec99b37e9af8471e893": {
      "model_module": "@jupyter-widgets/controls",
      "model_module_version": "1.0.0",
      "model_name": "LabelModel",
      "state": {
       "layout": "IPY_MODEL_6a61bb9acf664b368151eb19610187c9",
       "style": "IPY_MODEL_7b862c6d18334b3086c11a4e6ea2147f"
      }
     },
     "c0dcaa32a85d4f2eabf54cc839376d71": {
      "model_module": "@jupyter-widgets/base",
      "model_module_version": "1.0.0",
      "model_name": "LayoutModel",
      "state": {}
     },
     "c0f5e6b40a464b049e862b9bbdb506c8": {
      "model_module": "@jupyter-widgets/controls",
      "model_module_version": "1.0.0",
      "model_name": "ToggleButtonsStyleModel",
      "state": {
       "button_width": "",
       "description_width": ""
      }
     },
     "c0fc6d51faa64465b0828b6557f72dcf": {
      "model_module": "@jupyter-widgets/controls",
      "model_module_version": "1.0.0",
      "model_name": "HBoxModel",
      "state": {
       "children": [
        "IPY_MODEL_572ce2a20e6d45cea2cb2a719bfd45a7",
        "IPY_MODEL_8fcd8cfa4fdc435c9ae087974806b585"
       ],
       "layout": "IPY_MODEL_1b7851181287438b9704ba00cf876956"
      }
     },
     "c12e59123c614e63b640d1dfce1d968e": {
      "model_module": "@jupyter-widgets/controls",
      "model_module_version": "1.0.0",
      "model_name": "DescriptionStyleModel",
      "state": {
       "description_width": ""
      }
     },
     "c13226c70a484bc3b6745e0fb70510f0": {
      "model_module": "@jupyter-widgets/controls",
      "model_module_version": "1.0.0",
      "model_name": "DescriptionStyleModel",
      "state": {
       "description_width": ""
      }
     },
     "c13c819c939640068de87a9167117987": {
      "model_module": "@jupyter-widgets/base",
      "model_module_version": "1.0.0",
      "model_name": "LayoutModel",
      "state": {}
     },
     "c13de821d7c74435a092759c9bd6a86a": {
      "model_module": "@jupyter-widgets/controls",
      "model_module_version": "1.0.0",
      "model_name": "DescriptionStyleModel",
      "state": {
       "description_width": ""
      }
     },
     "c14dcabf2f974f55a0824f1477ede1f3": {
      "model_module": "@jupyter-widgets/base",
      "model_module_version": "1.0.0",
      "model_name": "LayoutModel",
      "state": {}
     },
     "c15270a2e3fc4010978d327b73cefffe": {
      "model_module": "@jupyter-widgets/base",
      "model_module_version": "1.0.0",
      "model_name": "LayoutModel",
      "state": {}
     },
     "c1716c1b2be543d28dcceee441339ba3": {
      "model_module": "@jupyter-widgets/base",
      "model_module_version": "1.0.0",
      "model_name": "LayoutModel",
      "state": {}
     },
     "c18cd0183e0b415b969edf87c4e220f7": {
      "model_module": "@jupyter-widgets/controls",
      "model_module_version": "1.0.0",
      "model_name": "VBoxModel",
      "state": {
       "children": [
        "IPY_MODEL_130dac630d3b4669b908299f81b33871",
        "IPY_MODEL_ee632ec35d644174a4a9fbedd50cd09f"
       ],
       "layout": "IPY_MODEL_d0cdb37c4d8f4053b9badedba2133ae8"
      }
     },
     "c1c69c825f10414a87022714e989bba8": {
      "model_module": "@jupyter-widgets/controls",
      "model_module_version": "1.0.0",
      "model_name": "VBoxModel",
      "state": {
       "children": [
        "IPY_MODEL_d3d6863f79d543b6aac2c7feff94b846",
        "IPY_MODEL_02878848858d45cba494694a9bdcec28",
        "IPY_MODEL_0283d25b848043dc951ae2b141f294da",
        "IPY_MODEL_695fcf47765e4b15bcb75e8650a4427b",
        "IPY_MODEL_7ae6d2ed365c4b79828ad00bac6ba22f",
        "IPY_MODEL_616f0b2a9d6b47b7a7a3c5cfca644ced"
       ],
       "layout": "IPY_MODEL_eb71e73c08e345f78ccaf924095ae07e"
      }
     },
     "c229207e0772472882a0e3f689b29a1d": {
      "model_module": "@jupyter-widgets/controls",
      "model_module_version": "1.0.0",
      "model_name": "BoundedFloatTextModel",
      "state": {
       "layout": "IPY_MODEL_a03cd75f1c114c7caf38f9f9213354fb",
       "step": 0.01,
       "style": "IPY_MODEL_788108fa00154e5d880098e67f8b20d1",
       "value": 1
      }
     },
     "c2489f96c5f44d5e9cf98f009e08702e": {
      "model_module": "@jupyter-widgets/controls",
      "model_module_version": "1.0.0",
      "model_name": "BoundedFloatTextModel",
      "state": {
       "layout": "IPY_MODEL_20f329b9e42f47f5a256b5da8feab372",
       "max": 0.1,
       "step": 0.001,
       "style": "IPY_MODEL_8aeeaade722649cebef37ae72ca0107e",
       "value": 0.01
      }
     },
     "c26e03c02f004aac853fadb816467abc": {
      "model_module": "@jupyter-widgets/controls",
      "model_module_version": "1.0.0",
      "model_name": "BoundedFloatTextModel",
      "state": {
       "layout": "IPY_MODEL_0f66f3d5ea834477b8d4e12328087f6c",
       "step": 0.01,
       "style": "IPY_MODEL_8ed1fc7bc52c4565afd5b565f1a98a0a",
       "value": 1
      }
     },
     "c2b757533afd436fa07b2864f365f636": {
      "model_module": "@jupyter-widgets/controls",
      "model_module_version": "1.0.0",
      "model_name": "HBoxModel",
      "state": {
       "children": [
        "IPY_MODEL_efd80994443a46dbbbc158b7967ed4c8",
        "IPY_MODEL_75fb13bdc193418b996f3cea5ddb0932"
       ],
       "layout": "IPY_MODEL_27bd56ff0a654861a60ad777945e2cad"
      }
     },
     "c2cdf384147e4b0fa962573d23d9cd2f": {
      "model_module": "@jupyter-widgets/controls",
      "model_module_version": "1.0.0",
      "model_name": "DescriptionStyleModel",
      "state": {
       "description_width": ""
      }
     },
     "c2f4520a0dc049ce827c10542318e002": {
      "model_module": "@jupyter-widgets/controls",
      "model_module_version": "1.0.0",
      "model_name": "DescriptionStyleModel",
      "state": {
       "description_width": ""
      }
     },
     "c305c70ebe134a5eb981608595ac8da3": {
      "model_module": "@jupyter-widgets/controls",
      "model_module_version": "1.0.0",
      "model_name": "VBoxModel",
      "state": {
       "children": [
        "IPY_MODEL_4102de37f10b4ad28cb595237129804d",
        "IPY_MODEL_7789246a9b974544bbffe7717fd4df82"
       ],
       "layout": "IPY_MODEL_417bacb5ec23497f918ce569cfe7bf8f"
      }
     },
     "c33a5822478b4c259cb8d0179e856c11": {
      "model_module": "@jupyter-widgets/controls",
      "model_module_version": "1.0.0",
      "model_name": "BoundedFloatTextModel",
      "state": {
       "layout": "IPY_MODEL_858740966e324b30a18179f3fff7b437",
       "step": 0.01,
       "style": "IPY_MODEL_ce43213800044794a5a670d3438bf326",
       "value": 1
      }
     },
     "c369e83756504849835985fa29e4627a": {
      "model_module": "@jupyter-widgets/controls",
      "model_module_version": "1.0.0",
      "model_name": "DescriptionStyleModel",
      "state": {
       "description_width": ""
      }
     },
     "c38688835dd6491896489f81fc3a2385": {
      "model_module": "@jupyter-widgets/base",
      "model_module_version": "1.0.0",
      "model_name": "LayoutModel",
      "state": {}
     },
     "c39f32fb9378476aa38e624d26f230cb": {
      "model_module": "@jupyter-widgets/controls",
      "model_module_version": "1.0.0",
      "model_name": "SliderStyleModel",
      "state": {
       "description_width": ""
      }
     },
     "c3e9d4ae462344528ff3fb1dcbe4f254": {
      "model_module": "@jupyter-widgets/controls",
      "model_module_version": "1.0.0",
      "model_name": "BoundedFloatTextModel",
      "state": {
       "layout": "IPY_MODEL_fb928eba3b9343599e1c34032624eb28",
       "step": 0.01,
       "style": "IPY_MODEL_7ae55d4e8e33407ea47338de809ddd2a",
       "value": 1
      }
     },
     "c3fa94a5b6c64daa9dadf687fb73e7d7": {
      "model_module": "@jupyter-widgets/base",
      "model_module_version": "1.0.0",
      "model_name": "LayoutModel",
      "state": {}
     },
     "c42f71b8e878499dbf0f0220a5ffc711": {
      "model_module": "@jupyter-widgets/base",
      "model_module_version": "1.0.0",
      "model_name": "LayoutModel",
      "state": {}
     },
     "c43e0dcd64704914b7dec55629d5deaf": {
      "model_module": "@jupyter-widgets/controls",
      "model_module_version": "1.0.0",
      "model_name": "HBoxModel",
      "state": {
       "children": [
        "IPY_MODEL_2171b0e61d23452dbe68c6f0490c76ad",
        "IPY_MODEL_7112fb7a7aea4755aa160475b573fbab"
       ],
       "layout": "IPY_MODEL_943182116966458694a5ba9abaf8f9e5"
      }
     },
     "c4407468c3ba4519921864af0e9379e4": {
      "model_module": "@jupyter-widgets/controls",
      "model_module_version": "1.0.0",
      "model_name": "BoundedIntTextModel",
      "state": {
       "layout": "IPY_MODEL_7b1d1c65937842b8b066f61a39c4b1aa",
       "max": 1000,
       "min": 50,
       "step": 100,
       "style": "IPY_MODEL_794e0a586c414b46855bbd342d66d6ef",
       "value": 100
      }
     },
     "c46d89b98d1544609044019a2a0c1b4b": {
      "model_module": "@jupyter-widgets/controls",
      "model_module_version": "1.0.0",
      "model_name": "BoundedFloatTextModel",
      "state": {
       "continuous_update": true,
       "description": "Time:",
       "layout": "IPY_MODEL_1bcf35340cfe483a8983d1043ee30e1d",
       "max": 1,
       "style": "IPY_MODEL_c2cdf384147e4b0fa962573d23d9cd2f",
       "value": 1
      }
     },
     "c47d81f4945d4618a7b797adb2517037": {
      "model_module": "@jupyter-widgets/base",
      "model_module_version": "1.0.0",
      "model_name": "LayoutModel",
      "state": {}
     },
     "c49658c60087404288c1d78864e82864": {
      "model_module": "@jupyter-widgets/controls",
      "model_module_version": "1.0.0",
      "model_name": "LabelModel",
      "state": {
       "layout": "IPY_MODEL_fc8b6d5ef5544caaac72b3cfafc167e6",
       "style": "IPY_MODEL_4078d903fc504a2c9f51a5a14af959a1",
       "value": "Количество шагов по $t$:"
      }
     },
     "c4c4dd5b00044ca1bd068d28a6346689": {
      "model_module": "@jupyter-widgets/controls",
      "model_module_version": "1.0.0",
      "model_name": "LabelModel",
      "state": {
       "layout": "IPY_MODEL_46efd24c6ddf433f83afe72adfcd8948",
       "style": "IPY_MODEL_41c98f69c6e44988b3b1e11c9f7bdb59"
      }
     },
     "c4dffb89ea6e4f4bb15f211c726d155a": {
      "model_module": "@jupyter-widgets/controls",
      "model_module_version": "1.0.0",
      "model_name": "BoundedFloatTextModel",
      "state": {
       "layout": "IPY_MODEL_9002732e5c63430b82f116dae77c822d",
       "max": 0.5,
       "min": 0.25,
       "step": 0.01,
       "style": "IPY_MODEL_852790fbb2fd4754b81c31eeb5f2690f",
       "value": 0.375
      }
     },
     "c4f7991093af4c38a5de0f20c21e6a88": {
      "model_module": "@jupyter-widgets/controls",
      "model_module_version": "1.0.0",
      "model_name": "DescriptionStyleModel",
      "state": {
       "description_width": ""
      }
     },
     "c51acba0828042259b9058dac63d8c1f": {
      "model_module": "@jupyter-widgets/controls",
      "model_module_version": "1.0.0",
      "model_name": "LabelModel",
      "state": {
       "layout": "IPY_MODEL_e9ce969a66cc4d20ae02e556777dc765",
       "style": "IPY_MODEL_158494b882d24295b31bf14f69fefd10",
       "value": "$\\large t$ -характерное время нарастания/спадания импульса"
      }
     },
     "c539f13128ec47f79e7153500e9b23ba": {
      "model_module": "@jupyter-widgets/base",
      "model_module_version": "1.0.0",
      "model_name": "LayoutModel",
      "state": {}
     },
     "c53a03e0c81b4b569cb5b31bdc2d250c": {
      "model_module": "@jupyter-widgets/base",
      "model_module_version": "1.0.0",
      "model_name": "LayoutModel",
      "state": {}
     },
     "c5436615b8934460a8e53cdb4bc3739a": {
      "model_module": "@jupyter-widgets/controls",
      "model_module_version": "1.0.0",
      "model_name": "LabelModel",
      "state": {
       "layout": "IPY_MODEL_d92cfbbce7ca48daa672d47882fa86f3",
       "style": "IPY_MODEL_c12e59123c614e63b640d1dfce1d968e",
       "value": "$\\large t$ -характерное время нарастания/спадания импульса"
      }
     },
     "c54b086890c045e989c2e9098d8dff85": {
      "model_module": "@jupyter-widgets/base",
      "model_module_version": "1.0.0",
      "model_name": "LayoutModel",
      "state": {}
     },
     "c56fb1d73aa947e79b9052d4a221911d": {
      "model_module": "@jupyter-widgets/controls",
      "model_module_version": "1.0.0",
      "model_name": "DescriptionStyleModel",
      "state": {
       "description_width": ""
      }
     },
     "c5923ed5ef6d44b192515de32aee19a3": {
      "model_module": "@jupyter-widgets/base",
      "model_module_version": "1.0.0",
      "model_name": "LayoutModel",
      "state": {}
     },
     "c5c4ac361cac482bb1c6b51f5e42bc61": {
      "model_module": "@jupyter-widgets/base",
      "model_module_version": "1.0.0",
      "model_name": "LayoutModel",
      "state": {}
     },
     "c62410203a4346db9ce199d37dfdf006": {
      "model_module": "@jupyter-widgets/controls",
      "model_module_version": "1.0.0",
      "model_name": "DescriptionStyleModel",
      "state": {
       "description_width": ""
      }
     },
     "c63d02b8970546bbbf2be92768c8b2aa": {
      "model_module": "@jupyter-widgets/controls",
      "model_module_version": "1.0.0",
      "model_name": "IntSliderModel",
      "state": {
       "description": "Step:",
       "layout": "IPY_MODEL_b9d690cba0b647fa93f06f38cf6cf2f2",
       "max": 199,
       "style": "IPY_MODEL_3a59cd417823448181806a8463256c29",
       "value": 7
      }
     },
     "c6513abf44be4971bdf8a11422dc116b": {
      "model_module": "@jupyter-widgets/base",
      "model_module_version": "1.0.0",
      "model_name": "LayoutModel",
      "state": {}
     },
     "c676abc362b34e35aee46caa8b85b50a": {
      "model_module": "@jupyter-widgets/base",
      "model_module_version": "1.0.0",
      "model_name": "LayoutModel",
      "state": {}
     },
     "c6b1694f49144c7494984d18ab0b264a": {
      "model_module": "@jupyter-widgets/controls",
      "model_module_version": "1.0.0",
      "model_name": "LabelModel",
      "state": {
       "layout": "IPY_MODEL_40f39336c6904c3e8de0045acbc19b63",
       "style": "IPY_MODEL_d26c80150faf472ebd1cec2b26ad0c61",
       "value": "$\\large a$ -амплитуда импульса"
      }
     },
     "c6b258908a294d2194cd359334d7bf1c": {
      "model_module": "@jupyter-widgets/base",
      "model_module_version": "1.0.0",
      "model_name": "LayoutModel",
      "state": {}
     },
     "c6d2bfba4ea9436c973eab9199901c25": {
      "model_module": "@jupyter-widgets/base",
      "model_module_version": "1.0.0",
      "model_name": "LayoutModel",
      "state": {}
     },
     "c6d9c1b94125456c99eab77706efd6e4": {
      "model_module": "@jupyter-widgets/base",
      "model_module_version": "1.0.0",
      "model_name": "LayoutModel",
      "state": {}
     },
     "c6ea559e250e40be9c7dd83684f9db5b": {
      "model_module": "@jupyter-widgets/base",
      "model_module_version": "1.0.0",
      "model_name": "LayoutModel",
      "state": {}
     },
     "c6f02d2ebcf64d5ba2f58e939c620285": {
      "model_module": "@jupyter-widgets/controls",
      "model_module_version": "1.0.0",
      "model_name": "LabelModel",
      "state": {
       "layout": "IPY_MODEL_0452159a76414ebb92bbaf6209ae0a46",
       "style": "IPY_MODEL_76146753c1ff454aabd1f079d4eed6f2",
       "value": "Количество шагов по $x$:"
      }
     },
     "c70d844b2c044bfa9dccd955916f8aa2": {
      "model_module": "@jupyter-widgets/base",
      "model_module_version": "1.0.0",
      "model_name": "LayoutModel",
      "state": {}
     },
     "c719a2a35d114afebeb32b1cce431c27": {
      "model_module": "@jupyter-widgets/base",
      "model_module_version": "1.0.0",
      "model_name": "LayoutModel",
      "state": {}
     },
     "c74578d7d09e4a7188d99c4695b5f94c": {
      "model_module": "@jupyter-widgets/base",
      "model_module_version": "1.0.0",
      "model_name": "LayoutModel",
      "state": {}
     },
     "c7532f614b1d4d71afafb35f931f4fdb": {
      "model_module": "@jupyter-widgets/base",
      "model_module_version": "1.0.0",
      "model_name": "LayoutModel",
      "state": {}
     },
     "c78e6236b9b04b12bc13878357326079": {
      "model_module": "@jupyter-widgets/controls",
      "model_module_version": "1.0.0",
      "model_name": "FloatSliderModel",
      "state": {
       "layout": "IPY_MODEL_8c69ad704c544b43a874410e66f7b0e9",
       "max": 20,
       "min": 0.1,
       "readout_format": "f",
       "step": 0.1,
       "style": "IPY_MODEL_a28c7158852f4844bb23b07d7b00a52f",
       "value": 3
      }
     },
     "c7a1d929a0784dc6b06371e6860ce7d8": {
      "model_module": "@jupyter-widgets/base",
      "model_module_version": "1.0.0",
      "model_name": "LayoutModel",
      "state": {}
     },
     "c7b2bfdde1394fb1a581e059e6f0abf8": {
      "model_module": "@jupyter-widgets/controls",
      "model_module_version": "1.0.0",
      "model_name": "BoundedIntTextModel",
      "state": {
       "layout": "IPY_MODEL_19722994c0a04ce4a3158c71eb043b4a",
       "max": 1000,
       "min": 50,
       "step": 100,
       "style": "IPY_MODEL_a2277fd785144af294205c6a18402063",
       "value": 100
      }
     },
     "c7cc2ac14977437988bdff0b5e7fd43e": {
      "model_module": "@jupyter-widgets/controls",
      "model_module_version": "1.0.0",
      "model_name": "SliderStyleModel",
      "state": {
       "description_width": ""
      }
     },
     "c7dd6be193ad42258fd17fa037d98214": {
      "model_module": "@jupyter-widgets/controls",
      "model_module_version": "1.0.0",
      "model_name": "HBoxModel",
      "state": {
       "children": [
        "IPY_MODEL_0ba1f4fa0d0f47a1a6c5d3939eb7ad0a",
        "IPY_MODEL_a584c351528241689c6b5d750b854ab6"
       ],
       "layout": "IPY_MODEL_b4ac73a3db20442d8a29de2283c77ac9"
      }
     },
     "c7e14e1740954e668e397ff33d5eca68": {
      "model_module": "@jupyter-widgets/base",
      "model_module_version": "1.0.0",
      "model_name": "LayoutModel",
      "state": {}
     },
     "c7e9d83460e0475baf3c71075f04426b": {
      "model_module": "@jupyter-widgets/base",
      "model_module_version": "1.0.0",
      "model_name": "LayoutModel",
      "state": {}
     },
     "c837281540294a95aa4f25d5a58091d2": {
      "model_module": "@jupyter-widgets/controls",
      "model_module_version": "1.0.0",
      "model_name": "VBoxModel",
      "state": {
       "children": [
        "IPY_MODEL_5644a9a916a04fc2a64700c8e8619337",
        "IPY_MODEL_c04834d2c5584de2ba06e1cdc3cfd358"
       ],
       "layout": "IPY_MODEL_93b376904d424930a2b97fa7b1658c9b"
      }
     },
     "c8850409e2cf468ea46d2d3daccfc5f5": {
      "model_module": "@jupyter-widgets/base",
      "model_module_version": "1.0.0",
      "model_name": "LayoutModel",
      "state": {}
     },
     "c8b9df4db4bc43649add9f9e9de653ed": {
      "model_module": "@jupyter-widgets/controls",
      "model_module_version": "1.0.0",
      "model_name": "DescriptionStyleModel",
      "state": {
       "description_width": ""
      }
     },
     "c8d5ba6fc4ef48f1a8f356b7cd439f53": {
      "model_module": "@jupyter-widgets/controls",
      "model_module_version": "1.0.0",
      "model_name": "DescriptionStyleModel",
      "state": {
       "description_width": ""
      }
     },
     "c8ef834463264504bf0092599d550a04": {
      "model_module": "@jupyter-widgets/controls",
      "model_module_version": "1.0.0",
      "model_name": "BoundedIntTextModel",
      "state": {
       "layout": "IPY_MODEL_5fe09184d9af41ca98fc879bc3703c7e",
       "max": 1000,
       "min": 50,
       "step": 100,
       "style": "IPY_MODEL_1aadadb02ec44540ae32555dd36dc028",
       "value": 100
      }
     },
     "c91148ed1fb546bf98dfadfe988d525d": {
      "model_module": "@jupyter-widgets/controls",
      "model_module_version": "1.0.0",
      "model_name": "HBoxModel",
      "state": {
       "children": [
        "IPY_MODEL_a02ff2035ffe464497f0285a10d5c045",
        "IPY_MODEL_27d7ea3b418b45df93e6251c7be89a20"
       ],
       "layout": "IPY_MODEL_7549fbf703ad4dd08693c68f727aca0c"
      }
     },
     "c9160fcab5e84917b9e189378cfdf329": {
      "model_module": "@jupyter-widgets/controls",
      "model_module_version": "1.0.0",
      "model_name": "DescriptionStyleModel",
      "state": {
       "description_width": ""
      }
     },
     "c9274c99c1ad440e81d6b7fde3a71cf3": {
      "model_module": "@jupyter-widgets/controls",
      "model_module_version": "1.0.0",
      "model_name": "LabelModel",
      "state": {
       "layout": "IPY_MODEL_2b8ae599ab5449f18ef6556a6d8133d0",
       "style": "IPY_MODEL_dc8e534a7f7c4a67a674602a7cc7c56e",
       "value": "Количество шагов по $x$:"
      }
     },
     "c928e397eaad4c74be897e1b874d3a8c": {
      "model_module": "@jupyter-widgets/controls",
      "model_module_version": "1.0.0",
      "model_name": "SliderStyleModel",
      "state": {
       "description_width": ""
      }
     },
     "c940a85a187f47e1b2975e1e48ee9ff5": {
      "model_module": "@jupyter-widgets/controls",
      "model_module_version": "1.0.0",
      "model_name": "VBoxModel",
      "state": {
       "children": [
        "IPY_MODEL_0d84aad4c0b344cda01e5037590b9e33",
        "IPY_MODEL_125b886ae5df4baca535f7bfb3befc27"
       ],
       "layout": "IPY_MODEL_7be8a897b11a40a7b8056c5ef5486998"
      }
     },
     "c9468d6f31fa4278a95c120ae7e793c8": {
      "model_module": "@jupyter-widgets/controls",
      "model_module_version": "1.0.0",
      "model_name": "HBoxModel",
      "state": {
       "children": [
        "IPY_MODEL_d9ceba018afb458bb260cb7ea2e543c6",
        "IPY_MODEL_ceca4559403e426c83b1d4b6446a522c"
       ],
       "layout": "IPY_MODEL_a1a8dbd75aaf4764a68d8ac0d222878a"
      }
     },
     "c965a1bae5be41c6b3cac4f78548e751": {
      "model_module": "@jupyter-widgets/base",
      "model_module_version": "1.0.0",
      "model_name": "LayoutModel",
      "state": {}
     },
     "c9984496008b497fa7ec3470622f5633": {
      "model_module": "@jupyter-widgets/base",
      "model_module_version": "1.0.0",
      "model_name": "LayoutModel",
      "state": {}
     },
     "c9bea1bc224444268831b3b4a66b607d": {
      "model_module": "@jupyter-widgets/controls",
      "model_module_version": "1.0.0",
      "model_name": "HBoxModel",
      "state": {
       "children": [
        "IPY_MODEL_e3aa1873160a4cd3939b74c0b8bb8d9c",
        "IPY_MODEL_04f151b2469641229a137f2cc50169a5"
       ],
       "layout": "IPY_MODEL_41860c3895bb4ff7b148d73b769af298"
      }
     },
     "c9c1d7e57900405a930800559b35501e": {
      "model_module": "@jupyter-widgets/controls",
      "model_module_version": "1.0.0",
      "model_name": "FloatSliderModel",
      "state": {
       "layout": "IPY_MODEL_8f3b7d85a0e7460580427964b3ebb312",
       "max": 20,
       "min": 0.1,
       "readout_format": "f",
       "step": 0.1,
       "style": "IPY_MODEL_280830e218ad4c41bc963777ced44a2c",
       "value": 3
      }
     },
     "c9cf28cdb91b4354b89e389be9fe8d6f": {
      "model_module": "@jupyter-widgets/controls",
      "model_module_version": "1.0.0",
      "model_name": "LabelModel",
      "state": {
       "layout": "IPY_MODEL_f09fc7aa77404c19906762dfad27658b",
       "style": "IPY_MODEL_d537daca28914bb184ed657c0e3c9436",
       "value": "Длительность анимации"
      }
     },
     "c9e0caff6e1042ea8fbeed29a7c83447": {
      "model_module": "@jupyter-widgets/controls",
      "model_module_version": "1.0.0",
      "model_name": "HBoxModel",
      "state": {
       "children": [
        "IPY_MODEL_614afb111ad4434fb3e319c56101b0f9",
        "IPY_MODEL_d8527c645ea0489090e2251b0ced5eb0"
       ],
       "layout": "IPY_MODEL_18f1f8f79a33406498f7b51f370152fe"
      }
     },
     "c9e19ea73e9e44579ec9cd4c42ecce56": {
      "model_module": "@jupyter-widgets/controls",
      "model_module_version": "1.0.0",
      "model_name": "DescriptionStyleModel",
      "state": {
       "description_width": ""
      }
     },
     "ca08342a49474e39966a5230b24db107": {
      "model_module": "@jupyter-widgets/controls",
      "model_module_version": "1.0.0",
      "model_name": "LabelModel",
      "state": {
       "layout": "IPY_MODEL_b129ae4eb7274fa8a3b837302d2b262f",
       "style": "IPY_MODEL_8702d0dee7da4e3bbc4edac5da758681",
       "value": "Количество шагов по $t$:"
      }
     },
     "ca20d38cdfeb40119891e7d0e99cddf9": {
      "model_module": "@jupyter-widgets/controls",
      "model_module_version": "1.0.0",
      "model_name": "BoundedFloatTextModel",
      "state": {
       "layout": "IPY_MODEL_ec0180352dba41e68e6183def96e0e7d",
       "step": 0.01,
       "style": "IPY_MODEL_cdcce36f7fea45cbb4ea451141f598d5",
       "value": 1
      }
     },
     "ca40a62c84da4faf974448c515ac0124": {
      "model_module": "@jupyter-widgets/base",
      "model_module_version": "1.0.0",
      "model_name": "LayoutModel",
      "state": {}
     },
     "ca59f5ec00ae4ef6a92c4cf61d46f7e6": {
      "model_module": "@jupyter-widgets/base",
      "model_module_version": "1.0.0",
      "model_name": "LayoutModel",
      "state": {}
     },
     "ca9ae8236d354f2a992c3026f7d3737e": {
      "model_module": "@jupyter-widgets/controls",
      "model_module_version": "1.0.0",
      "model_name": "IntSliderModel",
      "state": {
       "description": "Step:",
       "layout": "IPY_MODEL_c7e9d83460e0475baf3c71075f04426b",
       "max": 199,
       "style": "IPY_MODEL_f0253e3197bf4cd7bc73ea165d37f940"
      }
     },
     "cac5d022aab144a18228765e02593f83": {
      "model_module": "@jupyter-widgets/controls",
      "model_module_version": "1.0.0",
      "model_name": "BoundedFloatTextModel",
      "state": {
       "layout": "IPY_MODEL_979314adf2e54b62895340dd75b2f7d1",
       "step": 0.01,
       "style": "IPY_MODEL_f2cd474901824590ae3d31f32e81aeb9",
       "value": 1
      }
     },
     "cad2793864f844b398b6f076dae5d748": {
      "model_module": "@jupyter-widgets/base",
      "model_module_version": "1.0.0",
      "model_name": "LayoutModel",
      "state": {}
     },
     "cb3182b051ef4b319c64eca77fc36039": {
      "model_module": "@jupyter-widgets/base",
      "model_module_version": "1.0.0",
      "model_name": "LayoutModel",
      "state": {}
     },
     "cb48b6f5c4884b71a1812b6011cfd1aa": {
      "model_module": "@jupyter-widgets/controls",
      "model_module_version": "1.0.0",
      "model_name": "HBoxModel",
      "state": {
       "children": [
        "IPY_MODEL_00b18d105c514b579b03dc8fa70eea63",
        "IPY_MODEL_cf6a62a91f1548cfbd578df952e6baa1"
       ],
       "layout": "IPY_MODEL_9ccf702010df42868804f9f68bf2873c"
      }
     },
     "cb99cc8ef02f47598a93a1b1ffae021b": {
      "model_module": "@jupyter-widgets/controls",
      "model_module_version": "1.0.0",
      "model_name": "HBoxModel",
      "state": {
       "children": [
        "IPY_MODEL_378abcb5456a440aa59f94140b726c3f",
        "IPY_MODEL_14f81b5bf03f4f07bef4c2a65ae2a2a1"
       ],
       "layout": "IPY_MODEL_fd9a1b7c2340447e8d970558379fa969"
      }
     },
     "cbbd66c05b6c404d867c1de4fd668e0e": {
      "model_module": "@jupyter-widgets/base",
      "model_module_version": "1.0.0",
      "model_name": "LayoutModel",
      "state": {}
     },
     "cbc301fee6944b7da93b492a6bd85b7f": {
      "model_module": "@jupyter-widgets/base",
      "model_module_version": "1.0.0",
      "model_name": "LayoutModel",
      "state": {}
     },
     "cbd4e864012c443e9e1b005cf56def00": {
      "model_module": "@jupyter-widgets/base",
      "model_module_version": "1.0.0",
      "model_name": "LayoutModel",
      "state": {}
     },
     "cbe8b75fd6a8486391a24a8d6534f1fd": {
      "model_module": "@jupyter-widgets/controls",
      "model_module_version": "1.0.0",
      "model_name": "DescriptionStyleModel",
      "state": {
       "description_width": ""
      }
     },
     "cc137e62942e47ce8995fcae72efa9a2": {
      "model_module": "@jupyter-widgets/base",
      "model_module_version": "1.0.0",
      "model_name": "LayoutModel",
      "state": {}
     },
     "cc23892e7eb441c08182fea10be8925e": {
      "model_module": "@jupyter-widgets/base",
      "model_module_version": "1.0.0",
      "model_name": "LayoutModel",
      "state": {}
     },
     "cc6e08adfdd74d39aa7bcd21e78495b5": {
      "model_module": "@jupyter-widgets/controls",
      "model_module_version": "1.0.0",
      "model_name": "DescriptionStyleModel",
      "state": {
       "description_width": ""
      }
     },
     "cc9e8f5fb59d409ab04a3191ebca01c4": {
      "model_module": "@jupyter-widgets/controls",
      "model_module_version": "1.0.0",
      "model_name": "BoundedFloatTextModel",
      "state": {
       "continuous_update": true,
       "description": "Time:",
       "layout": "IPY_MODEL_3abb6b67687a48fdaa00d38966240d57",
       "max": 1,
       "style": "IPY_MODEL_f354db40634e4e4398a5f1809c760805"
      }
     },
     "cca08bdc7650450e8b370a55df157485": {
      "model_module": "@jupyter-widgets/base",
      "model_module_version": "1.0.0",
      "model_name": "LayoutModel",
      "state": {}
     },
     "cca0b2623b374626a65bbe4f00493ff7": {
      "model_module": "@jupyter-widgets/controls",
      "model_module_version": "1.0.0",
      "model_name": "LabelModel",
      "state": {
       "layout": "IPY_MODEL_1c06d1e50cdf48aba8608c5913683963",
       "style": "IPY_MODEL_bb5d7176421c4869bd0e2caed9ecfe5e",
       "value": "$\\large a$ -амплитуда импульса"
      }
     },
     "ccc53274f8b843b3abb3bb04ee53f961": {
      "model_module": "@jupyter-widgets/controls",
      "model_module_version": "1.0.0",
      "model_name": "DescriptionStyleModel",
      "state": {
       "description_width": ""
      }
     },
     "cd0bb669c8754d0baef280274c6931f5": {
      "model_module": "@jupyter-widgets/controls",
      "model_module_version": "1.0.0",
      "model_name": "HBoxModel",
      "state": {
       "children": [
        "IPY_MODEL_fb8ba7a167ec4427a7f3fb4cbe43286e",
        "IPY_MODEL_fa6e2b60476244998ae8c1006a790453"
       ],
       "layout": "IPY_MODEL_b97d5aaf22dd4e52880896ab815890aa"
      }
     },
     "cd103794ad0841b292d93250db026714": {
      "model_module": "@jupyter-widgets/controls",
      "model_module_version": "1.0.0",
      "model_name": "LabelModel",
      "state": {
       "layout": "IPY_MODEL_cee62d522c1648bdba1ffad0066c1e77",
       "style": "IPY_MODEL_3b07056a6d78455a8e9cd34f9565741b",
       "value": "Время симуляции:"
      }
     },
     "cd2884d7d06e4bbdaceeeb82342bc837": {
      "model_module": "@jupyter-widgets/controls",
      "model_module_version": "1.0.0",
      "model_name": "VBoxModel",
      "state": {
       "children": [
        "IPY_MODEL_67c2984122224f7bb26ced68d4fd68c4",
        "IPY_MODEL_eb8c654b748947e9a5ca255299ba1807"
       ],
       "layout": "IPY_MODEL_7d823e363955497991afcbbe571aa1dd"
      }
     },
     "cd327d73cd19462ca212363df5df5a4f": {
      "model_module": "@jupyter-widgets/controls",
      "model_module_version": "1.0.0",
      "model_name": "DescriptionStyleModel",
      "state": {
       "description_width": ""
      }
     },
     "cd3fddc0ec9c45a0821dcf2ab12c8a25": {
      "model_module": "@jupyter-widgets/controls",
      "model_module_version": "1.0.0",
      "model_name": "DescriptionStyleModel",
      "state": {
       "description_width": ""
      }
     },
     "cd53692a56ae4e12bac266e57f4cbf61": {
      "model_module": "@jupyter-widgets/base",
      "model_module_version": "1.0.0",
      "model_name": "LayoutModel",
      "state": {}
     },
     "cd75e5aaef4a4bdbb874ac05c53e6b36": {
      "model_module": "@jupyter-widgets/controls",
      "model_module_version": "1.0.0",
      "model_name": "LabelModel",
      "state": {
       "layout": "IPY_MODEL_e9f9d4d78c2c40e8a8bb5e91981697f0",
       "style": "IPY_MODEL_925fa13bf49541e49afe263089c0fe01"
      }
     },
     "cd99897944a84baf81098835ad94a41c": {
      "model_module": "@jupyter-widgets/controls",
      "model_module_version": "1.0.0",
      "model_name": "DescriptionStyleModel",
      "state": {
       "description_width": ""
      }
     },
     "cd9ab5bcb94a485a9fb18c87624ea3f9": {
      "model_module": "@jupyter-widgets/base",
      "model_module_version": "1.0.0",
      "model_name": "LayoutModel",
      "state": {}
     },
     "cda2121cce724426ab8177365871301c": {
      "model_module": "@jupyter-widgets/base",
      "model_module_version": "1.0.0",
      "model_name": "LayoutModel",
      "state": {}
     },
     "cdcce36f7fea45cbb4ea451141f598d5": {
      "model_module": "@jupyter-widgets/controls",
      "model_module_version": "1.0.0",
      "model_name": "DescriptionStyleModel",
      "state": {
       "description_width": ""
      }
     },
     "ce1fe2ce11cb4314875e1c803170d0d4": {
      "model_module": "@jupyter-widgets/controls",
      "model_module_version": "1.0.0",
      "model_name": "LabelModel",
      "state": {
       "layout": "IPY_MODEL_59573c76de0940ffa7d270f9c2ddd998",
       "style": "IPY_MODEL_187db5d28beb447faa3fb1a4291079fa",
       "value": "$\\large T$ -сила натяжения струны"
      }
     },
     "ce3246634077456a8a4a75174a655ca1": {
      "model_module": "@jupyter-widgets/controls",
      "model_module_version": "1.0.0",
      "model_name": "HBoxModel",
      "state": {
       "children": [
        "IPY_MODEL_5830ff1e1b1c472b8fd30d798b08e682",
        "IPY_MODEL_cf6a62a91f1548cfbd578df952e6baa1"
       ],
       "layout": "IPY_MODEL_f3a44c6ea98b4eda89302f3506e70e81"
      }
     },
     "ce43213800044794a5a670d3438bf326": {
      "model_module": "@jupyter-widgets/controls",
      "model_module_version": "1.0.0",
      "model_name": "DescriptionStyleModel",
      "state": {
       "description_width": ""
      }
     },
     "ce5f5aa45b7e42fbb543e423087bce0e": {
      "model_module": "@jupyter-widgets/controls",
      "model_module_version": "1.0.0",
      "model_name": "LabelModel",
      "state": {
       "layout": "IPY_MODEL_6d34d3c46df44e30940a27ad573d5684",
       "style": "IPY_MODEL_30939196686f4f65a41272e046a45c30",
       "value": "Длительность анимации"
      }
     },
     "ce7318f2d1064762b1df5b6fc28f2774": {
      "model_module": "@jupyter-widgets/controls",
      "model_module_version": "1.0.0",
      "model_name": "DescriptionStyleModel",
      "state": {
       "description_width": ""
      }
     },
     "ceaa45733c8a4f25b460cee51018b1e8": {
      "model_module": "@jupyter-widgets/controls",
      "model_module_version": "1.0.0",
      "model_name": "BoundedFloatTextModel",
      "state": {
       "layout": "IPY_MODEL_0b2c832b329f48e1a088a9a2651d5f18",
       "max": 0.5,
       "min": 0.25,
       "step": 0.01,
       "style": "IPY_MODEL_373497e18f16420ab08f16690b81a642",
       "value": 0.375
      }
     },
     "ceabdc27f45b497e86c24e23568d2caa": {
      "model_module": "@jupyter-widgets/base",
      "model_module_version": "1.0.0",
      "model_name": "LayoutModel",
      "state": {}
     },
     "ceca4559403e426c83b1d4b6446a522c": {
      "model_module": "@jupyter-widgets/controls",
      "model_module_version": "1.0.0",
      "model_name": "BoundedIntTextModel",
      "state": {
       "layout": "IPY_MODEL_1942cdc1355f46db9a1893911075b4ec",
       "max": 1000,
       "min": 50,
       "step": 100,
       "style": "IPY_MODEL_afaf82bfd3db4b73a6d09d9933a5836b",
       "value": 100
      }
     },
     "cecf8e54e32a4075827ffffba4eb1b27": {
      "model_module": "@jupyter-widgets/base",
      "model_module_version": "1.0.0",
      "model_name": "LayoutModel",
      "state": {}
     },
     "cee62d522c1648bdba1ffad0066c1e77": {
      "model_module": "@jupyter-widgets/base",
      "model_module_version": "1.0.0",
      "model_name": "LayoutModel",
      "state": {}
     },
     "cf0f18b249004634a4fee36a18eb3f68": {
      "model_module": "@jupyter-widgets/controls",
      "model_module_version": "1.0.0",
      "model_name": "HBoxModel",
      "state": {
       "children": [
        "IPY_MODEL_ef60aba1962449d6b969efb6ccdca1d2",
        "IPY_MODEL_5f5e062763c8400da1fe9691ba1cdb3d"
       ],
       "layout": "IPY_MODEL_b5156d3822f74bad9a1e04e361aead9a"
      }
     },
     "cf15d942892b4890b27b0a86cafc96ba": {
      "model_module": "@jupyter-widgets/controls",
      "model_module_version": "1.0.0",
      "model_name": "LabelModel",
      "state": {
       "layout": "IPY_MODEL_236b607b38054d879ab2b5f13663d2b7",
       "style": "IPY_MODEL_b65e024c04e14358a8d7532f48cfbbcb"
      }
     },
     "cf1afda16d7b41c282c0ece1be7c7116": {
      "model_module": "@jupyter-widgets/controls",
      "model_module_version": "1.0.0",
      "model_name": "HBoxModel",
      "state": {
       "children": [
        "IPY_MODEL_3f560608f7dd457fa1c55765d4c85230",
        "IPY_MODEL_c083a3eb5c7a4ec99b37e9af8471e893"
       ],
       "layout": "IPY_MODEL_990244f0018b41a7bdce10ca39d91ea8"
      }
     },
     "cf1d2c6f1e314fe2aca58ad99cfc16e0": {
      "model_module": "@jupyter-widgets/controls",
      "model_module_version": "1.0.0",
      "model_name": "HBoxModel",
      "state": {
       "children": [
        "IPY_MODEL_dfde6c32b23c4c0eb577354b6fea0ee8",
        "IPY_MODEL_baf1a982afad40f8a43e8d968c88350d"
       ],
       "layout": "IPY_MODEL_5e9cf95ac98747709c247cf56bf31141"
      }
     },
     "cf34f48ccc8e4be6a5185005a8db4448": {
      "model_module": "@jupyter-widgets/controls",
      "model_module_version": "1.0.0",
      "model_name": "LabelModel",
      "state": {
       "layout": "IPY_MODEL_8d87725201a14510a8835122a90998c1",
       "style": "IPY_MODEL_e342c4e08fae4ebbae9fced83e460109"
      }
     },
     "cf6a62a91f1548cfbd578df952e6baa1": {
      "model_module": "@jupyter-widgets/controls",
      "model_module_version": "1.0.0",
      "model_name": "BoundedFloatTextModel",
      "state": {
       "layout": "IPY_MODEL_79272460a81547b08d00de2042a5f3bc",
       "max": 0.1,
       "step": 0.001,
       "style": "IPY_MODEL_3b2e53c307a349fa8573b07354167342",
       "value": 0.01
      }
     },
     "d003cda36fd7437bbf81b8e9fa4e5a20": {
      "model_module": "@jupyter-widgets/base",
      "model_module_version": "1.0.0",
      "model_name": "LayoutModel",
      "state": {}
     },
     "d0294ec3e6b8427ab8f621afddaaa235": {
      "model_module": "@jupyter-widgets/controls",
      "model_module_version": "1.0.0",
      "model_name": "DescriptionStyleModel",
      "state": {
       "description_width": ""
      }
     },
     "d044366073294474b55a9db53be06f80": {
      "model_module": "@jupyter-widgets/base",
      "model_module_version": "1.0.0",
      "model_name": "LayoutModel",
      "state": {}
     },
     "d059bdc7e7de4ff5945252558344de02": {
      "model_module": "@jupyter-widgets/controls",
      "model_module_version": "1.0.0",
      "model_name": "BoundedIntTextModel",
      "state": {
       "layout": "IPY_MODEL_9ca11a37e7444d7d85ee651014e790cb",
       "max": 1000,
       "min": 50,
       "step": 100,
       "style": "IPY_MODEL_ed02326fb2864ce3ae08320f36e5775c",
       "value": 100
      }
     },
     "d0b51c006e1149daa598d8a83817c79e": {
      "model_module": "@jupyter-widgets/controls",
      "model_module_version": "1.0.0",
      "model_name": "LabelModel",
      "state": {
       "layout": "IPY_MODEL_9cbc633f9f8d4485bd8a35e827579ec9",
       "style": "IPY_MODEL_f2459da15fc344cf9daf3b47a4b5c22e",
       "value": "$\\large t$ -характерное время нарастания/спадания импульса"
      }
     },
     "d0c56318a4144b9e930a8147644003cf": {
      "model_module": "@jupyter-widgets/controls",
      "model_module_version": "1.0.0",
      "model_name": "DescriptionStyleModel",
      "state": {
       "description_width": ""
      }
     },
     "d0c81aaf39df4cec8bad3c2d122a3b90": {
      "model_module": "@jupyter-widgets/controls",
      "model_module_version": "1.0.0",
      "model_name": "LabelModel",
      "state": {
       "layout": "IPY_MODEL_85b5362c2c3244038bc167b13c1ee3d6",
       "style": "IPY_MODEL_50d2dd419e6a4ffabb2ee1bc00d7a373"
      }
     },
     "d0cdb37c4d8f4053b9badedba2133ae8": {
      "model_module": "@jupyter-widgets/base",
      "model_module_version": "1.0.0",
      "model_name": "LayoutModel",
      "state": {}
     },
     "d123e520205b43f89c8237444005b5bd": {
      "model_module": "@jupyter-widgets/controls",
      "model_module_version": "1.0.0",
      "model_name": "HBoxModel",
      "state": {
       "children": [
        "IPY_MODEL_e3142bef4e5048dcb4aa58a3b8c5e6eb",
        "IPY_MODEL_9553e31462304641aef11cfe933d1114"
       ],
       "layout": "IPY_MODEL_8b9ffb3a250f4dc5bb7c7393c0c5f61e"
      }
     },
     "d12ff7fb552843baa60d34bb5a9b7103": {
      "model_module": "@jupyter-widgets/base",
      "model_module_version": "1.0.0",
      "model_name": "LayoutModel",
      "state": {}
     },
     "d1481b55c0e34de3b1a447e017e6e04c": {
      "model_module": "@jupyter-widgets/controls",
      "model_module_version": "1.0.0",
      "model_name": "LabelModel",
      "state": {
       "layout": "IPY_MODEL_5d97d7d07d894cac90fac3673b29cf79",
       "style": "IPY_MODEL_d3d9c43f44c14ecdb97b464a09f0aa36",
       "value": "$\\large p_l$ -линейная плотность"
      }
     },
     "d1662e93363446d0994ab6ed689cc33c": {
      "model_module": "@jupyter-widgets/controls",
      "model_module_version": "1.0.0",
      "model_name": "SliderStyleModel",
      "state": {
       "description_width": ""
      }
     },
     "d166bb100a904d7f8446773c368bb7d1": {
      "model_module": "@jupyter-widgets/base",
      "model_module_version": "1.0.0",
      "model_name": "LayoutModel",
      "state": {}
     },
     "d21d7ff347714c27a1f2ba9f79f86f36": {
      "model_module": "@jupyter-widgets/controls",
      "model_module_version": "1.0.0",
      "model_name": "DescriptionStyleModel",
      "state": {
       "description_width": ""
      }
     },
     "d23156061b1847c8a3a3e8195af9d425": {
      "model_module": "@jupyter-widgets/controls",
      "model_module_version": "1.0.0",
      "model_name": "LabelModel",
      "state": {
       "layout": "IPY_MODEL_ade7adc5ebe64884961e8dbeda26c128",
       "style": "IPY_MODEL_7b9b988504b14761a421808214ea0321",
       "value": "Количество шагов по $x$:"
      }
     },
     "d26c80150faf472ebd1cec2b26ad0c61": {
      "model_module": "@jupyter-widgets/controls",
      "model_module_version": "1.0.0",
      "model_name": "DescriptionStyleModel",
      "state": {
       "description_width": ""
      }
     },
     "d29da5e8e38742ed8c209580ca379efd": {
      "model_module": "@jupyter-widgets/controls",
      "model_module_version": "1.0.0",
      "model_name": "HBoxModel",
      "state": {
       "children": [
        "IPY_MODEL_d3f1a4003b1e43dcb9b41f7e13005992",
        "IPY_MODEL_46a16860c4394c6da0069ff67dd75bdc"
       ],
       "layout": "IPY_MODEL_eec10e67ce2849ac8695aaf2c827bf36"
      }
     },
     "d2b010b0f2584d9aa2b69110ebf385ef": {
      "model_module": "@jupyter-widgets/controls",
      "model_module_version": "1.0.0",
      "model_name": "LabelModel",
      "state": {
       "layout": "IPY_MODEL_05af4b5d78374a8a8fb8663d69dba1e6",
       "style": "IPY_MODEL_1ee4e8ac9c704cd7923fd5cbaedecafa",
       "value": "$\\large p_l$ -линейная плотность"
      }
     },
     "d2c02853bb634725a4dbc37d4d7993af": {
      "model_module": "@jupyter-widgets/controls",
      "model_module_version": "1.0.0",
      "model_name": "LabelModel",
      "state": {
       "layout": "IPY_MODEL_146aa93e5f7845aea88ca673898b6161",
       "style": "IPY_MODEL_ac6aef031fd743f484955283cdf99536",
       "value": "Количество шагов по $t$:"
      }
     },
     "d2c289f12ff647138b6fc341ca7d4806": {
      "model_module": "@jupyter-widgets/controls",
      "model_module_version": "1.0.0",
      "model_name": "BoundedFloatTextModel",
      "state": {
       "layout": "IPY_MODEL_ab2e903940f8496eaf07c83758ab1e8f",
       "step": 0.01,
       "style": "IPY_MODEL_355f98c28e1d40aca9011d66828f6673",
       "value": 1
      }
     },
     "d2dbc7ba38824ae6adac157e59bfa2bc": {
      "model_module": "@jupyter-widgets/base",
      "model_module_version": "1.0.0",
      "model_name": "LayoutModel",
      "state": {}
     },
     "d2ff04a496dc474ab81404a82757f487": {
      "model_module": "@jupyter-widgets/controls",
      "model_module_version": "1.0.0",
      "model_name": "DescriptionStyleModel",
      "state": {
       "description_width": ""
      }
     },
     "d327ec338d1f41dda1c90454ef5f93de": {
      "model_module": "@jupyter-widgets/controls",
      "model_module_version": "1.0.0",
      "model_name": "ToggleButtonsStyleModel",
      "state": {
       "button_width": "",
       "description_width": ""
      }
     },
     "d34fcd2f61944b778f01c15713200581": {
      "model_module": "@jupyter-widgets/base",
      "model_module_version": "1.0.0",
      "model_name": "LayoutModel",
      "state": {}
     },
     "d3d6863f79d543b6aac2c7feff94b846": {
      "model_module": "@jupyter-widgets/controls",
      "model_module_version": "1.0.0",
      "model_name": "ToggleButtonsModel",
      "state": {
       "_options_labels": [
        "Расчёт заданного числа шагов",
        "Расчёт с заданной точностью"
       ],
       "button_style": "",
       "description": "Режим работы:",
       "icons": [],
       "index": 0,
       "layout": "IPY_MODEL_16e935c8f5964bb2b0323e2968e73226",
       "style": "IPY_MODEL_81d9b56a6e1940d7aeb9c75232a69893",
       "tooltips": []
      }
     },
     "d3d8e14a89294f4c98d77ebe69e2ae14": {
      "model_module": "@jupyter-widgets/controls",
      "model_module_version": "1.0.0",
      "model_name": "DescriptionStyleModel",
      "state": {
       "description_width": ""
      }
     },
     "d3d9c43f44c14ecdb97b464a09f0aa36": {
      "model_module": "@jupyter-widgets/controls",
      "model_module_version": "1.0.0",
      "model_name": "DescriptionStyleModel",
      "state": {
       "description_width": ""
      }
     },
     "d3f1a4003b1e43dcb9b41f7e13005992": {
      "model_module": "@jupyter-widgets/controls",
      "model_module_version": "1.0.0",
      "model_name": "BoundedFloatTextModel",
      "state": {
       "continuous_update": true,
       "description": "Time:",
       "layout": "IPY_MODEL_1ab48634ea144bfd9c33cf272d4e2c15",
       "max": 1,
       "style": "IPY_MODEL_2f94187483ff41b0ab48d4f8b0757525",
       "value": 1
      }
     },
     "d40666014248457196650b318a0a0a6d": {
      "model_module": "@jupyter-widgets/controls",
      "model_module_version": "1.0.0",
      "model_name": "HBoxModel",
      "state": {
       "children": [
        "IPY_MODEL_a5cdf626cd4040569dbf76a9f7c8329c",
        "IPY_MODEL_8fcd8cfa4fdc435c9ae087974806b585"
       ],
       "layout": "IPY_MODEL_5a8befb3c5a9473085e5c0f753673dd8"
      }
     },
     "d45c784fbae24670850b7c8a97e0bc52": {
      "model_module": "@jupyter-widgets/base",
      "model_module_version": "1.0.0",
      "model_name": "LayoutModel",
      "state": {}
     },
     "d49a036b7bae4d2ca961d5155c0a48aa": {
      "model_module": "@jupyter-widgets/controls",
      "model_module_version": "1.0.0",
      "model_name": "DescriptionStyleModel",
      "state": {
       "description_width": ""
      }
     },
     "d4cfa32e663a4ca78cc555c26d8a509f": {
      "model_module": "@jupyter-widgets/base",
      "model_module_version": "1.0.0",
      "model_name": "LayoutModel",
      "state": {}
     },
     "d4f2c6c619aa4ef39d5fcfae3c6ff6d7": {
      "model_module": "@jupyter-widgets/controls",
      "model_module_version": "1.0.0",
      "model_name": "DescriptionStyleModel",
      "state": {
       "description_width": ""
      }
     },
     "d537daca28914bb184ed657c0e3c9436": {
      "model_module": "@jupyter-widgets/controls",
      "model_module_version": "1.0.0",
      "model_name": "DescriptionStyleModel",
      "state": {
       "description_width": ""
      }
     },
     "d55b981a5c9245929188d1f052568693": {
      "model_module": "@jupyter-widgets/controls",
      "model_module_version": "1.0.0",
      "model_name": "HBoxModel",
      "state": {
       "children": [
        "IPY_MODEL_6ad7ec40f2904d3594b2ee693ccf6298",
        "IPY_MODEL_cf6a62a91f1548cfbd578df952e6baa1"
       ],
       "layout": "IPY_MODEL_3918eba0ad4b4e03b461d9a9da2f4684"
      }
     },
     "d5894114845048779e465675626148ee": {
      "model_module": "@jupyter-widgets/base",
      "model_module_version": "1.0.0",
      "model_name": "LayoutModel",
      "state": {}
     },
     "d5b7bd91547c4c6080ec223a87a06d56": {
      "model_module": "@jupyter-widgets/base",
      "model_module_version": "1.0.0",
      "model_name": "LayoutModel",
      "state": {}
     },
     "d5ba840dd1f3453da058e7b01f592457": {
      "model_module": "@jupyter-widgets/base",
      "model_module_version": "1.0.0",
      "model_name": "LayoutModel",
      "state": {}
     },
     "d5fa77f2565d4596ba0e2e2df7874e25": {
      "model_module": "@jupyter-widgets/controls",
      "model_module_version": "1.0.0",
      "model_name": "FloatSliderModel",
      "state": {
       "layout": "IPY_MODEL_737edc7d793d4127bd8c42812304d9db",
       "max": 20,
       "min": 0.1,
       "readout_format": "f",
       "step": 0.1,
       "style": "IPY_MODEL_5375c6d81b2f40889a67d97b3c09b262",
       "value": 1
      }
     },
     "d603fcc99c234d778d710ea2bddf4fa1": {
      "model_module": "@jupyter-widgets/controls",
      "model_module_version": "1.0.0",
      "model_name": "DescriptionStyleModel",
      "state": {
       "description_width": ""
      }
     },
     "d619542bc3f647f6af4a8ebb6cece219": {
      "model_module": "@jupyter-widgets/controls",
      "model_module_version": "1.0.0",
      "model_name": "FloatSliderModel",
      "state": {
       "layout": "IPY_MODEL_ed05ce4d3198427898fb324a7b0a66f5",
       "max": 20,
       "min": 0.1,
       "readout_format": "f",
       "step": 0.1,
       "style": "IPY_MODEL_64232b923fcd45d0ac72deb41de0c517",
       "value": 1
      }
     },
     "d646739aa84f4d7f9472cc5176a29ff7": {
      "model_module": "@jupyter-widgets/controls",
      "model_module_version": "1.0.0",
      "model_name": "SliderStyleModel",
      "state": {
       "description_width": ""
      }
     },
     "d649182bf02c4b81b65bfdcb2a836e7f": {
      "model_module": "@jupyter-widgets/controls",
      "model_module_version": "1.0.0",
      "model_name": "VBoxModel",
      "state": {
       "children": [
        "IPY_MODEL_af4a63ff79734edb9e3cab05e3d3d3e4",
        "IPY_MODEL_74c2e37194c845d08d6803a1ed022ef1"
       ],
       "layout": "IPY_MODEL_c6513abf44be4971bdf8a11422dc116b"
      }
     },
     "d6a36ef12f5942ddb075134fae08fd5d": {
      "model_module": "@jupyter-widgets/base",
      "model_module_version": "1.0.0",
      "model_name": "LayoutModel",
      "state": {}
     },
     "d6b0a6fb066f4254801d9b78072c784d": {
      "model_module": "@jupyter-widgets/base",
      "model_module_version": "1.0.0",
      "model_name": "LayoutModel",
      "state": {}
     },
     "d6b2f02dd413478ca0e57141ef7ac509": {
      "model_module": "@jupyter-widgets/controls",
      "model_module_version": "1.0.0",
      "model_name": "LabelModel",
      "state": {
       "layout": "IPY_MODEL_d6e0cc9f49f740f1af0295f0ecd9142d",
       "style": "IPY_MODEL_c56fb1d73aa947e79b9052d4a221911d",
       "value": "$\\large t$ -характерное время нарастания/спадания импульса"
      }
     },
     "d6cc80d8b95840e09b20a68ecd06901f": {
      "model_module": "@jupyter-widgets/controls",
      "model_module_version": "1.0.0",
      "model_name": "DescriptionStyleModel",
      "state": {
       "description_width": ""
      }
     },
     "d6e0cc9f49f740f1af0295f0ecd9142d": {
      "model_module": "@jupyter-widgets/base",
      "model_module_version": "1.0.0",
      "model_name": "LayoutModel",
      "state": {}
     },
     "d6e67dd145e443e0a2f0d5056792b92f": {
      "model_module": "@jupyter-widgets/controls",
      "model_module_version": "1.0.0",
      "model_name": "LabelModel",
      "state": {
       "layout": "IPY_MODEL_59a75c7240864ce99c182d00d1574f18",
       "style": "IPY_MODEL_b35f1caa79c046358235da3a34f490aa",
       "value": "Количество шагов по $t$:"
      }
     },
     "d6e8de235c1b4c06aecf1db2133d6dff": {
      "model_module": "@jupyter-widgets/base",
      "model_module_version": "1.0.0",
      "model_name": "LayoutModel",
      "state": {}
     },
     "d6f59fcd7057401ebba7086668d869d7": {
      "model_module": "@jupyter-widgets/controls",
      "model_module_version": "1.0.0",
      "model_name": "VBoxModel",
      "state": {
       "children": [
        "IPY_MODEL_66c4f90577b048608d890903562acf09",
        "IPY_MODEL_60758c45fcdf4b179814f66758b1f648",
        "IPY_MODEL_fd9e95d5b3844f27bb40d5162497159a",
        "IPY_MODEL_19356761ea094a0599d09fa2e9e99d1f",
        "IPY_MODEL_dfed1653f8a147b5a55168baa6f86b38",
        "IPY_MODEL_8b727703ec754642bccdd83cb2ba2f2c"
       ],
       "layout": "IPY_MODEL_239a400289054512a0a57d25533e44c8"
      }
     },
     "d734cc50315c40068b340983d4d0c8e2": {
      "model_module": "@jupyter-widgets/controls",
      "model_module_version": "1.0.0",
      "model_name": "DescriptionStyleModel",
      "state": {
       "description_width": ""
      }
     },
     "d7b0421fcdb544bb9697d4ff1f4cd27d": {
      "model_module": "@jupyter-widgets/controls",
      "model_module_version": "1.0.0",
      "model_name": "LabelModel",
      "state": {
       "layout": "IPY_MODEL_f2ed077c6392428eb01ee0d286629ae2",
       "style": "IPY_MODEL_b1340625002c4a67beb4a5c5576df1b1",
       "value": "$\\large t_0$ -время подачи импульса"
      }
     },
     "d7d90ff9ca144e31bbd1500a5247b03b": {
      "model_module": "@jupyter-widgets/base",
      "model_module_version": "1.0.0",
      "model_name": "LayoutModel",
      "state": {}
     },
     "d7ea0342292c484aa9212e7aa9eeff21": {
      "model_module": "@jupyter-widgets/controls",
      "model_module_version": "1.0.0",
      "model_name": "DescriptionStyleModel",
      "state": {
       "description_width": ""
      }
     },
     "d7eca357441f420ea5933d182f2369f8": {
      "model_module": "@jupyter-widgets/controls",
      "model_module_version": "1.0.0",
      "model_name": "IntSliderModel",
      "state": {
       "description": "Step:",
       "layout": "IPY_MODEL_0c354a6ed230498ab81e394e2cd58d4e",
       "max": 199,
       "style": "IPY_MODEL_651ae1392400457abe0943e79ccb6000"
      }
     },
     "d820dd6a246a4d3e83f0f6e79ef3b8d0": {
      "model_module": "@jupyter-widgets/controls",
      "model_module_version": "1.0.0",
      "model_name": "DescriptionStyleModel",
      "state": {
       "description_width": ""
      }
     },
     "d8527c645ea0489090e2251b0ced5eb0": {
      "model_module": "@jupyter-widgets/controls",
      "model_module_version": "1.0.0",
      "model_name": "BoundedIntTextModel",
      "state": {
       "layout": "IPY_MODEL_5efa2b0dc0554b61aaf5e6a26d344451",
       "max": 1000,
       "min": 50,
       "step": 100,
       "style": "IPY_MODEL_e6c3ce1fef544939ae8121627a29db18",
       "value": 200
      }
     },
     "d86348cfccc94263acd1b661d033a16e": {
      "model_module": "@jupyter-widgets/controls",
      "model_module_version": "1.0.0",
      "model_name": "ToggleButtonsStyleModel",
      "state": {
       "button_width": "",
       "description_width": ""
      }
     },
     "d8adcf3667964a06bc8563a2f12b5a52": {
      "model_module": "@jupyter-widgets/controls",
      "model_module_version": "1.0.0",
      "model_name": "ToggleButtonsModel",
      "state": {
       "_options_labels": [
        "Расчёт заданного числа шагов",
        "Расчёт с заданной точностью"
       ],
       "button_style": "",
       "description": "Режим работы:",
       "icons": [],
       "index": 0,
       "layout": "IPY_MODEL_854678d92f8f4d83ac8e32f7da06fe92",
       "style": "IPY_MODEL_4a37581b53e146f686dd936ee17da962",
       "tooltips": []
      }
     },
     "d901bf99dd024b0f997e213f61b1eb67": {
      "model_module": "@jupyter-widgets/base",
      "model_module_version": "1.0.0",
      "model_name": "LayoutModel",
      "state": {}
     },
     "d92cfbbce7ca48daa672d47882fa86f3": {
      "model_module": "@jupyter-widgets/base",
      "model_module_version": "1.0.0",
      "model_name": "LayoutModel",
      "state": {}
     },
     "d93870e59775488791e9c0c62c90fead": {
      "model_module": "@jupyter-widgets/controls",
      "model_module_version": "1.0.0",
      "model_name": "LabelModel",
      "state": {
       "layout": "IPY_MODEL_165b245c2fd340278e45dc65fb0da88f",
       "style": "IPY_MODEL_d21d7ff347714c27a1f2ba9f79f86f36",
       "value": "Количество шагов по $x$:"
      }
     },
     "d94d5f5ca2434531bd1717759f4b7dae": {
      "model_module": "@jupyter-widgets/controls",
      "model_module_version": "1.0.0",
      "model_name": "DescriptionStyleModel",
      "state": {
       "description_width": ""
      }
     },
     "d9860bf3c8ae4b29a62cdde5e87b6fb2": {
      "model_module": "@jupyter-widgets/base",
      "model_module_version": "1.0.0",
      "model_name": "LayoutModel",
      "state": {}
     },
     "d9a2d38089ef4b7aa1d9ce09665c136d": {
      "model_module": "@jupyter-widgets/controls",
      "model_module_version": "1.0.0",
      "model_name": "HBoxModel",
      "state": {
       "children": [
        "IPY_MODEL_b5b1170521fe45e7b0be1b5da89c3c91",
        "IPY_MODEL_9163cf440db64e4ab43067d9b0a691e4"
       ],
       "layout": "IPY_MODEL_672a63f68eca48509af2c0f980f1c025"
      }
     },
     "d9ceba018afb458bb260cb7ea2e543c6": {
      "model_module": "@jupyter-widgets/controls",
      "model_module_version": "1.0.0",
      "model_name": "LabelModel",
      "state": {
       "layout": "IPY_MODEL_eec167f712f5446e9483abc9dc9fa4b3",
       "style": "IPY_MODEL_ab61c0d854f440c29578dabbed9cd090",
       "value": "Количество шагов по $t$:"
      }
     },
     "d9eef4fe8bac4dbd9d911645c658a515": {
      "model_module": "@jupyter-widgets/base",
      "model_module_version": "1.0.0",
      "model_name": "LayoutModel",
      "state": {}
     },
     "d9efe41323bd476180e70bb6337aef73": {
      "model_module": "@jupyter-widgets/base",
      "model_module_version": "1.0.0",
      "model_name": "LayoutModel",
      "state": {}
     },
     "d9fd4d3dda6d4d299c40e85845ebe6b9": {
      "model_module": "@jupyter-widgets/base",
      "model_module_version": "1.0.0",
      "model_name": "LayoutModel",
      "state": {}
     },
     "d9fddb51ba5c47469abf989fd72a60ff": {
      "model_module": "@jupyter-widgets/controls",
      "model_module_version": "1.0.0",
      "model_name": "LabelModel",
      "state": {
       "layout": "IPY_MODEL_d901bf99dd024b0f997e213f61b1eb67",
       "style": "IPY_MODEL_0db7678c21104d278b9af3c6f29abbfb",
       "value": "Time:0.0"
      }
     },
     "da173c8c905440fea27dbe16b739f3b7": {
      "model_module": "@jupyter-widgets/controls",
      "model_module_version": "1.0.0",
      "model_name": "HBoxModel",
      "state": {
       "children": [
        "IPY_MODEL_ac80f93b92b049eda3d5e74e68a186a7",
        "IPY_MODEL_14f81b5bf03f4f07bef4c2a65ae2a2a1"
       ],
       "layout": "IPY_MODEL_4a2824ef95b249a3b97cbd92d5583170"
      }
     },
     "da306637aa31434eb5a319e5549ec7e5": {
      "model_module": "@jupyter-widgets/base",
      "model_module_version": "1.0.0",
      "model_name": "LayoutModel",
      "state": {}
     },
     "da348c8165b24ea6a0df5ceefded9399": {
      "model_module": "@jupyter-widgets/controls",
      "model_module_version": "1.0.0",
      "model_name": "BoundedFloatTextModel",
      "state": {
       "layout": "IPY_MODEL_670f72be4f0f4fdfbdded14d645dae53",
       "max": 0.5,
       "min": 0.25,
       "step": 0.01,
       "style": "IPY_MODEL_a8a1c72b4dea404791a86671de1d13c4",
       "value": 0.375
      }
     },
     "da566534c1bb49f79e99c5b4c6110593": {
      "model_module": "@jupyter-widgets/controls",
      "model_module_version": "1.0.0",
      "model_name": "DescriptionStyleModel",
      "state": {
       "description_width": ""
      }
     },
     "da5fb2c1a98743cf864410fc5e4e52af": {
      "model_module": "@jupyter-widgets/controls",
      "model_module_version": "1.0.0",
      "model_name": "HBoxModel",
      "state": {
       "children": [
        "IPY_MODEL_eecbad26e5ff46709353bf97baca4fd1",
        "IPY_MODEL_3e36e0c81d494289b3bdf7c5fdedea77"
       ],
       "layout": "IPY_MODEL_3091e72416474f79989dd2b103c8fd2e"
      }
     },
     "da6a7c060da549c1b365cb2465e23dc8": {
      "model_module": "@jupyter-widgets/controls",
      "model_module_version": "1.0.0",
      "model_name": "DescriptionStyleModel",
      "state": {
       "description_width": ""
      }
     },
     "da8490b2bfd842e7af3fe869367ad453": {
      "model_module": "@jupyter-widgets/controls",
      "model_module_version": "1.0.0",
      "model_name": "HBoxModel",
      "state": {
       "children": [
        "IPY_MODEL_2ef0bf341f73409b81b62fd82805903a",
        "IPY_MODEL_3cee62ffb3d24158992b7afdf6c34eab"
       ],
       "layout": "IPY_MODEL_f76cdfb291fd4a0fbb8b90fbdba680c3"
      }
     },
     "da8cd4e0a4944f67ae99287da3e973e6": {
      "model_module": "@jupyter-widgets/controls",
      "model_module_version": "1.0.0",
      "model_name": "DescriptionStyleModel",
      "state": {
       "description_width": ""
      }
     },
     "da970663263a44e7996cf6e95a544c59": {
      "model_module": "@jupyter-widgets/base",
      "model_module_version": "1.0.0",
      "model_name": "LayoutModel",
      "state": {}
     },
     "dab3140269b14ed1955a663ce84b1a46": {
      "model_module": "@jupyter-widgets/controls",
      "model_module_version": "1.0.0",
      "model_name": "HBoxModel",
      "state": {
       "children": [
        "IPY_MODEL_4aa6ef114c5b438bb863586368646960",
        "IPY_MODEL_8afb9a975fc540ca8cf9feaa857b9277"
       ],
       "layout": "IPY_MODEL_4f66776b3f394f53ad6f508e3eeca57b"
      }
     },
     "dabad710132a4e1a8108bdec1702fa3b": {
      "model_module": "@jupyter-widgets/controls",
      "model_module_version": "1.0.0",
      "model_name": "LabelModel",
      "state": {
       "layout": "IPY_MODEL_f07a6aeda2794de6acd23ab09e411922",
       "style": "IPY_MODEL_9a27f92f4af54522a29c4a530903ed08",
       "value": "Время симуляции:"
      }
     },
     "dac3e50eb74d4be4bf8c9e9cca0920aa": {
      "model_module": "@jupyter-widgets/base",
      "model_module_version": "1.0.0",
      "model_name": "LayoutModel",
      "state": {}
     },
     "dad6ad0fe975433186b96ac29a02b810": {
      "model_module": "@jupyter-widgets/controls",
      "model_module_version": "1.0.0",
      "model_name": "DescriptionStyleModel",
      "state": {
       "description_width": ""
      }
     },
     "db03712f10d446a6ac836620b1df4947": {
      "model_module": "@jupyter-widgets/controls",
      "model_module_version": "1.0.0",
      "model_name": "DescriptionStyleModel",
      "state": {
       "description_width": ""
      }
     },
     "db056da35c004eb8a0185294ffb818a1": {
      "model_module": "@jupyter-widgets/controls",
      "model_module_version": "1.0.0",
      "model_name": "FloatSliderModel",
      "state": {
       "layout": "IPY_MODEL_5a99f8a9d825415d84eeefe64d29d3b0",
       "max": 20,
       "min": 0.1,
       "readout_format": "f",
       "step": 0.1,
       "style": "IPY_MODEL_ae238575aabd4bc39ff572f284d9832c",
       "value": 3
      }
     },
     "db6539bd703f4702b8d8d0a106f4de18": {
      "model_module": "@jupyter-widgets/base",
      "model_module_version": "1.0.0",
      "model_name": "LayoutModel",
      "state": {}
     },
     "db735ddfd38a47b8ae7792de1278482c": {
      "model_module": "@jupyter-widgets/controls",
      "model_module_version": "1.0.0",
      "model_name": "DescriptionStyleModel",
      "state": {
       "description_width": ""
      }
     },
     "db8dc0e7b6d54dbebf577648f13a9172": {
      "model_module": "@jupyter-widgets/base",
      "model_module_version": "1.0.0",
      "model_name": "LayoutModel",
      "state": {}
     },
     "dbaeacf01d2d4001b00291891c6e937c": {
      "model_module": "@jupyter-widgets/base",
      "model_module_version": "1.0.0",
      "model_name": "LayoutModel",
      "state": {}
     },
     "dbb479c18abe4c3ea5fbf702b6be09a3": {
      "model_module": "@jupyter-widgets/base",
      "model_module_version": "1.0.0",
      "model_name": "LayoutModel",
      "state": {}
     },
     "dc3d1e7eec9949aa862ff34f0386c5c9": {
      "model_module": "@jupyter-widgets/base",
      "model_module_version": "1.0.0",
      "model_name": "LayoutModel",
      "state": {}
     },
     "dc5cd7b8c77f49a88b62677aa272e9c3": {
      "model_module": "@jupyter-widgets/base",
      "model_module_version": "1.0.0",
      "model_name": "LayoutModel",
      "state": {}
     },
     "dc674361165b4681a5f13f170e8d37c2": {
      "model_module": "@jupyter-widgets/controls",
      "model_module_version": "1.0.0",
      "model_name": "HBoxModel",
      "state": {
       "children": [
        "IPY_MODEL_d23156061b1847c8a3a3e8195af9d425",
        "IPY_MODEL_1b3701571f2f4bac9646b5dc6a28d55c"
       ],
       "layout": "IPY_MODEL_66f8a041450342318a7f3e51b1b599e3"
      }
     },
     "dc8e534a7f7c4a67a674602a7cc7c56e": {
      "model_module": "@jupyter-widgets/controls",
      "model_module_version": "1.0.0",
      "model_name": "DescriptionStyleModel",
      "state": {
       "description_width": ""
      }
     },
     "dc959d86d16a4b0cab8bcc94fffacf8d": {
      "model_module": "@jupyter-widgets/controls",
      "model_module_version": "1.0.0",
      "model_name": "DescriptionStyleModel",
      "state": {
       "description_width": ""
      }
     },
     "dcb5e45cdb3b4c0698f9700e21f3a706": {
      "model_module": "@jupyter-widgets/controls",
      "model_module_version": "1.0.0",
      "model_name": "DescriptionStyleModel",
      "state": {
       "description_width": ""
      }
     },
     "dce05101a12b469d8e20cd4e582ed701": {
      "model_module": "@jupyter-widgets/controls",
      "model_module_version": "1.0.0",
      "model_name": "DescriptionStyleModel",
      "state": {
       "description_width": ""
      }
     },
     "dceb2d6390434de2a7da26f1d1511b92": {
      "model_module": "@jupyter-widgets/controls",
      "model_module_version": "1.0.0",
      "model_name": "VBoxModel",
      "state": {
       "children": [
        "IPY_MODEL_63440777c40b4ff48e8db1577e02647e",
        "IPY_MODEL_cf1afda16d7b41c282c0ece1be7c7116"
       ],
       "layout": "IPY_MODEL_be02e168038f40aebd20e4878b7d64ec"
      }
     },
     "dd19e09cce514c2c9bb49bfdc68d7dde": {
      "model_module": "@jupyter-widgets/controls",
      "model_module_version": "1.0.0",
      "model_name": "BoundedFloatTextModel",
      "state": {
       "continuous_update": true,
       "description": "Time:",
       "layout": "IPY_MODEL_d6e8de235c1b4c06aecf1db2133d6dff",
       "max": 1,
       "style": "IPY_MODEL_6f9c16dbdc0748fd85b60c75a11c1900",
       "value": 1
      }
     },
     "dd6d441a342d47639aff7ff78b505947": {
      "model_module": "@jupyter-widgets/controls",
      "model_module_version": "1.0.0",
      "model_name": "BoundedFloatTextModel",
      "state": {
       "continuous_update": true,
       "description": "Time:",
       "layout": "IPY_MODEL_80bfd9623cd94b74ad6a514811ceacde",
       "max": 1,
       "style": "IPY_MODEL_4b5407bbd7704356971962f4824db4b1",
       "value": 1
      }
     },
     "dd90384157814289b6ee8a36f5ac627e": {
      "model_module": "@jupyter-widgets/base",
      "model_module_version": "1.0.0",
      "model_name": "LayoutModel",
      "state": {}
     },
     "dde9bd7548b14f1dbf9911beaebf5162": {
      "model_module": "@jupyter-widgets/controls",
      "model_module_version": "1.0.0",
      "model_name": "LabelModel",
      "state": {
       "layout": "IPY_MODEL_2147ecf42c864cb4b74be70220df8be3",
       "style": "IPY_MODEL_e94d7b989e68497aa791fb30aa775ea8"
      }
     },
     "ddf18013a80446f98538928398503aea": {
      "model_module": "@jupyter-widgets/controls",
      "model_module_version": "1.0.0",
      "model_name": "HBoxModel",
      "state": {
       "children": [
        "IPY_MODEL_373726a96d9a4c6c826e1a6f9d4acdf4",
        "IPY_MODEL_fa500c0159064d60b20cc0e458dc8195"
       ],
       "layout": "IPY_MODEL_8131e10914d64eb3b86975e2083846de"
      }
     },
     "de2eb7a72e1146b287740cd45c6294d1": {
      "model_module": "@jupyter-widgets/controls",
      "model_module_version": "1.0.0",
      "model_name": "IntSliderModel",
      "state": {
       "description": "Step:",
       "layout": "IPY_MODEL_e21e765e021343409d74f085055ddbff",
       "max": 199,
       "style": "IPY_MODEL_0b87e4af76d6432baf0995a868be0f5a",
       "value": 7
      }
     },
     "de4e0909509e4a56b18d8662bb0524e2": {
      "model_module": "@jupyter-widgets/controls",
      "model_module_version": "1.0.0",
      "model_name": "HBoxModel",
      "state": {
       "children": [
        "IPY_MODEL_af76a531e80e4df09783c229ab27a59c",
        "IPY_MODEL_0c3a3569e71541a99fcc66db84451382"
       ],
       "layout": "IPY_MODEL_f30a46c560a943ecb0ec9ea3cc5e2165"
      }
     },
     "de6e6fe3607c43919fbbf0626c4a01eb": {
      "model_module": "@jupyter-widgets/controls",
      "model_module_version": "1.0.0",
      "model_name": "HBoxModel",
      "state": {
       "children": [
        "IPY_MODEL_48e30d2694984c6c9ad4555fdf416df8",
        "IPY_MODEL_a3ca09681274435c81ec3224ef00bcf7"
       ],
       "layout": "IPY_MODEL_ecd296fcc12843c79475d1faa8683f2e"
      }
     },
     "de8a22e843b24ec1976de4edcc542f35": {
      "model_module": "@jupyter-widgets/controls",
      "model_module_version": "1.0.0",
      "model_name": "DescriptionStyleModel",
      "state": {
       "description_width": ""
      }
     },
     "deb38d5097214742a164a46f59ce9537": {
      "model_module": "@jupyter-widgets/controls",
      "model_module_version": "1.0.0",
      "model_name": "BoundedFloatTextModel",
      "state": {
       "layout": "IPY_MODEL_48f4fd9a444b42948a13cefee2933310",
       "step": 0.01,
       "style": "IPY_MODEL_cd3fddc0ec9c45a0821dcf2ab12c8a25",
       "value": 1
      }
     },
     "debfd5bb100a47b1bf411d9c97fbb6e0": {
      "model_module": "@jupyter-widgets/base",
      "model_module_version": "1.0.0",
      "model_name": "LayoutModel",
      "state": {}
     },
     "dec37c0d7080468997f41cfc550653ce": {
      "model_module": "@jupyter-widgets/controls",
      "model_module_version": "1.0.0",
      "model_name": "HBoxModel",
      "state": {
       "children": [
        "IPY_MODEL_428ed7dbedda4945b4d40725150c697c",
        "IPY_MODEL_6af2041c03eb43e98489e599ba61ff00"
       ],
       "layout": "IPY_MODEL_179e686fa6c641ff97dc70db18570dee"
      }
     },
     "def3182e106f4fbd8ae084a986685515": {
      "model_module": "@jupyter-widgets/controls",
      "model_module_version": "1.0.0",
      "model_name": "HBoxModel",
      "state": {
       "children": [
        "IPY_MODEL_d6b2f02dd413478ca0e57141ef7ac509",
        "IPY_MODEL_82dbd93d06de441b9d5f7707f04e477d"
       ],
       "layout": "IPY_MODEL_2d5f3df0e16a41cb9e19298c902da0db"
      }
     },
     "defddf57ab5445d3af7f24e8fdf74924": {
      "model_module": "@jupyter-widgets/controls",
      "model_module_version": "1.0.0",
      "model_name": "BoundedFloatTextModel",
      "state": {
       "continuous_update": true,
       "description": "Time:",
       "layout": "IPY_MODEL_7248d86bd18d417bab4ae72374af6232",
       "max": 1,
       "style": "IPY_MODEL_aa6542b72c06454e8836bd69cea94901",
       "value": 1
      }
     },
     "df00f5a56cb049d3b7a97582434de126": {
      "model_module": "@jupyter-widgets/controls",
      "model_module_version": "1.0.0",
      "model_name": "DescriptionStyleModel",
      "state": {
       "description_width": ""
      }
     },
     "df4a4a4c8bff40ffaf0bc37b2b752b8a": {
      "model_module": "@jupyter-widgets/base",
      "model_module_version": "1.0.0",
      "model_name": "LayoutModel",
      "state": {}
     },
     "df6815f24d33456ab43ddc2cd68e5efd": {
      "model_module": "@jupyter-widgets/controls",
      "model_module_version": "1.0.0",
      "model_name": "HBoxModel",
      "state": {
       "children": [
        "IPY_MODEL_5fcc97dca52a403896a02c131f98086d",
        "IPY_MODEL_77b5095d839b4e4d8d22402c4698972d"
       ],
       "layout": "IPY_MODEL_a22dab4bee2e4f7ba17c0328b2f84c88"
      }
     },
     "dfb2abd30fbf4a1796d534784b1fa832": {
      "model_module": "@jupyter-widgets/controls",
      "model_module_version": "1.0.0",
      "model_name": "BoundedFloatTextModel",
      "state": {
       "continuous_update": true,
       "description": "Time:",
       "layout": "IPY_MODEL_7d81fbb47e92454a8cf5e832f42c09fd",
       "max": 1,
       "style": "IPY_MODEL_1d5521f9e7b04fc88e022bfcf5c6cba8",
       "value": 1
      }
     },
     "dfbb0788217e4098a83406b70e6f1c06": {
      "model_module": "@jupyter-widgets/controls",
      "model_module_version": "1.0.0",
      "model_name": "LabelModel",
      "state": {
       "layout": "IPY_MODEL_b0929b57292942b591c2a1f1d49a059f",
       "style": "IPY_MODEL_78355c6c7af64c42a397c7215a94475d"
      }
     },
     "dfde6c32b23c4c0eb577354b6fea0ee8": {
      "model_module": "@jupyter-widgets/controls",
      "model_module_version": "1.0.0",
      "model_name": "BoundedFloatTextModel",
      "state": {
       "continuous_update": true,
       "description": "Time:",
       "layout": "IPY_MODEL_ca40a62c84da4faf974448c515ac0124",
       "max": 1.03,
       "style": "IPY_MODEL_887aaa1d8a1e45b6a13e52f28f9b106c"
      }
     },
     "dfed1653f8a147b5a55168baa6f86b38": {
      "model_module": "@jupyter-widgets/controls",
      "model_module_version": "1.0.0",
      "model_name": "HBoxModel",
      "state": {
       "children": [
        "IPY_MODEL_79136accb54a4421841f745d9e60521b",
        "IPY_MODEL_ef99fe1a87514e75843357bc18aa780d"
       ],
       "layout": "IPY_MODEL_fed134975b8b4576a0c09861fc2cf8bb"
      }
     },
     "dff10e725af14c6fa1fd19c8d62e277b": {
      "model_module": "@jupyter-widgets/controls",
      "model_module_version": "1.0.0",
      "model_name": "LabelModel",
      "state": {
       "layout": "IPY_MODEL_e6a4ace397534ab49c9f711383b5e973",
       "style": "IPY_MODEL_da566534c1bb49f79e99c5b4c6110593",
       "value": "Time:0.0"
      }
     },
     "e02644318c9243cf861bd177a3997089": {
      "model_module": "@jupyter-widgets/base",
      "model_module_version": "1.0.0",
      "model_name": "LayoutModel",
      "state": {}
     },
     "e031f4f8a9104ed7953998f79b3931a7": {
      "model_module": "@jupyter-widgets/controls",
      "model_module_version": "1.0.0",
      "model_name": "SliderStyleModel",
      "state": {
       "description_width": ""
      }
     },
     "e0533c6a6b4244dc84fce07e1fe4a1ca": {
      "model_module": "@jupyter-widgets/controls",
      "model_module_version": "1.0.0",
      "model_name": "DescriptionStyleModel",
      "state": {
       "description_width": ""
      }
     },
     "e06e4c53063a49079726a0c8ce65485f": {
      "model_module": "@jupyter-widgets/controls",
      "model_module_version": "1.0.0",
      "model_name": "DescriptionStyleModel",
      "state": {
       "description_width": ""
      }
     },
     "e080077cc5be40c0970648bc7b9fda32": {
      "model_module": "@jupyter-widgets/base",
      "model_module_version": "1.0.0",
      "model_name": "LayoutModel",
      "state": {}
     },
     "e08d578af24a414a8fed1520fbda5f99": {
      "model_module": "@jupyter-widgets/base",
      "model_module_version": "1.0.0",
      "model_name": "LayoutModel",
      "state": {}
     },
     "e08ef13f19754c889f8728d93d52130f": {
      "model_module": "@jupyter-widgets/controls",
      "model_module_version": "1.0.0",
      "model_name": "ToggleButtonsStyleModel",
      "state": {
       "button_width": "",
       "description_width": ""
      }
     },
     "e09181b30b4f443687dd8bf2be689e11": {
      "model_module": "@jupyter-widgets/controls",
      "model_module_version": "1.0.0",
      "model_name": "ToggleButtonsStyleModel",
      "state": {
       "button_width": "",
       "description_width": ""
      }
     },
     "e0985eac8b924718815fd67b29a5e3fe": {
      "model_module": "@jupyter-widgets/controls",
      "model_module_version": "1.0.0",
      "model_name": "HBoxModel",
      "state": {
       "children": [
        "IPY_MODEL_396c2eee708e4a72bdf47c6347c9127a",
        "IPY_MODEL_ad7f55aeb7974e9b867a6322b6e0fb2d"
       ],
       "layout": "IPY_MODEL_6a0be47ced4f4179826615762bacc8ff"
      }
     },
     "e0b94ea378b241739882b9c51ccb96bd": {
      "model_module": "@jupyter-widgets/controls",
      "model_module_version": "1.0.0",
      "model_name": "BoundedIntTextModel",
      "state": {
       "layout": "IPY_MODEL_10203e8044a7406d94cf543300e8011e",
       "max": 1000,
       "min": 50,
       "step": 100,
       "style": "IPY_MODEL_f05f10235c9b4cebaa1d87866cf7c541",
       "value": 100
      }
     },
     "e0bee54159fc42b58118761f852cd4ec": {
      "model_module": "@jupyter-widgets/base",
      "model_module_version": "1.0.0",
      "model_name": "LayoutModel",
      "state": {}
     },
     "e156cb8e057e4ae899ce20bd0d64a3c5": {
      "model_module": "@jupyter-widgets/controls",
      "model_module_version": "1.0.0",
      "model_name": "DescriptionStyleModel",
      "state": {
       "description_width": ""
      }
     },
     "e20f209e7d344d6cbcded59e4dc94ffd": {
      "model_module": "@jupyter-widgets/controls",
      "model_module_version": "1.0.0",
      "model_name": "DescriptionStyleModel",
      "state": {
       "description_width": ""
      }
     },
     "e21e765e021343409d74f085055ddbff": {
      "model_module": "@jupyter-widgets/base",
      "model_module_version": "1.0.0",
      "model_name": "LayoutModel",
      "state": {}
     },
     "e23728f73d014d5786a0e2e6e1a5bcf3": {
      "model_module": "@jupyter-widgets/base",
      "model_module_version": "1.0.0",
      "model_name": "LayoutModel",
      "state": {}
     },
     "e24e61f3e00a41ac8adde607dccf4e6b": {
      "model_module": "@jupyter-widgets/controls",
      "model_module_version": "1.0.0",
      "model_name": "DescriptionStyleModel",
      "state": {
       "description_width": ""
      }
     },
     "e25e52e9ae984f4e919a5f2594c4f04a": {
      "model_module": "@jupyter-widgets/controls",
      "model_module_version": "1.0.0",
      "model_name": "HBoxModel",
      "state": {
       "children": [
        "IPY_MODEL_09b0509d818d41de838dfa8e7e6bfd73",
        "IPY_MODEL_d0c81aaf39df4cec8bad3c2d122a3b90"
       ],
       "layout": "IPY_MODEL_c6ea559e250e40be9c7dd83684f9db5b"
      }
     },
     "e28a063309974a1182797e9ed65ade57": {
      "model_module": "@jupyter-widgets/controls",
      "model_module_version": "1.0.0",
      "model_name": "BoundedFloatTextModel",
      "state": {
       "layout": "IPY_MODEL_656e7b73bb994703b428f7f1fefc7965",
       "step": 0.01,
       "style": "IPY_MODEL_74283d60b44a4cd597b4015a97ddfba5",
       "value": 1
      }
     },
     "e2939b7fee6345d5afbacde842f5a388": {
      "model_module": "@jupyter-widgets/base",
      "model_module_version": "1.0.0",
      "model_name": "LayoutModel",
      "state": {}
     },
     "e2c505a4d0b04136bbdf5726737778b5": {
      "model_module": "@jupyter-widgets/controls",
      "model_module_version": "1.0.0",
      "model_name": "DescriptionStyleModel",
      "state": {
       "description_width": ""
      }
     },
     "e2cb25ebe5084bfda8b75646cfbf17bc": {
      "model_module": "@jupyter-widgets/base",
      "model_module_version": "1.0.0",
      "model_name": "LayoutModel",
      "state": {}
     },
     "e2d19925df2142e7beff895534d44263": {
      "model_module": "@jupyter-widgets/controls",
      "model_module_version": "1.0.0",
      "model_name": "LabelModel",
      "state": {
       "layout": "IPY_MODEL_6487ae0777dc44329712462d0855f4c9",
       "style": "IPY_MODEL_ce7318f2d1064762b1df5b6fc28f2774",
       "value": "Параметр $\\sigma$ неявной схемы:"
      }
     },
     "e2d40fc5b28a4addbbb8ff1d8fc2571e": {
      "model_module": "@jupyter-widgets/controls",
      "model_module_version": "1.0.0",
      "model_name": "LabelModel",
      "state": {
       "layout": "IPY_MODEL_a7006e2874684fd4bddad74972cc55cd",
       "style": "IPY_MODEL_46f78637386a4395938fddb1412bbad8",
       "value": "Количество шагов по $x$:"
      }
     },
     "e2ecfc44019c41779058cdc0971fb157": {
      "model_module": "@jupyter-widgets/controls",
      "model_module_version": "1.0.0",
      "model_name": "LabelModel",
      "state": {
       "layout": "IPY_MODEL_93746257b26f4ab484fe9a8c70f494c2",
       "style": "IPY_MODEL_fea9b66b5832447d82d705a6f0cbea80",
       "value": "Параметр $\\sigma$ неявной схемы:"
      }
     },
     "e303042cce6e46aebe14437482859dc8": {
      "model_module": "@jupyter-widgets/controls",
      "model_module_version": "1.0.0",
      "model_name": "IntSliderModel",
      "state": {
       "description": "Step:",
       "layout": "IPY_MODEL_4d336ba9047744ada5ec60ae8d0ac457",
       "max": 199,
       "style": "IPY_MODEL_abdadd8dd5ef4354aa005b38b39e47e9",
       "value": 7
      }
     },
     "e3050706a18b4b31a93c9d86b3cae259": {
      "model_module": "@jupyter-widgets/controls",
      "model_module_version": "1.0.0",
      "model_name": "VBoxModel",
      "state": {
       "children": [
        "IPY_MODEL_005ab3937c0142cf871e6ad5cb119b07",
        "IPY_MODEL_dc674361165b4681a5f13f170e8d37c2",
        "IPY_MODEL_c9468d6f31fa4278a95c120ae7e793c8",
        "IPY_MODEL_de6e6fe3607c43919fbbf0626c4a01eb",
        "IPY_MODEL_33cff6e65b7f447ba9020ccd0de8147d",
        "IPY_MODEL_5dc534c1ebae4819ada94539342bf77e"
       ],
       "layout": "IPY_MODEL_6b2e45569da140c780aa78ef2db3a514"
      }
     },
     "e3142bef4e5048dcb4aa58a3b8c5e6eb": {
      "model_module": "@jupyter-widgets/controls",
      "model_module_version": "1.0.0",
      "model_name": "LabelModel",
      "state": {
       "layout": "IPY_MODEL_00f9807792a449d0a8154a77a08720a9",
       "style": "IPY_MODEL_9c4b78b321a74cecb0a41cda3169418f",
       "value": "$\\large l$ -длина струны"
      }
     },
     "e3300c5c0d954b3abbaca95a2e5438e3": {
      "model_module": "@jupyter-widgets/controls",
      "model_module_version": "1.0.0",
      "model_name": "ToggleButtonsModel",
      "state": {
       "_options_labels": [
        "Расчёт заданного числа шагов",
        "Расчёт с заданной точностью"
       ],
       "button_style": "",
       "description": "Режим работы:",
       "icons": [],
       "index": 0,
       "layout": "IPY_MODEL_4eba6a767fa343ab83331bb0fc32a8d0",
       "style": "IPY_MODEL_aba1f47ee5154a7b9d1d039e04271495",
       "tooltips": []
      }
     },
     "e335440d4ed645adadeca4a62adb570b": {
      "model_module": "@jupyter-widgets/controls",
      "model_module_version": "1.0.0",
      "model_name": "DescriptionStyleModel",
      "state": {
       "description_width": ""
      }
     },
     "e342c4e08fae4ebbae9fced83e460109": {
      "model_module": "@jupyter-widgets/controls",
      "model_module_version": "1.0.0",
      "model_name": "DescriptionStyleModel",
      "state": {
       "description_width": ""
      }
     },
     "e3731f5a10ad4b198715b6d88b81316a": {
      "model_module": "@jupyter-widgets/base",
      "model_module_version": "1.0.0",
      "model_name": "LayoutModel",
      "state": {}
     },
     "e380bfacf7fc430d91a122e95248a56c": {
      "model_module": "@jupyter-widgets/controls",
      "model_module_version": "1.0.0",
      "model_name": "HBoxModel",
      "state": {
       "children": [
        "IPY_MODEL_fb1fc88e7f704b62863de96293df4326",
        "IPY_MODEL_ac793e0e663e4d1ea6e05477829d1f22"
       ],
       "layout": "IPY_MODEL_4b1288d0cdcd41bb9e5d541d0eba531b"
      }
     },
     "e3aa1873160a4cd3939b74c0b8bb8d9c": {
      "model_module": "@jupyter-widgets/controls",
      "model_module_version": "1.0.0",
      "model_name": "BoundedFloatTextModel",
      "state": {
       "continuous_update": true,
       "description": "Time:",
       "layout": "IPY_MODEL_13e09ef223104e9b8c38fa78f728cd11",
       "max": 1,
       "style": "IPY_MODEL_2b9894f903234a778e0cc6b29920d7e1",
       "value": 1
      }
     },
     "e3f1e50b9c454be6ba114f8344bc5f95": {
      "model_module": "@jupyter-widgets/controls",
      "model_module_version": "1.0.0",
      "model_name": "HBoxModel",
      "state": {
       "children": [
        "IPY_MODEL_03e270b29b194ed889e8a501452397f9",
        "IPY_MODEL_d2c289f12ff647138b6fc341ca7d4806"
       ],
       "layout": "IPY_MODEL_247aa647c01b460bb556848b68f2f90c"
      }
     },
     "e3f9ae5d2ffa4749bdb4d9ca1a5f037e": {
      "model_module": "@jupyter-widgets/base",
      "model_module_version": "1.0.0",
      "model_name": "LayoutModel",
      "state": {}
     },
     "e40cb57b6f2c4911aae14e02adac16f1": {
      "model_module": "@jupyter-widgets/controls",
      "model_module_version": "1.0.0",
      "model_name": "HBoxModel",
      "state": {
       "children": [
        "IPY_MODEL_06521b82b87d4e3caa9268f6bb412f3e",
        "IPY_MODEL_cf6a62a91f1548cfbd578df952e6baa1"
       ],
       "layout": "IPY_MODEL_2e05c5584b9b48d28f2954bae8c4803a"
      }
     },
     "e47efee9cc6f424c94f20a0caa395044": {
      "model_module": "@jupyter-widgets/controls",
      "model_module_version": "1.0.0",
      "model_name": "SliderStyleModel",
      "state": {
       "description_width": ""
      }
     },
     "e4b792e1d30949eaa9242ffe013521e7": {
      "model_module": "@jupyter-widgets/base",
      "model_module_version": "1.0.0",
      "model_name": "LayoutModel",
      "state": {}
     },
     "e4b9fc3a995e422e9280e588424c1e00": {
      "model_module": "@jupyter-widgets/base",
      "model_module_version": "1.0.0",
      "model_name": "LayoutModel",
      "state": {}
     },
     "e4bb217f04514b06903aecdd6d0602ec": {
      "model_module": "@jupyter-widgets/base",
      "model_module_version": "1.0.0",
      "model_name": "LayoutModel",
      "state": {}
     },
     "e4e39265528143169354fc6025655b01": {
      "model_module": "@jupyter-widgets/base",
      "model_module_version": "1.0.0",
      "model_name": "LayoutModel",
      "state": {}
     },
     "e512ffddb36c41ae9f51306434d26335": {
      "model_module": "@jupyter-widgets/controls",
      "model_module_version": "1.0.0",
      "model_name": "ToggleButtonsStyleModel",
      "state": {
       "button_width": "",
       "description_width": ""
      }
     },
     "e529f10151e94ca29ed874cf936b955d": {
      "model_module": "@jupyter-widgets/controls",
      "model_module_version": "1.0.0",
      "model_name": "DescriptionStyleModel",
      "state": {
       "description_width": ""
      }
     },
     "e53116de108c4ec9a7ced37dd3874bf7": {
      "model_module": "@jupyter-widgets/base",
      "model_module_version": "1.0.0",
      "model_name": "LayoutModel",
      "state": {}
     },
     "e586efde5dfe49b690d439350bcb157f": {
      "model_module": "@jupyter-widgets/controls",
      "model_module_version": "1.0.0",
      "model_name": "DescriptionStyleModel",
      "state": {
       "description_width": ""
      }
     },
     "e58a0cefb9474da4b213d923e5ca1bdd": {
      "model_module": "@jupyter-widgets/controls",
      "model_module_version": "1.0.0",
      "model_name": "LabelModel",
      "state": {
       "layout": "IPY_MODEL_c5c4ac361cac482bb1c6b51f5e42bc61",
       "style": "IPY_MODEL_9782f5f4bdf84520887b30d54799f256",
       "value": "Количество шагов по $t$:"
      }
     },
     "e5ec27a282da47f89bde8a9974818cd5": {
      "model_module": "@jupyter-widgets/base",
      "model_module_version": "1.0.0",
      "model_name": "LayoutModel",
      "state": {}
     },
     "e62c8092797b485786c511a43c4015cc": {
      "model_module": "@jupyter-widgets/controls",
      "model_module_version": "1.0.0",
      "model_name": "SliderStyleModel",
      "state": {
       "description_width": ""
      }
     },
     "e66289ca79a24b2da3e567da320ff604": {
      "model_module": "@jupyter-widgets/controls",
      "model_module_version": "1.0.0",
      "model_name": "SliderStyleModel",
      "state": {
       "description_width": ""
      }
     },
     "e667506f507249e08aab90b308763e61": {
      "model_module": "@jupyter-widgets/controls",
      "model_module_version": "1.0.0",
      "model_name": "HBoxModel",
      "state": {
       "children": [
        "IPY_MODEL_9a2c3aa636b544d99949ea1ba232a3c1",
        "IPY_MODEL_1e8cb38c136d48228a0ef4ad2253db75"
       ],
       "layout": "IPY_MODEL_a0ac4394fc0541648f42170b2b493ae7"
      }
     },
     "e684bbc91ebe45a99cdc2debe4dcc672": {
      "model_module": "@jupyter-widgets/base",
      "model_module_version": "1.0.0",
      "model_name": "LayoutModel",
      "state": {}
     },
     "e6a4ace397534ab49c9f711383b5e973": {
      "model_module": "@jupyter-widgets/base",
      "model_module_version": "1.0.0",
      "model_name": "LayoutModel",
      "state": {}
     },
     "e6c3ce1fef544939ae8121627a29db18": {
      "model_module": "@jupyter-widgets/controls",
      "model_module_version": "1.0.0",
      "model_name": "DescriptionStyleModel",
      "state": {
       "description_width": ""
      }
     },
     "e6d7f08251e845f79b1f0a20426c0e15": {
      "model_module": "@jupyter-widgets/controls",
      "model_module_version": "1.0.0",
      "model_name": "VBoxModel",
      "state": {
       "children": [
        "IPY_MODEL_98d1252292bc4a44b8c50b8c56e17a66",
        "IPY_MODEL_d5fa77f2565d4596ba0e2e2df7874e25"
       ],
       "layout": "IPY_MODEL_b85221c0814848599d6ca66efb4d320c"
      }
     },
     "e6dfbe4ec38a483b902563c0035e1f8d": {
      "model_module": "@jupyter-widgets/controls",
      "model_module_version": "1.0.0",
      "model_name": "VBoxModel",
      "state": {
       "children": [
        "IPY_MODEL_fa1bf9a3d33d433c827b522640fad8a8",
        "IPY_MODEL_1e473068780744988b93997c1a6b425b"
       ],
       "layout": "IPY_MODEL_4df35c3f29e34ef1bac2b5530908a146"
      }
     },
     "e6f0bfc085d84e9aa2230954d9419557": {
      "model_module": "@jupyter-widgets/controls",
      "model_module_version": "1.0.0",
      "model_name": "LabelModel",
      "state": {
       "layout": "IPY_MODEL_1ae5cf31a6b34b65a32d2ddc01d59cc5",
       "style": "IPY_MODEL_1143b29d5a05432d8b6f3239ba3bf679",
       "value": "Точность:"
      }
     },
     "e6fbcaa52b3d4b5d8ee90ba4e958a8d5": {
      "model_module": "@jupyter-widgets/controls",
      "model_module_version": "1.0.0",
      "model_name": "LabelModel",
      "state": {
       "layout": "IPY_MODEL_dbb479c18abe4c3ea5fbf702b6be09a3",
       "style": "IPY_MODEL_1afff08b2a3f4f6f9d364ddb61d73ea2",
       "value": "Длительность анимации"
      }
     },
     "e746a448f0114fc4aae18a53c75ef9d1": {
      "model_module": "@jupyter-widgets/controls",
      "model_module_version": "1.0.0",
      "model_name": "SliderStyleModel",
      "state": {
       "description_width": ""
      }
     },
     "e7500202044b46769c0dcb9164085c6f": {
      "model_module": "@jupyter-widgets/controls",
      "model_module_version": "1.0.0",
      "model_name": "IntSliderModel",
      "state": {
       "description": "Step:",
       "layout": "IPY_MODEL_3702133004f94ff691551f79a2ecb1a6",
       "max": 199,
       "style": "IPY_MODEL_72c89369fe9b40568419efad769d3283"
      }
     },
     "e77de2c36d6b4441895bc0febad1f386": {
      "model_module": "@jupyter-widgets/base",
      "model_module_version": "1.0.0",
      "model_name": "LayoutModel",
      "state": {}
     },
     "e7873845ed22483c8e46597cc97cfe40": {
      "model_module": "@jupyter-widgets/controls",
      "model_module_version": "1.0.0",
      "model_name": "SliderStyleModel",
      "state": {
       "description_width": ""
      }
     },
     "e7cc469ea52f468ab3bced80d50eaa1d": {
      "model_module": "@jupyter-widgets/controls",
      "model_module_version": "1.0.0",
      "model_name": "HBoxModel",
      "state": {
       "children": [
        "IPY_MODEL_ca08342a49474e39966a5230b24db107",
        "IPY_MODEL_818edd5df08c410988e9d95f1fb2563b"
       ],
       "layout": "IPY_MODEL_1c583a1035d34c4dbc8fc4cbdb46aa69"
      }
     },
     "e7cd5b661b774c07a7e5e9b1716666cd": {
      "model_module": "@jupyter-widgets/base",
      "model_module_version": "1.0.0",
      "model_name": "LayoutModel",
      "state": {}
     },
     "e7ef7ef9b82f404fa4c5f8abb6628d66": {
      "model_module": "@jupyter-widgets/controls",
      "model_module_version": "1.0.0",
      "model_name": "HBoxModel",
      "state": {
       "children": [
        "IPY_MODEL_0e121c0a411540be8922bc47c8558c0f",
        "IPY_MODEL_14f81b5bf03f4f07bef4c2a65ae2a2a1"
       ],
       "layout": "IPY_MODEL_74ccd60e8b834539a86b6f98e4a824c6"
      }
     },
     "e7f1b13f441e4127946e555047d4983f": {
      "model_module": "@jupyter-widgets/base",
      "model_module_version": "1.0.0",
      "model_name": "LayoutModel",
      "state": {}
     },
     "e8c7fc2cfb6e4560a8c2734a435bd312": {
      "model_module": "@jupyter-widgets/base",
      "model_module_version": "1.0.0",
      "model_name": "LayoutModel",
      "state": {}
     },
     "e8e8893fd70d418f98019087e0e5830b": {
      "model_module": "@jupyter-widgets/controls",
      "model_module_version": "1.0.0",
      "model_name": "HBoxModel",
      "state": {
       "children": [
        "IPY_MODEL_8de3a9e2fb4a4026a4046fa5848c4782",
        "IPY_MODEL_cf6a62a91f1548cfbd578df952e6baa1"
       ],
       "layout": "IPY_MODEL_6be47de487764926bccbfb3554aa716d"
      }
     },
     "e928802d750f4a6d98628967357cd166": {
      "model_module": "@jupyter-widgets/controls",
      "model_module_version": "1.0.0",
      "model_name": "LabelModel",
      "state": {
       "layout": "IPY_MODEL_89a23133eaef4e0ea958a77723f986d0",
       "style": "IPY_MODEL_3c952814058944318bd01d973352a46c",
       "value": "$\\large p_l$ -линейная плотность"
      }
     },
     "e94d7b989e68497aa791fb30aa775ea8": {
      "model_module": "@jupyter-widgets/controls",
      "model_module_version": "1.0.0",
      "model_name": "DescriptionStyleModel",
      "state": {
       "description_width": ""
      }
     },
     "e96e19688b504d809666bb99484f0605": {
      "model_module": "@jupyter-widgets/base",
      "model_module_version": "1.0.0",
      "model_name": "LayoutModel",
      "state": {}
     },
     "e9793a9850b14d678b41e1f3c5d09dea": {
      "model_module": "@jupyter-widgets/base",
      "model_module_version": "1.0.0",
      "model_name": "LayoutModel",
      "state": {}
     },
     "e9ce969a66cc4d20ae02e556777dc765": {
      "model_module": "@jupyter-widgets/base",
      "model_module_version": "1.0.0",
      "model_name": "LayoutModel",
      "state": {}
     },
     "e9f9d4d78c2c40e8a8bb5e91981697f0": {
      "model_module": "@jupyter-widgets/base",
      "model_module_version": "1.0.0",
      "model_name": "LayoutModel",
      "state": {}
     },
     "e9fdee0cd4ba484f98679d129754a95f": {
      "model_module": "@jupyter-widgets/base",
      "model_module_version": "1.0.0",
      "model_name": "LayoutModel",
      "state": {}
     },
     "ea16fa27797b4fdabcbb972326f336c5": {
      "model_module": "@jupyter-widgets/base",
      "model_module_version": "1.0.0",
      "model_name": "LayoutModel",
      "state": {}
     },
     "ea2edff03a6443b0847af7c736fc8772": {
      "model_module": "@jupyter-widgets/controls",
      "model_module_version": "1.0.0",
      "model_name": "DescriptionStyleModel",
      "state": {
       "description_width": ""
      }
     },
     "ea341a8b5aec4b618a274174ddbb3745": {
      "model_module": "@jupyter-widgets/controls",
      "model_module_version": "1.0.0",
      "model_name": "DescriptionStyleModel",
      "state": {
       "description_width": ""
      }
     },
     "ea4f93ed18e44c42bd70e399bcf05d10": {
      "model_module": "@jupyter-widgets/base",
      "model_module_version": "1.0.0",
      "model_name": "LayoutModel",
      "state": {}
     },
     "ea6436ae373b48ab92c4594a81140291": {
      "model_module": "@jupyter-widgets/base",
      "model_module_version": "1.0.0",
      "model_name": "LayoutModel",
      "state": {}
     },
     "ea68f22fef3646b286a8320c8c283d8f": {
      "model_module": "@jupyter-widgets/base",
      "model_module_version": "1.0.0",
      "model_name": "LayoutModel",
      "state": {}
     },
     "ea7abdb0e64147658db3f817b4c18cbe": {
      "model_module": "@jupyter-widgets/controls",
      "model_module_version": "1.0.0",
      "model_name": "DescriptionStyleModel",
      "state": {
       "description_width": ""
      }
     },
     "ead77f4da6174dc7a434996d5b756463": {
      "model_module": "@jupyter-widgets/base",
      "model_module_version": "1.0.0",
      "model_name": "LayoutModel",
      "state": {}
     },
     "eadb3084c547444dbe0dfc814cd2f955": {
      "model_module": "@jupyter-widgets/base",
      "model_module_version": "1.0.0",
      "model_name": "LayoutModel",
      "state": {}
     },
     "eaf4b1c6b6a24ce88fbb05e029a10382": {
      "model_module": "@jupyter-widgets/controls",
      "model_module_version": "1.0.0",
      "model_name": "DescriptionStyleModel",
      "state": {
       "description_width": ""
      }
     },
     "eaf9462faaff436485f48053c24a1830": {
      "model_module": "@jupyter-widgets/base",
      "model_module_version": "1.0.0",
      "model_name": "LayoutModel",
      "state": {}
     },
     "eb2ad6bc4f884960835bdf856f0beb18": {
      "model_module": "@jupyter-widgets/controls",
      "model_module_version": "1.0.0",
      "model_name": "LabelModel",
      "state": {
       "layout": "IPY_MODEL_f54dc00345f844bda6b0a94809bf2ad0",
       "style": "IPY_MODEL_186fd4160362475083731a2e23719350",
       "value": "$\\large l$ -длина струны"
      }
     },
     "eb2bcebf8e4e48f2aff8eca020cc7cf9": {
      "model_module": "@jupyter-widgets/controls",
      "model_module_version": "1.0.0",
      "model_name": "DescriptionStyleModel",
      "state": {
       "description_width": ""
      }
     },
     "eb39035a51534c619ecddf5f2813b04e": {
      "model_module": "@jupyter-widgets/base",
      "model_module_version": "1.0.0",
      "model_name": "LayoutModel",
      "state": {}
     },
     "eb71e73c08e345f78ccaf924095ae07e": {
      "model_module": "@jupyter-widgets/base",
      "model_module_version": "1.0.0",
      "model_name": "LayoutModel",
      "state": {}
     },
     "eb85442d548849f7beb860847866094e": {
      "model_module": "@jupyter-widgets/controls",
      "model_module_version": "1.0.0",
      "model_name": "HBoxModel",
      "state": {
       "children": [
        "IPY_MODEL_acda564683194ef8b19c77f61d63199a",
        "IPY_MODEL_0724b38196084adbb852c5fa46c7e592"
       ],
       "layout": "IPY_MODEL_5506465e351c43dcb3d75c5bfda2b9ff"
      }
     },
     "eb8c654b748947e9a5ca255299ba1807": {
      "model_module": "@jupyter-widgets/controls",
      "model_module_version": "1.0.0",
      "model_name": "HBoxModel",
      "state": {
       "children": [
        "IPY_MODEL_8ed9154a11904726ab3221312a7467bf",
        "IPY_MODEL_4f0374451d4a45c3b7682994fae86310"
       ],
       "layout": "IPY_MODEL_130b59bd36724f74b179e4c91b635893"
      }
     },
     "ebcf673efee84a47ab002d78d262f381": {
      "model_module": "@jupyter-widgets/controls",
      "model_module_version": "1.0.0",
      "model_name": "DescriptionStyleModel",
      "state": {
       "description_width": ""
      }
     },
     "ebfe29aaeea846dd9ba61b01eb5e910f": {
      "model_module": "@jupyter-widgets/base",
      "model_module_version": "1.0.0",
      "model_name": "LayoutModel",
      "state": {}
     },
     "ebfe303506b84f9cab8fc57feb24b25a": {
      "model_module": "@jupyter-widgets/base",
      "model_module_version": "1.0.0",
      "model_name": "LayoutModel",
      "state": {}
     },
     "ec0180352dba41e68e6183def96e0e7d": {
      "model_module": "@jupyter-widgets/base",
      "model_module_version": "1.0.0",
      "model_name": "LayoutModel",
      "state": {}
     },
     "ec043054f1bf4ac3bf69126d817d3b78": {
      "model_module": "@jupyter-widgets/controls",
      "model_module_version": "1.0.0",
      "model_name": "DescriptionStyleModel",
      "state": {
       "description_width": ""
      }
     },
     "ec065115a87c4681854b081976ff3429": {
      "model_module": "@jupyter-widgets/controls",
      "model_module_version": "1.0.0",
      "model_name": "DescriptionStyleModel",
      "state": {
       "description_width": ""
      }
     },
     "ec27787132764466b651eaac70e591c6": {
      "model_module": "@jupyter-widgets/controls",
      "model_module_version": "1.0.0",
      "model_name": "BoundedFloatTextModel",
      "state": {
       "layout": "IPY_MODEL_0cda15351729433b9a8e3f2fd2562845",
       "max": 0.1,
       "step": 0.001,
       "style": "IPY_MODEL_ab0dcc57a523443cb5e3db55c1331e67",
       "value": 0.01
      }
     },
     "ec643bd46b394936b84d7d6c20394e2d": {
      "model_module": "@jupyter-widgets/base",
      "model_module_version": "1.0.0",
      "model_name": "LayoutModel",
      "state": {}
     },
     "eca48aeff4f94d95a72527e159135f61": {
      "model_module": "@jupyter-widgets/controls",
      "model_module_version": "1.0.0",
      "model_name": "LabelModel",
      "state": {
       "layout": "IPY_MODEL_73d8f464de0d429a8ea9168dd123d8e7",
       "style": "IPY_MODEL_fd9a175529e44e85b11284b43fb61f89",
       "value": "$\\large a$ -амплитуда импульса"
      }
     },
     "ecc581f59fa649328e45d701f9f9eb6a": {
      "model_module": "@jupyter-widgets/base",
      "model_module_version": "1.0.0",
      "model_name": "LayoutModel",
      "state": {}
     },
     "ecd296fcc12843c79475d1faa8683f2e": {
      "model_module": "@jupyter-widgets/base",
      "model_module_version": "1.0.0",
      "model_name": "LayoutModel",
      "state": {}
     },
     "ecd7d54f51904415b00f8315c2788a56": {
      "model_module": "@jupyter-widgets/controls",
      "model_module_version": "1.0.0",
      "model_name": "DescriptionStyleModel",
      "state": {
       "description_width": ""
      }
     },
     "ecdcc0bec20f4d6aab2f20e1b0ca2e04": {
      "model_module": "@jupyter-widgets/controls",
      "model_module_version": "1.0.0",
      "model_name": "DescriptionStyleModel",
      "state": {
       "description_width": ""
      }
     },
     "ed02326fb2864ce3ae08320f36e5775c": {
      "model_module": "@jupyter-widgets/controls",
      "model_module_version": "1.0.0",
      "model_name": "DescriptionStyleModel",
      "state": {
       "description_width": ""
      }
     },
     "ed05ce4d3198427898fb324a7b0a66f5": {
      "model_module": "@jupyter-widgets/base",
      "model_module_version": "1.0.0",
      "model_name": "LayoutModel",
      "state": {}
     },
     "ed473680704140dc871c976136136047": {
      "model_module": "@jupyter-widgets/controls",
      "model_module_version": "1.0.0",
      "model_name": "HBoxModel",
      "state": {
       "children": [
        "IPY_MODEL_d2c02853bb634725a4dbc37d4d7993af",
        "IPY_MODEL_27d7ea3b418b45df93e6251c7be89a20"
       ],
       "layout": "IPY_MODEL_506e3bd8df8c41bb8d7e3888a0f55617"
      }
     },
     "ed810d363d564ddf946ee2ce59a5d689": {
      "model_module": "@jupyter-widgets/controls",
      "model_module_version": "1.0.0",
      "model_name": "DescriptionStyleModel",
      "state": {
       "description_width": ""
      }
     },
     "eda7283cd4d94dbc9e4dcbddf092c3b4": {
      "model_module": "@jupyter-widgets/controls",
      "model_module_version": "1.0.0",
      "model_name": "ToggleButtonsStyleModel",
      "state": {
       "button_width": "",
       "description_width": ""
      }
     },
     "edaa79e5367543329734d43aee69f5a6": {
      "model_module": "@jupyter-widgets/controls",
      "model_module_version": "1.0.0",
      "model_name": "DescriptionStyleModel",
      "state": {
       "description_width": ""
      }
     },
     "edaab40e6187446fb5ffdaec19bd568a": {
      "model_module": "@jupyter-widgets/controls",
      "model_module_version": "1.0.0",
      "model_name": "HBoxModel",
      "state": {
       "children": [
        "IPY_MODEL_320a627f65ad42b6ab66f1035e242aac",
        "IPY_MODEL_14f81b5bf03f4f07bef4c2a65ae2a2a1"
       ],
       "layout": "IPY_MODEL_40e0e91192064cb996c854aadc2a073a"
      }
     },
     "edb441b7ff484c9c988f337f2794a80e": {
      "model_module": "@jupyter-widgets/controls",
      "model_module_version": "1.0.0",
      "model_name": "DescriptionStyleModel",
      "state": {
       "description_width": ""
      }
     },
     "edd9848321034dae8774f82e72517e51": {
      "model_module": "@jupyter-widgets/controls",
      "model_module_version": "1.0.0",
      "model_name": "VBoxModel",
      "state": {
       "children": [
        "IPY_MODEL_41dd7d5ac1534e50a9f6ddc25c524882",
        "IPY_MODEL_62bf91764c2c4c70b41752087fe85776"
       ],
       "layout": "IPY_MODEL_c13c819c939640068de87a9167117987"
      }
     },
     "ee082527e2ed4cda8c683fe2c63d89ca": {
      "model_module": "@jupyter-widgets/controls",
      "model_module_version": "1.0.0",
      "model_name": "HBoxModel",
      "state": {
       "children": [
        "IPY_MODEL_7f1b7c7aa9b74bb39728db1ca7c10f9f",
        "IPY_MODEL_cf6a62a91f1548cfbd578df952e6baa1"
       ],
       "layout": "IPY_MODEL_2621dcd9291047ccbeaa75a3ec287341"
      }
     },
     "ee2ee7e72e574e38a7bc7e97ca8a53ed": {
      "model_module": "@jupyter-widgets/controls",
      "model_module_version": "1.0.0",
      "model_name": "LabelModel",
      "state": {
       "layout": "IPY_MODEL_ee7ebb768440457a8d63f5fce9d0ecd4",
       "style": "IPY_MODEL_b77cf486ea214baea75932ee7c63a198",
       "value": "Время симуляции:"
      }
     },
     "ee405185143b4a3fb1bd1a519f1037c9": {
      "model_module": "@jupyter-widgets/base",
      "model_module_version": "1.0.0",
      "model_name": "LayoutModel",
      "state": {}
     },
     "ee632ec35d644174a4a9fbedd50cd09f": {
      "model_module": "@jupyter-widgets/controls",
      "model_module_version": "1.0.0",
      "model_name": "FloatSliderModel",
      "state": {
       "layout": "IPY_MODEL_53dcaebeb22c44c79fc5bfc33c90a64f",
       "max": 20,
       "min": 0.1,
       "readout_format": "f",
       "step": 0.1,
       "style": "IPY_MODEL_c7cc2ac14977437988bdff0b5e7fd43e",
       "value": 1
      }
     },
     "ee715ff8fd4f4f18b5604fe901cb9abf": {
      "model_module": "@jupyter-widgets/controls",
      "model_module_version": "1.0.0",
      "model_name": "DescriptionStyleModel",
      "state": {
       "description_width": ""
      }
     },
     "ee7ebb768440457a8d63f5fce9d0ecd4": {
      "model_module": "@jupyter-widgets/base",
      "model_module_version": "1.0.0",
      "model_name": "LayoutModel",
      "state": {}
     },
     "ee80dd9dce2b4639b3aacbd0d7d8d14b": {
      "model_module": "@jupyter-widgets/base",
      "model_module_version": "1.0.0",
      "model_name": "LayoutModel",
      "state": {}
     },
     "ee9b6b468a644da892ee0abc63064e0e": {
      "model_module": "@jupyter-widgets/base",
      "model_module_version": "1.0.0",
      "model_name": "LayoutModel",
      "state": {}
     },
     "eec10e67ce2849ac8695aaf2c827bf36": {
      "model_module": "@jupyter-widgets/base",
      "model_module_version": "1.0.0",
      "model_name": "LayoutModel",
      "state": {}
     },
     "eec167f712f5446e9483abc9dc9fa4b3": {
      "model_module": "@jupyter-widgets/base",
      "model_module_version": "1.0.0",
      "model_name": "LayoutModel",
      "state": {}
     },
     "eecbad26e5ff46709353bf97baca4fd1": {
      "model_module": "@jupyter-widgets/controls",
      "model_module_version": "1.0.0",
      "model_name": "IntSliderModel",
      "state": {
       "description": "Step:",
       "layout": "IPY_MODEL_9c07cd53228247c6afaa2675b7b6b0dd",
       "max": 199,
       "style": "IPY_MODEL_c39f32fb9378476aa38e624d26f230cb",
       "value": 104
      }
     },
     "eed12664c9384df083ed64acae644c7e": {
      "model_module": "@jupyter-widgets/base",
      "model_module_version": "1.0.0",
      "model_name": "LayoutModel",
      "state": {}
     },
     "ef0641c3ca3749928ffa625cae5ca0d6": {
      "model_module": "@jupyter-widgets/controls",
      "model_module_version": "1.0.0",
      "model_name": "DescriptionStyleModel",
      "state": {
       "description_width": ""
      }
     },
     "ef2ce996d8e14f2387c824df5d9d11ce": {
      "model_module": "@jupyter-widgets/controls",
      "model_module_version": "1.0.0",
      "model_name": "HBoxModel",
      "state": {
       "children": [
        "IPY_MODEL_dd6d441a342d47639aff7ff78b505947",
        "IPY_MODEL_52e4a3f512f74652a3fe97afae1e28dd"
       ],
       "layout": "IPY_MODEL_3e5e83581807483485fd82a9a6186ec7"
      }
     },
     "ef3345987d194e0888323f46320ebfbd": {
      "model_module": "@jupyter-widgets/base",
      "model_module_version": "1.0.0",
      "model_name": "LayoutModel",
      "state": {}
     },
     "ef60aba1962449d6b969efb6ccdca1d2": {
      "model_module": "@jupyter-widgets/controls",
      "model_module_version": "1.0.0",
      "model_name": "LabelModel",
      "state": {
       "layout": "IPY_MODEL_3cff1ac26f0d4686aaeba21785731395",
       "style": "IPY_MODEL_263704a5fca149509720dafcc16ac978",
       "value": "$\\large t_0$ -время подачи импульса"
      }
     },
     "ef6faf8a34c64588aec3828849c602d0": {
      "model_module": "@jupyter-widgets/controls",
      "model_module_version": "1.0.0",
      "model_name": "BoundedFloatTextModel",
      "state": {
       "continuous_update": true,
       "description": "Time:",
       "layout": "IPY_MODEL_1fcb5f5e87804d578090f0fe32718be1",
       "max": 1,
       "style": "IPY_MODEL_fedfbb024ef7499fb92271bae6c303b9",
       "value": 1
      }
     },
     "ef71a104be754e6688a72d7c5c8dbdf9": {
      "model_module": "@jupyter-widgets/base",
      "model_module_version": "1.0.0",
      "model_name": "LayoutModel",
      "state": {}
     },
     "ef7ab6ac4e1c4a4a87ce759663567981": {
      "model_module": "@jupyter-widgets/controls",
      "model_module_version": "1.0.0",
      "model_name": "DescriptionStyleModel",
      "state": {
       "description_width": ""
      }
     },
     "ef8674fe356049419fee4cb7aabfb3d4": {
      "model_module": "@jupyter-widgets/controls",
      "model_module_version": "1.0.0",
      "model_name": "HBoxModel",
      "state": {
       "children": [
        "IPY_MODEL_5fcc97dca52a403896a02c131f98086d",
        "IPY_MODEL_77b5095d839b4e4d8d22402c4698972d"
       ],
       "layout": "IPY_MODEL_0e56845c3fd245a48cc0be59fe1de643"
      }
     },
     "ef99fe1a87514e75843357bc18aa780d": {
      "model_module": "@jupyter-widgets/controls",
      "model_module_version": "1.0.0",
      "model_name": "BoundedFloatTextModel",
      "state": {
       "layout": "IPY_MODEL_1459eed6de0345b1a597f96abe68fc90",
       "step": 0.01,
       "style": "IPY_MODEL_9bec22b7f1ce4dad9e7a853a388ff01d",
       "value": 1
      }
     },
     "efd80994443a46dbbbc158b7967ed4c8": {
      "model_module": "@jupyter-widgets/controls",
      "model_module_version": "1.0.0",
      "model_name": "LabelModel",
      "state": {
       "layout": "IPY_MODEL_3440e096a908431b91241c889c62e3fc",
       "style": "IPY_MODEL_bee86678c46f4e088808002cf213d9b7",
       "value": "$\\large a$ -амплитуда импульса"
      }
     },
     "f022be80f6274563a4698cec96fc8ce8": {
      "model_module": "@jupyter-widgets/controls",
      "model_module_version": "1.0.0",
      "model_name": "HBoxModel",
      "state": {
       "children": [
        "IPY_MODEL_1e8986e6411d420db84490e94f43a76a",
        "IPY_MODEL_7112fb7a7aea4755aa160475b573fbab"
       ],
       "layout": "IPY_MODEL_6de655a14c154ab894af40877dab6f40"
      }
     },
     "f0253e3197bf4cd7bc73ea165d37f940": {
      "model_module": "@jupyter-widgets/controls",
      "model_module_version": "1.0.0",
      "model_name": "SliderStyleModel",
      "state": {
       "description_width": ""
      }
     },
     "f040a298659d4ec59be572c22c1a2fd8": {
      "model_module": "@jupyter-widgets/controls",
      "model_module_version": "1.0.0",
      "model_name": "VBoxModel",
      "state": {
       "children": [
        "IPY_MODEL_50e595304c6141c086934e46fdafe356",
        "IPY_MODEL_4369da7dc5984d12ac844d4ccb70340a"
       ],
       "layout": "IPY_MODEL_a98acff97c2c49b3b25b56e8e8a020b4"
      }
     },
     "f04c768aad4f48e7bc2135be495fca2a": {
      "model_module": "@jupyter-widgets/controls",
      "model_module_version": "1.0.0",
      "model_name": "DescriptionStyleModel",
      "state": {
       "description_width": ""
      }
     },
     "f05f10235c9b4cebaa1d87866cf7c541": {
      "model_module": "@jupyter-widgets/controls",
      "model_module_version": "1.0.0",
      "model_name": "DescriptionStyleModel",
      "state": {
       "description_width": ""
      }
     },
     "f067b2fa4da34478aa7775ac06e26707": {
      "model_module": "@jupyter-widgets/base",
      "model_module_version": "1.0.0",
      "model_name": "LayoutModel",
      "state": {}
     },
     "f0687618a23e446abb1d30efde840ef1": {
      "model_module": "@jupyter-widgets/base",
      "model_module_version": "1.0.0",
      "model_name": "LayoutModel",
      "state": {}
     },
     "f07a6aeda2794de6acd23ab09e411922": {
      "model_module": "@jupyter-widgets/base",
      "model_module_version": "1.0.0",
      "model_name": "LayoutModel",
      "state": {}
     },
     "f0865bf3a1114134aa481485c034bb65": {
      "model_module": "@jupyter-widgets/controls",
      "model_module_version": "1.0.0",
      "model_name": "LabelModel",
      "state": {
       "layout": "IPY_MODEL_2cbda92eb3f14bc3aa52cd2a5adb7d31",
       "style": "IPY_MODEL_7b610315f5244301a0d969436e17402a",
       "value": "Время симуляции:"
      }
     },
     "f09fc7aa77404c19906762dfad27658b": {
      "model_module": "@jupyter-widgets/base",
      "model_module_version": "1.0.0",
      "model_name": "LayoutModel",
      "state": {}
     },
     "f0cbfaadf04a401ca782164b7fe4de5a": {
      "model_module": "@jupyter-widgets/controls",
      "model_module_version": "1.0.0",
      "model_name": "DescriptionStyleModel",
      "state": {
       "description_width": ""
      }
     },
     "f0d7c5ee5d3a4da7a8a2fad42fa6f22b": {
      "model_module": "@jupyter-widgets/controls",
      "model_module_version": "1.0.0",
      "model_name": "HBoxModel",
      "state": {
       "children": [
        "IPY_MODEL_ad0ef6207f274b09b9f7fa724d2462cd",
        "IPY_MODEL_717b96dcecb14541af7e3b3c372dd17f"
       ],
       "layout": "IPY_MODEL_a9a5cfacee0e46a5858f51e417dbfd46"
      }
     },
     "f0dae25080b64ffc8cc6686f058d4155": {
      "model_module": "@jupyter-widgets/controls",
      "model_module_version": "1.0.0",
      "model_name": "DescriptionStyleModel",
      "state": {
       "description_width": ""
      }
     },
     "f0f40c86de0e4c57b767b0fa3f8d519c": {
      "model_module": "@jupyter-widgets/base",
      "model_module_version": "1.0.0",
      "model_name": "LayoutModel",
      "state": {}
     },
     "f0f790f2efb74a8dbde6c09576d15e6b": {
      "model_module": "@jupyter-widgets/controls",
      "model_module_version": "1.0.0",
      "model_name": "ToggleButtonsStyleModel",
      "state": {
       "button_width": "",
       "description_width": ""
      }
     },
     "f18cd7447ffe47559dede2b8ca76ccc1": {
      "model_module": "@jupyter-widgets/controls",
      "model_module_version": "1.0.0",
      "model_name": "VBoxModel",
      "state": {
       "children": [
        "IPY_MODEL_f549604b25bc49d6ace6443cb31e9bd7",
        "IPY_MODEL_a5e6b288794e411c83aa4c1e6998d49e"
       ],
       "layout": "IPY_MODEL_773eea9191994ce2aa5b595bc8cf9a57"
      }
     },
     "f1b73728a8b94377b4c95961d7012f47": {
      "model_module": "@jupyter-widgets/controls",
      "model_module_version": "1.0.0",
      "model_name": "IntSliderModel",
      "state": {
       "description": "Step:",
       "layout": "IPY_MODEL_3bb15bae15f44849959958495aac03a5",
       "max": 199,
       "style": "IPY_MODEL_64730b4fa8b34dcf9c6f2d612312dab1",
       "value": 7
      }
     },
     "f1c5debd023342f1a087b6c4c9d13983": {
      "model_module": "@jupyter-widgets/controls",
      "model_module_version": "1.0.0",
      "model_name": "LabelModel",
      "state": {
       "layout": "IPY_MODEL_22c0864dec164a1f8e5f7626921125ac",
       "style": "IPY_MODEL_9a4c5143e00c44e79cce3464471ce2c9",
       "value": "Количество шагов по $x$:"
      }
     },
     "f1d1b3ebcb0a420f98ffef9065450f2c": {
      "model_module": "@jupyter-widgets/controls",
      "model_module_version": "1.0.0",
      "model_name": "VBoxModel",
      "state": {
       "children": [
        "IPY_MODEL_1731ad6b119c441db9b16efcf13fb853",
        "IPY_MODEL_ef2ce996d8e14f2387c824df5d9d11ce"
       ],
       "layout": "IPY_MODEL_9f24220654c84f1db0883f061e5cafc5"
      }
     },
     "f21801459ac3407aa010ac9e90e9d24c": {
      "model_module": "@jupyter-widgets/base",
      "model_module_version": "1.0.0",
      "model_name": "LayoutModel",
      "state": {}
     },
     "f22c4a9252b040b384d0b97feff2a07b": {
      "model_module": "@jupyter-widgets/base",
      "model_module_version": "1.0.0",
      "model_name": "LayoutModel",
      "state": {}
     },
     "f22ca006386f4556bcdb00d2f802974c": {
      "model_module": "@jupyter-widgets/controls",
      "model_module_version": "1.0.0",
      "model_name": "ToggleButtonsStyleModel",
      "state": {
       "button_width": "",
       "description_width": ""
      }
     },
     "f237b5c44cd94ce9aba8365e2fbe477e": {
      "model_module": "@jupyter-widgets/controls",
      "model_module_version": "1.0.0",
      "model_name": "DescriptionStyleModel",
      "state": {
       "description_width": ""
      }
     },
     "f24056ef9bc64b6b90cb764138df5a0a": {
      "model_module": "@jupyter-widgets/controls",
      "model_module_version": "1.0.0",
      "model_name": "DescriptionStyleModel",
      "state": {
       "description_width": ""
      }
     },
     "f2435d01160d494882b08e46c5f0ebf2": {
      "model_module": "@jupyter-widgets/controls",
      "model_module_version": "1.0.0",
      "model_name": "VBoxModel",
      "state": {
       "children": [
        "IPY_MODEL_9a853ab1dc274ca785da027451a11e6e",
        "IPY_MODEL_12910e572ca8421ca10ddd912874499d",
        "IPY_MODEL_9159f81dd1214e9cb3cbca40dbc4051b",
        "IPY_MODEL_7c6bb154fc084b4f9038d9e2b88706a9",
        "IPY_MODEL_b6891580a47a4adc8d3d07c3eefcb24c",
        "IPY_MODEL_aec6153f60a54d6daef2e5d640128653"
       ],
       "layout": "IPY_MODEL_e4b9fc3a995e422e9280e588424c1e00"
      }
     },
     "f2459da15fc344cf9daf3b47a4b5c22e": {
      "model_module": "@jupyter-widgets/controls",
      "model_module_version": "1.0.0",
      "model_name": "DescriptionStyleModel",
      "state": {
       "description_width": ""
      }
     },
     "f25a56f60dca4917968eb6b58c56b4b7": {
      "model_module": "@jupyter-widgets/controls",
      "model_module_version": "1.0.0",
      "model_name": "BoundedFloatTextModel",
      "state": {
       "layout": "IPY_MODEL_52299bd2cb9c4df9a65d6f8404bf85cf",
       "step": 0.01,
       "style": "IPY_MODEL_de8a22e843b24ec1976de4edcc542f35",
       "value": 1
      }
     },
     "f25c06db494b4bf6b0bbb593a61c3404": {
      "model_module": "@jupyter-widgets/base",
      "model_module_version": "1.0.0",
      "model_name": "LayoutModel",
      "state": {}
     },
     "f2670e395686461bad2ee0771d811ad0": {
      "model_module": "@jupyter-widgets/controls",
      "model_module_version": "1.0.0",
      "model_name": "VBoxModel",
      "state": {
       "children": [
        "IPY_MODEL_22ac2a8d1b2f4261a691a0945a5e4a89",
        "IPY_MODEL_cf1d2c6f1e314fe2aca58ad99cfc16e0"
       ],
       "layout": "IPY_MODEL_cca08bdc7650450e8b370a55df157485"
      }
     },
     "f2837aab9bee4d019b635c9e9ea26b33": {
      "model_module": "@jupyter-widgets/controls",
      "model_module_version": "1.0.0",
      "model_name": "DescriptionStyleModel",
      "state": {
       "description_width": ""
      }
     },
     "f2a6e0c8c4744e89ab1f3c48548a5e0b": {
      "model_module": "@jupyter-widgets/controls",
      "model_module_version": "1.0.0",
      "model_name": "VBoxModel",
      "state": {
       "children": [
        "IPY_MODEL_2820d1b19f1447b79f8d4146749b3eb2",
        "IPY_MODEL_f3d15b2a1c50477b91997f908bef3d4f"
       ],
       "layout": "IPY_MODEL_c7532f614b1d4d71afafb35f931f4fdb"
      }
     },
     "f2b4e1bd2150412bac637210e2ce5819": {
      "model_module": "@jupyter-widgets/base",
      "model_module_version": "1.0.0",
      "model_name": "LayoutModel",
      "state": {}
     },
     "f2c2b7c2b3da4b26a2f4e9c928e67ce8": {
      "model_module": "@jupyter-widgets/base",
      "model_module_version": "1.0.0",
      "model_name": "LayoutModel",
      "state": {}
     },
     "f2cd474901824590ae3d31f32e81aeb9": {
      "model_module": "@jupyter-widgets/controls",
      "model_module_version": "1.0.0",
      "model_name": "DescriptionStyleModel",
      "state": {
       "description_width": ""
      }
     },
     "f2ed077c6392428eb01ee0d286629ae2": {
      "model_module": "@jupyter-widgets/base",
      "model_module_version": "1.0.0",
      "model_name": "LayoutModel",
      "state": {}
     },
     "f30a46c560a943ecb0ec9ea3cc5e2165": {
      "model_module": "@jupyter-widgets/base",
      "model_module_version": "1.0.0",
      "model_name": "LayoutModel",
      "state": {}
     },
     "f343866286c24897989de2ea719da0e4": {
      "model_module": "@jupyter-widgets/controls",
      "model_module_version": "1.0.0",
      "model_name": "BoundedFloatTextModel",
      "state": {
       "layout": "IPY_MODEL_9babe1a2eebe41af9d47438c51c46927",
       "step": 0.01,
       "style": "IPY_MODEL_5bb3dcf40ce74bc8ae4610b603dc1e36",
       "value": 1
      }
     },
     "f351b173c67a4e25bb7f504cb54bf65b": {
      "model_module": "@jupyter-widgets/base",
      "model_module_version": "1.0.0",
      "model_name": "LayoutModel",
      "state": {}
     },
     "f354db40634e4e4398a5f1809c760805": {
      "model_module": "@jupyter-widgets/controls",
      "model_module_version": "1.0.0",
      "model_name": "DescriptionStyleModel",
      "state": {
       "description_width": ""
      }
     },
     "f373de9f3ac048abbcbd48764489d85b": {
      "model_module": "@jupyter-widgets/controls",
      "model_module_version": "1.0.0",
      "model_name": "DescriptionStyleModel",
      "state": {
       "description_width": ""
      }
     },
     "f3799685476b4986bc50a213de8eb50c": {
      "model_module": "@jupyter-widgets/base",
      "model_module_version": "1.0.0",
      "model_name": "LayoutModel",
      "state": {}
     },
     "f3a44c6ea98b4eda89302f3506e70e81": {
      "model_module": "@jupyter-widgets/base",
      "model_module_version": "1.0.0",
      "model_name": "LayoutModel",
      "state": {}
     },
     "f3a7cfc5b0f64d128176cd13e8197d31": {
      "model_module": "@jupyter-widgets/controls",
      "model_module_version": "1.0.0",
      "model_name": "DescriptionStyleModel",
      "state": {
       "description_width": ""
      }
     },
     "f3b244fbb79e43a8b7ede55eb70c000e": {
      "model_module": "@jupyter-widgets/base",
      "model_module_version": "1.0.0",
      "model_name": "LayoutModel",
      "state": {}
     },
     "f3b2a5d7fb644562ac7b6f46dd97f951": {
      "model_module": "@jupyter-widgets/controls",
      "model_module_version": "1.0.0",
      "model_name": "VBoxModel",
      "state": {
       "children": [
        "IPY_MODEL_dab3140269b14ed1955a663ce84b1a46",
        "IPY_MODEL_b67460c0bce0412f909e632736de2d60",
        "IPY_MODEL_d123e520205b43f89c8237444005b5bd",
        "IPY_MODEL_e0985eac8b924718815fd67b29a5e3fe",
        "IPY_MODEL_a397934531b943588df8f0ef40217416",
        "IPY_MODEL_9fa7a1ba8c4f4fabba23f530839f6c67"
       ],
       "layout": "IPY_MODEL_a9d0168cdcaf49ce8b3e5cd9576d6253"
      }
     },
     "f3d0de9d6543463891590bb4beb1b1dc": {
      "model_module": "@jupyter-widgets/controls",
      "model_module_version": "1.0.0",
      "model_name": "HBoxModel",
      "state": {
       "children": [
        "IPY_MODEL_dfb2abd30fbf4a1796d534784b1fa832",
        "IPY_MODEL_11cc2012d5cd4bd188c0d2fbb58a8b8e"
       ],
       "layout": "IPY_MODEL_60b52c83eb444a16ae1bac1eb60f339e"
      }
     },
     "f3d15b2a1c50477b91997f908bef3d4f": {
      "model_module": "@jupyter-widgets/controls",
      "model_module_version": "1.0.0",
      "model_name": "HBoxModel",
      "state": {
       "children": [
        "IPY_MODEL_f85ac1e483ad479dadaa8c854543e3cf",
        "IPY_MODEL_8e3d74f543ab478fb826593d733b6e66"
       ],
       "layout": "IPY_MODEL_cc23892e7eb441c08182fea10be8925e"
      }
     },
     "f404eb03d7ef4819be9d5e3aeef820ee": {
      "model_module": "@jupyter-widgets/controls",
      "model_module_version": "1.0.0",
      "model_name": "DescriptionStyleModel",
      "state": {
       "description_width": ""
      }
     },
     "f462f81e8a0946dc918eb801e246469c": {
      "model_module": "@jupyter-widgets/controls",
      "model_module_version": "1.0.0",
      "model_name": "BoundedFloatTextModel",
      "state": {
       "continuous_update": true,
       "description": "Time:",
       "layout": "IPY_MODEL_9f300bfa765f41a2beb50087f8ec1a08",
       "max": 1,
       "style": "IPY_MODEL_0784ea52b9214a308e372e6bdcab284a"
      }
     },
     "f48f9aa16a6548b49b5e06891b4880d3": {
      "model_module": "@jupyter-widgets/base",
      "model_module_version": "1.0.0",
      "model_name": "LayoutModel",
      "state": {}
     },
     "f4acfb086062498f82aefe7d428622dd": {
      "model_module": "@jupyter-widgets/base",
      "model_module_version": "1.0.0",
      "model_name": "LayoutModel",
      "state": {}
     },
     "f4c8f3af4b4442be976bdfaef80da8d4": {
      "model_module": "@jupyter-widgets/controls",
      "model_module_version": "1.0.0",
      "model_name": "HBoxModel",
      "state": {
       "children": [
        "IPY_MODEL_8e05a1aba7b34733a27d5f292e88749e",
        "IPY_MODEL_c4c4dd5b00044ca1bd068d28a6346689"
       ],
       "layout": "IPY_MODEL_fa955ed1e81c4c4b8144fa9bb4871580"
      }
     },
     "f4cfbfd350214f808bd0f67ab6ef9634": {
      "model_module": "@jupyter-widgets/controls",
      "model_module_version": "1.0.0",
      "model_name": "LabelModel",
      "state": {
       "layout": "IPY_MODEL_79bc0d7320f64186822b53920a3c269f",
       "style": "IPY_MODEL_37eccc3e42e24c0f8135c8152fd6d785"
      }
     },
     "f4ed987d701b48f585c24f3f6b00613b": {
      "model_module": "@jupyter-widgets/base",
      "model_module_version": "1.0.0",
      "model_name": "LayoutModel",
      "state": {}
     },
     "f50ab7efe40c41fda312b21ff27b80a7": {
      "model_module": "@jupyter-widgets/controls",
      "model_module_version": "1.0.0",
      "model_name": "VBoxModel",
      "state": {
       "children": [
        "IPY_MODEL_93ede6507a8d4c2aaeadc153ae7a264d",
        "IPY_MODEL_b247c9b2d6e94e2dad2c89470d5432ac",
        "IPY_MODEL_5e274d4547b747289400f2cb9ab60628",
        "IPY_MODEL_a7f145a491444d4fa82d3b66f915b58f",
        "IPY_MODEL_edaab40e6187446fb5ffdaec19bd568a"
       ],
       "layout": "IPY_MODEL_7043eda1234d4226a18f4d27818811c5"
      }
     },
     "f549604b25bc49d6ace6443cb31e9bd7": {
      "model_module": "@jupyter-widgets/controls",
      "model_module_version": "1.0.0",
      "model_name": "LabelModel",
      "state": {
       "layout": "IPY_MODEL_aa38c24f2c4f4c68a48d4fed998517d9",
       "style": "IPY_MODEL_b2f674f5b43249ab86984dac57adde1f",
       "value": "Длительность анимации"
      }
     },
     "f54dc00345f844bda6b0a94809bf2ad0": {
      "model_module": "@jupyter-widgets/base",
      "model_module_version": "1.0.0",
      "model_name": "LayoutModel",
      "state": {}
     },
     "f574738571d840a99d249f81f65a4892": {
      "model_module": "@jupyter-widgets/controls",
      "model_module_version": "1.0.0",
      "model_name": "LabelModel",
      "state": {
       "layout": "IPY_MODEL_322767d3c0a14afc98aa8ea8fe40c03e",
       "style": "IPY_MODEL_e586efde5dfe49b690d439350bcb157f",
       "value": "Точность:"
      }
     },
     "f58b73721e4a46b8b233ef792fefd7e5": {
      "model_module": "@jupyter-widgets/controls",
      "model_module_version": "1.0.0",
      "model_name": "DescriptionStyleModel",
      "state": {
       "description_width": ""
      }
     },
     "f59617f3883e4ef0bd8db6e5fb9461c9": {
      "model_module": "@jupyter-widgets/base",
      "model_module_version": "1.0.0",
      "model_name": "LayoutModel",
      "state": {}
     },
     "f5ab3ccf3aee430c9eb20146ff841f9c": {
      "model_module": "@jupyter-widgets/controls",
      "model_module_version": "1.0.0",
      "model_name": "VBoxModel",
      "state": {
       "children": [
        "IPY_MODEL_a0457286c07148ec954b03835478eeb2",
        "IPY_MODEL_701491cb23a849a4a2f806381ae9da88"
       ],
       "layout": "IPY_MODEL_4396db829a634804ad119f8f2fe0e2f2"
      }
     },
     "f5cd50de1701462abb90dba70826324b": {
      "model_module": "@jupyter-widgets/base",
      "model_module_version": "1.0.0",
      "model_name": "LayoutModel",
      "state": {}
     },
     "f5f311990b904144a025d09acd6a8c11": {
      "model_module": "@jupyter-widgets/controls",
      "model_module_version": "1.0.0",
      "model_name": "HBoxModel",
      "state": {
       "children": [
        "IPY_MODEL_991f4670dcfa46548e95b318dfaccff6",
        "IPY_MODEL_1d5b21967fdc441d9abaad892e3db3f0"
       ],
       "layout": "IPY_MODEL_93e5c5d777a5496c8ac7bf4bf6eaf8ce"
      }
     },
     "f62c44051d17430a96cfeb707749640f": {
      "model_module": "@jupyter-widgets/base",
      "model_module_version": "1.0.0",
      "model_name": "LayoutModel",
      "state": {}
     },
     "f66b1a5a5fbc40beb2a12d8b72230348": {
      "model_module": "@jupyter-widgets/base",
      "model_module_version": "1.0.0",
      "model_name": "LayoutModel",
      "state": {}
     },
     "f6873ded15d34f33bfca9f3b8cf3e0ee": {
      "model_module": "@jupyter-widgets/controls",
      "model_module_version": "1.0.0",
      "model_name": "DescriptionStyleModel",
      "state": {
       "description_width": ""
      }
     },
     "f6a00d4d938e4e56b6b6e3389f4fe5db": {
      "model_module": "@jupyter-widgets/base",
      "model_module_version": "1.0.0",
      "model_name": "LayoutModel",
      "state": {}
     },
     "f6d1a8d1fb59437abb2ab9e971b51ca4": {
      "model_module": "@jupyter-widgets/controls",
      "model_module_version": "1.0.0",
      "model_name": "BoundedFloatTextModel",
      "state": {
       "layout": "IPY_MODEL_1a51fb6ded38481980e3ec401a14db34",
       "step": 0.01,
       "style": "IPY_MODEL_e0533c6a6b4244dc84fce07e1fe4a1ca",
       "value": 1
      }
     },
     "f700af1f16c34e509043dd8d99fb0124": {
      "model_module": "@jupyter-widgets/controls",
      "model_module_version": "1.0.0",
      "model_name": "DescriptionStyleModel",
      "state": {
       "description_width": ""
      }
     },
     "f76cdfb291fd4a0fbb8b90fbdba680c3": {
      "model_module": "@jupyter-widgets/base",
      "model_module_version": "1.0.0",
      "model_name": "LayoutModel",
      "state": {}
     },
     "f7cac445b1864ab688b6c2b7d7575e40": {
      "model_module": "@jupyter-widgets/controls",
      "model_module_version": "1.0.0",
      "model_name": "LabelModel",
      "state": {
       "layout": "IPY_MODEL_7c0760662d6d450abefde64d67ab4abe",
       "style": "IPY_MODEL_1dcc832f64454d219423fb20637e09e4",
       "value": "$\\large T$ -сила натяжения струны"
      }
     },
     "f7d040beeeed4d5eba65b4d475b9c0a1": {
      "model_module": "@jupyter-widgets/base",
      "model_module_version": "1.0.0",
      "model_name": "LayoutModel",
      "state": {}
     },
     "f812ba90da2a400994a438a882ee915d": {
      "model_module": "@jupyter-widgets/controls",
      "model_module_version": "1.0.0",
      "model_name": "DescriptionStyleModel",
      "state": {
       "description_width": ""
      }
     },
     "f85ac1e483ad479dadaa8c854543e3cf": {
      "model_module": "@jupyter-widgets/controls",
      "model_module_version": "1.0.0",
      "model_name": "BoundedFloatTextModel",
      "state": {
       "continuous_update": true,
       "description": "Time:",
       "layout": "IPY_MODEL_5c77b14c17c743cf9bf69dee4a749b94",
       "max": 1,
       "style": "IPY_MODEL_ecdcc0bec20f4d6aab2f20e1b0ca2e04",
       "value": 1
      }
     },
     "f86fdd4009a44a9b8420a268914708d0": {
      "model_module": "@jupyter-widgets/controls",
      "model_module_version": "1.0.0",
      "model_name": "HBoxModel",
      "state": {
       "children": [
        "IPY_MODEL_763a0d5a368149a2b99a54fde4b205b8",
        "IPY_MODEL_b4f78021cbf640e6a64f49ac2308ba0f"
       ],
       "layout": "IPY_MODEL_338d5b6c5e0c47ea90ddad4d490f221f"
      }
     },
     "f89ab84f259d497ca0a27d480999e76a": {
      "model_module": "@jupyter-widgets/controls",
      "model_module_version": "1.0.0",
      "model_name": "DescriptionStyleModel",
      "state": {
       "description_width": ""
      }
     },
     "f8a4b7a84f94467e811e8ee8ab9337a0": {
      "model_module": "@jupyter-widgets/base",
      "model_module_version": "1.0.0",
      "model_name": "LayoutModel",
      "state": {}
     },
     "f8c2023c11694b81a96a231abdc849d2": {
      "model_module": "@jupyter-widgets/base",
      "model_module_version": "1.0.0",
      "model_name": "LayoutModel",
      "state": {}
     },
     "f928d7f169be42b3997ce3832dcc8a81": {
      "model_module": "@jupyter-widgets/controls",
      "model_module_version": "1.0.0",
      "model_name": "SliderStyleModel",
      "state": {
       "description_width": ""
      }
     },
     "f972e3780c8940858900ee4c03c6c5a6": {
      "model_module": "@jupyter-widgets/base",
      "model_module_version": "1.0.0",
      "model_name": "LayoutModel",
      "state": {}
     },
     "f97fafd0e3cb40c2b73a6f0c1385dc3e": {
      "model_module": "@jupyter-widgets/base",
      "model_module_version": "1.0.0",
      "model_name": "LayoutModel",
      "state": {}
     },
     "f9d2f7f7d78f4d7ab5e75acd846302fe": {
      "model_module": "@jupyter-widgets/controls",
      "model_module_version": "1.0.0",
      "model_name": "DescriptionStyleModel",
      "state": {
       "description_width": ""
      }
     },
     "f9e0a7b2b47a4288bc63ebb488f495d8": {
      "model_module": "@jupyter-widgets/base",
      "model_module_version": "1.0.0",
      "model_name": "LayoutModel",
      "state": {}
     },
     "f9ee25c1a00240578a091b2daae3dc7a": {
      "model_module": "@jupyter-widgets/controls",
      "model_module_version": "1.0.0",
      "model_name": "VBoxModel",
      "state": {
       "children": [
        "IPY_MODEL_42196688b4e145c1ac06845c2eb03944",
        "IPY_MODEL_2c43c1ea6d3f4b14a023b285d06c2b69"
       ],
       "layout": "IPY_MODEL_f62c44051d17430a96cfeb707749640f"
      }
     },
     "fa0e4626abee49f4bebeca7c3cd92d61": {
      "model_module": "@jupyter-widgets/base",
      "model_module_version": "1.0.0",
      "model_name": "LayoutModel",
      "state": {}
     },
     "fa1bf9a3d33d433c827b522640fad8a8": {
      "model_module": "@jupyter-widgets/controls",
      "model_module_version": "1.0.0",
      "model_name": "HBoxModel",
      "state": {
       "children": [
        "IPY_MODEL_d7eca357441f420ea5933d182f2369f8",
        "IPY_MODEL_17119743190e42f5ac3eb57f901d8ea6"
       ],
       "layout": "IPY_MODEL_1006938a200f4f8ebe55df832c44cdc9"
      }
     },
     "fa500c0159064d60b20cc0e458dc8195": {
      "model_module": "@jupyter-widgets/controls",
      "model_module_version": "1.0.0",
      "model_name": "LabelModel",
      "state": {
       "layout": "IPY_MODEL_a0d0581227534e22937815357d624f24",
       "style": "IPY_MODEL_d7ea0342292c484aa9212e7aa9eeff21"
      }
     },
     "fa5d7c4179bc4aadafad01afb977c526": {
      "model_module": "@jupyter-widgets/base",
      "model_module_version": "1.0.0",
      "model_name": "LayoutModel",
      "state": {}
     },
     "fa6888bb99384148842494611fc3c282": {
      "model_module": "@jupyter-widgets/base",
      "model_module_version": "1.0.0",
      "model_name": "LayoutModel",
      "state": {}
     },
     "fa6e2b60476244998ae8c1006a790453": {
      "model_module": "@jupyter-widgets/controls",
      "model_module_version": "1.0.0",
      "model_name": "BoundedFloatTextModel",
      "state": {
       "layout": "IPY_MODEL_6bbd29d5918e471aaf403fba0ebe52f6",
       "step": 0.01,
       "style": "IPY_MODEL_6b3454017f3a4b939d2d8b059e3e8e98",
       "value": 1
      }
     },
     "fa8e079a73ff49589d9faea4702cc77f": {
      "model_module": "@jupyter-widgets/base",
      "model_module_version": "1.0.0",
      "model_name": "LayoutModel",
      "state": {}
     },
     "fa955ed1e81c4c4b8144fa9bb4871580": {
      "model_module": "@jupyter-widgets/base",
      "model_module_version": "1.0.0",
      "model_name": "LayoutModel",
      "state": {}
     },
     "fa9e0482d44449048c111d0c1be747a7": {
      "model_module": "@jupyter-widgets/controls",
      "model_module_version": "1.0.0",
      "model_name": "IntSliderModel",
      "state": {
       "description": "Step:",
       "layout": "IPY_MODEL_9136f9a72153489a88bcc6759044c486",
       "max": 199,
       "style": "IPY_MODEL_3d0c891a9ee449bdb00858a82c674f5a"
      }
     },
     "fadd9e990f6a4a2e9663c57846006730": {
      "model_module": "@jupyter-widgets/controls",
      "model_module_version": "1.0.0",
      "model_name": "DescriptionStyleModel",
      "state": {
       "description_width": ""
      }
     },
     "faf48855f3fa46a486ffd2a51e501f5e": {
      "model_module": "@jupyter-widgets/controls",
      "model_module_version": "1.0.0",
      "model_name": "FloatSliderModel",
      "state": {
       "layout": "IPY_MODEL_64ce9bc8c02e4e0d9823fe493cfffbf3",
       "max": 20,
       "min": 0.1,
       "readout_format": "f",
       "step": 0.1,
       "style": "IPY_MODEL_a57ff1cf269d47eb88a8358402a7078c",
       "value": 3
      }
     },
     "fb1766e21b8c4a898828d8d69e36584d": {
      "model_module": "@jupyter-widgets/base",
      "model_module_version": "1.0.0",
      "model_name": "LayoutModel",
      "state": {}
     },
     "fb1fc88e7f704b62863de96293df4326": {
      "model_module": "@jupyter-widgets/controls",
      "model_module_version": "1.0.0",
      "model_name": "LabelModel",
      "state": {
       "layout": "IPY_MODEL_6f58ea34a6ee47918d6080694299975f",
       "style": "IPY_MODEL_1bfdd964948c494284195a55e211c157",
       "value": "Количество шагов по $x$:"
      }
     },
     "fb89eeeb673c4f068200b235e4ef46c3": {
      "model_module": "@jupyter-widgets/controls",
      "model_module_version": "1.0.0",
      "model_name": "SliderStyleModel",
      "state": {
       "description_width": ""
      }
     },
     "fb8ba7a167ec4427a7f3fb4cbe43286e": {
      "model_module": "@jupyter-widgets/controls",
      "model_module_version": "1.0.0",
      "model_name": "LabelModel",
      "state": {
       "layout": "IPY_MODEL_756ff507a1fb40cea18f5e43e712505c",
       "style": "IPY_MODEL_85e06ce7a8ff45f1b6e8651cd109aed3",
       "value": "Время симуляции:"
      }
     },
     "fb928eba3b9343599e1c34032624eb28": {
      "model_module": "@jupyter-widgets/base",
      "model_module_version": "1.0.0",
      "model_name": "LayoutModel",
      "state": {}
     },
     "fc78932702034f46a99c67d053e72f3b": {
      "model_module": "@jupyter-widgets/controls",
      "model_module_version": "1.0.0",
      "model_name": "LabelModel",
      "state": {
       "layout": "IPY_MODEL_9059b77bfbc446c89354761aee2047a0",
       "style": "IPY_MODEL_41728e67ee1d4a4bbcdc96addea46973",
       "value": "Количество шагов по $t$:"
      }
     },
     "fc78a582230f4f53920efdada8829221": {
      "model_module": "@jupyter-widgets/controls",
      "model_module_version": "1.0.0",
      "model_name": "LabelModel",
      "state": {
       "layout": "IPY_MODEL_e77de2c36d6b4441895bc0febad1f386",
       "style": "IPY_MODEL_a6e3eb24bc9844f08402c795cc20d2b1"
      }
     },
     "fc8b6d5ef5544caaac72b3cfafc167e6": {
      "model_module": "@jupyter-widgets/base",
      "model_module_version": "1.0.0",
      "model_name": "LayoutModel",
      "state": {}
     },
     "fcb023e8e85c4897ba7920b796712121": {
      "model_module": "@jupyter-widgets/base",
      "model_module_version": "1.0.0",
      "model_name": "LayoutModel",
      "state": {}
     },
     "fcbf8cae7d2c41fe95e8ac3b80dfa581": {
      "model_module": "@jupyter-widgets/controls",
      "model_module_version": "1.0.0",
      "model_name": "LabelModel",
      "state": {
       "layout": "IPY_MODEL_ab616fc267d54a249aeb3efd81d8e8f2",
       "style": "IPY_MODEL_76c1e39a76904c2d864cb96376227eec",
       "value": "Количество шагов по $t$:"
      }
     },
     "fd09f496da414857a50d452950c3492d": {
      "model_module": "@jupyter-widgets/base",
      "model_module_version": "1.0.0",
      "model_name": "LayoutModel",
      "state": {}
     },
     "fd13640ea575407da4014c7167cb8dd0": {
      "model_module": "@jupyter-widgets/base",
      "model_module_version": "1.0.0",
      "model_name": "LayoutModel",
      "state": {}
     },
     "fd7b83510753482d9ac8b3f3b72a6286": {
      "model_module": "@jupyter-widgets/base",
      "model_module_version": "1.0.0",
      "model_name": "LayoutModel",
      "state": {}
     },
     "fd954a198cbf4deeb77a2b8c16bca527": {
      "model_module": "@jupyter-widgets/base",
      "model_module_version": "1.0.0",
      "model_name": "LayoutModel",
      "state": {}
     },
     "fd9a175529e44e85b11284b43fb61f89": {
      "model_module": "@jupyter-widgets/controls",
      "model_module_version": "1.0.0",
      "model_name": "DescriptionStyleModel",
      "state": {
       "description_width": ""
      }
     },
     "fd9a1b7c2340447e8d970558379fa969": {
      "model_module": "@jupyter-widgets/base",
      "model_module_version": "1.0.0",
      "model_name": "LayoutModel",
      "state": {}
     },
     "fd9e95d5b3844f27bb40d5162497159a": {
      "model_module": "@jupyter-widgets/controls",
      "model_module_version": "1.0.0",
      "model_name": "HBoxModel",
      "state": {
       "children": [
        "IPY_MODEL_a62c1dfddf5a4ce8b7075e0093dbe9f9",
        "IPY_MODEL_c7b2bfdde1394fb1a581e059e6f0abf8"
       ],
       "layout": "IPY_MODEL_2bb114f622044e22bf3f9601ed4646cd"
      }
     },
     "fda6156a7dc34abb80685f67bae53077": {
      "model_module": "@jupyter-widgets/controls",
      "model_module_version": "1.0.0",
      "model_name": "DescriptionStyleModel",
      "state": {
       "description_width": ""
      }
     },
     "fe60b91166c84f95bfdeb02f951638e8": {
      "model_module": "@jupyter-widgets/controls",
      "model_module_version": "1.0.0",
      "model_name": "HBoxModel",
      "state": {
       "children": [
        "IPY_MODEL_29e0052d79194fdfb56f900a257e28fc",
        "IPY_MODEL_73c6b9a634a44f23b9f3cf188c24c7f8"
       ],
       "layout": "IPY_MODEL_eb39035a51534c619ecddf5f2813b04e"
      }
     },
     "fe890a5ee85643eaba790c3c2445de02": {
      "model_module": "@jupyter-widgets/base",
      "model_module_version": "1.0.0",
      "model_name": "LayoutModel",
      "state": {}
     },
     "fe95341dfff74953b71f5634fd1d695f": {
      "model_module": "@jupyter-widgets/base",
      "model_module_version": "1.0.0",
      "model_name": "LayoutModel",
      "state": {}
     },
     "fea523601fac4917b1662406c7fbf498": {
      "model_module": "@jupyter-widgets/base",
      "model_module_version": "1.0.0",
      "model_name": "LayoutModel",
      "state": {}
     },
     "fea9b66b5832447d82d705a6f0cbea80": {
      "model_module": "@jupyter-widgets/controls",
      "model_module_version": "1.0.0",
      "model_name": "DescriptionStyleModel",
      "state": {
       "description_width": ""
      }
     },
     "feb49490682b4631afa4407c4d99e3af": {
      "model_module": "@jupyter-widgets/controls",
      "model_module_version": "1.0.0",
      "model_name": "DescriptionStyleModel",
      "state": {
       "description_width": ""
      }
     },
     "feb7a6acfb364fd8ab20f570208d1222": {
      "model_module": "@jupyter-widgets/controls",
      "model_module_version": "1.0.0",
      "model_name": "DescriptionStyleModel",
      "state": {
       "description_width": ""
      }
     },
     "feba106c30524f3ea2a9d8d5d7f546e0": {
      "model_module": "@jupyter-widgets/controls",
      "model_module_version": "1.0.0",
      "model_name": "HBoxModel",
      "state": {
       "children": [
        "IPY_MODEL_d6e67dd145e443e0a2f0d5056792b92f",
        "IPY_MODEL_d8527c645ea0489090e2251b0ced5eb0"
       ],
       "layout": "IPY_MODEL_b5b3d7038cf44281ab49019b6f88775f"
      }
     },
     "fed134975b8b4576a0c09861fc2cf8bb": {
      "model_module": "@jupyter-widgets/base",
      "model_module_version": "1.0.0",
      "model_name": "LayoutModel",
      "state": {}
     },
     "fedfbb024ef7499fb92271bae6c303b9": {
      "model_module": "@jupyter-widgets/controls",
      "model_module_version": "1.0.0",
      "model_name": "DescriptionStyleModel",
      "state": {
       "description_width": ""
      }
     },
     "ff34b32786e943fbb260d4256c347903": {
      "model_module": "@jupyter-widgets/base",
      "model_module_version": "1.0.0",
      "model_name": "LayoutModel",
      "state": {}
     },
     "ff452517b30d42fa8a9d4ccb8c21ade0": {
      "model_module": "@jupyter-widgets/controls",
      "model_module_version": "1.0.0",
      "model_name": "DescriptionStyleModel",
      "state": {
       "description_width": ""
      }
     },
     "ff958173b5a341c38bcc1f41275da67e": {
      "model_module": "@jupyter-widgets/controls",
      "model_module_version": "1.0.0",
      "model_name": "LabelModel",
      "state": {
       "layout": "IPY_MODEL_b85359e418a6459cbda42f2ef46319dd",
       "style": "IPY_MODEL_bb8b700edc914024bd7a40c57b5fba01"
      }
     },
     "fff63ff0c1724b4c91963d1778b11f31": {
      "model_module": "@jupyter-widgets/controls",
      "model_module_version": "1.0.0",
      "model_name": "SliderStyleModel",
      "state": {
       "description_width": ""
      }
     }
    },
    "version_major": 2,
    "version_minor": 0
   }
  }
 },
 "nbformat": 4,
 "nbformat_minor": 2
}
