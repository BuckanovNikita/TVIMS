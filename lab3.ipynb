{
 "cells": [
  {
   "cell_type": "markdown",
   "metadata": {},
   "source": [
    "# Лабораторная работа №3\n",
    "\n",
    "Геометрическое определение вероятности, задача Бюффона, \n",
    "операторы сравнения в MATLAB, задача о встрече.\n",
    "\n",
    "## 1. Решить и записать в тетрадь решение задачи Бюффона:\n",
    "На плоскость, разграфленную параллельными прямыми линиями, отстоящими друг от друга на расстояние 2а, наудачу бросается игла длиной 2l. Какова вероятность того, что игла пересечет одну из параллельных прямых, если l<=a?\n",
    "Указание: элементарный исход каждого опыта — положение иглы после падения. Опишите его парой чисел (x, u): х - расстояние от центра иглы до ближайшей снизу линии (0 < x < 2a); u - угол между иглой и ближайшей снизу линией (0 < u < pi). Опишите пространство всех элементарных исходов опыта, постройте это множество, определите область благоприятную наступления события A — пересечения линии иглой. Примените геометрическое определение вероятности."
   ]
  },
  {
   "cell_type": "markdown",
   "metadata": {},
   "source": [
    "## 2. Смоделировать бросание иглы (длиной .5) на плоскость, разграфленную прямыми параллельными линиями (расстояние между линиями 1). \n",
    "Выберите N=10,50,100.Нарисуем область исходов благоприятствующих событию A={игла пересечет одну из параллельных линий} ={(uu,xx)|0 < xx < 0.5*sin(uu) или 1-0.5*sin(uu) < xx < 1 }. Для определения частоты наступления события А на необходимо уметь подсчитывать число попаданий случайной точки (u,x) в область А."
   ]
  },
  {
   "cell_type": "code",
   "execution_count": 9,
   "metadata": {},
   "outputs": [
    {
     "data": {
      "image/png": "[encoded data removed]",
      "text/plain": [
       "<matplotlib.figure.Figure at 0x7f8a2c985e80>"
      ]
     },
     "metadata": {},
     "output_type": "display_data"
    }
   ],
   "source": [
    "import matplotlib.pyplot as plt\n",
    "import matplotlib\n",
    "%matplotlib inline\n",
    "from math import sin\n",
    "import numpy as np\n",
    "from numpy.random import random as rand\n",
    "x1 = []\n",
    "x2 = []\n",
    "u = np.linspace(0,np.pi,num = 100)\n",
    "for phi in u:\n",
    "    x1.append(0.5*sin(phi))\n",
    "    x2.append(1 - 0.5*sin(phi))\n",
    "x1 = [max(q,0) for q in x1 ]\n",
    "x2 = [min(q,1) for q in x2 ]\n",
    "plt.plot(u,x1)\n",
    "plt.plot(u,x2)\n",
    "plt.grid()"
   ]
  },
  {
   "cell_type": "markdown",
   "metadata": {},
   "source": [
    "## 3. Найдите частоту наступления события А в задаче Бюффона для 1000 бросаний иглы.\n",
    "Выполните серию вычислений, найдите A(i) и усредните их. Сообщите оценку вероятности наступления события А в задаче Бюффона."
   ]
  },
  {
   "cell_type": "code",
   "execution_count": 32,
   "metadata": {},
   "outputs": [
    {
     "name": "stdout",
     "output_type": "stream",
     "text": [
      "0.63793\n",
      "value of pi: 3.1351402191463014\n"
     ]
    }
   ],
   "source": [
    "a = 0.5\n",
    "N = 100000\n",
    "values = [[a*rand(), np.pi * rand() ] for i in range(N)]\n",
    "A = [(v[0]>=0 and v[0]<=a*sin(v[1])) or (v[0]<1 and v[0]>=1-a*sin(v[1])) for v in values]\n",
    "p = sum(A)/N\n",
    "pi = 2/p\n",
    "print(p)\n",
    "print('value of pi: '+str(pi))"
   ]
  },
  {
   "cell_type": "markdown",
   "metadata": {},
   "source": [
    "## 4. Решите задачу о встрече \n",
    "Двое договорились о встрече в течение часа, время прихода каждого равномерно распределено в течение этого часа, причем первый ждет второго не более 10 минут и уходит, а второй первого - 20 минут. Оценку вероятности наступления события А={встреча состоялась} показать преподавателю."
   ]
  },
  {
   "cell_type": "code",
   "execution_count": 11,
   "metadata": {},
   "outputs": [
    {
     "data": {
      "text/plain": [
       "0.1585"
      ]
     },
     "execution_count": 11,
     "metadata": {},
     "output_type": "execute_result"
    }
   ],
   "source": [
    "N = 10000\n",
    "a = 10\n",
    "b = 20\n",
    "answer = 0 \n",
    "for i in range(N):\n",
    "    t1 = 60*rand()\n",
    "    t2 = 60*rand()\n",
    "    answer = answer + (t2>t1 and t2<t1+a) or (t2<t1 and t1<t2 + b)\n",
    "answer/N"
   ]
  },
  {
   "cell_type": "code",
   "execution_count": null,
   "metadata": {
    "collapsed": true
   },
   "outputs": [],
   "source": []
  },
  {
   "cell_type": "code",
   "execution_count": null,
   "metadata": {
    "collapsed": true
   },
   "outputs": [],
   "source": []
  }
 ],
 "metadata": {
  "kernelspec": {
   "display_name": "Python 3",
   "language": "python",
   "name": "python3"
  },
  "language_info": {
   "codemirror_mode": {
    "name": "ipython",
    "version": 3
   },
   "file_extension": ".py",
   "mimetype": "text/x-python",
   "name": "python",
   "nbconvert_exporter": "python",
   "pygments_lexer": "ipython3",
   "version": "3.6.1"
  }
 },
 "nbformat": 4,
 "nbformat_minor": 2
}
