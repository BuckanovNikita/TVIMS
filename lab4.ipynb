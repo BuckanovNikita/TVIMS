{
 "cells": [
  {
   "cell_type": "markdown",
   "metadata": {},
   "source": [
    "# Лабораторная работа №4\n",
    "Статистическое моделирование парадокса Де Мере.\n",
    "\n",
    "Постановка задачи:\n",
    "участники азартной игры по очереди бросают три кости; выигрывает тот, у которого сумма очков больше. Шевалье Де Мере много времени провел в наблюдениях этой игры и заметил, что сумма очков, равная 11-ти выпадает чаще, чем 12-ти. Этот экспериментальный факт противоречил его расчетам, в которых, по его мнению, каждому из этих событий благоприятсвует одинаковое число исходов - по шесть."
   ]
  },
  {
   "cell_type": "markdown",
   "metadata": {},
   "source": [
    "# 1. Проверить пригодность генератора случайных чисел rand"
   ]
  },
  {
   "cell_type": "code",
   "execution_count": 50,
   "metadata": {},
   "outputs": [
    {
     "data": {
      "text/plain": [
       "<matplotlib.axes._subplots.AxesSubplot at 0x7f07b0cfdef0>"
      ]
     },
     "execution_count": 50,
     "metadata": {},
     "output_type": "execute_result"
    },
    {
     "data": {
      "image/png": "[encoded data removed]",
      "text/plain": [
       "<matplotlib.figure.Figure at 0x7f07b0bb3978>"
      ]
     },
     "metadata": {},
     "output_type": "display_data"
    }
   ],
   "source": [
    "%matplotlib inline\n",
    "import seaborn as sns\n",
    "import numpy as np\n",
    "from numpy.random import random as rand\n",
    "l =rand(10000)\n",
    "sns.distplot(l,hist = True)"
   ]
  },
  {
   "cell_type": "markdown",
   "metadata": {},
   "source": [
    "# 2. Смоделировать бросание \"правильной\" игральной кости?"
   ]
  },
  {
   "cell_type": "code",
   "execution_count": 51,
   "metadata": {},
   "outputs": [
    {
     "data": {
      "image/png": "[encoded data removed]",
      "text/plain": [
       "<matplotlib.figure.Figure at 0x7f07b118fd30>"
      ]
     },
     "metadata": {},
     "output_type": "display_data"
    }
   ],
   "source": [
    "sns.distplot(np.ceil(6*rand(10000)),hist = True, kde=False, norm_hist =True)\n",
    "def Dice(N):\n",
    "    return np.ceil(6*rand(N))"
   ]
  },
  {
   "cell_type": "code",
   "execution_count": 53,
   "metadata": {},
   "outputs": [
    {
     "name": "stdout",
     "output_type": "stream",
     "text": [
      "11 - 125432 p=0.125432\n",
      "12 - 115702 p=0.115702\n"
     ]
    },
    {
     "data": {
      "image/png": "[encoded data removed]",
      "text/plain": [
       "<matplotlib.figure.Figure at 0x7f07b0652da0>"
      ]
     },
     "metadata": {},
     "output_type": "display_data"
    }
   ],
   "source": [
    "N =1000000\n",
    "t = Dice(N) + Dice(N) + Dice(N)\n",
    "sns.distplot(t,hist = True, kde=False, norm_hist =True)\n",
    "print('11 - ' + str(sum(t==11)) +' p=' + str(sum(t==11)/N))\n",
    "print('12 - ' + str(sum(t==12)) +' p=' + str(sum(t==12)/N))"
   ]
  },
  {
   "cell_type": "code",
   "execution_count": 55,
   "metadata": {},
   "outputs": [
    {
     "name": "stdout",
     "output_type": "stream",
     "text": [
      "0.125\n",
      "0.11574074074074074\n"
     ]
    }
   ],
   "source": [
    "ans11 = 0\n",
    "ans12 = 0\n",
    "for i in range(1,7):\n",
    "    for k in range(1,7):\n",
    "        for c in range(1,7):\n",
    "            if i+k+c == 11:\n",
    "                ans11 = ans11 + 1\n",
    "            if i+k+c == 12:\n",
    "                ans12 = ans12 + 1\n",
    "print(ans11/(6**3))\n",
    "print(ans12/(6**3))"
   ]
  },
  {
   "cell_type": "code",
   "execution_count": null,
   "metadata": {},
   "outputs": [],
   "source": [
    "\n"
   ]
  },
  {
   "cell_type": "code",
   "execution_count": null,
   "metadata": {
    "collapsed": true
   },
   "outputs": [],
   "source": []
  }
 ],
 "metadata": {
  "kernelspec": {
   "display_name": "Python 3",
   "language": "python",
   "name": "python3"
  },
  "language_info": {
   "codemirror_mode": {
    "name": "ipython",
    "version": 3
   },
   "file_extension": ".py",
   "mimetype": "text/x-python",
   "name": "python",
   "nbconvert_exporter": "python",
   "pygments_lexer": "ipython3",
   "version": "3.6.1"
  }
 },
 "nbformat": 4,
 "nbformat_minor": 2
}
